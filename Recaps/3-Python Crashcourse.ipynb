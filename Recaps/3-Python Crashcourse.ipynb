{
 "cells": [
  {
   "cell_type": "markdown",
   "metadata": {},
   "source": [
    "# Start"
   ]
  },
  {
   "cell_type": "code",
   "execution_count": 1,
   "metadata": {
    "colab": {
     "base_uri": "https://localhost:8080/"
    },
    "id": "T2V-VMVlf-u0",
    "outputId": "2e01524d-586c-4d37-cb4e-8b9ab91f219e"
   },
   "outputs": [
    {
     "name": "stdout",
     "output_type": "stream",
     "text": [
      "Hello world!\n"
     ]
    }
   ],
   "source": [
    "print(\"Hello world!\")"
   ]
  },
  {
   "cell_type": "code",
   "execution_count": null,
   "metadata": {
    "colab": {
     "base_uri": "https://localhost:8080/"
    },
    "id": "64nqi9Tohl0t",
    "outputId": "55e83f44-d176-49f5-8263-4ee569a37536"
   },
   "outputs": [
    {
     "name": "stdout",
     "output_type": "stream",
     "text": [
      "123\n"
     ]
    }
   ],
   "source": [
    "print(123)"
   ]
  },
  {
   "cell_type": "code",
   "execution_count": null,
   "metadata": {
    "colab": {
     "base_uri": "https://localhost:8080/"
    },
    "id": "M3jjeV5ziMK5",
    "outputId": "0f617ff5-c219-49e0-804e-6a7fccb47203"
   },
   "outputs": [
    {
     "name": "stdout",
     "output_type": "stream",
     "text": [
      "Hello world!\n"
     ]
    }
   ],
   "source": [
    "# variable\n",
    "message = \"Hello world!\"\n",
    "print(message)"
   ]
  },
  {
   "cell_type": "code",
   "execution_count": null,
   "metadata": {
    "colab": {
     "base_uri": "https://localhost:8080/"
    },
    "id": "LiUexG5NijX2",
    "outputId": "c2771e70-2cf4-4b64-d653-903aeabbce2d"
   },
   "outputs": [
    {
     "name": "stdout",
     "output_type": "stream",
     "text": [
      "123\n"
     ]
    }
   ],
   "source": [
    "# assigning number to a variable\n",
    "x = 123\n",
    "print(x)"
   ]
  },
  {
   "cell_type": "markdown",
   "metadata": {},
   "source": [
    "# Data Types"
   ]
  },
  {
   "cell_type": "code",
   "execution_count": null,
   "metadata": {
    "colab": {
     "base_uri": "https://localhost:8080/"
    },
    "id": "lQ2OVeTUi1k7",
    "outputId": "ad8a4541-386e-485b-cfa6-f474be1393e2"
   },
   "outputs": [
    {
     "data": {
      "text/plain": [
       "str"
      ]
     },
     "execution_count": 17,
     "metadata": {},
     "output_type": "execute_result"
    }
   ],
   "source": [
    "# strings\n",
    "var1 = \"This is a string\"\n",
    "var2 = 'This is also a string'\n",
    "\n",
    "type(var1)"
   ]
  },
  {
   "cell_type": "code",
   "execution_count": null,
   "metadata": {
    "colab": {
     "base_uri": "https://localhost:8080/"
    },
    "id": "Txlaxqk8jtBC",
    "outputId": "995514a8-2fff-4fa2-c273-6ea3097b3b06"
   },
   "outputs": [
    {
     "data": {
      "text/plain": [
       "int"
      ]
     },
     "execution_count": 18,
     "metadata": {},
     "output_type": "execute_result"
    }
   ],
   "source": [
    "# integers\n",
    "var3 = 123\n",
    "var4 = -345\n",
    "\n",
    "type(var3)"
   ]
  },
  {
   "cell_type": "code",
   "execution_count": null,
   "metadata": {
    "colab": {
     "base_uri": "https://localhost:8080/"
    },
    "id": "xu4WlZK1kW88",
    "outputId": "449c3f32-1976-4226-8c5c-4557b722a267"
   },
   "outputs": [
    {
     "data": {
      "text/plain": [
       "float"
      ]
     },
     "execution_count": 22,
     "metadata": {},
     "output_type": "execute_result"
    }
   ],
   "source": [
    "# floating points\n",
    "var5 = -12.34\n",
    "var6 = 1.0\n",
    "type(var6)"
   ]
  },
  {
   "cell_type": "code",
   "execution_count": 7,
   "metadata": {
    "colab": {
     "base_uri": "https://localhost:8080/"
    },
    "id": "tdCJJnSRkILA",
    "outputId": "512ed63a-8778-4533-ede3-e8126e938157"
   },
   "outputs": [
    {
     "data": {
      "text/plain": [
       "bool"
      ]
     },
     "execution_count": 7,
     "metadata": {},
     "output_type": "execute_result"
    }
   ],
   "source": [
    "# booleans\n",
    "var7 = True\n",
    "var8 = False\n",
    "\n",
    "# must print\n",
    "# print(type(var7))\n",
    "type(var8)"
   ]
  },
  {
   "cell_type": "code",
   "execution_count": 8,
   "metadata": {
    "colab": {
     "base_uri": "https://localhost:8080/"
    },
    "id": "8X7PdtDHk3Lz",
    "outputId": "76e0455d-e44a-4598-c24c-56a3cea7b50c"
   },
   "outputs": [
    {
     "data": {
      "text/plain": [
       "str"
      ]
     },
     "execution_count": 8,
     "metadata": {},
     "output_type": "execute_result"
    }
   ],
   "source": [
    "var9 = \"123\"\n",
    "type(var9)"
   ]
  },
  {
   "cell_type": "code",
   "execution_count": 9,
   "metadata": {
    "colab": {
     "base_uri": "https://localhost:8080/"
    },
    "id": "AiqVynMtlfxe",
    "outputId": "070cd9ec-055a-4929-d0e5-63e9998510fc"
   },
   "outputs": [
    {
     "name": "stdout",
     "output_type": "stream",
     "text": [
      "z = 0.5 it's type is <class 'float'>\n"
     ]
    }
   ],
   "source": [
    "# assign variables\n",
    "x = 1\n",
    "y = 2\n",
    "\n",
    "# assign result to new variable\n",
    "z = x / y\n",
    "\n",
    "# print the information (data)\n",
    "print(\"z =\", z, \"it's type is\", type(z))"
   ]
  },
  {
   "cell_type": "markdown",
   "metadata": {
    "id": "-MtiXGzGnA-v"
   },
   "source": [
    "# Objects\n",
    "\n",
    "An object is defined by its\n",
    "* attributes/properties (data/information) and\n",
    "* methods/functions (what it does)."
   ]
  },
  {
   "cell_type": "markdown",
   "metadata": {},
   "source": [
    "# Integer Methods"
   ]
  },
  {
   "cell_type": "code",
   "execution_count": 19,
   "metadata": {
    "colab": {
     "base_uri": "https://localhost:8080/"
    },
    "id": "LpJU3Ib6m4og",
    "outputId": "9e7d19eb-1f8f-4b0b-cc40-18d6acbb64c7"
   },
   "outputs": [
    {
     "name": "stdout",
     "output_type": "stream",
     "text": [
      "13 + 3 = 16\n",
      "13 - 3 = 10\n",
      "13 * 3 = 39\n",
      "13 / 3 = 4.333333333333333\n",
      "13**3 = 2197\n",
      "13 // 3 = 4\n",
      "13 % 3 = 3\n"
     ]
    }
   ],
   "source": [
    "x = 13\n",
    "y = 3\n",
    "\n",
    "# addition\n",
    "print(f'{x} + {y} =', x + y)\n",
    "\n",
    "# subtraction\n",
    "print(f'{x} - {y} =', x - y)\n",
    "\n",
    "# multiplication\n",
    "print(f'{x} * {y} =', x * y)\n",
    "\n",
    "# division\n",
    "print(f'{x} / {y} =', x / y)\n",
    "\n",
    "# exponents\n",
    "print(f'{x}**{y} =', x**y)\n",
    "\n",
    "# integer division\n",
    "print(f'{x} // {y} =', x // y)\n",
    "\n",
    "# modulus\n",
    "print(f'{x} % {y} =', y % x)"
   ]
  },
  {
   "cell_type": "markdown",
   "metadata": {
    "id": "ROWcNDNCuqSe"
   },
   "source": [
    "Note on integer division and modulo:\n",
    "\n",
    "$$\\begin{align}\n",
    "    \\frac{13}{3}\n",
    "    &= 4 + \\frac{1}{3} \\\\\n",
    "    &= n + \\frac{m}{3}\n",
    "\\end{align}$$\n",
    "\n",
    "```\n",
    "13 // 3 = n = 4\n",
    "13 % 3 = m = 1\n",
    "```"
   ]
  },
  {
   "cell_type": "markdown",
   "metadata": {},
   "source": [
    "# String Methods"
   ]
  },
  {
   "cell_type": "code",
   "execution_count": 20,
   "metadata": {
    "colab": {
     "base_uri": "https://localhost:8080/"
    },
    "id": "uTqaFOjUvyT8",
    "outputId": "152e8a07-9119-4c7a-c1c6-ab800b5f1285"
   },
   "outputs": [
    {
     "name": "stdout",
     "output_type": "stream",
     "text": [
      "313\n"
     ]
    }
   ],
   "source": [
    "# \"adding\" strings\n",
    "x = '3'\n",
    "y = '13'\n",
    "\n",
    "print(x + y)"
   ]
  },
  {
   "cell_type": "code",
   "execution_count": 21,
   "metadata": {
    "colab": {
     "base_uri": "https://localhost:8080/"
    },
    "id": "oSj6_7KovJ20",
    "outputId": "fec3014a-5e49-408c-d9e5-5b49fcbe7de8"
   },
   "outputs": [
    {
     "name": "stdout",
     "output_type": "stream",
     "text": [
      "hello world\n",
      "hello world\n",
      "HELLO\n",
      "world\n",
      "Hello World\n",
      "Hello World\n",
      "hello World\n"
     ]
    }
   ],
   "source": [
    "# string operations\n",
    "str1 = \"hello\"\n",
    "str2 = \"world\"\n",
    "\n",
    "# concatenation\n",
    "print(str1 + \" \" + str2)\n",
    "print(str1, str2)\n",
    "\n",
    "# upper/lower casing\n",
    "print(str1.upper())\n",
    "print(\"World\".lower())\n",
    "print(str1.title(), str2.title())\n",
    "print((str1 + \" \" + str2).title())\n",
    "\n",
    "print(str1 + \" \" + str2.title())"
   ]
  },
  {
   "cell_type": "code",
   "execution_count": 25,
   "metadata": {
    "colab": {
     "base_uri": "https://localhost:8080/"
    },
    "id": "ZmA-nQKtyylS",
    "outputId": "77304fa4-c0bb-4ba3-f84d-c137c27a665f"
   },
   "outputs": [
    {
     "data": {
      "text/plain": [
       "'A'"
      ]
     },
     "execution_count": 25,
     "metadata": {},
     "output_type": "execute_result"
    }
   ],
   "source": [
    "# indexing (starts at 0)\n",
    "\"ABC\"[0]"
   ]
  },
  {
   "cell_type": "code",
   "execution_count": 29,
   "metadata": {
    "colab": {
     "base_uri": "https://localhost:8080/"
    },
    "id": "1aCvd-nUxRXr",
    "outputId": "5c929681-e6af-4556-9c0c-e5327158e572"
   },
   "outputs": [
    {
     "name": "stdout",
     "output_type": "stream",
     "text": [
      "ABCDEFG has 7 characters\n",
      "A\n",
      "B\n",
      "C\n",
      "F\n",
      "G\n"
     ]
    }
   ],
   "source": [
    "str1 = \"ABCDEFG\"\n",
    "\n",
    "# length (property)\n",
    "print(str1, \"has\", len(str1), \"characters\")\n",
    "\n",
    "# indexing\n",
    "print(str1[0]) # indexing 1st char\n",
    "print(str1[1]) # indexing 2nd char\n",
    "print(str1[2]) # indexing 3rd\n",
    "\n",
    "# reverse indexing\n",
    "print(str1[-2]) # indexing the 2nd last char\n",
    "print(str1[-1]) # indexing the (1st) last char"
   ]
  },
  {
   "cell_type": "code",
   "execution_count": 35,
   "metadata": {
    "colab": {
     "base_uri": "https://localhost:8080/"
    },
    "id": "APC3v2Oj1Lz1",
    "outputId": "24b19932-b717-4f08-ea5f-465c58fa8506"
   },
   "outputs": [
    {
     "name": "stdout",
     "output_type": "stream",
     "text": [
      "EFG\n",
      "EFG\n",
      "ABCDE\n",
      "ABCDE\n",
      "ACE\n",
      "AD\n"
     ]
    }
   ],
   "source": [
    "str1 = \"ABCDEFG\"\n",
    "\n",
    "# slicing\n",
    "print(str1[-3:len(str1)]) # slice last three chars\n",
    "print(str1[-3:]) # last three chars (with default indexing)\n",
    "\n",
    "print(str1[0:5]) # slice first five chars (index 0 to 4)\n",
    "print(str1[:5]) # slice first five chars (with default indexing)\n",
    "\n",
    "\n",
    "print(str1[:5:2]) # slice first five chars incrementing by 2\n",
    "print(str1[0:5:3]) # slice first five chars incrementing by 3"
   ]
  },
  {
   "cell_type": "markdown",
   "metadata": {},
   "source": [
    "# Boolean Methods"
   ]
  },
  {
   "cell_type": "code",
   "execution_count": 37,
   "metadata": {
    "colab": {
     "base_uri": "https://localhost:8080/"
    },
    "id": "MpgxoLRbrIDa",
    "outputId": "c44dcbe9-074e-465e-d7ff-632e4711476d"
   },
   "outputs": [
    {
     "name": "stdout",
     "output_type": "stream",
     "text": [
      "False\n",
      "False\n",
      "True\n"
     ]
    }
   ],
   "source": [
    "# booleans\n",
    "t = True\n",
    "f = False\n",
    "\n",
    "# not / negation: flips True to False and vice versa\n",
    "print(not t)\n",
    "\n",
    "# and / conjunction: True if ALL True, False if ANY False\n",
    "print(t and t and t and t and f)\n",
    "\n",
    "# or / disjunction: True if ANY True, False if ALL False\n",
    "print(t or f or f or f or f)"
   ]
  },
  {
   "cell_type": "code",
   "execution_count": 44,
   "metadata": {
    "colab": {
     "base_uri": "https://localhost:8080/"
    },
    "id": "IZBpLpme3g5s",
    "outputId": "267a7167-b284-4545-a573-9ba4d1dbd690"
   },
   "outputs": [
    {
     "name": "stdout",
     "output_type": "stream",
     "text": [
      "1 == 1:\t True\n",
      "1 > 1 :\t False\n",
      "1 >= 1:\t True\n",
      "1 < 1 :\t False\n",
      "1 <= 1:\t True\n"
     ]
    }
   ],
   "source": [
    "# comparison operators\n",
    "print('1 == 1:\\t', 1 == 1)\n",
    "\n",
    "print('1 > 1 :\\t', 1 > 1)\n",
    "\n",
    "print('1 >= 1:\\t', 1 >= 1)\n",
    "\n",
    "print('1 < 1 :\\t', 1 < 1)\n",
    "\n",
    "print('1 <= 1:\\t', 1 <= 1)"
   ]
  },
  {
   "cell_type": "code",
   "execution_count": 46,
   "metadata": {
    "colab": {
     "base_uri": "https://localhost:8080/"
    },
    "id": "3TokXor849ZE",
    "outputId": "05894d39-fcae-4e38-d1c7-3e30297b36d1"
   },
   "outputs": [
    {
     "name": "stdout",
     "output_type": "stream",
     "text": [
      "True\n",
      "False\n"
     ]
    }
   ],
   "source": [
    "# cases matter for string comparisons\n",
    "\n",
    "print(\"ABC\" == \"ABC\")\n",
    "print(\"ABC\" == \"ABc\")"
   ]
  },
  {
   "cell_type": "code",
   "execution_count": 47,
   "metadata": {
    "colab": {
     "base_uri": "https://localhost:8080/"
    },
    "id": "Ye4EIGxq5Awa",
    "outputId": "5a9b263a-aa57-416b-a683-fc97b1113958"
   },
   "outputs": [
    {
     "name": "stdout",
     "output_type": "stream",
     "text": [
      "True\n",
      "False\n"
     ]
    }
   ],
   "source": [
    "# check containing\n",
    "print(\"a\" in \"abc\")\n",
    "print(\"d\" in \"abc\")"
   ]
  },
  {
   "cell_type": "code",
   "execution_count": 49,
   "metadata": {
    "colab": {
     "base_uri": "https://localhost:8080/"
    },
    "id": "SNfX3GiR5rQI",
    "outputId": "13ed1cf6-559b-4fc5-f752-46fde9773c7c"
   },
   "outputs": [
    {
     "data": {
      "text/plain": [
       "False"
      ]
     },
     "execution_count": 49,
     "metadata": {},
     "output_type": "execute_result"
    }
   ],
   "source": [
    "# compounded boolean statements\n",
    "(\"e\" in \"abc\") and (\"b\" in \"abc\")"
   ]
  },
  {
   "cell_type": "markdown",
   "metadata": {
    "id": "jSZG0YLrCsqE"
   },
   "source": [
    "# If/Conditional Statements"
   ]
  },
  {
   "cell_type": "code",
   "execution_count": 62,
   "metadata": {
    "id": "vZmAOIDQ5i8S"
   },
   "outputs": [
    {
     "name": "stdout",
     "output_type": "stream",
     "text": [
      "It's Taco Tuesday!\n"
     ]
    }
   ],
   "source": [
    "# if statement\n",
    "\n",
    "is_tues = True\n",
    "\n",
    "if is_tues:\n",
    "    print(\"It's Taco Tuesday!\")\n"
   ]
  },
  {
   "cell_type": "code",
   "execution_count": 63,
   "metadata": {
    "colab": {
     "base_uri": "https://localhost:8080/"
    },
    "id": "Z_h7Bbcl5gF6",
    "outputId": "450383ca-99c0-495e-8fe0-88e325552cc6"
   },
   "outputs": [
    {
     "name": "stdout",
     "output_type": "stream",
     "text": [
      "No Taco's today :(\n"
     ]
    }
   ],
   "source": [
    "# else captures all other cases\n",
    "\n",
    "is_tues = False\n",
    "\n",
    "if is_tues:\n",
    "    print(\"It's Taco Tuesday!\")\n",
    "\n",
    "else:\n",
    "    print(\"No Taco's today :(\")"
   ]
  },
  {
   "cell_type": "code",
   "execution_count": 64,
   "metadata": {
    "colab": {
     "base_uri": "https://localhost:8080/"
    },
    "id": "xVWWzuZ94Dey",
    "outputId": "07726e2b-176f-40f8-da2e-983cba922066"
   },
   "outputs": [
    {
     "name": "stdout",
     "output_type": "stream",
     "text": [
      "We'll pack a lunch\n"
     ]
    }
   ],
   "source": [
    "# elif statement\n",
    "\n",
    "is_tues = False\n",
    "rest_open = False\n",
    "\n",
    "if is_tues and rest_open:\n",
    "    print(\"Let's go to the Taco restaurant\")\n",
    "\n",
    "elif rest_open:\n",
    "    print(\"We'll have fries today\")\n",
    "\n",
    "else:\n",
    "    print(\"We'll pack a lunch\")"
   ]
  },
  {
   "cell_type": "code",
   "execution_count": 69,
   "metadata": {
    "colab": {
     "base_uri": "https://localhost:8080/"
    },
    "id": "dba7BboM4nj7",
    "outputId": "1ea20536-9cdf-4f67-fd5b-08bf6b085cf7"
   },
   "outputs": [
    {
     "name": "stdout",
     "output_type": "stream",
     "text": [
      "Let's go to the Taco restaurant\n",
      "We'll have fries today\n"
     ]
    }
   ],
   "source": [
    "# two if statements are not the same as if statement with elif\n",
    "\n",
    "is_tues = True\n",
    "rest_open = True\n",
    "\n",
    "if is_tues and rest_open:\n",
    "    print(\"Let's go to the Taco restaurant\")\n",
    "\n",
    "if rest_open:\n",
    "    print(\"We'll have fries today\")"
   ]
  },
  {
   "cell_type": "code",
   "execution_count": 71,
   "metadata": {
    "colab": {
     "base_uri": "https://localhost:8080/"
    },
    "id": "s_1ceGsw45J-",
    "outputId": "149a5ef0-4691-4c5f-952e-907387409df7"
   },
   "outputs": [
    {
     "name": "stdout",
     "output_type": "stream",
     "text": [
      "Let's go to the Taco restaurant\n"
     ]
    }
   ],
   "source": [
    "# two if statements are not the same as if statement with elif\n",
    "\n",
    "is_tues = True\n",
    "rest_open = True\n",
    "\n",
    "if is_tues and rest_open:\n",
    "    print(\"Let's go to the Taco restaurant\")\n",
    "\n",
    "elif rest_open:\n",
    "    print(\"We'll have fries today\")"
   ]
  },
  {
   "cell_type": "markdown",
   "metadata": {
    "id": "aAQxIY2PCpkf"
   },
   "source": [
    "# Collections"
   ]
  },
  {
   "cell_type": "markdown",
   "metadata": {
    "id": "wFuLKXadC9n6"
   },
   "source": [
    "### List\n",
    "* Ordered\n",
    "* Mutable (changeable)"
   ]
  },
  {
   "cell_type": "code",
   "execution_count": 72,
   "metadata": {
    "colab": {
     "base_uri": "https://localhost:8080/"
    },
    "id": "Si7E8gjX46eD",
    "outputId": "52065ea3-982e-409e-e8e7-bcad736af54f"
   },
   "outputs": [
    {
     "name": "stdout",
     "output_type": "stream",
     "text": [
      "<class 'list'>\n",
      "3\n",
      "1\n",
      "[1, 2]\n"
     ]
    }
   ],
   "source": [
    "# lists\n",
    "list1 = [1, 2, 3]\n",
    "\n",
    "# check type name\n",
    "print(type(list1))\n",
    "\n",
    "# number of elements\n",
    "print(len(list1))\n",
    "\n",
    "# indexing\n",
    "print(list1[0])\n",
    "\n",
    "# slicing\n",
    "print(list1[:2])"
   ]
  },
  {
   "cell_type": "code",
   "execution_count": 78,
   "metadata": {
    "colab": {
     "base_uri": "https://localhost:8080/"
    },
    "id": "7DyFjwboCht_",
    "outputId": "fed53044-232b-4617-9cbd-87b4fdc62a05"
   },
   "outputs": [
    {
     "name": "stdout",
     "output_type": "stream",
     "text": [
      "[1, 2, 3]\n",
      "3\n",
      "[1, 2, 'c']\n"
     ]
    }
   ],
   "source": [
    "list1 = [1, 2, 3]\n",
    "\n",
    "# changing the list\n",
    "\n",
    "# original\n",
    "print(list1)\n",
    "\n",
    "# index third element\n",
    "print(list1[2])\n",
    "\n",
    "# reassign third element\n",
    "list1[2] = \"c\"\n",
    "print(list1)"
   ]
  },
  {
   "cell_type": "code",
   "execution_count": 86,
   "metadata": {
    "colab": {
     "base_uri": "https://localhost:8080/"
    },
    "id": "pgF67KUiDrok",
    "outputId": "9678ac57-83b0-4f55-bffa-68c941aa8a6b"
   },
   "outputs": [
    {
     "name": "stdout",
     "output_type": "stream",
     "text": [
      "Our island members:\n",
      "['Linda', 'Zeinab', 'Alex', 'Jack'] \n",
      "\n",
      "Alex is out:\n",
      "['Linda', 'Zeinab', 'Jack'] \n",
      "\n",
      "Add Alex is back, but he's at the end of the line:\n",
      "['Linda', 'Zeinab', 'Jack', 'Alex'] \n",
      "\n",
      "Insert Bob to index 2 position:\n",
      "['Linda', 'Zeinab', 'Bob', 'Jack', 'Alex'] \n",
      "\n"
     ]
    }
   ],
   "source": [
    "island = ['Linda', 'Zeinab', 'Alex', 'Jack']\n",
    "\n",
    "print(\"Our island members:\")\n",
    "print(island, '\\n')\n",
    "\n",
    "# get rid of Alex\n",
    "out = island.pop(2)\n",
    "\n",
    "print(out, 'is out:')\n",
    "print(island, '\\n')\n",
    "\n",
    "\n",
    "# add Alex back to end\n",
    "island.append(\"Alex\")\n",
    "\n",
    "print(\"Add Alex is back, but he's at the end of the line:\")\n",
    "print(island, '\\n')\n",
    "\n",
    "\n",
    "# insert Bob in third place\n",
    "island.insert(2, \"Bob\")\n",
    "\n",
    "print(\"Insert Bob to index 2 position:\")\n",
    "print(island, '\\n')"
   ]
  },
  {
   "cell_type": "code",
   "execution_count": 88,
   "metadata": {
    "colab": {
     "base_uri": "https://localhost:8080/"
    },
    "id": "4koLLKhSH7q6",
    "outputId": "e1dd1add-cd27-47ff-aadb-587391dd4af5"
   },
   "outputs": [
    {
     "name": "stdout",
     "output_type": "stream",
     "text": [
      "[1, 2, 3, 'a', 'b', 'c', 'd']\n"
     ]
    }
   ],
   "source": [
    "list1 = [1, 2, 3]\n",
    "list2 = ['a', 'b', 'c']\n",
    "\n",
    "# join two lists and assign to variable\n",
    "list3 = list1 + list2\n",
    "\n",
    "# no \"=\" assignment needed for . methods\n",
    "list3.append('d')\n",
    "print(list3)"
   ]
  },
  {
   "cell_type": "code",
   "execution_count": 90,
   "metadata": {
    "colab": {
     "base_uri": "https://localhost:8080/"
    },
    "id": "a2t2Sl3HJuP_",
    "outputId": "37f53f97-9523-4af4-e0ee-09672c6c2f36"
   },
   "outputs": [
    {
     "name": "stdout",
     "output_type": "stream",
     "text": [
      "[1, 3, 4, 2]\n",
      "[1, 2, 3, 4]\n",
      "[4, 3, 2, 1]\n"
     ]
    }
   ],
   "source": [
    "mylist = [1, 3, 4, 2]\n",
    "\n",
    "# print original list\n",
    "print(mylist)\n",
    "\n",
    "# print list sorted from lowerst to highest\n",
    "print(sorted(mylist))\n",
    "\n",
    "# print list sorted in reverse order\n",
    "print(sorted(mylist, reverse=True))"
   ]
  },
  {
   "cell_type": "code",
   "execution_count": 92,
   "metadata": {
    "colab": {
     "base_uri": "https://localhost:8080/"
    },
    "id": "rUy8MR-III1t",
    "outputId": "9799c896-08ad-4dca-a581-b25e2954edcd"
   },
   "outputs": [
    {
     "name": "stdout",
     "output_type": "stream",
     "text": [
      "Original: [2, 1, 3, 1.231, 431.2]\n",
      "Sorted (ascending): [1, 1.231, 2, 3, 431.2]\n",
      "Sorted (descending): [431.2, 3, 2, 1.231, 1]\n"
     ]
    }
   ],
   "source": [
    "x, y, z = 1, 2, 3\n",
    "\n",
    "mylist = [y, x, z, 1.231, 431.2]\n",
    "print('Original:', mylist)\n",
    "\n",
    "print('Sorted (ascending):', sorted(mylist))\n",
    "print('Sorted (descending):', sorted(mylist, reverse=True))"
   ]
  },
  {
   "cell_type": "code",
   "execution_count": 93,
   "metadata": {
    "colab": {
     "base_uri": "https://localhost:8080/"
    },
    "id": "BGfoyoS4IMtr",
    "outputId": "ce93cc9d-5a22-4d8f-b7ed-df59d4cd6e81"
   },
   "outputs": [
    {
     "data": {
      "text/plain": [
       "[431.2, 3, 2, 1.231, 1]"
      ]
     },
     "execution_count": 93,
     "metadata": {},
     "output_type": "execute_result"
    }
   ],
   "source": [
    "sorted(mylist, reverse=True)"
   ]
  },
  {
   "cell_type": "markdown",
   "metadata": {
    "id": "87CaEfVDDEL_"
   },
   "source": [
    "### Tuples\n",
    "* Ordered\n",
    "* Unmutable"
   ]
  },
  {
   "cell_type": "markdown",
   "metadata": {
    "id": "v2vheNDeDJhs"
   },
   "source": [
    "### Sets\n",
    "* Unordered\n",
    "* Unique"
   ]
  },
  {
   "cell_type": "markdown",
   "metadata": {
    "id": "31vWpsEoDP5u"
   },
   "source": [
    "### Dictionary\n",
    "* Key-value pair\n",
    "* Unique keys"
   ]
  },
  {
   "cell_type": "code",
   "execution_count": null,
   "metadata": {
    "id": "R8JsMYlTKbFT"
   },
   "outputs": [],
   "source": []
  },
  {
   "cell_type": "markdown",
   "metadata": {
    "id": "IXiFESdOLe7P"
   },
   "source": [
    "# Loops/Iterations"
   ]
  },
  {
   "cell_type": "code",
   "execution_count": 95,
   "metadata": {
    "colab": {
     "base_uri": "https://localhost:8080/"
    },
    "id": "E5FxWuO0Lpgq",
    "outputId": "bcd73676-e3db-464e-a52c-03f473892261"
   },
   "outputs": [
    {
     "name": "stdout",
     "output_type": "stream",
     "text": [
      "a\n",
      "b\n",
      "c\n"
     ]
    }
   ],
   "source": [
    "list1 = ['a', 'b', 'c']\n",
    "\n",
    "# print each element (manually)\n",
    "x = list1[0]\n",
    "print(x)\n",
    "\n",
    "x = list1[1]\n",
    "print(x)\n",
    "\n",
    "x = list1[2]\n",
    "print(x)"
   ]
  },
  {
   "cell_type": "code",
   "execution_count": 96,
   "metadata": {},
   "outputs": [
    {
     "name": "stdout",
     "output_type": "stream",
     "text": [
      "a\n",
      "b\n",
      "c\n"
     ]
    }
   ],
   "source": [
    "# print with loop\n",
    "\n",
    "for x in list1:\n",
    "    print(x)"
   ]
  },
  {
   "cell_type": "code",
   "execution_count": 97,
   "metadata": {
    "colab": {
     "base_uri": "https://localhost:8080/"
    },
    "id": "lDlblQ6YL6GX",
    "outputId": "9dd2a11b-1722-4120-918e-6d207230f526"
   },
   "outputs": [
    {
     "name": "stdout",
     "output_type": "stream",
     "text": [
      "Linda\n",
      "Zeinab\n",
      "Alex\n",
      "Jack\n"
     ]
    }
   ],
   "source": [
    "island = ['Linda', 'Zeinab', 'Alex', 'Jack']\n",
    "\n",
    "for person in island:\n",
    "    print(person)"
   ]
  },
  {
   "cell_type": "code",
   "execution_count": 98,
   "metadata": {
    "colab": {
     "base_uri": "https://localhost:8080/"
    },
    "id": "O4UFWP0vMOOn",
    "outputId": "8f89f617-0fb5-44fb-ccc4-6ae3b1123bb4"
   },
   "outputs": [
    {
     "name": "stdout",
     "output_type": "stream",
     "text": [
      "Hej Linda!\n",
      "Hej Zeinab!\n",
      "Hej Alex!\n",
      "Hej Jack!\n"
     ]
    }
   ],
   "source": [
    "island = ['Linda', 'Zeinab', 'Alex', 'Jack']\n",
    "\n",
    "for person in island:\n",
    "\n",
    "    print(\"Hej\", person + \"!\")"
   ]
  },
  {
   "cell_type": "code",
   "execution_count": 99,
   "metadata": {
    "colab": {
     "base_uri": "https://localhost:8080/"
    },
    "id": "ozDhKd37M7b_",
    "outputId": "de1e5074-fcb9-4ade-82f9-dd97590d9c99"
   },
   "outputs": [
    {
     "name": "stdout",
     "output_type": "stream",
     "text": [
      "Hej Linda!\n",
      "Hej Zeinab!\n",
      "Bonjour Alex!\n",
      "Hej Jack!\n"
     ]
    }
   ],
   "source": [
    "island = ['Linda', 'Zeinab', 'Alex', 'Jack']\n",
    "\n",
    "for person in island:\n",
    "\n",
    "    if person == \"Alex\":\n",
    "        print(\"Bonjour\", person+\"!\")\n",
    "  \n",
    "    else:\n",
    "        print(\"Hej\", person+\"!\")"
   ]
  },
  {
   "cell_type": "code",
   "execution_count": 100,
   "metadata": {
    "colab": {
     "base_uri": "https://localhost:8080/"
    },
    "id": "uOXt2ITXNROY",
    "outputId": "6991c072-9516-4682-94d0-a5f8756cb6af"
   },
   "outputs": [
    {
     "name": "stdout",
     "output_type": "stream",
     "text": [
      "Hi Linda!\n",
      "Hej Zeinab!\n",
      "Hi Alex!\n",
      "Hi Jack!\n",
      "Hej Oskar!\n",
      "Hej Rebecca!\n"
     ]
    }
   ],
   "source": [
    "island = [[\"Linda\", \"SP\"], [\"Zeinab\", \"SV\"], [\"Alex\", \"FR\"], [\"Jack\", \"EN\"], [\"Oskar\", \"SV\"], [\"Rebecca\", \"SV\"]]\n",
    "\n",
    "for person in island:\n",
    "  \n",
    "    name = person[0]\n",
    "    lang = person[1]\n",
    "\n",
    "    if lang == \"SV\":\n",
    "        print(\"Hej\", name+\"!\")\n",
    "    else:\n",
    "        print(\"Hi\", name+\"!\")"
   ]
  },
  {
   "cell_type": "code",
   "execution_count": 101,
   "metadata": {
    "colab": {
     "base_uri": "https://localhost:8080/"
    },
    "id": "pTO0sRqbTfJZ",
    "outputId": "3334a941-6fbe-4e60-b148-5299632aef1a"
   },
   "outputs": [
    {
     "name": "stdout",
     "output_type": "stream",
     "text": [
      "Hola Linda!\n",
      "Hej Zeinab!\n",
      "Bonjour Alex!\n",
      "Hi Jack!\n",
      "Hej Oskar!\n",
      "Hi Rebecca! How do you say hello in your language?\n"
     ]
    }
   ],
   "source": [
    "island = [[\"Linda\", \"SP\"], [\"Zeinab\", \"SV\"], [\"Alex\", \"FR\"], [\"Jack\", \"EN\"], [\"Oskar\", \"SV\"], [\"Rebecca\", \"GE\"]]\n",
    "\n",
    "langs = {'SP':'Hola', 'SV' : 'Hej', 'FR' : 'Bonjour', 'EN' : 'Hi'}\n",
    "\n",
    "for person in island:\n",
    "  \n",
    "    name = person[0]\n",
    "    lang = person[1]\n",
    "\n",
    "    if lang in langs:\n",
    "        print(langs[lang], name + '!')\n",
    "    else:\n",
    "        print(\"Hi\", name+\"!\", \"How do you say hello in your language?\")"
   ]
  }
 ],
 "metadata": {
  "colab": {
   "collapsed_sections": [
    "-MtiXGzGnA-v",
    "ROWcNDNCuqSe",
    "jSZG0YLrCsqE"
   ],
   "name": "Python Crash Course.ipynb",
   "provenance": []
  },
  "kernelspec": {
   "display_name": "Python 3",
   "language": "python",
   "name": "python3"
  },
  "language_info": {
   "codemirror_mode": {
    "name": "ipython",
    "version": 3
   },
   "file_extension": ".py",
   "mimetype": "text/x-python",
   "name": "python",
   "nbconvert_exporter": "python",
   "pygments_lexer": "ipython3",
   "version": "3.8.5"
  }
 },
 "nbformat": 4,
 "nbformat_minor": 1
}
