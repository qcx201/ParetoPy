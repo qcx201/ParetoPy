{
 "cells": [
  {
   "cell_type": "markdown",
   "id": "0a351380",
   "metadata": {},
   "source": [
    "# A. Intro"
   ]
  },
  {
   "cell_type": "code",
   "execution_count": 26,
   "id": "0df2c25d",
   "metadata": {},
   "outputs": [
    {
     "name": "stdout",
     "output_type": "stream",
     "text": [
      "Hello world\n"
     ]
    }
   ],
   "source": [
    "# my first (?) program\n",
    "print(\"Hello world\")"
   ]
  },
  {
   "cell_type": "markdown",
   "id": "9786b9dc",
   "metadata": {},
   "source": [
    "### Markdown\n",
    "Markdown is useful for formatting expository text"
   ]
  },
  {
   "cell_type": "markdown",
   "id": "8a087856",
   "metadata": {},
   "source": [
    "# header 1\n",
    "## header 2\n",
    "### header 3\n",
    "#### header 4\n",
    "##### header 5\n",
    "##### header 6"
   ]
  },
  {
   "cell_type": "markdown",
   "id": "c3dfde89",
   "metadata": {},
   "source": [
    "*italics*\n",
    "\n",
    "**bold**\n",
    "\n",
    "***bold italics***"
   ]
  },
  {
   "cell_type": "markdown",
   "id": "317ae488",
   "metadata": {},
   "source": [
    "\n",
    "* bullet points\n",
    "\n",
    "* bullet points\n",
    "\n",
    "1. enumeration\n",
    "\n",
    "2. enumeration"
   ]
  },
  {
   "cell_type": "markdown",
   "id": "d54d9036",
   "metadata": {},
   "source": [
    "```python\n",
    "# code formatting\n",
    "print(\"Hello world\")\n",
    "```"
   ]
  },
  {
   "cell_type": "markdown",
   "id": "f9dbbfc4",
   "metadata": {},
   "source": [
    "LaTex math equations: $e^{i\\pi} + 1 = 0$\n",
    "\n",
    "Multi-line equations:\n",
    "$$\\begin{align}\n",
    "    f(x) = ax^n, n \\in \\mathbb{Z} \\setminus \\{0\\} &\\implies f'(x) = a n x^{n-1}\n",
    "    \\\\&\\implies\n",
    "    f^{(m)}(x) = a {n! \\over (n-m)!} x^{n-m}\n",
    "\\end{align}$$"
   ]
  },
  {
   "cell_type": "markdown",
   "id": "0e568683",
   "metadata": {},
   "source": [
    "## Discussion Questions\n",
    "\n",
    "What is programming?\n",
    "\n",
    "What is object-oriented programming (OOP)?\n",
    "\n",
    "What is an object?\n",
    "* attributes/properties\n",
    "* methods/functions"
   ]
  },
  {
   "cell_type": "markdown",
   "id": "c33c5a53",
   "metadata": {},
   "source": [
    "# B-C. Variables and Data Types"
   ]
  },
  {
   "cell_type": "code",
   "execution_count": 28,
   "id": "96c2e5fd",
   "metadata": {},
   "outputs": [
    {
     "name": "stdout",
     "output_type": "stream",
     "text": [
      "20\n",
      "6\n",
      "91\n",
      "1.8571428571428572\n",
      "1\n",
      "6\n"
     ]
    }
   ],
   "source": [
    "# math operators\n",
    "print(13 + 7)  # addition\n",
    "print(13 - 7)  # subtraction\n",
    "print(13 * 7)  # multiplication\n",
    "print(13 / 7)  # division\n",
    "print(13 // 7) # integer divison\n",
    "print(13 % 7)  # modulo"
   ]
  },
  {
   "cell_type": "markdown",
   "id": "645c2a36",
   "metadata": {},
   "source": [
    "#### Integer division and modulo explained\n",
    "\n",
    "$$\n",
    "\\forall x, y \\in \\mathbb{Z}, y \\ne 0, \\quad \\exists n, m \\in \\mathbb{Z} \\quad\\text{s.t.}\\quad \\frac{x}{y} = n + \\frac{m}{y}\n",
    "\\implies x // y = n, \\quad x \\% y = m \\\\\n",
    "$$\n",
    "\n",
    "In words, for any integers $x, y$ where $y \\ne 0$, there are two integers $n, m$ that satisfies the equation:\n",
    "\n",
    "$${x \\over y} = n + \\frac{m}{y}.$$\n",
    "\n",
    "The integer quotient of $x$ over $y$ is then $n$, and the modulus of $x$ over $y$ is $m$."
   ]
  },
  {
   "cell_type": "code",
   "execution_count": 27,
   "id": "9d4ab72c",
   "metadata": {},
   "outputs": [
    {
     "name": "stdout",
     "output_type": "stream",
     "text": [
      "12 °C = 53.6 °F\n"
     ]
    }
   ],
   "source": [
    "# variables\n",
    "celsius = 12\n",
    "fahrenheit = (celsius * 9/5) + 32\n",
    "\n",
    "print(celsius, '°C =', fahrenheit, '°F')"
   ]
  },
  {
   "cell_type": "markdown",
   "id": "e5777b78",
   "metadata": {},
   "source": [
    "### Primitive Data Types"
   ]
  },
  {
   "cell_type": "code",
   "execution_count": 4,
   "id": "c7af5140",
   "metadata": {},
   "outputs": [
    {
     "data": {
      "text/plain": [
       "int"
      ]
     },
     "execution_count": 4,
     "metadata": {},
     "output_type": "execute_result"
    }
   ],
   "source": [
    "# integer\n",
    "x = 1\n",
    "type(x)"
   ]
  },
  {
   "cell_type": "code",
   "execution_count": 5,
   "id": "d379e91d",
   "metadata": {},
   "outputs": [
    {
     "data": {
      "text/plain": [
       "float"
      ]
     },
     "execution_count": 5,
     "metadata": {},
     "output_type": "execute_result"
    }
   ],
   "source": [
    "# float\n",
    "x = 1.0\n",
    "type(x)"
   ]
  },
  {
   "cell_type": "code",
   "execution_count": 6,
   "id": "6fd3f41e",
   "metadata": {},
   "outputs": [
    {
     "data": {
      "text/plain": [
       "str"
      ]
     },
     "execution_count": 6,
     "metadata": {},
     "output_type": "execute_result"
    }
   ],
   "source": [
    "# string\n",
    "x = '1.0'\n",
    "type(x)"
   ]
  },
  {
   "cell_type": "code",
   "execution_count": 7,
   "id": "46c5bb3c",
   "metadata": {},
   "outputs": [
    {
     "data": {
      "text/plain": [
       "bool"
      ]
     },
     "execution_count": 7,
     "metadata": {},
     "output_type": "execute_result"
    }
   ],
   "source": [
    "# boolean\n",
    "x = True\n",
    "type(x)"
   ]
  },
  {
   "cell_type": "markdown",
   "id": "e239d4bd",
   "metadata": {},
   "source": [
    "### (Built-in) Data Structures"
   ]
  },
  {
   "cell_type": "code",
   "execution_count": 8,
   "id": "095a42c5",
   "metadata": {},
   "outputs": [
    {
     "data": {
      "text/plain": [
       "set"
      ]
     },
     "execution_count": 8,
     "metadata": {},
     "output_type": "execute_result"
    }
   ],
   "source": [
    "# set\n",
    "# unordered collection\n",
    "x = {1, 2, 3}\n",
    "type(x)"
   ]
  },
  {
   "cell_type": "code",
   "execution_count": 9,
   "id": "7be0cd1a",
   "metadata": {},
   "outputs": [
    {
     "data": {
      "text/plain": [
       "tuple"
      ]
     },
     "execution_count": 9,
     "metadata": {},
     "output_type": "execute_result"
    }
   ],
   "source": [
    "# tuple\n",
    "# immutable, ordered collection\n",
    "x = (1, 2, 3)\n",
    "type(x)"
   ]
  },
  {
   "cell_type": "code",
   "execution_count": 10,
   "id": "7008ed8b",
   "metadata": {},
   "outputs": [
    {
     "data": {
      "text/plain": [
       "list"
      ]
     },
     "execution_count": 10,
     "metadata": {},
     "output_type": "execute_result"
    }
   ],
   "source": [
    "# list\n",
    "# mutable, ordered collection\n",
    "x = [1, 2, 3]\n",
    "type(x)"
   ]
  },
  {
   "cell_type": "code",
   "execution_count": 11,
   "id": "0e46e6ad",
   "metadata": {},
   "outputs": [
    {
     "data": {
      "text/plain": [
       "dict"
      ]
     },
     "execution_count": 11,
     "metadata": {},
     "output_type": "execute_result"
    }
   ],
   "source": [
    "# dictionary\n",
    "# key : value\n",
    "x = {'a' : 1, 'b' : 2, 'c' : 3}\n",
    "type(x)"
   ]
  },
  {
   "cell_type": "markdown",
   "id": "75eb5b33",
   "metadata": {},
   "source": [
    "# D. String Operators and Methods"
   ]
  },
  {
   "cell_type": "code",
   "execution_count": 21,
   "id": "3e62ed80",
   "metadata": {},
   "outputs": [
    {
     "name": "stdout",
     "output_type": "stream",
     "text": [
      "11\n",
      "1111111111\n"
     ]
    }
   ],
   "source": [
    "# concatentate operators\n",
    "s = '1'\n",
    "print(s + s)\n",
    "print(s * 10)"
   ]
  },
  {
   "cell_type": "code",
   "execution_count": 13,
   "id": "901799e0",
   "metadata": {},
   "outputs": [
    {
     "name": "stdout",
     "output_type": "stream",
     "text": [
      "Length of this string: 22\n"
     ]
    }
   ],
   "source": [
    "s = 'Length of this string:'\n",
    "print(s, len(s))"
   ]
  },
  {
   "cell_type": "code",
   "execution_count": 14,
   "id": "4481689f",
   "metadata": {},
   "outputs": [
    {
     "name": "stdout",
     "output_type": "stream",
     "text": [
      "H\n"
     ]
    }
   ],
   "source": [
    "# indexing\n",
    "s = 'Hello world'\n",
    "print(s[0])"
   ]
  },
  {
   "cell_type": "code",
   "execution_count": 15,
   "id": "3a872728",
   "metadata": {},
   "outputs": [
    {
     "name": "stdout",
     "output_type": "stream",
     "text": [
      "Waldo\n"
     ]
    }
   ],
   "source": [
    "# slicing\n",
    "s = 'Can you index the word \"Waldo?\"'\n",
    "print(s[24:29])"
   ]
  },
  {
   "cell_type": "code",
   "execution_count": 16,
   "id": "98bf7f1f",
   "metadata": {},
   "outputs": [
    {
     "name": "stdout",
     "output_type": "stream",
     "text": [
      "(24, 29)\n"
     ]
    }
   ],
   "source": [
    "# finding the index\n",
    "substr = 'Waldo'\n",
    "i = s.find(substr)\n",
    "print((i, i+len(substr)))"
   ]
  },
  {
   "cell_type": "code",
   "execution_count": 17,
   "id": "4c7f2ec0",
   "metadata": {},
   "outputs": [
    {
     "name": "stdout",
     "output_type": "stream",
     "text": [
      "THIS STRING HAD MIXED CASES\n",
      "this string had mixed cases\n"
     ]
    }
   ],
   "source": [
    "# character case\n",
    "s = 'ThIS sTring had MixED Cases'\n",
    "print(s.upper())\n",
    "print(s.lower())"
   ]
  },
  {
   "cell_type": "code",
   "execution_count": 18,
   "id": "2857f6ac",
   "metadata": {},
   "outputs": [
    {
     "name": "stdout",
     "output_type": "stream",
     "text": [
      "Hello, my name is Jack.\n"
     ]
    }
   ],
   "source": [
    "# replace\n",
    "name = 'Jack'\n",
    "s = 'Hello, my name is {name}.'.replace('{name}', name)\n",
    "print(s)"
   ]
  },
  {
   "cell_type": "code",
   "execution_count": 19,
   "id": "28e00ca3",
   "metadata": {},
   "outputs": [],
   "source": [
    "# split\n"
   ]
  },
  {
   "cell_type": "markdown",
   "id": "069a5d31",
   "metadata": {},
   "source": [
    "# Lists"
   ]
  },
  {
   "cell_type": "code",
   "execution_count": 22,
   "id": "6190eebe",
   "metadata": {},
   "outputs": [
    {
     "data": {
      "text/plain": [
       "[1, 2, 3, 4]"
      ]
     },
     "execution_count": 22,
     "metadata": {},
     "output_type": "execute_result"
    }
   ],
   "source": [
    "x = [1, 2, 3]\n",
    "x.append(4)\n",
    "x"
   ]
  },
  {
   "cell_type": "code",
   "execution_count": null,
   "id": "72e4e6d5",
   "metadata": {},
   "outputs": [],
   "source": []
  }
 ],
 "metadata": {
  "kernelspec": {
   "display_name": "Python 3",
   "language": "python",
   "name": "python3"
  },
  "language_info": {
   "codemirror_mode": {
    "name": "ipython",
    "version": 3
   },
   "file_extension": ".py",
   "mimetype": "text/x-python",
   "name": "python",
   "nbconvert_exporter": "python",
   "pygments_lexer": "ipython3",
   "version": "3.8.5"
  }
 },
 "nbformat": 4,
 "nbformat_minor": 5
}
