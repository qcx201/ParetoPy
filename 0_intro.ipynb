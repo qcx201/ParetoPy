{
  "cells": [
    {
      "cell_type": "markdown",
      "source": [
        "# Workshop 0: Introduction\n",
        "![Pareto Workshops](https://scontent.fbma5-1.fna.fbcdn.net/v/t39.30808-6/309349681_461364066025165_8844687256213341271_n.jpg?_nc_cat=102&ccb=1-7&_nc_sid=e3f864&_nc_ohc=hvFQDcM3ZnYAX_TTCAu&_nc_ht=scontent.fbma5-1.fna&oh=00_AfCD24uLpLSgdWIOVqkY25MQ4XnHqNAx5i0UhJZxMGcZiw&oe=63B1EF7D)"
      ],
      "metadata": {
        "id": "t5XRNyFAJaVp"
      }
    },
    {
      "cell_type": "markdown",
      "source": [
        "### Links\n",
        "\n",
        "Discord servers <br>\n",
        "[2022](https://discord.gg/GN32mnXfYK)\n",
        "[2021](https://discord.gg/HE2rXb4xYq)\n",
        "\n",
        "More challenges <br>\n",
        "[level 1](https://github.com/qcx201/learning/tree/master/L-1_Challenges)\n",
        "[level 2](https://github.com/qcx201/learning/tree/master/L-2_Challenges)\n",
        "\n",
        "Python course <br>\n",
        "[notes](https://github.com/ipeirotis/introduction-to-python/tree/master/notes)\n",
        "[videos](https://youtube.com/playlist?list=PLqAPn_b_yx0TBDqe5-AMSed6sYzMj9qkN)\n",
        "[topics](https://github.com/ipeirotis/dealing_with_data)\n",
        "\n",
        "QuantEcon <br>\n",
        "[lectures](https://quantecon.org/lectures/)\n",
        "\n",
        "Automate the boring stuff <br>\n",
        "[Contents](https://automatetheboringstuff.com/2e/)"
      ],
      "metadata": {
        "id": "N0HpqmQ9Sv9j"
      }
    },
    {
      "cell_type": "markdown",
      "metadata": {
        "id": "t_xvCEL2OtFI"
      },
      "source": [
        "# 0. Variables and strings"
      ]
    },
    {
      "cell_type": "markdown",
      "metadata": {
        "id": "NNTm6fgHRlAK"
      },
      "source": [
        "## 0.0. Hello world"
      ]
    },
    {
      "cell_type": "code",
      "execution_count": 119,
      "metadata": {
        "colab": {
          "base_uri": "https://localhost:8080/"
        },
        "id": "gvcXfglHQB-q",
        "outputId": "e86d85b3-be3f-4bf0-ebd7-09c0575e6343"
      },
      "outputs": [
        {
          "output_type": "stream",
          "name": "stdout",
          "text": [
            "Hello world!\n"
          ]
        }
      ],
      "source": [
        "# this is a comment\n",
        "print(\"Hello world!\")"
      ]
    },
    {
      "cell_type": "code",
      "execution_count": 120,
      "metadata": {
        "colab": {
          "base_uri": "https://localhost:8080/"
        },
        "id": "xpK0oS5iMANM",
        "outputId": "86e47c3a-5edb-4a09-da4d-e94fda4b3967"
      },
      "outputs": [
        {
          "output_type": "stream",
          "name": "stdout",
          "text": [
            "hello <class 'str'>\n",
            "3 <class 'int'>\n",
            "3.14 <class 'float'>\n",
            "True <class 'bool'>\n"
          ]
        }
      ],
      "source": [
        "# variables\n",
        "\n",
        "# string (text)\n",
        "myvar = 'hello'\n",
        "print(myvar, type(myvar))\n",
        "\n",
        "# integer\n",
        "myvar = 3\n",
        "print(myvar, type(myvar))\n",
        "\n",
        "# float (decimal)\n",
        "myvar = 3.14\n",
        "print(myvar, type(myvar))\n",
        "\n",
        "# boolean (True/False)\n",
        "myvar = True\n",
        "print(myvar, type(myvar))"
      ]
    },
    {
      "cell_type": "markdown",
      "source": [
        "Rules for variable names\n",
        "* Only letters, numbers, and `_` .\n",
        "* Cannot start with number: `1st_var` is 👎 but `var1` is 👍.\n",
        "* Case sensitive `myvar` $\\ne$ `Myvar` $\\ne$ `myVar`.\n",
        "* Do not use built-in object names (anything that lights up) like `print`.\n",
        "* Use descriptive names"
      ],
      "metadata": {
        "id": "5uWzSA7dNOHc"
      }
    },
    {
      "cell_type": "markdown",
      "metadata": {
        "id": "Vx6lWAK_RrLy"
      },
      "source": [
        "## 0.1. Concatenation"
      ]
    },
    {
      "cell_type": "code",
      "source": [
        "a = 'hello'\n",
        "b = 'world'\n",
        "\n",
        "c = a + ' ' + b"
      ],
      "metadata": {
        "id": "-pv5EkfA7htt"
      },
      "execution_count": 121,
      "outputs": []
    },
    {
      "cell_type": "code",
      "execution_count": 122,
      "metadata": {
        "colab": {
          "base_uri": "https://localhost:8080/"
        },
        "id": "CqnrgapjQGo3",
        "outputId": "dba4432a-71fd-4575-e8a2-72b219d2b26d"
      },
      "outputs": [
        {
          "output_type": "stream",
          "name": "stdout",
          "text": [
            "Hello world!\n"
          ]
        }
      ],
      "source": [
        "# assign variable\n",
        "a = \"Hello\"\n",
        "b = 'world!'\n",
        "\n",
        "print(a + ' ' + b)"
      ]
    },
    {
      "cell_type": "code",
      "execution_count": 123,
      "metadata": {
        "colab": {
          "base_uri": "https://localhost:8080/"
        },
        "id": "mUxz321fQSfc",
        "outputId": "d1506a70-723d-425a-c546-2def4447d1dd"
      },
      "outputs": [
        {
          "output_type": "stream",
          "name": "stdout",
          "text": [
            "12\n",
            "Hello world! Goodbye!\n"
          ]
        }
      ],
      "source": [
        "# concatenation\n",
        "x = \"1\"\n",
        "y = \"2\"\n",
        "\n",
        "# what is \"1\" + \"2\"?\n",
        "print(x + y)\n",
        "\n",
        "# \"adding\" strings\n",
        "s1 = \"Hello world!\"\n",
        "s2 = \"Goodbye!\"\n",
        "mystr = s1 + ' ' + s2\n",
        "\n",
        "print(mystr)"
      ]
    },
    {
      "cell_type": "markdown",
      "metadata": {
        "id": "5uvLB4bDSe4K"
      },
      "source": [
        "## 0.2. Indexing and slicing"
      ]
    },
    {
      "cell_type": "code",
      "execution_count": 124,
      "metadata": {
        "colab": {
          "base_uri": "https://localhost:8080/"
        },
        "id": "k1A1YhPUQeFh",
        "outputId": "939b4942-1bcd-45a0-d61c-77640381d1ca"
      },
      "outputs": [
        {
          "output_type": "stream",
          "name": "stdout",
          "text": [
            "a\n",
            "c\n",
            "g\n"
          ]
        }
      ],
      "source": [
        "# indexing\n",
        "\n",
        "mystr = 'abcdefg'\n",
        "\n",
        "# index 1st character (start index at 0)\n",
        "print(mystr[0])\n",
        "\n",
        "# 3rd character\n",
        "print(mystr[2])\n",
        "\n",
        "# last character\n",
        "print(mystr[-1])"
      ]
    },
    {
      "cell_type": "code",
      "execution_count": 125,
      "metadata": {
        "colab": {
          "base_uri": "https://localhost:8080/"
        },
        "id": "zjzhRp_HRG4a",
        "outputId": "6c1a8e56-c4c6-4b6a-fe28-ff0c52dc8ed8"
      },
      "outputs": [
        {
          "output_type": "stream",
          "name": "stdout",
          "text": [
            "hello\n",
            "hello\n",
            "world\n",
            "world\n",
            "hlowrd\n"
          ]
        }
      ],
      "source": [
        "# slicing\n",
        "\n",
        "mystr = 'hello world'\n",
        "\n",
        "# slice first word\n",
        "print(mystr[0:5])\n",
        "print(mystr[:5])\n",
        "\n",
        "# slicing from third character\n",
        "print(mystr[6:])\n",
        "print(mystr[-5:])\n",
        "\n",
        "# slice every second character\n",
        "print(mystr[::2])"
      ]
    },
    {
      "cell_type": "markdown",
      "metadata": {
        "id": "omL5WPYbUvj7"
      },
      "source": [
        "## 0.3. Other string methods\n",
        "\n",
        "See more string methods in this [documentation](https://www.w3schools.com/python/python_ref_string.asp)."
      ]
    },
    {
      "cell_type": "code",
      "execution_count": 126,
      "metadata": {
        "colab": {
          "base_uri": "https://localhost:8080/"
        },
        "id": "ytQg0KvZSbic",
        "outputId": "33168df7-6615-44ca-bc14-ebc5cccca655"
      },
      "outputs": [
        {
          "output_type": "stream",
          "name": "stdout",
          "text": [
            "Zvzry whzrz you szz an \"z\", changz it into an \"e.\"\n",
            "every where you see an \"e\", change it into an \"e.\"\n",
            "['every', 'where', 'you', 'see', 'an', '\"e\",', 'change', 'it', 'into', 'an', '\"e.\"']\n",
            "['every where you see an \"e\"', 'change it into an \"e.\"']\n",
            "every where you see an \"e\"|change it into an \"e.\"\n"
          ]
        }
      ],
      "source": [
        "mystring = 'Zvzry whzrz you szz an \"z\", changz it into an \"e.\"'\n",
        "print(mystring)\n",
        "\n",
        "# replace\n",
        "mystring = mystring.replace(\"z\", \"e\")\n",
        "\n",
        "# lower case then replace\n",
        "mystring = mystring.lower()\n",
        "mystring = mystring.replace(\"z\", \"e\")\n",
        "print(mystring)\n",
        "\n",
        "# split on space\n",
        "split1 = mystring.split()\n",
        "print(split1)\n",
        "\n",
        "# split on comma\n",
        "split2 = mystring.split(', ')\n",
        "print(split2)\n",
        "\n",
        "# join back together\n",
        "joined = \"|\".join(split2)\n",
        "print(joined)"
      ]
    },
    {
      "cell_type": "markdown",
      "metadata": {
        "id": "oJtsPlpzz_A0"
      },
      "source": [
        "## Challenges"
      ]
    },
    {
      "cell_type": "markdown",
      "metadata": {
        "id": "ykSgcv9FZDft"
      },
      "source": [
        "### A. Printing with 😎\n",
        "\n",
        "We can use ANSI escape codes to format font of python's print outputs. [Appendix I](#scrollTo=3pYQVn3QfX5g) contains a list of escape codes. Experiment and play around with them!\n",
        "\n",
        "Following the example below, recreate the following formatted text:\n",
        "\n",
        "&emsp; The <font color='red'>*Little Red Riding Hood*</font> was eaten by the <mark><u>**Big Bad Wolf!**</u></mark>"
      ]
    },
    {
      "cell_type": "code",
      "execution_count": 127,
      "metadata": {
        "colab": {
          "base_uri": "https://localhost:8080/"
        },
        "id": "lP5oOZf-UZ9L",
        "outputId": "b276faf3-9357-4e18-a1e5-a89414d6af07"
      },
      "outputs": [
        {
          "output_type": "stream",
          "name": "stdout",
          "text": [
            "Example: This \u001b[1m\u001b[4mword\u001b[0m is bold and underlined.\n"
          ]
        }
      ],
      "source": [
        "end = '\\033[0m'       # exit formatting\n",
        "bf = '\\033[1m'        # bold text\n",
        "it = '\\033[3m'        # italicize text\n",
        "ul = '\\033[4m'        # underline text\n",
        "red = '\\033[91m'      # red text\n",
        "y_bg = '\\033[103m'    # yellow background\n",
        "\n",
        "eg = 'This ' + bf + ul + 'word' + end + ' is bold and underlined.'\n",
        "print('Example:', eg)\n",
        "\n",
        "# your code here\n"
      ]
    },
    {
      "cell_type": "markdown",
      "metadata": {
        "id": "QGDmK89dNI5s"
      },
      "source": [
        "### B. Now I know my 🔡's\n",
        "\n",
        "Convert the strings into the ordered alphabet\n",
        "`abcdefghijklmnopqrstuvwxyzåäö`."
      ]
    },
    {
      "cell_type": "code",
      "execution_count": 128,
      "metadata": {
        "id": "LRthhio9NI5s"
      },
      "outputs": [],
      "source": [
        "asunder = 'a b c d e f g h i j k l m n o p q r s t u v w x y z å ä ö'\n",
        "\n",
        "backwards = 'öäåzyxwvutsrqponmlkjihgfedcba'\n",
        "\n",
        "continued = 'opqrstuvwxyzåäöabcdefghijklmn'\n",
        "\n",
        "diced = 'apbqcrdsetfugvhwixjykzlåmänöo'\n",
        "\n",
        "# your code here\n"
      ]
    },
    {
      "cell_type": "markdown",
      "metadata": {
        "id": "6qEZRQXOkE4q"
      },
      "source": [
        "### C. Wfoj, wjej, wjdj 🥬\n",
        "\n",
        "Decrypt `message` by changing each letter to the preceding letter in `alpha`, i.e. `c → b`, `b → a`, `a → ö`, and etc."
      ]
    },
    {
      "cell_type": "code",
      "execution_count": 129,
      "metadata": {
        "id": "DH62jJo7ksgl"
      },
      "outputs": [],
      "source": [
        "message = 'uifsf xbt podf b spnbo xip buf ijt hjsmgsjfoe... if xbt hmbejbups 😋'\n",
        "\n",
        "alpha = 'abcdefghijklmnopqrstuvwxyzåäö'\n",
        "\n",
        "# your code here\n"
      ]
    },
    {
      "cell_type": "markdown",
      "metadata": {
        "id": "76m9zI8yVZkQ"
      },
      "source": [
        "### D. Ig-pay Atin-lay 🐷\n",
        "\n",
        "Translate the sentences from [Pig Latin](https://www.youtube.com/watch?v=t_sWPz1CS0g) to regular English.\n",
        "\n",
        "For example: `\"O-day ou-yay peak-say Ig-pay Atin-lay?\"` translates to `\"Do you speak pig latin?\"`"
      ]
    },
    {
      "cell_type": "code",
      "execution_count": 130,
      "metadata": {
        "id": "YAxWY944dx9g"
      },
      "outputs": [],
      "source": [
        "pig_latin = [\n",
        "    'Ello-hay!',\n",
        "    'Y-may ame-nay is-ay Ister-may Nowball-say.',\n",
        "    'O-day ou-yay peak-say Ig-pay Atin-lay?',\n",
        "    'Is-thay is-ay etting-gay oar-ing-bay',\n",
        "    'At\\'s-thay all-ay olks-fay!'\n",
        "  ]\n",
        "\n",
        "# your code here\n"
      ]
    },
    {
      "cell_type": "markdown",
      "metadata": {
        "id": "0NfzCyb1LiOG"
      },
      "source": [
        "## Solutions\n",
        "Unhide cells to see solutions."
      ]
    },
    {
      "cell_type": "markdown",
      "metadata": {
        "id": "5WlJxuZ1om7S"
      },
      "source": [
        "### Solution A."
      ]
    },
    {
      "cell_type": "code",
      "execution_count": 131,
      "metadata": {
        "colab": {
          "base_uri": "https://localhost:8080/"
        },
        "id": "yp4JES5GmxSG",
        "outputId": "9b2e5e82-0d44-4244-a14a-acd30c888de8"
      },
      "outputs": [
        {
          "output_type": "stream",
          "name": "stdout",
          "text": [
            "The \u001b[91m\u001b[3mLittle Red Riding Hood\u001b[0m was eaten by the \u001b[1m\u001b[4m\u001b[103mBig Bad Wolf!\u001b[0m\n"
          ]
        }
      ],
      "source": [
        "end = '\\033[0m'       # exit formatting\n",
        "bf = '\\033[1m'        # bold text\n",
        "it = '\\033[3m'        # italicize text\n",
        "ul = '\\033[4m'        # underline text\n",
        "red = '\\033[91m'      # red text\n",
        "y_bg = '\\033[103m'    # yellow background\n",
        "\n",
        "eg = 'This ' + bf + ul + 'word' + end + ' is bold and underlined.'\n",
        "# print('Example:', eg)\n",
        "\n",
        "# your code here\n",
        "\n",
        "text = 'The ' + red + it + 'Little Red Riding Hood' + end + \\\n",
        "  ' was eaten by the ' + bf + ul + y_bg + 'Big Bad Wolf!' + end\n",
        "\n",
        "print(text)"
      ]
    },
    {
      "cell_type": "markdown",
      "metadata": {
        "id": "mwN3m4IEm8V9"
      },
      "source": [
        "### Solution B."
      ]
    },
    {
      "cell_type": "code",
      "execution_count": 132,
      "metadata": {
        "colab": {
          "base_uri": "https://localhost:8080/"
        },
        "id": "5cwa5hOLXWnm",
        "outputId": "545bbc09-6323-4c24-b5cc-e3ec1a0d84ce"
      },
      "outputs": [
        {
          "output_type": "stream",
          "name": "stdout",
          "text": [
            "abcdefghijklmnopqrstuvwxyzåäö\n",
            "abcdefghijklmnopqrstuvwxyzåäö\n",
            "abcdefghijklmnopqrstuvwxyzåäö\n",
            "abcdefghijklmnopqrstuvwxyzåäö\n"
          ]
        }
      ],
      "source": [
        "asunder = 'a b c d e f g h i j k l m n o p q r s t u v w x y z å ä ö'\n",
        "\n",
        "backwards = 'öäåzyxwvutsrqponmlkjihgfedcba'\n",
        "\n",
        "continued = 'opqrstuvwxyzåäöabcdefghijklmn'\n",
        "\n",
        "diced = 'apbqcrdsetfugvhwixjykzlåmänöo'\n",
        "\n",
        "# your code here\n",
        "\n",
        "alpha = asunder[::2] \n",
        "print(alpha)\n",
        "\n",
        "alpha = backwards[::-1]\n",
        "print(alpha)\n",
        "\n",
        "end = continued.index('ö')\n",
        "alpha = continued[end+1:] + continued[:end+1]\n",
        "print(alpha)\n",
        "\n",
        "alpha = diced[::2] + diced[1::2]\n",
        "print(alpha)"
      ]
    },
    {
      "cell_type": "markdown",
      "metadata": {
        "id": "tDvk83x4jt5C"
      },
      "source": [
        "### Solution C."
      ]
    },
    {
      "cell_type": "code",
      "execution_count": 133,
      "metadata": {
        "colab": {
          "base_uri": "https://localhost:8080/"
        },
        "id": "f_aXoR3gjtcz",
        "outputId": "055f8475-3c66-407e-b1bd-86fbc4b43383"
      },
      "outputs": [
        {
          "output_type": "stream",
          "name": "stdout",
          "text": [
            "there was once a roman who ate his girlfriend... he was gladiator 😋\n"
          ]
        }
      ],
      "source": [
        "message = 'uifsf xbt podf b spnbo xip buf ijt hjsmgsjfoe... if xbt hmbejbups 😋'\n",
        "\n",
        "alpha = 'abcdefghijklmnopqrstuvwxyzåäö'\n",
        "\n",
        "# your code here\n",
        "\n",
        "decoded = ''\n",
        "\n",
        "for c in message:\n",
        "\n",
        "    if c in alpha:\n",
        "        \n",
        "        i = alpha.index(c)\n",
        "\n",
        "        # decrease index by 1\n",
        "        i -= 1\n",
        "\n",
        "        decoded += alpha[i]\n",
        "      \n",
        "    else:\n",
        "        decoded += c\n",
        "\n",
        "print(decoded.lower())"
      ]
    },
    {
      "cell_type": "markdown",
      "metadata": {
        "id": "YzlnYVjOo1YU"
      },
      "source": [
        "### Solution D."
      ]
    },
    {
      "cell_type": "code",
      "execution_count": 134,
      "metadata": {
        "colab": {
          "base_uri": "https://localhost:8080/"
        },
        "id": "nzcaRKKfo0km",
        "outputId": "14da9f1a-e94f-43e9-dd37-390a26aa0b4f"
      },
      "outputs": [
        {
          "output_type": "stream",
          "name": "stdout",
          "text": [
            "Hello!\n",
            "My name is Mister Snowball.\n",
            "Do you speak Pig Latin?\n",
            "This is getting boar-ing\n",
            "That's all folks!\n"
          ]
        }
      ],
      "source": [
        "pig_latin = [\n",
        "    'Ello-hay!',\n",
        "    'Y-may ame-nay is-ay Ister-may Nowball-say.',\n",
        "    'O-day ou-yay peak-say Ig-pay Atin-lay?',\n",
        "    'Is-thay is-ay etting-gay oar-ing-bay',\n",
        "    'At\\'s-thay all-ay olks-fay!'\n",
        "  ]\n",
        "\n",
        "# your code here\n",
        "\n",
        "for p in pig_latin:\n",
        "    \n",
        "    words = p.split()\n",
        "    \n",
        "    eng_words = []\n",
        "    \n",
        "    for w in words:\n",
        "        \n",
        "        # check if word is capitalized\n",
        "        cap = w[0].isupper()\n",
        "        \n",
        "        # check for punctuation\n",
        "        if not w[-1].isalpha():\n",
        "            punc = w[-1] # save punctuation for later\n",
        "            w = w[:-1] # remove punct from word\n",
        "        \n",
        "        else: # no punctation\n",
        "            punc = '' \n",
        "        \n",
        "        # split into word parts pased on '-'\n",
        "        parts = w.split('-')\n",
        "        \n",
        "        # remove \"-ay\" from the last word part and place at beginning of new word\n",
        "        eng_w = parts[-1].replace('ay','')\n",
        "        \n",
        "        # add remaining parts joined by '-'\n",
        "        eng_w = eng_w + '-'.join(parts[:-1])\n",
        "        \n",
        "        # add punctation\n",
        "        eng_w = eng_w + punc\n",
        "        \n",
        "        if cap: # if word was capitalized\n",
        "            eng_w = eng_w[0].upper() + eng_w[1:].lower() # caplitalize first letter, lower case everything else\n",
        "        else:\n",
        "            eng_w = eng_w.lower()\n",
        "        \n",
        "        eng_words.append(eng_w)\n",
        "    \n",
        "    eng = ' '.join(eng_words)\n",
        "    print(eng)"
      ]
    },
    {
      "cell_type": "markdown",
      "metadata": {
        "id": "1Z2d19rIOoKP"
      },
      "source": [
        "# 1. Numerical objects and functions"
      ]
    },
    {
      "cell_type": "markdown",
      "metadata": {
        "id": "WDvSAtcgInAO"
      },
      "source": [
        "## 1.0. Built-in math operators"
      ]
    },
    {
      "cell_type": "code",
      "execution_count": 135,
      "metadata": {
        "colab": {
          "base_uri": "https://localhost:8080/"
        },
        "id": "65WSc0lNAh9_",
        "outputId": "d6af5960-6b5a-4d12-aa76-fedd80eaaa26"
      },
      "outputs": [
        {
          "output_type": "stream",
          "name": "stdout",
          "text": [
            "Let x = 5, y = 3. Then\n",
            "x + y \t=  8\n",
            "x - y \t=  2\n",
            "x * y \t=  15\n",
            "x**y \t=  125\n",
            "x / y \t=  1.66667\n",
            "x // y \t=  1\n",
            "x % y \t=  2\n"
          ]
        }
      ],
      "source": [
        "# assign variables\n",
        "x, y = 5, 3\n",
        "\n",
        "print(f'Let x = {x}, y = {y}. Then')\n",
        "\n",
        "# addition\n",
        "print('x + y \\t= ', x + y)\n",
        "\n",
        "# subtraction\n",
        "print('x - y \\t= ', x - y)\n",
        "\n",
        "# multiplication\n",
        "print('x * y \\t= ', x * y)\n",
        "\n",
        "# power\n",
        "print('x**y \\t= ', x**y)\n",
        "\n",
        "# division\n",
        "print('x / y \\t= ', round(x / y, 5))\n",
        "\n",
        "# integer (or Euclid) division\n",
        "print('x // y \\t= ', x // y)\n",
        "\n",
        "# modulo\n",
        "print('x % y \\t= ', x % y)"
      ]
    },
    {
      "cell_type": "markdown",
      "metadata": {
        "id": "CZGhXFz8xj_E"
      },
      "source": [
        "For any $x$ and $y \\ne 0$, there exists $m, n$ where $$y = nx + m, \\quad 0 \\le m < |y|, \\quad n \\in \\mathbb Z.$$ Then `x // y = n` and `x % y = m`."
      ]
    },
    {
      "cell_type": "code",
      "execution_count": 136,
      "metadata": {
        "colab": {
          "base_uri": "https://localhost:8080/"
        },
        "id": "fRh-vm_7cYN-",
        "outputId": "7e0a3fd6-1daa-4a4e-878d-d2e3127d2152"
      },
      "outputs": [
        {
          "output_type": "stream",
          "name": "stdout",
          "text": [
            "7\n",
            "9\n"
          ]
        }
      ],
      "source": [
        "# use brackets\n",
        "print(1 + 2 * 3)\n",
        "print((1 + 2) * 3)"
      ]
    },
    {
      "cell_type": "markdown",
      "metadata": {
        "id": "vv8CoMJ-KpXB"
      },
      "source": [
        "## 1.1. Importing modules \n",
        "\n"
      ]
    },
    {
      "cell_type": "code",
      "execution_count": 137,
      "metadata": {
        "colab": {
          "base_uri": "https://localhost:8080/"
        },
        "id": "8hJeNuByKUhM",
        "outputId": "0d798455-436b-4837-8293-b514386b3a77"
      },
      "outputs": [
        {
          "output_type": "stream",
          "name": "stdout",
          "text": [
            "log_2(8) = 3.00000\n",
            "sin(3.14159) = 0.00000\n",
            "cos(3.14159) = -1.00000\n"
          ]
        }
      ],
      "source": [
        "# import built-in module\n",
        "import math\n",
        "\n",
        "# log of 8 base 2\n",
        "x, b = 8, 2\n",
        "y = math.log(x, b)\n",
        "\n",
        "print(f'log_{b}({x}) = {y:.5f}')\n",
        "\n",
        "# sine and cosine\n",
        "x = math.pi\n",
        "\n",
        "y = math.sin(x)\n",
        "print(f'sin({x:.5f}) = {y:.5f}')\n",
        "\n",
        "y = math.cos(x)\n",
        "print(f'cos({x:.5f}) = {y:.5f}')"
      ]
    },
    {
      "cell_type": "markdown",
      "metadata": {
        "id": "Vat6DJcGbrur"
      },
      "source": [
        "## 1.2. User-defined functions"
      ]
    },
    {
      "cell_type": "code",
      "execution_count": 138,
      "metadata": {
        "colab": {
          "base_uri": "https://localhost:8080/"
        },
        "id": "NkUdlj1dLDmX",
        "outputId": "c64d19e1-1dd8-4596-e547-d843ad56257e"
      },
      "outputs": [
        {
          "output_type": "stream",
          "name": "stdout",
          "text": [
            "1.5\n"
          ]
        }
      ],
      "source": [
        "def avg(x, y):\n",
        "\n",
        "    # calculate sum \n",
        "    res = (x + y) / 2\n",
        "\n",
        "    return res\n",
        "\n",
        "z = avg(1, 2)\n",
        "print(z)"
      ]
    },
    {
      "cell_type": "code",
      "execution_count": 139,
      "metadata": {
        "colab": {
          "base_uri": "https://localhost:8080/"
        },
        "id": "QGgcX3qB6ZHI",
        "outputId": "b5478adf-b70b-4b47-8b1d-522f4a230028"
      },
      "outputs": [
        {
          "output_type": "stream",
          "name": "stdout",
          "text": [
            "1.5\n",
            "None\n"
          ]
        }
      ],
      "source": [
        "def avg(x, y):\n",
        "\n",
        "    res = (x + y) / 2\n",
        "    \n",
        "    print(res)\n",
        "\n",
        "# None (nothing) returned\n",
        "z = avg(1, 2)\n",
        "print(z)"
      ]
    },
    {
      "cell_type": "code",
      "execution_count": 140,
      "metadata": {
        "colab": {
          "base_uri": "https://localhost:8080/"
        },
        "id": "OjZz9fHlL48Z",
        "outputId": "e5df3870-485b-4d42-a5ea-d3589bb89c9d"
      },
      "outputs": [
        {
          "output_type": "stream",
          "name": "stdout",
          "text": [
            "1.13137\n"
          ]
        }
      ],
      "source": [
        "def cobb_douglas(x1, x2, A=0.8, alpha=0.5): # optional arguments\n",
        "\n",
        "    return A * (x1**alpha) * (x2**(1-alpha))\n",
        "\n",
        "u = cobb_douglas(1, 2)\n",
        "\n",
        "print(round(u, 5))"
      ]
    },
    {
      "cell_type": "markdown",
      "metadata": {
        "id": "LP8KvpHpO0f8"
      },
      "source": [
        "## 1.3. Symbolic math with sympy"
      ]
    },
    {
      "cell_type": "code",
      "execution_count": 141,
      "metadata": {
        "id": "kwdJQzWtBYc3"
      },
      "outputs": [],
      "source": [
        "import sympy as sp"
      ]
    },
    {
      "cell_type": "code",
      "execution_count": 142,
      "metadata": {
        "id": "nFoldtqculiV"
      },
      "outputs": [],
      "source": [
        "from IPython.display import display, Latex\n",
        "\n",
        "def disp(*args):\n",
        "    '''\n",
        "    Helper function to display latex.\n",
        "    '''\n",
        "    argstrs = [arg if type(arg) == str else sp.latex(arg) for arg in args]\n",
        "    res = ' '.join(argstrs)\n",
        "    display(Latex(res))"
      ]
    },
    {
      "cell_type": "code",
      "execution_count": 143,
      "metadata": {
        "colab": {
          "base_uri": "https://localhost:8080/",
          "height": 104
        },
        "id": "PJ6eWfyCPOO9",
        "outputId": "55aa8167-6cf2-46f8-dd11-3de094a35504"
      },
      "outputs": [
        {
          "output_type": "display_data",
          "data": {
            "text/plain": [
              "<IPython.core.display.Latex object>"
            ],
            "text/latex": "y ="
          },
          "metadata": {}
        },
        {
          "output_type": "display_data",
          "data": {
            "text/plain": [
              "3*x_1*x_2 + x_1 + 2*x_2"
            ],
            "text/latex": "$\\displaystyle 3 x_{1} x_{2} + x_{1} + 2 x_{2}$"
          },
          "metadata": {}
        },
        {
          "output_type": "display_data",
          "data": {
            "text/plain": [
              "<IPython.core.display.Latex object>"
            ],
            "text/latex": "dy/dx_1 ="
          },
          "metadata": {}
        },
        {
          "output_type": "display_data",
          "data": {
            "text/plain": [
              "3*x_1 + 2"
            ],
            "text/latex": "$\\displaystyle 3 x_{1} + 2$"
          },
          "metadata": {}
        }
      ],
      "source": [
        "# declare symbols\n",
        "x1, x2 = sp.symbols('x_1, x_2')\n",
        "\n",
        "# define new variable\n",
        "y = x1 + 2*x2 + 3*x1*x2\n",
        "\n",
        "# disp('y =', y)\n",
        "display(Latex('y ='))\n",
        "display(y)\n",
        "\n",
        "# differentiate\n",
        "dydx2 = y.diff(x2)\n",
        "\n",
        "# disp('dy/dx_1 =', dydx2)\n",
        "display(Latex('dy/dx_1 ='))\n",
        "display(dydx2)"
      ]
    },
    {
      "cell_type": "code",
      "execution_count": 144,
      "metadata": {
        "colab": {
          "base_uri": "https://localhost:8080/",
          "height": 91
        },
        "id": "h3QGy2nyJlJe",
        "outputId": "6aac34d0-2399-44b7-a7c7-ec01072cab19"
      },
      "outputs": [
        {
          "output_type": "display_data",
          "data": {
            "text/plain": [
              "Eq(3*x_1*x_2 + x_1 + 2*x_2, 0)"
            ],
            "text/latex": "$\\displaystyle 3 x_{1} x_{2} + x_{1} + 2 x_{2} = 0$"
          },
          "metadata": {}
        },
        {
          "output_type": "stream",
          "name": "stdout",
          "text": [
            "\n",
            "Solutions:\n"
          ]
        },
        {
          "output_type": "display_data",
          "data": {
            "text/plain": [
              "{-2*x_2/(3*x_2 + 1)}"
            ]
          },
          "metadata": {}
        }
      ],
      "source": [
        "# create equation\n",
        "eq = sp.Eq(y, 0)\n",
        "# disp(eq)\n",
        "display(eq)\n",
        "\n",
        "# solve eq for x1 and x2\n",
        "sol = sp.solve(eq, x1, dict=True)\n",
        "\n",
        "print(\"\\nSolutions:\")\n",
        "\n",
        "# disp(x1, r'\\in', {s[x1] for s in sol})\n",
        "display({s[x1] for s in sol})"
      ]
    },
    {
      "cell_type": "code",
      "execution_count": 145,
      "metadata": {
        "colab": {
          "base_uri": "https://localhost:8080/",
          "height": 131
        },
        "id": "dxrQavqtJukL",
        "outputId": "952e41be-904a-425b-be98-ae94d292fdd2"
      },
      "outputs": [
        {
          "output_type": "display_data",
          "data": {
            "text/plain": [
              "<IPython.core.display.Latex object>"
            ],
            "text/latex": "\\nabla y ="
          },
          "metadata": {}
        },
        {
          "output_type": "display_data",
          "data": {
            "text/plain": [
              "Eq(Matrix([\n",
              "[3*x_2 + 1],\n",
              "[3*x_1 + 2]]), Matrix([\n",
              "[0],\n",
              "[0]]))"
            ],
            "text/latex": "$\\displaystyle \\left[\\begin{matrix}3 x_{2} + 1\\\\3 x_{1} + 2\\end{matrix}\\right] = \\left[\\begin{matrix}0\\\\0\\end{matrix}\\right]$"
          },
          "metadata": {}
        },
        {
          "output_type": "stream",
          "name": "stdout",
          "text": [
            "\n",
            "Solutions:\n"
          ]
        },
        {
          "output_type": "display_data",
          "data": {
            "text/plain": [
              "[{x_2: -1/3, x_1: -2/3}]"
            ]
          },
          "metadata": {}
        }
      ],
      "source": [
        "# solve systems of equations\n",
        "\n",
        "# variables vector\n",
        "x = sp.Matrix([x1, x2])\n",
        "\n",
        "# gradient vector\n",
        "grad = y.diff(x)\n",
        "\n",
        "# result vector\n",
        "vals = sp.Matrix([0, 0])\n",
        "\n",
        "# create system of equation\n",
        "eq = sp.Eq(grad, vals)\n",
        "\n",
        "# disp(r'\\nabla y =', eq)\n",
        "display(Latex(r'\\nabla y ='))\n",
        "display(eq)\n",
        "\n",
        "# solve system\n",
        "sol = sp.solve(eq, x1, x2, dict=True)\n",
        "\n",
        "print(\"\\nSolutions:\")\n",
        "\n",
        "display(sol)"
      ]
    },
    {
      "cell_type": "markdown",
      "metadata": {
        "id": "5J7_kpCL0eIA"
      },
      "source": [
        "## Challenges"
      ]
    },
    {
      "cell_type": "markdown",
      "metadata": {
        "id": "vpt3NTLMQ4sc"
      },
      "source": [
        "### A. Ränta på ränta 💸\n",
        "\n",
        "The return on compounded interest in given by\n",
        "$$\n",
        "  R(r, n) = \\left( 1 + \\frac{r}{n} \\right)^n,\n",
        "$$\n",
        "\n",
        "where $r$ is the interest rate and $n$ is the periods of compounding.\n",
        "\n",
        "Write a function that calculates $R(r, n)$. If $r=1$, what is $\\lim\\limits_{n \\to \\infty} R(r, n)$?*\n",
        "\n",
        "---\n",
        "\\* You can approximate $n \\to \\infty$ by using a large $n$."
      ]
    },
    {
      "cell_type": "code",
      "execution_count": 146,
      "metadata": {
        "id": "L3ILIqErQ0Qx"
      },
      "outputs": [],
      "source": [
        "# your code here\n"
      ]
    },
    {
      "cell_type": "markdown",
      "metadata": {
        "id": "9fqgWYGSREt2"
      },
      "source": [
        "### B. To see a World ⌛\n",
        "\n",
        "A [grain](https://en.wikipedia.org/wiki/Grain_(unit)) is a unit of measurement equal to **64.79891 mg**.\n",
        "\n",
        "Suppose that sand is made of pure silica **SiO<sub>2</sub>**, which is composed of **one** silicon and **two** oxygen atoms.\n",
        "\n",
        "\n",
        "The atomic mass of silicon and oxygen are respectively **28.086 g/mole** and **15.999 g/mole**.\n",
        "\n",
        "A mole is **6.02214076 × 10<sup>23</sup>** particles.\n",
        "\n",
        "How many atoms are there in a grain of sand?"
      ]
    },
    {
      "cell_type": "code",
      "execution_count": 147,
      "metadata": {
        "id": "1g8Ql2RwXBPx"
      },
      "outputs": [],
      "source": [
        "# your code here\n"
      ]
    },
    {
      "cell_type": "markdown",
      "metadata": {
        "id": "2nhz6Paw_3Fq"
      },
      "source": [
        "### C. Slope of a curve 🍎\n",
        "\n",
        "The derivative of a function $f$ evaluated at $x$ can be defined as follows:\n",
        "$$\n",
        "f'(x) = \\lim_{h\\to 0}\\frac{f(x+h) - f(x)}{h}\n",
        "$$\n",
        "\n",
        "Create a function called `diff` that approximates the derivative of a given function `f` at point `x`:\n",
        "\n",
        "$$\n",
        "\\texttt{diff}(f, x, dx) = \\frac{f(x + dx) - f(x)}{dx}.\n",
        "$$\n",
        "\n",
        "The function takes at least three arguments.\n",
        "* `f` : the function to differentiate,\n",
        "* `x` : the point where the derivative is evaluated,\n",
        "* `dx` : a small value to approximate an infinitessimal change.\n",
        "\n",
        "Check the results of the derivative with a test function `f`. Optimize the function's result by adjusting `dx` and using the `round()` function.\n",
        "\n",
        "**Extra:** plot the function and numerical derivative."
      ]
    },
    {
      "cell_type": "code",
      "execution_count": 148,
      "metadata": {
        "id": "IZad24zYB4oZ"
      },
      "outputs": [],
      "source": [
        "# test function\n",
        "def f(x):\n",
        "    return x**2 + 2 * x\n",
        "\n",
        "# your code here\n"
      ]
    },
    {
      "cell_type": "markdown",
      "metadata": {
        "id": "Tj00cpCKL4Ah"
      },
      "source": [
        "### D. A familiar problem 🔬\n",
        "\n",
        "Use `sympy` to solve the standard Cobb-Douglas utility maximization problem\n",
        "\n",
        "$$\n",
        "\\begin{align}\n",
        "  \\max_{x_1, x_2} \\quad x_1^\\alpha x_2^{1-\\alpha}\n",
        "  \\quad\\text{s.t.}\\quad\n",
        "  M = p_1 x_1 + p_2 x_2\n",
        "\\end{align}\n",
        "$$\n",
        "\n",
        "by solving the first-order conditions of the Lagrangian with respect to $x_1, x_2,$ and $\\lambda$,\n",
        "$$\n",
        "  \\mathcal{L} = x_1^\\alpha x_2^{1-\\alpha} + \\lambda [M - (p_1 x_1 + p_2 x_2)].\n",
        "$$"
      ]
    },
    {
      "cell_type": "code",
      "execution_count": 149,
      "metadata": {
        "id": "Z0qhJlq7KgLK"
      },
      "outputs": [],
      "source": [
        "# your code here\n"
      ]
    },
    {
      "cell_type": "markdown",
      "metadata": {
        "id": "03Vou6LoL1GQ"
      },
      "source": [
        "## Solutions\n",
        "\n",
        "Unhide cells to see solutions."
      ]
    },
    {
      "cell_type": "markdown",
      "metadata": {
        "id": "InrWrFG-Enb_"
      },
      "source": [
        "### Solution A."
      ]
    },
    {
      "cell_type": "code",
      "execution_count": 150,
      "metadata": {
        "colab": {
          "base_uri": "https://localhost:8080/"
        },
        "id": "CWbbfpIQR3Zr",
        "outputId": "34ae627f-8499-465e-cb70-a5a64c8e434d"
      },
      "outputs": [
        {
          "output_type": "stream",
          "name": "stdout",
          "text": [
            "R(r=1, n=1e+06) \t=  2.7182804690957534\n",
            "math.e**r = math.e**1 \t=  2.718281828459045\n"
          ]
        }
      ],
      "source": [
        "# your code here\n",
        "\n",
        "def R(r, n):\n",
        "  return (1 + r/n)**n\n",
        "\n",
        "r = 1\n",
        "n = 1_000_000\n",
        "\n",
        "print(f'R(r={r}, n={n:.0e}) \\t= ', R(r, n))\n",
        "\n",
        "# convergent value\n",
        "import math\n",
        "print(f'math.e**r = math.e**{r} \\t= ', math.e**r)"
      ]
    },
    {
      "cell_type": "markdown",
      "metadata": {
        "id": "G5ahr4R6c-z0"
      },
      "source": [
        "### Solution B."
      ]
    },
    {
      "cell_type": "code",
      "execution_count": 151,
      "metadata": {
        "colab": {
          "base_uri": "https://localhost:8080/"
        },
        "id": "x5KdzYyvR2AZ",
        "outputId": "f4f5fc76-0714-426d-8078-fc4e94a9ff9a"
      },
      "outputs": [
        {
          "output_type": "stream",
          "name": "stdout",
          "text": [
            "There are approximately 1.95e+21 atoms in a grain of sand.\n"
          ]
        }
      ],
      "source": [
        "# your code here\n",
        "\n",
        "grain_per_mg = 1/64.79891   # grain per mg\n",
        "g_per_mole_Si = 28.086      # g / mole of Silicon\n",
        "g_per_mole_O = 15.999       # g / mole of Oxygen\n",
        "n_per_mole = 6.02214076e23  # n particles / mole\n",
        "\n",
        "# g / mole of SiO2\n",
        "g_per_mole_SiO2 = g_per_mole_Si + 2 * g_per_mole_O\n",
        "\n",
        "# (grain / mg) * (1000 mg / g) * (g / mole)\n",
        "grain_per_mole_SiO2 = grain_per_mg * 1000 * g_per_mole_SiO2 \n",
        "\n",
        "# (3 atoms / n SiO2) * (n / mole) * (mole / grain)\n",
        "atoms_per_grain = 3 * n_per_mole / grain_per_mole_SiO2\n",
        "\n",
        "print(f'There are approximately {atoms_per_grain:.2e} atoms in a grain of sand.')"
      ]
    },
    {
      "cell_type": "markdown",
      "metadata": {
        "id": "jGLvMgoeW4uE"
      },
      "source": [
        "### Solution C.\n"
      ]
    },
    {
      "cell_type": "code",
      "execution_count": 152,
      "metadata": {
        "colab": {
          "base_uri": "https://localhost:8080/",
          "height": 0
        },
        "id": "nvQqvaaGEkFl",
        "outputId": "1bf909ee-3d8c-407d-8db9-39f35e5f10e1"
      },
      "outputs": [
        {
          "output_type": "stream",
          "name": "stdout",
          "text": [
            "df/dx: 42.00000\n"
          ]
        },
        {
          "output_type": "display_data",
          "data": {
            "text/plain": [
              "<Figure size 432x288 with 1 Axes>"
            ],
            "image/png": "[encoded data removed]"
          },
          "metadata": {
            "needs_background": "light"
          }
        }
      ],
      "source": [
        "# test function\n",
        "def f(x):\n",
        "    return x**2 + 2 * x\n",
        "\n",
        "# your code here\n",
        "\n",
        "def diff(f,         # function to differentiate\n",
        "         x,         # value at which to evaluate derivative\n",
        "         dx=10e-8,  # small dx\n",
        "         ):\n",
        "  \n",
        "  return (f(x + dx) - f(x)) / dx\n",
        "\n",
        "print(f'df/dx: {diff(f, 20):,.5f}')\n",
        "\n",
        "\n",
        "# extra: plot function and derivative\n",
        "\n",
        "import numpy as np\n",
        "import matplotlib.pyplot as plt\n",
        "%matplotlib inline\n",
        "\n",
        "# lienar space\n",
        "x = np.linspace(0, 5, 100)\n",
        "\n",
        "# plot function\n",
        "plt.plot(x, f(x))\n",
        "\n",
        "# plot derivative\n",
        "plt.plot(x, diff(f, x))\n",
        "\n",
        "plt.legend(['$f(x)$', '$df/dx$'])\n",
        "plt.show()"
      ]
    },
    {
      "cell_type": "markdown",
      "metadata": {
        "id": "Vk2zjtozNRwO"
      },
      "source": [
        "### Solution D.\n"
      ]
    },
    {
      "cell_type": "code",
      "execution_count": 153,
      "metadata": {
        "colab": {
          "base_uri": "https://localhost:8080/",
          "height": 0
        },
        "id": "RXXxa-PaBcNl",
        "outputId": "4ebb3c8a-7bff-4e71-ff68-28b2577ae5fa"
      },
      "outputs": [
        {
          "output_type": "stream",
          "name": "stdout",
          "text": [
            "Lagrangian:\n"
          ]
        },
        {
          "output_type": "display_data",
          "data": {
            "text/plain": [
              "<IPython.core.display.Latex object>"
            ],
            "text/latex": "\\mathcal{L} = \\lambda \\left(M - p_{1} x_{1} - p_{2} x_{2}\\right) + x_{1}^{\\alpha} x_{2}^{1 - \\alpha}"
          },
          "metadata": {}
        },
        {
          "output_type": "stream",
          "name": "stdout",
          "text": [
            "\n",
            "FOCs:\n"
          ]
        },
        {
          "output_type": "display_data",
          "data": {
            "text/plain": [
              "<IPython.core.display.Latex object>"
            ],
            "text/latex": "\n\\nabla \\mathcal L\n=\n\\begin{bmatrix} d\\mathcal L / dx_1 \\newline\n  d\\mathcal L / dx_2 \\newline\n  d\\mathcal L /d \\lambda\n\\end{bmatrix}\n = \\left[\\begin{matrix}\\frac{\\alpha x_{1}^{\\alpha} x_{2}^{1 - \\alpha}}{x_{1}} - \\lambda p_{1}\\\\- \\lambda p_{2} + \\frac{x_{1}^{\\alpha} x_{2}^{1 - \\alpha} \\left(1 - \\alpha\\right)}{x_{2}}\\\\M - p_{1} x_{1} - p_{2} x_{2}\\end{matrix}\\right] = \\left[\\begin{matrix}0\\\\0\\\\0\\end{matrix}\\right]"
          },
          "metadata": {}
        },
        {
          "output_type": "stream",
          "name": "stdout",
          "text": [
            "\n",
            "Solutions:\n"
          ]
        },
        {
          "output_type": "display_data",
          "data": {
            "text/plain": [
              "<IPython.core.display.Latex object>"
            ],
            "text/latex": "x_1^* = \\frac{M \\alpha}{p_{1}}"
          },
          "metadata": {}
        },
        {
          "output_type": "display_data",
          "data": {
            "text/plain": [
              "<IPython.core.display.Latex object>"
            ],
            "text/latex": "x_2^* = \\frac{M \\left(1 - \\alpha\\right)}{p_{2}}"
          },
          "metadata": {}
        },
        {
          "output_type": "display_data",
          "data": {
            "text/plain": [
              "<IPython.core.display.Latex object>"
            ],
            "text/latex": "\\lambda^* = \\frac{\\left(\\frac{M \\alpha}{p_{1}}\\right)^{\\alpha} \\left(- \\frac{M \\left(\\alpha - 1\\right)}{p_{2}}\\right)^{1 - \\alpha}}{M}"
          },
          "metadata": {}
        }
      ],
      "source": [
        "# your code here\n",
        "\n",
        "### Setup ###\n",
        "\n",
        "# variables\n",
        "vars = sp.symbols('x_1, x_2, lambda')\n",
        "\n",
        "vars = sp.Matrix(vars) # make vector of variables\n",
        "\n",
        "x1, x2, lm = vars # assign individually\n",
        "\n",
        "# parameters\n",
        "alpha, p1, p2, M = sp.symbols('alpha, p_1, p_2, M')\n",
        "\n",
        "# production function\n",
        "y = x1**alpha * x2**(1-alpha)\n",
        "\n",
        "# form lagrangian\n",
        "L = y + lm * (M - (p1 * x1 + p2 * x2))\n",
        "\n",
        "print(\"Lagrangian:\")\n",
        "disp(r'\\mathcal{L} =', L)\n",
        "\n",
        "\n",
        "### FOC ###\n",
        "\n",
        "# gradient vector\n",
        "grad = L.diff(vars)\n",
        "\n",
        "# set gradient to zero\n",
        "zeros = sp.zeros(*grad.shape)\n",
        "eq = sp.Eq(grad, zeros)\n",
        "\n",
        "# print latex\n",
        "print('\\nFOCs:')\n",
        "\n",
        "grad_latex = r'''\n",
        "\\nabla \\mathcal L\n",
        "=\n",
        "\\begin{bmatrix} d\\mathcal L / dx_1 \\newline\n",
        "  d\\mathcal L / dx_2 \\newline\n",
        "  d\\mathcal L /d \\lambda\n",
        "\\end{bmatrix}\n",
        "'''\n",
        "disp(grad_latex, '=',  eq)\n",
        "\n",
        "\n",
        "### Solve equations ###\n",
        "\n",
        "# solve system\n",
        "sol = sp.solve(eq, x1, x2, lm)\n",
        "\n",
        "# optimal values\n",
        "x1star, x2star, lmstar = sol[0]\n",
        "\n",
        "print('\\nSolutions:')\n",
        "\n",
        "disp('x_1^* =', x1star)\n",
        "disp('x_2^* =', x2star)\n",
        "disp(r'\\lambda^* =', lmstar)"
      ]
    },
    {
      "cell_type": "markdown",
      "metadata": {
        "id": "_SuhGwPqPOnT"
      },
      "source": [
        "# 2. Control flow"
      ]
    },
    {
      "cell_type": "markdown",
      "metadata": {
        "id": "WFf5X6x0RD5V"
      },
      "source": [
        "## 2.0. Boolean operators\n",
        "\n",
        "`not` (negation) : True if false, false if true\n",
        "\n",
        "`and` (conjunction) : True if **both** are true, else false\n",
        "\n",
        "`or` (disjunction) : True if **either** are true, else false"
      ]
    },
    {
      "cell_type": "code",
      "execution_count": 154,
      "metadata": {
        "colab": {
          "base_uri": "https://localhost:8080/"
        },
        "id": "GXnMQIdwJ7jk",
        "outputId": "b201fcad-f981-4154-c427-14f8fc782a10"
      },
      "outputs": [
        {
          "output_type": "stream",
          "name": "stdout",
          "text": [
            "False\n",
            "True\n"
          ]
        }
      ],
      "source": [
        "# not (negation)\n",
        "\n",
        "print(not True)\n",
        "\n",
        "print(not False)"
      ]
    },
    {
      "cell_type": "code",
      "execution_count": 155,
      "metadata": {
        "colab": {
          "base_uri": "https://localhost:8080/"
        },
        "id": "Zqz967EUQnUe",
        "outputId": "958b92fd-b048-4874-c336-c9fcca78b012"
      },
      "outputs": [
        {
          "output_type": "stream",
          "name": "stdout",
          "text": [
            "True and True = True\n",
            "True and False = False\n",
            "False and True = False\n",
            "False and False = False\n"
          ]
        }
      ],
      "source": [
        "# and (conjunction)\n",
        "\n",
        "op = 'and'\n",
        "\n",
        "a, b = True, True\n",
        "print(f'{a} {op} {b} =', a and b)\n",
        "\n",
        "a, b = True, False\n",
        "print(f'{a} {op} {b} =', a and b)\n",
        "\n",
        "a, b = False, True\n",
        "print(f'{a} {op} {b} =', a and b)\n",
        "\n",
        "a, b = False, False\n",
        "print(f'{a} {op} {b} =', a and b)"
      ]
    },
    {
      "cell_type": "code",
      "execution_count": 156,
      "metadata": {
        "colab": {
          "base_uri": "https://localhost:8080/"
        },
        "id": "v0j-GrnJQy0Q",
        "outputId": "f862cdad-e2a0-4710-9b95-74ecbab826ca"
      },
      "outputs": [
        {
          "output_type": "stream",
          "name": "stdout",
          "text": [
            "True or True = True\n",
            "True or False = True\n",
            "False or True = True\n",
            "False or False = False\n"
          ]
        }
      ],
      "source": [
        "# or (disjunction)\n",
        "\n",
        "op = 'or'\n",
        "\n",
        "a, b = True, True\n",
        "print(f'{a} {op} {b} =', a or b)\n",
        "\n",
        "a, b = True, False\n",
        "print(f'{a} {op} {b} =', a or b)\n",
        "\n",
        "a, b = False, True\n",
        "print(f'{a} {op} {b} =', a or b)\n",
        "\n",
        "a, b = False, False\n",
        "print(f'{a} {op} {b} =', a or b)"
      ]
    },
    {
      "cell_type": "code",
      "execution_count": 157,
      "metadata": {
        "colab": {
          "base_uri": "https://localhost:8080/"
        },
        "id": "Op25CT98KAjl",
        "outputId": "ba0d1bcd-7c0f-4327-a1d9-6dbaef12eaaa"
      },
      "outputs": [
        {
          "output_type": "stream",
          "name": "stdout",
          "text": [
            "False False\n",
            "True True\n"
          ]
        }
      ],
      "source": [
        "# combining boolean operations\n",
        "\n",
        "# e.g., De Morgan's laws\n",
        "\n",
        "x, y = True, False\n",
        "\n",
        "dm1 = not ((not x) or (not y))\n",
        "print(dm1, x and y)\n",
        "\n",
        "dm2 = not ((not x) and (not y))\n",
        "print(dm2, x or y)"
      ]
    },
    {
      "cell_type": "code",
      "execution_count": 158,
      "metadata": {
        "colab": {
          "base_uri": "https://localhost:8080/"
        },
        "id": "bsob3yCIXUeO",
        "outputId": "5ff60356-e667-4529-fa5b-a4e8745f5236"
      },
      "outputs": [
        {
          "output_type": "stream",
          "name": "stdout",
          "text": [
            "x = 2, y = 2\n",
            "x == y: True\n",
            "x > y : False\n",
            "x >= y: True\n",
            "x < y : False\n",
            "x <= y: True\n"
          ]
        }
      ],
      "source": [
        "# comparison operators\n",
        "\n",
        "x, y = 2, 2\n",
        "print(f'x = {x}, y = {y}')\n",
        "\n",
        "print('x == y:', x == y)\n",
        "\n",
        "print('x > y :', x > y)\n",
        "print('x >= y:', x >= y)\n",
        "\n",
        "print('x < y :', x < y)\n",
        "print('x <= y:', x <= y)"
      ]
    },
    {
      "cell_type": "code",
      "execution_count": 159,
      "metadata": {
        "colab": {
          "base_uri": "https://localhost:8080/"
        },
        "id": "O93EeIoWJWEI",
        "outputId": "c5847af3-cdfd-47ab-a023-1d6f53426259"
      },
      "outputs": [
        {
          "output_type": "stream",
          "name": "stdout",
          "text": [
            "a in [1, 2, 3, 'a', 'b', 'c'] = \n",
            "True\n"
          ]
        }
      ],
      "source": [
        "# membership\n",
        "\n",
        "x = 'a'\n",
        "y = [1, 2, 3, 'a', 'b', 'c']\n",
        "\n",
        "print(f'{x} in {y} = ')\n",
        "print(x in y)"
      ]
    },
    {
      "cell_type": "markdown",
      "metadata": {
        "id": "MSmX_yNJRA6k"
      },
      "source": [
        "## 2.1. If statements"
      ]
    },
    {
      "cell_type": "code",
      "source": [
        "x = -3\n",
        "\n",
        "if x > 0:\n",
        "    print(f'x = {x} is positive')\n",
        "\n",
        "elif x < 0:\n",
        "    print(f'x = {x} is negative')"
      ],
      "metadata": {
        "colab": {
          "base_uri": "https://localhost:8080/"
        },
        "id": "9aL3quqSmOID",
        "outputId": "c03da5f7-191a-41c8-f995-523ba381343b"
      },
      "execution_count": 160,
      "outputs": [
        {
          "output_type": "stream",
          "name": "stdout",
          "text": [
            "x = -3 is negative\n"
          ]
        }
      ]
    },
    {
      "cell_type": "code",
      "execution_count": 161,
      "metadata": {
        "colab": {
          "base_uri": "https://localhost:8080/"
        },
        "id": "_Tdf38taHnHa",
        "outputId": "ebb31830-6b6a-48a3-a659-3fb13cdc9a38"
      },
      "outputs": [
        {
          "output_type": "stream",
          "name": "stdout",
          "text": [
            "What's for lunch today? 🤤\n",
            "It's Taco Tuesday! 🌮\n"
          ]
        }
      ],
      "source": [
        "msg = 'What\\'s for lunch today? 🤤'\n",
        "print(msg)\n",
        "\n",
        "dow = 2         # 1 for Monday\n",
        "is_open = True  # restaurant is open\n",
        "\n",
        "if is_open:\n",
        "        \n",
        "    if dow == 2:\n",
        "        msg = 'It\\'s Taco Tuesday! 🌮'\n",
        "\n",
        "    elif dow == 4:\n",
        "        msg = 'It\\'s Peasoup Thursday! 🍲'\n",
        "\n",
        "    elif dow == 5:\n",
        "        msg = 'It\\'s Pizza Friday! 🍕'\n",
        "\n",
        "    else:\n",
        "        msg = 'Just regular lunch today 😋'\n",
        "\n",
        "else:\n",
        "    msg = 'Cafeteria is closed '\n",
        "\n",
        "print(msg)"
      ]
    },
    {
      "cell_type": "code",
      "execution_count": 162,
      "metadata": {
        "colab": {
          "base_uri": "https://localhost:8080/"
        },
        "id": "IoeqBrmZObpG",
        "outputId": "c1becf9e-0172-4999-e133-f4a3bde953da"
      },
      "outputs": [
        {
          "output_type": "stream",
          "name": "stdout",
          "text": [
            "3.0\n",
            "2.8284271247461903\n"
          ]
        }
      ],
      "source": [
        "def avg(x, y, geo=False):\n",
        "\n",
        "    # geometric average\n",
        "    if geo:\n",
        "        return (x * y) ** (1/2)\n",
        "\n",
        "    else:\n",
        "        return (x + y) / 2\n",
        "\n",
        "x, y = 2, 4\n",
        "\n",
        "print(avg(x, y))\n",
        "\n",
        "print(avg(x, y, geo=True))"
      ]
    },
    {
      "cell_type": "code",
      "execution_count": 163,
      "metadata": {
        "colab": {
          "base_uri": "https://localhost:8080/"
        },
        "id": "_SaDEh4lNXxb",
        "outputId": "cb19105f-22eb-4938-cdfd-1fb18353e620"
      },
      "outputs": [
        {
          "output_type": "stream",
          "name": "stdout",
          "text": [
            "Simple mean: 3.0\n",
            "Geometric mean: 2.605171084697352\n"
          ]
        }
      ],
      "source": [
        "def prod(nums):\n",
        "\n",
        "    res = 1\n",
        "\n",
        "    for x in nums:\n",
        "        res *= x\n",
        "\n",
        "    return res\n",
        "\n",
        "def avg(nums, geo=False):\n",
        "\n",
        "    if geo:\n",
        "        return prod(nums) ** (1/len(nums))\n",
        "\n",
        "    else:\n",
        "        return sum(nums) / len(nums)\n",
        "\n",
        "\n",
        "nums = [1, 2, 3, 4, 5]\n",
        "print('Simple mean:', avg(nums))\n",
        "print('Geometric mean:', avg(nums, geo=True))"
      ]
    },
    {
      "cell_type": "markdown",
      "metadata": {
        "id": "hUc76mKUdK4f"
      },
      "source": [
        "## 2.2. Loops"
      ]
    },
    {
      "cell_type": "code",
      "execution_count": 164,
      "metadata": {
        "colab": {
          "base_uri": "https://localhost:8080/"
        },
        "id": "43huV-0-DT8o",
        "outputId": "85d5fff5-5260-48c3-902e-7f6a40caa634"
      },
      "outputs": [
        {
          "output_type": "stream",
          "name": "stdout",
          "text": [
            "0\n",
            "1\n",
            "2\n",
            "3\n",
            "4\n",
            "5\n",
            "6\n",
            "7\n",
            "8\n",
            "9\n"
          ]
        }
      ],
      "source": [
        "# print numbers from 0 to 10\n",
        "\n",
        "for i in range(10):\n",
        "    \n",
        "    print(i)"
      ]
    },
    {
      "cell_type": "code",
      "execution_count": 165,
      "metadata": {
        "colab": {
          "base_uri": "https://localhost:8080/"
        },
        "id": "Sqvk1QxfXpeR",
        "outputId": "d5e58b25-5d68-45ca-f39a-ba5d41d281cb"
      },
      "outputs": [
        {
          "output_type": "stream",
          "name": "stdout",
          "text": [
            "hello world\n",
            "hello world\n",
            "hello world\n",
            "hello world\n",
            "hello world\n",
            "hello world\n",
            "hello world\n",
            "hello world\n",
            "hello world\n",
            "hello world\n"
          ]
        }
      ],
      "source": [
        "# print 'hello world' repeatedly\n",
        "\n",
        "for _ in range(10):\n",
        "    \n",
        "    print('hello world')"
      ]
    },
    {
      "cell_type": "code",
      "execution_count": 166,
      "metadata": {
        "colab": {
          "base_uri": "https://localhost:8080/"
        },
        "id": "XOK47KBqFRgf",
        "outputId": "20c15ce2-8b9b-4037-cfa1-dfee32a99b92"
      },
      "outputs": [
        {
          "output_type": "stream",
          "name": "stdout",
          "text": [
            "45\n"
          ]
        }
      ],
      "source": [
        "# sum numbers from 1 to 10\n",
        "s = 0\n",
        "\n",
        "for n in range(10):\n",
        "    \n",
        "    s += n\n",
        "\n",
        "print(s)"
      ]
    },
    {
      "cell_type": "code",
      "execution_count": 167,
      "metadata": {
        "colab": {
          "base_uri": "https://localhost:8080/"
        },
        "id": "Rex6gcRBGfmo",
        "outputId": "8f8236ac-4415-4b0c-9a9b-5040a710a6d0"
      },
      "outputs": [
        {
          "output_type": "stream",
          "name": "stdout",
          "text": [
            "0\n",
            "2\n",
            "4\n",
            "6\n",
            "8\n",
            "10\n",
            "12\n",
            "14\n",
            "16\n",
            "18\n",
            "20\n"
          ]
        }
      ],
      "source": [
        "# print even numbers between 0 and 20\n",
        "\n",
        "for n in range(21):\n",
        "    \n",
        "    if n % 2 == 0:\n",
        "        \n",
        "        print(n)"
      ]
    },
    {
      "cell_type": "code",
      "execution_count": 168,
      "metadata": {
        "colab": {
          "base_uri": "https://localhost:8080/"
        },
        "id": "fX96tZwtDY8_",
        "outputId": "f6a6e9cb-c3f8-45bf-b9ca-1bff5bd1a330"
      },
      "outputs": [
        {
          "output_type": "stream",
          "name": "stdout",
          "text": [
            "2\n",
            "5\n",
            "8\n",
            "11\n",
            "14\n",
            "17\n"
          ]
        }
      ],
      "source": [
        "# print every third number from 2\n",
        "\n",
        "for n in range(2, 20, 3):\n",
        "    \n",
        "    print(n)"
      ]
    },
    {
      "cell_type": "code",
      "execution_count": 169,
      "metadata": {
        "colab": {
          "base_uri": "https://localhost:8080/"
        },
        "id": "1JHJGrHZHMZP",
        "outputId": "e9dc19b4-6bbc-4396-d58c-e282a9f7e17b"
      },
      "outputs": [
        {
          "output_type": "stream",
          "name": "stdout",
          "text": [
            "1\n",
            "2\n",
            "2\n",
            "3\n",
            "3\n",
            "3\n",
            "4\n",
            "4\n",
            "4\n",
            "4\n",
            "5\n",
            "5\n",
            "5\n",
            "5\n",
            "5\n"
          ]
        }
      ],
      "source": [
        "# print each n from 0 to 5 n times\n",
        "\n",
        "for n in range(6):\n",
        "  \n",
        "    for _ in range(n):\n",
        "\n",
        "        print(n)"
      ]
    },
    {
      "cell_type": "code",
      "execution_count": 170,
      "metadata": {
        "colab": {
          "base_uri": "https://localhost:8080/"
        },
        "id": "03aSieoEZDcc",
        "outputId": "a9d122b4-29a3-481a-bd88-eea9e9a9b68b"
      },
      "outputs": [
        {
          "output_type": "stream",
          "name": "stdout",
          "text": [
            "0\n",
            "2\n",
            "4\n",
            "6\n",
            "8\n",
            "10\n",
            "12\n",
            "14\n",
            "16\n",
            "18\n",
            "20\n"
          ]
        }
      ],
      "source": [
        "# iterate until condition is fulfilled\n",
        "\n",
        "n = 0\n",
        "\n",
        "while n < 21:\n",
        "    \n",
        "    print(n)\n",
        "    \n",
        "    n = n + 2"
      ]
    },
    {
      "cell_type": "code",
      "execution_count": 171,
      "metadata": {
        "colab": {
          "base_uri": "https://localhost:8080/"
        },
        "id": "TXEk6DYwLgcM",
        "outputId": "1b126135-630d-4a94-e8a6-c88344784875"
      },
      "outputs": [
        {
          "output_type": "stream",
          "name": "stdout",
          "text": [
            "0\n",
            "1\n",
            "2\n",
            "3\n",
            "4\n",
            "6\n"
          ]
        }
      ],
      "source": [
        "for i in range(11):\n",
        "    \n",
        "    if i == 3:\n",
        "        pass        # do nothing\n",
        "    \n",
        "    if i == 5:\n",
        "        continue    # go to next iteration\n",
        "    \n",
        "    if i == 7:\n",
        "        break       # end loop\n",
        "\n",
        "    print(i)"
      ]
    },
    {
      "cell_type": "markdown",
      "metadata": {
        "id": "4rYZPYsPQK1o"
      },
      "source": [
        "## 2.3. Iterables"
      ]
    },
    {
      "cell_type": "code",
      "execution_count": 172,
      "metadata": {
        "colab": {
          "base_uri": "https://localhost:8080/"
        },
        "id": "i47zJqkuQQ81",
        "outputId": "04f8bb16-3ee8-4711-dba8-3af1242b4586"
      },
      "outputs": [
        {
          "output_type": "stream",
          "name": "stdout",
          "text": [
            "alpha\n",
            "beta\n",
            "gamma\n",
            "delta\n"
          ]
        }
      ],
      "source": [
        "letters = ['alpha', 'beta', 'gamma', 'delta']\n",
        "\n",
        "for letter in letters:\n",
        "    \n",
        "    print(letter)"
      ]
    },
    {
      "cell_type": "code",
      "execution_count": 173,
      "metadata": {
        "colab": {
          "base_uri": "https://localhost:8080/"
        },
        "id": "ntxXFPrpPs-j",
        "outputId": "ab5aca64-652c-4d42-bb1e-599af7e0287b"
      },
      "outputs": [
        {
          "output_type": "stream",
          "name": "stdout",
          "text": [
            "[('a', 'b'), ('a', 'c'), ('b', 'a'), ('b', 'c'), ('c', 'a'), ('c', 'b')]\n",
            "[('a', 'b'), ('a', 'c'), ('b', 'c')]\n"
          ]
        }
      ],
      "source": [
        "import itertools\n",
        "\n",
        "x = ['a', 'b', 'c']\n",
        "\n",
        "perms = itertools.permutations(x, r=2)\n",
        "print(list(perms))\n",
        "\n",
        "combs = itertools.combinations(x, r=2)\n",
        "print(list(combs))"
      ]
    },
    {
      "cell_type": "markdown",
      "metadata": {
        "id": "RvFfjxUeP81Q"
      },
      "source": []
    },
    {
      "cell_type": "markdown",
      "metadata": {
        "id": "v6pg8nv_qaCK"
      },
      "source": [
        "## Challenges"
      ]
    },
    {
      "cell_type": "markdown",
      "metadata": {
        "id": "VntYINywR7nv"
      },
      "source": [
        "### A. Maxabs 💦\n",
        "\n",
        "The `absolute` value is defined as a piecewise function, where\n",
        "$$\n",
        "|x| =\n",
        "\\begin{cases}\n",
        "    x & \\text{if}\\quad x \\ge 0\n",
        "    \\\\\n",
        "    -x & \\text{if}\\quad x \\le 0.\n",
        "\\end{cases}\n",
        "$$\n",
        "\n",
        "Create a function called `maxabs` takes two numbers and returns the one with the largest absolute value.\n",
        "\n",
        "$$\n",
        "\\texttt{maxabs}(x, y) = \\begin{cases}\n",
        "x &\\text{if}\\quad |x| \\ge |y|\n",
        "\\\\\n",
        "y &\\text{if}\\quad |x| \\le |y|.\n",
        "\\end{cases}\n",
        "$$\n",
        "\n",
        "Try this without using the built-in python `max` and `abs` functions."
      ]
    },
    {
      "cell_type": "code",
      "execution_count": 174,
      "metadata": {
        "id": "t42AbtBtSdga"
      },
      "outputs": [],
      "source": [
        "# your code here\n"
      ]
    },
    {
      "cell_type": "markdown",
      "metadata": {
        "id": "CVAaVM7iPLTc"
      },
      "source": [
        "### B. Leibniz formula 🥧\n",
        "\n",
        "Create a function that takes an integer argument $n$ and calculates the sum\n",
        "\n",
        "$$\n",
        "\\begin{align}\n",
        "  \\sum_{m=0}^{n} \\frac{(-1)^{m}}{2m+1}\n",
        "  &= 1 - \\frac{1}{3} + \\frac{1}{5} - \\frac{1}{7} + ... + \\frac{(-1)^n}{2n+1}.\n",
        "\\end{align}\n",
        "$$\n",
        "\n",
        "What is $4 \\sum\\limits_{m=1}^{\\infty}\n",
        "\\frac{(-1)^{m}}{2m+1}$ ? \\*\n",
        "\n",
        "---\n",
        "\\* A series (infinite sum) is just defined as $\\sum\\limits_{x=a}^{\\infty} s(x) = \\lim\\limits_{n\\to\\infty}\\sum\\limits_{x=a}^{n} s(x)$, which we can approximate with a large $n$ (if the series converges)."
      ]
    },
    {
      "cell_type": "code",
      "execution_count": 175,
      "metadata": {
        "id": "_ikQKwIadOgJ"
      },
      "outputs": [],
      "source": [
        "# your code here\n"
      ]
    },
    {
      "cell_type": "markdown",
      "metadata": {
        "id": "dnxEo8Tu0WGJ"
      },
      "source": [
        "### C. Area under a curve 📊\n",
        "\n",
        "Create a function called `integrate` that approximates the definite integral of a function $f(x)$ from $x=a$ to $x=b$,\n",
        "\n",
        "$$\n",
        "\\begin{align}\n",
        "\\int_a^b f(x)\\ dx\n",
        "=\n",
        "\\lim_{n\\to\\infty}\\sum_{m=0}^{n-1} f \\left(a + m \\frac{b-a}{n} \\right) \\frac{b-a}{n},\n",
        "\\end{align}\n",
        "$$\n",
        "\n",
        "with the summation\n",
        "\n",
        "$$\n",
        "\\texttt{integrate}(f, a, b, n)\n",
        "=\n",
        "\\sum_{m=0}^{n-1} f \\left(a + m \\frac{b-a}{n} \\right) \\frac{b-a}{n}.\n",
        "$$\n",
        "\n",
        "The function takes at least four arguments.\n",
        "* `f` : the function to differentiate,\n",
        "* `a, b` : the bounds of the integral,\n",
        "* `n` : the number of summands.\n",
        "\n",
        "Check the results with test functions. Try to optimize the function's results by adjusting the parameters."
      ]
    },
    {
      "cell_type": "code",
      "execution_count": 176,
      "metadata": {
        "id": "4z8LUC_S1q2k"
      },
      "outputs": [],
      "source": [
        "# your code here\n"
      ]
    },
    {
      "cell_type": "markdown",
      "metadata": {
        "id": "deQFgaxXWFA8"
      },
      "source": [
        "### D. Purely rational ➗\n",
        "\n",
        "Create a function called `fraction` that takes a number `x` and returns the numerator and denominator of `x` when represented as a fraction of integers.\n",
        "\n",
        "For example:\n",
        "```python\n",
        "fraction(0.5) -> (1, 2)\n",
        "fraction(-0.2) -> (-1, 5)\n",
        "fraction(3.14) -> (157, 50)\n",
        "fraction(0) -> (0, 1)\n",
        "```\n",
        "\n",
        "What is the fraction representation of $\\sqrt{2}$?"
      ]
    },
    {
      "cell_type": "code",
      "execution_count": 177,
      "metadata": {
        "id": "OfQHFKSRXsjQ"
      },
      "outputs": [],
      "source": [
        "# your code here\n"
      ]
    },
    {
      "cell_type": "markdown",
      "metadata": {
        "id": "tCi5JcTNMEgH"
      },
      "source": [
        "## Solutions\n",
        "Unhide cells to see solutions."
      ]
    },
    {
      "cell_type": "markdown",
      "metadata": {
        "id": "q94xpbfMA-jf"
      },
      "source": [
        "### Solution A."
      ]
    },
    {
      "cell_type": "code",
      "execution_count": 178,
      "metadata": {
        "colab": {
          "base_uri": "https://localhost:8080/"
        },
        "id": "4MLH0-BbAaCt",
        "outputId": "cbce9010-5422-4949-deaa-eeaec24cce0b"
      },
      "outputs": [
        {
          "output_type": "execute_result",
          "data": {
            "text/plain": [
              "-5"
            ]
          },
          "metadata": {},
          "execution_count": 178
        }
      ],
      "source": [
        "def myabs(x):\n",
        "    '''\n",
        "    Returns absolute value of x\n",
        "    '''\n",
        "    if x >= 0:\n",
        "        return x\n",
        "    else:\n",
        "        return -x\n",
        "\n",
        "def maxabs(x, y):\n",
        "    '''\n",
        "    Returns value with the maximal absolute value\n",
        "    '''\n",
        "    if myabs(x) > myabs(y):\n",
        "        return x\n",
        "    else:\n",
        "        return y\n",
        "\n",
        "maxabs(-5, 4)"
      ]
    },
    {
      "cell_type": "markdown",
      "metadata": {
        "id": "F6FBLUYUWn7I"
      },
      "source": [
        "### Solution B.\n"
      ]
    },
    {
      "cell_type": "code",
      "execution_count": 179,
      "metadata": {
        "colab": {
          "base_uri": "https://localhost:8080/"
        },
        "id": "Vyrigw1aVSD1",
        "outputId": "a9c615c6-b069-409b-809b-e379c78c2e33"
      },
      "outputs": [
        {
          "output_type": "stream",
          "name": "stdout",
          "text": [
            "4 * leibniz(n=1e+06) =\t 3.1415936535887745\n",
            "π =\t\t\t 3.141592653589793\n"
          ]
        }
      ],
      "source": [
        "# your code here\n",
        "\n",
        "def leibniz(n):\n",
        "    \n",
        "    res = 0\n",
        "\n",
        "    for m in range(n+1):\n",
        "        res += (-1)**m / (2*m + 1)\n",
        "    \n",
        "    return res\n",
        "\n",
        "# calculate\n",
        "# https://en.wikipedia.org/wiki/Leibniz_formula_for_%CF%80\n",
        "\n",
        "n = 1_000_000\n",
        "\n",
        "print(f'4 * leibniz(n={n:.0e}) =\\t', 4 * leibniz(n))\n",
        "\n",
        "import math\n",
        "print('π =\\t\\t\\t', math.pi)"
      ]
    },
    {
      "cell_type": "markdown",
      "metadata": {
        "id": "5vI2EkE-Dt2K"
      },
      "source": [
        "### Solution C."
      ]
    },
    {
      "cell_type": "code",
      "execution_count": 180,
      "metadata": {
        "colab": {
          "base_uri": "https://localhost:8080/"
        },
        "id": "jjh70j11DsRN",
        "outputId": "d2d58d5d-239f-4c44-9521-aee93c06053f"
      },
      "outputs": [
        {
          "output_type": "execute_result",
          "data": {
            "text/plain": [
              "2.6667"
            ]
          },
          "metadata": {},
          "execution_count": 180
        }
      ],
      "source": [
        "def f(x):\n",
        "    return x**2\n",
        "\n",
        "# your code here\n",
        "\n",
        "def integrate(f, a, b, n=1e5, ndigits=4):\n",
        "\n",
        "    res = 0\n",
        "    \n",
        "    # width of rectangles\n",
        "    dx = (b-a) / n\n",
        "\n",
        "    # span of f(x) in each term\n",
        "    span = (b-a) / (n-1)\n",
        "\n",
        "    for m in range(int(n)):\n",
        "\n",
        "        # height of rectangle\n",
        "        h = f(a + m * span)\n",
        "\n",
        "        # add to result sum\n",
        "        res += h * dx\n",
        "    \n",
        "    # return rounded result\n",
        "    return round(res, ndigits)\n",
        "\n",
        "integrate(f, 0, 2)"
      ]
    },
    {
      "cell_type": "markdown",
      "metadata": {
        "id": "qPIvUBpJMJhO"
      },
      "source": [
        "### Solution D."
      ]
    },
    {
      "cell_type": "code",
      "execution_count": 181,
      "metadata": {
        "colab": {
          "base_uri": "https://localhost:8080/"
        },
        "id": "bUOZJlrfaVS5",
        "outputId": "2c5ae237-f889-4daf-d20f-d3d16328856b"
      },
      "outputs": [
        {
          "output_type": "execute_result",
          "data": {
            "text/plain": [
              "(131836323, 93222358)"
            ]
          },
          "metadata": {},
          "execution_count": 181
        }
      ],
      "source": [
        "# your code here\n",
        "\n",
        "def fraction(x):\n",
        "    '''\n",
        "    Here we use a brute force method. For a more efficient algorithm, see\n",
        "    https://www.youtube.com/watch?v=7LKy3lrkTRA\n",
        "    '''\n",
        "    \n",
        "    # make x non-negative and save sign\n",
        "    sign = 1\n",
        "    if x < 0:\n",
        "        x, sign = -x, -1 \n",
        "\n",
        "    # starting values\n",
        "    n, m = 0, 1\n",
        "\n",
        "    # while fraction not equal to value\n",
        "    while x != n/m:\n",
        "        \n",
        "        if x > n/m:     # if x is greater\n",
        "            n += 1      # increase numerator\n",
        "        else:\n",
        "            m += 1      # increase denominator\n",
        "    \n",
        "    return sign*n, m\n",
        "\n",
        "# this is pretty slow...\n",
        "fraction(2**(1/2))"
      ]
    },
    {
      "cell_type": "markdown",
      "metadata": {
        "id": "Kic8yGVlcvBe"
      },
      "source": [
        "# 3. Data structures"
      ]
    },
    {
      "cell_type": "markdown",
      "metadata": {
        "id": "9NnL6-LsczXm"
      },
      "source": [
        "## 3.0. Lists and tuples"
      ]
    },
    {
      "cell_type": "code",
      "execution_count": 182,
      "metadata": {
        "colab": {
          "base_uri": "https://localhost:8080/"
        },
        "id": "0djB5hBmdGSs",
        "outputId": "450e15be-f5b2-4b4f-ee26-eb94d8763eaf"
      },
      "outputs": [
        {
          "output_type": "stream",
          "name": "stdout",
          "text": [
            "[1, 2, 3, 4]\n",
            "[1, 2, 3]\n",
            "[1, 2, 3] 4\n",
            "[1, 2, 3, 'a', 'b', 'c']\n",
            "[1, 2, 3, 'a', 'b', 'c']\n",
            "apple\n",
            "[1, 2, 3] ['apple', 'b', 'c']\n",
            "[3, 2, 1]\n"
          ]
        }
      ],
      "source": [
        "# lists\n",
        "\n",
        "x = [1, 2, 3]\n",
        "y = ['a', 'b', 'c']\n",
        "\n",
        "# append\n",
        "x.append(4)\n",
        "print(x)\n",
        "\n",
        "# remove\n",
        "x.remove(4)\n",
        "print(x)\n",
        "\n",
        "# pop\n",
        "x.append(4)\n",
        "a = x.pop(3)\n",
        "print(x, a)\n",
        "\n",
        "# concat\n",
        "print(x + y)\n",
        "\n",
        "# extend\n",
        "x.extend(y)\n",
        "print(x)\n",
        "\n",
        "# indexing\n",
        "x[3] = 'apple'\n",
        "i = x.index('apple')\n",
        "print(x[i])\n",
        "\n",
        "# slicing\n",
        "x, y = x[:3], x[3:]\n",
        "print(x, y)\n",
        "\n",
        "# sort\n",
        "x.sort(reverse=True)\n",
        "print(x)"
      ]
    },
    {
      "cell_type": "code",
      "execution_count": 183,
      "metadata": {
        "colab": {
          "base_uri": "https://localhost:8080/"
        },
        "id": "pazPYWgFmyfF",
        "outputId": "99f5bd1f-5ab7-464d-9507-f1970fba4d66"
      },
      "outputs": [
        {
          "output_type": "stream",
          "name": "stdout",
          "text": [
            "1\n",
            "[0, 2, 3]\n"
          ]
        }
      ],
      "source": [
        "# tuples\n",
        "\n",
        "z = (1, 2, 3)\n",
        "\n",
        "print(z[0])\n",
        "\n",
        "# immutable: cannot change tuple values\n",
        "# this code will create an error\n",
        "# z[0] = 1\n",
        "\n",
        "# but lists are mutable\n",
        "z = list(z)\n",
        "z[0] = 0\n",
        "print(z)"
      ]
    },
    {
      "cell_type": "markdown",
      "metadata": {
        "id": "PqBJmAEZc4zp"
      },
      "source": [
        "## 3.1. Sets and dictionaries"
      ]
    },
    {
      "cell_type": "code",
      "execution_count": 184,
      "metadata": {
        "colab": {
          "base_uri": "https://localhost:8080/"
        },
        "id": "OiznLAD6dFtF",
        "outputId": "42421402-8e6e-451c-a4db-c81736bacaf0"
      },
      "outputs": [
        {
          "output_type": "stream",
          "name": "stdout",
          "text": [
            "{1, 2, 3} {2, 3, 4}\n",
            "{2, 3}\n",
            "{1, 2, 3, 4}\n",
            "{1}\n",
            "{1, 4}\n"
          ]
        }
      ],
      "source": [
        "# sets\n",
        "\n",
        "# contain unique elements\n",
        "x = {1, 2, 2, 3, 3, 3}\n",
        "y = {2, 3, 4}\n",
        "print(x, y)\n",
        "\n",
        "# intersection\n",
        "print(x & y)\n",
        "\n",
        "# union\n",
        "print(x | y)\n",
        "\n",
        "# difference\n",
        "print(x - y)\n",
        "\n",
        "# symmetric difference\n",
        "print(x ^ y)"
      ]
    },
    {
      "cell_type": "code",
      "execution_count": 185,
      "metadata": {
        "colab": {
          "base_uri": "https://localhost:8080/"
        },
        "id": "BTIW1uNbm1TM",
        "outputId": "50662ab3-5242-4c49-88af-67dd690e2384"
      },
      "outputs": [
        {
          "output_type": "stream",
          "name": "stdout",
          "text": [
            "dict_keys(['a', 'b', 'c'])\n",
            "dict_values(['apricot', 'banana', 'clementine'])\n",
            "a apricot\n",
            "b banana\n",
            "c clementine\n",
            "apricot\n",
            "{'a': 'apricot', 'b': 'banana', 'c': 'clementine', 'd': 'dingleberry'}\n",
            "{'a': 'apricot', 'b': 'banana', 'c': 'clementine'}\n"
          ]
        }
      ],
      "source": [
        "# dictionaries\n",
        "\n",
        "# contain key : value pairs\n",
        "fruits = {'a' : 'apple', 'a' : 'apricot', 'b' : 'banana', 'c' : 'clementine'}\n",
        "\n",
        "# print keys and values\n",
        "print(fruits.keys())\n",
        "print(fruits.values())\n",
        "\n",
        "# iterating over dictionaries\n",
        "for x, y in fruits.items():\n",
        "    print(x, y)\n",
        "  \n",
        "# call value\n",
        "print(fruits['a'])\n",
        "\n",
        "# reassign value or add item\n",
        "fruits['d'] = 'dingleberry'\n",
        "print(fruits)\n",
        "\n",
        "# remove\n",
        "fruits.pop('d')\n",
        "print(fruits)"
      ]
    },
    {
      "cell_type": "markdown",
      "metadata": {
        "id": "VPrismFgc8sI"
      },
      "source": [
        "## 3.2. Linear algebra with numpy"
      ]
    },
    {
      "cell_type": "code",
      "execution_count": 186,
      "metadata": {
        "id": "x0WSg5jAdFLJ"
      },
      "outputs": [],
      "source": [
        "import numpy as np"
      ]
    },
    {
      "cell_type": "code",
      "execution_count": 187,
      "metadata": {
        "colab": {
          "base_uri": "https://localhost:8080/"
        },
        "id": "Sf7ZOQ0mroVP",
        "outputId": "d483d6d3-4e03-4ff6-b0a6-f4bec1a740fa"
      },
      "outputs": [
        {
          "output_type": "stream",
          "name": "stdout",
          "text": [
            "\n",
            "a = [1 2 3]\n",
            "b = [1 2 3]\n",
            "\n",
            "2 * a - b =\n",
            "[-2 -1  0]\n",
            "\n",
            "a @ b =\n",
            "32\n",
            "\n",
            "a * b =\n",
            "[ 4 10 18]\n",
            "\n",
            "a / b =\n",
            "[0.25 0.4  0.5 ]\n",
            "\n",
            "a**b =\n",
            "[  1  32 729]\n"
          ]
        }
      ],
      "source": [
        "# vectors\n",
        "\n",
        "a = np.array([1, 2, 3])\n",
        "b = np.array([4, 5, 6])\n",
        "\n",
        "print('\\na =', a)\n",
        "print('b =', a)\n",
        "\n",
        "# linear combinations\n",
        "print('\\n2 * a - b =')\n",
        "print(2 * a - b)\n",
        "\n",
        "# dot product\n",
        "print('\\na @ b =')\n",
        "print(a @ b)\n",
        "\n",
        "# broadcasting\n",
        "print('\\na * b =')\n",
        "print(a * b)\n",
        "\n",
        "print('\\na / b =')\n",
        "print(a / b)\n",
        "\n",
        "print('\\na**b =')\n",
        "print(a**b)"
      ]
    },
    {
      "cell_type": "code",
      "execution_count": 188,
      "metadata": {
        "colab": {
          "base_uri": "https://localhost:8080/"
        },
        "id": "tdpZnkSVsQ7c",
        "outputId": "dfb49628-d5a8-4fd9-905a-9f7ac8e3e005"
      },
      "outputs": [
        {
          "output_type": "stream",
          "name": "stdout",
          "text": [
            "\n",
            "A =\n",
            "[[1 2]\n",
            " [3 4]]\n",
            "\n",
            "B =\n",
            "[[1 2 3]\n",
            " [4 5 6]]\n",
            "\n",
            "A.shape, B.shape = \n",
            "(2, 2) (2, 3)\n",
            "\n",
            "B.T =\n",
            "[[1 4]\n",
            " [2 5]\n",
            " [3 6]]\n",
            "\n",
            "A @ B = \n",
            "[[ 9 12 15]\n",
            " [19 26 33]]\n",
            "\n",
            "A * A =\n",
            "[[ 1  4]\n",
            " [ 9 16]]\n",
            "\n",
            "A / A =\n",
            "[[1. 1.]\n",
            " [1. 1.]]\n",
            "\n",
            "det(A)\n",
            "-2.0000000000000004\n",
            "\n",
            "A_inv =\n",
            "[[-2.   1. ]\n",
            " [ 1.5 -0.5]]\n",
            "\n",
            "A @ A_inv =\n",
            "[[1. 0.]\n",
            " [0. 1.]]\n",
            "\n",
            "λ0, v0 =\n",
            "-0.3722813232690143 [-0.82456484  0.56576746]\n",
            "\n",
            "A @ v0 =\n",
            "[ 0.30697009 -0.21062466]\n",
            "\n",
            "λ0 * v0 =\n",
            "[ 0.30697009 -0.21062466]\n",
            "\n",
            "λ1, v1 =\n",
            "5.372281323269014 [-0.41597356 -0.90937671]\n",
            "\n",
            "A @ v1 =\n",
            "[-2.23472698 -4.88542751]\n",
            "\n",
            "λ1 * v1 =\n",
            "[-2.23472698 -4.88542751]\n"
          ]
        }
      ],
      "source": [
        "# matrices\n",
        "\n",
        "A = np.array(\n",
        "    [[1, 2],\n",
        "     [3, 4]])\n",
        "\n",
        "B = np.array(\n",
        "    [[1, 2, 3],\n",
        "     [4, 5, 6],\n",
        "     ])\n",
        "\n",
        "print('\\nA =')\n",
        "print(A)\n",
        "\n",
        "print('\\nB =')\n",
        "print(B)\n",
        "\n",
        "# dimensions\n",
        "print('\\nA.shape, B.shape = ')\n",
        "print(A.shape, B.shape)\n",
        "\n",
        "# transpose\n",
        "print('\\nB.T =')\n",
        "print(B.T)\n",
        "\n",
        "# dot product\n",
        "print('\\nA @ B = ')\n",
        "print(A @ B)\n",
        "\n",
        "# broadcast\n",
        "print('\\nA * A =')\n",
        "print(A * A)\n",
        "\n",
        "print('\\nA / A =')\n",
        "print(A / A)\n",
        "\n",
        "# determinant\n",
        "print('\\ndet(A)')\n",
        "print(np.linalg.det(A))\n",
        "\n",
        "# inverse\n",
        "A_inv = np.linalg.inv(A)\n",
        "\n",
        "print('\\nA_inv =')\n",
        "print(A_inv)\n",
        "\n",
        "print('\\nA @ A_inv =') \n",
        "I = np.round(A_inv @ A, 5)\n",
        "print(I)\n",
        "\n",
        "# eigen-decompositon\n",
        "eigvals, eigvecs = np.linalg.eig(A)\n",
        "\n",
        "for i, (eigval, eigvec) in enumerate(zip(eigvals, eigvecs.T)):\n",
        "\n",
        "    print(f'\\nλ{i}, v{i} =')\n",
        "    print(eigval, eigvec)\n",
        "\n",
        "    print(f'\\nA @ v{i} =')\n",
        "    print(A @ eigvec)\n",
        "\n",
        "    print(f'\\nλ{i} * v{i} =')\n",
        "    print(eigval * eigvec)"
      ]
    },
    {
      "cell_type": "code",
      "execution_count": 189,
      "metadata": {
        "colab": {
          "base_uri": "https://localhost:8080/"
        },
        "id": "onsRwNb2uDUM",
        "outputId": "95eb522e-ac0a-428e-87bd-cf9adce50720"
      },
      "outputs": [
        {
          "output_type": "stream",
          "name": "stdout",
          "text": [
            "\n",
            "linear space:\n",
            "[0.         0.11111111 0.22222222 0.33333333 0.44444444 0.55555556\n",
            " 0.66666667 0.77777778 0.88888889 1.        ]\n",
            "\n",
            "I_3 =\n",
            "[[1. 0. 0.]\n",
            " [0. 1. 0.]\n",
            " [0. 0. 1.]]\n",
            "\n",
            "N =\n",
            "[ 0.3047684  -0.62314539  0.87169209  0.52832065  0.06413785]\n",
            "\n",
            "max(N), argmax(N) =\n",
            "(0.8716920903974663, 2)\n"
          ]
        }
      ],
      "source": [
        "# other numpy functions\n",
        "\n",
        "# linear space\n",
        "print(f'\\nlinear space:')\n",
        "a = np.linspace(0, 1, 10)\n",
        "print(a)\n",
        "\n",
        "# identity matrix\n",
        "n = 3\n",
        "I = np.eye(n)\n",
        "print(f'\\nI_{n} =')\n",
        "print(I)\n",
        "\n",
        "# random distributions\n",
        "normal = np.random.normal(0, 1, 5) # random vector\n",
        "print(f'\\nN =')\n",
        "print(normal)\n",
        "\n",
        "# maximum and max argument\n",
        "vmax = np.max(normal)       # max value\n",
        "imax = np.argmax(normal)    # maximizing index\n",
        "print(f'\\nmax(N), argmax(N) =')\n",
        "print((vmax, imax))"
      ]
    },
    {
      "cell_type": "markdown",
      "metadata": {
        "id": "yYURqvM3z5tA"
      },
      "source": [
        "## Challenges"
      ]
    },
    {
      "cell_type": "markdown",
      "metadata": {
        "id": "cKUTHd82PQ3H"
      },
      "source": [
        "### A. Dot dot dot...\n",
        "\n",
        "Create a function called `vector_dot` that takes two `lists` of numbers $a = [a_1, a_2, ..., a_n],\\ b = [b_1, b_2, ..., b_n]$ and calculates the dot product\n",
        "\n",
        "$$\n",
        "a \\cdot b = \\sum_{i=1}^n a_i b_i = a_1 b_1 + a_2 b_2 + ... + a_n b_n.\n",
        "$$\n",
        "\n",
        "Verify your solution with numpy."
      ]
    },
    {
      "cell_type": "code",
      "execution_count": 190,
      "metadata": {
        "colab": {
          "base_uri": "https://localhost:8080/"
        },
        "id": "foj8NgC_zxuk",
        "outputId": "03a5b584-1680-4780-eb5a-a8a65a63552c"
      },
      "outputs": [
        {
          "output_type": "stream",
          "name": "stdout",
          "text": [
            "numpy.dot(a, b) = 32\n"
          ]
        }
      ],
      "source": [
        "# test case\n",
        "a = [1, 2, 3]\n",
        "b = [4, 5, 6]\n",
        "\n",
        "print('numpy.dot(a, b) =', np.dot(a, b))\n",
        "\n",
        "# your code here\n",
        "\n"
      ]
    },
    {
      "cell_type": "markdown",
      "metadata": {
        "id": "obm6MsaJLup9"
      },
      "source": [
        "### B. -- --- .-. ... . / -- -.-- ... - . .-. -.-- 🛎️\n",
        "\n",
        "Translate `morse_msg` from morse code with the dictionary `alphamorse`."
      ]
    },
    {
      "cell_type": "code",
      "execution_count": 191,
      "metadata": {
        "id": "gcGmt_USOP2v"
      },
      "outputs": [],
      "source": [
        "morse_msg = '''.. / -- . - / .- / ... . . .-. --..-- / \n",
        " .--. .- ... ... .. -. --. / - .... . / .... ..- . ... / .- -. -.. / \\\n",
        " --- -... .--- . -.-. - ... / --- ..-. / - .... . / .-- --- .-. .-.. -.. --..-- / \n",
        " - .... . / ..-. .. . .-.. -.. ... / --- ..-. / .- .-. - / .- -. -.. / \\\n",
        " .-.. . .- .-. -. .. -. --. --..-- / .--. .-.. . .- ... ..- .-. . --..-- / \\\n",
        " ... . -. ... . --..-- / \n",
        " - --- / --. .-.. . .- -. / . .. -.. --- .-.. --- -. ... .-.-.-'''\n",
        "\n",
        "morse_alpha = {\n",
        "    '/': ' ', '.-': 'A', '-...': 'B', '-.-.': 'C', '-..': 'D', '.': 'E',\n",
        "    '..-.': 'F', '--.': 'G', '....': 'H', '..': 'I', '.---': 'J', '-.-': 'K',\n",
        "    '.-..': 'L', '--': 'M', '-.': 'N', '---': 'O', '.--.': 'P', '--.-': 'Q',\n",
        "    '.-.': 'R', '...': 'S', '-': 'T', '..-': 'U', '...-': 'V', '.--': 'W',\n",
        "    '-..-': 'X', '-.--': 'Y', '--..': 'Z', '.--.-': 'À', '.-.-': 'Ä', '---.': 'Ó',\n",
        "    '-----': '%', '.----': '1', '..---': '2', '...--': '3', '....-': '4',\n",
        "    '.....': '5', '-....': '6', '--...': '7', '---..': '8', '----.': '9',\n",
        "    '.-...': '&', '.----.': \"'\", '.--.-.': '@', '-.--.-': ')', '-.--.': '(',\n",
        "    '---...': ':', '--..--': ',', '-...-': '=', '-.-.--': '!', '.-.-.-': '.',\n",
        "    '-....-': '-', '.-.-.': '+', '.-..-.': '\"', '..--..': '?', '-..-.': '/',\n",
        "    '-.-..': 'Ć', '..-..': 'Đ', '..--.': 'Ð', '.-..-': 'È', '--.-.': 'Ĝ', '.---.':\n",
        "    'Ĵ', '--.--': 'Ń', '...-...': 'Ś', '...-.': 'Ŝ', '.--..': 'Þ', '..--': 'Ü',\n",
        "    '--..-.': 'Ź', '--..-': 'Ż'\n",
        "    }\n",
        "\n",
        "\n",
        "# your code here\n"
      ]
    },
    {
      "cell_type": "markdown",
      "metadata": {
        "id": "qywITZZszJs-"
      },
      "source": [
        "### C. There is no spoon 🥄\n",
        "\n",
        "We can represent a matrix as a **list of lists**, where the *nested* lists are the row vectors of the matrix. For example,\n",
        "\n",
        "$$\n",
        "A_{m \\times n}\n",
        "= \\begin{bmatrix}\n",
        "  [a_{1 1}, a_{1 2}, ..., a_{1 n}],\n",
        "  \\\\\n",
        "  [a_{2 1}, a_{2 2}, ..., a_{2 n}],\n",
        "  \\\\\n",
        "  \\vdots\n",
        "  \\\\\n",
        "  [a_{m 1}, a_{m 2}, ..., a_{m n}]\n",
        "\\end{bmatrix},\n",
        "\\quad\n",
        "B_{n \\times r}\n",
        "= \\begin{bmatrix}\n",
        "  [b_{1 1}, b_{1 2}, ..., b_{1 r}],\n",
        "  \\\\\n",
        "  [b_{2 1}, b_{2 2}, ..., b_{2 r}],\n",
        "  \\\\\n",
        "  \\vdots\n",
        "  \\\\\n",
        "  [b_{n 1}, b_{n 2}, ..., b_{n r}]\n",
        "\\end{bmatrix}.\n",
        "$$\n",
        "\n",
        "Create a function called `mat_dot` that takes two such matrices, and returns the dot product\n",
        "$$\n",
        "C_{m \\times r} = A_{m \\times n} \\cdot B_{n \\times r}\n",
        "= \\begin{bmatrix}\n",
        "  [c_{1 1}, c_{1 2}, ..., c_{1 r}],\n",
        "  \\\\\n",
        "  [c_{2 1}, c_{2 2}, ..., c_{2 r}],\n",
        "  \\\\\n",
        "  \\vdots\n",
        "  \\\\\n",
        "  [c_{m 1}, c_{m 2}, ..., c_{m r}]\n",
        "\\end{bmatrix},\n",
        "\\quad\n",
        "\\text{where}\n",
        "\\quad\n",
        "c_{ij} = \\sum_{k=1}^{n} a_{ik} b_{kj}\n",
        "$$\n",
        "\n",
        "Verify your solution with numpy or sympy."
      ]
    },
    {
      "cell_type": "code",
      "execution_count": 192,
      "metadata": {
        "colab": {
          "base_uri": "https://localhost:8080/"
        },
        "id": "tCTIBjwPd3q9",
        "outputId": "a27a78e9-beae-4847-83be-679a37c21f7f"
      },
      "outputs": [
        {
          "output_type": "stream",
          "name": "stdout",
          "text": [
            "numpy.dot(a, b): \n",
            " [[ 9 12 15]\n",
            " [19 26 33]]\n"
          ]
        }
      ],
      "source": [
        "# test cases\n",
        "A = [[1, 2],\n",
        "     [3, 4]]\n",
        "\n",
        "B = [[1, 2, 3],\n",
        "     [4, 5, 6],\n",
        "     ]\n",
        "\n",
        "print('numpy.dot(a, b): \\n', np.dot(A, B))\n",
        "\n",
        "# your code here\n",
        "\n"
      ]
    },
    {
      "cell_type": "markdown",
      "metadata": {
        "id": "KZ2hV1bO_6By"
      },
      "source": [
        "### D. Prime factors ⚛️\n",
        "\n",
        "A prime number $p \\ge 2$ is a number which is divisible by only $p$ itself and 1, meaning $\\frac{p}{n}$ for all other $n$ is not a whole number.\n",
        "\n",
        "Create a function which takes a positive integer $n$ and finds all prime numbers $p \\le n$.\n",
        "\n",
        "Create another function called `factor()` which takes a positive integer $n$ and returns a list of it's prime factors.\n",
        "\n",
        "For example,\n",
        "```python\n",
        "factor(2) == [2]\n",
        "factor(4) == [2, 2]\n",
        "factor(420) == [2, 2, 3, 5, 7]\n",
        "```"
      ]
    },
    {
      "cell_type": "code",
      "execution_count": 193,
      "metadata": {
        "id": "ZMGkbqanRGxq"
      },
      "outputs": [],
      "source": [
        "# your code here\n"
      ]
    },
    {
      "cell_type": "markdown",
      "metadata": {
        "id": "TCplsanjMrTa"
      },
      "source": [
        "## Solutions\n",
        "Unhide cells to see solutions."
      ]
    },
    {
      "cell_type": "markdown",
      "metadata": {
        "id": "lQ7jVOg45jTs"
      },
      "source": [
        "### Solution A.\n"
      ]
    },
    {
      "cell_type": "code",
      "execution_count": 194,
      "metadata": {
        "colab": {
          "base_uri": "https://localhost:8080/"
        },
        "id": "Mrs5D3kceZqs",
        "outputId": "d5c2065a-8ccc-4fb2-8923-682213a6d4b4"
      },
      "outputs": [
        {
          "output_type": "stream",
          "name": "stdout",
          "text": [
            "numpy.dot(a, b) = 32\n",
            "\n",
            "vector_dot(a, b) = 32\n"
          ]
        }
      ],
      "source": [
        "# test case\n",
        "a = [1, 2, 3]\n",
        "b = [4, 5, 6]\n",
        "\n",
        "print('numpy.dot(a, b) =', np.dot(a, b))\n",
        "\n",
        "# your code here\n",
        "\n",
        "def vector_dot(a, b):\n",
        "    res = 0\n",
        "    for x, y in zip(a, b):\n",
        "        res += x*y\n",
        "\n",
        "    return res\n",
        "\n",
        "print('\\nvector_dot(a, b) =', vector_dot(a, b))"
      ]
    },
    {
      "cell_type": "markdown",
      "metadata": {
        "id": "UDO1hTAMPMUO"
      },
      "source": [
        "### Solution B."
      ]
    },
    {
      "cell_type": "code",
      "execution_count": 195,
      "metadata": {
        "colab": {
          "base_uri": "https://localhost:8080/"
        },
        "id": "yma1Y7qSPKpI",
        "outputId": "3744fa7c-2717-43e2-9255-4292ce4703ec"
      },
      "outputs": [
        {
          "output_type": "stream",
          "name": "stdout",
          "text": [
            "I MET A SEER, \n",
            "PASSING THE HUES AND OBJECTS OF THE WORLD, \n",
            "THE FIELDS OF ART AND LEARNING, PLEASURE, SENSE, \n",
            "TO GLEAN EIDOLONS.\n"
          ]
        }
      ],
      "source": [
        "morse_msg = '''.. / -- . - / .- / ... . . .-. --..-- / \n",
        " .--. .- ... ... .. -. --. / - .... . / .... ..- . ... / .- -. -.. / \\\n",
        " --- -... .--- . -.-. - ... / --- ..-. / - .... . / .-- --- .-. .-.. -.. --..-- / \n",
        " - .... . / ..-. .. . .-.. -.. ... / --- ..-. / .- .-. - / .- -. -.. / \\\n",
        " .-.. . .- .-. -. .. -. --. --..-- / .--. .-.. . .- ... ..- .-. . --..-- / \\\n",
        " ... . -. ... . --..-- / \n",
        " - --- / --. .-.. . .- -. / . .. -.. --- .-.. --- -. ... .-.-.-'''\n",
        "\n",
        "morse_alpha = {\n",
        "    '/': ' ', '.-': 'A', '-...': 'B', '-.-.': 'C', '-..': 'D', '.': 'E',\n",
        "    '..-.': 'F', '--.': 'G', '....': 'H', '..': 'I', '.---': 'J', '-.-': 'K',\n",
        "    '.-..': 'L', '--': 'M', '-.': 'N', '---': 'O', '.--.': 'P', '--.-': 'Q',\n",
        "    '.-.': 'R', '...': 'S', '-': 'T', '..-': 'U', '...-': 'V', '.--': 'W',\n",
        "    '-..-': 'X', '-.--': 'Y', '--..': 'Z', '.--.-': 'À', '.-.-': 'Ä', '---.': 'Ó',\n",
        "    '-----': '%', '.----': '1', '..---': '2', '...--': '3', '....-': '4',\n",
        "    '.....': '5', '-....': '6', '--...': '7', '---..': '8', '----.': '9',\n",
        "    '.-...': '&', '.----.': \"'\", '.--.-.': '@', '-.--.-': ')', '-.--.': '(',\n",
        "    '---...': ':', '--..--': ',', '-...-': '=', '-.-.--': '!', '.-.-.-': '.',\n",
        "    '-....-': '-', '.-.-.': '+', '.-..-.': '\"', '..--..': '?', '-..-.': '/',\n",
        "    '-.-..': 'Ć', '..-..': 'Đ', '..--.': 'Ð', '.-..-': 'È', '--.-.': 'Ĝ', '.---.':\n",
        "    'Ĵ', '--.--': 'Ń', '...-...': 'Ś', '...-.': 'Ŝ', '.--..': 'Þ', '..--': 'Ü',\n",
        "    '--..-.': 'Ź', '--..-': 'Ż'\n",
        "    }\n",
        "\n",
        "# your code here\n",
        "\n",
        "# translate message\n",
        "res = []\n",
        "\n",
        "for m in morse_msg.split(' '):\n",
        "\n",
        "    if m in morse_alpha:\n",
        "        res.append(morse_alpha[m])\n",
        "        \n",
        "    else:\n",
        "        res.append(m)\n",
        "\n",
        "msg = ''.join(res)\n",
        "\n",
        "print(msg)\n"
      ]
    },
    {
      "cell_type": "markdown",
      "metadata": {
        "id": "pqA3P6O56j-D"
      },
      "source": [
        "### Solution C.\n"
      ]
    },
    {
      "cell_type": "code",
      "execution_count": 196,
      "metadata": {
        "colab": {
          "base_uri": "https://localhost:8080/"
        },
        "id": "MdoF2Ubx6lUl",
        "outputId": "14a48bad-c7ba-418e-c293-058a057130f5"
      },
      "outputs": [
        {
          "output_type": "stream",
          "name": "stdout",
          "text": [
            "numpy.dot(A, B) = \n",
            " [[ 9 12 15]\n",
            " [19 26 33]]\n",
            "\n",
            "mat_dot(A, B) = \n",
            " [[9, 12, 15], [19, 26, 33]]\n"
          ]
        }
      ],
      "source": [
        "# test case\n",
        "A = [[1, 2],\n",
        "     [3, 4]]\n",
        "\n",
        "B = [[1, 2, 3],\n",
        "     [4, 5, 6],\n",
        "     ]\n",
        "\n",
        "print('numpy.dot(A, B) = \\n', np.dot(A, B))\n",
        "\n",
        "# your code here\n",
        "\n",
        "def mat_dot(A, B):\n",
        "  \n",
        "    # dimensions\n",
        "    m, n = len(A), len(A[0])\n",
        "    nb, r = len(B), len(B[0])\n",
        "    \n",
        "    # check the A cols and B rows are the same length\n",
        "    assert n == nb, f\"Matrices dimensions incorrect ({m}x{n}) and ({nb}x{r})\"\n",
        "\n",
        "    # create matrix of zeroes\n",
        "    C = [[0 for _ in range(r)] for _ in range(m)]\n",
        "\n",
        "    for i in range(m):\n",
        "        for j in range(r):\n",
        "            for k in range(n):\n",
        "                C[i][j] += A[i][k] * B[k][j]\n",
        "\n",
        "    return C\n",
        "\n",
        "print('\\nmat_dot(A, B) = \\n', mat_dot(A, B))"
      ]
    },
    {
      "cell_type": "markdown",
      "metadata": {
        "id": "RJurbo4mRmnl"
      },
      "source": [
        "### Solution D."
      ]
    },
    {
      "cell_type": "code",
      "execution_count": 197,
      "metadata": {
        "colab": {
          "base_uri": "https://localhost:8080/"
        },
        "id": "iDCOO9z2ByN-",
        "outputId": "d9319d79-88db-44bf-d48b-b7032ee0addb"
      },
      "outputs": [
        {
          "output_type": "execute_result",
          "data": {
            "text/plain": [
              "[2, 2, 2]"
            ]
          },
          "metadata": {},
          "execution_count": 197
        }
      ],
      "source": [
        "# your code here\n",
        "\n",
        "def erastos(n):\n",
        "    '''\n",
        "    Though there are easier ways to find primes, but the\n",
        "    Sieve of Erastosthenes is a particularly beautiful algorithm\n",
        "    https://en.wikipedia.org/wiki/Sieve_of_Eratosthenes\n",
        "    '''\n",
        "\n",
        "    primes = set()\n",
        "    nonprimes = set()\n",
        "\n",
        "    for x in range(2, n+1):\n",
        "\n",
        "        # add to primes if number not in non-primes\n",
        "        if x not in nonprimes:\n",
        "            primes.add(x)\n",
        "\n",
        "        # add all multiples of x to non-primes\n",
        "        for m in range(x, n+1, x):\n",
        "            nonprimes.add(m)\n",
        "\n",
        "    return sorted(primes)\n",
        "\n",
        "def factor(n):\n",
        "\n",
        "    primes = erastos(n)\n",
        "    res = []\n",
        "\n",
        "    i = 0\n",
        "    while n > 1:\n",
        "        p = primes[i]\n",
        "\n",
        "        while n % p == 0:\n",
        "            res.append(p)\n",
        "            n = (n / p)\n",
        "\n",
        "    return res\n",
        "\n",
        "factor(8)"
      ]
    },
    {
      "cell_type": "markdown",
      "metadata": {
        "id": "aYfICsaRdVqJ"
      },
      "source": [
        "# 4. Data and analytics"
      ]
    },
    {
      "cell_type": "markdown",
      "metadata": {
        "id": "hrLIYB-XddFG"
      },
      "source": [
        "## 4.0. Pandas"
      ]
    },
    {
      "cell_type": "code",
      "execution_count": 198,
      "metadata": {
        "id": "pA46esnmdATo"
      },
      "outputs": [],
      "source": [
        "import pandas as pd\n",
        "\n",
        "import matplotlib.pyplot as plt\n",
        "%matplotlib inline"
      ]
    },
    {
      "cell_type": "markdown",
      "metadata": {
        "id": "tDYUH0-W8HCQ"
      },
      "source": [
        "Consumer Price Index <br>\n",
        "https://fred.stlouisfed.org/series/CORESTICKM159SFRBATL"
      ]
    },
    {
      "cell_type": "code",
      "execution_count": 199,
      "metadata": {
        "colab": {
          "base_uri": "https://localhost:8080/",
          "height": 455
        },
        "id": "rz4rUfrKwUn1",
        "outputId": "ee8f5112-a396-40d1-be61-d1b4c8497666"
      },
      "outputs": [
        {
          "output_type": "execute_result",
          "data": {
            "text/plain": [
              "            inflation\n",
              "date                 \n",
              "1967-12-01   3.383497\n",
              "1968-01-01   3.659987\n",
              "1968-02-01   3.682012\n",
              "1968-03-01   4.151668\n",
              "1968-04-01   4.165427\n",
              "...               ...\n",
              "2022-07-01   5.629465\n",
              "2022-08-01   5.990544\n",
              "2022-09-01   6.393735\n",
              "2022-10-01   6.367826\n",
              "2022-11-01   6.475764\n",
              "\n",
              "[660 rows x 1 columns]"
            ],
            "text/html": [
              "\n",
              "  <div id=\"df-7ef2f642-2b26-4d33-b9f6-9daae4e5fcd8\">\n",
              "    <div class=\"colab-df-container\">\n",
              "      <div>\n",
              "<style scoped>\n",
              "    .dataframe tbody tr th:only-of-type {\n",
              "        vertical-align: middle;\n",
              "    }\n",
              "\n",
              "    .dataframe tbody tr th {\n",
              "        vertical-align: top;\n",
              "    }\n",
              "\n",
              "    .dataframe thead th {\n",
              "        text-align: right;\n",
              "    }\n",
              "</style>\n",
              "<table border=\"1\" class=\"dataframe\">\n",
              "  <thead>\n",
              "    <tr style=\"text-align: right;\">\n",
              "      <th></th>\n",
              "      <th>inflation</th>\n",
              "    </tr>\n",
              "    <tr>\n",
              "      <th>date</th>\n",
              "      <th></th>\n",
              "    </tr>\n",
              "  </thead>\n",
              "  <tbody>\n",
              "    <tr>\n",
              "      <th>1967-12-01</th>\n",
              "      <td>3.383497</td>\n",
              "    </tr>\n",
              "    <tr>\n",
              "      <th>1968-01-01</th>\n",
              "      <td>3.659987</td>\n",
              "    </tr>\n",
              "    <tr>\n",
              "      <th>1968-02-01</th>\n",
              "      <td>3.682012</td>\n",
              "    </tr>\n",
              "    <tr>\n",
              "      <th>1968-03-01</th>\n",
              "      <td>4.151668</td>\n",
              "    </tr>\n",
              "    <tr>\n",
              "      <th>1968-04-01</th>\n",
              "      <td>4.165427</td>\n",
              "    </tr>\n",
              "    <tr>\n",
              "      <th>...</th>\n",
              "      <td>...</td>\n",
              "    </tr>\n",
              "    <tr>\n",
              "      <th>2022-07-01</th>\n",
              "      <td>5.629465</td>\n",
              "    </tr>\n",
              "    <tr>\n",
              "      <th>2022-08-01</th>\n",
              "      <td>5.990544</td>\n",
              "    </tr>\n",
              "    <tr>\n",
              "      <th>2022-09-01</th>\n",
              "      <td>6.393735</td>\n",
              "    </tr>\n",
              "    <tr>\n",
              "      <th>2022-10-01</th>\n",
              "      <td>6.367826</td>\n",
              "    </tr>\n",
              "    <tr>\n",
              "      <th>2022-11-01</th>\n",
              "      <td>6.475764</td>\n",
              "    </tr>\n",
              "  </tbody>\n",
              "</table>\n",
              "<p>660 rows × 1 columns</p>\n",
              "</div>\n",
              "      <button class=\"colab-df-convert\" onclick=\"convertToInteractive('df-7ef2f642-2b26-4d33-b9f6-9daae4e5fcd8')\"\n",
              "              title=\"Convert this dataframe to an interactive table.\"\n",
              "              style=\"display:none;\">\n",
              "        \n",
              "  <svg xmlns=\"http://www.w3.org/2000/svg\" height=\"24px\"viewBox=\"0 0 24 24\"\n",
              "       width=\"24px\">\n",
              "    <path d=\"M0 0h24v24H0V0z\" fill=\"none\"/>\n",
              "    <path d=\"M18.56 5.44l.94 2.06.94-2.06 2.06-.94-2.06-.94-.94-2.06-.94 2.06-2.06.94zm-11 1L8.5 8.5l.94-2.06 2.06-.94-2.06-.94L8.5 2.5l-.94 2.06-2.06.94zm10 10l.94 2.06.94-2.06 2.06-.94-2.06-.94-.94-2.06-.94 2.06-2.06.94z\"/><path d=\"M17.41 7.96l-1.37-1.37c-.4-.4-.92-.59-1.43-.59-.52 0-1.04.2-1.43.59L10.3 9.45l-7.72 7.72c-.78.78-.78 2.05 0 2.83L4 21.41c.39.39.9.59 1.41.59.51 0 1.02-.2 1.41-.59l7.78-7.78 2.81-2.81c.8-.78.8-2.07 0-2.86zM5.41 20L4 18.59l7.72-7.72 1.47 1.35L5.41 20z\"/>\n",
              "  </svg>\n",
              "      </button>\n",
              "      \n",
              "  <style>\n",
              "    .colab-df-container {\n",
              "      display:flex;\n",
              "      flex-wrap:wrap;\n",
              "      gap: 12px;\n",
              "    }\n",
              "\n",
              "    .colab-df-convert {\n",
              "      background-color: #E8F0FE;\n",
              "      border: none;\n",
              "      border-radius: 50%;\n",
              "      cursor: pointer;\n",
              "      display: none;\n",
              "      fill: #1967D2;\n",
              "      height: 32px;\n",
              "      padding: 0 0 0 0;\n",
              "      width: 32px;\n",
              "    }\n",
              "\n",
              "    .colab-df-convert:hover {\n",
              "      background-color: #E2EBFA;\n",
              "      box-shadow: 0px 1px 2px rgba(60, 64, 67, 0.3), 0px 1px 3px 1px rgba(60, 64, 67, 0.15);\n",
              "      fill: #174EA6;\n",
              "    }\n",
              "\n",
              "    [theme=dark] .colab-df-convert {\n",
              "      background-color: #3B4455;\n",
              "      fill: #D2E3FC;\n",
              "    }\n",
              "\n",
              "    [theme=dark] .colab-df-convert:hover {\n",
              "      background-color: #434B5C;\n",
              "      box-shadow: 0px 1px 3px 1px rgba(0, 0, 0, 0.15);\n",
              "      filter: drop-shadow(0px 1px 2px rgba(0, 0, 0, 0.3));\n",
              "      fill: #FFFFFF;\n",
              "    }\n",
              "  </style>\n",
              "\n",
              "      <script>\n",
              "        const buttonEl =\n",
              "          document.querySelector('#df-7ef2f642-2b26-4d33-b9f6-9daae4e5fcd8 button.colab-df-convert');\n",
              "        buttonEl.style.display =\n",
              "          google.colab.kernel.accessAllowed ? 'block' : 'none';\n",
              "\n",
              "        async function convertToInteractive(key) {\n",
              "          const element = document.querySelector('#df-7ef2f642-2b26-4d33-b9f6-9daae4e5fcd8');\n",
              "          const dataTable =\n",
              "            await google.colab.kernel.invokeFunction('convertToInteractive',\n",
              "                                                     [key], {});\n",
              "          if (!dataTable) return;\n",
              "\n",
              "          const docLinkHtml = 'Like what you see? Visit the ' +\n",
              "            '<a target=\"_blank\" href=https://colab.research.google.com/notebooks/data_table.ipynb>data table notebook</a>'\n",
              "            + ' to learn more about interactive tables.';\n",
              "          element.innerHTML = '';\n",
              "          dataTable['output_type'] = 'display_data';\n",
              "          await google.colab.output.renderOutput(dataTable, element);\n",
              "          const docLink = document.createElement('div');\n",
              "          docLink.innerHTML = docLinkHtml;\n",
              "          element.appendChild(docLink);\n",
              "        }\n",
              "      </script>\n",
              "    </div>\n",
              "  </div>\n",
              "  "
            ]
          },
          "metadata": {},
          "execution_count": 199
        }
      ],
      "source": [
        "# Consumer Price Index\n",
        "\n",
        "# https://fred.stlouisfed.org/series/CORESTICKM159SFRBATL\n",
        "cpi_url = 'https://fred.stlouisfed.org/graph/fredgraph.csv?&id=CORESTICKM159SFRBATL'\n",
        "\n",
        "cpi = pd.read_csv(cpi_url)\n",
        "\n",
        "# change name\n",
        "cpi.columns = ['date', 'inflation']\n",
        "\n",
        "# convert to datetime\n",
        "cpi['date'] = pd.to_datetime(cpi['date'])\n",
        "\n",
        "# set date as index\n",
        "cpi = cpi.set_index('date')\n",
        "\n",
        "cpi"
      ]
    },
    {
      "cell_type": "markdown",
      "metadata": {
        "id": "OeV4zq6d8Dvj"
      },
      "source": [
        "Global energy price index <br>\n",
        "https://fred.stlouisfed.org/series/PNRGINDEXM"
      ]
    },
    {
      "cell_type": "code",
      "execution_count": 200,
      "metadata": {
        "colab": {
          "base_uri": "https://localhost:8080/",
          "height": 455
        },
        "id": "FP453PXAyh7N",
        "outputId": "7029e1f7-5738-43aa-a2d1-5ae89d0def8b"
      },
      "outputs": [
        {
          "output_type": "execute_result",
          "data": {
            "text/plain": [
              "              energy\n",
              "date                \n",
              "1992-01-01 -0.555478\n",
              "1992-02-01 -0.559871\n",
              "1992-03-01 -0.561714\n",
              "1992-04-01 -0.538443\n",
              "1992-05-01 -0.517947\n",
              "...              ...\n",
              "2022-06-01  2.281235\n",
              "2022-07-01  2.438100\n",
              "2022-08-01  2.764121\n",
              "2022-09-01  2.301496\n",
              "2022-10-01  1.598587\n",
              "\n",
              "[370 rows x 1 columns]"
            ],
            "text/html": [
              "\n",
              "  <div id=\"df-709ae02a-30d8-4fda-a1ca-9dc7f7fb5ac6\">\n",
              "    <div class=\"colab-df-container\">\n",
              "      <div>\n",
              "<style scoped>\n",
              "    .dataframe tbody tr th:only-of-type {\n",
              "        vertical-align: middle;\n",
              "    }\n",
              "\n",
              "    .dataframe tbody tr th {\n",
              "        vertical-align: top;\n",
              "    }\n",
              "\n",
              "    .dataframe thead th {\n",
              "        text-align: right;\n",
              "    }\n",
              "</style>\n",
              "<table border=\"1\" class=\"dataframe\">\n",
              "  <thead>\n",
              "    <tr style=\"text-align: right;\">\n",
              "      <th></th>\n",
              "      <th>energy</th>\n",
              "    </tr>\n",
              "    <tr>\n",
              "      <th>date</th>\n",
              "      <th></th>\n",
              "    </tr>\n",
              "  </thead>\n",
              "  <tbody>\n",
              "    <tr>\n",
              "      <th>1992-01-01</th>\n",
              "      <td>-0.555478</td>\n",
              "    </tr>\n",
              "    <tr>\n",
              "      <th>1992-02-01</th>\n",
              "      <td>-0.559871</td>\n",
              "    </tr>\n",
              "    <tr>\n",
              "      <th>1992-03-01</th>\n",
              "      <td>-0.561714</td>\n",
              "    </tr>\n",
              "    <tr>\n",
              "      <th>1992-04-01</th>\n",
              "      <td>-0.538443</td>\n",
              "    </tr>\n",
              "    <tr>\n",
              "      <th>1992-05-01</th>\n",
              "      <td>-0.517947</td>\n",
              "    </tr>\n",
              "    <tr>\n",
              "      <th>...</th>\n",
              "      <td>...</td>\n",
              "    </tr>\n",
              "    <tr>\n",
              "      <th>2022-06-01</th>\n",
              "      <td>2.281235</td>\n",
              "    </tr>\n",
              "    <tr>\n",
              "      <th>2022-07-01</th>\n",
              "      <td>2.438100</td>\n",
              "    </tr>\n",
              "    <tr>\n",
              "      <th>2022-08-01</th>\n",
              "      <td>2.764121</td>\n",
              "    </tr>\n",
              "    <tr>\n",
              "      <th>2022-09-01</th>\n",
              "      <td>2.301496</td>\n",
              "    </tr>\n",
              "    <tr>\n",
              "      <th>2022-10-01</th>\n",
              "      <td>1.598587</td>\n",
              "    </tr>\n",
              "  </tbody>\n",
              "</table>\n",
              "<p>370 rows × 1 columns</p>\n",
              "</div>\n",
              "      <button class=\"colab-df-convert\" onclick=\"convertToInteractive('df-709ae02a-30d8-4fda-a1ca-9dc7f7fb5ac6')\"\n",
              "              title=\"Convert this dataframe to an interactive table.\"\n",
              "              style=\"display:none;\">\n",
              "        \n",
              "  <svg xmlns=\"http://www.w3.org/2000/svg\" height=\"24px\"viewBox=\"0 0 24 24\"\n",
              "       width=\"24px\">\n",
              "    <path d=\"M0 0h24v24H0V0z\" fill=\"none\"/>\n",
              "    <path d=\"M18.56 5.44l.94 2.06.94-2.06 2.06-.94-2.06-.94-.94-2.06-.94 2.06-2.06.94zm-11 1L8.5 8.5l.94-2.06 2.06-.94-2.06-.94L8.5 2.5l-.94 2.06-2.06.94zm10 10l.94 2.06.94-2.06 2.06-.94-2.06-.94-.94-2.06-.94 2.06-2.06.94z\"/><path d=\"M17.41 7.96l-1.37-1.37c-.4-.4-.92-.59-1.43-.59-.52 0-1.04.2-1.43.59L10.3 9.45l-7.72 7.72c-.78.78-.78 2.05 0 2.83L4 21.41c.39.39.9.59 1.41.59.51 0 1.02-.2 1.41-.59l7.78-7.78 2.81-2.81c.8-.78.8-2.07 0-2.86zM5.41 20L4 18.59l7.72-7.72 1.47 1.35L5.41 20z\"/>\n",
              "  </svg>\n",
              "      </button>\n",
              "      \n",
              "  <style>\n",
              "    .colab-df-container {\n",
              "      display:flex;\n",
              "      flex-wrap:wrap;\n",
              "      gap: 12px;\n",
              "    }\n",
              "\n",
              "    .colab-df-convert {\n",
              "      background-color: #E8F0FE;\n",
              "      border: none;\n",
              "      border-radius: 50%;\n",
              "      cursor: pointer;\n",
              "      display: none;\n",
              "      fill: #1967D2;\n",
              "      height: 32px;\n",
              "      padding: 0 0 0 0;\n",
              "      width: 32px;\n",
              "    }\n",
              "\n",
              "    .colab-df-convert:hover {\n",
              "      background-color: #E2EBFA;\n",
              "      box-shadow: 0px 1px 2px rgba(60, 64, 67, 0.3), 0px 1px 3px 1px rgba(60, 64, 67, 0.15);\n",
              "      fill: #174EA6;\n",
              "    }\n",
              "\n",
              "    [theme=dark] .colab-df-convert {\n",
              "      background-color: #3B4455;\n",
              "      fill: #D2E3FC;\n",
              "    }\n",
              "\n",
              "    [theme=dark] .colab-df-convert:hover {\n",
              "      background-color: #434B5C;\n",
              "      box-shadow: 0px 1px 3px 1px rgba(0, 0, 0, 0.15);\n",
              "      filter: drop-shadow(0px 1px 2px rgba(0, 0, 0, 0.3));\n",
              "      fill: #FFFFFF;\n",
              "    }\n",
              "  </style>\n",
              "\n",
              "      <script>\n",
              "        const buttonEl =\n",
              "          document.querySelector('#df-709ae02a-30d8-4fda-a1ca-9dc7f7fb5ac6 button.colab-df-convert');\n",
              "        buttonEl.style.display =\n",
              "          google.colab.kernel.accessAllowed ? 'block' : 'none';\n",
              "\n",
              "        async function convertToInteractive(key) {\n",
              "          const element = document.querySelector('#df-709ae02a-30d8-4fda-a1ca-9dc7f7fb5ac6');\n",
              "          const dataTable =\n",
              "            await google.colab.kernel.invokeFunction('convertToInteractive',\n",
              "                                                     [key], {});\n",
              "          if (!dataTable) return;\n",
              "\n",
              "          const docLinkHtml = 'Like what you see? Visit the ' +\n",
              "            '<a target=\"_blank\" href=https://colab.research.google.com/notebooks/data_table.ipynb>data table notebook</a>'\n",
              "            + ' to learn more about interactive tables.';\n",
              "          element.innerHTML = '';\n",
              "          dataTable['output_type'] = 'display_data';\n",
              "          await google.colab.output.renderOutput(dataTable, element);\n",
              "          const docLink = document.createElement('div');\n",
              "          docLink.innerHTML = docLinkHtml;\n",
              "          element.appendChild(docLink);\n",
              "        }\n",
              "      </script>\n",
              "    </div>\n",
              "  </div>\n",
              "  "
            ]
          },
          "metadata": {},
          "execution_count": 200
        }
      ],
      "source": [
        "# https://fred.stlouisfed.org/series/PNRGINDEXM\n",
        "energy_url = 'https://fred.stlouisfed.org/graph/fredgraph.csv?&id=PNRGINDEXM'\n",
        "\n",
        "energy = pd.read_csv(energy_url)\n",
        "\n",
        "# Change column name\n",
        "energy.columns = ['date', 'energy']\n",
        "\n",
        "# convert to datetime\n",
        "energy['date'] = pd.to_datetime(energy['date'])\n",
        "\n",
        "# set date as index\n",
        "energy = energy.set_index('date')\n",
        "\n",
        "# normalize price\n",
        "energy['energy'] = energy['energy'] / 100 - 1\n",
        "\n",
        "energy"
      ]
    },
    {
      "cell_type": "code",
      "execution_count": 201,
      "metadata": {
        "colab": {
          "base_uri": "https://localhost:8080/",
          "height": 237
        },
        "id": "yS-SudxK55Bc",
        "outputId": "d948fcdd-94bf-4c9e-bbee-196ee9abe0aa"
      },
      "outputs": [
        {
          "output_type": "execute_result",
          "data": {
            "text/plain": [
              "            inflation    energy\n",
              "date                           \n",
              "2022-06-01   5.425963  2.281235\n",
              "2022-07-01   5.629465  2.438100\n",
              "2022-08-01   5.990544  2.764121\n",
              "2022-09-01   6.393735  2.301496\n",
              "2022-10-01   6.367826  1.598587"
            ],
            "text/html": [
              "\n",
              "  <div id=\"df-360aea2b-fb28-40c0-a1d3-ad5828a373b7\">\n",
              "    <div class=\"colab-df-container\">\n",
              "      <div>\n",
              "<style scoped>\n",
              "    .dataframe tbody tr th:only-of-type {\n",
              "        vertical-align: middle;\n",
              "    }\n",
              "\n",
              "    .dataframe tbody tr th {\n",
              "        vertical-align: top;\n",
              "    }\n",
              "\n",
              "    .dataframe thead th {\n",
              "        text-align: right;\n",
              "    }\n",
              "</style>\n",
              "<table border=\"1\" class=\"dataframe\">\n",
              "  <thead>\n",
              "    <tr style=\"text-align: right;\">\n",
              "      <th></th>\n",
              "      <th>inflation</th>\n",
              "      <th>energy</th>\n",
              "    </tr>\n",
              "    <tr>\n",
              "      <th>date</th>\n",
              "      <th></th>\n",
              "      <th></th>\n",
              "    </tr>\n",
              "  </thead>\n",
              "  <tbody>\n",
              "    <tr>\n",
              "      <th>2022-06-01</th>\n",
              "      <td>5.425963</td>\n",
              "      <td>2.281235</td>\n",
              "    </tr>\n",
              "    <tr>\n",
              "      <th>2022-07-01</th>\n",
              "      <td>5.629465</td>\n",
              "      <td>2.438100</td>\n",
              "    </tr>\n",
              "    <tr>\n",
              "      <th>2022-08-01</th>\n",
              "      <td>5.990544</td>\n",
              "      <td>2.764121</td>\n",
              "    </tr>\n",
              "    <tr>\n",
              "      <th>2022-09-01</th>\n",
              "      <td>6.393735</td>\n",
              "      <td>2.301496</td>\n",
              "    </tr>\n",
              "    <tr>\n",
              "      <th>2022-10-01</th>\n",
              "      <td>6.367826</td>\n",
              "      <td>1.598587</td>\n",
              "    </tr>\n",
              "  </tbody>\n",
              "</table>\n",
              "</div>\n",
              "      <button class=\"colab-df-convert\" onclick=\"convertToInteractive('df-360aea2b-fb28-40c0-a1d3-ad5828a373b7')\"\n",
              "              title=\"Convert this dataframe to an interactive table.\"\n",
              "              style=\"display:none;\">\n",
              "        \n",
              "  <svg xmlns=\"http://www.w3.org/2000/svg\" height=\"24px\"viewBox=\"0 0 24 24\"\n",
              "       width=\"24px\">\n",
              "    <path d=\"M0 0h24v24H0V0z\" fill=\"none\"/>\n",
              "    <path d=\"M18.56 5.44l.94 2.06.94-2.06 2.06-.94-2.06-.94-.94-2.06-.94 2.06-2.06.94zm-11 1L8.5 8.5l.94-2.06 2.06-.94-2.06-.94L8.5 2.5l-.94 2.06-2.06.94zm10 10l.94 2.06.94-2.06 2.06-.94-2.06-.94-.94-2.06-.94 2.06-2.06.94z\"/><path d=\"M17.41 7.96l-1.37-1.37c-.4-.4-.92-.59-1.43-.59-.52 0-1.04.2-1.43.59L10.3 9.45l-7.72 7.72c-.78.78-.78 2.05 0 2.83L4 21.41c.39.39.9.59 1.41.59.51 0 1.02-.2 1.41-.59l7.78-7.78 2.81-2.81c.8-.78.8-2.07 0-2.86zM5.41 20L4 18.59l7.72-7.72 1.47 1.35L5.41 20z\"/>\n",
              "  </svg>\n",
              "      </button>\n",
              "      \n",
              "  <style>\n",
              "    .colab-df-container {\n",
              "      display:flex;\n",
              "      flex-wrap:wrap;\n",
              "      gap: 12px;\n",
              "    }\n",
              "\n",
              "    .colab-df-convert {\n",
              "      background-color: #E8F0FE;\n",
              "      border: none;\n",
              "      border-radius: 50%;\n",
              "      cursor: pointer;\n",
              "      display: none;\n",
              "      fill: #1967D2;\n",
              "      height: 32px;\n",
              "      padding: 0 0 0 0;\n",
              "      width: 32px;\n",
              "    }\n",
              "\n",
              "    .colab-df-convert:hover {\n",
              "      background-color: #E2EBFA;\n",
              "      box-shadow: 0px 1px 2px rgba(60, 64, 67, 0.3), 0px 1px 3px 1px rgba(60, 64, 67, 0.15);\n",
              "      fill: #174EA6;\n",
              "    }\n",
              "\n",
              "    [theme=dark] .colab-df-convert {\n",
              "      background-color: #3B4455;\n",
              "      fill: #D2E3FC;\n",
              "    }\n",
              "\n",
              "    [theme=dark] .colab-df-convert:hover {\n",
              "      background-color: #434B5C;\n",
              "      box-shadow: 0px 1px 3px 1px rgba(0, 0, 0, 0.15);\n",
              "      filter: drop-shadow(0px 1px 2px rgba(0, 0, 0, 0.3));\n",
              "      fill: #FFFFFF;\n",
              "    }\n",
              "  </style>\n",
              "\n",
              "      <script>\n",
              "        const buttonEl =\n",
              "          document.querySelector('#df-360aea2b-fb28-40c0-a1d3-ad5828a373b7 button.colab-df-convert');\n",
              "        buttonEl.style.display =\n",
              "          google.colab.kernel.accessAllowed ? 'block' : 'none';\n",
              "\n",
              "        async function convertToInteractive(key) {\n",
              "          const element = document.querySelector('#df-360aea2b-fb28-40c0-a1d3-ad5828a373b7');\n",
              "          const dataTable =\n",
              "            await google.colab.kernel.invokeFunction('convertToInteractive',\n",
              "                                                     [key], {});\n",
              "          if (!dataTable) return;\n",
              "\n",
              "          const docLinkHtml = 'Like what you see? Visit the ' +\n",
              "            '<a target=\"_blank\" href=https://colab.research.google.com/notebooks/data_table.ipynb>data table notebook</a>'\n",
              "            + ' to learn more about interactive tables.';\n",
              "          element.innerHTML = '';\n",
              "          dataTable['output_type'] = 'display_data';\n",
              "          await google.colab.output.renderOutput(dataTable, element);\n",
              "          const docLink = document.createElement('div');\n",
              "          docLink.innerHTML = docLinkHtml;\n",
              "          element.appendChild(docLink);\n",
              "        }\n",
              "      </script>\n",
              "    </div>\n",
              "  </div>\n",
              "  "
            ]
          },
          "metadata": {},
          "execution_count": 201
        }
      ],
      "source": [
        "# merge dataframes\n",
        "df = cpi.merge(energy, left_index=True, right_index=True)\n",
        "\n",
        "# keep last 10 years\n",
        "years = 10\n",
        "df = df.tail(12 * years)\n",
        "df.tail()"
      ]
    },
    {
      "cell_type": "markdown",
      "metadata": {
        "id": "aKpacchjABn-"
      },
      "source": [
        "## 4.1. Plotting"
      ]
    },
    {
      "cell_type": "code",
      "execution_count": 202,
      "metadata": {
        "colab": {
          "base_uri": "https://localhost:8080/",
          "height": 395
        },
        "id": "tn8WqPXdzTbA",
        "outputId": "b97ead3e-3767-43e7-af00-1d517699d89f"
      },
      "outputs": [
        {
          "output_type": "display_data",
          "data": {
            "text/plain": [
              "<Figure size 864x432 with 1 Axes>"
            ],
            "image/png": "[encoded data removed]"
          },
          "metadata": {
            "needs_background": "light"
          }
        }
      ],
      "source": [
        "plt.figure(figsize=(12, 6))\n",
        "\n",
        "plt.plot(df['inflation'], lw=3)\n",
        "plt.plot(df['energy'], lw=3)\n",
        "\n",
        "plt.legend(['Inflation','' 'Energy Price'])\n",
        "\n",
        "plt.title('Inflation and Energy Prices', fontsize=20)\n",
        "\n",
        "plt.grid()\n",
        "plt.show()"
      ]
    },
    {
      "cell_type": "code",
      "execution_count": 203,
      "metadata": {
        "colab": {
          "base_uri": "https://localhost:8080/",
          "height": 523
        },
        "id": "n1eLktp6DjzS",
        "outputId": "889c5684-c01e-4a4e-a133-d08c1f9051d2"
      },
      "outputs": [
        {
          "output_type": "display_data",
          "data": {
            "text/plain": [
              "<Figure size 864x576 with 1 Axes>"
            ],
            "image/png": "[encoded data removed]"
          },
          "metadata": {
            "needs_background": "light"
          }
        }
      ],
      "source": [
        "plt.figure(figsize=(12, 8))\n",
        "\n",
        "plt.hist(df['inflation'], bins=10)\n",
        "\n",
        "plt.grid()\n",
        "\n",
        "plt.title(f'Inflation rates in past {years} years', fontsize=20)\n",
        "plt.ylabel('Periods', fontsize=16)\n",
        "plt.xlabel('Percentage change in CPI (annual)', fontsize=16)\n",
        "\n",
        "mean = df['inflation'].mean()\n",
        "meanline = plt.axvline(mean, color='r')\n",
        "\n",
        "median = df['inflation'].median()\n",
        "medline = plt.axvline(median, color='g', linestyle='--')\n",
        "\n",
        "plt.legend([meanline, medline],\n",
        "           [f'mean: {mean:.2f}', f'median: {median:.2f}'],\n",
        "           fontsize=12\n",
        "           )\n",
        "\n",
        "plt.show()"
      ]
    },
    {
      "cell_type": "markdown",
      "metadata": {
        "id": "jfmSWVYrdcxD"
      },
      "source": [
        "## 4.2. Linear regression"
      ]
    },
    {
      "cell_type": "code",
      "execution_count": 204,
      "metadata": {
        "id": "phOcz9Yt3woa"
      },
      "outputs": [],
      "source": [
        "import statsmodels.formula.api as sm"
      ]
    },
    {
      "cell_type": "code",
      "execution_count": 205,
      "metadata": {
        "colab": {
          "base_uri": "https://localhost:8080/"
        },
        "id": "ILkSV4Ee7WQs",
        "outputId": "66344d33-adae-4c6c-9a5e-b1a1ddb8c895"
      },
      "outputs": [
        {
          "output_type": "stream",
          "name": "stdout",
          "text": [
            "                            OLS Regression Results                            \n",
            "==============================================================================\n",
            "Dep. Variable:              inflation   R-squared:                       0.318\n",
            "Model:                            OLS   Adj. R-squared:                  0.312\n",
            "Method:                 Least Squares   F-statistic:                     54.96\n",
            "Date:                Thu, 29 Dec 2022   Prob (F-statistic):           2.03e-11\n",
            "Time:                        00:04:36   Log-Likelihood:                -135.90\n",
            "No. Observations:                 120   AIC:                             275.8\n",
            "Df Residuals:                     118   BIC:                             281.4\n",
            "Df Model:                           1                                         \n",
            "Covariance Type:            nonrobust                                         \n",
            "==============================================================================\n",
            "                 coef    std err          t      P>|t|      [0.025      0.975]\n",
            "------------------------------------------------------------------------------\n",
            "Intercept      2.0311      0.096     21.165      0.000       1.841       2.221\n",
            "energy         0.7778      0.105      7.414      0.000       0.570       0.986\n",
            "==============================================================================\n",
            "Omnibus:                       22.911   Durbin-Watson:                   0.055\n",
            "Prob(Omnibus):                  0.000   Jarque-Bera (JB):               40.077\n",
            "Skew:                           0.846   Prob(JB):                     1.98e-09\n",
            "Kurtosis:                       5.270   Cond. No.                         2.36\n",
            "==============================================================================\n",
            "\n",
            "Notes:\n",
            "[1] Standard Errors assume that the covariance matrix of the errors is correctly specified.\n"
          ]
        }
      ],
      "source": [
        "model = sm.ols('inflation ~ energy', data=df)\n",
        "\n",
        "res = model.fit()\n",
        "\n",
        "print(res.summary())"
      ]
    },
    {
      "cell_type": "code",
      "execution_count": 206,
      "metadata": {
        "colab": {
          "base_uri": "https://localhost:8080/"
        },
        "id": "gSNbQFgL9tnk",
        "outputId": "434e9a39-cb77-402e-9602-20f64a70225f"
      },
      "outputs": [
        {
          "output_type": "execute_result",
          "data": {
            "text/plain": [
              "Intercept    2.031052\n",
              "energy       0.777802\n",
              "dtype: float64"
            ]
          },
          "metadata": {},
          "execution_count": 206
        }
      ],
      "source": [
        "res.params"
      ]
    },
    {
      "cell_type": "code",
      "execution_count": 207,
      "metadata": {
        "colab": {
          "base_uri": "https://localhost:8080/"
        },
        "id": "BLdJihUDD3q-",
        "outputId": "aaed2516-dde1-4c30-eeba-a28bbb26442b"
      },
      "outputs": [
        {
          "output_type": "stream",
          "name": "stdout",
          "text": [
            "0.7778016083640252\n"
          ]
        }
      ],
      "source": [
        "# analytical solution for simple OLS\n",
        "corr_xy = df.corr()['inflation']['energy']\n",
        "std_y = df.std()['inflation']\n",
        "std_x = df.std()['energy']\n",
        "\n",
        "beta = corr_xy * std_y / std_x\n",
        "\n",
        "print(beta)"
      ]
    },
    {
      "cell_type": "markdown",
      "metadata": {
        "id": "q2UTh17zLseL"
      },
      "source": [
        "## 4.3. Predictive modeling\n",
        "\n",
        "[Neural Network tutorial](https://colab.research.google.com/github/tensorflow/docs/blob/master/site/en/tutorials/quickstart/beginner.ipynb)"
      ]
    },
    {
      "cell_type": "code",
      "execution_count": 208,
      "metadata": {
        "id": "vZ1uPzT7Lunh"
      },
      "outputs": [],
      "source": [
        "import numpy as np\n",
        "\n",
        "import tensorflow as tf\n",
        "\n",
        "# load data\n",
        "(x_train, y_train), (x_test, y_test) = tf.keras.datasets.mnist.load_data()\n",
        "\n",
        "x_train, x_test = x_train / 255.0, x_test / 255.0"
      ]
    },
    {
      "cell_type": "code",
      "execution_count": 209,
      "metadata": {
        "colab": {
          "base_uri": "https://localhost:8080/",
          "height": 553
        },
        "id": "Dj4_qfLJMi_O",
        "outputId": "936d6b30-9638-4477-fd05-7095ab49de8e"
      },
      "outputs": [
        {
          "output_type": "display_data",
          "data": {
            "text/plain": [
              "<Figure size 648x648 with 9 Axes>"
            ],
            "image/png": "[encoded data removed]"
          },
          "metadata": {
            "needs_background": "light"
          }
        }
      ],
      "source": [
        "# show data\n",
        "\n",
        "rows, cols = 3, 3\n",
        "fig, axes = plt.subplots(rows, cols, figsize=(3*rows, 3*cols))\n",
        "\n",
        "for i, ax in enumerate(axes.flatten()):\n",
        "    ax.imshow(x_train[i], cmap='gist_gray')\n",
        "    ax.set_title(y_train[i])\n",
        "\n",
        "plt.show()"
      ]
    },
    {
      "cell_type": "code",
      "execution_count": 210,
      "metadata": {
        "id": "GY443OwsPYI2"
      },
      "outputs": [],
      "source": [
        "# specify model\n",
        "model = tf.keras.models.Sequential([\n",
        "    tf.keras.layers.Flatten(input_shape=(28, 28)),\n",
        "    tf.keras.layers.Dense(128, activation='relu'),\n",
        "    tf.keras.layers.Dropout(0.2),\n",
        "    tf.keras.layers.Dense(10)\n",
        "])\n",
        "\n",
        "# loss function\n",
        "loss_fn = tf.keras.losses.SparseCategoricalCrossentropy(from_logits=True)"
      ]
    },
    {
      "cell_type": "code",
      "execution_count": 211,
      "metadata": {
        "colab": {
          "base_uri": "https://localhost:8080/"
        },
        "id": "wG7dOJYiRIFD",
        "outputId": "5ebab0c0-49b4-457d-b05c-2c414e393d2b"
      },
      "outputs": [
        {
          "output_type": "stream",
          "name": "stdout",
          "text": [
            "Epoch 1/5\n",
            "1875/1875 [==============================] - 5s 2ms/step - loss: 0.3012 - accuracy: 0.9122\n",
            "Epoch 2/5\n",
            "1875/1875 [==============================] - 6s 3ms/step - loss: 0.1449 - accuracy: 0.9575\n",
            "Epoch 3/5\n",
            "1875/1875 [==============================] - 5s 3ms/step - loss: 0.1093 - accuracy: 0.9671\n",
            "Epoch 4/5\n",
            "1875/1875 [==============================] - 5s 2ms/step - loss: 0.0918 - accuracy: 0.9715\n",
            "Epoch 5/5\n",
            "1875/1875 [==============================] - 5s 3ms/step - loss: 0.0774 - accuracy: 0.9753\n"
          ]
        },
        {
          "output_type": "execute_result",
          "data": {
            "text/plain": [
              "<keras.callbacks.History at 0x7f2e31454310>"
            ]
          },
          "metadata": {},
          "execution_count": 211
        }
      ],
      "source": [
        "# compile and train model\n",
        "model.compile(optimizer='adam',\n",
        "              loss=loss_fn,\n",
        "              metrics=['accuracy'])\n",
        "\n",
        "model.fit(x_train, y_train, epochs=5)"
      ]
    },
    {
      "cell_type": "code",
      "execution_count": 212,
      "metadata": {
        "colab": {
          "base_uri": "https://localhost:8080/"
        },
        "id": "YOTbpOS3RigR",
        "outputId": "a3cfa791-9d27-44bf-c074-c0ee94eaf241"
      },
      "outputs": [
        {
          "output_type": "stream",
          "name": "stdout",
          "text": [
            "313/313 - 1s - loss: 0.0739 - accuracy: 0.9769 - 567ms/epoch - 2ms/step\n",
            "0.07385458797216415 0.9768999814987183\n"
          ]
        }
      ],
      "source": [
        "loss, accuracy = model.evaluate(x_test,  y_test, verbose=2)\n",
        "\n",
        "print(loss, accuracy)"
      ]
    },
    {
      "cell_type": "code",
      "execution_count": 213,
      "metadata": {
        "id": "Iyh4HTYZXuFV"
      },
      "outputs": [],
      "source": [
        "from PIL import Image\n",
        "import os\n",
        "\n",
        "img_file = \"handwritten.png\"\n",
        "\n",
        "if os.path.exists(img_file):\n",
        "  \n",
        "    # read image\n",
        "    image = Image.open(img_file)\n",
        "\n",
        "    # convert to monochrome\n",
        "    image = image.convert('L')\n",
        "\n",
        "    # resize\n",
        "    image = image.resize((28, 28))\n",
        "\n",
        "    image = np.array(image)\n",
        "\n",
        "    # check dimensions\n",
        "    print(image.shape)\n",
        "\n",
        "    # show image\n",
        "    image = abs(1 - (image / 255))\n",
        "\n",
        "    plt.imshow(image, cmap='gist_gray')\n",
        "    plt.show()\n",
        "\n",
        "\n",
        "    # predict\n",
        "    x = np.array([image])\n",
        "    np.argmax(model(x))"
      ]
    },
    {
      "cell_type": "code",
      "execution_count": 214,
      "metadata": {
        "colab": {
          "base_uri": "https://localhost:8080/"
        },
        "id": "uf6zxMZxO4rx",
        "outputId": "317020f2-91f7-4f59-fa88-7d545ce5cb81"
      },
      "outputs": [
        {
          "output_type": "stream",
          "name": "stdout",
          "text": [
            "[[-13.591808   -7.2121778  -3.8442733   7.199448  -24.039042   12.314502\n",
            "  -15.135865   -5.1785755 -10.08191    -5.1723523]]\n",
            "0.005987801\n"
          ]
        },
        {
          "output_type": "execute_result",
          "data": {
            "text/plain": [
              "9.990045855155278"
            ]
          },
          "metadata": {},
          "execution_count": 214
        }
      ],
      "source": [
        "# model prediction\n",
        "predictions = model(x_train[:1]).numpy()\n",
        "print(predictions)\n",
        "\n",
        "# loss function\n",
        "loss = loss_fn(y_train[:1], predictions).numpy()\n",
        "print(loss)\n",
        "\n",
        "target = np.array([0])\n",
        "pred = np.array([[0.01, 10]])\n",
        "\n",
        "loss_fn(target, pred).numpy()"
      ]
    },
    {
      "cell_type": "markdown",
      "metadata": {
        "id": "oHeyhjamYkD5"
      },
      "source": [
        "## Challenges"
      ]
    },
    {
      "cell_type": "markdown",
      "metadata": {
        "id": "O9Ix8pkl_3pA"
      },
      "source": [
        "### A. Let them eat 🍰\n",
        "\n",
        "Plot **food prices** with inflation and energy prices.\n",
        "\n",
        "Run the regression ```inflation ~ energy + food```.\n",
        "\n",
        "Global price of Food index<br>\n",
        "https://fred.stlouisfed.org/series/PFOODINDEXM"
      ]
    },
    {
      "cell_type": "code",
      "execution_count": 215,
      "metadata": {
        "id": "lVfo83pOHuab"
      },
      "outputs": [],
      "source": [
        "# https://fred.stlouisfed.org/series/PFOODINDEXM\n",
        "food_url = 'https://fred.stlouisfed.org/graph/fredgraph.csv?id=PFOODINDEXM'\n",
        "\n",
        "# your code here\n"
      ]
    },
    {
      "cell_type": "markdown",
      "metadata": {
        "id": "V_EEbXcWLwLI"
      },
      "source": [
        "### B. Ordinary least squares ⏹️\n",
        "\n",
        "Using `numpy`, solve the multiple regression [OLS](https://en.wikipedia.org/wiki/Ordinary_least_squares#Matrix/vector_formulation) estimates that minimizes the loss function with respect to $\\beta$ given parameters $y$ and $X$,\n",
        "\n",
        "\\begin{align}\n",
        "    \\hat \\beta\n",
        "    = \\text{arg}\\min_{\\beta} \\mathcal L (\\beta)\n",
        "    &= ||y - X \\beta||^2\n",
        "\\end{align}\n",
        "where\n",
        "* $y \\in \\mathbb{R}^{m \\times 1}$ is the independent variable vector,\n",
        "* $X \\in \\mathbb{R}^{m \\times n}$ is the matrix of $n$ observations of $m$ depedent variables (usually we set $X_{i1} = 1$ for all $i \\in \\{1, 2, ..., n\\}$ to allow for a non-zero intercept),\n",
        "* $\\beta \\in \\mathbb{R}^{n \\times 1}$ is a vector of coefficients, and\n",
        "* $\\varepsilon \\in \\mathbb{R}^{m \\times 1}$ is a vector of error terms, such that\n",
        "\n",
        "\\begin{align}\n",
        "  y &= X \\beta + \\varepsilon.\n",
        "\\end{align}\n",
        "\n",
        "[Appendix II](#scrollTo=0XpeuzwtH6wv) shows the derivation of the **analytical solution**, which is\n",
        "\\begin{align}\n",
        "    \\hat \\beta &= (X^T X)^{-1} X^T y\n",
        "\\end{align}\n",
        "if $X^T X$ is invertible.\n",
        "\n",
        "A numerical solution using **gradient descent** is also explained in the appendix.\n",
        "\n",
        "Using either solution, recreate the OLS estimates on data from challenge A and compare the results from using `statsmodels`."
      ]
    },
    {
      "cell_type": "code",
      "execution_count": 216,
      "metadata": {
        "id": "XlA3mYJ1Nx4c"
      },
      "outputs": [],
      "source": [
        "# your code here\n"
      ]
    },
    {
      "cell_type": "markdown",
      "metadata": {
        "id": "GkSx8E0RW5V4"
      },
      "source": [
        "### C. Pandemic pandemonium 😷\n",
        "\n",
        "Simulate the discrete version of the [SIRD epidemiology model.](https://en.wikipedia.org/wiki/Compartmental_models_in_epidemiology#The_SIRD_model)\n",
        "At period $t$, let\n",
        "\n",
        "* $S_t$ be the healthy (**s**usceptible) population with initial value $S_0 = 0.99$,\n",
        "* $I_t$ be the **i**nfected population with initial value $I_0 = 0.01$,\n",
        "* $R_t$ be the **r**ecovered population with initial value $R_0 = 0$,\n",
        "* $D_t$ be the **d**eceased population with initial value $D_0 = 0$.\n",
        "\n",
        "Suppose the infection rate is $\\beta I_t S_t$, the recovery rate is $\\gamma$, and the mortality rate is $\\mu$.\n",
        "\n",
        "Then the discrete-time dynamics of the model are\n",
        "\\begin{align}\n",
        "  S_{t+1} &= (1 - \\beta I_t S_t) S_t,\n",
        "  \\\\\n",
        "  I_{t+1} &= (1 - \\gamma - \\mu) I_t + \\beta I_t S_t^2,\n",
        "  \\\\\n",
        "  R_{t+1} &= R_t + \\gamma I_t,\n",
        "  \\\\\n",
        "  D_{t+1} &= D_t + \\mu I_t.\n",
        "\\end{align}\n",
        "\n",
        "Let $\\beta = 0.15$, $\\gamma = 0.05$, and $\\mu = 0.01$. What are the populations after **365 periods**? Simulate and plot the dynamics of the population.\n",
        "\n",
        "How does changing the parameters affect the outcome?\n"
      ]
    },
    {
      "cell_type": "code",
      "execution_count": 217,
      "metadata": {
        "id": "rw5dsMtEAW0N"
      },
      "outputs": [],
      "source": [
        "# your code here\n"
      ]
    },
    {
      "cell_type": "markdown",
      "metadata": {
        "id": "csjhvdummp66"
      },
      "source": [
        "### D. A macro model 📈\n",
        "\n",
        "Solve the following [real business-cycle](https://en.wikipedia.org/wiki/Real_business-cycle_theory) model.\n",
        "\n",
        "The economy's representative agent has CRRA utility and Cobb-Douglas production,\n",
        "\\begin{align}\n",
        "    u(C_t)\n",
        "    = \\frac{C_t^{1-\\gamma} - 1}{1-\\gamma},\n",
        "    \\quad\n",
        "    f(K_t)\n",
        "    = A K_t^\\alpha,\n",
        "\\end{align}\n",
        "where\n",
        "* $C_t$ is consumption,\n",
        "* $\\gamma \\ge 0$ is risk aversion,\n",
        "* $K_t$ is capital,\n",
        "* $A$ is technology,\n",
        "* $\\alpha \\in (0, 1)$ is production capital intensity.\n",
        "\n",
        "At each period, the infinitely-lived agent maximizes expected utility\n",
        "\\begin{align}\n",
        "    \\mathbb E \\left[\n",
        "        \\sum_{t=0}^\\infty \\beta^t u(C_t)\n",
        "    \\right]\n",
        "\\end{align}\n",
        "\n",
        "by choosing consumption such that for every period $t \\in \\mathbb N$,\n",
        "\n",
        "\\begin{align}\n",
        "    C_t + K_{t+1} = (1 + z_t) f(K_t) + (1 - \\delta) K_t,\n",
        "\\end{align}\n",
        "where\n",
        "* $\\beta$ is the time discount factor,\n",
        "* $\\delta$ is the capital depreciation rate,\n",
        "* $z_t$ is a random production shock with the probability mass function\n",
        "\\begin{align}\n",
        "    Pr(z_t=z) = \\begin{cases}\n",
        "        p,     & z = \\mu/p \\\\\n",
        "        1 - p, & z = 0 \\\\\n",
        "        0,     & \\text{otherwise},\n",
        "    \\end{cases}\n",
        "\\end{align}\n",
        "\n",
        "for some $p \\in [0, 1]$ and $\\mu \\in \\mathbb R$.\n",
        "\n",
        "See [Appendix III](#scrollTo=pUmNBBqP9KQS&line=1&uniqifier=1) for details of a **dynamic programming** solution.\n",
        "\n",
        "Solve the model and plot the value function, optimal consumption, and optimal savings as functions of current period capital $K_t$ for different realizations of $z_t$. The setup and parameterizations are completed for you.\n",
        "\n",
        "Adapt and improve the parameters to see how the model results change."
      ]
    },
    {
      "cell_type": "code",
      "execution_count": 218,
      "metadata": {
        "id": "qW1U005vJKjv"
      },
      "outputs": [],
      "source": [
        "### Setup and parameterizations\n",
        "\n",
        "# utility function\n",
        "def u(c, gamma=1, negval=-1e5):\n",
        "\n",
        "    if gamma == 1:\n",
        "        res = np.log(c) # limit as gamma -> 1\n",
        "    else:\n",
        "        res = (c**(1-gamma) - 1) / (1-gamma)\n",
        "\n",
        "    # set large negative utility for negative or zero consumption\n",
        "    res[np.isnan(res)] = negval\n",
        "\n",
        "    return res\n",
        "    \n",
        "# production function\n",
        "def f(k, A=0.5, alpha=0.25):\n",
        "    \n",
        "    return A * (k**alpha)\n",
        "\n",
        "# time discount factor\n",
        "beta = 0.9\n",
        "\n",
        "# capital depreciation\n",
        "delta = 0.02\n",
        "\n",
        "# productivity shock and probability\n",
        "mu, p = 0.15, 0.05\n",
        "\n",
        "# capital state space\n",
        "kmin, kmax, m = 1e-3, 5, 250\n",
        "k_grid = np.linspace(kmin, kmax, m)\n",
        "\n",
        "# z (random shock) state space\n",
        "z_grid = np.array([mu/p, 0])\n",
        "\n",
        "# probability distribution of z\n",
        "pmf = np.array([p, 1 - p])\n",
        "\n",
        "# value function estimate (initialized with zeros)\n",
        "shape_V = len(k_grid), len(z_grid)\n",
        "V = np.zeros(shape_V)\n",
        "\n",
        "# optimal policy function (initialized with zeros)\n",
        "k_opt = np.zeros(shape_V)\n",
        "c_opt = np.zeros(shape_V)"
      ]
    },
    {
      "cell_type": "code",
      "execution_count": 219,
      "metadata": {
        "id": "v24BFIWe-TK5"
      },
      "outputs": [],
      "source": [
        "### Estimate model\n",
        "\n",
        "# your code here\n"
      ]
    },
    {
      "cell_type": "markdown",
      "metadata": {
        "id": "Siul4ePqMgSE"
      },
      "source": [
        "## Solutions\n",
        "Unhide cells to see solutions."
      ]
    },
    {
      "cell_type": "markdown",
      "metadata": {
        "id": "mq5hfRpxYq-W"
      },
      "source": [
        "### Solution A."
      ]
    },
    {
      "cell_type": "code",
      "execution_count": 220,
      "metadata": {
        "colab": {
          "base_uri": "https://localhost:8080/",
          "height": 825
        },
        "id": "Ps3bWmOI133_",
        "outputId": "e9cbb350-5f3e-4e0c-a793-12d1ccbd53c5"
      },
      "outputs": [
        {
          "output_type": "display_data",
          "data": {
            "text/plain": [
              "<Figure size 864x432 with 1 Axes>"
            ],
            "image/png": "[encoded data removed]"
          },
          "metadata": {
            "needs_background": "light"
          }
        },
        {
          "output_type": "stream",
          "name": "stdout",
          "text": [
            "                            OLS Regression Results                            \n",
            "==============================================================================\n",
            "Dep. Variable:              inflation   R-squared:                       0.332\n",
            "Model:                            OLS   Adj. R-squared:                  0.320\n",
            "Method:                 Least Squares   F-statistic:                     29.06\n",
            "Date:                Thu, 29 Dec 2022   Prob (F-statistic):           5.69e-11\n",
            "Time:                        00:05:20   Log-Likelihood:                -134.65\n",
            "No. Observations:                 120   AIC:                             275.3\n",
            "Df Residuals:                     117   BIC:                             283.7\n",
            "Df Model:                           2                                         \n",
            "Covariance Type:            nonrobust                                         \n",
            "==============================================================================\n",
            "                 coef    std err          t      P>|t|      [0.025      0.975]\n",
            "------------------------------------------------------------------------------\n",
            "Intercept      2.0509      0.096     21.317      0.000       1.860       2.241\n",
            "energy         0.4949      0.208      2.377      0.019       0.083       0.907\n",
            "food           1.3984      0.891      1.570      0.119      -0.366       3.162\n",
            "==============================================================================\n",
            "Omnibus:                       26.517   Durbin-Watson:                   0.049\n",
            "Prob(Omnibus):                  0.000   Jarque-Bera (JB):               51.530\n",
            "Skew:                           0.927   Prob(JB):                     6.46e-12\n",
            "Kurtosis:                       5.620   Cond. No.                         16.6\n",
            "==============================================================================\n",
            "\n",
            "Notes:\n",
            "[1] Standard Errors assume that the covariance matrix of the errors is correctly specified.\n"
          ]
        }
      ],
      "source": [
        "# https://fred.stlouisfed.org/series/PFOODINDEXM\n",
        "food_url = 'https://fred.stlouisfed.org/graph/fredgraph.csv?id=PFOODINDEXM'\n",
        "\n",
        "# your code here\n",
        "\n",
        "urls = {'inflation' : cpi_url,\n",
        "        'energy' : energy_url,\n",
        "        'food' : food_url\n",
        "        }\n",
        "\n",
        "keys = list(urls)\n",
        "data = []\n",
        "\n",
        "for key in keys:\n",
        "\n",
        "    url = urls[key]\n",
        "        \n",
        "    df = pd.read_csv(url)\n",
        "\n",
        "    # Change column name\n",
        "    df.columns = ['date', key]\n",
        "\n",
        "    # convert to datetime\n",
        "    df['date'] = pd.to_datetime(df['date'])\n",
        "\n",
        "    # set date as index\n",
        "    df = df.set_index('date')\n",
        "\n",
        "    # normalize price\n",
        "    if key != 'inflation':\n",
        "        df[key] = df[key] / 100 - 1\n",
        "\n",
        "    data.append(df)\n",
        "\n",
        "# combine dataframes\n",
        "df = pd.concat(data, axis=1)\n",
        "\n",
        "# drop NAs\n",
        "df = df.dropna()\n",
        "\n",
        "years = 10\n",
        "df = df.tail(12 * years)\n",
        "\n",
        "# plot data\n",
        "plt.figure(figsize=(12, 6))\n",
        "\n",
        "for key in keys:\n",
        "\n",
        "    plt.plot(df[key], lw=3)\n",
        "\n",
        "plt.grid()\n",
        "plt.legend(keys)\n",
        "plt.show()\n",
        "\n",
        "# fit data\n",
        "model = sm.ols(f'inflation ~ energy + food', data=df)\n",
        "res = model.fit()\n",
        "print(res.summary())"
      ]
    },
    {
      "cell_type": "markdown",
      "metadata": {
        "id": "4LrHUbM8QCHd"
      },
      "source": [
        "### Solution B."
      ]
    },
    {
      "cell_type": "code",
      "execution_count": 221,
      "metadata": {
        "colab": {
          "base_uri": "https://localhost:8080/"
        },
        "id": "Fshbv7NYJms9",
        "outputId": "815405d6-f859-4df9-9cdf-108469b0f97c"
      },
      "outputs": [
        {
          "output_type": "stream",
          "name": "stdout",
          "text": [
            "Analytical solution:\n",
            "\n",
            "[[2.05093887]\n",
            " [0.49493102]\n",
            " [1.39836805]]\n"
          ]
        }
      ],
      "source": [
        "# analytical solution\n",
        "\n",
        "def ols_an(y, X):\n",
        "    '''\n",
        "    Analytical OLS estimate\n",
        "    '''\n",
        "    y = np.array(y)\n",
        "    X = np.array(X)\n",
        "    \n",
        "    return np.linalg.inv(X.T @ X) @ X.T @ y\n",
        "\n",
        "# convert data to numpy\n",
        "y = np.array(df[['inflation']])\n",
        "X = np.array(df[['energy', 'food']])\n",
        "\n",
        "# add intercept column\n",
        "ones = np.ones((X.shape[0], 1))\n",
        "X = np.concatenate((ones, X), axis=1)\n",
        "\n",
        "beta_an = ols_an(y, X)\n",
        "\n",
        "print('Analytical solution:\\n')\n",
        "print(beta_an)"
      ]
    },
    {
      "cell_type": "code",
      "execution_count": 222,
      "metadata": {
        "colab": {
          "base_uri": "https://localhost:8080/"
        },
        "id": "KVVdg-TmpgBq",
        "outputId": "44c993d0-f6c0-4d43-ec2b-8bcafe108b83"
      },
      "outputs": [
        {
          "output_type": "stream",
          "name": "stdout",
          "text": [
            "Convergence reached in 9,643 iterations.\n",
            "Numerical solution:\n",
            "\n",
            "[[2.0509388 ]\n",
            " [0.49493186]\n",
            " [1.39836398]]\n"
          ]
        }
      ],
      "source": [
        "# gradient descent\n",
        "\n",
        "def loss(y, X, beta_hat):\n",
        "    '''\n",
        "    OLS loss function\n",
        "    '''\n",
        "    l = (y - X@beta_hat).T @ (y - X@beta_hat)\n",
        "    return l[0, 0]\n",
        "\n",
        "\n",
        "def ols_gd(y, X,\n",
        "          learning_rate=1e-3,\n",
        "          convergence_threshold=1e-15,\n",
        "          iter_limit=100_000\n",
        "          ):\n",
        "    '''\n",
        "    Gradient descent OLS estimate\n",
        "    '''\n",
        "    y = np.array(y)\n",
        "    X = np.array(X)\n",
        "\n",
        "    beta_hat = np.random.normal(0, y.std(), size=(X.shape[1], 1))\n",
        "\n",
        "    L = loss(y, X, beta_hat)\n",
        "\n",
        "    for t in range(iter_limit):\n",
        "\n",
        "        L_prev = L\n",
        "\n",
        "        grad =  2 * (- X.T @ y + X.T @ X @ beta_hat)\n",
        "\n",
        "        beta_hat = beta_hat - learning_rate * grad\n",
        "\n",
        "        L = loss(y, X, beta_hat)\n",
        "\n",
        "        if abs(L - L_prev) < convergence_threshold:\n",
        "            \n",
        "            print(f'Convergence reached in {t+1:,} iterations.')\n",
        "        \n",
        "            return beta_hat\n",
        "    \n",
        "    print(f'Iteration limit {iter_limit:,} reached.')\n",
        "\n",
        "    return beta_hat\n",
        "\n",
        "beta_gd = ols_gd(y, X)\n",
        "\n",
        "print('Numerical solution:\\n')\n",
        "print(beta_gd)"
      ]
    },
    {
      "cell_type": "markdown",
      "metadata": {
        "id": "EPfPqp-NAZPy"
      },
      "source": [
        "### Solution C."
      ]
    },
    {
      "cell_type": "code",
      "execution_count": 223,
      "metadata": {
        "colab": {
          "base_uri": "https://localhost:8080/",
          "height": 320
        },
        "id": "5cAZgvEn0tPX",
        "outputId": "e072ff95-5249-4f58-e745-02b8f9f4ffb8"
      },
      "outputs": [
        {
          "output_type": "display_data",
          "data": {
            "text/plain": [
              "<Figure size 576x360 with 1 Axes>"
            ],
            "image/png": "[encoded data removed]"
          },
          "metadata": {
            "needs_background": "light"
          }
        }
      ],
      "source": [
        "# your code here\n",
        "\n",
        "# initial state values\n",
        "state = np.array([0.99, 0.01, 0, 0])\n",
        "\n",
        "# transition parameters\n",
        "beta, gamma, mu = 0.15, 0.05, 0.01\n",
        "\n",
        "iter_limit = 365\n",
        "\n",
        "# evolution path of states\n",
        "states_path = [state]\n",
        "\n",
        "for t in range(iter_limit):\n",
        "\n",
        "    S, I, R, D = state\n",
        "\n",
        "    state_new = np.array([\n",
        "                (1 - beta * I * S) * S,\n",
        "                (1 - gamma - mu) * I + beta * I * S * S,\n",
        "                R + gamma * I,\n",
        "                D + mu * I\n",
        "            ])\n",
        "\n",
        "    states_path.append(state_new)\n",
        "\n",
        "    state = state_new.copy()\n",
        "\n",
        "S, I, R, D = state\n",
        "\n",
        "fig = plt.figure(figsize=(8, 5))\n",
        "\n",
        "plt.plot(states_path, lw=3)\n",
        "\n",
        "plt.legend(['$%s_{%s}' % (c, t) + f'= {eval(c):.5f}$' for c in 'SIRD'],\n",
        "          fontsize=12\n",
        "          )\n",
        "\n",
        "plt.grid()\n",
        "plt.show()"
      ]
    },
    {
      "cell_type": "markdown",
      "metadata": {
        "id": "Y9LGOMOxDe9A"
      },
      "source": [
        "### Solution D."
      ]
    },
    {
      "cell_type": "code",
      "execution_count": 224,
      "metadata": {
        "id": "jhhXtVISJdea"
      },
      "outputs": [],
      "source": [
        "### Setup and parameterizations\n",
        "\n",
        "# utility function\n",
        "def u(c, gamma=1, negval=-1e5):\n",
        "\n",
        "    if gamma == 1:\n",
        "        res = np.log(c) # limit as gamma -> 1\n",
        "    else:\n",
        "        res = (c**(1-gamma) - 1) / (1-gamma)\n",
        "\n",
        "    # set large negative utility for negative or zero consumption\n",
        "    res[np.isnan(res)] = negval\n",
        "\n",
        "    return res\n",
        "    \n",
        "# production function\n",
        "def f(k, A=0.5, alpha=0.25):\n",
        "    \n",
        "    return A * (k**alpha)\n",
        "\n",
        "# time discount factor\n",
        "beta = 0.9\n",
        "\n",
        "# capital depreciation\n",
        "delta = 0.02\n",
        "\n",
        "# productivity shock and probability\n",
        "mu, p = 0.15, 0.05\n",
        "\n",
        "# capital state space\n",
        "kmin, kmax, m = 1e-3, 5, 250\n",
        "k_grid = np.linspace(kmin, kmax, m)\n",
        "\n",
        "# z (random shock) state space\n",
        "z_grid = np.array([mu/p, 0])\n",
        "\n",
        "# probability distribution of z\n",
        "pmf = np.array([p, 1 - p])\n",
        "\n",
        "# value function estimate (initialized with zeros)\n",
        "shape_V = len(k_grid), len(z_grid)\n",
        "V = np.zeros(shape_V)\n",
        "\n",
        "# optimal policy function (initialized with zeros)\n",
        "k_opt = np.zeros(shape_V)\n",
        "c_opt = np.zeros(shape_V)"
      ]
    },
    {
      "cell_type": "code",
      "execution_count": 225,
      "metadata": {
        "colab": {
          "base_uri": "https://localhost:8080/",
          "height": 455
        },
        "id": "mu2Q2rKqDdvA",
        "outputId": "c80d114b-0cf4-4889-d223-2b51ee07aa2f"
      },
      "outputs": [
        {
          "output_type": "stream",
          "name": "stderr",
          "text": [
            "<ipython-input-224-0607717871c3>:7: RuntimeWarning: invalid value encountered in log\n",
            "  res = np.log(c) # limit as gamma -> 1\n"
          ]
        },
        {
          "output_type": "stream",
          "name": "stdout",
          "text": [
            "\n",
            "iterations: 276 | convergence error 9.109e-11\n",
            "-------------------------------------------------- \n",
            "\n"
          ]
        },
        {
          "output_type": "display_data",
          "data": {
            "text/plain": [
              "<Figure size 1080x360 with 3 Axes>"
            ],
            "image/png": "[encoded data removed]"
          },
          "metadata": {
            "needs_background": "light"
          }
        }
      ],
      "source": [
        "### Estimate model\n",
        "\n",
        "# your code here\n",
        "\n",
        "# iteration limit \n",
        "iter_limit = 10_000\n",
        "\n",
        "# convergence threshold\n",
        "eta = 1e-10\n",
        "\n",
        "for tau in range(iter_limit):\n",
        "\n",
        "    # previous value function\n",
        "    V_prev = V.copy()\n",
        "\n",
        "    for i, k in enumerate(k_grid):\n",
        "        \n",
        "        for j, z in enumerate(z_grid):\n",
        "\n",
        "            # consumption choice\n",
        "            c_grid = (1 + z) * f(k) + (1-delta) * k - k_grid\n",
        "\n",
        "            # value-to-go vector\n",
        "            vals = u(c_grid) + beta * V_prev @ pmf\n",
        "\n",
        "            # optimized state\n",
        "            s_hat = np.argmax(vals)\n",
        "\n",
        "            # update value function\n",
        "            V[i, j] = vals[s_hat]\n",
        "\n",
        "            # update optimal policy functions\n",
        "            c_opt[i, j] = c_grid[s_hat]\n",
        "            k_opt[i, j] = k_grid[s_hat]\n",
        "\n",
        "    # check convergence\n",
        "    conv_error = np.abs(V - V_prev).sum()\n",
        "\n",
        "    if conv_error <= eta:\n",
        "        break\n",
        "\n",
        "print(f'\\niterations: {tau:,} | convergence error {conv_error:.3e}')\n",
        "print('-' * 50, '\\n')\n",
        "\n",
        "\n",
        "### Plot solutions\n",
        "\n",
        "sols = {'Value function $V(K_t)$' : V,\n",
        "        'Optimal consumption $C_t$' : c_opt,\n",
        "        'Optimal savings $K_{t+1}$' : k_opt}\n",
        "\n",
        "fig, axes = plt.subplots(1, len(sols), figsize=(15, 5))\n",
        "\n",
        "for key, ax in zip(sols, axes):\n",
        "\n",
        "    ax.plot(k_grid, sols[key])\n",
        "    \n",
        "    ylab = key.split()[-1]\n",
        "    title = ' '.join(key.split()[:-1])\n",
        "\n",
        "    fontsize = 18\n",
        "    ax.set_title(title, fontsize=fontsize)\n",
        "    ax.set_xlabel('$K_t$', fontsize=fontsize*0.8)\n",
        "    ax.set_ylabel(ylab, fontsize=fontsize*0.8)\n",
        "\n",
        "    ax.legend([f'$z_t = {z:,.3f}$' for z in z_grid])\n",
        "    ax.grid()\n",
        "\n",
        "plt.tight_layout(pad=2)\n",
        "plt.show()"
      ]
    },
    {
      "cell_type": "markdown",
      "metadata": {
        "id": "39KHn9ENEgRu"
      },
      "source": [
        "# Appendices"
      ]
    },
    {
      "cell_type": "markdown",
      "metadata": {
        "id": "3pYQVn3QfX5g"
      },
      "source": [
        "### Appendix I: Print formats\n",
        "<a id='apdx-A'></a>\n",
        "\n",
        "ANSI escape codes for text fonts."
      ]
    },
    {
      "cell_type": "code",
      "execution_count": 226,
      "metadata": {
        "colab": {
          "base_uri": "https://localhost:8080/"
        },
        "id": "5EZvYx5oZSNJ",
        "outputId": "ad402291-6ec4-44c4-ccc7-d21e8f0ccba5"
      },
      "outputs": [
        {
          "output_type": "stream",
          "name": "stdout",
          "text": [
            "\u001b[0m\\033[0m\u001b[0m \t\u001b[1m\\033[1m\u001b[0m \t\u001b[2m\\033[2m\u001b[0m \t\u001b[3m\\033[3m\u001b[0m \t\u001b[4m\\033[4m\u001b[0m \t\u001b[5m\\033[5m\u001b[0m \t\n",
            "\u001b[6m\\033[6m\u001b[0m \t\u001b[7m\\033[7m\u001b[0m \t\u001b[8m\\033[8m\u001b[0m \t\u001b[9m\\033[9m\u001b[0m \t\u001b[10m\\033[10m\u001b[0m \t\u001b[11m\\033[11m\u001b[0m \t\n",
            "\u001b[12m\\033[12m\u001b[0m \t\u001b[13m\\033[13m\u001b[0m \t\u001b[14m\\033[14m\u001b[0m \t\u001b[15m\\033[15m\u001b[0m \t\u001b[16m\\033[16m\u001b[0m \t\u001b[17m\\033[17m\u001b[0m \t\n",
            "\u001b[18m\\033[18m\u001b[0m \t\u001b[19m\\033[19m\u001b[0m \t\u001b[20m\\033[20m\u001b[0m \t\u001b[21m\\033[21m\u001b[0m \t\u001b[22m\\033[22m\u001b[0m \t\u001b[23m\\033[23m\u001b[0m \t\n",
            "\u001b[24m\\033[24m\u001b[0m \t\u001b[25m\\033[25m\u001b[0m \t\u001b[26m\\033[26m\u001b[0m \t\u001b[27m\\033[27m\u001b[0m \t\u001b[28m\\033[28m\u001b[0m \t\u001b[29m\\033[29m\u001b[0m \t\n",
            "\u001b[30m\\033[30m\u001b[0m \t\u001b[31m\\033[31m\u001b[0m \t\u001b[32m\\033[32m\u001b[0m \t\u001b[33m\\033[33m\u001b[0m \t\u001b[34m\\033[34m\u001b[0m \t\u001b[35m\\033[35m\u001b[0m \t\n",
            "\u001b[36m\\033[36m\u001b[0m \t\u001b[37m\\033[37m\u001b[0m \t\u001b[38m\\033[38m\u001b[0m \t\u001b[39m\\033[39m\u001b[0m \t\u001b[40m\\033[40m\u001b[0m \t\u001b[41m\\033[41m\u001b[0m \t\n",
            "\u001b[42m\\033[42m\u001b[0m \t\u001b[43m\\033[43m\u001b[0m \t\u001b[44m\\033[44m\u001b[0m \t\u001b[45m\\033[45m\u001b[0m \t\u001b[46m\\033[46m\u001b[0m \t\u001b[47m\\033[47m\u001b[0m \t\n",
            "\u001b[48m\\033[48m\u001b[0m \t\u001b[49m\\033[49m\u001b[0m \t\u001b[50m\\033[50m\u001b[0m \t\u001b[51m\\033[51m\u001b[0m \t\u001b[52m\\033[52m\u001b[0m \t\u001b[53m\\033[53m\u001b[0m \t\n",
            "\u001b[54m\\033[54m\u001b[0m \t\u001b[55m\\033[55m\u001b[0m \t\u001b[56m\\033[56m\u001b[0m \t\u001b[57m\\033[57m\u001b[0m \t\u001b[58m\\033[58m\u001b[0m \t\u001b[59m\\033[59m\u001b[0m \t\n",
            "\u001b[60m\\033[60m\u001b[0m \t\u001b[61m\\033[61m\u001b[0m \t\u001b[62m\\033[62m\u001b[0m \t\u001b[63m\\033[63m\u001b[0m \t\u001b[64m\\033[64m\u001b[0m \t\u001b[65m\\033[65m\u001b[0m \t\n",
            "\u001b[66m\\033[66m\u001b[0m \t\u001b[67m\\033[67m\u001b[0m \t\u001b[68m\\033[68m\u001b[0m \t\u001b[69m\\033[69m\u001b[0m \t\u001b[70m\\033[70m\u001b[0m \t\u001b[71m\\033[71m\u001b[0m \t\n",
            "\u001b[72m\\033[72m\u001b[0m \t\u001b[73m\\033[73m\u001b[0m \t\u001b[74m\\033[74m\u001b[0m \t\u001b[75m\\033[75m\u001b[0m \t\u001b[76m\\033[76m\u001b[0m \t\u001b[77m\\033[77m\u001b[0m \t\n",
            "\u001b[78m\\033[78m\u001b[0m \t\u001b[79m\\033[79m\u001b[0m \t\u001b[80m\\033[80m\u001b[0m \t\u001b[81m\\033[81m\u001b[0m \t\u001b[82m\\033[82m\u001b[0m \t\u001b[83m\\033[83m\u001b[0m \t\n",
            "\u001b[84m\\033[84m\u001b[0m \t\u001b[85m\\033[85m\u001b[0m \t\u001b[86m\\033[86m\u001b[0m \t\u001b[87m\\033[87m\u001b[0m \t\u001b[88m\\033[88m\u001b[0m \t\u001b[89m\\033[89m\u001b[0m \t\n",
            "\u001b[90m\\033[90m\u001b[0m \t\u001b[91m\\033[91m\u001b[0m \t\u001b[92m\\033[92m\u001b[0m \t\u001b[93m\\033[93m\u001b[0m \t\u001b[94m\\033[94m\u001b[0m \t\u001b[95m\\033[95m\u001b[0m \t\n",
            "\u001b[96m\\033[96m\u001b[0m \t\u001b[97m\\033[97m\u001b[0m \t\u001b[98m\\033[98m\u001b[0m \t\u001b[99m\\033[99m\u001b[0m \t\u001b[100m\\033[100m\u001b[0m \t\u001b[101m\\033[101m\u001b[0m \t\n",
            "\u001b[102m\\033[102m\u001b[0m \t\u001b[103m\\033[103m\u001b[0m \t\u001b[104m\\033[104m\u001b[0m \t\u001b[105m\\033[105m\u001b[0m \t\u001b[106m\\033[106m\u001b[0m \t\u001b[107m\\033[107m\u001b[0m \t\n"
          ]
        }
      ],
      "source": [
        "for i in range(108):\n",
        "\n",
        "    print(f'\\033[{i}m\\\\033[{i}m\\033[0m ', end='\\t')\n",
        "\n",
        "    if (i+1) % 6==0:\n",
        "        print()"
      ]
    },
    {
      "cell_type": "markdown",
      "metadata": {
        "id": "0XpeuzwtH6wv"
      },
      "source": [
        "---\n",
        "## Appendix II: OLS estimation\n",
        "\n",
        "To solve\n",
        "\\begin{align}\n",
        "    \\hat \\beta\n",
        "    = \\text{arg}\\min_{\\beta} \\mathcal L (\\beta; y, X)\n",
        "    &= ||y - X \\beta||^2\n",
        "    = (y - X \\beta)^T (y - X \\beta),\n",
        "\\end{align}\n",
        "\n",
        "where\n",
        "\n",
        "\\begin{align}\n",
        "    y\n",
        "    &= X \\beta + \\varepsilon\n",
        "    \\equiv\n",
        "    \\begin{bmatrix}\n",
        "        y_1 \\\\ y_2 \\\\ \\vdots \\\\ y_m\n",
        "    \\end{bmatrix}\n",
        "    =\n",
        "    \\begin{bmatrix}\n",
        "        1 & X_{12} & X_{13} & ... & X_{1n} \\\\\n",
        "        1 & X_{22} & X_{23} & ... & X_{1n} \\\\\n",
        "        \\vdots & \\vdots & \\vdots & \\ddots & \\vdots  \\\\\n",
        "        1 & X_{m2} & X_{n3} & ... & X_{mn} \\\\\n",
        "    \\end{bmatrix}\n",
        "    \\begin{bmatrix}\n",
        "        \\beta_1 \\\\ \\beta_2 \\\\ \\vdots \\\\ \\beta_m\n",
        "    \\end{bmatrix}\n",
        "    +\n",
        "    \\begin{bmatrix}\n",
        "        \\varepsilon_1 \\\\ \\varepsilon_2 \\\\ \\vdots \\\\ \\varepsilon_m\n",
        "    \\end{bmatrix}\n",
        "\\end{align}\n",
        "\n",
        "you can use either the **analytical solution** or numerical approximation with **gradient descent**.\n",
        "\n",
        "Expanding the loss function, we have that\n",
        "\n",
        "\\begin{align}\n",
        "    \\mathcal L (\\beta; y, X)\n",
        "    &= (y - X \\beta)^T (y - X \\beta)\n",
        "    \\\\\n",
        "    &= (y^T - \\beta^T X^T) (y - X \\beta)\n",
        "    \\\\\n",
        "    &= (y^T y - \\beta^T X^T y) - (y^T X \\beta- \\beta^T X^T X \\beta)\n",
        "    \\\\\n",
        "    &= y^T y - 2 \\beta^T X^T y + \\beta^T X^T X \\beta\n",
        "    \\\\\n",
        "    &= \\sum_{i=1}^{m} y_i^2\n",
        "     - 2\\sum_{j=1}^n \\beta_j \\sum_{i=1}^m X_{ij} y_i\n",
        "     + \\sum_{k=1}^n \\beta_k \\sum_{i=1}^m X_{ik} \\sum_{j=1}^n  X_{ij} \\beta_j.\n",
        "\\end{align}\n",
        "\n",
        "The gradient vector of the loss function is then\n",
        "\n",
        "\\begin{align}\n",
        "    \\nabla \\mathcal L\n",
        "    =\n",
        "    \\begin{bmatrix}\n",
        "        \\frac{\\partial \\mathcal L}{\\partial \\beta_1} \\\\\n",
        "        \\vdots \\\\\n",
        "        \\frac{\\partial \\mathcal L}{\\partial \\beta_n}\n",
        "    \\end{bmatrix}_{n \\times 1}\n",
        "   &=\n",
        "   -2\n",
        "   \\begin{bmatrix}\n",
        "        \\sum_{i=1}^m X_{i1} y_i \\\\\n",
        "        \\vdots \\\\\n",
        "        \\sum_{i=1}^m X_{in} y_i \\\\\n",
        "   \\end{bmatrix}_{n \\times 1}\n",
        "   +\n",
        "   \\begin{bmatrix}\n",
        "        \\sum_{i=1}^m \\sum_{j=1}^n  X_{i1} X_{ij} \\beta_j\n",
        "        + \\sum_{k=1}^n \\sum_{i=1}^m \\beta_k X_{ik} X_{i1}\n",
        "        \\\\\n",
        "        \\vdots\n",
        "        \\\\\n",
        "        \\sum_{i=1}^m \\sum_{j=1}^n  X_{in} X_{ij} \\beta_j\n",
        "        + \\sum_{k=1}^n \\sum_{i=1}^m \\beta_k X_{ik} X_{in}\n",
        "   \\end{bmatrix}_{n \\times 1}\n",
        "   \\\\\n",
        "   &=\n",
        "   -2\n",
        "   \\begin{bmatrix}\n",
        "        \\sum_{i=1}^m X_{i1} y_i \\\\\n",
        "        \\vdots \\\\\n",
        "        \\sum_{i=1}^m X_{in} y_i \\\\\n",
        "   \\end{bmatrix}_{n \\times 1}\n",
        "   +\n",
        "   2\n",
        "   \\begin{bmatrix}\n",
        "   \\sum_{i=1}^m \\sum_{j=1}^n  X_{i1} X_{ij} \\beta_j\n",
        "   \\\\\n",
        "   \\vdots\n",
        "   \\\\\n",
        "   \\sum_{i=1}^m \\sum_{j=1}^n  X_{im} X_{ij} \\beta_j\n",
        "   \\end{bmatrix}_{n \\times 1}\n",
        "   \\\\\n",
        "   \\\\\n",
        "   &= -2 X^T y + 2 X^T X \\beta.\n",
        "\\end{align}"
      ]
    },
    {
      "cell_type": "markdown",
      "metadata": {
        "id": "PfKnKi63M8kN"
      },
      "source": [
        "---\n",
        "### Analytical solution\n",
        "\n",
        "To satisfy the FOC for optimization, the gradient is set equal to the zero vector. Then we have that\n",
        "\n",
        "\\begin{align}\n",
        "  \\nabla \\mathcal L\n",
        "   = -2 X^T y + 2 X^T X \\beta\n",
        "   &= \\mathbf 0_{n \\times 1},\n",
        "   \\\\\n",
        "   X^T X \\beta\n",
        "   &= X^T y,\n",
        "   \\\\\n",
        "   \\hat \\beta\n",
        "   &= (X^T X )^{-1} X^T y,\n",
        "\\end{align}\n",
        "\n",
        "which is the **analytical solution** for $\\hat \\beta$."
      ]
    },
    {
      "cell_type": "markdown",
      "metadata": {
        "id": "qIXNq1BhRbeI"
      },
      "source": [
        "\n",
        "---\n",
        "### Gradient descent\n",
        "\n",
        "For large datasets, calculating the inverse $(X^T X)^{-1}$ may be computationally expensive. Then we can use numerical approximation to solve the estimate with a technique called **gradient descent**.\n",
        "\n",
        "Let $\\hat \\beta^{(t)}$ be the $t$-th iteration estimate of $\\beta$, initialized with $\\hat \\beta^{(0)} = \\mathbf 0_{n \\times 1}$ or a random vector. The iterated estimates \"step\" in the opposite direction of the gradient vector scaled by a small learning rate $\\delta > 0$, where\n",
        "\\begin{align}\n",
        "    \\hat \\beta^{(t+1)}\n",
        "    &= \\hat \\beta^{(t)} - \\delta \\nabla \\mathcal L(\\beta^{(t)})\n",
        "    \\\\\n",
        "    &= \\hat \\beta^{(t)} - \\delta (-2 X^T y + 2 X^T X \\hat \\beta^{(t)}).\n",
        "\\end{align}\n",
        "\n",
        "The iteration ends after convergence, $\\hat \\beta^{(t+1)} \\simeq \\hat \\beta^{(t)}$, with some stopping rule such as if the absolute change in the loss function is less than a small threshold $\\eta > 0$,\n",
        "\\begin{align}\n",
        "    \\left|\\mathcal L\\left(\\hat \\beta^{(t+1)}\\right) - \\mathcal L\\left(\\hat \\beta^{(t)}\\right) \\right| < \\eta.\n",
        "\\end{align}\n",
        "\n",
        "It's also good to set an iteration limit $T > 0$, where the estimation stops after $t \\ge T$ to prevent the code from running too long for small convergence gains."
      ]
    },
    {
      "cell_type": "markdown",
      "metadata": {
        "id": "pUmNBBqP9KQS"
      },
      "source": [
        "---\n",
        "## Appendix III: Dynamic programming\n",
        "\n",
        "The problem at each period is to maximize\n",
        "\\begin{align}\n",
        "    \\mathbb E \\left[\n",
        "        \\sum_{t=0}^\\infty \\beta^t u(C_t)\n",
        "    \\right]\n",
        "\\end{align}\n",
        "\n",
        "such that for all periods $t \\in \\mathbb N$,\n",
        "\n",
        "\\begin{align}\n",
        "    C_t + K_{t+1} = (1 + z_t) f(K_t) + (1 - \\delta) K_t.\n",
        "\\end{align}\n",
        "\n",
        "We can approximate the solution with a discrete [dynamic programming](https://en.wikipedia.org/wiki/Dynamic_programming) model.\n",
        "\n",
        "Let the **capital state space** $k \\in \\mathbb R^m$ be a discrete linear space of possible capital levels, and let $z \\in \\mathbb R^n$ with $n=2$ be the state space of the **productivity shock**.\n",
        "\n",
        "Let the **value function** $V \\in \\mathbb R^{m \\times 2}$ be a matrix that satisfies the discrete [Bellman equation](https://en.wikipedia.org/wiki/Bellman_equation#The_Bellman_equation), where for all $i = 1, 2, .., m$ and $j = 1, 2$,\n",
        "\n",
        "\\begin{align}\n",
        "    V_{ij}\n",
        "    &= \\max_{s \\in \\{1, ..., m\\}} \\left\\{\n",
        "        u(c_s) + \\beta \\mathbb E_{z}[V_{sj}]\n",
        "    \\right\\}\n",
        "    %\\\\\n",
        "    %&= \\max_{s \\in \\{1, ..., m\\}} \\left\\{\n",
        "    %    u(c_s) + \\beta (p V_{s1} + (1-p) V_{s2})\n",
        "    %\\right\\},\n",
        "    \\\\\n",
        "    &= u(c_{\\hat s}) + \\beta (p V_{\\hat s 1} + (1-p) V_{\\hat s 2}),\n",
        "\\end{align}\n",
        "\n",
        "where $\\hat s \\in \\{1, ..., m\\}$ is the maximizing state space index and the vector $c \\in \\mathbb R^m$ represents the **available consumption** levels corresponding to the next period capital levels,\n",
        "\n",
        "\\begin{align}\n",
        "    c &= [(1+z_j) f(k_i) + (1-\\delta) k_i] \\mathbf 1_{m \\times 1} - k.\n",
        "\\end{align}\n",
        "\n",
        "When the agent faces capital $k_i$ and realization $z_j$ at any time period, $V_{ij}$ is the maximized Bellman equation value, $c_{\\hat s}$ is the optimal consumption, and $k_{\\hat s}$ is the optimal savings (next period capital). Then $V_{\\hat s j}, \\; j = 1, 2,$ are the next period value functions (depending on the realization of $z_j$).\n",
        "\n",
        "Let $V^{(\\tau)}$ be the $\\tau$-th iteration estimate of the value function with an initial $V^{(0)}(K_t, z_t) = \\mathbf 0_{n\\times 2}.$ We improve the estimate by iterating the value function following the path\n",
        "\\begin{align}\n",
        "    V_{ij}^{(\\tau+1)}\n",
        "    &= u(c_s) + \\beta \\left(p V_{s1}^{(\\tau)} + (1-p) V_{s2}^{(\\tau)} \\right)\n",
        "\\end{align}\n",
        "\n",
        "for each $i = 1, ..., m$ and $j = 1, 2$ until convergence $V^{(\\tau+1)} \\simeq V^{(\\tau)}$. The estimation ends after some convergence threshold is reached, such as\n",
        "\\begin{align}\n",
        "    \\sum\\limits_{k=1}^n \\sum\\limits_{j=1}^2 \\left| V_{kj}^{(\\tau+1)} - V_{kj}^{(\\tau)} \\right| \\le \\eta,\n",
        "\\end{align}\n",
        "for some $\\eta > 0$, or after some iteration limit."
      ]
    },
    {
      "cell_type": "code",
      "source": [],
      "metadata": {
        "id": "DE4vDpQlCizM"
      },
      "execution_count": 226,
      "outputs": []
    }
  ],
  "metadata": {
    "colab": {
      "collapsed_sections": [
        "0NfzCyb1LiOG",
        "03Vou6LoL1GQ",
        "tCi5JcTNMEgH",
        "TCplsanjMrTa"
      ],
      "provenance": []
    },
    "kernelspec": {
      "display_name": "Python 3",
      "name": "python3"
    },
    "language_info": {
      "name": "python"
    }
  },
  "nbformat": 4,
  "nbformat_minor": 0
}