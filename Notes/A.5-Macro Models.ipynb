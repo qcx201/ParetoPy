{
 "cells": [
  {
   "cell_type": "code",
   "execution_count": 1,
   "id": "aae6bb7c",
   "metadata": {},
   "outputs": [],
   "source": [
    "import numpy as np\n",
    "import matplotlib.pyplot as plt\n",
    "import sympy as sp\n",
    "\n",
    "%matplotlib inline"
   ]
  },
  {
   "cell_type": "markdown",
   "id": "c042b842",
   "metadata": {},
   "source": [
    "## Solow Model\n",
    "\n",
    "$$\n",
    "\\begin{align}\n",
    "    \\dot{L}(t) &= n L(t), \\quad\n",
    "    \\dot{A}(t) = g A(t)\n",
    "    \\\\\n",
    "    Y(t) &= F(K, AL) = K^{\\alpha} (AL)^{1-\\alpha}\n",
    "    \\\\\n",
    "    y(t) &= F(k, 1) = \\left(\\frac{K}{AL}\\right)^{\\alpha}\n",
    "    \\\\\n",
    "    K(t) &= sY(t) - \\delta K(t), \\quad\n",
    "    k(t) = \\frac{K(t)}{A(t)L(t)}\n",
    "\\end{align}\n",
    "$$"
   ]
  },
  {
   "cell_type": "code",
   "execution_count": 17,
   "id": "08e49d26",
   "metadata": {},
   "outputs": [],
   "source": [
    "F = lambda K, A, L, a=1/2: K**a * (A*L)**(1-a)\n",
    "f = lambda K, A, L, a=1/2 : F(K, A, L, a) / (A * L)\n",
    "\n",
    "# Y = cobb_douglas()\n",
    "# D = lambda t: "
   ]
  },
  {
   "cell_type": "code",
   "execution_count": 19,
   "id": "4d659118",
   "metadata": {},
   "outputs": [],
   "source": [
    "K = np.linspace(1e-10, 10, 1000)\n",
    "L = np.linspace(1e-10, 10, 1000)\n",
    "A = np.linspace(1e-10, 2, 1000)"
   ]
  },
  {
   "cell_type": "code",
   "execution_count": null,
   "id": "d255fbf1",
   "metadata": {},
   "outputs": [],
   "source": []
  }
 ],
 "metadata": {
  "kernelspec": {
   "display_name": "Python 3",
   "language": "python",
   "name": "python3"
  },
  "language_info": {
   "codemirror_mode": {
    "name": "ipython",
    "version": 3
   },
   "file_extension": ".py",
   "mimetype": "text/x-python",
   "name": "python",
   "nbconvert_exporter": "python",
   "pygments_lexer": "ipython3",
   "version": "3.8.5"
  }
 },
 "nbformat": 4,
 "nbformat_minor": 5
}
