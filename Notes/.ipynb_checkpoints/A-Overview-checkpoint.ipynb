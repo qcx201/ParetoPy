{
 "cells": [
  {
   "cell_type": "markdown",
   "id": "1ca20912",
   "metadata": {},
   "source": [
    "Intro to Python by Panos Ipeirotis: https://github.com/ipeirotis/introduction-to-python/tree/master/notes"
   ]
  },
  {
   "cell_type": "code",
   "execution_count": 1,
   "id": "715447f5",
   "metadata": {},
   "outputs": [
    {
     "name": "stdout",
     "output_type": "stream",
     "text": [
      "Hello world!\n"
     ]
    }
   ],
   "source": [
    "# write first program\n",
    "print(\"Hello world!\")"
   ]
  },
  {
   "cell_type": "markdown",
   "id": "3f414a4a",
   "metadata": {},
   "source": [
    "### Markdown\n",
    "Markdown is useful for formatting expository text\n",
    "\n",
    "# header 1\n",
    "## header 2\n",
    "### header 3\n",
    "#### header 4\n",
    "##### header 5\n",
    "##### header 6\n",
    "\n",
    "*italics*\n",
    "\n",
    "**bold**\n",
    "\n",
    "***bold italics***\n",
    "\n",
    "\n",
    "* bullet points\n",
    "\n",
    "* bullet points\n",
    "\n",
    "1. enumeration\n",
    "\n",
    "2. enumeration\n",
    "\n",
    "```python\n",
    "# code formatting\n",
    "print(\"Hello world\")\n",
    "```\n",
    "\n",
    "LaTex math equations: $e^{i\\pi} + 1 = 0$\n",
    "\n",
    "Multi-line equations:\n",
    "$$\\begin{align}\n",
    "    f(x) = ax^n, n \\in \\mathbb{Z} \\setminus \\{0\\} &\\implies f'(x) = a n x^{n-1}\n",
    "    \\\\&\\implies\n",
    "    f^{(m)}(x) = a {n! \\over (n-m)!} x^{n-m}\n",
    "\\end{align}$$"
   ]
  },
  {
   "cell_type": "markdown",
   "id": "60d9094d",
   "metadata": {},
   "source": [
    "## Discussion Questions\n",
    "\n",
    "What is Python?\n",
    "* programming language\n",
    "* open source\n",
    "* good for data science\n",
    "* pandas\n",
    "* tensorflow\n",
    "* machine learning\n",
    "* automation\n",
    "* webscraping\n",
    "* webdesign\n",
    "\n",
    "**Python:** A high-level, open source, object oriented programming language\n",
    "\n",
    "What is programming?\n",
    "\n",
    "What is object-oriented programming (OOP)?\n",
    "\n",
    "What is an object? According to programmers:\n",
    "* Information - attributes/properties\n",
    "* Actions it can perform - methods/functions"
   ]
  },
  {
   "cell_type": "markdown",
   "id": "27ee5b66",
   "metadata": {},
   "source": [
    "## Variables"
   ]
  },
  {
   "cell_type": "code",
   "execution_count": 2,
   "id": "bb5a1100",
   "metadata": {},
   "outputs": [],
   "source": [
    "msg = \"Hello world\""
   ]
  },
  {
   "cell_type": "code",
   "execution_count": 3,
   "id": "cd206190",
   "metadata": {},
   "outputs": [
    {
     "name": "stdout",
     "output_type": "stream",
     "text": [
      "10 °C = 50.0 °F\n"
     ]
    }
   ],
   "source": [
    "# variables\n",
    "celsius = 10\n",
    "fahrenheit = (celsius * 9/5) + 32\n",
    "\n",
    "print(celsius, '°C =', fahrenheit, '°F')"
   ]
  },
  {
   "cell_type": "markdown",
   "id": "3ecc2cd8",
   "metadata": {},
   "source": [
    "## Primitive Data Types"
   ]
  },
  {
   "cell_type": "code",
   "execution_count": 4,
   "id": "2d29488b",
   "metadata": {},
   "outputs": [
    {
     "data": {
      "text/plain": [
       "int"
      ]
     },
     "execution_count": 4,
     "metadata": {},
     "output_type": "execute_result"
    }
   ],
   "source": [
    "# integer\n",
    "x = 3\n",
    "type(x)"
   ]
  },
  {
   "cell_type": "code",
   "execution_count": 5,
   "id": "11738e41",
   "metadata": {},
   "outputs": [
    {
     "data": {
      "text/plain": [
       "float"
      ]
     },
     "execution_count": 5,
     "metadata": {},
     "output_type": "execute_result"
    }
   ],
   "source": [
    "# float\n",
    "x = 3.14\n",
    "type(x)"
   ]
  },
  {
   "cell_type": "code",
   "execution_count": 6,
   "id": "15a82351",
   "metadata": {},
   "outputs": [
    {
     "data": {
      "text/plain": [
       "str"
      ]
     },
     "execution_count": 6,
     "metadata": {},
     "output_type": "execute_result"
    }
   ],
   "source": [
    "# str\n",
    "x = \"3.14\"\n",
    "type(x)"
   ]
  },
  {
   "cell_type": "code",
   "execution_count": 7,
   "id": "71821fc1",
   "metadata": {},
   "outputs": [
    {
     "data": {
      "text/plain": [
       "bool"
      ]
     },
     "execution_count": 7,
     "metadata": {},
     "output_type": "execute_result"
    }
   ],
   "source": [
    "# boolean\n",
    "x = False\n",
    "type(x)"
   ]
  },
  {
   "cell_type": "markdown",
   "id": "4fd1d417",
   "metadata": {},
   "source": [
    "## (Built-in) Data Structures"
   ]
  },
  {
   "cell_type": "code",
   "execution_count": 8,
   "id": "c3aacc87",
   "metadata": {},
   "outputs": [
    {
     "data": {
      "text/plain": [
       "set"
      ]
     },
     "execution_count": 8,
     "metadata": {},
     "output_type": "execute_result"
    }
   ],
   "source": [
    "# set: unordered collection of unqiue elements\n",
    "x = {1, 2, 3}\n",
    "type(x)"
   ]
  },
  {
   "cell_type": "code",
   "execution_count": 46,
   "id": "0a583703",
   "metadata": {},
   "outputs": [
    {
     "name": "stdout",
     "output_type": "stream",
     "text": [
      "{1, 2, 'a'}\n"
     ]
    }
   ],
   "source": [
    "# set\n",
    "x = {1, 1, 1,1 ,1 ,1, 2, 2, 'a', 'a'}\n",
    "print(x) # duplicates will be removed\n",
    "# x[0] # will throw error: can't index (unordered)"
   ]
  },
  {
   "cell_type": "code",
   "execution_count": 10,
   "id": "dd987845",
   "metadata": {},
   "outputs": [
    {
     "data": {
      "text/plain": [
       "tuple"
      ]
     },
     "execution_count": 10,
     "metadata": {},
     "output_type": "execute_result"
    }
   ],
   "source": [
    "# tuple: ordered, immutable collection\n",
    "x = (1, 2, 3)\n",
    "type(x)"
   ]
  },
  {
   "cell_type": "code",
   "execution_count": 45,
   "id": "68ec09e1",
   "metadata": {},
   "outputs": [
    {
     "name": "stdout",
     "output_type": "stream",
     "text": [
      "(1, 1, 2, 3)\n",
      "1\n"
     ]
    }
   ],
   "source": [
    "# tuple\n",
    "x = (1, 1, 2, 3)\n",
    "print(x)\n",
    "print(x[0]) # can index\n",
    "# x[0] = 1 # will throw error: can't change (immutable)"
   ]
  },
  {
   "cell_type": "code",
   "execution_count": 12,
   "id": "a005248c",
   "metadata": {},
   "outputs": [
    {
     "data": {
      "text/plain": [
       "list"
      ]
     },
     "execution_count": 12,
     "metadata": {},
     "output_type": "execute_result"
    }
   ],
   "source": [
    "# list: ordered, mutable\n",
    "x = [1, 2, 3]\n",
    "type(x)"
   ]
  },
  {
   "cell_type": "code",
   "execution_count": 13,
   "id": "46900862",
   "metadata": {},
   "outputs": [
    {
     "name": "stdout",
     "output_type": "stream",
     "text": [
      "['a', 1, 2, 3]\n"
     ]
    }
   ],
   "source": [
    "# list: mutable, ordered collection\n",
    "x = [1, 1, 2, 3]\n",
    "x[0] = 'a'\n",
    "print(x)"
   ]
  },
  {
   "cell_type": "code",
   "execution_count": 14,
   "id": "3bb9cbc5",
   "metadata": {},
   "outputs": [
    {
     "data": {
      "text/plain": [
       "3"
      ]
     },
     "execution_count": 14,
     "metadata": {},
     "output_type": "execute_result"
    }
   ],
   "source": [
    "# dictionary: key-value pairs with unique keys\n",
    "x = {'a' : 1, 'b' : 2, 'c' : 3}\n",
    "type(x)\n",
    "x['c']"
   ]
  },
  {
   "cell_type": "markdown",
   "id": "e835e647",
   "metadata": {},
   "source": [
    "## Conditions (If Statements)"
   ]
  },
  {
   "cell_type": "code",
   "execution_count": 15,
   "id": "71d4c90d",
   "metadata": {},
   "outputs": [
    {
     "name": "stdout",
     "output_type": "stream",
     "text": [
      "x = 5\n"
     ]
    }
   ],
   "source": [
    "# conditions: if statements\n",
    "\n",
    "x = 5\n",
    "\n",
    "if x < 5:\n",
    "    print('x is less than 5')\n",
    "\n",
    "elif x > 5:\n",
    "    print('x is greater than 5')\n",
    "\n",
    "else:\n",
    "    print('x = 5')\n",
    "    \n",
    "# isn't something missing?"
   ]
  },
  {
   "cell_type": "code",
   "execution_count": 16,
   "id": "62a6cb38",
   "metadata": {},
   "outputs": [
    {
     "name": "stdout",
     "output_type": "stream",
     "text": [
      "2021-10-12 is Taco Tuesday!🌮\n"
     ]
    }
   ],
   "source": [
    "# another example\n",
    "# YYYY-MM-DD\n",
    "today = \"2021-10-12\"\n",
    "\n",
    "# import datetime package\n",
    "from datetime import datetime as dt\n",
    "\n",
    "# some processing\n",
    "date = dt.strptime(today, '%Y-%M-%d')\n",
    "dayofweek = date.weekday()\n",
    "weekdict = {0:'Mon', 1:'Tues', 2:'Wednes', 3:'Thurs', 4:'Fri', 5:'Satur', 6:'Sun'}\n",
    "\n",
    "# if statement\n",
    "if dayofweek == 1:\n",
    "    print(today, \"is Taco Tuesday!🌮\")\n",
    "else:\n",
    "    print(today, \"is not Taco Tuesday :( It's\", weekdict[dayofweek]+'day.')"
   ]
  },
  {
   "cell_type": "markdown",
   "id": "3925ec16",
   "metadata": {},
   "source": [
    "## Iteration (For Loops)"
   ]
  },
  {
   "cell_type": "code",
   "execution_count": 17,
   "id": "36680a7a",
   "metadata": {},
   "outputs": [
    {
     "name": "stdout",
     "output_type": "stream",
     "text": [
      "0, 1, 2, 3, 4, 5, 6, 7, 8, 9, 10, "
     ]
    }
   ],
   "source": [
    "# iterative index\n",
    "for i in range(11):\n",
    "    print(i, end=', ')"
   ]
  },
  {
   "cell_type": "code",
   "execution_count": 18,
   "id": "6bc69965",
   "metadata": {},
   "outputs": [
    {
     "name": "stdout",
     "output_type": "stream",
     "text": [
      "a rose is a rose is a rose is a rose is a rose is a rose is a rose is a rose is a rose is a rose is ...\n"
     ]
    }
   ],
   "source": [
    "# repetition with iteration\n",
    "for _ in range(10):\n",
    "    print('a rose is', end=' ')\n",
    "\n",
    "print('...')"
   ]
  },
  {
   "cell_type": "code",
   "execution_count": 19,
   "id": "0c6736db",
   "metadata": {},
   "outputs": [
    {
     "name": "stdout",
     "output_type": "stream",
     "text": [
      "1, 1, 2, 3, 5, 8, 13, 21, 34, 55, 89, 144, "
     ]
    }
   ],
   "source": [
    "# fibonnaci numbers\n",
    "fib = [1, 1] # seed\n",
    "\n",
    "# iterate to create Fibonacci sequence\n",
    "for _ in range(10):\n",
    "    fib.append(fib[-1] + fib[-2])\n",
    "\n",
    "# print each fib number iteratively\n",
    "for n in fib:\n",
    "    print(n, end=', ')"
   ]
  },
  {
   "cell_type": "markdown",
   "id": "5c8d8ee0",
   "metadata": {},
   "source": [
    "## Control Flow (Conditions + Iteration = 🔥)"
   ]
  },
  {
   "cell_type": "code",
   "execution_count": 20,
   "id": "7fa09efc",
   "metadata": {},
   "outputs": [
    {
     "name": "stdout",
     "output_type": "stream",
     "text": [
      "1, 2, Fizz, 4, Buzz, Fizz, 7, 8, Fizz, Buzz, 11, Fizz, 13, 14, FizzBuzz, 16, 17, Fizz, 19, Buzz, Fizz, 22, 23, Fizz, Buzz, 26, Fizz, 28, 29, FizzBuzz, 31, 32, Fizz, 34, Buzz, Fizz, 37, 38, Fizz, Buzz, "
     ]
    }
   ],
   "source": [
    "# fizzbuzz\n",
    "n = 40\n",
    "\n",
    "for i in range(1, n+1):\n",
    "    \n",
    "    msg = ''\n",
    "    \n",
    "    if i % 3 == 0:\n",
    "        msg += 'Fizz'\n",
    "    \n",
    "    if i % 5 == 0:\n",
    "        msg += 'Buzz'\n",
    "    \n",
    "    if msg == '':\n",
    "        msg = str(i)\n",
    "    \n",
    "    print(msg, end=', ')"
   ]
  },
  {
   "cell_type": "markdown",
   "id": "9c5db472",
   "metadata": {},
   "source": [
    "## Functions"
   ]
  },
  {
   "cell_type": "code",
   "execution_count": 21,
   "id": "7665c85c",
   "metadata": {},
   "outputs": [],
   "source": [
    "# simple example\n",
    "def hello(name):\n",
    "    \n",
    "    msg = f'Hello {name}!'\n",
    "    \n",
    "    print(msg)\n",
    "    \n",
    "    return msg"
   ]
  },
  {
   "cell_type": "code",
   "execution_count": 22,
   "id": "97d43ef0",
   "metadata": {},
   "outputs": [
    {
     "name": "stdout",
     "output_type": "stream",
     "text": [
      "Hello Rebecca!\n"
     ]
    }
   ],
   "source": [
    "x = hello('Rebecca')"
   ]
  },
  {
   "cell_type": "code",
   "execution_count": 23,
   "id": "997d0b0a",
   "metadata": {},
   "outputs": [
    {
     "data": {
      "text/plain": [
       "'Hello Rebecca!'"
      ]
     },
     "execution_count": 23,
     "metadata": {},
     "output_type": "execute_result"
    }
   ],
   "source": [
    "x"
   ]
  },
  {
   "cell_type": "markdown",
   "id": "02dbf787",
   "metadata": {},
   "source": [
    "## Object Classes"
   ]
  },
  {
   "cell_type": "code",
   "execution_count": 24,
   "id": "2a6e56a7",
   "metadata": {},
   "outputs": [],
   "source": [
    "class Person:\n",
    "    \n",
    "    def __init__(self, name, age, job):\n",
    "        \n",
    "        self.name = name\n",
    "        self.age = age\n",
    "        self.job = job\n",
    "    \n",
    "    def describe(self):\n",
    "\n",
    "        return f'My name is {self.name}. I am a {self.age}-year-old {self.job}.'\n",
    "        \n",
    "    def intro(self, other):\n",
    "        \n",
    "        return f'Nice to meet you {other}! My name is {self.name}.'"
   ]
  },
  {
   "cell_type": "code",
   "execution_count": 25,
   "id": "41c3c7ce",
   "metadata": {},
   "outputs": [
    {
     "data": {
      "text/plain": [
       "'My name is Jack. I am a 25-year-old economics student.'"
      ]
     },
     "execution_count": 25,
     "metadata": {},
     "output_type": "execute_result"
    }
   ],
   "source": [
    "me = Person('Jack', 25, 'economics student')\n",
    "me.describe()"
   ]
  },
  {
   "cell_type": "code",
   "execution_count": 26,
   "id": "5edc621b",
   "metadata": {},
   "outputs": [
    {
     "data": {
      "text/plain": [
       "'Nice to meet you Jill! My name is Jack.'"
      ]
     },
     "execution_count": 26,
     "metadata": {},
     "output_type": "execute_result"
    }
   ],
   "source": [
    "me.intro(\"Jill\")"
   ]
  },
  {
   "cell_type": "markdown",
   "id": "2e847096",
   "metadata": {},
   "source": [
    "## Working with Files"
   ]
  },
  {
   "cell_type": "code",
   "execution_count": 27,
   "id": "3f56ff2a",
   "metadata": {},
   "outputs": [],
   "source": [
    "# write file\n",
    "with open(\"hello.txt\", 'w') as f:\n",
    "    f.write('Hello world!')\n",
    "    f.close()"
   ]
  },
  {
   "cell_type": "code",
   "execution_count": 28,
   "id": "4c94ff48",
   "metadata": {},
   "outputs": [
    {
     "name": "stdout",
     "output_type": "stream",
     "text": [
      "Hello world!\n"
     ]
    }
   ],
   "source": [
    "# read files\n",
    "with open(\"hello.txt\", \"r\") as f:\n",
    "    data = f.read()\n",
    "    f.close()\n",
    "    \n",
    "print(data)"
   ]
  },
  {
   "cell_type": "code",
   "execution_count": 29,
   "id": "e06e2259",
   "metadata": {},
   "outputs": [
    {
     "name": "stdout",
     "output_type": "stream",
     "text": [
      ".ipynb_checkpoints\n",
      "A-Overview.ipynb\n",
      "B-Challenges.ipynb\n",
      "hello.txt\n",
      "__pycache__\n"
     ]
    }
   ],
   "source": [
    "# show files in current directory\n",
    "import os\n",
    "for file in os.listdir():\n",
    "    print(file)"
   ]
  },
  {
   "cell_type": "markdown",
   "id": "f8df9d08",
   "metadata": {},
   "source": [
    "Can also use jupyter's built-in [**magic commands**](https://ipython.readthedocs.io/en/stable/interactive/magics.html)\n",
    "\n",
    "Command line cheatsheets:\n",
    "* [Windows](http://www.cs.columbia.edu/~sedwards/classes/2015/1102-fall/Command%20Prompt%20Cheatsheet.pdf)\n",
    "* [MacOS](https://www.makeuseof.com/tag/mac-terminal-commands-cheat-sheet/)"
   ]
  },
  {
   "cell_type": "code",
   "execution_count": 30,
   "id": "6cb94e64",
   "metadata": {},
   "outputs": [
    {
     "name": "stdout",
     "output_type": "stream",
     "text": [
      " Volume in drive C is Windows\n",
      " Volume Serial Number is 3E94-F918\n",
      "\n",
      " Directory of C:\\Users\\qcx20\\Documents\\UUPyEcon\\Notes\n",
      "\n",
      "2021-10-12  02:17 PM    <DIR>          .\n",
      "2021-10-12  02:17 PM    <DIR>          ..\n",
      "2021-10-09  04:30 PM    <DIR>          .ipynb_checkpoints\n",
      "2021-10-12  02:16 PM            22,467 A-Overview.ipynb\n",
      "2021-10-09  05:58 PM            13,041 B-Challenges.ipynb\n",
      "2021-10-12  02:17 PM                12 hello.txt\n",
      "2021-10-12  12:54 PM    <DIR>          __pycache__\n",
      "               3 File(s)         35,520 bytes\n",
      "               4 Dir(s)  603,595,575,296 bytes free\n"
     ]
    }
   ],
   "source": [
    "!dir\n",
    "# !pwd"
   ]
  },
  {
   "cell_type": "markdown",
   "id": "bc3dba5e",
   "metadata": {},
   "source": [
    "Use magic commands to write files"
   ]
  },
  {
   "cell_type": "code",
   "execution_count": 31,
   "id": "8ba42b90",
   "metadata": {},
   "outputs": [
    {
     "name": "stdout",
     "output_type": "stream",
     "text": [
      "Writing goodbye.txt\n"
     ]
    }
   ],
   "source": [
    "%%writefile goodbye.txt\n",
    "\n",
    "Contents of this jupyter cell will be written straight into a text file.\n",
    "\n",
    "Goodbye!"
   ]
  },
  {
   "cell_type": "markdown",
   "id": "499a5070",
   "metadata": {},
   "source": [
    "We can also write our own **.py** file, which can be imported as a **python package**"
   ]
  },
  {
   "cell_type": "code",
   "execution_count": 32,
   "id": "7c29ea29",
   "metadata": {},
   "outputs": [
    {
     "name": "stdout",
     "output_type": "stream",
     "text": [
      "Writing hello_world.py\n"
     ]
    }
   ],
   "source": [
    "%%writefile hello_world.py\n",
    "\n",
    "class Swedish:\n",
    "    '''\n",
    "    Swedish version of hello world\n",
    "    '''\n",
    "    def hello(self):\n",
    "        print(\"Hej världen!\")\n",
    "\n",
    "    def goodbye(self):\n",
    "        print(\"Vi ses 👋 Hejdå!\")"
   ]
  },
  {
   "cell_type": "code",
   "execution_count": 33,
   "id": "3a771b43",
   "metadata": {},
   "outputs": [
    {
     "name": "stdout",
     "output_type": "stream",
     "text": [
      "Hej världen!\n",
      "Vi ses 👋 Hejdå!\n"
     ]
    }
   ],
   "source": [
    "# import the .py file we just created\n",
    "import hello_world as hw\n",
    "sv = hw.Swedish()\n",
    "\n",
    "sv.hello()\n",
    "sv.goodbye()"
   ]
  },
  {
   "cell_type": "markdown",
   "id": "37578983",
   "metadata": {},
   "source": [
    "Delete these files with command line magic"
   ]
  },
  {
   "cell_type": "code",
   "execution_count": 34,
   "id": "566862d7",
   "metadata": {},
   "outputs": [],
   "source": [
    "!del goodbye.txt hello.txt hello_world.py\n",
    "# !rm goodbye.txt hello.txt hello_world.py"
   ]
  },
  {
   "cell_type": "markdown",
   "id": "89d7b469",
   "metadata": {},
   "source": [
    "## Packages and Imports"
   ]
  },
  {
   "cell_type": "code",
   "execution_count": 35,
   "id": "7d89d588",
   "metadata": {},
   "outputs": [
    {
     "name": "stdout",
     "output_type": "stream",
     "text": [
      "The Zen of Python, by Tim Peters\n",
      "\n",
      "Beautiful is better than ugly.\n",
      "Explicit is better than implicit.\n",
      "Simple is better than complex.\n",
      "Complex is better than complicated.\n",
      "Flat is better than nested.\n",
      "Sparse is better than dense.\n",
      "Readability counts.\n",
      "Special cases aren't special enough to break the rules.\n",
      "Although practicality beats purity.\n",
      "Errors should never pass silently.\n",
      "Unless explicitly silenced.\n",
      "In the face of ambiguity, refuse the temptation to guess.\n",
      "There should be one-- and preferably only one --obvious way to do it.\n",
      "Although that way may not be obvious at first unless you're Dutch.\n",
      "Now is better than never.\n",
      "Although never is often better than *right* now.\n",
      "If the implementation is hard to explain, it's a bad idea.\n",
      "If the implementation is easy to explain, it may be a good idea.\n",
      "Namespaces are one honking great idea -- let's do more of those!\n"
     ]
    }
   ],
   "source": [
    "# Zen of Python\n",
    "import this"
   ]
  },
  {
   "cell_type": "code",
   "execution_count": 36,
   "id": "9ddfb240",
   "metadata": {},
   "outputs": [],
   "source": [
    "# xkcd\n",
    "import antigravity"
   ]
  },
  {
   "cell_type": "code",
   "execution_count": 37,
   "id": "fff21ee5",
   "metadata": {},
   "outputs": [
    {
     "name": "stdout",
     "output_type": "stream",
     "text": [
      "[[1 2]\n",
      " [3 4]] \n",
      "\n",
      "[[1 3]\n",
      " [2 4]] \n",
      "\n",
      "[[ 7 10]\n",
      " [15 22]] \n",
      "\n"
     ]
    }
   ],
   "source": [
    "# math/linear algebra\n",
    "import numpy as np\n",
    "\n",
    "x = np.array([[1, 2],\n",
    "              [3, 4]\n",
    "             ])\n",
    "\n",
    "print(x, '\\n') # matrix\n",
    "print(x.T, '\\n') # transpose\n",
    "print(x@x, '\\n') # matrix mult"
   ]
  },
  {
   "cell_type": "code",
   "execution_count": 38,
   "id": "c3bb5618",
   "metadata": {},
   "outputs": [
    {
     "data": {
      "text/latex": [
       "$\\displaystyle \\left[\\begin{matrix}a & b\\\\c & d\\end{matrix}\\right]$"
      ],
      "text/plain": [
       "Matrix([\n",
       "[a, b],\n",
       "[c, d]])"
      ]
     },
     "metadata": {},
     "output_type": "display_data"
    },
    {
     "data": {
      "text/latex": [
       "$\\displaystyle \\left[\\begin{matrix}a^{2} + b c & a b + b d\\\\a c + c d & b c + d^{2}\\end{matrix}\\right]$"
      ],
      "text/plain": [
       "Matrix([\n",
       "[a**2 + b*c,  a*b + b*d],\n",
       "[ a*c + c*d, b*c + d**2]])"
      ]
     },
     "metadata": {},
     "output_type": "display_data"
    }
   ],
   "source": [
    "# symbolic math\n",
    "import sympy as sp\n",
    "\n",
    "a, b, c, d = sp.symbols('a, b, c, d')\n",
    "\n",
    "x = sp.Matrix([[a, b],\n",
    "               [c, d]])\n",
    "display(x)\n",
    "display(x@x)"
   ]
  },
  {
   "cell_type": "code",
   "execution_count": 39,
   "id": "dc048709",
   "metadata": {},
   "outputs": [],
   "source": [
    "# web requests\n",
    "import requests as r\n",
    "\n",
    "url = 'https://www.nytimes.com/'\n",
    "resp = r.get(url)"
   ]
  },
  {
   "cell_type": "code",
   "execution_count": 40,
   "id": "a9f00605",
   "metadata": {},
   "outputs": [
    {
     "name": "stdout",
     "output_type": "stream",
     "text": [
      "In China, Home Buyers Who Went All In Say They Want Out\n"
     ]
    }
   ],
   "source": [
    "# HTML parsing\n",
    "from lxml import html\n",
    "\n",
    "doc = html.fromstring(resp.text)\n",
    "header = doc.xpath('//h3')[0]\n",
    "print(header.text)"
   ]
  },
  {
   "cell_type": "code",
   "execution_count": 41,
   "id": "71715bd3",
   "metadata": {},
   "outputs": [
    {
     "data": {
      "text/html": [
       "<div>\n",
       "<style scoped>\n",
       "    .dataframe tbody tr th:only-of-type {\n",
       "        vertical-align: middle;\n",
       "    }\n",
       "\n",
       "    .dataframe tbody tr th {\n",
       "        vertical-align: top;\n",
       "    }\n",
       "\n",
       "    .dataframe thead th {\n",
       "        text-align: right;\n",
       "    }\n",
       "</style>\n",
       "<table border=\"1\" class=\"dataframe\">\n",
       "  <thead>\n",
       "    <tr style=\"text-align: right;\">\n",
       "      <th></th>\n",
       "      <th>Open</th>\n",
       "      <th>High</th>\n",
       "      <th>Low</th>\n",
       "      <th>Close</th>\n",
       "      <th>Adj Close</th>\n",
       "      <th>Volume</th>\n",
       "    </tr>\n",
       "    <tr>\n",
       "      <th>Date</th>\n",
       "      <th></th>\n",
       "      <th></th>\n",
       "      <th></th>\n",
       "      <th></th>\n",
       "      <th></th>\n",
       "      <th></th>\n",
       "    </tr>\n",
       "  </thead>\n",
       "  <tbody>\n",
       "    <tr>\n",
       "      <th>2020-10-12</th>\n",
       "      <td>120.059998</td>\n",
       "      <td>125.180000</td>\n",
       "      <td>119.279999</td>\n",
       "      <td>124.400002</td>\n",
       "      <td>123.604996</td>\n",
       "      <td>240226800</td>\n",
       "    </tr>\n",
       "    <tr>\n",
       "      <th>2020-10-13</th>\n",
       "      <td>125.269997</td>\n",
       "      <td>125.389999</td>\n",
       "      <td>119.650002</td>\n",
       "      <td>121.099998</td>\n",
       "      <td>120.326073</td>\n",
       "      <td>262330500</td>\n",
       "    </tr>\n",
       "    <tr>\n",
       "      <th>2020-10-14</th>\n",
       "      <td>121.000000</td>\n",
       "      <td>123.029999</td>\n",
       "      <td>119.620003</td>\n",
       "      <td>121.190002</td>\n",
       "      <td>120.415512</td>\n",
       "      <td>150712000</td>\n",
       "    </tr>\n",
       "    <tr>\n",
       "      <th>2020-10-15</th>\n",
       "      <td>118.720001</td>\n",
       "      <td>121.199997</td>\n",
       "      <td>118.150002</td>\n",
       "      <td>120.709999</td>\n",
       "      <td>119.938576</td>\n",
       "      <td>112559200</td>\n",
       "    </tr>\n",
       "    <tr>\n",
       "      <th>2020-10-16</th>\n",
       "      <td>121.279999</td>\n",
       "      <td>121.550003</td>\n",
       "      <td>118.809998</td>\n",
       "      <td>119.019997</td>\n",
       "      <td>118.259377</td>\n",
       "      <td>115393800</td>\n",
       "    </tr>\n",
       "    <tr>\n",
       "      <th>...</th>\n",
       "      <td>...</td>\n",
       "      <td>...</td>\n",
       "      <td>...</td>\n",
       "      <td>...</td>\n",
       "      <td>...</td>\n",
       "      <td>...</td>\n",
       "    </tr>\n",
       "    <tr>\n",
       "      <th>2021-10-05</th>\n",
       "      <td>139.490005</td>\n",
       "      <td>142.240005</td>\n",
       "      <td>139.360001</td>\n",
       "      <td>141.110001</td>\n",
       "      <td>141.110001</td>\n",
       "      <td>80861100</td>\n",
       "    </tr>\n",
       "    <tr>\n",
       "      <th>2021-10-06</th>\n",
       "      <td>139.470001</td>\n",
       "      <td>142.149994</td>\n",
       "      <td>138.369995</td>\n",
       "      <td>142.000000</td>\n",
       "      <td>142.000000</td>\n",
       "      <td>83221100</td>\n",
       "    </tr>\n",
       "    <tr>\n",
       "      <th>2021-10-07</th>\n",
       "      <td>143.059998</td>\n",
       "      <td>144.220001</td>\n",
       "      <td>142.720001</td>\n",
       "      <td>143.289993</td>\n",
       "      <td>143.289993</td>\n",
       "      <td>61732700</td>\n",
       "    </tr>\n",
       "    <tr>\n",
       "      <th>2021-10-08</th>\n",
       "      <td>144.029999</td>\n",
       "      <td>144.179993</td>\n",
       "      <td>142.559998</td>\n",
       "      <td>142.899994</td>\n",
       "      <td>142.899994</td>\n",
       "      <td>58718700</td>\n",
       "    </tr>\n",
       "    <tr>\n",
       "      <th>2021-10-11</th>\n",
       "      <td>142.270004</td>\n",
       "      <td>144.809998</td>\n",
       "      <td>141.809998</td>\n",
       "      <td>142.809998</td>\n",
       "      <td>142.809998</td>\n",
       "      <td>64377200</td>\n",
       "    </tr>\n",
       "  </tbody>\n",
       "</table>\n",
       "<p>252 rows × 6 columns</p>\n",
       "</div>"
      ],
      "text/plain": [
       "                  Open        High         Low       Close   Adj Close  \\\n",
       "Date                                                                     \n",
       "2020-10-12  120.059998  125.180000  119.279999  124.400002  123.604996   \n",
       "2020-10-13  125.269997  125.389999  119.650002  121.099998  120.326073   \n",
       "2020-10-14  121.000000  123.029999  119.620003  121.190002  120.415512   \n",
       "2020-10-15  118.720001  121.199997  118.150002  120.709999  119.938576   \n",
       "2020-10-16  121.279999  121.550003  118.809998  119.019997  118.259377   \n",
       "...                ...         ...         ...         ...         ...   \n",
       "2021-10-05  139.490005  142.240005  139.360001  141.110001  141.110001   \n",
       "2021-10-06  139.470001  142.149994  138.369995  142.000000  142.000000   \n",
       "2021-10-07  143.059998  144.220001  142.720001  143.289993  143.289993   \n",
       "2021-10-08  144.029999  144.179993  142.559998  142.899994  142.899994   \n",
       "2021-10-11  142.270004  144.809998  141.809998  142.809998  142.809998   \n",
       "\n",
       "               Volume  \n",
       "Date                   \n",
       "2020-10-12  240226800  \n",
       "2020-10-13  262330500  \n",
       "2020-10-14  150712000  \n",
       "2020-10-15  112559200  \n",
       "2020-10-16  115393800  \n",
       "...               ...  \n",
       "2021-10-05   80861100  \n",
       "2021-10-06   83221100  \n",
       "2021-10-07   61732700  \n",
       "2021-10-08   58718700  \n",
       "2021-10-11   64377200  \n",
       "\n",
       "[252 rows x 6 columns]"
      ]
     },
     "execution_count": 41,
     "metadata": {},
     "output_type": "execute_result"
    }
   ],
   "source": [
    "# data panels\n",
    "import pandas as pd\n",
    "\n",
    "# read AAPL price data from Yahoo Finance\n",
    "url = 'https://query1.finance.yahoo.com/v7/finance/download/AAPL?period1=1602500521&period2=1634036521&interval=1d&events=history&includeAdjustedClose=true'\n",
    "df = pd.read_csv(url)\n",
    "\n",
    "# processing\n",
    "df['Date'] = pd.to_datetime(df['Date'])\n",
    "df = df.set_index('Date')\n",
    "\n",
    "df"
   ]
  },
  {
   "cell_type": "code",
   "execution_count": 42,
   "id": "0bbec163",
   "metadata": {},
   "outputs": [
    {
     "data": {
      "image/png": "[encoded data removed]",
      "text/plain": [
       "<Figure size 576x360 with 1 Axes>"
      ]
     },
     "metadata": {
      "needs_background": "light"
     },
     "output_type": "display_data"
    }
   ],
   "source": [
    "# plotting with matplotlib\n",
    "import matplotlib.pyplot as plt\n",
    "%matplotlib inline\n",
    "\n",
    "# create data\n",
    "x = np.linspace(-2, 2) # linear space\n",
    "y = np.exp(x) # exponential function\n",
    "\n",
    "# format figure\n",
    "plt.figure(figsize=(8,5))\n",
    "\n",
    "# plot\n",
    "plt.plot(x, y, # data\n",
    "         lw=5, # line width\n",
    "         alpha=0.65, # opacity\n",
    "         label='$f(x) = e^{x}$' # legend label\n",
    "        )\n",
    "\n",
    "plt.legend(fontsize=16) # show legend\n",
    "plt.show() # display output"
   ]
  },
  {
   "cell_type": "code",
   "execution_count": 43,
   "id": "1348da77",
   "metadata": {},
   "outputs": [
    {
     "data": {
      "image/png": "[encoded data removed]",
      "text/plain": [
       "<Figure size 576x360 with 1 Axes>"
      ]
     },
     "metadata": {
      "needs_background": "light"
     },
     "output_type": "display_data"
    }
   ],
   "source": [
    "# plotting with pandas\n",
    "# which uses matplotlib\n",
    "\n",
    "plt.figure(figsize=(8, 5))\n",
    "\n",
    "df['Adj Close'].plot(alpha=0.75, lw=1)\n",
    "\n",
    "plt.legend()\n",
    "plt.show()"
   ]
  },
  {
   "cell_type": "code",
   "execution_count": 44,
   "id": "3cd04232",
   "metadata": {},
   "outputs": [
    {
     "data": {
      "text/html": [
       "<table class=\"simpletable\">\n",
       "<caption>OLS Regression Results</caption>\n",
       "<tr>\n",
       "  <th>Dep. Variable:</th>          <td>Close</td>      <th>  R-squared:         </th> <td>   0.975</td> \n",
       "</tr>\n",
       "<tr>\n",
       "  <th>Model:</th>                   <td>OLS</td>       <th>  Adj. R-squared:    </th> <td>   0.975</td> \n",
       "</tr>\n",
       "<tr>\n",
       "  <th>Method:</th>             <td>Least Squares</td>  <th>  F-statistic:       </th> <td>   4936.</td> \n",
       "</tr>\n",
       "<tr>\n",
       "  <th>Date:</th>             <td>Tue, 12 Oct 2021</td> <th>  Prob (F-statistic):</th> <td>4.72e-201</td>\n",
       "</tr>\n",
       "<tr>\n",
       "  <th>Time:</th>                 <td>14:17:22</td>     <th>  Log-Likelihood:    </th> <td> -495.37</td> \n",
       "</tr>\n",
       "<tr>\n",
       "  <th>No. Observations:</th>      <td>   252</td>      <th>  AIC:               </th> <td>   996.7</td> \n",
       "</tr>\n",
       "<tr>\n",
       "  <th>Df Residuals:</th>          <td>   249</td>      <th>  BIC:               </th> <td>   1007.</td> \n",
       "</tr>\n",
       "<tr>\n",
       "  <th>Df Model:</th>              <td>     2</td>      <th>                     </th>     <td> </td>    \n",
       "</tr>\n",
       "<tr>\n",
       "  <th>Covariance Type:</th>      <td>nonrobust</td>    <th>                     </th>     <td> </td>    \n",
       "</tr>\n",
       "</table>\n",
       "<table class=\"simpletable\">\n",
       "<tr>\n",
       "      <td></td>         <th>coef</th>     <th>std err</th>      <th>t</th>      <th>P>|t|</th>  <th>[0.025</th>    <th>0.975]</th>  \n",
       "</tr>\n",
       "<tr>\n",
       "  <th>Intercept</th> <td>    4.0969</td> <td>    1.559</td> <td>    2.628</td> <td> 0.009</td> <td>    1.026</td> <td>    7.168</td>\n",
       "</tr>\n",
       "<tr>\n",
       "  <th>Open</th>      <td>    0.9774</td> <td>    0.011</td> <td>   92.105</td> <td> 0.000</td> <td>    0.956</td> <td>    0.998</td>\n",
       "</tr>\n",
       "<tr>\n",
       "  <th>Volume</th>    <td>-1.163e-08</td> <td> 3.59e-09</td> <td>   -3.239</td> <td> 0.001</td> <td>-1.87e-08</td> <td>-4.56e-09</td>\n",
       "</tr>\n",
       "</table>\n",
       "<table class=\"simpletable\">\n",
       "<tr>\n",
       "  <th>Omnibus:</th>       <td> 0.888</td> <th>  Durbin-Watson:     </th> <td>   2.115</td>\n",
       "</tr>\n",
       "<tr>\n",
       "  <th>Prob(Omnibus):</th> <td> 0.641</td> <th>  Jarque-Bera (JB):  </th> <td>   0.636</td>\n",
       "</tr>\n",
       "<tr>\n",
       "  <th>Skew:</th>          <td> 0.101</td> <th>  Prob(JB):          </th> <td>   0.728</td>\n",
       "</tr>\n",
       "<tr>\n",
       "  <th>Kurtosis:</th>      <td> 3.141</td> <th>  Cond. No.          </th> <td>1.44e+09</td>\n",
       "</tr>\n",
       "</table><br/><br/>Notes:<br/>[1] Standard Errors assume that the covariance matrix of the errors is correctly specified.<br/>[2] The condition number is large, 1.44e+09. This might indicate that there are<br/>strong multicollinearity or other numerical problems."
      ],
      "text/plain": [
       "<class 'statsmodels.iolib.summary.Summary'>\n",
       "\"\"\"\n",
       "                            OLS Regression Results                            \n",
       "==============================================================================\n",
       "Dep. Variable:                  Close   R-squared:                       0.975\n",
       "Model:                            OLS   Adj. R-squared:                  0.975\n",
       "Method:                 Least Squares   F-statistic:                     4936.\n",
       "Date:                Tue, 12 Oct 2021   Prob (F-statistic):          4.72e-201\n",
       "Time:                        14:17:22   Log-Likelihood:                -495.37\n",
       "No. Observations:                 252   AIC:                             996.7\n",
       "Df Residuals:                     249   BIC:                             1007.\n",
       "Df Model:                           2                                         \n",
       "Covariance Type:            nonrobust                                         \n",
       "==============================================================================\n",
       "                 coef    std err          t      P>|t|      [0.025      0.975]\n",
       "------------------------------------------------------------------------------\n",
       "Intercept      4.0969      1.559      2.628      0.009       1.026       7.168\n",
       "Open           0.9774      0.011     92.105      0.000       0.956       0.998\n",
       "Volume     -1.163e-08   3.59e-09     -3.239      0.001   -1.87e-08   -4.56e-09\n",
       "==============================================================================\n",
       "Omnibus:                        0.888   Durbin-Watson:                   2.115\n",
       "Prob(Omnibus):                  0.641   Jarque-Bera (JB):                0.636\n",
       "Skew:                           0.101   Prob(JB):                        0.728\n",
       "Kurtosis:                       3.141   Cond. No.                     1.44e+09\n",
       "==============================================================================\n",
       "\n",
       "Notes:\n",
       "[1] Standard Errors assume that the covariance matrix of the errors is correctly specified.\n",
       "[2] The condition number is large, 1.44e+09. This might indicate that there are\n",
       "strong multicollinearity or other numerical problems.\n",
       "\"\"\""
      ]
     },
     "execution_count": 44,
     "metadata": {},
     "output_type": "execute_result"
    }
   ],
   "source": [
    "# regression\n",
    "import statsmodels.formula.api as smf\n",
    "\n",
    "model = smf.ols(formula='Close ~ Open + Volume', data=df).fit()\n",
    "\n",
    "model.summary()"
   ]
  }
 ],
 "metadata": {
  "kernelspec": {
   "display_name": "Python 3",
   "language": "python",
   "name": "python3"
  },
  "language_info": {
   "codemirror_mode": {
    "name": "ipython",
    "version": 3
   },
   "file_extension": ".py",
   "mimetype": "text/x-python",
   "name": "python",
   "nbconvert_exporter": "python",
   "pygments_lexer": "ipython3",
   "version": "3.8.5"
  }
 },
 "nbformat": 4,
 "nbformat_minor": 5
}
