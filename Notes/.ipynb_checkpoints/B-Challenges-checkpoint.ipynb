{
 "cells": [
  {
   "cell_type": "markdown",
   "id": "17e339eb",
   "metadata": {},
   "source": [
    "# Challenge 1\n",
    "To infinity and beyond 🚀"
   ]
  },
  {
   "cell_type": "markdown",
   "id": "639b1b56",
   "metadata": {},
   "source": [
    "**(Warm-Up)**\n",
    "\n",
    "A pizza delivery boy accidentally falls into a cryogenic chamber on New Years Eve, 1999, and is reanimated in the year 3000. \n",
    "\n",
    "At the time of his freezing, he had $0.93 in his bank account. Assuming an average 2.25\\% interest rate compounded annually, how much money will he have in the bank when he wakes up?\n",
    "\n",
    "Double check: https://www.youtube.com/watch?v=6JwkaLt9pf8\n",
    "\n",
    "---"
   ]
  },
  {
   "cell_type": "code",
   "execution_count": 1,
   "id": "1952f350",
   "metadata": {},
   "outputs": [
    {
     "name": "stdout",
     "output_type": "stream",
     "text": [
      "With $0.93 in the bank and 2.25% interest compounded annually over 1000 years...\n",
      "... his balance will be $4,283,508,449.71.\n"
     ]
    }
   ],
   "source": [
    "# warm-up\n",
    "\n",
    "principal = 0.93\n",
    "apr = 2.25 / 100\n",
    "t = 1000\n",
    "\n",
    "balance = principal * (1+apr)**t\n",
    "\n",
    "print(f'With ${principal} in the bank and {apr:.2%} interest compounded annually over {t} years...')\n",
    "print(f'... his balance will be ${balance:,.2f}.')"
   ]
  },
  {
   "cell_type": "markdown",
   "id": "41eff3f3",
   "metadata": {},
   "source": [
    "**(Challenge)**\n",
    "\n",
    "Suppose a mile is **1.609 km**, and the speed of light is **299,792,458 m/s** in a vacuum. The average distance between the Earth and the Sun is called an astronomical unit, or AU, which is about **92,955,807 miles**. How many **`astronomical units`** are there in a **`light-year`**?\n",
    "\n",
    "<!-- Share your solution below! Remember to use\n",
    "\n",
    "> ```python\n",
    "> # your code here\n",
    "> ```\n",
    "\n",
    "to format your code nicely 👌\n",
    "\n",
    "--- -->"
   ]
  },
  {
   "cell_type": "code",
   "execution_count": 2,
   "id": "b0b3070d",
   "metadata": {},
   "outputs": [
    {
     "name": "stdout",
     "output_type": "stream",
     "text": [
      "AU per light-year: 63254.598047256135\n"
     ]
    }
   ],
   "source": [
    "# challenge\n",
    "\n",
    "c_mps = 299_792_458    # m/s\n",
    "mi_per_au = 92_955_807 # miles\n",
    "km_per_mi = 1.609      # km / mile\n",
    "\n",
    "c_kmps = c_mps / 1000             # km/s\n",
    "km_per_au = mi_per_au * km_per_mi # km\n",
    "\n",
    "# seconds in year: 365.25 days/year x 24 hr/day x 60 m/hr x 60 s/m\n",
    "spy = 365.25 * 24 * 60 * 60 # s/year\n",
    "\n",
    "lyr_km = c_kmps * spy # lyr in km\n",
    "\n",
    "lyr_per_au = lyr_km / km_per_au # result\n",
    "\n",
    "print('AU per light-year:', lyr_per_au)"
   ]
  },
  {
   "cell_type": "code",
   "execution_count": null,
   "id": "23111903",
   "metadata": {},
   "outputs": [],
   "source": []
  },
  {
   "cell_type": "markdown",
   "id": "54bf90a4",
   "metadata": {},
   "source": [
    "# Challenge 2\n",
    "999,999,997... 999,999,998... 999,999,999... ⌛"
   ]
  },
  {
   "cell_type": "markdown",
   "id": "84bb1ed5",
   "metadata": {},
   "source": [
    "**(Warm-up)**\n",
    "\n",
    "What is **`1000`** seconds in minutes and seconds? Print it in the format **`mm:ss`**.\n",
    "\n",
    "---"
   ]
  },
  {
   "cell_type": "code",
   "execution_count": 3,
   "id": "6304c3ca",
   "metadata": {},
   "outputs": [
    {
     "name": "stdout",
     "output_type": "stream",
     "text": [
      "1000 seconds is equal to 16 m 40 s\n"
     ]
    }
   ],
   "source": [
    "# warm-up\n",
    "\n",
    "t = 1000\n",
    "print(t, \"seconds is equal to\", t//60, \"m\", t%60, \"s\")"
   ]
  },
  {
   "cell_type": "markdown",
   "id": "347b3ed0",
   "metadata": {},
   "source": [
    "**(Challenge)**\n",
    "\n",
    "One million seconds is equal to __11 days, 13 hours, 46 minutes and 40 seconds__ (according to quora).\n",
    "\n",
    "Print **`one billion seconds`** in years, days, hours, minutes, and seconds.\n",
    "\n",
    "<!-- Share your solution below! Remember to use\n",
    "\n",
    "```python\n",
    "# your code here\n",
    "```\n",
    "\n",
    "\n",
    "to format your code nicely 👌\n",
    "\n",
    "--- -->"
   ]
  },
  {
   "cell_type": "code",
   "execution_count": 4,
   "id": "401412fd",
   "metadata": {},
   "outputs": [
    {
     "name": "stdout",
     "output_type": "stream",
     "text": [
      "31 years 259 days 1 hours 46 minutes 40 seconds\n"
     ]
    }
   ],
   "source": [
    "# challenge\n",
    "\n",
    "t = int(1e9)\n",
    "\n",
    "# modulo bases: amount of each unit before overflow\n",
    "m_s = 60   # seconds\n",
    "m_mi = 60  # minutes\n",
    "m_hr = 24  # hours\n",
    "m_dy = 365 # days\n",
    "\n",
    "# bases: seconds in each unit denom\n",
    "b_mi = 60 \n",
    "b_hr = b_mi * m_mi # 60 * 60\n",
    "b_dy = b_hr * m_hr # 60 * 60 * 24\n",
    "b_yr = b_dy * m_dy # 60 * 60 * 24 * 30 * 12\n",
    "\n",
    "s = t % m_s\n",
    "mi = (t // b_mi) % m_mi\n",
    "hr = (t // b_hr) % m_hr\n",
    "dy = (t // b_dy) % m_dy\n",
    "yr = t // b_yr\n",
    "\n",
    "print(yr, \"years\", dy, \"days\", hr, \"hours\", mi, \"minutes\" , s, \"seconds\")"
   ]
  },
  {
   "cell_type": "code",
   "execution_count": 5,
   "id": "3779fac8",
   "metadata": {},
   "outputs": [
    {
     "name": "stdout",
     "output_type": "stream",
     "text": [
      "31 years 1 month 24 day 1 h 46 m 40 s\n"
     ]
    }
   ],
   "source": [
    "# bad version\n",
    "\n",
    "t = int(1e9)\n",
    "\n",
    "# denoms\n",
    "dmi = 60 # minute\n",
    "dh = 60 * dmi # hour\n",
    "dd = 24 * dh # day\n",
    "dmo = 30 * dd # month\n",
    "dy = 365 * dd # year\n",
    "\n",
    "# integers\n",
    "y = t // dy\n",
    "mo = (t // dmo) % 12\n",
    "d = (t // dd) % 30\n",
    "h = (t // dh) % 24\n",
    "mi = (t // dmi) % 60\n",
    "s = t % 60\n",
    "\n",
    "print(y, \"years\", mo, \"month\", d, \"day\", h, \"h\", mi, \"m\" , s, \"s\")"
   ]
  },
  {
   "cell_type": "code",
   "execution_count": 6,
   "id": "3e588224",
   "metadata": {},
   "outputs": [
    {
     "name": "stdout",
     "output_type": "stream",
     "text": [
      "31 years 8 months 7 days 1 hours 46 minutes 40 seconds\n"
     ]
    }
   ],
   "source": [
    "# fixed issue with months\n",
    "\n",
    "t = int(1e9)\n",
    "\n",
    "# modulo bases: amount of each unit before overflow\n",
    "m_s = 60           # seconds\n",
    "m_mi = 60          # minutes\n",
    "m_hr = 24          # hours\n",
    "m_dy = 365.25 / 12 # days in an average year\n",
    "m_mo = 12          # months\n",
    "\n",
    "# bases: seconds in each unit denom\n",
    "b_mi = 60 \n",
    "b_hr = b_mi * m_mi # s/hr : 60 * 60\n",
    "b_dy = b_hr * m_hr # s/dy : 60 * 60 * 24\n",
    "b_mo = b_dy * m_dy # s/mo : 60 * 60 * 24 * 365.25/12\n",
    "b_yr = b_mo * m_mo # s/yr : 60 * 60 * 24 * 365.25/12 * 12\n",
    "\n",
    "s = t % m_s\n",
    "mi = int((t // b_mi) % m_mi)\n",
    "hr = int((t // b_hr) % m_hr)\n",
    "dy = int((t // b_dy) % m_dy)\n",
    "mo = int((t // b_mo) % m_mo)\n",
    "yr = int(t // b_yr)\n",
    "\n",
    "print(yr, \"years\", mo, \"months\", dy, \"days\", hr, \"hours\", mi, \"minutes\" , s, \"seconds\")"
   ]
  },
  {
   "cell_type": "code",
   "execution_count": 7,
   "id": "56d34fa9",
   "metadata": {},
   "outputs": [
    {
     "name": "stdout",
     "output_type": "stream",
     "text": [
      " 3 centuries 16 years 10 months 16 days 17 hours 46 minutes 40 seconds\n"
     ]
    }
   ],
   "source": [
    "# robust to arbritrary time units\n",
    "t = 1e10\n",
    "\n",
    "# moduli and units (singular and plural)\n",
    "mods = [(60, 'second', 'seconds'),\n",
    "        (60, 'minute', 'minutes'),\n",
    "        (24, 'hour', 'hours'),\n",
    "        (365.25/12, 'day', 'days'),\n",
    "        (12, 'month', 'months'),\n",
    "        (100, 'year', 'years'),\n",
    "        (10, 'century', 'centuries'),\n",
    "        (1_000_000, 'millenium', 'millenia'),\n",
    "        (None, 'eon', 'eons')\n",
    "       ]\n",
    "\n",
    "# result and first base\n",
    "msg, bases = '', [1]\n",
    "\n",
    "for mod, sunit, punit in mods:\n",
    "    \n",
    "    # get last integer division base\n",
    "    base = bases[-1]\n",
    "    \n",
    "    # modulus exists\n",
    "    if mod:\n",
    "        n = int((t // base) % mod)\n",
    "        bases.append(mod * bases[-1])\n",
    "    # no modulus\n",
    "    else:\n",
    "        n = int(t // base) # do not modulate\n",
    "    \n",
    "    # plural unit\n",
    "    if n > 1:\n",
    "        msg = f' {n} {punit}' + msg # use plural unit\n",
    "    # singular unit\n",
    "    elif n == 1:\n",
    "        msg = f' {n} {sunit}' + msg # use singular unit\n",
    "    \n",
    "print(msg)"
   ]
  },
  {
   "cell_type": "markdown",
   "id": "13d5afd1",
   "metadata": {},
   "source": [
    "Let **`a = (x // y) % z`** and **`b = (x \\% z) // y`** for integers `x, y, z`. When does **`a == b`**?"
   ]
  },
  {
   "cell_type": "code",
   "execution_count": 8,
   "id": "b4d5975b",
   "metadata": {
    "scrolled": true
   },
   "outputs": [
    {
     "name": "stdout",
     "output_type": "stream",
     "text": [
      "a == b: 661650 of 1000000 (66.17%)\n",
      "a != b: 338350 of 1000000 (33.84%)\n"
     ]
    }
   ],
   "source": [
    "s, n = 3000, 3100 # start, end\n",
    "eq, neq = 0, 0 # count of equals, not equal\n",
    "\n",
    "for x in range(s, n):\n",
    "    for y in range(s, n):\n",
    "        for z in range(s, n):\n",
    "            \n",
    "            a = (x // y) % z\n",
    "            b = (x % z) // y\n",
    "            \n",
    "            if a == b:\n",
    "                eq+=1\n",
    "            else:\n",
    "                neq+=1\n",
    "                \n",
    "#             print('x, y, z =', (x, y, z),\n",
    "#               '\\ta = (x // y) % z =', a,\n",
    "#               '\\tb = (x % z) // y =', b,\n",
    "#               '\\ta == b?', a == b\n",
    "#                  )\n",
    "\n",
    "total = eq + neq\n",
    "print(f'a == b: {eq} of {total} ({100 * eq/total:.2f}%)')\n",
    "print(f'a != b: {neq} of {total} ({100 * neq/total:.2f}%)')"
   ]
  },
  {
   "cell_type": "markdown",
   "id": "a84590bf",
   "metadata": {},
   "source": [
    "# Challenge 3\n",
    "To 1 or not to 1? 💀"
   ]
  },
  {
   "cell_type": "markdown",
   "id": "7fda058f",
   "metadata": {},
   "source": [
    "**(Warm-up)**\n",
    "\n",
    "Given a string that tells 24-hr time*, convert it to a string that tells 12-hr time.\n",
    "```python\n",
    "# for example, if\n",
    "t_24h = \"23:45\"\n",
    "\n",
    "# then your result should be\n",
    "t_12h = # \"11:45\"\n",
    "\n",
    "print (t_12h)\n",
    "```\n",
    "*Assume the hour is zero-padded, e.g. \"01:00\" instead of \"1:00\".\n",
    "\n",
    "---"
   ]
  },
  {
   "cell_type": "code",
   "execution_count": 9,
   "id": "8ded483a",
   "metadata": {},
   "outputs": [
    {
     "name": "stdout",
     "output_type": "stream",
     "text": [
      "11:45\n"
     ]
    }
   ],
   "source": [
    "# warm-up\n",
    "\n",
    "t_24h = \"23:45\"\n",
    "\n",
    "hh_24 = int(t_24h[:2])\n",
    "hh_12 = hh_24 % 12\n",
    "\n",
    "t_12h = str(hh_12) + t_24h[2:]\n",
    "\n",
    "print(t_12h)"
   ]
  },
  {
   "cell_type": "markdown",
   "id": "c3bd272e",
   "metadata": {},
   "source": [
    "**(Challenge)**\n",
    "\n",
    "In base-10 or the decimal system, the number **10** is can be expressed as\n",
    "> **10** = **1** (10) + **0** (1).\n",
    "\n",
    "Similarly, in __binary__ or base-2 system, the decimal number **10** is written as\n",
    "> __**1010**__ = **1** (8) + **0** (4) + **1** (2) + **0** (1).\n",
    "\n",
    "Print the **`binary`** representation of the decimal number **`100`**.\n",
    "\n",
    "<!-- Share your solution below! Remember to use \n",
    "\n",
    "> \\```python\n",
    "> # your code here\n",
    "> \\```\n",
    "\n",
    "to format your code nicely :ok_hand:\n",
    "\n",
    "--- -->"
   ]
  },
  {
   "cell_type": "code",
   "execution_count": 10,
   "id": "69b3d5d6",
   "metadata": {},
   "outputs": [
    {
     "name": "stdout",
     "output_type": "stream",
     "text": [
      "1010\n"
     ]
    }
   ],
   "source": [
    "# challenge\n",
    "\n",
    "# base-10 number\n",
    "n = 10\n",
    "\n",
    "# base\n",
    "base = 2\n",
    "\n",
    "d0 = (n // base**0) % base # 1st digit (in base-b)\n",
    "d1 = (n // base**1) % base # 2nd digit\n",
    "d2 = (n // base**2) % base # 3rd digit\n",
    "d3 = (n // base**3) % base # 4th digit\n",
    "\n",
    "# new base number\n",
    "nb = f'{d3}{d2}{d1}{d0}'\n",
    "\n",
    "print(nb)"
   ]
  },
  {
   "cell_type": "code",
   "execution_count": 11,
   "id": "be46f21a",
   "metadata": {},
   "outputs": [],
   "source": [
    "# robust to arbitrary n and base\n",
    "\n",
    "n = 100\n",
    "base = 2\n",
    "\n",
    "# initiate total and exponent\n",
    "total, power = 0, 0\n",
    "\n",
    "# initiate result string\n",
    "res = ''\n",
    "\n",
    "while total < n:\n",
    "        \n",
    "    # place value of digit\n",
    "    place_value = base**power\n",
    "    \n",
    "    # update exponent for next digit\n",
    "    power += 1\n",
    "    \n",
    "    # digit\n",
    "    digit = (n // place_value) % base\n",
    "    \n",
    "    # add total of digits so far in base-10\n",
    "    total += digit * place_value\n",
    "    \n",
    "    # add string result to left\n",
    "    res = str(digit) + res"
   ]
  },
  {
   "cell_type": "code",
   "execution_count": 12,
   "id": "8dee5657",
   "metadata": {},
   "outputs": [
    {
     "name": "stdout",
     "output_type": "stream",
     "text": [
      "1100100\n"
     ]
    }
   ],
   "source": [
    "print(res)"
   ]
  },
  {
   "cell_type": "markdown",
   "id": "b0ff7246",
   "metadata": {},
   "source": [
    "# Challenge 4"
   ]
  },
  {
   "cell_type": "markdown",
   "id": "ff430032",
   "metadata": {},
   "source": [
    "From [Wikipedia](https://en.wikipedia.org/wiki/Drake_equation):\n",
    "\n",
    "The Drake equation is:\n",
    "\n",
    "$$ N = R_{*} \\cdot f_p \\cdot n_e \\cdot f_l \\cdot f_i \\cdot f_c \\cdot L$$\n",
    "\n",
    "where:\n",
    "\n",
    "* $N$ = the number of civilizations in our galaxy with which communication might be possible (i.e. which are on our current past light cone);\n",
    "\n",
    "and\n",
    "\n",
    "* $R_*$ = the average rate of star formation in our Galaxy (1.5–3 stars per year)\n",
    "* $f_p$ = the fraction of those stars that have planets (around 1.0)\n",
    "* $n_e$ = the average number of planets that can potentially support life per star that has planets ()\n",
    "* $f_l$ = the fraction of planets that could support life that actually develop life at some point\n",
    "* $f_i$ = the fraction of planets with life that actually go on to develop intelligent life (civilizations)\n",
    "* $f_c$ = the fraction of civilizations that develop a technology that releases detectable signs of their existence into space\n",
    "* $L$ = the length of time for which such civilizations release detectable signals into space"
   ]
  },
  {
   "cell_type": "code",
   "execution_count": null,
   "id": "ad424a0a",
   "metadata": {},
   "outputs": [],
   "source": []
  },
  {
   "cell_type": "markdown",
   "id": "98eb0bac",
   "metadata": {},
   "source": [
    "# Challenge n\n",
    "Patriotic youth that have one nation ❔"
   ]
  },
  {
   "cell_type": "markdown",
   "id": "dbbdc72a",
   "metadata": {},
   "source": [
    "**(Warm-Up)**\n",
    "\n",
    "<!-- \\subsubsection*{(Warm-Up)} -->\n",
    "\n",
    "Consider the equation:\n",
    "\\begin{align}\n",
    "f(x) = \\sqrt{1 - x^2}.\n",
    "\\end{align}\n",
    "\n",
    "Compute the following summation:\n",
    "\\begin{align}\n",
    "\\sigma = \\sum_{n=1}^{N}  f\\left({n \\over N}\\right) {1 \\over N}\n",
    "\\end{align}\n",
    "\n",
    "for $N = 1000$. What is $4\\sigma?$ What if $N = 100,000?$ What's going on here?\n"
   ]
  },
  {
   "cell_type": "code",
   "execution_count": 13,
   "id": "646f8baf",
   "metadata": {},
   "outputs": [
    {
     "name": "stdout",
     "output_type": "stream",
     "text": [
      "3.1416126164019564\n"
     ]
    }
   ],
   "source": [
    "# warm-up\n",
    "\n",
    "# define n\n",
    "N = 100_000\n",
    "\n",
    "# define function\n",
    "f = lambda x: (1-x**2)**(1/2)\n",
    "dx = 1/N\n",
    "\n",
    "# approximate integral\n",
    "sigma = sum(f(n * dx) * dx for n in range(N))\n",
    "\n",
    "# approximate pi\n",
    "pi = 4*sigma\n",
    "\n",
    "print(pi)"
   ]
  },
  {
   "cell_type": "markdown",
   "id": "208abbbf",
   "metadata": {},
   "source": [
    "**(Challenge)**\n",
    "\n",
    "An acrostic poem is one where certain letters in each line forms a secret message. \"A Valentine\" by Edgar Allen Poe has a secret message formed by the 1st letter of the 1st line, the 2nd letter of the 2nd line, ..., n-th letter of n-th line.\n",
    "\n",
    "Can you figure out who this poem is about?\n"
   ]
  },
  {
   "cell_type": "code",
   "execution_count": 14,
   "id": "b9f35823",
   "metadata": {},
   "outputs": [],
   "source": [
    "# \"A Valentine\", a hidden acrostic by Edgar Allen Poe\n",
    "# message key is the nth letter of the nth line\n",
    "poem = \"\"\"\n",
    "For her this rhyme is penned, whose luminous eyes,\n",
    "Brightly expressive as the twins of Loeda,\n",
    "Shall find her own sweet name, that, nestling lies\n",
    "Upon the page, enwrapped from every reader.\n",
    "Search narrowly the lines!--they hold a treasure\n",
    "Divine--a talisman--an amulet\n",
    "That must be worn at heart. Search well the measure--\n",
    "The words--the syllables! Do not forget\n",
    "The trivialest point, or you may lose your labor!\n",
    "And yet there is in this no Gordian knot\n",
    "Which one might not undo without a sabre,\n",
    "If one could merely comprehend the plot.\n",
    "Enwritten upon the leaf where now are peering\n",
    "Eyes scintillating soul, there lie perdus\n",
    "Three eloquent words oft uttered in the hearing\n",
    "Of poets, by poets--as the name is a poet’s, too.\n",
    "Its letters, although naturally lying\n",
    "Like the knight Pinto--Mendez Ferdinando--\n",
    "Still form a synonym for Truth--Cease trying!\n",
    "You will not read the riddle, though you do the best you can do.\n",
    "\"\"\""
   ]
  },
  {
   "cell_type": "code",
   "execution_count": 15,
   "id": "e26d9a52",
   "metadata": {},
   "outputs": [
    {
     "name": "stdout",
     "output_type": "stream",
     "text": [
      "Francessargentosgood\n"
     ]
    }
   ],
   "source": [
    "# challenge\n",
    "\n",
    "# split lines\n",
    "lines = poem.split('\\n')\n",
    "\n",
    "# remove empty beginning and ending lines\n",
    "lines = lines[1:-1]\n",
    "\n",
    "# initiate message\n",
    "msg = ''\n",
    "\n",
    "# for n-th line\n",
    "for n, line in enumerate(lines):\n",
    "    \n",
    "    # filter alphabetical characters\n",
    "    chars = [s for s in line if s.isalpha()]\n",
    "    \n",
    "    # add n-th character to message\n",
    "    msg += chars[n]\n",
    "    \n",
    "print(msg)"
   ]
  },
  {
   "cell_type": "code",
   "execution_count": null,
   "id": "dfa75090",
   "metadata": {},
   "outputs": [],
   "source": []
  }
 ],
 "metadata": {
  "kernelspec": {
   "display_name": "Python 3",
   "language": "python",
   "name": "python3"
  },
  "language_info": {
   "codemirror_mode": {
    "name": "ipython",
    "version": 3
   },
   "file_extension": ".py",
   "mimetype": "text/x-python",
   "name": "python",
   "nbconvert_exporter": "python",
   "pygments_lexer": "ipython3",
   "version": "3.8.5"
  }
 },
 "nbformat": 4,
 "nbformat_minor": 5
}
