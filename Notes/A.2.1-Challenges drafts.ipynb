{
 "cells": [
  {
   "cell_type": "markdown",
   "id": "38291dc2",
   "metadata": {},
   "source": [
    "**[Challenge 0:](#Challenge-0)**\n",
    "    To infinity and beyond 🚀\n",
    "\n",
    "**[Challenge 1:](#Challenge-1)**\n",
    "    999,999,997... 999,999,998... 999,999,999... ⌛\n",
    "\n",
    "**[Challenge 2:](#Challenge-2)**\n",
    "    To 1 or not to 1? 💀\n",
    "\n",
    "**[Challenge 3:](#Challenge-3)**\n",
    "    Piece(wise) by piece(wise) 🧩\n",
    "\n",
    "**[Challenge 4:](#Challenge-4)**\n",
    "    Reading dictionaries 📕\n",
    "    \n",
    "---"
   ]
  },
  {
   "cell_type": "markdown",
   "id": "c8282d1a",
   "metadata": {},
   "source": [
    "[**Bookmark**](#Bookmark)\n",
    "\n",
    "---"
   ]
  },
  {
   "cell_type": "markdown",
   "id": "850e37c9",
   "metadata": {},
   "source": [
    "**[Challenge 5:](#Challenge-5)**\n",
    "    Inner peace 🧘‍♀️\n",
    "\n",
    "**[Challenge 6:](#Challenge-6)**\n",
    "    Autobots, roll out! 🤖\n",
    "    \n",
    "**[Challenge 7:](#Challenge-7)**\n",
    "    A dream within a dream 🦉💭\n",
    "\n",
    "**[Challenge 8:](#Challenge-8)**\n",
    "    Approximations 🎯\n",
    "    \n",
    "**[Challenge 9:](#Challenge-9)**\n",
    "    Graphs and differences 📈\n",
    "    \n",
    "**[Challenge 10:](#Challenge-10)**\n",
    "    Pascal's triangle 🔺\n",
    "    \n",
    "**[Challenge 11:](#Challenge-11)**\n",
    "    Look-and-say 👀\n",
    "\n",
    "**[Challenge 12:](#Challenge-12)**\n",
    "    Pick a card, any card 🃏\n",
    "    \n",
    "**[Challenge 13:](#Challenge-13)**\n",
    "    Tic-tac-toe ❌⭕"
   ]
  },
  {
   "cell_type": "code",
   "execution_count": null,
   "id": "5eddd854",
   "metadata": {},
   "outputs": [],
   "source": []
  },
  {
   "cell_type": "markdown",
   "id": "aefd4b7c",
   "metadata": {},
   "source": [
    "\n",
    "# Challenge 0\n",
    "\n",
    "To infinity and beyond 🚀\n",
    "\n",
    "\n",
    "**(Warm-Up)**\n",
    "\n",
    "A pizza delivery boy accidentally falls into a cryogenic chamber on New Years Eve, 1999, and is reanimated in the year 3000. \n",
    "\n",
    "At the time of his freezing, he had $0.93 in his bank account. Assuming an average 2.25\\% interest rate compounded annually, how much money will he have in the bank when he wakes up?\n",
    "\n",
    "Double check: https://www.youtube.com/watch?v=6JwkaLt9pf8\n",
    "\n",
    "---\n",
    "\n",
    "**(Challenge)**\n",
    "\n",
    "Suppose a mile is **1.609 km**, and the speed of light is **299,792,458 m/s** in a vacuum. The average distance between the Earth and the Sun is called an astronomical unit, or AU, which is about **92,955,807 miles**. How many **`astronomical units`** are there in a **`light-year`**?\n",
    "\n",
    "---\n",
    "\n",
    "Share your solution below! Remember to use\n",
    "\n",
    "> ```python\n",
    "> # your code here\n",
    "> ```\n",
    "\n",
    "to format your code nicely 👌\n"
   ]
  },
  {
   "cell_type": "code",
   "execution_count": 1,
   "id": "0ccd9121",
   "metadata": {},
   "outputs": [
    {
     "name": "stdout",
     "output_type": "stream",
     "text": [
      "With $0.93 in the bank and 2.25% interest compounded annually over 1000 years...\n",
      "... his balance will be $4,283,508,449.71.\n"
     ]
    }
   ],
   "source": [
    "# warm-up\n",
    "\n",
    "principal = 0.93\n",
    "apr = 2.25 / 100\n",
    "t = 1000\n",
    "\n",
    "balance = principal * (1+apr)**t\n",
    "\n",
    "print(f'With ${principal} in the bank and {apr:.2%} interest compounded annually over {t} years...')\n",
    "print(f'... his balance will be ${balance:,.2f}.')"
   ]
  },
  {
   "cell_type": "code",
   "execution_count": 2,
   "id": "aca07397",
   "metadata": {},
   "outputs": [
    {
     "name": "stdout",
     "output_type": "stream",
     "text": [
      "AU per light-year: 63254.598047256135\n"
     ]
    }
   ],
   "source": [
    "# challenge\n",
    "\n",
    "c_mps = 299_792_458    # m/s\n",
    "mi_per_au = 92_955_807 # miles\n",
    "km_per_mi = 1.609      # km / mile\n",
    "\n",
    "c_kmps = c_mps / 1000             # km/s\n",
    "km_per_au = mi_per_au * km_per_mi # km\n",
    "\n",
    "# seconds in year: 365.25 days/year x 24 hr/day x 60 m/hr x 60 s/m\n",
    "spy = 365.25 * 24 * 60 * 60 # s/year\n",
    "\n",
    "lyr_km = c_kmps * spy # lyr in km\n",
    "\n",
    "lyr_per_au = lyr_km / km_per_au # result\n",
    "\n",
    "print('AU per light-year:', lyr_per_au)"
   ]
  },
  {
   "cell_type": "markdown",
   "id": "4c9ecebc",
   "metadata": {},
   "source": [
    "# Challenge 1\n",
    "999,999,997... 999,999,998... 999,999,999... ⌛\n",
    "\n",
    "**(Warm-up)**\n",
    "\n",
    "What is **`1000`** seconds in minutes and seconds? Print it in the format **`mm:ss`**.\n",
    "\n",
    "---\n",
    "\n",
    "**(Challenge)**\n",
    "\n",
    "One million seconds is equal to __11 days, 13 hours, 46 minutes and 40 seconds__ (according to quora).\n",
    "\n",
    "Print **`one billion seconds`** in years, days, hours, minutes, and seconds.\n",
    "\n",
    "---\n",
    "\n",
    "Share your solution below! Remember to use\n",
    "\n",
    "> ```python\n",
    "> # your code here\n",
    "> ```\n",
    "\n",
    "to format your code nicely 👌\n"
   ]
  },
  {
   "cell_type": "code",
   "execution_count": 3,
   "id": "dcc6db6b",
   "metadata": {},
   "outputs": [
    {
     "name": "stdout",
     "output_type": "stream",
     "text": [
      "1000 seconds is equal to 16 m 40 s\n"
     ]
    }
   ],
   "source": [
    "# warm-up\n",
    "\n",
    "t = 1000\n",
    "print(t, \"seconds is equal to\", t//60, \"m\", t%60, \"s\")"
   ]
  },
  {
   "cell_type": "code",
   "execution_count": 4,
   "id": "8524616e",
   "metadata": {},
   "outputs": [
    {
     "name": "stdout",
     "output_type": "stream",
     "text": [
      "31 years 8 months 7 days 1 hours 46 minutes 40.0 seconds\n"
     ]
    }
   ],
   "source": [
    "# challenge\n",
    "\n",
    "t = 1e9\n",
    "\n",
    "# modulo bases: amount of each unit before overflow\n",
    "m_s = 60           # seconds\n",
    "m_mi = 60          # minutes\n",
    "m_hr = 24          # hours\n",
    "m_dy = 365.25 / 12 # days in an average year\n",
    "m_mo = 12          # months\n",
    "\n",
    "# bases: seconds in each unit denom\n",
    "b_mi = 60 \n",
    "b_hr = b_mi * m_mi # s/hr : 60 * 60\n",
    "b_dy = b_hr * m_hr # s/dy : 60 * 60 * 24\n",
    "b_mo = b_dy * m_dy # s/mo : 60 * 60 * 24 * 365.25/12\n",
    "b_yr = b_mo * m_mo # s/yr : 60 * 60 * 24 * 365.25/12 * 12\n",
    "\n",
    "s = t % m_s\n",
    "mi = int((t // b_mi) % m_mi)\n",
    "hr = int((t // b_hr) % m_hr)\n",
    "dy = int((t // b_dy) % m_dy)\n",
    "mo = int((t // b_mo) % m_mo)\n",
    "yr = int(t // b_yr)\n",
    "\n",
    "print(yr, \"years\", mo, \"months\", dy, \"days\", hr, \"hours\", mi, \"minutes\" , s, \"seconds\")"
   ]
  },
  {
   "cell_type": "code",
   "execution_count": 5,
   "id": "5c4fc2ed",
   "metadata": {},
   "outputs": [
    {
     "name": "stdout",
     "output_type": "stream",
     "text": [
      " 31 years 8 months 7 days 1 hour 46 minutes 40 seconds\n"
     ]
    }
   ],
   "source": [
    "# solution robust to arbritrary time units and unit plurality\n",
    "t = 1e9\n",
    "\n",
    "# units [mod base, unit name singular, unit name plural]\n",
    "mods = [[60, 'second', 'seconds'],\n",
    "        [60, 'minute', 'minutes'],\n",
    "        [24, 'hour', 'hours'],\n",
    "        [365.25/12, 'day', 'days'],\n",
    "        [12, 'month', 'months'],\n",
    "        [100, 'year', 'years'],\n",
    "        [10, 'century', 'centuries'],\n",
    "        [1_000_000, 'millenium', 'millenia'],\n",
    "        [None, 'eon', 'eons'] # none for unmodulated\n",
    "       ]\n",
    "\n",
    "\n",
    "# result and first base\n",
    "msg, base = '', 1\n",
    "\n",
    "# ensure last round (t % base) == t\n",
    "mods[-1][0] = t + 1\n",
    "\n",
    "for mod, sing_unit, plur_unit in mods:\n",
    "    \n",
    "    # calculate unit value (integer seconds per base modulated)\n",
    "    val = int((t // base) % mod)\n",
    "\n",
    "    # update base value\n",
    "    base *= mod\n",
    "\n",
    "    # time unit singular/plural with boolean multiplcation\n",
    "    unit = sing_unit * (val <= 1) + plur_unit * (val > 1)\n",
    "    \n",
    "    # add to result string if unit value >= 1\n",
    "    msg = (val >= 1) * f' {val} {unit}' + msg # use plural unit\n",
    "    \n",
    "print(msg)"
   ]
  },
  {
   "cell_type": "markdown",
   "id": "b752dfb1",
   "metadata": {},
   "source": [
    "# Challenge 2\n",
    "To 1 or not to 1? 💀\n",
    "\n",
    "**(Warm-up)**\n",
    "\n",
    "Given a string that tells 24-hr time*, convert it to a string that tells 12-hr time.\n",
    "```python\n",
    "# for example, if\n",
    "t_24h = \"23:45\"\n",
    "\n",
    "# then your result should be\n",
    "t_12h = # \"11:45\"\n",
    "\n",
    "print (t_12h)\n",
    "```\n",
    "*Assume the hour is zero-padded, e.g. \"01:00\" instead of \"1:00\".\n",
    "\n",
    "---\n",
    "\n",
    "**(Challenge)**\n",
    "\n",
    "In base-10 or the decimal system, the number **10** is can be expressed as\n",
    "> **10** = **1** (10) + **0** (1).\n",
    "\n",
    "Similarly, in __binary__ or base-2 system, the decimal number **10** is written as\n",
    "> __**1010**__ = **1** (8) + **0** (4) + **1** (2) + **0** (1).\n",
    "\n",
    "Print the **`binary`** representation of the decimal number **`20`**.\n",
    "\n",
    "---\n",
    "\n",
    "Share your solution below! Remember to use\n",
    "\n",
    "> ```python\n",
    "> # your code here\n",
    "> ```\n",
    "\n",
    "to format your code nicely 👌\n"
   ]
  },
  {
   "cell_type": "markdown",
   "id": "88a2d677",
   "metadata": {},
   "source": [
    "## Warm-up"
   ]
  },
  {
   "cell_type": "code",
   "execution_count": 17,
   "id": "4eacfc83",
   "metadata": {},
   "outputs": [
    {
     "name": "stdout",
     "output_type": "stream",
     "text": [
      "12:00am\n"
     ]
    }
   ],
   "source": [
    "t_24h = '12:00'\n",
    "\n",
    "hours_old = int(t_24h[0:2])\n",
    "\n",
    "artisan_bool = (hours_old-1)//12\n",
    "\n",
    "inverse_artisan_bool = 1 + (-1)*artisan_bool\n",
    "\n",
    "hours_new = str(inverse_artisan_bool*hours_old + artisan_bool*(hours_old-12))\n",
    "\n",
    "am_pm = str(\"am\"*inverse_artisan_bool + \"pm\"*artisan_bool)\n",
    "    \n",
    "minutes_new = str(t_24h[3:5])\n",
    "\n",
    "t_12h = hours_new + \":\" + minutes_new + am_pm\n",
    "\n",
    "print(t_12h)"
   ]
  },
  {
   "cell_type": "code",
   "execution_count": 14,
   "id": "bc2b210f",
   "metadata": {},
   "outputs": [
    {
     "name": "stdout",
     "output_type": "stream",
     "text": [
      "12:45 pm\n"
     ]
    }
   ],
   "source": [
    "# warm-up\n",
    "t_24h = \"12:45\"\n",
    "\n",
    "# get string index of \":\"\n",
    "colon_index = t_24h.find(':')\n",
    "\n",
    "# slice hour and set to integer\n",
    "h_24 = int(t_24h[:colon_index])\n",
    "\n",
    "# modulate over 12\n",
    "h_12 = h_24 % 12\n",
    "\n",
    "# make h_12 equal 12 if 0\n",
    "h_12 = h_12 + 12 * (h_12==0)\n",
    "\n",
    "# add 12hr hour to minutes\n",
    "t_12h = str(h_12) + t_24h[colon_index:]\n",
    "\n",
    "# check if over 12: can also use boolean operator here\n",
    "over_12 = h_24 // 12\n",
    "\n",
    "# add pm / am if over 12\n",
    "t_12h += ' pm' * over_12 + ' am' * (1 - over_12)\n",
    "\n",
    "print(t_12h)"
   ]
  },
  {
   "cell_type": "markdown",
   "id": "2545f564",
   "metadata": {},
   "source": [
    "## Challenge"
   ]
  },
  {
   "cell_type": "code",
   "execution_count": 7,
   "id": "e85829c5",
   "metadata": {},
   "outputs": [
    {
     "name": "stdout",
     "output_type": "stream",
     "text": [
      "20 in base-2 is 10100\n"
     ]
    }
   ],
   "source": [
    "# challenge\n",
    "\n",
    "# base-10 number\n",
    "n = 20\n",
    "\n",
    "# base\n",
    "base = 2\n",
    "\n",
    "p0 = (n // base**0) % base # base**0 place\n",
    "p1 = (n // base**1) % base # base**1 place\n",
    "p2 = (n // base**2) % base # base**2 place\n",
    "p3 = (n // base**3) % base # base**3 place\n",
    "p4 = (n // base**4) % base # base**4 place\n",
    "\n",
    "# new base number\n",
    "nb = f'{p4}{p3}{p2}{p1}{p0}'\n",
    "\n",
    "print(f'{n} in base-{base} is {nb}')"
   ]
  },
  {
   "cell_type": "code",
   "execution_count": 8,
   "id": "161dbf49",
   "metadata": {},
   "outputs": [
    {
     "name": "stdout",
     "output_type": "stream",
     "text": [
      "100 in base-2 is 1100100\n"
     ]
    }
   ],
   "source": [
    "# robust to arbitrary n and base\n",
    "\n",
    "n = 100\n",
    "base = 2\n",
    "\n",
    "# initiate total and exponent\n",
    "total, power = 0, 0\n",
    "\n",
    "# initiate result string\n",
    "res = ''\n",
    "\n",
    "while total < n:\n",
    "        \n",
    "    # place value of digit\n",
    "    place_value = base**power\n",
    "    \n",
    "    # update exponent for next digit\n",
    "    power += 1\n",
    "    \n",
    "    # digit\n",
    "    digit = (n // place_value) % base\n",
    "    \n",
    "    # add total of digits so far in base-10\n",
    "    total += digit * place_value\n",
    "    \n",
    "    # add string result to left\n",
    "    res = str(digit) + res\n",
    "    \n",
    "print(f'{n} in base-{base} is {res}')"
   ]
  },
  {
   "cell_type": "code",
   "execution_count": null,
   "id": "f8b32c06",
   "metadata": {},
   "outputs": [],
   "source": []
  },
  {
   "cell_type": "markdown",
   "id": "70d75f33",
   "metadata": {},
   "source": [
    "# Challenge 3\n",
    "Piece(wise) by piece(wise) 🧩\n",
    "\n",
    "**(Warm-up)**\n",
    "\n",
    "For any two numbers, calculate their **minimum, maximum, and absolute values**.\n",
    "\n",
    "For example:\n",
    "```python\n",
    "# example numbers\n",
    "x, y = -2, 1\n",
    "\n",
    "# result values\n",
    "minv == -2\n",
    "maxv == 1\n",
    "absx, absy == 2, 1\n",
    "```\n",
    "Try this both **with** and **without** the built-in python functions.\n",
    "\n",
    "---\n",
    "\n",
    "**(Challenge)**\n",
    "\n",
    "Given two integers, check if one is a **factor** of the other (regardless of their order).\n",
    "\n",
    "If one number is a factor of the other, print the **factor** and **cofactor** of the **product**. Otherwise, indicate that neither are factors of each other.\n",
    "\n",
    "For example, the results can be presented like so:\n",
    "```python\n",
    "m, n = 5, 10\n",
    "result == \"5 and 2 are factors of 10.\"\n",
    "\n",
    "m, n = 6, 2\n",
    "result == \"2 and 3 are factors of 6.\"\n",
    "\n",
    "m, n = 2, 7\n",
    "result == \"2 and 7 are not factors of each other\"\n",
    "```\n",
    "Are there special cases to watch out for? For an extra challenge, try to use as few **if statements** as possible.\n",
    "\n",
    "---\n",
    "\n",
    "Share your solution below! Remember to use\n",
    "\n",
    "> ```python\n",
    "> # your code here\n",
    "> ```\n",
    "\n",
    "to format your code nicely 👌\n"
   ]
  },
  {
   "cell_type": "markdown",
   "id": "2defe7dc",
   "metadata": {},
   "source": []
  },
  {
   "cell_type": "markdown",
   "id": "b18f309c",
   "metadata": {},
   "source": [
    "## Warm-up"
   ]
  },
  {
   "cell_type": "code",
   "execution_count": 9,
   "id": "2dd30a96",
   "metadata": {},
   "outputs": [
    {
     "name": "stdout",
     "output_type": "stream",
     "text": [
      "Built-in results:\n",
      "(x, y): \t (-2, 1)\n",
      "min(x, y): \t -2\n",
      "max(x, y): \t 1\n",
      "abs(x, y): \t (2, 1)\n",
      "-----\n",
      "From scratch results:\n",
      "(x, y): \t (-2, 1)\n",
      "min(x, y): \t -2\n",
      "max(x, y): \t 1\n",
      "abs(x, y): \t (2, 1)\n"
     ]
    }
   ],
   "source": [
    "x, y = -2, 1\n",
    "\n",
    "# with built-in functions\n",
    "\n",
    "minv = min(x, y)\n",
    "maxv = max(x, y)\n",
    "absx, absy = abs(x), abs(y)\n",
    "\n",
    "print('Built-in results:')\n",
    "print(f'(x, y): \\t {x, y}')\n",
    "print(f'min(x, y): \\t {minv}')\n",
    "print(f'max(x, y): \\t {maxv}')\n",
    "print(f'abs(x, y): \\t {absx, absy}')\n",
    "\n",
    "print('-'*5)\n",
    "\n",
    "\n",
    "# without built-in functions\n",
    "\n",
    "# max/min\n",
    "if x < y:\n",
    "    minv = x\n",
    "    maxv = y\n",
    "else:\n",
    "    minv = y\n",
    "    maxv = x\n",
    "    \n",
    "# absolute vals\n",
    "absx = x\n",
    "if x < 0 :\n",
    "    absx = -x\n",
    "    \n",
    "absy = y\n",
    "if y < 0:\n",
    "    absy = -y\n",
    "    \n",
    "print('From scratch results:')\n",
    "print(f'(x, y): \\t {x, y}')\n",
    "print(f'min(x, y): \\t {minv}')\n",
    "print(f'max(x, y): \\t {maxv}')\n",
    "print(f'abs(x, y): \\t {absx, absy}')"
   ]
  },
  {
   "cell_type": "code",
   "execution_count": 10,
   "id": "2b87ca05",
   "metadata": {},
   "outputs": [
    {
     "name": "stdout",
     "output_type": "stream",
     "text": [
      "Lambda function results:\n",
      "(x, y): \t (-2, 1)\n",
      "min(x, y): \t -2\n",
      "max(x, y): \t 1\n",
      "abs(x, y): \t (2, 1)\n"
     ]
    }
   ],
   "source": [
    "# using lambda functions and conditional expressions\n",
    "get_minv = lambda x, y: x if x < y else y\n",
    "get_maxv = lambda x, y: x if x > y else y\n",
    "get_absv = lambda x: x if x > 0 else -x\n",
    "\n",
    "# test functions\n",
    "x, y = -2, 1\n",
    "\n",
    "print('Lambda function results:')\n",
    "print(f'(x, y): \\t {x, y}')\n",
    "print(f'min(x, y): \\t {get_minv(x, y)}')\n",
    "print(f'max(x, y): \\t {get_maxv(x, y)}')\n",
    "print(f'abs(x, y): \\t {get_absv(x), get_absv(y)}')"
   ]
  },
  {
   "cell_type": "code",
   "execution_count": 11,
   "id": "5b0b775f",
   "metadata": {},
   "outputs": [],
   "source": [
    "# even more generalized for multiple arguments\n",
    "get_minv = lambda *args: sorted(args)[0]\n",
    "get_maxv = lambda *args: sorted(args)[-1]"
   ]
  },
  {
   "cell_type": "code",
   "execution_count": 12,
   "id": "86ae1e91",
   "metadata": {},
   "outputs": [
    {
     "data": {
      "text/plain": [
       "-3"
      ]
     },
     "execution_count": 12,
     "metadata": {},
     "output_type": "execute_result"
    }
   ],
   "source": [
    "get_minv(-1, 2, -3)"
   ]
  },
  {
   "cell_type": "code",
   "execution_count": 13,
   "id": "e92463d4",
   "metadata": {},
   "outputs": [
    {
     "data": {
      "text/plain": [
       "2"
      ]
     },
     "execution_count": 13,
     "metadata": {},
     "output_type": "execute_result"
    }
   ],
   "source": [
    "get_maxv(-1, 2, -3)"
   ]
  },
  {
   "cell_type": "markdown",
   "id": "5097616f",
   "metadata": {},
   "source": [
    "## Challenge"
   ]
  },
  {
   "cell_type": "code",
   "execution_count": 14,
   "id": "4242fbb5",
   "metadata": {},
   "outputs": [
    {
     "name": "stdout",
     "output_type": "stream",
     "text": [
      "2 and 7 are not factors of each other.\n"
     ]
    }
   ],
   "source": [
    "# with conditional statements (if statements)\n",
    "m, n = 2, 7\n",
    "\n",
    "# check if either numbers are zero\n",
    "if 0 in (m, n):\n",
    "    print(f\"{m} and {n} are not factors of each other.\")\n",
    "    \n",
    "# check if factors\n",
    "elif m % n == 0:\n",
    "\n",
    "    # check which is bigger\n",
    "    if m < n:\n",
    "        print(f\"{m} and {n/m:.0f} are factors of {n}.\")\n",
    "    \n",
    "    else:\n",
    "        print(f\"{n} and {m/n:.0f} are factors of {m}.\")\n",
    "        \n",
    "else:\n",
    "    print(f\"{m} and {n} are not factors of each other.\")"
   ]
  },
  {
   "cell_type": "code",
   "execution_count": 15,
   "id": "19f9caeb",
   "metadata": {},
   "outputs": [
    {
     "name": "stdout",
     "output_type": "stream",
     "text": [
      "0 and 7 are not factors of each other.\n"
     ]
    }
   ],
   "source": [
    "# with minimal conditional statements\n",
    "m, n = 7, 0\n",
    "\n",
    "# rearrange to make m <= n\n",
    "m, n = sorted((m, n))\n",
    "\n",
    "# message if m, n are not factors\n",
    "msg_n = f\"{m} and {n} are not factors of each other.\"\n",
    "    \n",
    "# check if either numbers are zero\n",
    "if 0 in (m, n):\n",
    "    print(msg_n)\n",
    "\n",
    "else:\n",
    "    \n",
    "    # check if m is factor of n\n",
    "    is_factor = m % n == 0\n",
    "    \n",
    "    # message if n, m are factors\n",
    "    msg_y = f\"{m} and {n / m:.0f} are factors of {n}.\"\n",
    "    \n",
    "    # message without if statement\n",
    "    msg = is_factor * msg_y + (not is_factor) * msg_n\n",
    "\n",
    "    print(msg)"
   ]
  },
  {
   "cell_type": "code",
   "execution_count": null,
   "id": "d659e256",
   "metadata": {},
   "outputs": [],
   "source": []
  },
  {
   "cell_type": "markdown",
   "id": "9a68a660",
   "metadata": {},
   "source": [
    "# Challenge 4\n",
    "\n",
    "**(Warm-up)**\n",
    "\n",
    "The following is a **truth table** showing the possible **truth-value** combinations of boolean variables `p` and `q` and certain operations:\n",
    "```\n",
    "|  p     |  q     |  p and q | p or q | not ((not p) or (not q)) | not ((not p) and (not q)) |\n",
    "----------------------------------------------------------------------------------------------\n",
    "|  True  |  True  |  True    |  True  |           ???            |            ???            |\n",
    "|  True  |  False |  False   |  False |           ???            |            ???            |\n",
    "|  False |  True  |  False   |  False |           ???            |            ???            |\n",
    "|  False |  False |  False   |  False |           ???            |            ???            |\n",
    "```\n",
    "\n",
    "Recreate the truth table with the missing values filled in.\n",
    "\n",
    "What's interesting about the columns?\n",
    "\n",
    "---\n",
    "\n",
    "**(Challenge)**\n",
    "\n",
    "The following is a `query response` from https://dictionaryapi.dev/, an English dictionary **API**:\n",
    "```python\n",
    "api_resp = [{\"word\" : \"python\",\n",
    "             \"phonetic\" : \"ˈpʌɪθ(ə)n\",\n",
    "             \"phonetics\" : [{\"text\" : \"ˈpʌɪθ(ə)n\",\n",
    "                             \"audio\" : \"//ssl.gstatic.com/dictionary/static/sounds/20200429/python--_gb_1.mp3\"}],\n",
    "             \"origin\" : \"late 16th century (in the Greek sense) :  via Latin from Greek Puthōn, the name of a huge serpent killed by Apollo. The main current sense dates from the mid 19th century.\",\n",
    "             \"meanings\" : [{\"partOfSpeech\" : \"noun\",\n",
    "                            \"definitions\" : [{\"definition\" : \"a large heavy-bodied non-venomous snake occurring throughout the Old World tropics, killing prey by constriction and asphyxiation.\",\n",
    "                                              \"synonyms\" : [],\n",
    "                                              \"antonyms\" : []},\n",
    "                                             {\"definition\" : \"a high-level general-purpose programming language.\",\n",
    "                                              \"synonyms\" : [],\n",
    "                                              \"antonyms\" : []}]\n",
    "                           }]\n",
    "            }]\n",
    "```\n",
    "What are the **parts of speech** and **definitions** of \"python\" according to this English dictionary? Print the results from the above data structure.\n",
    "\n",
    "For an extra challenge, write a program that prints all word definitions of such query results. Check your code against query entries for \"coding\": https://api.dictionaryapi.dev/api/v2/entries/en/coding.\n",
    "\n",
    "---\n",
    "\n",
    "\n",
    "Share your solution below! Remember to use\n",
    "\n",
    "> ```python\n",
    "> # your code here\n",
    "> ```\n",
    "\n",
    "to format your code nicely 👌\n"
   ]
  },
  {
   "cell_type": "markdown",
   "id": "debdbfff",
   "metadata": {},
   "source": [
    "## Warm-up"
   ]
  },
  {
   "cell_type": "code",
   "execution_count": 16,
   "id": "60a3d28b",
   "metadata": {},
   "outputs": [
    {
     "name": "stdout",
     "output_type": "stream",
     "text": [
      "| p \t| q \t| p and q \t| p or q \t| not (not p or not q) \t| not (not p and not q) |\n",
      "------------------------------------------------------------------------------------------------\n",
      "| True\t| True\t| True\t\t| True\t\t| True\t\t\t| True\t\t\t|\n",
      "| True\t| False\t| False\t\t| True\t\t| False\t\t\t| True\t\t\t|\n",
      "| False\t| True\t| False\t\t| True\t\t| False\t\t\t| True\t\t\t|\n",
      "| False\t| False\t| False\t\t| False\t\t| False\t\t\t| False\t\t\t|\n"
     ]
    }
   ],
   "source": [
    "# warm-up\n",
    "\n",
    "header = '| p \\t| q \\t| p and q \\t| p or q \\t| not (not p or not q) \\t| not (not p and not q) |'\n",
    "\n",
    "print(header)\n",
    "\n",
    "hline = \"-\" * 96\n",
    "\n",
    "print(hline)\n",
    "\n",
    "p, q = True, True\n",
    "row = f'| {p}\\t| {q}\\t| {p and q}\\t\\t| {p or q}\\t\\t| {not (not p or not q)}\\t\\t\\t| {not (not p and not q)}\\t\\t\\t|'\n",
    "print(row)\n",
    "\n",
    "p, q = True, False\n",
    "row = f'| {p}\\t| {q}\\t| {p and q}\\t\\t| {p or q}\\t\\t| {not (not p or not q)}\\t\\t\\t| {not (not p and not q)}\\t\\t\\t|'\n",
    "print(row)\n",
    "\n",
    "p, q = False, True\n",
    "row = f'| {p}\\t| {q}\\t| {p and q}\\t\\t| {p or q}\\t\\t| {not (not p or not q)}\\t\\t\\t| {not (not p and not q)}\\t\\t\\t|'\n",
    "print(row)\n",
    "\n",
    "p, q = False, False\n",
    "row = f'| {p}\\t| {q}\\t| {p and q}\\t\\t| {p or q}\\t\\t| {not (not p or not q)}\\t\\t\\t| {not (not p and not q)}\\t\\t\\t|'\n",
    "print(row)"
   ]
  },
  {
   "cell_type": "code",
   "execution_count": 17,
   "id": "84b5f888",
   "metadata": {},
   "outputs": [
    {
     "name": "stdout",
     "output_type": "stream",
     "text": [
      "| p \t| q \t| p and q \t| p or q \t| not (not p or not q) \t| not (not p and not q) |\n",
      "------------------------------------------------------------------------------------------------\n",
      "| True\t| True\t| True\t\t| True\t\t| True\t\t\t| True\t\t\t|\n",
      "| True\t| False\t| False\t\t| True\t\t| False\t\t\t| True\t\t\t|\n",
      "| False\t| True\t| False\t\t| True\t\t| False\t\t\t| True\t\t\t|\n",
      "| False\t| False\t| False\t\t| False\t\t| False\t\t\t| False\t\t\t|\n"
     ]
    }
   ],
   "source": [
    "# with loop\n",
    "\n",
    "header = '| p \\t| q \\t| p and q \\t| p or q \\t| not (not p or not q) \\t| not (not p and not q) |'\n",
    "\n",
    "print(header)\n",
    "\n",
    "hline = \"-\" * 96\n",
    "print(hline)\n",
    "\n",
    "tvals = (True, False)\n",
    "\n",
    "for p in tvals:\n",
    "\n",
    "    for q in tvals:\n",
    "        \n",
    "        # create row\n",
    "        row = f'| {p}\\t| {q}\\t| {p and q}\\t\\t| {p or q}\\t\\t| ' + \\\n",
    "        f'{not (not p or not q)}\\t\\t\\t| {not (not p and not q)}\\t\\t\\t|'\n",
    "        \n",
    "        print(row)"
   ]
  },
  {
   "cell_type": "markdown",
   "id": "1e1844da",
   "metadata": {},
   "source": [
    "## Challenge"
   ]
  },
  {
   "cell_type": "code",
   "execution_count": 18,
   "id": "8301896f",
   "metadata": {},
   "outputs": [],
   "source": [
    "# set-up\n",
    "\n",
    "api_resp = [{\"word\" : \"python\",\n",
    "             \"phonetic\" : \"ˈpʌɪθ(ə)n\",\n",
    "             \"phonetics\" : [{\"text\" : \"ˈpʌɪθ(ə)n\",\n",
    "                             \"audio\" : \"//ssl.gstatic.com/dictionary/static/sounds/20200429/python--_gb_1.mp3\"}],\n",
    "             \"origin\" : \"late 16th century (in the Greek sense) :  via Latin from Greek Puthōn, the name of a huge serpent killed by Apollo. The main current sense dates from the mid 19th century.\",\n",
    "             \"meanings\" : [{\"partOfSpeech\" : \"noun\",\n",
    "                            \"definitions\" : [{\"definition\" : \"a large heavy-bodied non-venomous snake occurring throughout the Old World tropics, killing prey by constriction and asphyxiation.\",\n",
    "                                              \"synonyms\" : [],\n",
    "                                              \"antonyms\" : []},\n",
    "                                             {\"definition\" : \"a high-level general-purpose programming language.\",\n",
    "                                              \"synonyms\" : [],\n",
    "                                              \"antonyms\" : []}]\n",
    "                           }]\n",
    "            }]"
   ]
  },
  {
   "cell_type": "code",
   "execution_count": 19,
   "id": "54c83a0f",
   "metadata": {},
   "outputs": [
    {
     "name": "stdout",
     "output_type": "stream",
     "text": [
      "1. Python (noun): a large heavy-bodied non-venomous snake occurring throughout the Old World tropics, killing prey by constriction and asphyxiation.\n",
      "\n",
      "2. Python (noun): a high-level general-purpose programming language.\n",
      "\n"
     ]
    }
   ],
   "source": [
    "# challenge\n",
    "\n",
    "meaning = api_resp[0][\"meanings\"][0]\n",
    "\n",
    "partofspeech = meaning[\"partOfSpeech\"]\n",
    "definitions = meaning[\"definitions\"]\n",
    "\n",
    "def1 = definitions[0]['definition']\n",
    "def2 = definitions[1]['definition']\n",
    "\n",
    "print(f\"1. Python ({partofspeech}): {def1}\\n\")\n",
    "print(f\"2. Python ({partofspeech}): {def2}\\n\")"
   ]
  },
  {
   "cell_type": "code",
   "execution_count": 20,
   "id": "39a930b5",
   "metadata": {},
   "outputs": [],
   "source": [
    "# entries for \"coding\" in dictionary\n",
    "# https://api.dictionaryapi.dev/api/v2/entries/en/coding\n",
    "entries = [{\"word\":\"coding\",\"phonetic\":\"ˈkəʊdɪŋ\",\"phonetics\":[{\"text\":\"ˈkəʊdɪŋ\",\"audio\":\"//ssl.gstatic.com/dictionary/static/sounds/20200429/coding--_gb_1.mp3\"}],\"meanings\":[{\"partOfSpeech\":\"noun\",\"definitions\":[{\"definition\":\"the process of assigning a code to something for classification or identification.\",\"example\":\"the forms are checked and returned to the census officer for coding\",\"synonyms\":[],\"antonyms\":[]},{\"definition\":\"the process or activity of writing computer programs.\",\"synonyms\":[],\"antonyms\":[]},{\"definition\":\"the process or fact of being the genetic code or determiner for an amino acid, protein, or characteristic.\",\"synonyms\":[],\"antonyms\":[]}]},{\"partOfSpeech\":\"adjective\",\"definitions\":[{\"definition\":\"functioning as the genetic code or determiner for an amino acid, protein, or characteristic.\",\"example\":\"a coding region in human DNA\",\"synonyms\":[],\"antonyms\":[]}]}]}, {\"word\":\"code\",\"phonetic\":\"kəʊd\",\"phonetics\":[{\"text\":\"kəʊd\",\"audio\":\"//ssl.gstatic.com/dictionary/static/sounds/20200429/code--_gb_1.mp3\"}],\"origin\":\"Middle English: via Old French from Latin codex, codic- (see codex). The term originally denoted a systematic collection of statutes made by Justinian or another of the later Roman emperors; compare with code (sense 3 of the noun) (mid 18th century), the earliest modern sense.\",\"meanings\":[{\"partOfSpeech\":\"verb\",\"definitions\":[{\"definition\":\"convert (the words of a message) into a code so as to convey a secret meaning.\",\"example\":\"only Mitch knew how to read the message—even the name was coded\",\"synonyms\":[],\"antonyms\":[]},{\"definition\":\"write code for (a computer program).\",\"example\":\"most developers code C + + like C\",\"synonyms\":[],\"antonyms\":[]},{\"definition\":\"be the genetic code for (an amino acid or protein).\",\"example\":\"genes that code for human growth hormone\",\"synonyms\":[],\"antonyms\":[]}]}]}]"
   ]
  },
  {
   "cell_type": "code",
   "execution_count": 21,
   "id": "3891003b",
   "metadata": {},
   "outputs": [
    {
     "name": "stdout",
     "output_type": "stream",
     "text": [
      "1. Coding (noun): the process of assigning a code to something for classification or identification.\n",
      "\n",
      "2. Coding (noun): the process or activity of writing computer programs.\n",
      "\n",
      "3. Coding (noun): the process or fact of being the genetic code or determiner for an amino acid, protein, or characteristic.\n",
      "\n",
      "4. Coding (adjective): functioning as the genetic code or determiner for an amino acid, protein, or characteristic.\n",
      "\n",
      "5. Code (verb): convert (the words of a message) into a code so as to convey a secret meaning.\n",
      "\n",
      "6. Code (verb): write code for (a computer program).\n",
      "\n",
      "7. Code (verb): be the genetic code for (an amino acid or protein).\n",
      "\n"
     ]
    }
   ],
   "source": [
    "# more general solution\n",
    "\n",
    "n = 1\n",
    "\n",
    "# get every entry\n",
    "for entry in entries:\n",
    "    \n",
    "    word = entry['word']\n",
    "    \n",
    "    # get every meaning in entry\n",
    "    for meaning in entry[\"meanings\"]:\n",
    "        \n",
    "        partofspeech = meaning['partOfSpeech']\n",
    "        definitions = meaning[\"definitions\"]\n",
    "\n",
    "        # get every definition\n",
    "        for d in definitions:\n",
    "            print(f\"{n}. {word.title()} ({partofspeech}): {d['definition']}\\n\")\n",
    "            n+=1"
   ]
  },
  {
   "cell_type": "code",
   "execution_count": null,
   "id": "6ee563ff",
   "metadata": {},
   "outputs": [],
   "source": []
  },
  {
   "cell_type": "markdown",
   "id": "4dd12735",
   "metadata": {},
   "source": [
    "# Challenge 5\n",
    "Inner peace 🧘‍♀️\n",
    "\n",
    "**(Warm-up)**\n",
    "\n",
    "What is the **100th** number in the Fibonacci sequence?\n",
    "\n",
    "What is the ratio of the **100th** Fibonacci number divided by the **99th**?\n",
    "\n",
    "\n",
    "---\n",
    "\n",
    "**(Challenge)**\n",
    "\n",
    "Find the most frequent `character` and `word` in the **Zen of Python:**\n",
    "\n",
    "```python\n",
    "text = \"\"\"The Zen of Python, by Tim Peters\n",
    "\n",
    "Beautiful is better than ugly.\n",
    "Explicit is better than implicit.\n",
    "Simple is better than complex.\n",
    "Complex is better than complicated.\n",
    "Flat is better than nested.\n",
    "Sparse is better than dense.\n",
    "Readability counts.\n",
    "Special cases aren't special enough to break the rules.\n",
    "Although practicality beats purity.\n",
    "Errors should never pass silently.\n",
    "Unless explicitly silenced.\n",
    "In the face of ambiguity, refuse the temptation to guess.\n",
    "There should be one-- and preferably only one --obvious way to do it.\n",
    "Although that way may not be obvious at first unless you're Dutch.\n",
    "Now is better than never.\n",
    "Although never is often better than *right* now.\n",
    "If the implementation is hard to explain, it's a bad idea.\n",
    "If the implementation is easy to explain, it may be a good idea.\n",
    "Namespaces are one honking great idea -- let's do more of those!\"\"\"\n",
    "```\n",
    "\n",
    "---\n",
    "\n",
    "Share your solution below! Remember to use\n",
    "\n",
    "> ```python\n",
    "> # your code here\n",
    "> ```\n",
    "\n",
    "to format your code nicely 👌\n"
   ]
  },
  {
   "cell_type": "code",
   "execution_count": 64,
   "id": "612502de",
   "metadata": {},
   "outputs": [
    {
     "name": "stdout",
     "output_type": "stream",
     "text": [
      "100th Fibonacci: 354224848179261915075\n",
      "Golden ratio: 1.618033988749895\n"
     ]
    }
   ],
   "source": [
    "# warm-up\n",
    "fib = [1, 1]\n",
    "while len(fib) < 100:\n",
    "    fib.append(fib[-1] + fib[-2])\n",
    "\n",
    "fib_ratio = []\n",
    "for m, n in zip(fib[:-1], fib[1:]):\n",
    "    fib_ratio.append(n / m)\n",
    "    \n",
    "print(\"100th Fibonacci:\", fib[99])\n",
    "print(\"Golden ratio:\", fib[99]/fib[98])"
   ]
  },
  {
   "cell_type": "code",
   "execution_count": 24,
   "id": "c10d87cd",
   "metadata": {},
   "outputs": [
    {
     "data": {
      "text/plain": [
       "[(' ', 124),\n",
       " ('e', 90),\n",
       " ('t', 76),\n",
       " ('i', 50),\n",
       " ('a', 50),\n",
       " ('o', 43),\n",
       " ('s', 43),\n",
       " ('n', 40),\n",
       " ('l', 33),\n",
       " ('r', 32),\n",
       " ('h', 31),\n",
       " ('p', 20),\n",
       " ('u', 20),\n",
       " ('b', 20),\n",
       " ('\\n', 20),\n",
       " ('.', 18),\n",
       " ('y', 17),\n",
       " ('m', 16),\n",
       " ('c', 16),\n",
       " ('d', 16),\n",
       " ('f', 11),\n",
       " ('g', 11),\n",
       " ('-', 6),\n",
       " ('x', 6),\n",
       " ('v', 5),\n",
       " ('w', 4),\n",
       " (',', 4),\n",
       " (\"'\", 4),\n",
       " ('k', 2),\n",
       " ('*', 2),\n",
       " ('!', 1),\n",
       " ('z', 0)]"
      ]
     },
     "execution_count": 24,
     "metadata": {},
     "output_type": "execute_result"
    }
   ],
   "source": [
    "# challenge\n",
    "text = \"\"\"The Zen of Python, by Tim Peters\n",
    "\n",
    "Beautiful is better than ugly.\n",
    "Explicit is better than implicit.\n",
    "Simple is better than complex.\n",
    "Complex is better than complicated.\n",
    "Flat is better than nested.\n",
    "Sparse is better than dense.\n",
    "Readability counts.\n",
    "Special cases aren't special enough to break the rules.\n",
    "Although practicality beats purity.\n",
    "Errors should never pass silently.\n",
    "Unless explicitly silenced.\n",
    "In the face of ambiguity, refuse the temptation to guess.\n",
    "There should be one-- and preferably only one --obvious way to do it.\n",
    "Although that way may not be obvious at first unless you're Dutch.\n",
    "Now is better than never.\n",
    "Although never is often better than *right* now.\n",
    "If the implementation is hard to explain, it's a bad idea.\n",
    "If the implementation is easy to explain, it may be a good idea.\n",
    "Namespaces are one honking great idea -- let's do more of those!\"\"\"\n",
    "\n",
    "# most frequent characters\n",
    "char_count = [(c, text.count(c)) for c in set(text.lower())]\n",
    "sorted(char_count, key=lambda x: x[1], reverse=True)"
   ]
  },
  {
   "cell_type": "code",
   "execution_count": 25,
   "id": "aa508a0f",
   "metadata": {},
   "outputs": [
    {
     "data": {
      "text/plain": [
       "[('a', 53),\n",
       " ('be', 13),\n",
       " ('is', 10),\n",
       " ('it', 10),\n",
       " ('at', 9),\n",
       " ('than', 8),\n",
       " ('better', 8),\n",
       " ('the', 7),\n",
       " ('to', 5),\n",
       " ('of', 4),\n",
       " ('in', 4),\n",
       " ('never', 3),\n",
       " ('if', 3),\n",
       " ('one', 3),\n",
       " ('idea', 3),\n",
       " ('although', 3),\n",
       " ('explicit', 2),\n",
       " ('explain', 2),\n",
       " ('may', 2),\n",
       " ('should', 2),\n",
       " ('unless', 2),\n",
       " ('are', 2),\n",
       " ('now', 2),\n",
       " ('implementation', 2),\n",
       " ('obvious', 2),\n",
       " ('do', 2),\n",
       " ('special', 2),\n",
       " ('way', 2),\n",
       " ('complex', 2),\n",
       " ('namespaces', 1),\n",
       " ('rules', 1),\n",
       " ('beats', 1),\n",
       " ('flat', 1),\n",
       " ('ambiguity', 1),\n",
       " ('not', 1),\n",
       " ('there', 1),\n",
       " ('complicated', 1),\n",
       " ('ugly', 1),\n",
       " ('errors', 1),\n",
       " ('temptation', 1),\n",
       " ('hard', 1),\n",
       " ('its', 1),\n",
       " ('silently', 1),\n",
       " ('honking', 1),\n",
       " ('pass', 1),\n",
       " ('first', 1),\n",
       " ('more', 1),\n",
       " ('purity', 1),\n",
       " ('zen', 1),\n",
       " ('guess', 1),\n",
       " ('often', 1),\n",
       " ('readability', 1),\n",
       " ('implicit', 1),\n",
       " ('that', 1),\n",
       " ('dutch', 1),\n",
       " ('explicitly', 1),\n",
       " ('beautiful', 1),\n",
       " ('arent', 1),\n",
       " ('tim', 1),\n",
       " ('peters', 1),\n",
       " ('face', 1),\n",
       " ('those', 1),\n",
       " ('and', 1),\n",
       " ('great', 1),\n",
       " ('practicality', 1),\n",
       " ('easy', 1),\n",
       " ('good', 1),\n",
       " ('break', 1),\n",
       " ('refuse', 1),\n",
       " ('dense', 1),\n",
       " ('right', 1),\n",
       " ('youre', 1),\n",
       " ('lets', 1),\n",
       " ('python', 1),\n",
       " ('silenced', 1),\n",
       " ('preferably', 1),\n",
       " ('nested', 1),\n",
       " ('counts', 1),\n",
       " ('by', 1),\n",
       " ('enough', 1),\n",
       " ('sparse', 1),\n",
       " ('cases', 1),\n",
       " ('bad', 1),\n",
       " ('simple', 1),\n",
       " ('only', 1)]"
      ]
     },
     "execution_count": 25,
     "metadata": {},
     "output_type": "execute_result"
    }
   ],
   "source": [
    "# most frequent words\n",
    "text = text.replace('\\n', ' ').lower()\n",
    "\n",
    "# remove punctuation\n",
    "text = ''.join(c for c in text if (c.isalnum() or c == ' '))\n",
    "words = text.split()\n",
    "\n",
    "word_count = [(w, text.count(w)) for w in set(words)]\n",
    "sorted(word_count, key=lambda x: x[1], reverse=True)"
   ]
  },
  {
   "cell_type": "code",
   "execution_count": null,
   "id": "ebf938b0",
   "metadata": {},
   "outputs": [],
   "source": []
  },
  {
   "cell_type": "markdown",
   "id": "53247fcc",
   "metadata": {},
   "source": [
    "---\n",
    "# Bookmark\n",
    "---"
   ]
  },
  {
   "cell_type": "markdown",
   "id": "597c0b0b",
   "metadata": {},
   "source": [
    "# Challenge 6\n",
    "\n",
    "Autobots, roll out! 🤖\n",
    "\n",
    "**(Warm-Up)**\n",
    "\n",
    "<!-- \\subsubsection*{(Warm-Up)} -->\n",
    "\n",
    "Consider the equation:\n",
    "\\begin{align}\n",
    "f(x) = \\sqrt{1 - x^2}.\n",
    "\\end{align}\n",
    "\n",
    "Compute the following summation:\n",
    "\\begin{align}\n",
    "\\sigma = \\sum_{n=1}^{N}  f\\left({n \\over N}\\right) {1 \\over N}\n",
    "\\end{align}\n",
    "\n",
    "for $N = 1000$. What is $4\\sigma?$ What is $4\\sigma$ if $N = 100,000?$\n",
    "\n",
    "What's being computed here? Is there a way to achieve the goal more \"effectively?\"\n",
    "\n",
    "---\n",
    "\n",
    "**(Challenge)**\n",
    "\n",
    "A **prime number** is defined as a natural number greater than 1 whose only divisor is 1 and itself. Create a set or list of all primes less than or equal to any positive integer **`n`**.\n",
    "\n",
    "How many primes are there **between 100 and 1,000**? How many **between 100,000 and 1,000,000**?\n",
    "\n",
    "---\n",
    "\n",
    "\n",
    "Share your solution below! Remember to use\n",
    "\n",
    "> ```python\n",
    "> # your code here\n",
    "> ```\n",
    "\n",
    "to format your code nicely 👌\n"
   ]
  },
  {
   "cell_type": "markdown",
   "id": "70f10d49",
   "metadata": {},
   "source": [
    "## Warm-up"
   ]
  },
  {
   "cell_type": "code",
   "execution_count": 25,
   "id": "a0e55c09",
   "metadata": {},
   "outputs": [
    {
     "name": "stdout",
     "output_type": "stream",
     "text": [
      "3.1416126164019564\n"
     ]
    }
   ],
   "source": [
    "# warm-up\n",
    "\n",
    "# define n\n",
    "N = 100_000\n",
    "\n",
    "# define function\n",
    "f = lambda x: (1-x**2)**(1/2)\n",
    "dx = 1/N\n",
    "\n",
    "# approximate integral\n",
    "sigma = sum(f(n * dx) * dx for n in range(N))\n",
    "\n",
    "# approximate pi\n",
    "pi = 4*sigma\n",
    "\n",
    "print(pi)"
   ]
  },
  {
   "cell_type": "markdown",
   "id": "3dceaff5",
   "metadata": {},
   "source": [
    "## Challenge"
   ]
  },
  {
   "cell_type": "code",
   "execution_count": 26,
   "id": "9f743c8a",
   "metadata": {
    "scrolled": true
   },
   "outputs": [
    {
     "name": "stdout",
     "output_type": "stream",
     "text": [
      "[2, 3, 5, 7, 11, 13, 17, 19, 23, 29, 31, 37, 41, 43, 47, 53, 59, 61, 67, 71, 73, 79, 83, 89, 97, 101, 103, 107, 109, 113, 127, 131, 137, 139, 149, 151, 157, 163, 167, 173, 179, 181, 191, 193, 197, 199, 211, 223, 227, 229, 233, 239, 241, 251, 257, 263, 269, 271, 277, 281, 283, 293, 307, 311, 313, 317, 331, 337, 347, 349, 353, 359, 367, 373, 379, 383, 389, 397, 401, 409, 419, 421, 431, 433, 439, 443, 449, 457, 461, 463, 467, 479, 487, 491, 499, 503, 509, 521, 523, 541, 547, 557, 563, 569, 571, 577, 587, 593, 599, 601, 607, 613, 617, 619, 631, 641, 643, 647, 653, 659, 661, 673, 677, 683, 691, 701, 709, 719, 727, 733, 739, 743, 751, 757, 761, 769, 773, 787, 797, 809, 811, 821, 823, 827, 829, 839, 853, 857, 859, 863, 877, 881, 883, 887, 907, 911, 919, 929, 937, 941, 947, 953, 967, 971, 977, 983, 991, 997]\n",
      "\n",
      "Primes between 100 and 1,000: 143\n",
      "Wall time: 7.7 ms\n"
     ]
    }
   ],
   "source": [
    "%%time\n",
    "# challenge: brute-force method\n",
    "\n",
    "primes = {2}\n",
    "\n",
    "N = 1_000\n",
    "for n in range(2, N+1):\n",
    "    \n",
    "    # if it's not divsible by any prime so far\n",
    "    if not any(n % p == 0 for p in primes):\n",
    "        \n",
    "        # it's a prime\n",
    "        primes.add(n)\n",
    "\n",
    "# convert set to list\n",
    "print(sorted(primes))\n",
    "\n",
    "# primes subset\n",
    "left, right = 100, 1_000\n",
    "\n",
    "primes_subset = [p for p in primes if left <= p <= right]\n",
    "print(f'\\nPrimes between {left:,} and {right:,}:', len(primes_subset))"
   ]
  },
  {
   "cell_type": "code",
   "execution_count": 27,
   "id": "994d64ef",
   "metadata": {},
   "outputs": [
    {
     "name": "stdout",
     "output_type": "stream",
     "text": [
      "\n",
      "Primes between 100,000 and 1,000,000: 68906\n",
      "Wall time: 1.32 s\n"
     ]
    }
   ],
   "source": [
    "%%time\n",
    "# Sieve of Eratosthenes: uses memory to reduce computation\n",
    "\n",
    "primes, nonprimes = set(), set()\n",
    "\n",
    "N = 1_000_000\n",
    "\n",
    "for n in range(2, N+1):\n",
    "    \n",
    "    # if n is not in the set of non-primes\n",
    "    if n not in nonprimes:\n",
    "        \n",
    "        # it's a prime\n",
    "        primes.add(n)\n",
    "        \n",
    "        # add all multiples to non-primes\n",
    "        for m in range(n*2, N+1, n):\n",
    "            nonprimes.add(m)\n",
    "\n",
    "# primes subset\n",
    "left, right = 100_000, 1_000_000\n",
    "\n",
    "primes_subset = [p for p in primes if left <= p <= right]\n",
    "print(f'\\nPrimes between {left:,} and {right:,}:', len(primes_subset))"
   ]
  },
  {
   "cell_type": "code",
   "execution_count": 28,
   "id": "ee319d54",
   "metadata": {},
   "outputs": [
    {
     "name": "stdout",
     "output_type": "stream",
     "text": [
      "\n",
      "Primes between 100 and 1,000: 143\n",
      "Wall time: 107 ms\n"
     ]
    }
   ],
   "source": [
    "%%time\n",
    "# \"Lazy\" method for Sieve of Erostophanes\n",
    "# https://www.youtube.com/watch?v=5jwV3zxXc8E\n",
    "\n",
    "def natural(n):\n",
    "    '''\n",
    "    yields natural numbers (recursive)\n",
    "    \n",
    "    parameters\n",
    "    ---\n",
    "    n : int\n",
    "        the first number for the set\n",
    "    '''\n",
    "    yield n\n",
    "    \n",
    "    yield from natural(n+1)\n",
    "    \n",
    "def eros_sieve(s):\n",
    "    '''\n",
    "    yields primes (recursive)\n",
    "    \n",
    "    parameters\n",
    "    ---\n",
    "    s : generator (infinite set) of natural numbers\n",
    "    '''\n",
    "    n = next(s)\n",
    "    yield n\n",
    "    yield from eros_sieve(i for i in s if i%n != 0)\n",
    "    \n",
    "\n",
    "# get result\n",
    "N = 1_000\n",
    "\n",
    "primes = set()\n",
    "s = eros_sieve(natural(2))\n",
    "\n",
    "p = next(s) # generate first prime\n",
    "\n",
    "while p <= N:\n",
    "    primes.add(p)\n",
    "    p = next(s) # generate next prime\n",
    "    \n",
    "    \n",
    "# primes subset\n",
    "left, right = 100, 1_000\n",
    "\n",
    "primes_subset = [p for p in primes if left <= p <= right]\n",
    "print(f'\\nPrimes between {left:,} and {right:,}:', len(primes_subset))"
   ]
  },
  {
   "cell_type": "markdown",
   "id": "260d67c9",
   "metadata": {},
   "source": [
    "# Challenge 7\n",
    "A dream within a dream 🦉💭\n",
    "\n",
    "**(Warm-up)**\n",
    "\n",
    "Python has a in-built function called `sum()` which can take a list or tuple and sum all the values. Create a function called **`prod()`** which takes a list or tuple of numbers and returns their product.\n",
    "\n",
    "\n",
    "---\n",
    "\n",
    "**(Challenge)**\n",
    "\n",
    "An acrostic poem is one where certain letters in each line forms a secret message. \"A Valentine\" by Edgar Allen Poe has a secret message formed by the 1st letter of the 1st line, the 2nd letter of the 2nd line, ..., n-th letter of n-th line.\n",
    "```python\n",
    "# \"A Valentine\" by Edgar Allen Poe\n",
    "poem = \"\"\"\n",
    "For her this rhyme is penned, whose luminous eyes,\n",
    "Brightly expressive as the twins of Loeda,\n",
    "Shall find her own sweet name, that, nestling lies\n",
    "Upon the page, enwrapped from every reader.\n",
    "Search narrowly the lines!--they hold a treasure\n",
    "Divine--a talisman--an amulet\n",
    "That must be worn at heart. Search well the measure--\n",
    "The words--the syllables! Do not forget\n",
    "The trivialest point, or you may lose your labor!\n",
    "And yet there is in this no Gordian knot\n",
    "Which one might not undo without a sabre,\n",
    "If one could merely comprehend the plot.\n",
    "Enwritten upon the leaf where now are peering\n",
    "Eyes scintillating soul, there lie perdus\n",
    "Three eloquent words oft uttered in the hearing\n",
    "Of poets, by poets--as the name is a poet’s, too.\n",
    "Its letters, although naturally lying\n",
    "Like the knight Pinto--Mendez Ferdinando--\n",
    "Still form a synonym for Truth--Cease trying!\n",
    "You will not read the riddle, though you do the best you can do.\n",
    "\"\"\"\n",
    "```\n",
    "Can you figure out who this poem was written for?\n",
    "\n",
    "---\n",
    "\n",
    "\n",
    "Share your solution below! Remember to use\n",
    "\n",
    "> ```python\n",
    "> # your code here\n",
    "> ```\n",
    "\n",
    "to format your code nicely 👌\n"
   ]
  },
  {
   "cell_type": "code",
   "execution_count": 29,
   "id": "ce6f638e",
   "metadata": {},
   "outputs": [
    {
     "name": "stdout",
     "output_type": "stream",
     "text": [
      "1*2*3 = 6\n",
      "1*2*3*4*5*6*7*8*9*10 = 3628800\n"
     ]
    }
   ],
   "source": [
    "# warm-up\n",
    "\n",
    "def prod(iterable):\n",
    "    '''\n",
    "    Return product of elements in the iterable.\n",
    "    '''\n",
    "    # start with 1 (the multiplicative identity)\n",
    "    res = 1\n",
    "    \n",
    "    # iterate through iterable\n",
    "    for x in iterable:\n",
    "        res *= x\n",
    "        \n",
    "    # return product\n",
    "    return res\n",
    "\n",
    "\n",
    "nums = [1, 2, 3]\n",
    "print('*'.join(str(n) for n in nums), '=', prod(nums))\n",
    "\n",
    "nums = [i for i in range(1, 11)]\n",
    "print('*'.join(str(n) for n in nums), '=', prod(nums))"
   ]
  },
  {
   "cell_type": "markdown",
   "id": "8fa33b30",
   "metadata": {},
   "source": [
    "## Challenge"
   ]
  },
  {
   "cell_type": "code",
   "execution_count": 30,
   "id": "2a8cff9b",
   "metadata": {},
   "outputs": [],
   "source": [
    "# \"A Valentine\", a hidden acrostic by Edgar Allen Poe\n",
    "# message key is the nth letter of the nth line\n",
    "poem = \"\"\"\n",
    "For her this rhyme is penned, whose luminous eyes,\n",
    "Brightly expressive as the twins of Loeda,\n",
    "Shall find her own sweet name, that, nestling lies\n",
    "Upon the page, enwrapped from every reader.\n",
    "Search narrowly the lines!--they hold a treasure\n",
    "Divine--a talisman--an amulet\n",
    "That must be worn at heart. Search well the measure--\n",
    "The words--the syllables! Do not forget\n",
    "The trivialest point, or you may lose your labor!\n",
    "And yet there is in this no Gordian knot\n",
    "Which one might not undo without a sabre,\n",
    "If one could merely comprehend the plot.\n",
    "Enwritten upon the leaf where now are peering\n",
    "Eyes scintillating soul, there lie perdus\n",
    "Three eloquent words oft uttered in the hearing\n",
    "Of poets, by poets--as the name is a poet’s, too.\n",
    "Its letters, although naturally lying\n",
    "Like the knight Pinto--Mendez Ferdinando--\n",
    "Still form a synonym for Truth--Cease trying!\n",
    "You will not read the riddle, though you do the best you can do.\n",
    "\"\"\""
   ]
  },
  {
   "cell_type": "code",
   "execution_count": 31,
   "id": "6e0dcbb5",
   "metadata": {},
   "outputs": [
    {
     "name": "stdout",
     "output_type": "stream",
     "text": [
      "Francessargentosgood\n"
     ]
    }
   ],
   "source": [
    "# challenge\n",
    "\n",
    "# split lines\n",
    "lines = poem.split('\\n')\n",
    "\n",
    "# remove empty beginning and ending lines\n",
    "lines = lines[1:-1]\n",
    "\n",
    "# initiate message\n",
    "msg = ''\n",
    "\n",
    "# for n-th line\n",
    "for n, line in enumerate(lines):\n",
    "    \n",
    "    # filter alphabetical characters\n",
    "    chars = [s for s in line if s.isalpha()]\n",
    "    \n",
    "    # add n-th character to message\n",
    "    msg += chars[n]\n",
    "    \n",
    "# https://en.wikipedia.org/wiki/Frances_Sargent_Osgood\n",
    "print(msg)"
   ]
  },
  {
   "cell_type": "code",
   "execution_count": null,
   "id": "a63074e7",
   "metadata": {},
   "outputs": [],
   "source": []
  },
  {
   "cell_type": "markdown",
   "id": "17ef9448",
   "metadata": {},
   "source": [
    "# Challenge 8\n",
    "Approximations 🎯\n",
    "\n",
    "**(Warm-up)**\n",
    "\n",
    "Approximate Euler's number $e$:\n",
    "\\begin{align}\n",
    "    e^x &= \\lim_{m \\to \\infty} \\left(1+\\frac{x}{m} \\right)^m \\\\\n",
    "    &= \\sum_{n=0}^{\\infty}\\frac{x^n}{n!} = 1 + x + {x^2 \\over 2} + {x^3 \\over 2 \\cdot 3} + {x^4 \\over 2 \\cdot 3 \\cdot 4} + ...\n",
    "\\end{align}\n",
    "\n",
    "Compare your results `math.e` or `numpy.e`.\n",
    "\n",
    "---\n",
    "\n",
    "**(Challenge)**\n",
    "\n",
    "Create a function called **`ln(x, d=5)`** that takes an numeric argument **`x`** and default integer argument **`d=5`.** The function should return an approximation of $\\ln(x) = \\log_e(x)$ accurate to `d` decimals.\n",
    "\n",
    "Taylor expansion of $\\ln(x)$ around $a$:\n",
    "$$\\begin{align}\n",
    "    \\ln(x) &= \\ln(a) + \\sum_{n=1}^{\\infty} (-1)^{n-1}\\frac{(x-a)^n}{n!}a^{-n} \\\\\n",
    "    &= \\ln(a) + (x-a)a^{-1} - \\frac{(x-a)^2}{2}a^{-2} + \\frac{(x-a)^3}{2 \\cdot 3}a^{-3} + ...\n",
    "\\end{align}$$\n",
    "\n",
    "---\n",
    "\n",
    "\n",
    "Share your solution below! Remember to use\n",
    "\n",
    "> ```python\n",
    "> # your code here\n",
    "> ```\n",
    "\n",
    "to format your code nicely 👌\n"
   ]
  },
  {
   "cell_type": "markdown",
   "id": "9b8e89bd",
   "metadata": {},
   "source": [
    "## Warm-up"
   ]
  },
  {
   "cell_type": "code",
   "execution_count": 32,
   "id": "87149c9a",
   "metadata": {},
   "outputs": [
    {
     "name": "stdout",
     "output_type": "stream",
     "text": [
      "e ~= 2.7182820532347876\n",
      "Wall time: 0 ns\n"
     ]
    }
   ],
   "source": [
    "%%time\n",
    "# warm-up\n",
    "\n",
    "# simple using limit approximation\n",
    "m = 1e10\n",
    "e = (1 + 1/m)**m\n",
    "print('e ~=', e)"
   ]
  },
  {
   "cell_type": "code",
   "execution_count": 33,
   "id": "f673fd44",
   "metadata": {},
   "outputs": [
    {
     "name": "stdout",
     "output_type": "stream",
     "text": [
      "e ~= 2.7182818284590455\n",
      "Wall time: 74.1 ms\n"
     ]
    }
   ],
   "source": [
    "%%time\n",
    "\n",
    "# using Taylor approximation\n",
    "max_iter = 10_000\n",
    "\n",
    "e = 0\n",
    "fac = 1\n",
    "\n",
    "for i in range(max_iter):\n",
    "    \n",
    "    e += 1/fac\n",
    "    \n",
    "    fac *= (i+1)\n",
    "    \n",
    "print(f'e ~= {e:,}')"
   ]
  },
  {
   "cell_type": "code",
   "execution_count": 34,
   "id": "66db7c54",
   "metadata": {},
   "outputs": [
    {
     "name": "stdout",
     "output_type": "stream",
     "text": [
      "2.718281828459045\n",
      "2.718281828459045\n"
     ]
    }
   ],
   "source": [
    "import math\n",
    "import numpy as np\n",
    "\n",
    "print(math.e)\n",
    "print(np.e)"
   ]
  },
  {
   "cell_type": "code",
   "execution_count": 35,
   "id": "6219148b",
   "metadata": {},
   "outputs": [],
   "source": [
    "# wrap it in a function\n",
    "def exp(x, max_iter=10_000):\n",
    "\n",
    "    e = 0\n",
    "    fac = 1\n",
    "\n",
    "    for i in range(max_iter):\n",
    "\n",
    "        e += 1/fac\n",
    "\n",
    "        fac *= (i+1)\n",
    "    \n",
    "    return e**x"
   ]
  },
  {
   "cell_type": "markdown",
   "id": "ba43eb06",
   "metadata": {},
   "source": [
    "## Challenge: using Taylor approximations\n",
    "\n",
    "$$\n",
    "\\ln(x) = \\ln(a) + \\frac{1}{a}(x-a) - \\frac{1}{2a^2} (x-a)^2 + \\frac{1}{2*3 a^3} (x-a)^2\n",
    "$$"
   ]
  },
  {
   "cell_type": "code",
   "execution_count": 36,
   "id": "047102e2",
   "metadata": {},
   "outputs": [
    {
     "name": "stdout",
     "output_type": "stream",
     "text": [
      "Wall time: 0 ns\n"
     ]
    }
   ],
   "source": [
    "%%time\n",
    "# using Taylor approximations (doesn't work too well)\n",
    "\n",
    "def ln_taylor(x, d=10, max_iter=1000):\n",
    "    '''\n",
    "    returns natural log of x using Taylor approximation around a = 1\n",
    "    \n",
    "    Parameters\n",
    "    ----\n",
    "    x : ln(x)\n",
    "    \n",
    "    d : accuracy decimals\n",
    "    \n",
    "    max_iter = 1000 : max iteration\n",
    "    '''\n",
    "    a = 0 # first term ln(1) = 0\n",
    "    factorial = 1\n",
    "    n = 1\n",
    "    \n",
    "    for _ in range(max_iter):\n",
    "\n",
    "        factorial *= n\n",
    "\n",
    "        b = a + (-1)**(n-1) * (x-1)**n / factorial\n",
    "        \n",
    "        if abs(b - a) < 10**-d:\n",
    "            return b\n",
    "        \n",
    "        a = b\n",
    "        n += 1"
   ]
  },
  {
   "cell_type": "code",
   "execution_count": 37,
   "id": "083e179a",
   "metadata": {},
   "outputs": [
    {
     "data": {
      "text/plain": [
       "0.6321205588278381"
      ]
     },
     "execution_count": 37,
     "metadata": {},
     "output_type": "execute_result"
    }
   ],
   "source": [
    "# convergence is quite bad\n",
    "ln_taylor(2)"
   ]
  },
  {
   "cell_type": "code",
   "execution_count": 38,
   "id": "b7d6ebcd",
   "metadata": {},
   "outputs": [
    {
     "data": {
      "text/plain": [
       "0.6931471805599453"
      ]
     },
     "execution_count": 38,
     "metadata": {},
     "output_type": "execute_result"
    }
   ],
   "source": [
    "import math\n",
    "math.log(2)"
   ]
  },
  {
   "cell_type": "markdown",
   "id": "629c3358",
   "metadata": {},
   "source": [
    "## Challenge: using Newton's method\n",
    "\n",
    "We have that \n",
    "$$\\begin{align}\n",
    "    \\ln(x) = b &\\implies e^b = x \\\\\n",
    "    & \\implies e^b - x = 0\n",
    "\\end{align}$$\n",
    "\n",
    "Let $f(b) = e^b - x = 0$. Then, approximating $f(b) = 0$ using a first order Taylor expansion gives us:\n",
    "\n",
    "$$\\begin{align}\n",
    "    f(b) = e^b - x = 0\n",
    "    &\\approx f(a) + f'(a)(b-a) \\\\\n",
    "    \\implies\n",
    "    b &\\approx a - \\frac{f(a)}{f'(a)} \\\\\n",
    "    &= a - \\frac{(e^a - x)}{e^b}\n",
    "\\end{align}$$"
   ]
  },
  {
   "cell_type": "code",
   "execution_count": 39,
   "id": "bb83f8ac",
   "metadata": {},
   "outputs": [],
   "source": [
    "def ln_newton(x, a=0, d=10, max_iter = 1000):\n",
    "    '''\n",
    "    returns natural log of x using Newton's method\n",
    "    \n",
    "    Parameters\n",
    "    ----\n",
    "    x : ln(x)\n",
    "    \n",
    "    a = 0 : guess for first approximation value (center of approximation)\n",
    "    \n",
    "    d : accuracy decimals\n",
    "    \n",
    "    max_iter = 1000 : max iteration\n",
    "    '''\n",
    "    \n",
    "    threshold = 10**-d\n",
    "    \n",
    "    e = exp(1)\n",
    "\n",
    "    for _ in range(max_iter):\n",
    "\n",
    "        b = a - (e**a - x) / e**a\n",
    "\n",
    "        error = b - a\n",
    "\n",
    "        if abs(error) < threshold:\n",
    "            break\n",
    "\n",
    "        a = b\n",
    "\n",
    "    return a"
   ]
  },
  {
   "cell_type": "code",
   "execution_count": 40,
   "id": "6e2898f0",
   "metadata": {},
   "outputs": [
    {
     "data": {
      "text/plain": [
       "2.3025850929945424"
      ]
     },
     "execution_count": 40,
     "metadata": {},
     "output_type": "execute_result"
    }
   ],
   "source": [
    "ln_newton(10)"
   ]
  },
  {
   "cell_type": "code",
   "execution_count": 41,
   "id": "5a5b69b4",
   "metadata": {},
   "outputs": [
    {
     "data": {
      "text/plain": [
       "2.302585092994046"
      ]
     },
     "execution_count": 41,
     "metadata": {},
     "output_type": "execute_result"
    }
   ],
   "source": [
    "math.log(10)"
   ]
  },
  {
   "cell_type": "markdown",
   "id": "bb48b92f",
   "metadata": {},
   "source": [
    "# Challenge 9\n",
    "Graphs and differences 📈\n",
    "\n",
    "$\\textbf{(Warm-up)}$\n",
    "\n",
    "\n",
    "For $x \\in [-1, 1]$, calculate and plot the following functions on the same graph:\n",
    "\n",
    "\\begin{align}\n",
    "    f(x) &= \\sqrt{\\left|x\\right|} + \\sqrt{1-x^{2}} \\\\\n",
    "    h(x) &= \\sqrt{\\left|x\\right|} - \\sqrt{1-x^{2}}\n",
    "\\end{align}\n",
    "\n",
    "---\n",
    "\n",
    "$\\textbf{(Challenge)}$\n",
    "\n",
    "\n",
    "For two functions $f(x), h(x)$, let $f(0) = h(0) = 0$ and\n",
    "$$\\begin{align}\n",
    "    f'(x) &= \\frac{1}{2}f(x) \\\\\n",
    "    h'(x) &= \\frac{1}{2}h(x) + 3\n",
    "\\end{align}$$\n",
    "\n",
    "Plot the approximation of these two functions. What are their analytical solutions?\n",
    "\n",
    "---\n",
    "\n",
    "\n",
    "Share your solution below! Remember to use\n",
    "\n",
    "> ```python\n",
    "> # your code here\n",
    "> ```\n",
    "\n",
    "to format your code nicely 👌\n"
   ]
  },
  {
   "cell_type": "markdown",
   "id": "0f2732c4",
   "metadata": {},
   "source": [
    "## Warm-up"
   ]
  },
  {
   "cell_type": "code",
   "execution_count": 42,
   "id": "b8b359dc",
   "metadata": {},
   "outputs": [
    {
     "data": {
      "image/png": "[encoded data removed]",
      "text/plain": [
       "<Figure size 360x360 with 1 Axes>"
      ]
     },
     "metadata": {
      "needs_background": "light"
     },
     "output_type": "display_data"
    }
   ],
   "source": [
    "import matplotlib.pyplot as plt\n",
    "import numpy as np\n",
    "\n",
    "# upper function\n",
    "f = lambda x: abs(x)**(1/2) + (1-x**2)**(1/2)\n",
    "\n",
    "# lower function\n",
    "h = lambda x: abs(x)**(1/2) - (1-x**2)**(1/2)\n",
    "\n",
    "# linear vector\n",
    "x = np.linspace(-1, 1, 1000)\n",
    "\n",
    "# calc upper part\n",
    "u = f(x)\n",
    "\n",
    "# calc lower part\n",
    "d = h(x)\n",
    "\n",
    "# plot\n",
    "plt.figure(figsize=(5, 5)) # set figure size\n",
    "\n",
    "plt.plot(u, lw=3, alpha=0.5)\n",
    "plt.plot(d, lw=3, alpha=0.5)\n",
    "plt.show()"
   ]
  },
  {
   "cell_type": "code",
   "execution_count": null,
   "id": "96a0f1a0",
   "metadata": {},
   "outputs": [],
   "source": []
  },
  {
   "cell_type": "markdown",
   "id": "909ddb1e",
   "metadata": {},
   "source": [
    "## Challenge\n",
    "\n",
    "For our two differential equations\n",
    "$$\\begin{align}\n",
    "    f'(x) &= \\frac{1}{2}f(x), \\quad\n",
    "    h'(x) = \\frac{1}{2}h(x) + 3, \\quad\n",
    "    f(0) = h(0) = 1\n",
    "\\end{align}$$\n",
    "\n",
    "\n",
    "We can use **Euler's method** to linearly approximate the growth path from every ${x_t}$ to $x_{t+1}$:\n",
    "\n",
    "$$\\begin{align}\n",
    "    f(x_{t+1})\n",
    "    &\\approx f(x_{t}) + (x_{t+1}-x_{t}) f'(x_{t}) \\\\\n",
    "    &\\approx f(x_{t}) + (x_{t+1}-x_{t}) \\frac{1}{2}f(x_{t}) \\\\\n",
    "    \\\\\n",
    "    h(x_{t+1})\n",
    "    &\\approx h(x_{t}) + (x_{t+1}-x_{t}) h'(x_{t}) \\\\\n",
    "    &\\approx h(x_{t}) + (x_{t+1}-x_{t}) \\left(\\frac{1}{2}h(x_{t}) + 3\\right)\n",
    "\\end{align}$$"
   ]
  },
  {
   "cell_type": "markdown",
   "id": "eeca9280",
   "metadata": {},
   "source": [
    "## Analytical Solutions:\n",
    "\n",
    "We can actually solve these differential equations in explicit form to compare.\n",
    "\n",
    "$f(x)$ is a separable ODE, so we have\n",
    "$$\\begin{align}\n",
    "    f'(x) &= \\frac{dy}{dx}\n",
    "    = \\frac{1}{2}y,\n",
    "    \\quad f(0) = 1\n",
    "    \\\\\n",
    "    \\implies \\int \\frac{1}{y} dy\n",
    "    &= \\int \\frac{1}{2} dx\n",
    "    \\\\\n",
    "    \\ln(y)\n",
    "    &= \\frac{1}{2}x + c\n",
    "    \\\\\n",
    "    \\implies y\n",
    "    &= e^{\\frac{1}{2}x + c} = e^{c}e^{x/2}\n",
    "    \\\\\n",
    "    y(0) &= 1 = e^{c}e^{0}\n",
    "    \\implies e^{c} = 1\n",
    "    \\\\\n",
    "    \\implies\n",
    "    f(x) = y &= e^{x/2}\n",
    "\\end{align}$$\n",
    "\n",
    "\n",
    "$h(x)$ is not separable but a linear ODE, and so\n",
    "$$\\begin{align}\n",
    "    h'(x)\n",
    "    &= \\frac{1}{2}h(x) + 3,\n",
    "    \\quad h(0) = 1\n",
    "    \\\\ \\implies\n",
    "    h'(x) - \\frac{1}{2}h(x) &= 3\n",
    "    \\\\ \\implies\n",
    "    e^{-\\frac{x}{2}}h'(x) - \\frac{1}{2}e^{-\\frac{x}{2}}h(x)\n",
    "    &= 3e^{-\\frac{x}{2}}\n",
    "    \\\\\n",
    "    = \\frac{d}{dx}\\left( e^{-\\frac{x}{2}} h(x) \\right)\n",
    "    &= 3e^{-\\frac{x}{2}}\n",
    "    \\\\ \\implies\n",
    "    \\int \\frac{d}{dx}\\left( e^{-\\frac{x}{2}} h(x) \\right) dx\n",
    "    &= \\int 3e^{-\\frac{x}{2}} dx\n",
    "    \\\\ \\implies\n",
    "    e^{-\\frac{x}{2}} h(x)\n",
    "    &= -6e^{-\\frac{x}{2}} + c\n",
    "    \\\\ \\implies\n",
    "    h(x) &= ce^{\\frac{x}{2}} - 6\n",
    "    \\\\\n",
    "    h(0) &= 1 = c - 6 \\implies c = 7\n",
    "    \\\\\n",
    "    \\implies h(x) &= 7e^{\\frac{x}{2}} - 6\n",
    "\\end{align}$$"
   ]
  },
  {
   "cell_type": "code",
   "execution_count": 43,
   "id": "fb08b083",
   "metadata": {},
   "outputs": [
    {
     "data": {
      "image/png": "[encoded data removed]",
      "text/plain": [
       "<Figure size 576x360 with 1 Axes>"
      ]
     },
     "metadata": {
      "needs_background": "light"
     },
     "output_type": "display_data"
    }
   ],
   "source": [
    "import numpy as np\n",
    "import matplotlib.pyplot as plt\n",
    "\n",
    "n = 1000\n",
    "\n",
    "x = np.linspace(0, 5, n)\n",
    "f = np.zeros(n)\n",
    "h = np.zeros(n)\n",
    "\n",
    "f[0] = 1\n",
    "h[0] = 1\n",
    "\n",
    "for i in range(n-1):\n",
    "    f[i+1] = f[i] + ((x[i+1] - x[i]) * f[i] / 2)\n",
    "    h[i+1] = h[i] + ((x[i+1] - x[i]) * (h[i] / 2 + 3))\n",
    "\n",
    "fmt = dict(lw=5, alpha=0.65)\n",
    "plt.figure(figsize=(8, 5))\n",
    "\n",
    "# plot f(x) and h(x) approximations\n",
    "plt.plot(x, f, label='$f(x)$', **fmt)\n",
    "plt.plot(x, h, label='$h(x)$', **fmt)\n",
    "\n",
    "# plot analytical solutions\n",
    "plt.plot(x, np.exp(x/2), ls=':', label='$e^{x/2}$', **fmt)\n",
    "plt.plot(x, 7*np.exp(x/2)-6, ls=':', label='$7e^{x/2} - 6$', **fmt)\n",
    "\n",
    "plt.legend()\n",
    "plt.show()"
   ]
  },
  {
   "cell_type": "code",
   "execution_count": null,
   "id": "3de4a17e",
   "metadata": {},
   "outputs": [],
   "source": []
  },
  {
   "cell_type": "markdown",
   "id": "52030899",
   "metadata": {},
   "source": [
    "# Challenge 10\n",
    "Pascal's triangle 🔺\n",
    "\n",
    "**(Warm-up)**\n",
    "\n",
    "Consider a triangle where each layer is constructed with numbers from 0 to 9:\n",
    "\n",
    "```\n",
    "0\n",
    "11\n",
    "222\n",
    "3333\n",
    " ⋮\n",
    "9999999999\n",
    "00000000000\n",
    "111111111111\n",
    "```\n",
    "\n",
    "Print such a triangle with 20 layers.\n",
    "\n",
    "---\n",
    "\n",
    "**(Challenge)**\n",
    "\n",
    "Wiki: https://en.wikipedia.org/wiki/Pascal%27s_triangle\n",
    "\n",
    "Pascal's Triangle is a pyramid of numbers constructed as follows:\n",
    "```\n",
    "      1\n",
    "     1 1\n",
    "    1 2 1\n",
    "   1 3 3 1\n",
    "  1 4 6 4 1\n",
    "      ⋮\n",
    "```\n",
    "Where the numbers in each level is constructed by the sum of the numbers standing on its shoulders from the level above.\n",
    "\n",
    "For example, the 5th row of the triangle `1 4 6 4 1` is constructed as follows:\n",
    "```\n",
    "              1\n",
    "           1     1\n",
    "        1     2     1\n",
    "     1     3     3     1\n",
    "(0+1) (1+3) (3+3) (3+1) (1+0) => 1 4 6 4 1\n",
    "```\n",
    "Create a list of lists that contain the first **`20 rows`** of Pascal's Triangle.\n",
    "\n",
    "**i.e.:**\n",
    "```python\n",
    "pascal == [[1],\n",
    "           [1, 1],\n",
    "           [1, 2, 1],\n",
    "           [1, 3, 3, 1],\n",
    "           [1, 4, 6, 4, 1],\n",
    "              ⋮\n",
    "          ]\n",
    "```\n",
    "\n",
    "---"
   ]
  },
  {
   "cell_type": "code",
   "execution_count": 44,
   "id": "0db6f7f1",
   "metadata": {},
   "outputs": [
    {
     "name": "stdout",
     "output_type": "stream",
     "text": [
      "0\n",
      "11\n",
      "222\n",
      "3333\n",
      "44444\n",
      "555555\n",
      "6666666\n",
      "77777777\n",
      "888888888\n",
      "9999999999\n",
      "00000000000\n",
      "111111111111\n",
      "2222222222222\n",
      "33333333333333\n",
      "444444444444444\n",
      "5555555555555555\n",
      "66666666666666666\n",
      "777777777777777777\n",
      "8888888888888888888\n",
      "99999999999999999999\n"
     ]
    }
   ],
   "source": [
    "# warm-up\n",
    "nums = [(n+1)*str(n % 10) for n in range(20)]\n",
    "res = '\\n'.join(nums)\n",
    "\n",
    "print(res)"
   ]
  },
  {
   "cell_type": "markdown",
   "id": "69e852fb",
   "metadata": {},
   "source": [
    "## Challenge"
   ]
  },
  {
   "cell_type": "code",
   "execution_count": 45,
   "id": "48090638",
   "metadata": {},
   "outputs": [
    {
     "name": "stdout",
     "output_type": "stream",
     "text": [
      "[[1],\n",
      " [1, 1],\n",
      " [1, 2, 1],\n",
      " [1, 3, 3, 1],\n",
      " [1, 4, 6, 4, 1],\n",
      " [1, 5, 10, 10, 5, 1],\n",
      " [1, 6, 15, 20, 15, 6, 1],\n",
      " [1, 7, 21, 35, 35, 21, 7, 1],\n",
      " [1, 8, 28, 56, 70, 56, 28, 8, 1],\n",
      " [1, 9, 36, 84, 126, 126, 84, 36, 9, 1],\n",
      " [1, 10, 45, 120, 210, 252, 210, 120, 45, 10, 1],\n",
      " [1, 11, 55, 165, 330, 462, 462, 330, 165, 55, 11, 1],\n",
      " [1, 12, 66, 220, 495, 792, 924, 792, 495, 220, 66, 12, 1],\n",
      " [1, 13, 78, 286, 715, 1287, 1716, 1716, 1287, 715, 286, 78, 13, 1],\n",
      " [1, 14, 91, 364, 1001, 2002, 3003, 3432, 3003, 2002, 1001, 364, 91, 14, 1],\n",
      " [1, 15, 105, 455, 1365, 3003, 5005, 6435, 6435, 5005, 3003, 1365, 455, 105, 15, 1],\n",
      " [1, 16, 120, 560, 1820, 4368, 8008, 11440, 12870, 11440, 8008, 4368, 1820, 560, 120, 16, 1],\n",
      " [1, 17, 136, 680, 2380, 6188, 12376, 19448, 24310, 24310, 19448, 12376, 6188, 2380, 680, 136, 17, 1],\n",
      " [1, 18, 153, 816, 3060, 8568, 18564, 31824, 43758, 48620, 43758, 31824, 18564, 8568, 3060, 816, 153, 18, 1],\n",
      " [1, 19, 171, 969, 3876, 11628, 27132, 50388, 75582, 92378, 92378, 75582, 50388, 27132, 11628, 3876, 969, 171, 19, 1]]\n"
     ]
    }
   ],
   "source": [
    "# solution 1: using indexing\n",
    "\n",
    "pascal = [[1]]\n",
    "\n",
    "while len(pascal) < 20:\n",
    "\n",
    "    prev = pascal[-1]\n",
    "    \n",
    "    # add 0 + first\n",
    "    row = [prev[0]]\n",
    "    \n",
    "    # add left and right from interior numbers\n",
    "    for L, R in zip(prev[:-1], prev[1:]):\n",
    "        row.append(L+R)\n",
    "        \n",
    "    # add last + 0\n",
    "    row.append(prev[-1])\n",
    "    \n",
    "    pascal.append(row)\n",
    "\n",
    "# function to print\n",
    "def pprint(list_of_list):\n",
    "    rep = str(list_of_list).replace('],', '],\\n')\n",
    "    print(rep)\n",
    "    \n",
    "pprint(pascal)"
   ]
  },
  {
   "cell_type": "code",
   "execution_count": 46,
   "id": "e5335553",
   "metadata": {},
   "outputs": [
    {
     "name": "stdout",
     "output_type": "stream",
     "text": [
      "[[1],\n",
      " [1, 1],\n",
      " [1, 2, 1],\n",
      " [1, 3, 3, 1],\n",
      " [1, 4, 6, 4, 1],\n",
      " [1, 5, 10, 10, 5, 1],\n",
      " [1, 6, 15, 20, 15, 6, 1],\n",
      " [1, 7, 21, 35, 35, 21, 7, 1],\n",
      " [1, 8, 28, 56, 70, 56, 28, 8, 1],\n",
      " [1, 9, 36, 84, 126, 126, 84, 36, 9, 1],\n",
      " [1, 10, 45, 120, 210, 252, 210, 120, 45, 10, 1],\n",
      " [1, 11, 55, 165, 330, 462, 462, 330, 165, 55, 11, 1],\n",
      " [1, 12, 66, 220, 495, 792, 924, 792, 495, 220, 66, 12, 1],\n",
      " [1, 13, 78, 286, 715, 1287, 1716, 1716, 1287, 715, 286, 78, 13, 1],\n",
      " [1, 14, 91, 364, 1001, 2002, 3003, 3432, 3003, 2002, 1001, 364, 91, 14, 1],\n",
      " [1, 15, 105, 455, 1365, 3003, 5005, 6435, 6435, 5005, 3003, 1365, 455, 105, 15, 1],\n",
      " [1, 16, 120, 560, 1820, 4368, 8008, 11440, 12870, 11440, 8008, 4368, 1820, 560, 120, 16, 1],\n",
      " [1, 17, 136, 680, 2380, 6188, 12376, 19448, 24310, 24310, 19448, 12376, 6188, 2380, 680, 136, 17, 1],\n",
      " [1, 18, 153, 816, 3060, 8568, 18564, 31824, 43758, 48620, 43758, 31824, 18564, 8568, 3060, 816, 153, 18, 1],\n",
      " [1, 19, 171, 969, 3876, 11628, 27132, 50388, 75582, 92378, 92378, 75582, 50388, 27132, 11628, 3876, 969, 171, 19, 1]]\n"
     ]
    }
   ],
   "source": [
    "# solution 2: using binomial theorem - https://en.wikipedia.org/wiki/Binomial_theorem\n",
    "\n",
    "# fast factorial with memoization\n",
    "_fac = [1]\n",
    "def factorial(n):\n",
    "    '''\n",
    "    Compute factorial using memoization\n",
    "    '''\n",
    "    # while factorials not computed\n",
    "    while n >= (m:=len(_fac)):\n",
    "        _fac.append(m * _fac[-1])\n",
    "        \n",
    "    return _fac[n]\n",
    "\n",
    "# binomial coefficient: https://en.wikipedia.org/wiki/Binomial_coefficient\n",
    "def binom_coeff(n, k):\n",
    "    '''\n",
    "    Compute n choose k\n",
    "    '''\n",
    "    return int(factorial(n) / (factorial(n-k) * factorial(k)))\n",
    "\n",
    "# create pascal\n",
    "pascal = []\n",
    "for n in range(20):\n",
    "    \n",
    "    row = []\n",
    "    for k in range(n+1):\n",
    "        # add binomial coefficients\n",
    "        row.append(binom_coeff(n, k))\n",
    "        \n",
    "    pascal.append(row)\n",
    "    \n",
    "print(str(pascal).replace('],', '],\\n'))"
   ]
  },
  {
   "cell_type": "code",
   "execution_count": null,
   "id": "8881dd3d",
   "metadata": {},
   "outputs": [],
   "source": []
  },
  {
   "cell_type": "markdown",
   "id": "a3929a2d",
   "metadata": {},
   "source": [
    "# Challenge 11\n",
    "Look-and-say 👀\n",
    "\n",
    "**(Warm-up)**\n",
    "\n",
    "Create a list of numbers **`from 1 to 20`** in order where each number `n` is repeated `n` times.\n",
    "\n",
    "**i.e.: `x = [1, 2, 2, 3, 3, 3, 4, 4, 4, 4, 5, ....]`**.\n",
    "\n",
    "Bonus points for using a list comprehension.\n",
    "\n",
    "---\n",
    "\n",
    "**(Challenge)**\n",
    "    \n",
    "A look-and-say number sequence is generated mnemonically. If we start with the number **`1`** in the sequence:\n",
    "\n",
    "**`1`** reads `One \"one\"` => **`11`**, which are now the next numbers in the sequence.\n",
    "\n",
    "**`11`** reads `Two \"ones\"` => **`21`**, \n",
    "\n",
    "**`21`** reads `One \"two\", one \"one\"` => **`1211`**,\n",
    "\n",
    "**`1211`** reads `One \"one\", one \"two\", two \"ones\"` => **`111221`**,\n",
    "\n",
    "**`111221`** reads `Three \"ones\", two \"twos\", one \"one\"` => **`312211`** ...\n",
    "\n",
    "... and so on.\n",
    "\n",
    "Create a `look-and-say` sequence as a list of **length 30** that begins with **1.**\n",
    "\n",
    "**i.e.:**\n",
    "\n",
    "```python\n",
    "result == [1,\n",
    "           11,\n",
    "           21,\n",
    "           1211,\n",
    "           111221,\n",
    "           312211,\n",
    "             ⋮\n",
    "          ]\n",
    "```\n",
    "\n",
    "John Conway's explanation of Look-and-Say Numbers: https://youtu.be/ea7lJkEhytA\n",
    "\n",
    "---\n",
    "\n",
    "\n",
    "Share your solution below! Remember to use\n",
    "\n",
    "> ```python\n",
    "> # your code here\n",
    "> ```\n",
    "\n",
    "to format your code nicely 👌\n"
   ]
  },
  {
   "cell_type": "code",
   "execution_count": 47,
   "id": "880554ae",
   "metadata": {},
   "outputs": [
    {
     "name": "stdout",
     "output_type": "stream",
     "text": [
      "[1, 2, 2, 3, 3, 3, 4, 4, 4, 4, 5, 5, 5, 5, 5, 6, 6, 6, 6, 6, 6, 7, 7, 7, 7, 7, 7, 7, 8, 8, 8, 8, 8, 8, 8, 8, 9, 9, 9, 9, 9, 9, 9, 9, 9, 10, 10, 10, 10, 10, 10, 10, 10, 10, 10, 11, 11, 11, 11, 11, 11, 11, 11, 11, 11, 11, 12, 12, 12, 12, 12, 12, 12, 12, 12, 12, 12, 12, 13, 13, 13, 13, 13, 13, 13, 13, 13, 13, 13, 13, 13, 14, 14, 14, 14, 14, 14, 14, 14, 14, 14, 14, 14, 14, 14, 15, 15, 15, 15, 15, 15, 15, 15, 15, 15, 15, 15, 15, 15, 15, 16, 16, 16, 16, 16, 16, 16, 16, 16, 16, 16, 16, 16, 16, 16, 16, 17, 17, 17, 17, 17, 17, 17, 17, 17, 17, 17, 17, 17, 17, 17, 17, 17, 18, 18, 18, 18, 18, 18, 18, 18, 18, 18, 18, 18, 18, 18, 18, 18, 18, 18, 19, 19, 19, 19, 19, 19, 19, 19, 19, 19, 19, 19, 19, 19, 19, 19, 19, 19, 19, 20, 20, 20, 20, 20, 20, 20, 20, 20, 20, 20, 20, 20, 20, 20, 20, 20, 20, 20, 20]\n"
     ]
    }
   ],
   "source": [
    "# warm-up\n",
    "n = 20\n",
    "\n",
    "x = [i for i in range(n+1) for _ in range(i)]\n",
    "\n",
    "print(x)"
   ]
  },
  {
   "cell_type": "markdown",
   "id": "ec729b69",
   "metadata": {},
   "source": [
    "# Challenge 12\n",
    "Pick a card, any card 🃏\n",
    "\n",
    "**(Challenge)**\n",
    "\n",
    "Suppose we have a deck of cards suited `A, B, C` and valued `0 to 3`, from which we draw **three cards with no replacement***.\n",
    "\n",
    "We define the following hands:\n",
    "\n",
    "> **Pair:** two of three cards have the same value, e.g.: `A1, B1, A2`.\n",
    ">\n",
    "> **Straight:** the three cards form consecutive numbers, e.g.: `A2, B1, B3`.\n",
    ">\n",
    "> **Flush:** the three cards have same suits and are nonconsecutive, e.g.: `A1, A2, A4`.>\n",
    ">\n",
    "> **Straight-flush:** the three cards form a straight and a flush, e.g.: `B0, B1, B2`.\n",
    "\n",
    "\n",
    "How many combinations of **three card draws** are there? How many combinations of **pairs**, **flushes**, and **straight-flushes** are there in a three card draw?\n",
    "\n",
    "\n",
    "\\*A card cannot be repeated once drawn. For example, the draw `A1, A2, A3` **has no replacement** since no card is repeated. The draw `A1, A1, A2` **has replacement** since `A1` is repeated.\n",
    "\n",
    "\n",
    "---\n",
    "\n",
    "\n",
    "Share your solution below! Remember to use\n",
    "\n",
    "> ```python\n",
    "> # your code here\n",
    "> ```\n",
    "\n",
    "to format your code nicely 👌\n"
   ]
  },
  {
   "cell_type": "code",
   "execution_count": 48,
   "id": "6f405967",
   "metadata": {},
   "outputs": [],
   "source": [
    "suits = ['A', 'B', 'C']\n",
    "vals = [str(n) for n in range(4)]\n",
    "cards = [s+v for s in suits for v in vals]\n",
    "\n",
    "n_suits = len(suits)\n",
    "n_vals = len(vals)\n",
    "n_cards = len(cards)"
   ]
  },
  {
   "cell_type": "code",
   "execution_count": 49,
   "id": "26e574fa",
   "metadata": {},
   "outputs": [],
   "source": [
    "_fac = [1]\n",
    "def factorial(n):\n",
    "    if n < len(_fac):\n",
    "        return _fac[n]\n",
    "    else:\n",
    "        m = len(_fac)\n",
    "        _fac.append(_fac[-1] * m)\n",
    "        return factorial(n)\n",
    "\n",
    "choose = lambda m, n: int(factorial(m) / (factorial(m-n) * factorial(n)))"
   ]
  },
  {
   "cell_type": "code",
   "execution_count": 50,
   "id": "8e4e087a",
   "metadata": {},
   "outputs": [
    {
     "name": "stdout",
     "output_type": "stream",
     "text": [
      "1728\n",
      "# permutations: 1728\n"
     ]
    }
   ],
   "source": [
    "# permutations\n",
    "perms = [[]]\n",
    "for _ in range(3):\n",
    "    new = []\n",
    "    for c in cards:\n",
    "        for p in perms:\n",
    "            new.append(p + [c])\n",
    "    perms = new\n",
    "\n",
    "print(len(perms))\n",
    "\n",
    "n_perms = len(cards)**3\n",
    "print(f'# permutations:', n_perms)"
   ]
  },
  {
   "cell_type": "code",
   "execution_count": 51,
   "id": "4b1a70be",
   "metadata": {},
   "outputs": [
    {
     "name": "stdout",
     "output_type": "stream",
     "text": [
      "220\n",
      "# combinations: 220\n"
     ]
    }
   ],
   "source": [
    "# combinations\n",
    "combs = []\n",
    "\n",
    "for i, a in enumerate(cards):\n",
    "    \n",
    "    for j, b in enumerate(cards[i+1:]):\n",
    "\n",
    "        for c in cards[i+j+2:]:\n",
    "            combs.append([a, b, c])\n",
    "            \n",
    "print(len(combs))\n",
    "\n",
    "n_combs = choose(len(cards), 3)\n",
    "print(f'# combinations:', n_combs)"
   ]
  },
  {
   "cell_type": "code",
   "execution_count": 52,
   "id": "df9a41af",
   "metadata": {},
   "outputs": [
    {
     "name": "stdout",
     "output_type": "stream",
     "text": [
      "108\n",
      "# pairs: 108\n"
     ]
    }
   ],
   "source": [
    "# pairs\n",
    "pairs = []\n",
    "\n",
    "for i, s1 in enumerate(suits):\n",
    "    \n",
    "    for s2 in suits[i+1:]:\n",
    "        \n",
    "        for v in vals:\n",
    "            \n",
    "            for v3 in (set(vals) - {v}):\n",
    "                for s in suits:\n",
    "                    \n",
    "                    pairs.append([s1+v, s2+v, s+v3])\n",
    "                    \n",
    "print(len(pairs))\n",
    "\n",
    "n_pairs = choose(n_suits, 2) * choose(n_vals, 1) * choose(n_vals-1, 1) * choose(n_suits, 1)\n",
    "print(f'# pairs:', n_pairs)"
   ]
  },
  {
   "cell_type": "markdown",
   "id": "d684950f",
   "metadata": {},
   "source": [
    "# Challenge 13\n",
    "Tic-tac-toe ❌⭕"
   ]
  },
  {
   "cell_type": "code",
   "execution_count": 53,
   "id": "52fe827d",
   "metadata": {},
   "outputs": [
    {
     "data": {
      "text/plain": [
       "\"'X' wins (horizontal).\""
      ]
     },
     "execution_count": 53,
     "metadata": {},
     "output_type": "execute_result"
    }
   ],
   "source": [
    "# from: http://www.pyschools.com/quiz/view_question/s3-q13\n",
    "\n",
    "def tictactoe(moves): \n",
    "\n",
    "    def checkline(line, label):\n",
    "        xo = list(set(line))\n",
    "        if len(xo) < 2:\n",
    "            return \"'%s' wins (%s).\" % (xo[0], label)\n",
    "        else:\n",
    "            return False\n",
    "\n",
    "    n = len(moves)\n",
    "    lines = {'horizontal' : moves,\n",
    "             'vertical'   : [[moves[i][j] for i in range(n)] for j in range(n)],\n",
    "             'diagonal'   : [[row[i] for i, row in enumerate(moves)],\n",
    "                 [row[-i-1] for i, row in enumerate(moves)]]\n",
    "        }\n",
    "\n",
    "    for label, data in lines.items():\n",
    "        for line in data:\n",
    "            res = checkline(line, label)\n",
    "            if res:\n",
    "                return res\n",
    "    return \"Draw.\"\n",
    "\n",
    "tictactoe([('X', ' ', 'O'), \n",
    "           (' ', 'O', 'O'), \n",
    "           ('X', 'X', 'X') ])"
   ]
  },
  {
   "cell_type": "code",
   "execution_count": 54,
   "id": "43911b5d",
   "metadata": {},
   "outputs": [
    {
     "name": "stdout",
     "output_type": "stream",
     "text": [
      "[('X', ' ', 'O'), (' ', 'O', 'O'), ('X', 'X', 'X')]\n",
      "'X' wins (horizontal).\n",
      "[('X', 'O', 'X'), ('O', 'X', 'O'), ('O', 'X', 'O')]\n",
      "Draw.\n",
      "[('X', 'O', 'O'), ('X', 'O', ' '), ('O', 'X', ' ')]\n",
      "'O' wins (diagonal).\n",
      "[('X', 'O', 'X'), ('O', 'O', 'X'), ('O', 'X', 'X')]\n",
      "'X' wins (vertical).\n"
     ]
    }
   ],
   "source": [
    "moves  =  ([('X', ' ', 'O'),\n",
    "            (' ', 'O', 'O'),\n",
    "            ('X', 'X', 'X') ])\n",
    "\"'X' wins (horizontal).\"\n",
    "print(moves)\n",
    "print(tictactoe(moves))\n",
    "\n",
    "moves  =  ([('X', 'O', 'X'), \n",
    "            ('O', 'X', 'O'), \n",
    "            ('O', 'X', 'O') ])\n",
    "'Draw.'\n",
    "print(moves)\n",
    "print(tictactoe(moves))\n",
    "\n",
    "moves  =  ([('X', 'O', 'O'),\n",
    "            ('X', 'O', ' '),\n",
    "            ('O', 'X', ' ') ])\n",
    "\"'O' wins (diagonal).\"\n",
    "print(moves)\n",
    "print(tictactoe(moves))\n",
    "\n",
    "moves  =  ([('X', 'O', 'X'), \n",
    "            ('O', 'O', 'X'), \n",
    "            ('O', 'X', 'X') ])\n",
    "\"'X' wins (vertical).\"\n",
    "print(moves)\n",
    "print(tictactoe(moves))"
   ]
  }
 ],
 "metadata": {
  "kernelspec": {
   "display_name": "Python 3",
   "language": "python",
   "name": "python3"
  },
  "language_info": {
   "codemirror_mode": {
    "name": "ipython",
    "version": 3
   },
   "file_extension": ".py",
   "mimetype": "text/x-python",
   "name": "python",
   "nbconvert_exporter": "python",
   "pygments_lexer": "ipython3",
   "version": "3.8.5"
  }
 },
 "nbformat": 4,
 "nbformat_minor": 5
}
