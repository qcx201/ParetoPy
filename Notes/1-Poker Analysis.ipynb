{
 "cells": [
  {
   "cell_type": "markdown",
   "id": "0e7ce0a8",
   "metadata": {},
   "source": [
    "# Poker Analysis"
   ]
  },
  {
   "cell_type": "code",
   "execution_count": 2,
   "id": "793ab753",
   "metadata": {},
   "outputs": [],
   "source": [
    "ranks = [str(n) for n in range(2, 11)] + list('JQKA')\n",
    "suits = '♠️♥️♦️♣️'\n",
    "suits = [s for s in suits][::2]"
   ]
  },
  {
   "cell_type": "code",
   "execution_count": 3,
   "id": "46e06122",
   "metadata": {},
   "outputs": [
    {
     "name": "stdout",
     "output_type": "stream",
     "text": [
      "['♠2', '♠3', '♠4', '♠5', '♠6', '♠7', '♠8', '♠9', '♠10', '♠J', '♠Q', '♠K', '♠A', '♥2', '♥3', '♥4', '♥5', '♥6', '♥7', '♥8', '♥9', '♥10', '♥J', '♥Q', '♥K', '♥A', '♦2', '♦3', '♦4', '♦5', '♦6', '♦7', '♦8', '♦9', '♦10', '♦J', '♦Q', '♦K', '♦A', '♣2', '♣3', '♣4', '♣5', '♣6', '♣7', '♣8', '♣9', '♣10', '♣J', '♣Q', '♣K', '♣A'] \n",
      "\n",
      "52\n"
     ]
    }
   ],
   "source": [
    "cards = []\n",
    "\n",
    "for suit in suits:\n",
    "    \n",
    "    for rank in ranks:\n",
    "        \n",
    "        cards.append(suit+rank)\n",
    "        \n",
    "print(cards, '\\n')\n",
    "\n",
    "# check card count\n",
    "print(len(cards))"
   ]
  },
  {
   "cell_type": "code",
   "execution_count": 4,
   "id": "c4a07a9f",
   "metadata": {},
   "outputs": [
    {
     "name": "stdout",
     "output_type": "stream",
     "text": [
      "[('♠2', '♠3', '♠4', '♠5', '♠6'), ('♠2', '♠3', '♠4', '♠5', '♠7'), ('♠2', '♠3', '♠4', '♠5', '♠8'), ('♠2', '♠3', '♠4', '♠5', '♠9'), ('♠2', '♠3', '♠4', '♠5', '♠10'), ('♠2', '♠3', '♠4', '♠5', '♠J'), ('♠2', '♠3', '♠4', '♠5', '♠Q'), ('♠2', '♠3', '♠4', '♠5', '♠K'), ('♠2', '♠3', '♠4', '♠5', '♠A'), ('♠2', '♠3', '♠4', '♠5', '♥2')]\n"
     ]
    }
   ],
   "source": [
    "from itertools import combinations\n",
    "\n",
    "hands = list(combinations(cards, 5))\n",
    "print(hands[:10])"
   ]
  },
  {
   "cell_type": "code",
   "execution_count": 8,
   "id": "a0e53c28",
   "metadata": {},
   "outputs": [
    {
     "name": "stdout",
     "output_type": "stream",
     "text": [
      "2598960\n",
      "2598960\n"
     ]
    }
   ],
   "source": [
    "# create product function\n",
    "def prod(nums):\n",
    "    \n",
    "    res = 1\n",
    "    for n in nums:\n",
    "        res *= n\n",
    "    \n",
    "    return res\n",
    "\n",
    "# use product function to create factorial function\n",
    "def fac(n):\n",
    "    \n",
    "    return prod(range(1, n+1))\n",
    "\n",
    "\n",
    "# use factorial function to create combination function\n",
    "def combin(n, k):\n",
    "    \n",
    "    return int(fac(n) / (fac(n-k) * fac(k)))\n",
    "\n",
    "# check combinations\n",
    "print(len(hands))\n",
    "print(combin(52, 5))"
   ]
  }
 ],
 "metadata": {
  "kernelspec": {
   "display_name": "Python 3",
   "language": "python",
   "name": "python3"
  },
  "language_info": {
   "codemirror_mode": {
    "name": "ipython",
    "version": 3
   },
   "file_extension": ".py",
   "mimetype": "text/x-python",
   "name": "python",
   "nbconvert_exporter": "python",
   "pygments_lexer": "ipython3",
   "version": "3.8.5"
  }
 },
 "nbformat": 4,
 "nbformat_minor": 5
}
