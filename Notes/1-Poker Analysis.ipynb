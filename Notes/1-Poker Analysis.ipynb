{
 "cells": [
  {
   "cell_type": "markdown",
   "id": "8c9c3869",
   "metadata": {},
   "source": [
    "# Poker Analysis"
   ]
  },
  {
   "cell_type": "markdown",
   "id": "68044e7c",
   "metadata": {},
   "source": [
    "### Preamble"
   ]
  },
  {
   "cell_type": "code",
   "execution_count": 1,
   "id": "80c572a5",
   "metadata": {},
   "outputs": [
    {
     "name": "stdout",
     "output_type": "stream",
     "text": [
      "2,598,960\n"
     ]
    }
   ],
   "source": [
    "# create list of ranks and suits\n",
    "ranks = [str(n) for n in range(2, 10)] + list('TJQKA')\n",
    "suits = list('♠️♥️♦️♣️')[::2]\n",
    "\n",
    "# create string of ranks\n",
    "straight_ranks_str = 'A' + ''.join(ranks)\n",
    "\n",
    "# create list of cards\n",
    "cards = [r+s for s in suits for r in ranks]\n",
    "\n",
    "# create all combinations of 5 card hands ()\n",
    "from itertools import combinations\n",
    "hands = list(combinations(cards, 5))\n",
    "\n",
    "print(f'{len(hands):,}') # check length\n"
   ]
  },
  {
   "cell_type": "code",
   "execution_count": 2,
   "id": "f7359c6d",
   "metadata": {},
   "outputs": [
    {
     "name": "stdout",
     "output_type": "stream",
     "text": [
      "{'3': 1, '2': 1, 'J': 2, '4': 1}\n",
      "{'♠': 4, '♣': 1}\n"
     ]
    }
   ],
   "source": [
    "def group_by(hand, by_rank=True):\n",
    "    \n",
    "    # check if by rank or by suit\n",
    "    if by_rank:\n",
    "        i = 0\n",
    "    else:\n",
    "        i = 1\n",
    "        \n",
    "    hand_ranks = []\n",
    "    for card in hand:\n",
    "        hand_ranks.append(card[i])\n",
    "\n",
    "    # create dictionary with count by group\n",
    "    res = dict()\n",
    "    for rank in set(hand_ranks):\n",
    "        res[rank] = hand_ranks.count(rank)\n",
    "    \n",
    "    return res\n",
    "\n",
    "# test function\n",
    "hand = ('2♠', '3♠', '4♠', 'J♠', 'J♣')\n",
    "print(group_by(hand))\n",
    "print(group_by(hand, by_rank=False))"
   ]
  },
  {
   "cell_type": "code",
   "execution_count": 3,
   "id": "e9efe5a9",
   "metadata": {},
   "outputs": [
    {
     "name": "stdout",
     "output_type": "stream",
     "text": [
      "True\n"
     ]
    }
   ],
   "source": [
    "def is_straight(rank_group, n=5):\n",
    "    \n",
    "\n",
    "    # sort ranks\n",
    "    ranks_str = ''.join(\n",
    "        sorted(\n",
    "            set(rank_group),\n",
    "            key=lambda x : straight_ranks_str.index(x) # sort by index in straight_ranks\n",
    "        )\n",
    "    )\n",
    "    \n",
    "    # iterate n-lengthed substrings\n",
    "    for i in range(len(ranks_str)-n+1):\n",
    "\n",
    "        ranks_substr = ranks_str[i:i+n]\n",
    "\n",
    "        # check if n-substring is in straight string\n",
    "        if ranks_substr in straight_ranks_str:\n",
    "            return True\n",
    "        \n",
    "    # special case of Ace at the end\n",
    "    if ranks_str[-4:] + ranks_str[0] in straight_ranks_str:\n",
    "        return True\n",
    "\n",
    "    return False\n",
    "\n",
    "# test function\n",
    "hand = ('2♠', '3♠', '4♠', '6♠', 'J♣', '5♣')\n",
    "rank_group = group_by(hand)\n",
    "print(is_straight(rank_group))"
   ]
  },
  {
   "cell_type": "code",
   "execution_count": 4,
   "id": "c519399f",
   "metadata": {},
   "outputs": [
    {
     "name": "stdout",
     "output_type": "stream",
     "text": [
      "Straight flush \t.\n",
      "4 of a kind \t.\n",
      "Full house \t.\n",
      "Flush\t \t.\n",
      "Straight \t.\n",
      "3 of a kind \t.\n",
      "2 pair\t \t.\n",
      "Pair\t \t.\n",
      "High card \t.\n"
     ]
    }
   ],
   "source": [
    "# dictionary of hand names\n",
    "\n",
    "hand_names = {\n",
    "    \n",
    "    1 : 'Straight flush',\n",
    "    2 : '4 of a kind',\n",
    "    3 : 'Full house',\n",
    "    4 : 'Flush\\t',\n",
    "    5 : 'Straight',\n",
    "    6 : '3 of a kind',\n",
    "    7 : '2 pair\\t',\n",
    "    8 : 'Pair\\t',\n",
    "    9 : 'High card'\n",
    "}\n",
    "\n",
    "# check alignment for tabs\n",
    "for name in hand_names:\n",
    "    print(hand_names[name], '\\t.')"
   ]
  },
  {
   "cell_type": "code",
   "execution_count": 5,
   "id": "319788d3",
   "metadata": {},
   "outputs": [
    {
     "data": {
      "text/plain": [
       "'4 of a kind'"
      ]
     },
     "execution_count": 5,
     "metadata": {},
     "output_type": "execute_result"
    }
   ],
   "source": [
    "def id_hand(hand):\n",
    "    \n",
    "    # dictionary of ranks and counts\n",
    "    rank_group = group_by(hand) \n",
    "    rank_counts = list(rank_group.values()) # just counts of ranks\n",
    "    \n",
    "    # dictionary of suits and counts\n",
    "    suit_group = group_by(hand, by_rank=False)\n",
    "    suit_counts = list(suit_group.values()) # just count of suits\n",
    "    \n",
    "    \n",
    "    ## straight flush\n",
    "    \n",
    "    # create dictionary of ranks by suit\n",
    "    suited_ranks = {suit : set() for suit in suit_group}\n",
    "    for rank, suit in hand:\n",
    "        suited_ranks[suit].add(rank)\n",
    "\n",
    "    # for set of same-suited ranks\n",
    "    for suited_rank in suited_ranks.values():\n",
    "\n",
    "        # join ranks in a string\n",
    "        if is_straight(suited_rank):\n",
    "            return 1\n",
    "        \n",
    "    \n",
    "    ## four of a kind\n",
    "    k = 4\n",
    "    if (k in rank_counts):\n",
    "        return 2\n",
    "    \n",
    "    ## full house\n",
    "    if 2 in rank_counts and 3 in rank_counts:\n",
    "        return 3\n",
    "    \n",
    "    ## flush\n",
    "    if 5 in suit_counts:\n",
    "        return 4\n",
    "    \n",
    "    ## straight\n",
    "    if is_straight(rank_group):\n",
    "        return 5\n",
    "    \n",
    "    ## three of a kind\n",
    "    k = 3\n",
    "    if (k in rank_counts):\n",
    "        return 6\n",
    "    \n",
    "    ## two pair\n",
    "    if rank_counts.count(2) >= 2:\n",
    "        return 7\n",
    "    \n",
    "    ## pair\n",
    "    k = 2\n",
    "    if (k in rank_counts):\n",
    "        return 8\n",
    "    \n",
    "    \n",
    "    ## last and least: high card\n",
    "    return 9\n",
    "\n",
    "# test\n",
    "hand = ('2♠', '2♥', '2♦', '2♣', 'J♦')\n",
    "hand_names[id_hand(hand)]"
   ]
  },
  {
   "cell_type": "code",
   "execution_count": 6,
   "id": "2c7dcbcb",
   "metadata": {},
   "outputs": [
    {
     "name": "stdout",
     "output_type": "stream",
     "text": [
      "0.00% (0 of 2,598,960)\n",
      "3.85% (100,000 of 2,598,960)\n",
      "7.70% (200,000 of 2,598,960)\n",
      "11.54% (300,000 of 2,598,960)\n",
      "15.39% (400,000 of 2,598,960)\n",
      "19.24% (500,000 of 2,598,960)\n",
      "23.09% (600,000 of 2,598,960)\n",
      "26.93% (700,000 of 2,598,960)\n",
      "30.78% (800,000 of 2,598,960)\n",
      "34.63% (900,000 of 2,598,960)\n",
      "38.48% (1,000,000 of 2,598,960)\n",
      "42.32% (1,100,000 of 2,598,960)\n",
      "46.17% (1,200,000 of 2,598,960)\n",
      "50.02% (1,300,000 of 2,598,960)\n",
      "53.87% (1,400,000 of 2,598,960)\n",
      "57.72% (1,500,000 of 2,598,960)\n",
      "61.56% (1,600,000 of 2,598,960)\n",
      "65.41% (1,700,000 of 2,598,960)\n",
      "69.26% (1,800,000 of 2,598,960)\n",
      "73.11% (1,900,000 of 2,598,960)\n",
      "76.95% (2,000,000 of 2,598,960)\n",
      "80.80% (2,100,000 of 2,598,960)\n",
      "84.65% (2,200,000 of 2,598,960)\n",
      "88.50% (2,300,000 of 2,598,960)\n",
      "92.34% (2,400,000 of 2,598,960)\n",
      "96.19% (2,500,000 of 2,598,960)\n",
      "Complete!\n",
      "Wall time: 1min 22s\n"
     ]
    }
   ],
   "source": [
    "%%time\n",
    "\n",
    "# count all hands\n",
    "# run-time ~ 1.25 min\n",
    "\n",
    "hand_counts = dict()\n",
    "hands_len = len(hands)\n",
    "for i, hand in enumerate(hands):\n",
    "    \n",
    "    if i % 100_000 == 0:\n",
    "        print(f'{i/hands_len:.2%} ({i:,} of {hands_len:,})')\n",
    "    \n",
    "    hand_type = id_hand(hand)\n",
    "    \n",
    "    if hand_type not in hand_counts:\n",
    "        hand_counts[hand_type] = 1\n",
    "    else:\n",
    "        hand_counts[hand_type] += 1\n",
    "    \n",
    "print('Complete!')"
   ]
  },
  {
   "cell_type": "code",
   "execution_count": 7,
   "id": "f67d0ee4",
   "metadata": {},
   "outputs": [
    {
     "name": "stdout",
     "output_type": "stream",
     "text": [
      "Straight flush\t: \t 0.001539% \t (40 / 2598960)\n",
      "4 of a kind\t: \t 0.024010% \t (624 / 2598960)\n",
      "Full house\t: \t 0.144058% \t (3744 / 2598960)\n",
      "Flush\t\t: \t 0.196540% \t (5108 / 2598960)\n",
      "Straight\t: \t 0.392465% \t (10200 / 2598960)\n",
      "3 of a kind\t: \t 2.112845% \t (54912 / 2598960)\n",
      "2 pair\t\t: \t 4.753902% \t (123552 / 2598960)\n",
      "Pair\t\t: \t 42.256903% \t (1098240 / 2598960)\n",
      "High card\t: \t 50.117739% \t (1302540 / 2598960)\n"
     ]
    }
   ],
   "source": [
    "for num in sorted(hand_counts):\n",
    "    \n",
    "    count = hand_counts[num]\n",
    "    \n",
    "    print(f'{hand_names[num]}\\t: \\t {count / hands_len:%} \\t ({count} / {hands_len})')"
   ]
  },
  {
   "cell_type": "code",
   "execution_count": null,
   "id": "e10da472",
   "metadata": {},
   "outputs": [],
   "source": []
  }
 ],
 "metadata": {
  "kernelspec": {
   "display_name": "Python 3",
   "language": "python",
   "name": "python3"
  },
  "language_info": {
   "codemirror_mode": {
    "name": "ipython",
    "version": 3
   },
   "file_extension": ".py",
   "mimetype": "text/x-python",
   "name": "python",
   "nbconvert_exporter": "python",
   "pygments_lexer": "ipython3",
   "version": "3.8.5"
  }
 },
 "nbformat": 4,
 "nbformat_minor": 5
}
