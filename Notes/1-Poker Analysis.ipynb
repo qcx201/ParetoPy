{
 "cells": [
  {
   "cell_type": "markdown",
   "id": "862b8abb",
   "metadata": {},
   "source": [
    "# Poker Analysis"
   ]
  },
  {
   "cell_type": "markdown",
   "id": "4e38586d",
   "metadata": {},
   "source": [
    "### Preamble"
   ]
  },
  {
   "cell_type": "code",
   "execution_count": 1,
   "id": "406e1571",
   "metadata": {},
   "outputs": [
    {
     "name": "stdout",
     "output_type": "stream",
     "text": [
      "2,598,960\n",
      "Wall time: 509 ms\n"
     ]
    }
   ],
   "source": [
    "%%time\n",
    "\n",
    "# create list of ranks and suits\n",
    "ranks = [str(n) for n in range(2, 10)] + list('TJQKA')\n",
    "suits = list('♠️♥️♦️♣️')[::2]\n",
    "\n",
    "# create string of ranks\n",
    "straight_ranks_str = 'A' + ''.join(ranks)\n",
    "\n",
    "# create list of cards\n",
    "cards = [r+s for s in suits for r in ranks]\n",
    "\n",
    "# create all combinations of 5 card hands ()\n",
    "from itertools import combinations\n",
    "hands = list(combinations(cards, 5))\n",
    "\n",
    "print(f'{len(hands):,}') # check length\n"
   ]
  },
  {
   "cell_type": "markdown",
   "id": "6e9e6c8b",
   "metadata": {},
   "source": [
    "### Intermediary Functions"
   ]
  },
  {
   "cell_type": "code",
   "execution_count": 2,
   "id": "a9c97007",
   "metadata": {},
   "outputs": [
    {
     "name": "stdout",
     "output_type": "stream",
     "text": [
      "{'4': 1, '2': 1, '3': 1, 'J': 2}\n",
      "{'♠': 4, '♣': 1}\n"
     ]
    }
   ],
   "source": [
    "def group_by(hand, by_rank=True):\n",
    "    \n",
    "    # check if by rank or by suit\n",
    "    if by_rank:\n",
    "        i = 0\n",
    "    else:\n",
    "        i = 1\n",
    "        \n",
    "    hand_ranks = []\n",
    "    for card in hand:\n",
    "        hand_ranks.append(card[i])\n",
    "\n",
    "    # create dictionary with count by group\n",
    "    res = dict()\n",
    "    for rank in set(hand_ranks):\n",
    "        res[rank] = hand_ranks.count(rank)\n",
    "    \n",
    "    return res\n",
    "\n",
    "# test function\n",
    "hand = ('2♠', '3♠', '4♠', 'J♠', 'J♣')\n",
    "print(group_by(hand))\n",
    "print(group_by(hand, by_rank=False))"
   ]
  },
  {
   "cell_type": "code",
   "execution_count": 3,
   "id": "8ce6e997",
   "metadata": {},
   "outputs": [
    {
     "name": "stdout",
     "output_type": "stream",
     "text": [
      "True\n"
     ]
    }
   ],
   "source": [
    "def is_straight(rank_group, n=5):\n",
    "    \n",
    "\n",
    "    # sort ranks\n",
    "    ranks_str = ''.join(\n",
    "        sorted(\n",
    "            set(rank_group),\n",
    "            key=lambda x : straight_ranks_str.index(x) # sort by index in straight_ranks\n",
    "        )\n",
    "    )\n",
    "    \n",
    "    # iterate n-lengthed substrings\n",
    "    for i in range(len(ranks_str)-n+1):\n",
    "\n",
    "        ranks_substr = ranks_str[i:i+n]\n",
    "\n",
    "        # check if n-substring is in straight string\n",
    "        if ranks_substr in straight_ranks_str:\n",
    "            return True\n",
    "        \n",
    "    # special case of Ace at the end\n",
    "    if ranks_str[-4:] + ranks_str[0] in straight_ranks_str:\n",
    "        return True\n",
    "\n",
    "    return False\n",
    "\n",
    "# test function\n",
    "hand = ('2♠', '3♠', '4♠', '6♠', 'J♣', '5♣')\n",
    "rank_group = group_by(hand)\n",
    "print(is_straight(rank_group))"
   ]
  },
  {
   "cell_type": "code",
   "execution_count": 4,
   "id": "d7ef8bd2",
   "metadata": {},
   "outputs": [
    {
     "name": "stdout",
     "output_type": "stream",
     "text": [
      "Straight flush \t.\n",
      "4 of a kind \t.\n",
      "Full house \t.\n",
      "Flush\t \t.\n",
      "Straight \t.\n",
      "3 of a kind \t.\n",
      "2 pair\t \t.\n",
      "Pair\t \t.\n",
      "High card \t.\n"
     ]
    }
   ],
   "source": [
    "# dictionary of hand names\n",
    "\n",
    "hand_names = {\n",
    "    \n",
    "    1 : 'Straight flush',\n",
    "    2 : '4 of a kind',\n",
    "    3 : 'Full house',\n",
    "    4 : 'Flush\\t',\n",
    "    5 : 'Straight',\n",
    "    6 : '3 of a kind',\n",
    "    7 : '2 pair\\t',\n",
    "    8 : 'Pair\\t',\n",
    "    9 : 'High card'\n",
    "}\n",
    "\n",
    "# check print alignment\n",
    "for name in hand_names:\n",
    "    print(hand_names[name], '\\t.')"
   ]
  },
  {
   "cell_type": "code",
   "execution_count": 5,
   "id": "bef3c7d4",
   "metadata": {},
   "outputs": [
    {
     "data": {
      "text/plain": [
       "'4 of a kind'"
      ]
     },
     "execution_count": 5,
     "metadata": {},
     "output_type": "execute_result"
    }
   ],
   "source": [
    "def id_hand(hand):\n",
    "    \n",
    "    # dictionary of ranks and counts\n",
    "    rank_group = group_by(hand) \n",
    "    rank_counts = list(rank_group.values()) # just counts of ranks\n",
    "    \n",
    "    # dictionary of suits and counts\n",
    "    suit_group = group_by(hand, by_rank=False)\n",
    "    suit_counts = list(suit_group.values()) # just count of suits\n",
    "    \n",
    "    \n",
    "    ## straight flush\n",
    "    \n",
    "    # create dictionary of ranks by suit\n",
    "    suited_ranks = {suit : set() for suit in suit_group}\n",
    "    for rank, suit in hand:\n",
    "        suited_ranks[suit].add(rank)\n",
    "\n",
    "    # for set of same-suited ranks\n",
    "    for suited_rank in suited_ranks.values():\n",
    "\n",
    "        # join ranks in a string\n",
    "        if is_straight(suited_rank):\n",
    "            return 1\n",
    "        \n",
    "    \n",
    "    ## four of a kind\n",
    "    k = 4\n",
    "    if (k in rank_counts):\n",
    "        return 2\n",
    "    \n",
    "    ## full house\n",
    "    if 2 in rank_counts and 3 in rank_counts:\n",
    "        return 3\n",
    "    \n",
    "    ## flush\n",
    "    if 5 in suit_counts:\n",
    "        return 4\n",
    "    \n",
    "    ## straight\n",
    "    if is_straight(rank_group):\n",
    "        return 5\n",
    "    \n",
    "    ## three of a kind\n",
    "    k = 3\n",
    "    if (k in rank_counts):\n",
    "        return 6\n",
    "    \n",
    "    ## two pair\n",
    "    if rank_counts.count(2) >= 2:\n",
    "        return 7\n",
    "    \n",
    "    ## pair\n",
    "    k = 2\n",
    "    if (k in rank_counts):\n",
    "        return 8\n",
    "    \n",
    "    \n",
    "    ## last and least: high card\n",
    "    return 9\n",
    "\n",
    "# test\n",
    "hand = ('2♠', '2♥', '2♦', '2♣', 'J♦')\n",
    "hand_names[id_hand(hand)]"
   ]
  },
  {
   "cell_type": "markdown",
   "id": "9868d89f",
   "metadata": {},
   "source": [
    "### Results"
   ]
  },
  {
   "cell_type": "code",
   "execution_count": 6,
   "id": "493bb14b",
   "metadata": {},
   "outputs": [
    {
     "name": "stdout",
     "output_type": "stream",
     "text": [
      "0.00% \t (0 of 2,598,960)\n",
      "3.85% \t (100,000 of 2,598,960)\n",
      "7.70% \t (200,000 of 2,598,960)\n",
      "11.54% \t (300,000 of 2,598,960)\n",
      "15.39% \t (400,000 of 2,598,960)\n",
      "19.24% \t (500,000 of 2,598,960)\n",
      "23.09% \t (600,000 of 2,598,960)\n",
      "26.93% \t (700,000 of 2,598,960)\n",
      "30.78% \t (800,000 of 2,598,960)\n",
      "34.63% \t (900,000 of 2,598,960)\n",
      "38.48% \t (1,000,000 of 2,598,960)\n",
      "42.32% \t (1,100,000 of 2,598,960)\n",
      "46.17% \t (1,200,000 of 2,598,960)\n",
      "50.02% \t (1,300,000 of 2,598,960)\n",
      "53.87% \t (1,400,000 of 2,598,960)\n",
      "57.72% \t (1,500,000 of 2,598,960)\n",
      "61.56% \t (1,600,000 of 2,598,960)\n",
      "65.41% \t (1,700,000 of 2,598,960)\n",
      "69.26% \t (1,800,000 of 2,598,960)\n",
      "73.11% \t (1,900,000 of 2,598,960)\n",
      "76.95% \t (2,000,000 of 2,598,960)\n",
      "80.80% \t (2,100,000 of 2,598,960)\n",
      "84.65% \t (2,200,000 of 2,598,960)\n",
      "88.50% \t (2,300,000 of 2,598,960)\n",
      "92.34% \t (2,400,000 of 2,598,960)\n",
      "96.19% \t (2,500,000 of 2,598,960)\n",
      "Complete!\n",
      "Wall time: 1min 44s\n"
     ]
    }
   ],
   "source": [
    "%%time\n",
    "\n",
    "# count all hands\n",
    "# run-time ~ 1.25 min\n",
    "\n",
    "hand_counts = dict()\n",
    "hands_len = len(hands)\n",
    "for i, hand in enumerate(hands):\n",
    "    \n",
    "    if i % 100_000 == 0:\n",
    "        print(f'{i/hands_len:.2%} \\t ({i:,} of {hands_len:,})')\n",
    "    \n",
    "    hand_type = id_hand(hand)\n",
    "    \n",
    "    if hand_type not in hand_counts:\n",
    "        hand_counts[hand_type] = 1\n",
    "    else:\n",
    "        hand_counts[hand_type] += 1\n",
    "    \n",
    "print('Complete!')"
   ]
  },
  {
   "cell_type": "code",
   "execution_count": 7,
   "id": "c37820f7",
   "metadata": {},
   "outputs": [
    {
     "name": "stdout",
     "output_type": "stream",
     "text": [
      "Straight flush\t: \t 0.001539% \t (40 / 2598960)\n",
      "4 of a kind\t: \t 0.024010% \t (624 / 2598960)\n",
      "Full house\t: \t 0.144058% \t (3744 / 2598960)\n",
      "Flush\t\t: \t 0.196540% \t (5108 / 2598960)\n",
      "Straight\t: \t 0.392465% \t (10200 / 2598960)\n",
      "3 of a kind\t: \t 2.112845% \t (54912 / 2598960)\n",
      "2 pair\t\t: \t 4.753902% \t (123552 / 2598960)\n",
      "Pair\t\t: \t 42.256903% \t (1098240 / 2598960)\n",
      "High card\t: \t 50.117739% \t (1302540 / 2598960)\n"
     ]
    }
   ],
   "source": [
    "for num in sorted(hand_counts):\n",
    "    \n",
    "    count = hand_counts[num]\n",
    "    \n",
    "    print(f'{hand_names[num]}\\t: \\t {count / hands_len:%} \\t ({count} in {hands_len})')"
   ]
  },
  {
   "cell_type": "markdown",
   "id": "24f7427f",
   "metadata": {},
   "source": [
    "### Seven-card hands (Texas Hold'em)"
   ]
  },
  {
   "cell_type": "code",
   "execution_count": 8,
   "id": "2201bf0f",
   "metadata": {},
   "outputs": [
    {
     "name": "stdout",
     "output_type": "stream",
     "text": [
      "133,784,560\n",
      "Wall time: 37.4 s\n"
     ]
    }
   ],
   "source": [
    "%%time\n",
    "seven_card_hands = list(combinations(cards, 7))\n",
    "\n",
    "print(f'{len(seven_card_hands):,}') # check length"
   ]
  },
  {
   "cell_type": "code",
   "execution_count": 12,
   "id": "8d437a39",
   "metadata": {},
   "outputs": [],
   "source": [
    "import time\n",
    "report_time = lambda t : f'{t // 3600:.0f}h {(t // 60) % 60:.0f}m {t % 60:.0f}s'\n",
    "\n",
    "\n",
    "def count_hands(hands, update=100_000):\n",
    "\n",
    "    # count all hands\n",
    "    t0 = time.time()\n",
    "\n",
    "    hand_counts = dict()\n",
    "    hands_len = len(hands)\n",
    "\n",
    "    for i, hand in enumerate(hands):\n",
    "\n",
    "        if i % update == 0:\n",
    "\n",
    "            print(f'{i/hands_len:.2%} \\t ({i:,} of {hands_len:,})')\n",
    "\n",
    "            dt = time.time() - t0 # change\n",
    "            eta = dt * (hands_len-i)/ (i+1) # remaining time\n",
    "            print(f'Elapsed:', report_time(dt))\n",
    "            print(f'ETA:', report_time(eta))\n",
    "            print('-'*15)\n",
    "\n",
    "        hand_type = id_hand(hand)\n",
    "\n",
    "        if hand_type not in hand_counts:\n",
    "            hand_counts[hand_type] = 1\n",
    "        else:\n",
    "            hand_counts[hand_type] += 1\n",
    "\n",
    "    print('Complete!')\n",
    "\n",
    "    return hand_counts"
   ]
  },
  {
   "cell_type": "code",
   "execution_count": 13,
   "id": "37b82309",
   "metadata": {},
   "outputs": [
    {
     "name": "stdout",
     "output_type": "stream",
     "text": [
      "0.00% \t (0 of 133,784,560)\n",
      "Elapsed: 0h 0m 0s\n",
      "ETA: 38h 39m 25s\n",
      "---------------\n",
      "0.37% \t (500,000 of 133,784,560)\n",
      "Elapsed: 0h 0m 21s\n",
      "ETA: 1h 31m 13s\n",
      "---------------\n",
      "0.75% \t (1,000,000 of 133,784,560)\n",
      "Elapsed: 0h 0m 42s\n",
      "ETA: 1h 32m 7s\n",
      "---------------\n",
      "1.12% \t (1,500,000 of 133,784,560)\n",
      "Elapsed: 0h 1m 3s\n",
      "ETA: 1h 33m 12s\n",
      "---------------\n",
      "1.49% \t (2,000,000 of 133,784,560)\n",
      "Elapsed: 0h 1m 25s\n",
      "ETA: 1h 33m 33s\n",
      "---------------\n",
      "1.87% \t (2,500,000 of 133,784,560)\n",
      "Elapsed: 0h 1m 46s\n",
      "ETA: 1h 32m 39s\n",
      "---------------\n",
      "2.24% \t (3,000,000 of 133,784,560)\n",
      "Elapsed: 0h 2m 11s\n",
      "ETA: 1h 35m 28s\n",
      "---------------\n",
      "2.62% \t (3,500,000 of 133,784,560)\n",
      "Elapsed: 0h 2m 37s\n",
      "ETA: 1h 37m 16s\n",
      "---------------\n",
      "2.99% \t (4,000,000 of 133,784,560)\n",
      "Elapsed: 0h 3m 1s\n",
      "ETA: 1h 37m 42s\n",
      "---------------\n",
      "3.36% \t (4,500,000 of 133,784,560)\n",
      "Elapsed: 0h 3m 22s\n",
      "ETA: 1h 36m 33s\n",
      "---------------\n",
      "3.74% \t (5,000,000 of 133,784,560)\n",
      "Elapsed: 0h 3m 45s\n",
      "ETA: 1h 36m 39s\n",
      "---------------\n",
      "4.11% \t (5,500,000 of 133,784,560)\n",
      "Elapsed: 0h 4m 9s\n",
      "ETA: 1h 36m 50s\n",
      "---------------\n",
      "4.48% \t (6,000,000 of 133,784,560)\n",
      "Elapsed: 0h 4m 34s\n",
      "ETA: 1h 37m 11s\n",
      "---------------\n"
     ]
    },
    {
     "ename": "KeyboardInterrupt",
     "evalue": "",
     "output_type": "error",
     "traceback": [
      "\u001b[1;31m---------------------------------------------------------------------------\u001b[0m",
      "\u001b[1;31mKeyboardInterrupt\u001b[0m                         Traceback (most recent call last)",
      "\u001b[1;32m<ipython-input-13-2611a1d5b542>\u001b[0m in \u001b[0;36m<module>\u001b[1;34m\u001b[0m\n\u001b[0;32m      1\u001b[0m \u001b[1;31m# ETA > 1 hr\u001b[0m\u001b[1;33m\u001b[0m\u001b[1;33m\u001b[0m\u001b[1;33m\u001b[0m\u001b[0m\n\u001b[0;32m      2\u001b[0m \u001b[1;33m\u001b[0m\u001b[0m\n\u001b[1;32m----> 3\u001b[1;33m \u001b[0mcount7\u001b[0m \u001b[1;33m=\u001b[0m \u001b[0mcount_hands\u001b[0m\u001b[1;33m(\u001b[0m\u001b[0mseven_card_hands\u001b[0m\u001b[1;33m,\u001b[0m \u001b[0mupdate\u001b[0m\u001b[1;33m=\u001b[0m\u001b[1;36m500_000\u001b[0m\u001b[1;33m)\u001b[0m\u001b[1;33m\u001b[0m\u001b[1;33m\u001b[0m\u001b[0m\n\u001b[0m",
      "\u001b[1;32m<ipython-input-12-f9f48b431a53>\u001b[0m in \u001b[0;36mcount_hands\u001b[1;34m(hands, update)\u001b[0m\n\u001b[0;32m     23\u001b[0m             \u001b[0mprint\u001b[0m\u001b[1;33m(\u001b[0m\u001b[1;34m'-'\u001b[0m\u001b[1;33m*\u001b[0m\u001b[1;36m15\u001b[0m\u001b[1;33m)\u001b[0m\u001b[1;33m\u001b[0m\u001b[1;33m\u001b[0m\u001b[0m\n\u001b[0;32m     24\u001b[0m \u001b[1;33m\u001b[0m\u001b[0m\n\u001b[1;32m---> 25\u001b[1;33m         \u001b[0mhand_type\u001b[0m \u001b[1;33m=\u001b[0m \u001b[0mid_hand\u001b[0m\u001b[1;33m(\u001b[0m\u001b[0mhand\u001b[0m\u001b[1;33m)\u001b[0m\u001b[1;33m\u001b[0m\u001b[1;33m\u001b[0m\u001b[0m\n\u001b[0m\u001b[0;32m     26\u001b[0m \u001b[1;33m\u001b[0m\u001b[0m\n\u001b[0;32m     27\u001b[0m         \u001b[1;32mif\u001b[0m \u001b[0mhand_type\u001b[0m \u001b[1;32mnot\u001b[0m \u001b[1;32min\u001b[0m \u001b[0mhand_counts\u001b[0m\u001b[1;33m:\u001b[0m\u001b[1;33m\u001b[0m\u001b[1;33m\u001b[0m\u001b[0m\n",
      "\u001b[1;32m<ipython-input-5-666b1943880d>\u001b[0m in \u001b[0;36mid_hand\u001b[1;34m(hand)\u001b[0m\n\u001b[0;32m      2\u001b[0m \u001b[1;33m\u001b[0m\u001b[0m\n\u001b[0;32m      3\u001b[0m     \u001b[1;31m# dictionary of ranks and counts\u001b[0m\u001b[1;33m\u001b[0m\u001b[1;33m\u001b[0m\u001b[1;33m\u001b[0m\u001b[0m\n\u001b[1;32m----> 4\u001b[1;33m     \u001b[0mrank_group\u001b[0m \u001b[1;33m=\u001b[0m \u001b[0mgroup_by\u001b[0m\u001b[1;33m(\u001b[0m\u001b[0mhand\u001b[0m\u001b[1;33m)\u001b[0m\u001b[1;33m\u001b[0m\u001b[1;33m\u001b[0m\u001b[0m\n\u001b[0m\u001b[0;32m      5\u001b[0m     \u001b[0mrank_counts\u001b[0m \u001b[1;33m=\u001b[0m \u001b[0mlist\u001b[0m\u001b[1;33m(\u001b[0m\u001b[0mrank_group\u001b[0m\u001b[1;33m.\u001b[0m\u001b[0mvalues\u001b[0m\u001b[1;33m(\u001b[0m\u001b[1;33m)\u001b[0m\u001b[1;33m)\u001b[0m \u001b[1;31m# just counts of ranks\u001b[0m\u001b[1;33m\u001b[0m\u001b[1;33m\u001b[0m\u001b[0m\n\u001b[0;32m      6\u001b[0m \u001b[1;33m\u001b[0m\u001b[0m\n",
      "\u001b[1;32m<ipython-input-2-ada15be1940f>\u001b[0m in \u001b[0;36mgroup_by\u001b[1;34m(hand, by_rank)\u001b[0m\n\u001b[0;32m     13\u001b[0m     \u001b[1;31m# create dictionary with count by group\u001b[0m\u001b[1;33m\u001b[0m\u001b[1;33m\u001b[0m\u001b[1;33m\u001b[0m\u001b[0m\n\u001b[0;32m     14\u001b[0m     \u001b[0mres\u001b[0m \u001b[1;33m=\u001b[0m \u001b[0mdict\u001b[0m\u001b[1;33m(\u001b[0m\u001b[1;33m)\u001b[0m\u001b[1;33m\u001b[0m\u001b[1;33m\u001b[0m\u001b[0m\n\u001b[1;32m---> 15\u001b[1;33m     \u001b[1;32mfor\u001b[0m \u001b[0mrank\u001b[0m \u001b[1;32min\u001b[0m \u001b[0mset\u001b[0m\u001b[1;33m(\u001b[0m\u001b[0mhand_ranks\u001b[0m\u001b[1;33m)\u001b[0m\u001b[1;33m:\u001b[0m\u001b[1;33m\u001b[0m\u001b[1;33m\u001b[0m\u001b[0m\n\u001b[0m\u001b[0;32m     16\u001b[0m         \u001b[0mres\u001b[0m\u001b[1;33m[\u001b[0m\u001b[0mrank\u001b[0m\u001b[1;33m]\u001b[0m \u001b[1;33m=\u001b[0m \u001b[0mhand_ranks\u001b[0m\u001b[1;33m.\u001b[0m\u001b[0mcount\u001b[0m\u001b[1;33m(\u001b[0m\u001b[0mrank\u001b[0m\u001b[1;33m)\u001b[0m\u001b[1;33m\u001b[0m\u001b[1;33m\u001b[0m\u001b[0m\n\u001b[0;32m     17\u001b[0m \u001b[1;33m\u001b[0m\u001b[0m\n",
      "\u001b[1;31mKeyboardInterrupt\u001b[0m: "
     ]
    }
   ],
   "source": [
    "# ETA > 1 hr\n",
    "\n",
    "count7 = count_hands(seven_card_hands, update=500_000)"
   ]
  },
  {
   "cell_type": "code",
   "execution_count": null,
   "id": "dddebb2f",
   "metadata": {},
   "outputs": [],
   "source": []
  }
 ],
 "metadata": {
  "kernelspec": {
   "display_name": "Python 3",
   "language": "python",
   "name": "python3"
  },
  "language_info": {
   "codemirror_mode": {
    "name": "ipython",
    "version": 3
   },
   "file_extension": ".py",
   "mimetype": "text/x-python",
   "name": "python",
   "nbconvert_exporter": "python",
   "pygments_lexer": "ipython3",
   "version": "3.8.5"
  }
 },
 "nbformat": 4,
 "nbformat_minor": 5
}
