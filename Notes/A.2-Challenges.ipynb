{
 "cells": [
  {
   "cell_type": "markdown",
   "id": "99a5d2ee",
   "metadata": {},
   "source": [
    "[**Challenge 0**](#Challenge-0)\n",
    "\n",
    "[**Challenge 1**](#Challenge-1)\n",
    "\n",
    "[**Challenge 2**](#Challenge-2)\n",
    "\n",
    "[**Challenge 3**](#Challenge-3)\n",
    "\n",
    "[**Challenge 4**](#Challenge-4)"
   ]
  },
  {
   "cell_type": "markdown",
   "id": "46e1e80a",
   "metadata": {},
   "source": [
    "\n",
    "# Challenge 0\n",
    "To infinity and beyond 🚀"
   ]
  },
  {
   "cell_type": "markdown",
   "id": "e48f653a",
   "metadata": {},
   "source": [
    "**(Warm-Up)**\n",
    "\n",
    "A pizza delivery boy accidentally falls into a cryogenic chamber on New Years Eve, 1999, and is reanimated in the year 3000. \n",
    "\n",
    "At the time of his freezing, he had $0.93 in his bank account. Assuming an average 2.25\\% interest rate compounded annually, how much money will he have in the bank when he wakes up?\n",
    "\n",
    "Double check: https://www.youtube.com/watch?v=6JwkaLt9pf8\n",
    "\n",
    "---"
   ]
  },
  {
   "cell_type": "code",
   "execution_count": 1,
   "id": "fcd31dea",
   "metadata": {},
   "outputs": [
    {
     "name": "stdout",
     "output_type": "stream",
     "text": [
      "With $0.93 in the bank and 2.25% interest compounded annually over 1000 years...\n",
      "... his balance will be $4,283,508,449.71.\n"
     ]
    }
   ],
   "source": [
    "# warm-up\n",
    "\n",
    "principal = 0.93\n",
    "apr = 2.25 / 100\n",
    "t = 1000\n",
    "\n",
    "balance = principal * (1+apr)**t\n",
    "\n",
    "print(f'With ${principal} in the bank and {apr:.2%} interest compounded annually over {t} years...')\n",
    "print(f'... his balance will be ${balance:,.2f}.')"
   ]
  },
  {
   "cell_type": "markdown",
   "id": "3f20225a",
   "metadata": {},
   "source": [
    "**(Challenge)**\n",
    "\n",
    "Suppose a mile is **1.609 km**, and the speed of light is **299,792,458 m/s** in a vacuum. The average distance between the Earth and the Sun is called an astronomical unit, or AU, which is about **92,955,807 miles**. How many **`astronomical units`** are there in a **`light-year`**?\n",
    "\n",
    "<!-- Share your solution below! Remember to use\n",
    "\n",
    "> ```python\n",
    "> # your code here\n",
    "> ```\n",
    "\n",
    "to format your code nicely 👌\n",
    "\n",
    "--- -->"
   ]
  },
  {
   "cell_type": "code",
   "execution_count": 2,
   "id": "47912a65",
   "metadata": {},
   "outputs": [
    {
     "name": "stdout",
     "output_type": "stream",
     "text": [
      "AU per light-year: 63254.598047256135\n"
     ]
    }
   ],
   "source": [
    "# challenge\n",
    "\n",
    "c_mps = 299_792_458    # m/s\n",
    "mi_per_au = 92_955_807 # miles\n",
    "km_per_mi = 1.609      # km / mile\n",
    "\n",
    "c_kmps = c_mps / 1000             # km/s\n",
    "km_per_au = mi_per_au * km_per_mi # km\n",
    "\n",
    "# seconds in year: 365.25 days/year x 24 hr/day x 60 m/hr x 60 s/m\n",
    "spy = 365.25 * 24 * 60 * 60 # s/year\n",
    "\n",
    "lyr_km = c_kmps * spy # lyr in km\n",
    "\n",
    "lyr_per_au = lyr_km / km_per_au # result\n",
    "\n",
    "print('AU per light-year:', lyr_per_au)"
   ]
  },
  {
   "cell_type": "code",
   "execution_count": null,
   "id": "d4da2eb3",
   "metadata": {},
   "outputs": [],
   "source": []
  },
  {
   "cell_type": "markdown",
   "id": "2ffc962c",
   "metadata": {},
   "source": [
    "# Challenge 1\n",
    "999,999,997... 999,999,998... 999,999,999... ⌛"
   ]
  },
  {
   "cell_type": "markdown",
   "id": "86006e1b",
   "metadata": {},
   "source": [
    "**(Warm-up)**\n",
    "\n",
    "What is **`1000`** seconds in minutes and seconds? Print it in the format **`mm:ss`**.\n",
    "\n",
    "---"
   ]
  },
  {
   "cell_type": "code",
   "execution_count": 3,
   "id": "e0176498",
   "metadata": {},
   "outputs": [
    {
     "name": "stdout",
     "output_type": "stream",
     "text": [
      "1000 seconds is equal to 16 m 40 s\n"
     ]
    }
   ],
   "source": [
    "# warm-up\n",
    "\n",
    "t = 1000\n",
    "print(t, \"seconds is equal to\", t//60, \"m\", t%60, \"s\")"
   ]
  },
  {
   "cell_type": "markdown",
   "id": "2d696587",
   "metadata": {},
   "source": [
    "**(Challenge)**\n",
    "\n",
    "One million seconds is equal to __11 days, 13 hours, 46 minutes and 40 seconds__ (according to quora).\n",
    "\n",
    "Print **`one billion seconds`** in years, days, hours, minutes, and seconds.\n",
    "\n",
    "<!-- Share your solution below! Remember to use\n",
    "\n",
    "```python\n",
    "# your code here\n",
    "```\n",
    "\n",
    "\n",
    "to format your code nicely 👌\n",
    "\n",
    "--- -->"
   ]
  },
  {
   "cell_type": "code",
   "execution_count": 4,
   "id": "f3879358",
   "metadata": {},
   "outputs": [
    {
     "name": "stdout",
     "output_type": "stream",
     "text": [
      "31 years 8 months 7 days 1 hours 46 minutes 40.0 seconds\n"
     ]
    }
   ],
   "source": [
    "# challenge\n",
    "\n",
    "t = 1e9\n",
    "\n",
    "# modulo bases: amount of each unit before overflow\n",
    "m_s = 60           # seconds\n",
    "m_mi = 60          # minutes\n",
    "m_hr = 24          # hours\n",
    "m_dy = 365.25 / 12 # days in an average year\n",
    "m_mo = 12          # months\n",
    "\n",
    "# bases: seconds in each unit denom\n",
    "b_mi = 60 \n",
    "b_hr = b_mi * m_mi # s/hr : 60 * 60\n",
    "b_dy = b_hr * m_hr # s/dy : 60 * 60 * 24\n",
    "b_mo = b_dy * m_dy # s/mo : 60 * 60 * 24 * 365.25/12\n",
    "b_yr = b_mo * m_mo # s/yr : 60 * 60 * 24 * 365.25/12 * 12\n",
    "\n",
    "s = t % m_s\n",
    "mi = int((t // b_mi) % m_mi)\n",
    "hr = int((t // b_hr) % m_hr)\n",
    "dy = int((t // b_dy) % m_dy)\n",
    "mo = int((t // b_mo) % m_mo)\n",
    "yr = int(t // b_yr)\n",
    "\n",
    "print(yr, \"years\", mo, \"months\", dy, \"days\", hr, \"hours\", mi, \"minutes\" , s, \"seconds\")"
   ]
  },
  {
   "cell_type": "code",
   "execution_count": 5,
   "id": "e7908651",
   "metadata": {},
   "outputs": [
    {
     "name": "stdout",
     "output_type": "stream",
     "text": [
      " 31 years 8 months 7 days 1 hour 46 minutes 40 seconds\n"
     ]
    }
   ],
   "source": [
    "# solution robust to arbritrary time units and unit plurality\n",
    "t = 1e9\n",
    "\n",
    "# units [mod base, unit name singular, unit name plural]\n",
    "mods = [[60, 'second', 'seconds'],\n",
    "        [60, 'minute', 'minutes'],\n",
    "        [24, 'hour', 'hours'],\n",
    "        [365.25/12, 'day', 'days'],\n",
    "        [12, 'month', 'months'],\n",
    "        [100, 'year', 'years'],\n",
    "        [10, 'century', 'centuries'],\n",
    "        [1_000_000, 'millenium', 'millenia'],\n",
    "        [None, 'eon', 'eons'] # none for unmodulated\n",
    "       ]\n",
    "\n",
    "\n",
    "# result and first base\n",
    "msg, base = '', 1\n",
    "\n",
    "# ensure last round (t % base) == t\n",
    "mods[-1][0] = t + 1\n",
    "\n",
    "for mod, sing_unit, plur_unit in mods:\n",
    "    \n",
    "    # calculate unit value (integer seconds per base modulated)\n",
    "    val = int((t // base) % mod)\n",
    "\n",
    "    # update base value\n",
    "    base *= mod\n",
    "\n",
    "    # time unit singular/plural with boolean multiplcation\n",
    "    unit = sing_unit * (val <= 1) + plur_unit * (val > 1)\n",
    "    \n",
    "    # add to result string if unit value >= 1\n",
    "    msg = (val >= 1) * f' {val} {unit}' + msg # use plural unit\n",
    "    \n",
    "print(msg)"
   ]
  },
  {
   "cell_type": "markdown",
   "id": "de11a1a2",
   "metadata": {},
   "source": [
    "# Challenge 2\n",
    "To 1 or not to 1? 💀"
   ]
  },
  {
   "cell_type": "markdown",
   "id": "0cf72e97",
   "metadata": {},
   "source": [
    "**(Warm-up)**\n",
    "\n",
    "Given a string that tells 24-hr time*, convert it to a string that tells 12-hr time.\n",
    "```python\n",
    "# for example, if\n",
    "t_24h = \"23:45\"\n",
    "\n",
    "# then your result should be\n",
    "t_12h = # \"11:45\"\n",
    "\n",
    "print (t_12h)\n",
    "```\n",
    "*Assume the hour is zero-padded, e.g. \"01:00\" instead of \"1:00\".\n",
    "\n",
    "---"
   ]
  },
  {
   "cell_type": "code",
   "execution_count": 6,
   "id": "3ec27a50",
   "metadata": {},
   "outputs": [
    {
     "name": "stdout",
     "output_type": "stream",
     "text": [
      "11:45 pm\n"
     ]
    }
   ],
   "source": [
    "# warm-up\n",
    "t_24h = \"23:45\"\n",
    "\n",
    "# get string index of \":\"\n",
    "colon_index = t_24h.find(':')\n",
    "\n",
    "# slice hour and set to integer\n",
    "h_24 = int(t_24h[:colon_index])\n",
    "\n",
    "# modulate over 12\n",
    "h_12 = h_24 % 12\n",
    "\n",
    "# add 12hr hour to minutes\n",
    "t_12h = str(h_12) + t_24h[colon_index:]\n",
    "\n",
    "# check if over 12: can also use boolean operator here\n",
    "over_12 = h_24 // 12\n",
    "\n",
    "# add pm / am if over 12\n",
    "t_12h += ' pm' * over_12 + ' am' * (1 - over_12)\n",
    "\n",
    "print(t_12h)"
   ]
  },
  {
   "cell_type": "markdown",
   "id": "d26530f4",
   "metadata": {},
   "source": [
    "**(Challenge)**\n",
    "\n",
    "In base-10 or the decimal system, the number **10** is can be expressed as\n",
    "> **10** = **1** (10) + **0** (1).\n",
    "\n",
    "Similarly, in __binary__ or base-2 system, the decimal number **10** is written as\n",
    "> __**1010**__ = **1** (8) + **0** (4) + **1** (2) + **0** (1).\n",
    "\n",
    "Print the **`binary`** representation of the decimal number **`100`**.\n",
    "\n",
    "<!-- Share your solution below! Remember to use \n",
    "\n",
    "> \\```python\n",
    "> # your code here\n",
    "> \\```\n",
    "\n",
    "to format your code nicely :ok_hand:\n",
    "\n",
    "--- -->"
   ]
  },
  {
   "cell_type": "code",
   "execution_count": 7,
   "id": "d8f92bdd",
   "metadata": {},
   "outputs": [
    {
     "name": "stdout",
     "output_type": "stream",
     "text": [
      "1010\n"
     ]
    }
   ],
   "source": [
    "# challenge\n",
    "\n",
    "# base-10 number\n",
    "n = 10\n",
    "\n",
    "# base\n",
    "base = 2\n",
    "\n",
    "p0 = (n // base**0) % base # base**0 place\n",
    "p1 = (n // base**1) % base # base**1 place\n",
    "p2 = (n // base**2) % base # base**2 place\n",
    "p3 = (n // base**3) % base # base**3 place\n",
    "\n",
    "# new base number\n",
    "nb = f'{p3}{p2}{p1}{p0}'\n",
    "\n",
    "print(nb)"
   ]
  },
  {
   "cell_type": "code",
   "execution_count": 8,
   "id": "3b4ca30d",
   "metadata": {},
   "outputs": [
    {
     "name": "stdout",
     "output_type": "stream",
     "text": [
      "1100100\n"
     ]
    }
   ],
   "source": [
    "# robust to arbitrary n and base\n",
    "\n",
    "n = 100\n",
    "base = 2\n",
    "\n",
    "# initiate total and exponent\n",
    "total, power = 0, 0\n",
    "\n",
    "# initiate result string\n",
    "res = ''\n",
    "\n",
    "while total < n:\n",
    "        \n",
    "    # place value of digit\n",
    "    place_value = base**power\n",
    "    \n",
    "    # update exponent for next digit\n",
    "    power += 1\n",
    "    \n",
    "    # digit\n",
    "    digit = (n // place_value) % base\n",
    "    \n",
    "    # add total of digits so far in base-10\n",
    "    total += digit * place_value\n",
    "    \n",
    "    # add string result to left\n",
    "    res = str(digit) + res\n",
    "    \n",
    "print(res)"
   ]
  },
  {
   "cell_type": "code",
   "execution_count": null,
   "id": "e6b87b84",
   "metadata": {},
   "outputs": [],
   "source": []
  },
  {
   "cell_type": "markdown",
   "id": "54c767be",
   "metadata": {},
   "source": [
    "# Challenge 3"
   ]
  },
  {
   "cell_type": "markdown",
   "id": "a25ef878",
   "metadata": {},
   "source": [
    "**(Warm-up)**\n",
    "\n",
    "For any two numbers, calculate their **minimum, maximum, and absolute values**.\n",
    "\n",
    "For example:\n",
    "```python\n",
    "# example numbers\n",
    "x, y = -2, 1\n",
    "\n",
    "# result values\n",
    "minv == -2\n",
    "maxv == 1\n",
    "absx, absy == 2, 1\n",
    "```\n",
    "Try this both **with** and **without** the built-in python functions.\n",
    "\n",
    "---"
   ]
  },
  {
   "cell_type": "code",
   "execution_count": 9,
   "id": "51a28df8",
   "metadata": {},
   "outputs": [
    {
     "name": "stdout",
     "output_type": "stream",
     "text": [
      "Built-in results:\n",
      "(x, y): \t (-2, 1)\n",
      "min(x, y): \t -2\n",
      "max(x, y): \t 1\n",
      "abs(x, y): \t (2, 1)\n",
      "-----\n",
      "From scratch results:\n",
      "(x, y): \t (-2, 1)\n",
      "min(x, y): \t -2\n",
      "max(x, y): \t 1\n",
      "abs(x, y): \t (2, 1)\n"
     ]
    }
   ],
   "source": [
    "x, y = -2, 1\n",
    "\n",
    "# with built-in functions\n",
    "\n",
    "minv = min(x, y)\n",
    "maxv = max(x, y)\n",
    "absx, absy = abs(x), abs(y)\n",
    "\n",
    "print('Built-in results:')\n",
    "print(f'(x, y): \\t {x, y}')\n",
    "print(f'min(x, y): \\t {minv}')\n",
    "print(f'max(x, y): \\t {maxv}')\n",
    "print(f'abs(x, y): \\t {absx, absy}')\n",
    "\n",
    "print('-'*5)\n",
    "\n",
    "\n",
    "# without built-in functions\n",
    "\n",
    "# max/min\n",
    "if x < y:\n",
    "    minv = x\n",
    "    maxv = y\n",
    "else:\n",
    "    minv = y\n",
    "    maxv = x\n",
    "    \n",
    "# absolute vals\n",
    "absx = x\n",
    "if x < 0 :\n",
    "    absx = -x\n",
    "    \n",
    "absy = y\n",
    "if y < 0:\n",
    "    absy = -y\n",
    "    \n",
    "print('From scratch results:')\n",
    "print(f'(x, y): \\t {x, y}')\n",
    "print(f'min(x, y): \\t {minv}')\n",
    "print(f'max(x, y): \\t {maxv}')\n",
    "print(f'abs(x, y): \\t {absx, absy}')"
   ]
  },
  {
   "cell_type": "code",
   "execution_count": 10,
   "id": "5a8c64ac",
   "metadata": {},
   "outputs": [
    {
     "name": "stdout",
     "output_type": "stream",
     "text": [
      "Lambda function results:\n",
      "(x, y): \t (-2, 1)\n",
      "min(x, y): \t -2\n",
      "max(x, y): \t 1\n",
      "abs(x, y): \t (2, 1)\n"
     ]
    }
   ],
   "source": [
    "# using lambda functions and conditional expressions\n",
    "get_minv = lambda x, y: x if x < y else y\n",
    "get_maxv = lambda x, y: x if x > y else y\n",
    "get_absv = lambda x: x if x > 0 else -x\n",
    "\n",
    "# test functions\n",
    "x, y = -2, 1\n",
    "\n",
    "print('Lambda function results:')\n",
    "print(f'(x, y): \\t {x, y}')\n",
    "print(f'min(x, y): \\t {get_minv(x, y)}')\n",
    "print(f'max(x, y): \\t {get_maxv(x, y)}')\n",
    "print(f'abs(x, y): \\t {get_absv(x), get_absv(y)}')"
   ]
  },
  {
   "cell_type": "code",
   "execution_count": 11,
   "id": "675c8c53",
   "metadata": {},
   "outputs": [],
   "source": [
    "# even more generalized for multiple arguments\n",
    "get_minv = lambda *args: sorted(args)[0]\n",
    "get_maxv = lambda *args: sorted(args)[-1]"
   ]
  },
  {
   "cell_type": "code",
   "execution_count": 12,
   "id": "4c834d26",
   "metadata": {},
   "outputs": [
    {
     "data": {
      "text/plain": [
       "-3"
      ]
     },
     "execution_count": 12,
     "metadata": {},
     "output_type": "execute_result"
    }
   ],
   "source": [
    "get_minv(-1, 2, -3)"
   ]
  },
  {
   "cell_type": "code",
   "execution_count": 13,
   "id": "2718e5e9",
   "metadata": {},
   "outputs": [
    {
     "data": {
      "text/plain": [
       "2"
      ]
     },
     "execution_count": 13,
     "metadata": {},
     "output_type": "execute_result"
    }
   ],
   "source": [
    "get_maxv(-1, 2, -3)"
   ]
  },
  {
   "cell_type": "markdown",
   "id": "6f5b20f0",
   "metadata": {},
   "source": [
    "**(Challenge)**\n",
    "\n",
    "Given two integers, check if one is a **factor** of the other (regardless of their order).\n",
    "\n",
    "If one number is a factor of the other, print the **factor** and **cofactor** of the **product**. Otherwise, indicate that neither are factors of each other.\n",
    "\n",
    "For example, the results can be presented like so:\n",
    "```python\n",
    "m, n = 5, 10\n",
    "result == \"5 and 2 are factors of 10.\"\n",
    "\n",
    "m, n = 6, 2\n",
    "result == \"2 and 3 are factors of 6.\"\n",
    "\n",
    "m, n = 2, 7\n",
    "result == \"2 and 7 are not factors of each other\"\n",
    "```\n",
    "Are there special cases to watch out for? For an extra challenge, try to use as few **if statements** as possible.\n",
    "\n",
    "---"
   ]
  },
  {
   "cell_type": "code",
   "execution_count": 14,
   "id": "0655ff03",
   "metadata": {},
   "outputs": [
    {
     "name": "stdout",
     "output_type": "stream",
     "text": [
      "2 and 7 are not factors of each other.\n"
     ]
    }
   ],
   "source": [
    "# with conditional statements (if statements)\n",
    "m, n = 2, 7\n",
    "\n",
    "# check if either numbers are zero\n",
    "if 0 in (m, n):\n",
    "    print(f\"{m} and {n} are not factors of each other.\")\n",
    "    \n",
    "# check if factors\n",
    "elif m % n == 0:\n",
    "\n",
    "    # check which is bigger\n",
    "    if m < n:\n",
    "        print(f\"{m} and {n/m:.0f} are factors of {n}.\")\n",
    "    \n",
    "    else:\n",
    "        print(f\"{n} and {m/n:.0f} are factors of {m}.\")\n",
    "        \n",
    "else:\n",
    "    print(f\"{m} and {n} are not factors of each other.\")"
   ]
  },
  {
   "cell_type": "code",
   "execution_count": 15,
   "id": "5fd7aff1",
   "metadata": {},
   "outputs": [
    {
     "name": "stdout",
     "output_type": "stream",
     "text": [
      "0 and 7 are not factors of each other.\n"
     ]
    }
   ],
   "source": [
    "# with minimal conditional statements\n",
    "m, n = 7, 0\n",
    "\n",
    "# rearrange to make m <= n\n",
    "m, n = sorted((m, n))\n",
    "\n",
    "# message if m, n are not factors\n",
    "msg_n = f\"{m} and {n} are not factors of each other.\"\n",
    "    \n",
    "# check if either numbers are zero\n",
    "if 0 in (m, n):\n",
    "    print(msg_n)\n",
    "\n",
    "else:\n",
    "    \n",
    "    # check if m is factor of n\n",
    "    is_factor = m % n == 0\n",
    "    \n",
    "    # message if n, m are factors\n",
    "    msg_y = f\"{m} and {n / m:.0f} are factors of {n}.\"\n",
    "    \n",
    "    # message without if statement\n",
    "    msg = is_factor * msg_y + (not is_factor) * msg_n\n",
    "\n",
    "    print(msg)"
   ]
  },
  {
   "cell_type": "markdown",
   "id": "68f21bc0",
   "metadata": {},
   "source": [
    "# Challenge 4"
   ]
  },
  {
   "cell_type": "markdown",
   "id": "aef0d115",
   "metadata": {},
   "source": [
    "**(Warm-up)**\n",
    "\n",
    "The following is a **truth table** showing the possible **truth-value** combinations of boolean variables `p` and `q` and certain operations:\n",
    "```\n",
    "|  p     |  q     |  p and q | p or q | not ((not p) or (not q)) | not ((not p) and (not q)) |\n",
    "----------------------------------------------------------------------------------------------\n",
    "|  True  |  True  |  True    |  True  |           ???            |            ???            |\n",
    "|  True  |  False |  False   |  False |           ???            |            ???            |\n",
    "|  False |  True  |  False   |  False |           ???            |            ???            |\n",
    "|  False |  False |  False   |  False |           ???            |            ???            |\n",
    "```\n",
    "\n",
    "Recreate the truth table with the missing values filled in.\n",
    "\n",
    "What's interesting about the columns?"
   ]
  },
  {
   "cell_type": "code",
   "execution_count": 2,
   "id": "875bab5b",
   "metadata": {},
   "outputs": [
    {
     "name": "stdout",
     "output_type": "stream",
     "text": [
      "| p \t| q \t| p and q \t| p or q \t| not (not p or not q) \t| not (not p and not q) |\n",
      "------------------------------------------------------------------------------------------------\n",
      "| True\t| True\t| True\t\t| True\t\t| True\t\t\t| True\t\t\t|\n",
      "| True\t| False\t| False\t\t| True\t\t| False\t\t\t| True\t\t\t|\n",
      "| False\t| True\t| False\t\t| True\t\t| False\t\t\t| True\t\t\t|\n",
      "| False\t| False\t| False\t\t| False\t\t| False\t\t\t| False\t\t\t|\n"
     ]
    }
   ],
   "source": [
    "header = '| p \\t| q \\t| p and q \\t| p or q \\t| not (not p or not q) \\t| not (not p and not q) |'\n",
    "\n",
    "print(header)\n",
    "\n",
    "hline = \"-\" * 96\n",
    "\n",
    "print(hline)\n",
    "\n",
    "p, q = True, True\n",
    "row = f'| {p}\\t| {q}\\t| {p and q}\\t\\t| {p or q}\\t\\t| {not (not p or not q)}\\t\\t\\t| {not (not p and not q)}\\t\\t\\t|'\n",
    "print(row)\n",
    "\n",
    "p, q = True, False\n",
    "row = f'| {p}\\t| {q}\\t| {p and q}\\t\\t| {p or q}\\t\\t| {not (not p or not q)}\\t\\t\\t| {not (not p and not q)}\\t\\t\\t|'\n",
    "print(row)\n",
    "\n",
    "p, q = False, True\n",
    "row = f'| {p}\\t| {q}\\t| {p and q}\\t\\t| {p or q}\\t\\t| {not (not p or not q)}\\t\\t\\t| {not (not p and not q)}\\t\\t\\t|'\n",
    "print(row)\n",
    "\n",
    "p, q = False, False\n",
    "row = f'| {p}\\t| {q}\\t| {p and q}\\t\\t| {p or q}\\t\\t| {not (not p or not q)}\\t\\t\\t| {not (not p and not q)}\\t\\t\\t|'\n",
    "print(row)"
   ]
  },
  {
   "cell_type": "code",
   "execution_count": 4,
   "id": "6e3d4794",
   "metadata": {},
   "outputs": [
    {
     "name": "stdout",
     "output_type": "stream",
     "text": [
      "| p \t| q \t| p and q \t| p or q \t| not (not p or not q) \t| not (not p and not q) |\n",
      "------------------------------------------------------------------------------------------------\n",
      "| True\t| True\t| True\t\t| True\t\t| True\t\t\t| True\t\t\t|\n",
      "| True\t| False\t| False\t\t| True\t\t| False\t\t\t| True\t\t\t|\n",
      "| False\t| True\t| False\t\t| True\t\t| False\t\t\t| True\t\t\t|\n",
      "| False\t| False\t| False\t\t| False\t\t| False\t\t\t| False\t\t\t|\n"
     ]
    }
   ],
   "source": [
    "# with loop\n",
    "\n",
    "header = '| p \\t| q \\t| p and q \\t| p or q \\t| not (not p or not q) \\t| not (not p and not q) |'\n",
    "\n",
    "print(header)\n",
    "\n",
    "hline = \"-\" * 96\n",
    "print(hline)\n",
    "\n",
    "tvals = (True, False)\n",
    "\n",
    "for p in tvals:\n",
    "\n",
    "    for q in tvals:\n",
    "        \n",
    "        # create row\n",
    "        row = f'| {p}\\t| {q}\\t| {p and q}\\t\\t| {p or q}\\t\\t| ' + \\\n",
    "        f'{not (not p or not q)}\\t\\t\\t| {not (not p and not q)}\\t\\t\\t|'\n",
    "        \n",
    "        print(row)"
   ]
  },
  {
   "cell_type": "markdown",
   "id": "de690a0b",
   "metadata": {},
   "source": [
    "**(Challenge)**\n",
    "\n",
    "The following is a `query response` from https://dictionaryapi.dev/, an English dictionary **API**:\n",
    "```python\n",
    "api_resp = [{\"word\" : \"python\",\n",
    "             \"phonetic\" : \"ˈpʌɪθ(ə)n\",\n",
    "             \"phonetics\" : [{\"text\" : \"ˈpʌɪθ(ə)n\",\n",
    "                             \"audio\" : \"//ssl.gstatic.com/dictionary/static/sounds/20200429/python--_gb_1.mp3\"}],\n",
    "             \"origin\" : \"late 16th century (in the Greek sense) :  via Latin from Greek Puthōn, the name of a huge serpent killed by Apollo. The main current sense dates from the mid 19th century.\",\n",
    "             \"meanings\" : [{\"partOfSpeech\" : \"noun\",\n",
    "                            \"definitions\" : [{\"definition\" : \"a large heavy-bodied non-venomous snake occurring throughout the Old World tropics, killing prey by constriction and asphyxiation.\",\n",
    "                                              \"synonyms\" : [],\n",
    "                                              \"antonyms\" : []},\n",
    "                                             {\"definition\" : \"a high-level general-purpose programming language.\",\n",
    "                                              \"synonyms\" : [],\n",
    "                                              \"antonyms\" : []}]\n",
    "                           }]\n",
    "            }]\n",
    "```\n",
    "What are the **parts of speech** and **definitions** of \"python\" according to this English dictionary? Print the results from the above data structure.\n",
    "\n",
    "For an extra challenge, write a program that prints all word definitions of such query results. Check your code against query entries for \"coding\": https://api.dictionaryapi.dev/api/v2/entries/en/coding.\n"
   ]
  },
  {
   "cell_type": "code",
   "execution_count": 5,
   "id": "463e6e03",
   "metadata": {},
   "outputs": [],
   "source": [
    "api_resp = [{\"word\" : \"python\",\n",
    "             \"phonetic\" : \"ˈpʌɪθ(ə)n\",\n",
    "             \"phonetics\" : [{\"text\" : \"ˈpʌɪθ(ə)n\",\n",
    "                             \"audio\" : \"//ssl.gstatic.com/dictionary/static/sounds/20200429/python--_gb_1.mp3\"}],\n",
    "             \"origin\" : \"late 16th century (in the Greek sense) :  via Latin from Greek Puthōn, the name of a huge serpent killed by Apollo. The main current sense dates from the mid 19th century.\",\n",
    "             \"meanings\" : [{\"partOfSpeech\" : \"noun\",\n",
    "                            \"definitions\" : [{\"definition\" : \"a large heavy-bodied non-venomous snake occurring throughout the Old World tropics, killing prey by constriction and asphyxiation.\",\n",
    "                                              \"synonyms\" : [],\n",
    "                                              \"antonyms\" : []},\n",
    "                                             {\"definition\" : \"a high-level general-purpose programming language.\",\n",
    "                                              \"synonyms\" : [],\n",
    "                                              \"antonyms\" : []}]\n",
    "                           }]\n",
    "            }]"
   ]
  },
  {
   "cell_type": "code",
   "execution_count": 6,
   "id": "88d51632",
   "metadata": {},
   "outputs": [
    {
     "name": "stdout",
     "output_type": "stream",
     "text": [
      "1. Python (noun): a large heavy-bodied non-venomous snake occurring throughout the Old World tropics, killing prey by constriction and asphyxiation.\n",
      "\n",
      "2. Python (noun): a high-level general-purpose programming language.\n",
      "\n"
     ]
    }
   ],
   "source": [
    "meaning = api_resp[0][\"meanings\"][0]\n",
    "\n",
    "partofspeech = meaning[\"partOfSpeech\"]\n",
    "definitions = meaning[\"definitions\"]\n",
    "\n",
    "def1 = definitions[0]['definition']\n",
    "def2 = definitions[1]['definition']\n",
    "\n",
    "print(f\"1. Python ({partofspeech}): {def1}\\n\")\n",
    "print(f\"2. Python ({partofspeech}): {def2}\\n\")"
   ]
  },
  {
   "cell_type": "code",
   "execution_count": 7,
   "id": "d1d7e527",
   "metadata": {},
   "outputs": [],
   "source": [
    "# entries for \"coding\" in dictionary\n",
    "# https://api.dictionaryapi.dev/api/v2/entries/en/coding\n",
    "entries = [{\"word\":\"coding\",\"phonetic\":\"ˈkəʊdɪŋ\",\"phonetics\":[{\"text\":\"ˈkəʊdɪŋ\",\"audio\":\"//ssl.gstatic.com/dictionary/static/sounds/20200429/coding--_gb_1.mp3\"}],\"meanings\":[{\"partOfSpeech\":\"noun\",\"definitions\":[{\"definition\":\"the process of assigning a code to something for classification or identification.\",\"example\":\"the forms are checked and returned to the census officer for coding\",\"synonyms\":[],\"antonyms\":[]},{\"definition\":\"the process or activity of writing computer programs.\",\"synonyms\":[],\"antonyms\":[]},{\"definition\":\"the process or fact of being the genetic code or determiner for an amino acid, protein, or characteristic.\",\"synonyms\":[],\"antonyms\":[]}]},{\"partOfSpeech\":\"adjective\",\"definitions\":[{\"definition\":\"functioning as the genetic code or determiner for an amino acid, protein, or characteristic.\",\"example\":\"a coding region in human DNA\",\"synonyms\":[],\"antonyms\":[]}]}]}, {\"word\":\"code\",\"phonetic\":\"kəʊd\",\"phonetics\":[{\"text\":\"kəʊd\",\"audio\":\"//ssl.gstatic.com/dictionary/static/sounds/20200429/code--_gb_1.mp3\"}],\"origin\":\"Middle English: via Old French from Latin codex, codic- (see codex). The term originally denoted a systematic collection of statutes made by Justinian or another of the later Roman emperors; compare with code (sense 3 of the noun) (mid 18th century), the earliest modern sense.\",\"meanings\":[{\"partOfSpeech\":\"verb\",\"definitions\":[{\"definition\":\"convert (the words of a message) into a code so as to convey a secret meaning.\",\"example\":\"only Mitch knew how to read the message—even the name was coded\",\"synonyms\":[],\"antonyms\":[]},{\"definition\":\"write code for (a computer program).\",\"example\":\"most developers code C + + like C\",\"synonyms\":[],\"antonyms\":[]},{\"definition\":\"be the genetic code for (an amino acid or protein).\",\"example\":\"genes that code for human growth hormone\",\"synonyms\":[],\"antonyms\":[]}]}]}]"
   ]
  },
  {
   "cell_type": "code",
   "execution_count": 8,
   "id": "d87e7fe8",
   "metadata": {},
   "outputs": [
    {
     "name": "stdout",
     "output_type": "stream",
     "text": [
      "1. Coding (noun): the process of assigning a code to something for classification or identification.\n",
      "\n",
      "2. Coding (noun): the process or activity of writing computer programs.\n",
      "\n",
      "3. Coding (noun): the process or fact of being the genetic code or determiner for an amino acid, protein, or characteristic.\n",
      "\n",
      "4. Coding (adjective): functioning as the genetic code or determiner for an amino acid, protein, or characteristic.\n",
      "\n",
      "5. Code (verb): convert (the words of a message) into a code so as to convey a secret meaning.\n",
      "\n",
      "6. Code (verb): write code for (a computer program).\n",
      "\n",
      "7. Code (verb): be the genetic code for (an amino acid or protein).\n",
      "\n"
     ]
    }
   ],
   "source": [
    "n = 1\n",
    "\n",
    "# get every entry\n",
    "for entry in entries:\n",
    "    \n",
    "    word = entry['word']\n",
    "    \n",
    "    # get every meaning in entry\n",
    "    for meaning in entry[\"meanings\"]:\n",
    "        \n",
    "        partofspeech = meaning['partOfSpeech']\n",
    "        definitions = meaning[\"definitions\"]\n",
    "\n",
    "        # get every definition\n",
    "        for d in definitions:\n",
    "            print(f\"{n}. {word.title()} ({partofspeech}): {d['definition']}\\n\")\n",
    "            n+=1"
   ]
  },
  {
   "cell_type": "code",
   "execution_count": null,
   "id": "79701d31",
   "metadata": {},
   "outputs": [],
   "source": []
  }
 ],
 "metadata": {
  "kernelspec": {
   "display_name": "Python 3",
   "language": "python",
   "name": "python3"
  },
  "language_info": {
   "codemirror_mode": {
    "name": "ipython",
    "version": 3
   },
   "file_extension": ".py",
   "mimetype": "text/x-python",
   "name": "python",
   "nbconvert_exporter": "python",
   "pygments_lexer": "ipython3",
   "version": "3.8.5"
  }
 },
 "nbformat": 4,
 "nbformat_minor": 5
}
