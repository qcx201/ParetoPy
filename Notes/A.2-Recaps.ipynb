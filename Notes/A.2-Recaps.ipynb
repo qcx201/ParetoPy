{
 "cells": [
  {
   "cell_type": "markdown",
   "id": "b95c2455",
   "metadata": {},
   "source": [
    "# Table of Contents\n",
    "\n",
    "**[Workshop 0](#Workshop-0)**\n",
    "\n",
    "* [0.1. How to Open Jupyter Notebook](#0.1.-How-to-Open-Jupyter-Notebook)\n",
    "* [0.2. What is Python?](#0.2.-What-is-Python?)\n",
    "* [0.3. What can you do with python?](#0.3.-What-can-you-do-with-python?)\n",
    "\n",
    "\n",
    "**[Workshop 1](#Workshop-1)**\n",
    "\n",
    "* [1.1. Primitive Datatypes](#1.1.-Primitive-Datatypes)\n",
    "* [1.2. Numeric Datatypes](#1.2.-Numeric-Datatypes)\n",
    "* [1.3. Strings](#1.3.-Strings)\n",
    "\n",
    "\n",
    "**[Workshop 2](#Workshop-2)**\n",
    "\n",
    "* [2.1. String indexing and slicing](#2.1.-String-indexing-and-slicing)\n",
    "* [2.2. String comparisons](#2.2.-String-comparisons)\n",
    "\n",
    "\n",
    "**[Workshop 3](#Workshop-3)**\n",
    "\n",
    "* [3.1. Special Characters](#3.1.-Special-Characters)\n",
    "* [3.2. Splitting, joining, and f-strings](#3.2.-Splitting,-joining,-and-f-strings)\n",
    "* [3.3 Boolean values, logical operators](#3.3-Boolean-values,-logical-operators)\n",
    "* [3.4 Conditional (if/else) statements](#3.4-Conditional-(if/else)-statements)\n",
    "\n",
    "**[Workshop 4](#Workshop-4)**\n",
    "\n",
    "\n",
    "**[Workshop 5](#Workshop-5)**"
   ]
  },
  {
   "cell_type": "markdown",
   "id": "d41ce442",
   "metadata": {},
   "source": [
    "# Workshop 0"
   ]
  },
  {
   "cell_type": "markdown",
   "id": "c202f81d",
   "metadata": {},
   "source": [
    "### 0.1. How to Open Jupyter Notebook\n",
    "\n",
    "Start **`anaconda prompt` (PC)** or **`terminal` (Mac)**.\n",
    "\n",
    "Change directory to desired folder. For example:\n",
    "\n",
    "**Windows:** use backslash `\\` to separate directory path\n",
    "```shell\n",
    "cd Documents\\ParetoPy\n",
    "```\n",
    "\n",
    "**MacOS/Unix:** use forward slash `/` to separate directory path\n",
    "```shell\n",
    "cd Documents/ParetoPy\n",
    "```\n",
    "\n",
    "Once in desired directory, type and enter (PC and Mac):\n",
    "```shell\n",
    "jupyter notebook\n",
    "```\n",
    "\n",
    "\n",
    "**Command line cheatsheets:**\n",
    "\n",
    "Windows: http://www.cs.columbia.edu/~sedwards/classes/2015/1102-fall/Command%20Prompt%20Cheatsheet.pdf <br>\n",
    "MacOS: https://appletree.or.kr/quick_reference_cards/Unix-Linux/CLI-Cheat-Sheet.pdf"
   ]
  },
  {
   "cell_type": "markdown",
   "id": "5a983ea0",
   "metadata": {},
   "source": [
    "### 0.2. What is Python?\n",
    "\n",
    "Among other things: a **high-level, open source, object oriented programming language.**\n",
    "\n",
    "- **High level:** abstracts from details of hardware (compared to low-level languages like C or machine code)\n",
    "- **Open source:** free to use, open to anyone to modify/contribute\n",
    "- **Object oriented:** object = **properties**/attributes + **methods**/functions\n",
    "- **Programming:** instructions for computers to perform\n"
   ]
  },
  {
   "cell_type": "markdown",
   "id": "858db0e5",
   "metadata": {},
   "source": [
    "### 0.3. What can you do with python?\n",
    "\n",
    "A list we came up with (and python packages to look out for):\n",
    "- data science (pandas, statsmodel)\n",
    "- numerical economic modelling (numpy, scipy)\n",
    "- machine learning (sklearn, tensorflow)\n",
    "- automation (os, datetime)\n",
    "- webscraping (requests, selenium, lxml, beautifulsoup)\n",
    "- webdesign (flask)\n",
    "\n",
    "**Is there anything Python can't do?** Well, it can't swallow a porcupine: https://www.telegraph.co.uk/news/worldnews/11697672/Python-chokes-to-death-after-eating-porcupine.html. But someone is working on pretty much everything else.*\n",
    "\n",
    "*Joke courtesy of https://nyudatabootcamp.gitbook.io/thebook/intro (no animals were harmed during or in the planning of workshop sessions)"
   ]
  },
  {
   "cell_type": "markdown",
   "id": "9cbf57f9",
   "metadata": {},
   "source": [
    "# Workshop 1\n",
    "\n"
   ]
  },
  {
   "cell_type": "markdown",
   "id": "0ea262f2",
   "metadata": {},
   "source": [
    "### 1.1. Primitive Datatypes\n",
    "Python has four primitive datatypes:"
   ]
  },
  {
   "cell_type": "code",
   "execution_count": 11,
   "id": "39a607df",
   "metadata": {},
   "outputs": [],
   "source": [
    "# integer\n",
    "x = 3\n",
    "\n",
    "# float\n",
    "x = 3.14\n",
    "\n",
    "# string\n",
    "x = \"3.14\"\n",
    "y = \"123 hello world!\"\n",
    "\n",
    "# boolean\n",
    "x = True"
   ]
  },
  {
   "cell_type": "markdown",
   "id": "b721527a",
   "metadata": {},
   "source": [
    "You can check the type of any python object with the `type()` function. You can also change or **cast** the type of an object or variable to a specific type with `int()`, `float()`, `str()`, or `bool()`.\n",
    "\n",
    "We can think of each datatype as an object **class**, and each example of `x` above as an **object**, an instance of a object class.\n",
    "\n",
    "As we discussed in workshop 0, an object in Python and programming is defined as something that contains:\n",
    "\n",
    "   1. **properties** (or attributes, values, data, information--things the object is), and\n",
    "\n",
    "   2. **methods** (or functions, operators, actions--things the object can do)."
   ]
  },
  {
   "cell_type": "code",
   "execution_count": null,
   "id": "1988d4c9",
   "metadata": {},
   "outputs": [],
   "source": []
  },
  {
   "cell_type": "markdown",
   "id": "b82c439e",
   "metadata": {},
   "source": [
    "### 1.2. Numeric Datatypes\n",
    "\n",
    "An **integer** and **float** are both numeric datatypes. The property of an object of each type is simply the numeric value assigned.\n",
    "\n",
    "Both types have the same methods, which are the numeric operators:"
   ]
  },
  {
   "cell_type": "code",
   "execution_count": 2,
   "id": "a7e7ea26",
   "metadata": {},
   "outputs": [
    {
     "name": "stdout",
     "output_type": "stream",
     "text": [
      "8\n",
      "2\n",
      "15\n",
      "1.6666666666666667\n",
      "125\n",
      "1\n",
      "2\n"
     ]
    }
   ],
   "source": [
    "# addition\n",
    "print(5 + 3) # 8\n",
    "\n",
    "# subtraction\n",
    "print(5 - 3) # 2\n",
    "\n",
    "# multiplication\n",
    "print(5 * 3) # 15\n",
    "\n",
    "# division\n",
    "print(5 / 3) # 1.6666666666666667\n",
    "\n",
    "# eprint(xponentiation\n",
    "print(5**3) # 125\n",
    "\n",
    "# integer division\n",
    "print(5 // 3) # 1\n",
    "\n",
    "# modulo\n",
    "print(5 % 3) # 2"
   ]
  },
  {
   "cell_type": "markdown",
   "id": "afa33d42",
   "metadata": {},
   "source": [
    "\n",
    "The first five of these are familiar math operations. The concept of **integer division** and **modulo** are perhaps a little less common: any fraction two numbers `p` and `q` can be written as `p / q == n + (m / q)`, where `n` is an integer, and `m < q` is the remainder (also called the **modulus**). Then the result of integer division is `p // q == n`, and the result of the modulo is `p % q == m`. \n",
    "\n",
    "These two operations are actually quite handy, but this is not the most intuitive explanation. The best way to understand them is to use them, which you can practice in #challenge-1 and #challenge-2."
   ]
  },
  {
   "cell_type": "markdown",
   "id": "d64f8363",
   "metadata": {},
   "source": [
    "### 1.3. Strings\n",
    "\n",
    "**Strings** are what text data are called in python and most programming languages. The properties of a string are its characters (but its more complicated than that). Strings are actually quite a lot more complex than numeric data, especially in its methods.\n",
    "\n",
    "Last time we started discussing some basic string methods/operators:"
   ]
  },
  {
   "cell_type": "code",
   "execution_count": 3,
   "id": "02090469",
   "metadata": {},
   "outputs": [],
   "source": [
    "\n",
    "str4 = str1 * 3 # \"hellohellohello\"\n",
    "\n",
    "# upper and lower casing\n",
    "str5 = \"HeLlO!\".upper() # \"HELLO!\"\n",
    "str6 = \"HeLlO!\".lower() # \"hello!\""
   ]
  },
  {
   "cell_type": "markdown",
   "id": "4d1ee735",
   "metadata": {},
   "source": [
    "We continue with strings in the next session.\n",
    "\n",
    "\n",
    "----"
   ]
  },
  {
   "cell_type": "markdown",
   "id": "78546b62",
   "metadata": {},
   "source": [
    "# Workshop 2"
   ]
  },
  {
   "cell_type": "markdown",
   "id": "2f163155",
   "metadata": {},
   "source": [
    "### 2.1. String indexing and slicing\n",
    "\n",
    "As we've seen, the properties of strings are more complex than that of boolean and numeric datatypes. A string is really an **ordered collection** of **unicode characters.** A collection is an object that contains other objects, which called the collection's **elements** (the elements of a string are its characters).\n",
    "\n",
    "We can use the `len()` function to get the length of the string. We can get **individual characters** of a string by **indexing** the character's position. We use positive indexing to start from left, and negative indexing to start from right. In python, positive indexes begin at **`0`**, and negative indexes begin at **`-1`:**"
   ]
  },
  {
   "cell_type": "code",
   "execution_count": 4,
   "id": "33a0b54f",
   "metadata": {},
   "outputs": [
    {
     "name": "stdout",
     "output_type": "stream",
     "text": [
      "H\n",
      "H\n",
      "o\n",
      "o\n",
      "!\n",
      "!\n"
     ]
    }
   ],
   "source": [
    "msg = \"Hello world!\"\n",
    "n = len(msg)         # length of message (number of characters)\n",
    "\n",
    "# index first character: \"H\"\n",
    "print(msg[0])        # positive indexing\n",
    "print(msg[-n])       # negative indexing\n",
    "\n",
    "# index fifth character: \"o\"\n",
    "print(msg[4])        # positive indexing\n",
    "print(msg[-n+4])     # negative indexing\n",
    "\n",
    "# index last character: \"!\"\n",
    "print(msg[n-1])      # positive indexing\n",
    "print(msg[-1])       # negative indexing"
   ]
  },
  {
   "cell_type": "markdown",
   "id": "b723a10a",
   "metadata": {},
   "source": [
    "We can get **segments of multiple characters** with **slicing:**"
   ]
  },
  {
   "cell_type": "code",
   "execution_count": 5,
   "id": "38796b65",
   "metadata": {},
   "outputs": [
    {
     "name": "stdout",
     "output_type": "stream",
     "text": [
      "Hello\n",
      "Hello\n",
      "Hello\n",
      "world!\n",
      "world!\n",
      "ello\n",
      "ello\n"
     ]
    }
   ],
   "source": [
    "msg = \"Hello world!\"\n",
    "n = len(msg)         # length of message\n",
    "\n",
    "# slice \"Hello\"\n",
    "print(msg[0:5])      # positive indexing\n",
    "print(msg[:5])       # blank beginning index is zero by default\n",
    "print(msg[-n:-7])    # negative indexing\n",
    "\n",
    "# slice \"world!\"\n",
    "print(msg[6:n])      # positive indexing\n",
    "print(msg[-6:])       # blank end index is -1 or length of string by default\n",
    "\n",
    "# slice \"ello\"\n",
    "print(msg[1:5])      # blank end index is -1 by default\n",
    "print(msg[-n+1:-7])  # negative indexing"
   ]
  },
  {
   "cell_type": "markdown",
   "id": "f602bacd",
   "metadata": {},
   "source": [
    "### 2.2. String comparisons\n",
    "\n",
    "Since string characters are encoded from numbers, there is a sense of an **ordering** of characters. You can check the **ordinal** number of a character with the `ord()` function. The inverse is `chr()`, which returns the character from an ordinal:"
   ]
  },
  {
   "cell_type": "code",
   "execution_count": 6,
   "id": "2fd6a163",
   "metadata": {},
   "outputs": [
    {
     "name": "stdout",
     "output_type": "stream",
     "text": [
      "65\n",
      "B\n",
      "99\n",
      "d\n"
     ]
    }
   ],
   "source": [
    "print(ord(\"A\"))  # 65\n",
    "print(chr(66))   # \"B\"\n",
    "\n",
    "print(ord(\"c\"))  # 99\n",
    "print(chr(100))  # \"d\""
   ]
  },
  {
   "cell_type": "markdown",
   "id": "bda15672",
   "metadata": {},
   "source": [
    "Because there is an ordering, you can compare strings with comparison operators which return **boolean** values. For example:"
   ]
  },
  {
   "cell_type": "code",
   "execution_count": 7,
   "id": "cfa906ed",
   "metadata": {},
   "outputs": [
    {
     "name": "stdout",
     "output_type": "stream",
     "text": [
      "True\n",
      "True\n",
      "True\n",
      "False\n",
      "True\n",
      "False\n",
      "True\n",
      "False\n",
      "True\n",
      "True\n",
      "True\n"
     ]
    }
   ],
   "source": [
    "\n",
    "print(\"A\" == \"a\".upper())  # True (equal)\n",
    "print(\"A\" != \"a\")          # True (not equal)\n",
    "\n",
    "print(\"A\" < \"B\")           # True\n",
    "print(\"A\" > \"B\")           # False\n",
    "print(\"a\" > \"A\")           # True (lowercase has higher ordinal than uppercase)\n",
    "\n",
    "print(\"AAA\" > \"ABA\")       # False (because \"A\" < \"B\")\n",
    "print(\"aAA\" > \"ABA\")       # True  (because \"a\" > \"A\")\n",
    "\n",
    "print(\"AAA\" > \"AAA\")       # False\n",
    "print(\"AAA\" >= \"AAA\")      # True\n",
    "\n",
    "print(\"B\" in \"ABC\")        # True\n",
    "print(\"D\" not in \"ABC\")    # True"
   ]
  },
  {
   "cell_type": "markdown",
   "id": "3d73d1d1",
   "metadata": {},
   "source": [
    "We also discussed the `.count()` and `.find()` methods and introduced `.split()`. These functions are very useful and intuitive. Check the notebooks or videos in the #schedule for details, or use the help operator `?` in python to read their **docstrings.** For example, try running the following code:"
   ]
  },
  {
   "cell_type": "code",
   "execution_count": 8,
   "id": "054376e4",
   "metadata": {},
   "outputs": [
    {
     "name": "stdout",
     "output_type": "stream",
     "text": [
      "['Hello', 'world']\n"
     ]
    }
   ],
   "source": [
    "s = \"Hello world\"\n",
    "print(s.split(' '))    # returns [\"Hello\", \"world\"]\n",
    "\n",
    "s.split?"
   ]
  },
  {
   "cell_type": "markdown",
   "id": "654793d7",
   "metadata": {},
   "source": [
    "# Workshop 3"
   ]
  },
  {
   "cell_type": "markdown",
   "id": "b6e38cb4",
   "metadata": {},
   "source": [
    "### 3.1. Special Characters\n",
    "\n",
    "Python has certain special characters that follow the **backslash** character `\\`. Two common ones are **tab `\\t`** and **newline `\\n`**:"
   ]
  },
  {
   "cell_type": "code",
   "execution_count": 74,
   "id": "696906ee",
   "metadata": {},
   "outputs": [
    {
     "name": "stdout",
     "output_type": "stream",
     "text": [
      "1. Hello\tworld\n",
      "\n",
      "2. Hello\n",
      "world!\n"
     ]
    }
   ],
   "source": [
    "# tab separates characters by some automatic formatting\n",
    "print(\"1. Hello\\tworld\")\n",
    "\n",
    "# newline adds line break\n",
    "print(\"\\n2. Hello\\nworld!\")"
   ]
  },
  {
   "cell_type": "markdown",
   "id": "2ac79123",
   "metadata": {},
   "source": [
    "Backslash `\\` in python is what's called an **escape character.** It can also escape characters that have default functions other than representing the literal character. For example:"
   ]
  },
  {
   "cell_type": "code",
   "execution_count": 81,
   "id": "4a9cb4a8",
   "metadata": {},
   "outputs": [
    {
     "name": "stdout",
     "output_type": "stream",
     "text": [
      "1. Printing \"\\\" requires escaping it with \"\\\" first.\n",
      "\n",
      "2. This string's \"apostrophe\" must be escaped.\n",
      "\n",
      "3. The \"quote characters\" in this string must be escaped.\n"
     ]
    }
   ],
   "source": [
    "# print backslash itself, which would otherwise be an escape character\n",
    "print('1. Printing \"\\\\\" requires escaping it with \"\\\\\" first.\\n')\n",
    "\n",
    "# print apostrophe\\single-quote in single-quote enclosed strings \n",
    "print('2. This string\\'s \"apostrophe\" must be escaped.\\n') \n",
    "\n",
    "# print double-quotes in double-quote enclosed strings \n",
    "print(\"3. The \\\"quote characters\\\" in this string must be escaped.\")"
   ]
  },
  {
   "cell_type": "markdown",
   "id": "fcebe086",
   "metadata": {},
   "source": [
    "### 3.2. Splitting, joining, and f-strings\n",
    "\n",
    "Last time we saw we can **split** a string on a delimiter into a list of strings:"
   ]
  },
  {
   "cell_type": "code",
   "execution_count": 77,
   "id": "37a2b1f9",
   "metadata": {},
   "outputs": [
    {
     "name": "stdout",
     "output_type": "stream",
     "text": [
      "['Forget', 'me', 'not']\n"
     ]
    }
   ],
   "source": [
    "# split the string on space\n",
    "words = \"Forget me not\".split(\" \")\n",
    "\n",
    "print(words) # ['Forget', 'me', 'not']"
   ]
  },
  {
   "cell_type": "markdown",
   "id": "88d18054",
   "metadata": {},
   "source": [
    "To reverse this result, we can **join** a list of strings together with a delimiter:"
   ]
  },
  {
   "cell_type": "code",
   "execution_count": 79,
   "id": "808c4072",
   "metadata": {},
   "outputs": [
    {
     "name": "stdout",
     "output_type": "stream",
     "text": [
      "Forget-me-not\n"
     ]
    }
   ],
   "source": [
    "words = \"Forget me not\".split(\" \")\n",
    "new_str = '-'.join(words)\n",
    "\n",
    "print(new_str) # \"Forget-me-not\""
   ]
  },
  {
   "cell_type": "markdown",
   "id": "f8ca4464",
   "metadata": {},
   "source": [
    "Python has a special type of string specifically designed to make formatting easier. This type of string is called f-strings, which has a `f` before the beginning quote, and uses `{}` brackets to format."
   ]
  },
  {
   "cell_type": "code",
   "execution_count": 83,
   "id": "c1d67803",
   "metadata": {},
   "outputs": [
    {
     "name": "stdout",
     "output_type": "stream",
     "text": [
      "π ~= 3.1415929203539825\n",
      "π ~=  3.14159\n",
      "π ~=  314.1593%\n",
      "π ~=  3.142e+00\n",
      "π ~=  3\n"
     ]
    }
   ],
   "source": [
    "pi = 355/113\n",
    "\n",
    "# insert value directly into string\n",
    "print(f'π ~= {pi}') # 3.1415929203539825\n",
    "\n",
    "# round to 5 decimals as float\n",
    "print(f'π ~= {pi : .5f}') # 3.14259\n",
    "\n",
    "# round to 4 decimals as percentage\n",
    "print(f'π ~= {pi : .4%}') # 314.1593%\n",
    "\n",
    "# round to 1 decimals in scientific notation\n",
    "print(f'π ~= {pi : .3e}') # 3.142e+00\n",
    "\n",
    "# round to whole number\n",
    "print(f'π ~= {pi : .0f}') # 3"
   ]
  },
  {
   "cell_type": "markdown",
   "id": "ec6f893b",
   "metadata": {},
   "source": [
    "### 3.3 Boolean values, logical operators\n",
    "\n",
    "**Boolean** values are those that are either `True` or `False`. Their methods are the logical operators `not`, `and`, `or`."
   ]
  },
  {
   "cell_type": "code",
   "execution_count": 1,
   "id": "f44ae855",
   "metadata": {},
   "outputs": [
    {
     "name": "stdout",
     "output_type": "stream",
     "text": [
      "1: True False\n",
      "2: False True\n",
      "3: True\n",
      "4: False\n",
      "5: False\n",
      "6: True\n",
      "7: True\n",
      "8: False\n",
      "9: True\n"
     ]
    }
   ],
   "source": [
    "t, f = True, False\n",
    "print('1:', t, f)\n",
    "\n",
    "# \"not\" flips the boolean values\n",
    "print('2:', not t, not f)\n",
    "\n",
    "# \"and\" returns True only if all connected values are True. Returns False if any are false.\n",
    "print('3:', t and t)\n",
    "print('4:', t and f)\n",
    "print('5:', t and t and t and f)\n",
    "\n",
    "# \"and\" returns True if any connected values are True. Returns False if all are false.\n",
    "print('6:', t or t)\n",
    "print('7:', t or f)\n",
    "print('8:', f or f)\n",
    "print('9:', f or f or f or f or t)"
   ]
  },
  {
   "cell_type": "markdown",
   "id": "b5657e70",
   "metadata": {},
   "source": [
    "Some other **operators on non-boolean datatypes** return boolean results:"
   ]
  },
  {
   "cell_type": "code",
   "execution_count": 96,
   "id": "74afdbec",
   "metadata": {},
   "outputs": [
    {
     "name": "stdout",
     "output_type": "stream",
     "text": [
      "True\n",
      "False\n",
      "True\n",
      "False\n",
      "True\n",
      "False\n"
     ]
    }
   ],
   "source": [
    "# \"in\" checks if collection is an element of a collection\n",
    "print('ab' in 'abc')           # True\n",
    "print('ab' in ['a', 'b', 'c']) # False\n",
    "\n",
    "# comparison operators\n",
    "print(1 > 0)                   # True\n",
    "print(True < False)            # False\n",
    "print(3 == 1 + 2)              # True\n",
    "print(3 != 1 + 2)              # False"
   ]
  },
  {
   "cell_type": "markdown",
   "id": "2da2685c",
   "metadata": {},
   "source": [
    "### 3.4 Conditional (if/else) statements\n",
    "\n",
    "Sometime we want some specific code to run only if a condition is met. To do this, we use an `if` statement that check a `boolean` value and runs the indented code block when the boolean is true:"
   ]
  },
  {
   "cell_type": "code",
   "execution_count": 26,
   "id": "51d070d5",
   "metadata": {},
   "outputs": [
    {
     "name": "stdout",
     "output_type": "stream",
     "text": [
      "What's for lunch today?\n",
      "Today is Tuesday.\n",
      "Time for Tacos!\n"
     ]
    }
   ],
   "source": [
    "is_tues = True\n",
    "\n",
    "print(\"What's for lunch today?\")\n",
    "\n",
    "if is_tues: # if True\n",
    "    \n",
    "    # run code block\n",
    "    print(\"Today is Tuesday.\")\n",
    "    print(\"Time for Tacos!\")"
   ]
  },
  {
   "cell_type": "markdown",
   "id": "844c6853",
   "metadata": {},
   "source": [
    "If a condition is not met, we can use `elif` to check other conditions in the same control flow:"
   ]
  },
  {
   "cell_type": "code",
   "execution_count": 30,
   "id": "0dd5fa6e",
   "metadata": {},
   "outputs": [
    {
     "name": "stdout",
     "output_type": "stream",
     "text": [
      "What's for lunch today?\n",
      "I'll buy lunch at Humlan.\n"
     ]
    }
   ],
   "source": [
    "is_tues = False\n",
    "packed_lunch = False\n",
    "humlan_open = True\n",
    "\n",
    "print(\"What's for lunch today?\")\n",
    "\n",
    "if is_tues: # if True\n",
    "    \n",
    "    # run code block\n",
    "    print(\"Today is Tuesday\")\n",
    "    print(\"Time for Tacos!\")\n",
    "    \n",
    "elif packed_lunch: # check if previous conditions failed\n",
    "    print(\"I've packed lunch!\")\n",
    "    \n",
    "elif humlan_open: # check if previous conditions failed\n",
    "    print(\"I'll buy lunch at Humlan.\")"
   ]
  },
  {
   "cell_type": "markdown",
   "id": "9edda58b",
   "metadata": {},
   "source": [
    "In the case of wanting to run code when no conditions are met, we use an `else` statement as a catch-all:"
   ]
  },
  {
   "cell_type": "code",
   "execution_count": 35,
   "id": "b85bd68a",
   "metadata": {},
   "outputs": [
    {
     "name": "stdout",
     "output_type": "stream",
     "text": [
      "What's for lunch today?\n",
      "I guess I'll go home for lunch today :(\n"
     ]
    }
   ],
   "source": [
    "is_tues = False\n",
    "packed_lunch = False\n",
    "humlan_open = False\n",
    "\n",
    "print(\"What's for lunch today?\")\n",
    "\n",
    "if is_tues: # if True\n",
    "    \n",
    "    # run code block\n",
    "    print(\"Today is Tuesday\")\n",
    "    print(\"Time for Tacos!\")\n",
    "    \n",
    "elif packed_lunch: # check if previous conditions failed\n",
    "    print(\"I've packed lunch!\")\n",
    "    \n",
    "elif humlan_open: # check if previous conditions failed\n",
    "    print(\"I'll buy lunch at Humlan.\")\n",
    "    \n",
    "else: # if no previous condition is met\n",
    "    print(\"I guess I'll go home for lunch today :(\")"
   ]
  },
  {
   "cell_type": "markdown",
   "id": "07a5d952",
   "metadata": {},
   "source": [
    "# Workshop 4"
   ]
  },
  {
   "cell_type": "code",
   "execution_count": 37,
   "id": "0d0063c8",
   "metadata": {},
   "outputs": [
    {
     "data": {
      "text/plain": [
       "['a', 'b', 'c']"
      ]
     },
     "execution_count": 37,
     "metadata": {},
     "output_type": "execute_result"
    }
   ],
   "source": [
    "'a,b,c'.split(',')"
   ]
  },
  {
   "cell_type": "code",
   "execution_count": 38,
   "id": "a7b3e089",
   "metadata": {},
   "outputs": [
    {
     "name": "stdout",
     "output_type": "stream",
     "text": [
      "[1, 2, 3, 'a', 'b', 'c']\n"
     ]
    },
    {
     "data": {
      "text/plain": [
       "[1, 2, 3, 'a', 'b', 'c', 'd']"
      ]
     },
     "execution_count": 38,
     "metadata": {},
     "output_type": "execute_result"
    }
   ],
   "source": [
    "mylist = [1, 2, 3, 'a', 'b', 'c']\n",
    "print(mylist) # printing original\n",
    "\n",
    "mylist.append('d')\n",
    "mylist"
   ]
  },
  {
   "cell_type": "code",
   "execution_count": 39,
   "id": "1852816a",
   "metadata": {},
   "outputs": [
    {
     "data": {
      "text/plain": [
       "[1, 2, 3, 'a', 'b', 'c', 'd', 'd']"
      ]
     },
     "execution_count": 39,
     "metadata": {},
     "output_type": "execute_result"
    }
   ],
   "source": [
    "mylist.append('d')\n",
    "mylist"
   ]
  },
  {
   "cell_type": "code",
   "execution_count": 40,
   "id": "595368ce",
   "metadata": {},
   "outputs": [
    {
     "name": "stdout",
     "output_type": "stream",
     "text": [
      "2\n",
      "[2, 3]\n"
     ]
    }
   ],
   "source": [
    "print(mylist[1])\n",
    "print(mylist[1:3])"
   ]
  },
  {
   "cell_type": "code",
   "execution_count": 41,
   "id": "309ea959",
   "metadata": {},
   "outputs": [
    {
     "data": {
      "text/plain": [
       "'abc123'"
      ]
     },
     "execution_count": 41,
     "metadata": {},
     "output_type": "execute_result"
    }
   ],
   "source": [
    "'abc' + '123'"
   ]
  },
  {
   "cell_type": "code",
   "execution_count": 42,
   "id": "a97419d8",
   "metadata": {},
   "outputs": [
    {
     "data": {
      "text/plain": [
       "[1, 2, 3, 4, 5, 6]"
      ]
     },
     "execution_count": 42,
     "metadata": {},
     "output_type": "execute_result"
    }
   ],
   "source": [
    "[1, 2, 3] + [4, 5, 6]"
   ]
  },
  {
   "cell_type": "code",
   "execution_count": 43,
   "id": "3a625305",
   "metadata": {},
   "outputs": [
    {
     "data": {
      "text/plain": [
       "{'a', 'b', 'c'}"
      ]
     },
     "execution_count": 43,
     "metadata": {},
     "output_type": "execute_result"
    }
   ],
   "source": [
    "myset = {'a', 'a', 'b', 'c'}\n",
    "myset"
   ]
  },
  {
   "cell_type": "code",
   "execution_count": 44,
   "id": "16baace6",
   "metadata": {},
   "outputs": [
    {
     "data": {
      "text/plain": [
       "{'a', 'b', 'c', 'e'}"
      ]
     },
     "execution_count": 44,
     "metadata": {},
     "output_type": "execute_result"
    }
   ],
   "source": [
    "myset.add('e')\n",
    "myset"
   ]
  },
  {
   "cell_type": "code",
   "execution_count": 45,
   "id": "397dffdb",
   "metadata": {},
   "outputs": [],
   "source": [
    "A = {1, 2, 3, 'c', 'd'}\n",
    "B = {1, 2, 'a', 'b', 'c'}"
   ]
  },
  {
   "cell_type": "code",
   "execution_count": 46,
   "id": "398cf3a9",
   "metadata": {},
   "outputs": [],
   "source": [
    "# union\n",
    "U = A | B"
   ]
  },
  {
   "cell_type": "code",
   "execution_count": 47,
   "id": "195d12c7",
   "metadata": {},
   "outputs": [
    {
     "data": {
      "text/plain": [
       "{1, 2, 3, 'a', 'b', 'c', 'd'}"
      ]
     },
     "execution_count": 47,
     "metadata": {},
     "output_type": "execute_result"
    }
   ],
   "source": [
    "U"
   ]
  },
  {
   "cell_type": "code",
   "execution_count": 48,
   "id": "b7b6930f",
   "metadata": {},
   "outputs": [
    {
     "data": {
      "text/plain": [
       "{1, 2, 'c'}"
      ]
     },
     "execution_count": 48,
     "metadata": {},
     "output_type": "execute_result"
    }
   ],
   "source": [
    "# intersection\n",
    "A & B"
   ]
  },
  {
   "cell_type": "code",
   "execution_count": 49,
   "id": "f196aa4c",
   "metadata": {},
   "outputs": [
    {
     "data": {
      "text/plain": [
       "{3, 'd'}"
      ]
     },
     "execution_count": 49,
     "metadata": {},
     "output_type": "execute_result"
    }
   ],
   "source": [
    "A - B"
   ]
  },
  {
   "cell_type": "code",
   "execution_count": 50,
   "id": "aa387bde",
   "metadata": {},
   "outputs": [
    {
     "data": {
      "text/plain": [
       "{'a', 'b'}"
      ]
     },
     "execution_count": 50,
     "metadata": {},
     "output_type": "execute_result"
    }
   ],
   "source": [
    "B - A"
   ]
  },
  {
   "cell_type": "code",
   "execution_count": 51,
   "id": "01f130d2",
   "metadata": {},
   "outputs": [
    {
     "data": {
      "text/plain": [
       "{3, 'a', 'b', 'd'}"
      ]
     },
     "execution_count": 51,
     "metadata": {},
     "output_type": "execute_result"
    }
   ],
   "source": [
    "A.symmetric_difference(B)"
   ]
  }
 ],
 "metadata": {
  "kernelspec": {
   "display_name": "Python 3",
   "language": "python",
   "name": "python3"
  },
  "language_info": {
   "codemirror_mode": {
    "name": "ipython",
    "version": 3
   },
   "file_extension": ".py",
   "mimetype": "text/x-python",
   "name": "python",
   "nbconvert_exporter": "python",
   "pygments_lexer": "ipython3",
   "version": "3.8.5"
  }
 },
 "nbformat": 4,
 "nbformat_minor": 5
}
