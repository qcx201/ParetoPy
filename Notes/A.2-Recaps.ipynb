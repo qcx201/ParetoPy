{
 "cells": [
  {
   "cell_type": "markdown",
   "id": "0fa99582",
   "metadata": {},
   "source": [
    "# Table of Contents\n",
    "\n",
    "**[Workshop 0](#Workshop-0)**\n",
    "\n",
    "* [0.1. How to Open Jupyter Notebook](#0.1.-How-to-Open-Jupyter-Notebook)\n",
    "* [0.2. What is Python?](#0.2.-What-is-Python?)\n",
    "* [0.3. What can you do with python?](#0.3.-What-can-you-do-with-python?)\n",
    "\n",
    "\n",
    "**[Workshop 1](#Workshop-1)**\n",
    "\n",
    "* [1.1. Primitive Datatypes](#1.1.-Primitive-Datatypes)\n",
    "* [1.2. Numeric Datatypes](#1.2.-Numeric-Datatypes)\n",
    "* [1.3. Strings](#1.3.-Strings)\n",
    "\n",
    "\n",
    "**[Workshop 2](#Workshop-2)**\n",
    "\n",
    "* [2.1. String indexing and slicing](#2.1.-String-indexing-and-slicing)\n",
    "* [2.2. String comparisons](#2.2.-String-comparisons)\n",
    "\n",
    "\n",
    "**[Workshop 3](#Workshop-3)**\n",
    "\n",
    "* [3.1. Special Characters](#3.1.-Special-Characters)\n",
    "* [3.2. Splitting, joining, and f-strings](#3.2.-Splitting,-joining,-and-f-strings)\n",
    "* [3.3 Boolean values, logical operators](#3.3-Boolean-values,-logical-operators)\n",
    "* [3.4 Conditional (if/else) statements](#3.4-Conditional-(if/else)-statements)\n",
    "\n",
    "**[Workshop 4](#Workshop-4)**\n",
    "\n",
    "* [4.1 Lists and tuples](#4.1-Lists-and-tuples)\n",
    "* [4.2 Sets](#4.2-Sets)\n",
    "* [4.3 Dictionaries](#4.3-Dictionaries)\n",
    "\n",
    "\n",
    "**[Workshop 5](#Workshop-5)**\n",
    "\n",
    "* [5.1 While loops](#5.1-While-loops)\n",
    "* [5.2 For loops](#5.2-For-loops)"
   ]
  },
  {
   "cell_type": "markdown",
   "id": "f8dd11ef",
   "metadata": {},
   "source": [
    "---\n",
    "# Workshop 0"
   ]
  },
  {
   "cell_type": "markdown",
   "id": "b5fa37c4",
   "metadata": {},
   "source": [
    "### 0.1. How to Open Jupyter Notebook\n",
    "\n",
    "Start **`anaconda prompt` (PC)** or **`terminal` (Mac)**.\n",
    "\n",
    "Change directory to desired folder. For example:\n",
    "\n",
    "**Windows:** use backslash `\\` to separate directory path\n",
    "```shell\n",
    "cd Documents\\ParetoPy\n",
    "```\n",
    "\n",
    "**MacOS/Unix:** use forward slash `/` to separate directory path\n",
    "```shell\n",
    "cd Documents/ParetoPy\n",
    "```\n",
    "\n",
    "Once in desired directory, type and enter (PC and Mac):\n",
    "```shell\n",
    "jupyter notebook\n",
    "```\n",
    "\n",
    "\n",
    "**Command line cheatsheets: [Windows](http://www.cs.columbia.edu/~sedwards/classes/2015/1102-fall/Command%20Prompt%20Cheatsheet.pdf) [MacOS](https://appletree.or.kr/quick_reference_cards/Unix-Linux/CLI-Cheat-Sheet.pdf)**"
   ]
  },
  {
   "cell_type": "markdown",
   "id": "e3365855",
   "metadata": {},
   "source": [
    "### 0.2. What is Python?\n",
    "\n",
    "Among other things: a **high-level, open source, object oriented programming language.**\n",
    "\n",
    "- **High level:** abstracts from details of hardware (compared to low-level languages like C or machine code)\n",
    "- **Open source:** free to use, open to anyone to modify/contribute\n",
    "- **Object oriented:** object = **properties**/attributes + **methods**/functions\n",
    "- **Programming:** instructions for computers to perform\n"
   ]
  },
  {
   "cell_type": "markdown",
   "id": "3306ba0c",
   "metadata": {},
   "source": [
    "### 0.3. What can you do with python?\n",
    "\n",
    "A list we came up with (and python packages to look out for):\n",
    "- data science (pandas, statsmodel)\n",
    "- numerical economic modelling (numpy, scipy)\n",
    "- machine learning (sklearn, tensorflow)\n",
    "- automation (os, datetime)\n",
    "- webscraping (requests, selenium, lxml, beautifulsoup)\n",
    "- webdesign (flask)\n",
    "\n",
    "**Is there anything Python can't do?** Well, it can't swallow a porcupine: https://www.telegraph.co.uk/news/worldnews/11697672/Python-chokes-to-death-after-eating-porcupine.html. But someone is working on pretty much everything else.*\n",
    "\n",
    "*Joke courtesy of https://nyudatabootcamp.gitbook.io/thebook/intro (no animals were harmed during or in the planning of workshop sessions)"
   ]
  },
  {
   "cell_type": "markdown",
   "id": "8997077f",
   "metadata": {},
   "source": [
    "---\n",
    "# Workshop 1"
   ]
  },
  {
   "cell_type": "markdown",
   "id": "7797b08c",
   "metadata": {},
   "source": [
    "### 1.1. Primitive Datatypes\n",
    "Python has four primitive datatypes:"
   ]
  },
  {
   "cell_type": "code",
   "execution_count": 1,
   "id": "a4aa8035",
   "metadata": {},
   "outputs": [],
   "source": [
    "# integer\n",
    "x = 3\n",
    "\n",
    "# float\n",
    "x = 3.14\n",
    "\n",
    "# string\n",
    "x = \"3.14\"\n",
    "y = \"123 hello world!\"\n",
    "\n",
    "# boolean\n",
    "x = True"
   ]
  },
  {
   "cell_type": "markdown",
   "id": "a4517e6d",
   "metadata": {},
   "source": [
    "You can check the type of any python object with the `type()` function. You can also change or **cast** the type of an object or variable to a specific type with `int()`, `float()`, `str()`, or `bool()`.\n",
    "\n",
    "We can think of each datatype as an object **class**, and each example of `x` above as an **object**, an instance of a object class.\n",
    "\n",
    "As we discussed in workshop 0, an object in Python and programming is defined as something that contains:\n",
    "\n",
    "   1. **properties** (or attributes, values, data, information--things the object is), and\n",
    "\n",
    "   2. **methods** (or functions, operators, actions--things the object can do)."
   ]
  },
  {
   "cell_type": "markdown",
   "id": "f9508d91",
   "metadata": {},
   "source": [
    "### 1.2. Numeric Datatypes\n",
    "\n",
    "An **integer** and **float** are both numeric datatypes. The property of an object of each type is simply the numeric value assigned.\n",
    "\n",
    "Both types have the same methods, which are the numeric operators:"
   ]
  },
  {
   "cell_type": "code",
   "execution_count": 2,
   "id": "568d4c2f",
   "metadata": {},
   "outputs": [
    {
     "name": "stdout",
     "output_type": "stream",
     "text": [
      "8\n",
      "2\n",
      "15\n",
      "1.6666666666666667\n",
      "125\n",
      "1\n",
      "2\n"
     ]
    }
   ],
   "source": [
    "# addition\n",
    "print(5 + 3) # 8\n",
    "\n",
    "# subtraction\n",
    "print(5 - 3) # 2\n",
    "\n",
    "# multiplication\n",
    "print(5 * 3) # 15\n",
    "\n",
    "# division\n",
    "print(5 / 3) # 1.6666666666666667\n",
    "\n",
    "# eprint(xponentiation\n",
    "print(5**3) # 125\n",
    "\n",
    "# integer division\n",
    "print(5 // 3) # 1\n",
    "\n",
    "# modulo\n",
    "print(5 % 3) # 2"
   ]
  },
  {
   "cell_type": "code",
   "execution_count": 3,
   "id": "bfad5e7b",
   "metadata": {},
   "outputs": [
    {
     "name": "stdout",
     "output_type": "stream",
     "text": [
      "8\n",
      "2\n",
      "15\n",
      "1.6666666666666667\n",
      "125\n",
      "1\n",
      "2\n"
     ]
    }
   ],
   "source": [
    "# addition\n",
    "print(5 + 3) # 8\n",
    "\n",
    "# subtraction\n",
    "print(5 - 3) # 2\n",
    "\n",
    "# multiplication\n",
    "print(5 * 3) # 15\n",
    "\n",
    "# division\n",
    "print(5 / 3) # 1.6666666666666667\n",
    "\n",
    "# eprint(xponentiation\n",
    "print(5**3) # 125\n",
    "\n",
    "# integer division\n",
    "print(5 // 3) # 1\n",
    "\n",
    "# modulo\n",
    "print(5 % 3) # 2"
   ]
  },
  {
   "cell_type": "markdown",
   "id": "99fc78ec",
   "metadata": {},
   "source": [
    "\n",
    "The first five of these are familiar math operations. The concept of **integer division** and **modulo** are perhaps a little less common: any fraction two numbers `p` and `q` can be written as `p / q == n + (m / q)`, where `n` is an integer, and `m < q` is the remainder (also called the **modulus**). Then the result of integer division is `p // q == n`, and the result of the modulo is `p % q == m`. \n",
    "\n",
    "These two operations are actually quite handy, but this is not the most intuitive explanation. The best way to understand them is to use them, which you can practice in #challenge-1 and #challenge-2."
   ]
  },
  {
   "cell_type": "markdown",
   "id": "b7899716",
   "metadata": {},
   "source": [
    "### 1.3. Strings\n",
    "\n",
    "**Strings** are what text data are called in python and most programming languages. The properties of a string are its characters (but its more complicated than that). Strings are actually quite a lot more complex than numeric data, especially in its methods.\n",
    "\n",
    "Last time we started discussing some basic string methods/operators:"
   ]
  },
  {
   "cell_type": "code",
   "execution_count": 4,
   "id": "7949b79d",
   "metadata": {},
   "outputs": [
    {
     "name": "stdout",
     "output_type": "stream",
     "text": [
      "HELLO!\n",
      "hello!\n"
     ]
    }
   ],
   "source": [
    "str1 = 'hello'\n",
    "\n",
    "str4 = str1 * 3 # \"hellohellohello\"\n",
    "\n",
    "\n",
    "str5 = \"HeLlO!\".upper() # upper casing\n",
    "print(str5)\n",
    "\n",
    "str6 = \"HeLlO!\".lower() # lower casing\n",
    "print(str6)"
   ]
  },
  {
   "cell_type": "markdown",
   "id": "c57204cb",
   "metadata": {},
   "source": [
    "We continue with strings in the next session."
   ]
  },
  {
   "cell_type": "markdown",
   "id": "363fa66f",
   "metadata": {},
   "source": [
    "---\n",
    "# Workshop 2"
   ]
  },
  {
   "cell_type": "markdown",
   "id": "4adab863",
   "metadata": {},
   "source": [
    "### 2.1. String indexing and slicing\n",
    "\n",
    "As we've seen, the properties of strings are more complex than that of boolean and numeric datatypes. A string is really an **ordered collection** of **unicode characters.** A collection is an object that contains other objects, which called the collection's **elements** (the elements of a string are its characters).\n",
    "\n",
    "We can use the `len()` function to get the length of the string. We can get **individual characters** of a string by **indexing** the character's position. We use positive indexing to start from left, and negative indexing to start from right. In python, positive indexes begin at **`0`**, and negative indexes begin at **`-1`:**"
   ]
  },
  {
   "cell_type": "code",
   "execution_count": 5,
   "id": "1c3b72c1",
   "metadata": {},
   "outputs": [
    {
     "name": "stdout",
     "output_type": "stream",
     "text": [
      "H\n",
      "H\n",
      "o\n",
      "o\n",
      "!\n",
      "!\n"
     ]
    }
   ],
   "source": [
    "msg = \"Hello world!\"\n",
    "n = len(msg)         # length of message (number of characters)\n",
    "\n",
    "# index first character: \"H\"\n",
    "print(msg[0])        # positive indexing\n",
    "print(msg[-n])       # negative indexing\n",
    "\n",
    "# index fifth character: \"o\"\n",
    "print(msg[4])        # positive indexing\n",
    "print(msg[-n+4])     # negative indexing\n",
    "\n",
    "# index last character: \"!\"\n",
    "print(msg[n-1])      # positive indexing\n",
    "print(msg[-1])       # negative indexing"
   ]
  },
  {
   "cell_type": "markdown",
   "id": "18bad9c4",
   "metadata": {},
   "source": [
    "We can get **segments of multiple characters** with **slicing:**"
   ]
  },
  {
   "cell_type": "code",
   "execution_count": 6,
   "id": "8398cf72",
   "metadata": {},
   "outputs": [
    {
     "name": "stdout",
     "output_type": "stream",
     "text": [
      "Hello\n",
      "Hello\n",
      "Hello\n",
      "world!\n",
      "world!\n",
      "ello\n",
      "ello\n"
     ]
    }
   ],
   "source": [
    "msg = \"Hello world!\"\n",
    "n = len(msg)         # length of message\n",
    "\n",
    "# slice \"Hello\"\n",
    "print(msg[0:5])      # positive indexing\n",
    "print(msg[:5])       # blank beginning index is zero by default\n",
    "print(msg[-n:-7])    # negative indexing\n",
    "\n",
    "# slice \"world!\"\n",
    "print(msg[6:n])      # positive indexing\n",
    "print(msg[-6:])       # blank end index is -1 or length of string by default\n",
    "\n",
    "# slice \"ello\"\n",
    "print(msg[1:5])      # blank end index is -1 by default\n",
    "print(msg[-n+1:-7])  # negative indexing"
   ]
  },
  {
   "cell_type": "markdown",
   "id": "5059fca2",
   "metadata": {},
   "source": [
    "### 2.2. String comparisons\n",
    "\n",
    "Since string characters are encoded from numbers, there is a sense of an **ordering** of characters. You can check the **ordinal** number of a character with the `ord()` function. The inverse is `chr()`, which returns the character from an ordinal:"
   ]
  },
  {
   "cell_type": "code",
   "execution_count": 7,
   "id": "62ed0123",
   "metadata": {},
   "outputs": [
    {
     "name": "stdout",
     "output_type": "stream",
     "text": [
      "65\n",
      "B\n",
      "99\n",
      "d\n"
     ]
    }
   ],
   "source": [
    "print(ord(\"A\"))  # 65\n",
    "print(chr(66))   # \"B\"\n",
    "\n",
    "print(ord(\"c\"))  # 99\n",
    "print(chr(100))  # \"d\""
   ]
  },
  {
   "cell_type": "markdown",
   "id": "ff9e9cc0",
   "metadata": {},
   "source": [
    "Because there is an ordering, you can compare strings with comparison operators which return **boolean** values. For example:"
   ]
  },
  {
   "cell_type": "code",
   "execution_count": 8,
   "id": "10dbf2bc",
   "metadata": {},
   "outputs": [
    {
     "name": "stdout",
     "output_type": "stream",
     "text": [
      "True\n",
      "True\n",
      "True\n",
      "False\n",
      "True\n",
      "False\n",
      "True\n",
      "False\n",
      "True\n",
      "True\n",
      "True\n"
     ]
    }
   ],
   "source": [
    "\n",
    "print(\"A\" == \"a\".upper())  # True (equal)\n",
    "print(\"A\" != \"a\")          # True (not equal)\n",
    "\n",
    "print(\"A\" < \"B\")           # True\n",
    "print(\"A\" > \"B\")           # False\n",
    "print(\"a\" > \"A\")           # True (lowercase has higher ordinal than uppercase)\n",
    "\n",
    "print(\"AAA\" > \"ABA\")       # False (because \"A\" < \"B\")\n",
    "print(\"aAA\" > \"ABA\")       # True  (because \"a\" > \"A\")\n",
    "\n",
    "print(\"AAA\" > \"AAA\")       # False\n",
    "print(\"AAA\" >= \"AAA\")      # True\n",
    "\n",
    "print(\"B\" in \"ABC\")        # True\n",
    "print(\"D\" not in \"ABC\")    # True"
   ]
  },
  {
   "cell_type": "markdown",
   "id": "88f225d1",
   "metadata": {},
   "source": [
    "We also discussed the `.count()` and `.find()` methods and introduced `.split()`. These functions are very useful and intuitive. Check the notebooks or videos in the #schedule for details, or use the help operator `?` in python to read their **docstrings.** For example, try running the following code:"
   ]
  },
  {
   "cell_type": "code",
   "execution_count": 9,
   "id": "c5365416",
   "metadata": {},
   "outputs": [
    {
     "name": "stdout",
     "output_type": "stream",
     "text": [
      "['Hello', 'world']\n"
     ]
    }
   ],
   "source": [
    "s = \"Hello world\"\n",
    "print(s.split(' '))    # returns [\"Hello\", \"world\"]\n",
    "\n",
    "s.split?"
   ]
  },
  {
   "cell_type": "markdown",
   "id": "62a30aa2",
   "metadata": {},
   "source": [
    "---\n",
    "# Workshop 3"
   ]
  },
  {
   "cell_type": "markdown",
   "id": "560a32d8",
   "metadata": {},
   "source": [
    "### 3.1. Special Characters\n",
    "\n",
    "Python has certain special characters that follow the **backslash** character `\\`. Two common ones are **tab `\\t`** and **newline `\\n`**:"
   ]
  },
  {
   "cell_type": "code",
   "execution_count": 10,
   "id": "1f9dd8db",
   "metadata": {},
   "outputs": [
    {
     "name": "stdout",
     "output_type": "stream",
     "text": [
      "1. Hello\tworld\n",
      "\n",
      "2. Hello\n",
      "world!\n"
     ]
    }
   ],
   "source": [
    "# tab separates characters by some automatic formatting\n",
    "print(\"1. Hello\\tworld\")\n",
    "\n",
    "# newline adds line break\n",
    "print(\"\\n2. Hello\\nworld!\")"
   ]
  },
  {
   "cell_type": "markdown",
   "id": "83380ce2",
   "metadata": {},
   "source": [
    "Backslash `\\` in python is what's called an **escape character.** It can also escape characters that have default functions other than representing the literal character. For example:"
   ]
  },
  {
   "cell_type": "code",
   "execution_count": 11,
   "id": "1a2083dd",
   "metadata": {},
   "outputs": [
    {
     "name": "stdout",
     "output_type": "stream",
     "text": [
      "1. Printing \"\\\" requires escaping it with \"\\\" first.\n",
      "\n",
      "2. This string's \"apostrophe\" must be escaped.\n",
      "\n",
      "3. The \"quote characters\" in this string must be escaped.\n"
     ]
    }
   ],
   "source": [
    "# print backslash itself, which would otherwise be an escape character\n",
    "print('1. Printing \"\\\\\" requires escaping it with \"\\\\\" first.\\n')\n",
    "\n",
    "# print apostrophe\\single-quote in single-quote enclosed strings \n",
    "print('2. This string\\'s \"apostrophe\" must be escaped.\\n') \n",
    "\n",
    "# print double-quotes in double-quote enclosed strings \n",
    "print(\"3. The \\\"quote characters\\\" in this string must be escaped.\")"
   ]
  },
  {
   "cell_type": "markdown",
   "id": "9974915b",
   "metadata": {},
   "source": [
    "### 3.2. Splitting, joining, and f-strings\n",
    "\n",
    "Last time we saw we can **split** a string on a delimiter into a list of strings:"
   ]
  },
  {
   "cell_type": "code",
   "execution_count": 12,
   "id": "88b5d963",
   "metadata": {},
   "outputs": [
    {
     "name": "stdout",
     "output_type": "stream",
     "text": [
      "['Forget', 'me', 'not']\n"
     ]
    }
   ],
   "source": [
    "# split the string on space\n",
    "words = \"Forget me not\".split(\" \")\n",
    "\n",
    "print(words) # ['Forget', 'me', 'not']"
   ]
  },
  {
   "cell_type": "markdown",
   "id": "2e4f76c3",
   "metadata": {},
   "source": [
    "To reverse this result, we can **join** a list of strings together with a delimiter:"
   ]
  },
  {
   "cell_type": "code",
   "execution_count": 13,
   "id": "d20feb43",
   "metadata": {},
   "outputs": [
    {
     "name": "stdout",
     "output_type": "stream",
     "text": [
      "Forget-me-not\n"
     ]
    }
   ],
   "source": [
    "words = \"Forget me not\".split(\" \")\n",
    "new_str = '-'.join(words)\n",
    "\n",
    "print(new_str) # \"Forget-me-not\""
   ]
  },
  {
   "cell_type": "markdown",
   "id": "b8936232",
   "metadata": {},
   "source": [
    "Python has a special type of string specifically designed to make formatting easier. This type of string is called f-strings, which has a `f` before the beginning quote, and uses `{}` brackets to format."
   ]
  },
  {
   "cell_type": "code",
   "execution_count": 14,
   "id": "187bfd8a",
   "metadata": {},
   "outputs": [
    {
     "name": "stdout",
     "output_type": "stream",
     "text": [
      "π ~= 3.1415929203539825\n",
      "π ~=  3.14159\n",
      "π ~=  314.1593%\n",
      "π ~=  3.142e+00\n",
      "π ~=  3\n"
     ]
    }
   ],
   "source": [
    "pi = 355/113\n",
    "\n",
    "# insert value directly into string\n",
    "print(f'π ~= {pi}') # 3.1415929203539825\n",
    "\n",
    "# round to 5 decimals as float\n",
    "print(f'π ~= {pi : .5f}') # 3.14259\n",
    "\n",
    "# round to 4 decimals as percentage\n",
    "print(f'π ~= {pi : .4%}') # 314.1593%\n",
    "\n",
    "# round to 1 decimals in scientific notation\n",
    "print(f'π ~= {pi : .3e}') # 3.142e+00\n",
    "\n",
    "# round to whole number\n",
    "print(f'π ~= {pi : .0f}') # 3"
   ]
  },
  {
   "cell_type": "markdown",
   "id": "0856062c",
   "metadata": {},
   "source": [
    "### 3.3 Boolean values, logical operators\n",
    "\n",
    "**Boolean** values are those that are either `True` or `False`. Their methods are the logical operators `not`, `and`, `or`."
   ]
  },
  {
   "cell_type": "code",
   "execution_count": 15,
   "id": "2e995c2c",
   "metadata": {},
   "outputs": [
    {
     "name": "stdout",
     "output_type": "stream",
     "text": [
      "1: True False\n",
      "2: False True\n",
      "3: True\n",
      "4: False\n",
      "5: False\n",
      "6: True\n",
      "7: True\n",
      "8: False\n",
      "9: True\n"
     ]
    }
   ],
   "source": [
    "t, f = True, False\n",
    "print('1:', t, f)\n",
    "\n",
    "# \"not\" flips the boolean values\n",
    "print('2:', not t, not f)\n",
    "\n",
    "# \"and\" returns True only if all connected values are True. Returns False if any are false.\n",
    "print('3:', t and t)\n",
    "print('4:', t and f)\n",
    "print('5:', t and t and t and f)\n",
    "\n",
    "# \"and\" returns True if any connected values are True. Returns False if all are false.\n",
    "print('6:', t or t)\n",
    "print('7:', t or f)\n",
    "print('8:', f or f)\n",
    "print('9:', f or f or f or f or t)"
   ]
  },
  {
   "cell_type": "markdown",
   "id": "0dc5d45a",
   "metadata": {},
   "source": [
    "Some other **operators on non-boolean datatypes** return boolean results:"
   ]
  },
  {
   "cell_type": "code",
   "execution_count": 16,
   "id": "e690b739",
   "metadata": {},
   "outputs": [
    {
     "name": "stdout",
     "output_type": "stream",
     "text": [
      "True\n",
      "False\n",
      "True\n",
      "False\n",
      "True\n",
      "False\n"
     ]
    }
   ],
   "source": [
    "# \"in\" checks if collection is an element of a collection\n",
    "print('ab' in 'abc')           # True\n",
    "print('ab' in ['a', 'b', 'c']) # False\n",
    "\n",
    "# comparison operators\n",
    "print(1 > 0)                   # True\n",
    "print(True < False)            # False\n",
    "print(3 == 1 + 2)              # True\n",
    "print(3 != 1 + 2)              # False"
   ]
  },
  {
   "cell_type": "markdown",
   "id": "8f356b05",
   "metadata": {},
   "source": [
    "### 3.4 Conditional (if/else) statements\n",
    "\n",
    "Sometime we want some specific code to run only if a condition is met. To do this, we use an `if` statement that check a `boolean` value and runs the **indented** code block when the boolean is true."
   ]
  },
  {
   "cell_type": "code",
   "execution_count": 17,
   "id": "6bc411b8",
   "metadata": {},
   "outputs": [
    {
     "name": "stdout",
     "output_type": "stream",
     "text": [
      "What's for lunch today?\n",
      "Today is Tuesday.\n",
      "Time for Tacos!\n"
     ]
    }
   ],
   "source": [
    "is_tues = True\n",
    "\n",
    "print(\"What's for lunch today?\")\n",
    "\n",
    "if is_tues: # if True\n",
    "    \n",
    "    # run code block\n",
    "    print(\"Today is Tuesday.\")\n",
    "    print(\"Time for Tacos!\")"
   ]
  },
  {
   "cell_type": "markdown",
   "id": "ce9d8534",
   "metadata": {},
   "source": [
    "If a condition is not met, we can use `elif` to check other conditions in the same control flow:"
   ]
  },
  {
   "cell_type": "code",
   "execution_count": 18,
   "id": "de934aa9",
   "metadata": {},
   "outputs": [
    {
     "name": "stdout",
     "output_type": "stream",
     "text": [
      "What's for lunch today?\n",
      "I'll buy lunch at Humlan.\n"
     ]
    }
   ],
   "source": [
    "is_tues = False\n",
    "packed_lunch = False\n",
    "humlan_open = True\n",
    "\n",
    "print(\"What's for lunch today?\")\n",
    "\n",
    "if is_tues: # if True\n",
    "    \n",
    "    # run code block\n",
    "    print(\"Today is Tuesday\")\n",
    "    print(\"Time for Tacos!\")\n",
    "    \n",
    "elif packed_lunch: # check if previous conditions failed\n",
    "    print(\"I've packed lunch!\")\n",
    "    \n",
    "elif humlan_open: # check if previous conditions failed\n",
    "    print(\"I'll buy lunch at Humlan.\")"
   ]
  },
  {
   "cell_type": "markdown",
   "id": "91379090",
   "metadata": {},
   "source": [
    "In the case of wanting to run code when no conditions are met, we use an `else` statement as a catch-all:"
   ]
  },
  {
   "cell_type": "code",
   "execution_count": 19,
   "id": "cc2fc43a",
   "metadata": {},
   "outputs": [
    {
     "name": "stdout",
     "output_type": "stream",
     "text": [
      "What's for lunch today?\n",
      "I guess I'll go home for lunch today :(\n"
     ]
    }
   ],
   "source": [
    "is_tues = False\n",
    "packed_lunch = False\n",
    "humlan_open = False\n",
    "\n",
    "print(\"What's for lunch today?\")\n",
    "\n",
    "if is_tues: # if True\n",
    "    \n",
    "    # run code block\n",
    "    print(\"Today is Tuesday\")\n",
    "    print(\"Time for Tacos!\")\n",
    "    \n",
    "elif packed_lunch: # check if previous conditions failed\n",
    "    print(\"I've packed lunch!\")\n",
    "    \n",
    "elif humlan_open: # check if previous conditions failed\n",
    "    print(\"I'll buy lunch at Humlan.\")\n",
    "    \n",
    "else: # if no previous condition is met\n",
    "    print(\"I guess I'll go home for lunch today :(\")"
   ]
  },
  {
   "cell_type": "markdown",
   "id": "9bd4df31",
   "metadata": {},
   "source": [
    "---\n",
    "# Workshop 4"
   ]
  },
  {
   "cell_type": "markdown",
   "id": "e13f7179",
   "metadata": {},
   "source": [
    "### 4.1 Lists and tuples\n",
    "\n",
    "In python, a `list` is a `collection` of elements contained in `[]` square brackets. Elements of collections are separated by commas in python. We've already seen `lists` from the `.split` method:"
   ]
  },
  {
   "cell_type": "code",
   "execution_count": 20,
   "id": "3b48fbe9",
   "metadata": {},
   "outputs": [
    {
     "data": {
      "text/plain": [
       "['a', 'b', 'c']"
      ]
     },
     "execution_count": 20,
     "metadata": {},
     "output_type": "execute_result"
    }
   ],
   "source": [
    "'a,b,c'.split(',')"
   ]
  },
  {
   "cell_type": "markdown",
   "id": "cec0d858",
   "metadata": {},
   "source": [
    "Collections can contain any python objects (including other collections). We add an element to the end of a list by using the `.append` method:"
   ]
  },
  {
   "cell_type": "code",
   "execution_count": 21,
   "id": "e698bbc4",
   "metadata": {},
   "outputs": [
    {
     "name": "stdout",
     "output_type": "stream",
     "text": [
      "[1, 2, 3, 'a', 'b', 'c']\n",
      "[1, 2, 3, 'a', 'b', 'c', 'd']\n"
     ]
    }
   ],
   "source": [
    "mylist = [1, 2, 3, 'a', 'b', 'c'] # assign list\n",
    "\n",
    "print(mylist) # printing original\n",
    "\n",
    "mylist.append('d')\n",
    "print(mylist)"
   ]
  },
  {
   "cell_type": "markdown",
   "id": "3ce0b4b3",
   "metadata": {},
   "source": [
    "You can also concatenate lists with the `+` operator. But note that while `.append` places the new element to the existing list, the concatenation outputs a new list without assigning it."
   ]
  },
  {
   "cell_type": "code",
   "execution_count": 22,
   "id": "fa92b512",
   "metadata": {},
   "outputs": [
    {
     "name": "stdout",
     "output_type": "stream",
     "text": [
      "[1, 2, 3, 4, 5, 6]\n",
      "[1, 2, 3] [4, 5, 6]\n"
     ]
    }
   ],
   "source": [
    "list1 = [1, 2, 3]\n",
    "list2 = [4, 5, 6]\n",
    "\n",
    "print(list1 + list2) # print concatentated list\n",
    "print(list1, list2) # the originals lists are unchanged"
   ]
  },
  {
   "cell_type": "markdown",
   "id": "d1387d8b",
   "metadata": {},
   "source": [
    "Lists are `ordered` collections, meaning the elements can be indexed just like strings:"
   ]
  },
  {
   "cell_type": "code",
   "execution_count": 23,
   "id": "016170d6",
   "metadata": {},
   "outputs": [
    {
     "name": "stdout",
     "output_type": "stream",
     "text": [
      "2\n",
      "[1, 2, 3]\n"
     ]
    }
   ],
   "source": [
    "print(mylist[1])\n",
    "print(mylist[:3])"
   ]
  },
  {
   "cell_type": "markdown",
   "id": "aa084fa5",
   "metadata": {},
   "source": [
    "Remove elements with the `.pop` method, which takes the index of the element to be removed as the argument:"
   ]
  },
  {
   "cell_type": "code",
   "execution_count": 24,
   "id": "f68b8afa",
   "metadata": {},
   "outputs": [
    {
     "name": "stdout",
     "output_type": "stream",
     "text": [
      "[1, 2, 3, 'four']\n",
      "[1, 2, 3]\n"
     ]
    }
   ],
   "source": [
    "mylist = [1, 2, 3, 'four']\n",
    "print(mylist)\n",
    "\n",
    "mylist.pop(3) # element is removed\n",
    "print(mylist)"
   ]
  },
  {
   "cell_type": "markdown",
   "id": "327ef95e",
   "metadata": {},
   "source": [
    "You can also change an element in a list with indexing:"
   ]
  },
  {
   "cell_type": "code",
   "execution_count": 25,
   "id": "047dc59b",
   "metadata": {},
   "outputs": [
    {
     "name": "stdout",
     "output_type": "stream",
     "text": [
      "[1, 2, 3, 4]\n"
     ]
    }
   ],
   "source": [
    "mylist = [1, 2, 3, 'four']\n",
    "\n",
    "mylist[3] = 4\n",
    "print(mylist)"
   ]
  },
  {
   "cell_type": "markdown",
   "id": "622eaaa0",
   "metadata": {},
   "source": [
    "A `tuple` also an `ordered` collection with `()` round brackets, but you cannot change the elements once the tuple is assigned. A list is `mutable`, whereas a tuple is `immutable`."
   ]
  },
  {
   "cell_type": "code",
   "execution_count": 26,
   "id": "0f3d9b2a",
   "metadata": {},
   "outputs": [
    {
     "name": "stdout",
     "output_type": "stream",
     "text": [
      "(1, 2, 3)\n"
     ]
    }
   ],
   "source": [
    "mytuple = (1, 2, 3, 'four')\n",
    "\n",
    "print(mytuple[:3]) # can index\n",
    "\n",
    "# mytuple[3] = 4 # this will have an error\n",
    "\n",
    "# cannot change elements of a tuple"
   ]
  },
  {
   "cell_type": "markdown",
   "id": "6fad1e18",
   "metadata": {},
   "source": [
    "### 4.2 Sets\n",
    "\n",
    "Sets are `unordered` collections of unqiue elements. Any repeated elements are removed. This can be a very handy feature."
   ]
  },
  {
   "cell_type": "code",
   "execution_count": 27,
   "id": "f9462b0a",
   "metadata": {},
   "outputs": [
    {
     "data": {
      "text/plain": [
       "{'a', 'b', 'c'}"
      ]
     },
     "execution_count": 27,
     "metadata": {},
     "output_type": "execute_result"
    }
   ],
   "source": [
    "myset = {'a', 'a', 'b', 'c'}\n",
    "myset"
   ]
  },
  {
   "cell_type": "markdown",
   "id": "b806ad1d",
   "metadata": {},
   "source": [
    "You can add and remove elements directly."
   ]
  },
  {
   "cell_type": "code",
   "execution_count": 28,
   "id": "6a072e5c",
   "metadata": {},
   "outputs": [
    {
     "name": "stdout",
     "output_type": "stream",
     "text": [
      "Remove: {1, 2, 3}\n",
      "Add: {1, 2, 3, 4}\n"
     ]
    }
   ],
   "source": [
    "myset = {1, 2, 3, 'four'}\n",
    "\n",
    "myset.remove('four') # remove element\n",
    "print('Remove:', myset)\n",
    "\n",
    "myset.add(4) # add element\n",
    "print('Add:', myset)"
   ]
  },
  {
   "cell_type": "markdown",
   "id": "f6fa690f",
   "metadata": {},
   "source": [
    "The set methods are the `union`, `intersection`, and `difference` operators. There is also a `symmetric` method:"
   ]
  },
  {
   "cell_type": "code",
   "execution_count": 29,
   "id": "7025f5e2",
   "metadata": {},
   "outputs": [
    {
     "name": "stdout",
     "output_type": "stream",
     "text": [
      "{'d', 'a', 'e', 'c', 'b'}\n",
      "{'c', 'd', 'b'}\n",
      "{'a'}\n",
      "{'e'}\n",
      "{'a', 'e'}\n"
     ]
    }
   ],
   "source": [
    "A = {'a', 'b', 'c', 'd'}\n",
    "B = {'b', 'c', 'd', 'e'}\n",
    "\n",
    "print(A | B) # union\n",
    "\n",
    "print(A & B) # intersection\n",
    "\n",
    "print(A - B) # differences\n",
    "print(B - A)\n",
    "\n",
    "# symmetric difference\n",
    "print(A ^ B)"
   ]
  },
  {
   "cell_type": "markdown",
   "id": "86faa715",
   "metadata": {},
   "source": [
    "### 4.3 Dictionaries\n",
    "\n",
    "A `dictionary` is an unordered collection where the elements are `key-value pairs`. The keys must be unique, and are the indexes to retrieve the values. The key-value pairs are denoted with colons like so:"
   ]
  },
  {
   "cell_type": "code",
   "execution_count": 30,
   "id": "b8ce486e",
   "metadata": {},
   "outputs": [
    {
     "name": "stdout",
     "output_type": "stream",
     "text": [
      "banana\n"
     ]
    }
   ],
   "source": [
    "mydict = {'a' : 'apple',\n",
    "          'b' : 'banana',\n",
    "          'c' : 'clementine'}\n",
    "\n",
    "print(mydict['b'])"
   ]
  },
  {
   "cell_type": "markdown",
   "id": "66d589b5",
   "metadata": {},
   "source": [
    "We can add, remove, or reassign key-value pairs with the indexing:"
   ]
  },
  {
   "cell_type": "code",
   "execution_count": 31,
   "id": "4f3806fc",
   "metadata": {},
   "outputs": [
    {
     "name": "stdout",
     "output_type": "stream",
     "text": [
      "{'a': 'apple', 'b': 'banana', 'c': 'clementine', 'abc': 'fruit salad'}\n",
      "{'a': 'apple', 'b': 'banana', 'abc': 'fruit salad'}\n",
      "{'a': 'apricot', 'b': 'banana', 'abc': 'fruit salad'}\n"
     ]
    }
   ],
   "source": [
    "mydict = {'a' : 'apple', 'b' : 'banana', 'c': 'clementine'}\n",
    "\n",
    "mydict['abc'] = 'fruit salad' # add element\n",
    "print(mydict)\n",
    "\n",
    "mydict.pop('c') # remove element\n",
    "print(mydict)\n",
    "\n",
    "mydict['a'] = 'apricot' # reassign\n",
    "print(mydict)"
   ]
  },
  {
   "cell_type": "markdown",
   "id": "aaab9f88",
   "metadata": {},
   "source": [
    "You can make complex data structures by having collections as elements of other collections. For example:"
   ]
  },
  {
   "cell_type": "code",
   "execution_count": 32,
   "id": "e8565b3f",
   "metadata": {},
   "outputs": [
    {
     "name": "stdout",
     "output_type": "stream",
     "text": [
      "{'fruits': {'a': ['apple', 'apricot'], 'b': ['banana'], 'c': ['clementine', 'cherry', 'cantaloupe']}, 'numbers': {'population': 10350000, 'jackpot': 125000000}}\n"
     ]
    }
   ],
   "source": [
    "data = {\n",
    "    'fruits' : {'a' : ['apple', 'apricot'],\n",
    "                'b' : ['banana'],\n",
    "                'c' : ['clementine', 'cherry', 'cantaloupe']},\n",
    "    'numbers' : {'population' : 10_350_000,\n",
    "                 'jackpot' : 125_000_000}\n",
    "}\n",
    "\n",
    "print(data)"
   ]
  },
  {
   "cell_type": "markdown",
   "id": "68061b0d",
   "metadata": {},
   "source": [
    "---\n",
    "# Workshop 5"
   ]
  },
  {
   "cell_type": "markdown",
   "id": "b4466206",
   "metadata": {},
   "source": [
    "### 5.1 While loops\n",
    "\n",
    "A `while` loop are is very similar to an if statement, except the code block is repeated while the condition is met. Each time the code block is run is called an iteration."
   ]
  },
  {
   "cell_type": "code",
   "execution_count": 33,
   "id": "56202aac",
   "metadata": {},
   "outputs": [
    {
     "name": "stdout",
     "output_type": "stream",
     "text": [
      "1\n",
      "2\n",
      "3\n",
      "4\n",
      "5\n",
      "6\n",
      "7\n",
      "8\n",
      "9\n",
      "10\n"
     ]
    }
   ],
   "source": [
    "n = 0\n",
    "\n",
    "while n < 10: # check condition\n",
    "    \n",
    "    # if true run code block\n",
    "    n += 1\n",
    "    print(n)"
   ]
  },
  {
   "cell_type": "markdown",
   "id": "f68cd02e",
   "metadata": {},
   "source": [
    "That means that if the condition is never false, the code block will repeat forever. For example, try running this in a code block:\n",
    "```python\n",
    "n = 0\n",
    "while n >= 0: # this loop will never terminate unless you interrupt it\n",
    "    n+=1\n",
    "    print(n)\n",
    "```\n",
    "If you get stuck in a loop, you should interrupt the kernel (shortcut is to hit `I` twice)."
   ]
  },
  {
   "cell_type": "markdown",
   "id": "2f53cd35",
   "metadata": {},
   "source": [
    "### 5.2 For loops\n",
    "\n",
    "For loops are similar to while loops, except that it iterates through elements of an object. It does this by assigning the element to a variable in each iteration."
   ]
  },
  {
   "cell_type": "code",
   "execution_count": 34,
   "id": "20223735",
   "metadata": {},
   "outputs": [
    {
     "name": "stdout",
     "output_type": "stream",
     "text": [
      "1\n",
      "2\n",
      "3\n",
      "a\n",
      "b\n",
      "c\n"
     ]
    }
   ],
   "source": [
    "mylist = [1, 2, 3, 'a', 'b', 'c']\n",
    "\n",
    "for x in mylist: # assigns element to variable\n",
    "    print(x)"
   ]
  },
  {
   "cell_type": "markdown",
   "id": "88c364ac",
   "metadata": {},
   "source": [
    "The code above is equivalent to:"
   ]
  },
  {
   "cell_type": "code",
   "execution_count": 35,
   "id": "3e948ef3",
   "metadata": {},
   "outputs": [
    {
     "name": "stdout",
     "output_type": "stream",
     "text": [
      "1\n",
      "2\n",
      "3\n",
      "a\n",
      "b\n",
      "c\n"
     ]
    }
   ],
   "source": [
    "print(1)\n",
    "print(2)\n",
    "print(3)\n",
    "print('a')\n",
    "print('b')\n",
    "print('c')"
   ]
  },
  {
   "cell_type": "markdown",
   "id": "630897cd",
   "metadata": {},
   "source": [
    "It's very common to iterate through a number sequence. The `range()` function comes in handy. Check out its docstring for details of its arguments."
   ]
  },
  {
   "cell_type": "code",
   "execution_count": 36,
   "id": "f1ba64d8",
   "metadata": {},
   "outputs": [
    {
     "name": "stdout",
     "output_type": "stream",
     "text": [
      "0 sheep\n",
      "1 sheep\n",
      "2 sheep\n",
      "3 sheep\n",
      "4 sheep\n",
      "5 sheep\n",
      "6 sheep\n",
      "7 sheep\n",
      "8 sheep\n",
      "9 sheep\n"
     ]
    }
   ],
   "source": [
    "for x in range(10):\n",
    "    \n",
    "    msg = f'{x} sheep'\n",
    "    print(msg)"
   ]
  },
  {
   "cell_type": "code",
   "execution_count": 37,
   "id": "835bda5a",
   "metadata": {},
   "outputs": [],
   "source": [
    "# check docstring\n",
    "range?"
   ]
  },
  {
   "cell_type": "markdown",
   "id": "c5195f9a",
   "metadata": {},
   "source": [
    "We can also iterate through multiple objects simultaenously with the `zip()` function:"
   ]
  },
  {
   "cell_type": "code",
   "execution_count": 38,
   "id": "f414c878",
   "metadata": {},
   "outputs": [
    {
     "name": "stdout",
     "output_type": "stream",
     "text": [
      "1 a\n",
      "2 b\n",
      "3 c\n"
     ]
    }
   ],
   "source": [
    "A = range(1, 4)\n",
    "B = 'abc'\n",
    "\n",
    "for a, b in zip(A, B):\n",
    "    print(a, b)"
   ]
  },
  {
   "cell_type": "markdown",
   "id": "497152d5",
   "metadata": {},
   "source": [
    "Iterating through a dictionary directly will only give you the keys. We can use the `.items()` method to iterate through the key-value pairs."
   ]
  },
  {
   "cell_type": "code",
   "execution_count": 39,
   "id": "5f7c7603",
   "metadata": {},
   "outputs": [
    {
     "name": "stdout",
     "output_type": "stream",
     "text": [
      "a\n",
      "b\n",
      "c\n",
      "a is for apple\n",
      "b is for banana\n",
      "c is for cantaloupe\n"
     ]
    }
   ],
   "source": [
    "mydict = {'a' : 'apple', 'b' : 'banana', 'c' : 'cantaloupe'}\n",
    "\n",
    "\n",
    "for k in mydict: # only iterate through keys\n",
    "    print(k)\n",
    "    \n",
    "for k, v in mydict.items(): # get keys and values\n",
    "    print(k, 'is for', v)"
   ]
  },
  {
   "cell_type": "markdown",
   "id": "73824d20",
   "metadata": {},
   "source": [
    "---\n",
    "# Workshop 6"
   ]
  },
  {
   "cell_type": "markdown",
   "id": "38b43650",
   "metadata": {},
   "source": [
    "### 6.1 More loop patterns"
   ]
  },
  {
   "cell_type": "markdown",
   "id": "f8754e6d",
   "metadata": {},
   "source": [
    "Iteration are one of the superpowers of programming."
   ]
  },
  {
   "cell_type": "code",
   "execution_count": null,
   "id": "a8e84ac9",
   "metadata": {},
   "outputs": [],
   "source": []
  }
 ],
 "metadata": {
  "kernelspec": {
   "display_name": "Python 3",
   "language": "python",
   "name": "python3"
  },
  "language_info": {
   "codemirror_mode": {
    "name": "ipython",
    "version": 3
   },
   "file_extension": ".py",
   "mimetype": "text/x-python",
   "name": "python",
   "nbconvert_exporter": "python",
   "pygments_lexer": "ipython3",
   "version": "3.8.5"
  }
 },
 "nbformat": 4,
 "nbformat_minor": 5
}
