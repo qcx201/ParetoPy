{
 "cells": [
  {
   "cell_type": "markdown",
   "id": "0d4ac872",
   "metadata": {},
   "source": [
    "[**Challenge 0**](#Challenge-0)\n",
    "\n",
    "[**Challenge 1**](#Challenge-1)\n",
    "\n",
    "[**Challenge 2**](#Challenge-2)\n",
    "\n",
    "[**Challenge 3**](#Challenge-3)"
   ]
  },
  {
   "cell_type": "markdown",
   "id": "61858820",
   "metadata": {},
   "source": [
    "\n",
    "# Challenge 0\n",
    "To infinity and beyond 🚀"
   ]
  },
  {
   "cell_type": "markdown",
   "id": "a131e48b",
   "metadata": {},
   "source": [
    "**(Warm-Up)**\n",
    "\n",
    "A pizza delivery boy accidentally falls into a cryogenic chamber on New Years Eve, 1999, and is reanimated in the year 3000. \n",
    "\n",
    "At the time of his freezing, he had $0.93 in his bank account. Assuming an average 2.25\\% interest rate compounded annually, how much money will he have in the bank when he wakes up?\n",
    "\n",
    "Double check: https://www.youtube.com/watch?v=6JwkaLt9pf8\n",
    "\n",
    "---"
   ]
  },
  {
   "cell_type": "code",
   "execution_count": 1,
   "id": "1a532d79",
   "metadata": {},
   "outputs": [
    {
     "name": "stdout",
     "output_type": "stream",
     "text": [
      "With $0.93 in the bank and 2.25% interest compounded annually over 1000 years...\n",
      "... his balance will be $4,283,508,449.71.\n"
     ]
    }
   ],
   "source": [
    "# warm-up\n",
    "\n",
    "principal = 0.93\n",
    "apr = 2.25 / 100\n",
    "t = 1000\n",
    "\n",
    "balance = principal * (1+apr)**t\n",
    "\n",
    "print(f'With ${principal} in the bank and {apr:.2%} interest compounded annually over {t} years...')\n",
    "print(f'... his balance will be ${balance:,.2f}.')"
   ]
  },
  {
   "cell_type": "markdown",
   "id": "43d49682",
   "metadata": {},
   "source": [
    "**(Challenge)**\n",
    "\n",
    "Suppose a mile is **1.609 km**, and the speed of light is **299,792,458 m/s** in a vacuum. The average distance between the Earth and the Sun is called an astronomical unit, or AU, which is about **92,955,807 miles**. How many **`astronomical units`** are there in a **`light-year`**?\n",
    "\n",
    "<!-- Share your solution below! Remember to use\n",
    "\n",
    "> ```python\n",
    "> # your code here\n",
    "> ```\n",
    "\n",
    "to format your code nicely 👌\n",
    "\n",
    "--- -->"
   ]
  },
  {
   "cell_type": "code",
   "execution_count": 2,
   "id": "11e4ef99",
   "metadata": {},
   "outputs": [
    {
     "name": "stdout",
     "output_type": "stream",
     "text": [
      "AU per light-year: 63254.598047256135\n"
     ]
    }
   ],
   "source": [
    "# challenge\n",
    "\n",
    "c_mps = 299_792_458    # m/s\n",
    "mi_per_au = 92_955_807 # miles\n",
    "km_per_mi = 1.609      # km / mile\n",
    "\n",
    "c_kmps = c_mps / 1000             # km/s\n",
    "km_per_au = mi_per_au * km_per_mi # km\n",
    "\n",
    "# seconds in year: 365.25 days/year x 24 hr/day x 60 m/hr x 60 s/m\n",
    "spy = 365.25 * 24 * 60 * 60 # s/year\n",
    "\n",
    "lyr_km = c_kmps * spy # lyr in km\n",
    "\n",
    "lyr_per_au = lyr_km / km_per_au # result\n",
    "\n",
    "print('AU per light-year:', lyr_per_au)"
   ]
  },
  {
   "cell_type": "code",
   "execution_count": null,
   "id": "c051c245",
   "metadata": {},
   "outputs": [],
   "source": []
  },
  {
   "cell_type": "markdown",
   "id": "64ddecf8",
   "metadata": {},
   "source": [
    "# Challenge 1\n",
    "999,999,997... 999,999,998... 999,999,999... ⌛"
   ]
  },
  {
   "cell_type": "markdown",
   "id": "cad8cc8c",
   "metadata": {},
   "source": [
    "**(Warm-up)**\n",
    "\n",
    "What is **`1000`** seconds in minutes and seconds? Print it in the format **`mm:ss`**.\n",
    "\n",
    "---"
   ]
  },
  {
   "cell_type": "code",
   "execution_count": 3,
   "id": "cb3c5ff1",
   "metadata": {},
   "outputs": [
    {
     "name": "stdout",
     "output_type": "stream",
     "text": [
      "1000 seconds is equal to 16 m 40 s\n"
     ]
    }
   ],
   "source": [
    "# warm-up\n",
    "\n",
    "t = 1000\n",
    "print(t, \"seconds is equal to\", t//60, \"m\", t%60, \"s\")"
   ]
  },
  {
   "cell_type": "markdown",
   "id": "4f143137",
   "metadata": {},
   "source": [
    "**(Challenge)**\n",
    "\n",
    "One million seconds is equal to __11 days, 13 hours, 46 minutes and 40 seconds__ (according to quora).\n",
    "\n",
    "Print **`one billion seconds`** in years, days, hours, minutes, and seconds.\n",
    "\n",
    "<!-- Share your solution below! Remember to use\n",
    "\n",
    "```python\n",
    "# your code here\n",
    "```\n",
    "\n",
    "\n",
    "to format your code nicely 👌\n",
    "\n",
    "--- -->"
   ]
  },
  {
   "cell_type": "code",
   "execution_count": 4,
   "id": "d11cb46f",
   "metadata": {},
   "outputs": [
    {
     "name": "stdout",
     "output_type": "stream",
     "text": [
      "31 years 8 months 7 days 1 hours 46 minutes 40.0 seconds\n"
     ]
    }
   ],
   "source": [
    "# challenge\n",
    "\n",
    "t = 1e9\n",
    "\n",
    "# modulo bases: amount of each unit before overflow\n",
    "m_s = 60           # seconds\n",
    "m_mi = 60          # minutes\n",
    "m_hr = 24          # hours\n",
    "m_dy = 365.25 / 12 # days in an average year\n",
    "m_mo = 12          # months\n",
    "\n",
    "# bases: seconds in each unit denom\n",
    "b_mi = 60 \n",
    "b_hr = b_mi * m_mi # s/hr : 60 * 60\n",
    "b_dy = b_hr * m_hr # s/dy : 60 * 60 * 24\n",
    "b_mo = b_dy * m_dy # s/mo : 60 * 60 * 24 * 365.25/12\n",
    "b_yr = b_mo * m_mo # s/yr : 60 * 60 * 24 * 365.25/12 * 12\n",
    "\n",
    "s = t % m_s\n",
    "mi = int((t // b_mi) % m_mi)\n",
    "hr = int((t // b_hr) % m_hr)\n",
    "dy = int((t // b_dy) % m_dy)\n",
    "mo = int((t // b_mo) % m_mo)\n",
    "yr = int(t // b_yr)\n",
    "\n",
    "print(yr, \"years\", mo, \"months\", dy, \"days\", hr, \"hours\", mi, \"minutes\" , s, \"seconds\")"
   ]
  },
  {
   "cell_type": "code",
   "execution_count": 5,
   "id": "b25a4f2f",
   "metadata": {},
   "outputs": [
    {
     "name": "stdout",
     "output_type": "stream",
     "text": [
      " 31 years 8 months 7 days 1 hour 46 minutes 40 seconds\n"
     ]
    }
   ],
   "source": [
    "# solution robust to arbritrary time units and unit plurality\n",
    "t = 1e9\n",
    "\n",
    "# units [mod base, unit name singular, unit name plural]\n",
    "mods = [[60, 'second', 'seconds'],\n",
    "        [60, 'minute', 'minutes'],\n",
    "        [24, 'hour', 'hours'],\n",
    "        [365.25/12, 'day', 'days'],\n",
    "        [12, 'month', 'months'],\n",
    "        [100, 'year', 'years'],\n",
    "        [10, 'century', 'centuries'],\n",
    "        [1_000_000, 'millenium', 'millenia'],\n",
    "        [None, 'eon', 'eons'] # none for unmodulated\n",
    "       ]\n",
    "\n",
    "\n",
    "# result and first base\n",
    "msg, base = '', 1\n",
    "\n",
    "# ensure last round (t % base) == t\n",
    "mods[-1][0] = t + 1\n",
    "\n",
    "for mod, sing_unit, plur_unit in mods:\n",
    "    \n",
    "    # calculate unit value (integer seconds per base modulated)\n",
    "    val = int((t // base) % mod)\n",
    "\n",
    "    # update base value\n",
    "    base *= mod\n",
    "\n",
    "    # time unit singular/plural with boolean multiplcation\n",
    "    unit = sing_unit * (val <= 1) + plur_unit * (val > 1)\n",
    "    \n",
    "    # add to result string if unit value >= 1\n",
    "    msg = (val >= 1) * f' {val} {unit}' + msg # use plural unit\n",
    "    \n",
    "print(msg)"
   ]
  },
  {
   "cell_type": "markdown",
   "id": "255b4384",
   "metadata": {},
   "source": [
    "# Challenge 2\n",
    "To 1 or not to 1? 💀"
   ]
  },
  {
   "cell_type": "markdown",
   "id": "a7a11f3c",
   "metadata": {},
   "source": [
    "**(Warm-up)**\n",
    "\n",
    "Given a string that tells 24-hr time*, convert it to a string that tells 12-hr time.\n",
    "```python\n",
    "# for example, if\n",
    "t_24h = \"23:45\"\n",
    "\n",
    "# then your result should be\n",
    "t_12h = # \"11:45\"\n",
    "\n",
    "print (t_12h)\n",
    "```\n",
    "*Assume the hour is zero-padded, e.g. \"01:00\" instead of \"1:00\".\n",
    "\n",
    "---"
   ]
  },
  {
   "cell_type": "code",
   "execution_count": 6,
   "id": "cd3dce12",
   "metadata": {},
   "outputs": [
    {
     "name": "stdout",
     "output_type": "stream",
     "text": [
      "11:45 pm\n"
     ]
    }
   ],
   "source": [
    "# warm-up\n",
    "t_24h = \"23:45\"\n",
    "\n",
    "# get string index of \":\"\n",
    "colon_index = t_24h.find(':')\n",
    "\n",
    "# slice hour and set to integer\n",
    "h_24 = int(t_24h[:colon_index])\n",
    "\n",
    "# modulate over 12\n",
    "h_12 = h_24 % 12\n",
    "\n",
    "# add 12hr hour to minutes\n",
    "t_12h = str(h_12) + t_24h[colon_index:]\n",
    "\n",
    "# check if over 12: can also use boolean operator here\n",
    "over_12 = h_24 // 12\n",
    "\n",
    "# add pm / am if over 12\n",
    "t_12h += ' pm' * over_12 + ' am' * (1 - over_12)\n",
    "\n",
    "print(t_12h)"
   ]
  },
  {
   "cell_type": "markdown",
   "id": "d97191c0",
   "metadata": {},
   "source": [
    "**(Challenge)**\n",
    "\n",
    "In base-10 or the decimal system, the number **10** is can be expressed as\n",
    "> **10** = **1** (10) + **0** (1).\n",
    "\n",
    "Similarly, in __binary__ or base-2 system, the decimal number **10** is written as\n",
    "> __**1010**__ = **1** (8) + **0** (4) + **1** (2) + **0** (1).\n",
    "\n",
    "Print the **`binary`** representation of the decimal number **`100`**.\n",
    "\n",
    "<!-- Share your solution below! Remember to use \n",
    "\n",
    "> \\```python\n",
    "> # your code here\n",
    "> \\```\n",
    "\n",
    "to format your code nicely :ok_hand:\n",
    "\n",
    "--- -->"
   ]
  },
  {
   "cell_type": "code",
   "execution_count": 7,
   "id": "684c8d9c",
   "metadata": {},
   "outputs": [
    {
     "name": "stdout",
     "output_type": "stream",
     "text": [
      "1010\n"
     ]
    }
   ],
   "source": [
    "# challenge\n",
    "\n",
    "# base-10 number\n",
    "n = 10\n",
    "\n",
    "# base\n",
    "base = 2\n",
    "\n",
    "p0 = (n // base**0) % base # base**0 place\n",
    "p1 = (n // base**1) % base # base**1 place\n",
    "p2 = (n // base**2) % base # base**2 place\n",
    "p3 = (n // base**3) % base # base**3 place\n",
    "\n",
    "# new base number\n",
    "nb = f'{p3}{p2}{p1}{p0}'\n",
    "\n",
    "print(nb)"
   ]
  },
  {
   "cell_type": "code",
   "execution_count": 8,
   "id": "6f3ab13e",
   "metadata": {},
   "outputs": [
    {
     "name": "stdout",
     "output_type": "stream",
     "text": [
      "1100100\n"
     ]
    }
   ],
   "source": [
    "# robust to arbitrary n and base\n",
    "\n",
    "n = 100\n",
    "base = 2\n",
    "\n",
    "# initiate total and exponent\n",
    "total, power = 0, 0\n",
    "\n",
    "# initiate result string\n",
    "res = ''\n",
    "\n",
    "while total < n:\n",
    "        \n",
    "    # place value of digit\n",
    "    place_value = base**power\n",
    "    \n",
    "    # update exponent for next digit\n",
    "    power += 1\n",
    "    \n",
    "    # digit\n",
    "    digit = (n // place_value) % base\n",
    "    \n",
    "    # add total of digits so far in base-10\n",
    "    total += digit * place_value\n",
    "    \n",
    "    # add string result to left\n",
    "    res = str(digit) + res\n",
    "    \n",
    "print(res)"
   ]
  },
  {
   "cell_type": "code",
   "execution_count": null,
   "id": "3f387688",
   "metadata": {},
   "outputs": [],
   "source": []
  },
  {
   "cell_type": "markdown",
   "id": "dd7dc6df",
   "metadata": {},
   "source": [
    "# Challenge 3"
   ]
  },
  {
   "cell_type": "markdown",
   "id": "2353e859",
   "metadata": {},
   "source": [
    "**(Warm-up)**\n",
    "\n",
    "Calculate the **minimum, maximum, and absolute values** of any two numbers `x` and `y`. Try this both with and without built-in python functions.\n",
    "\n",
    "---"
   ]
  },
  {
   "cell_type": "code",
   "execution_count": 9,
   "id": "c4e177e3",
   "metadata": {},
   "outputs": [
    {
     "name": "stdout",
     "output_type": "stream",
     "text": [
      "Built-in results:\n",
      "(x, y): \t (-2, 1)\n",
      "min(x, y): \t -2\n",
      "max(x, y): \t 1\n",
      "abs(x, y): \t (2, 1)\n",
      "-----\n",
      "From scratch results:\n",
      "(x, y): \t (-2, 1)\n",
      "min(x, y): \t -2\n",
      "max(x, y): \t 1\n",
      "abs(x, y): \t (2, 1)\n"
     ]
    }
   ],
   "source": [
    "x, y = -2, 1\n",
    "\n",
    "# with built-in functions\n",
    "\n",
    "min_val = min(x, y)\n",
    "max_val = max(x, y)\n",
    "abs_x, abs_y = abs(x), abs(y)\n",
    "\n",
    "print('Built-in results:')\n",
    "print(f'(x, y): \\t {x, y}')\n",
    "print(f'min(x, y): \\t {min_val}')\n",
    "print(f'max(x, y): \\t {max_val}')\n",
    "print(f'abs(x, y): \\t {abs_x, abs_y}')\n",
    "\n",
    "print('-'*5)\n",
    "\n",
    "\n",
    "# without built-in functions\n",
    "\n",
    "# max/min\n",
    "if x < y:\n",
    "    min_val = x\n",
    "    max_val = y\n",
    "else:\n",
    "    min_val = y\n",
    "    max_val = x\n",
    "    \n",
    "# absolute vals\n",
    "abs_x = x\n",
    "if x < 0 :\n",
    "    abs_x = -x\n",
    "    \n",
    "abs_y = y\n",
    "if y < 0:\n",
    "    abs_y = -y\n",
    "    \n",
    "print('From scratch results:')\n",
    "print(f'(x, y): \\t {x, y}')\n",
    "print(f'min(x, y): \\t {min_val}')\n",
    "print(f'max(x, y): \\t {max_val}')\n",
    "print(f'abs(x, y): \\t {abs_x, abs_y}')"
   ]
  },
  {
   "cell_type": "code",
   "execution_count": 10,
   "id": "5c4d5404",
   "metadata": {},
   "outputs": [
    {
     "name": "stdout",
     "output_type": "stream",
     "text": [
      "Lambda function results:\n",
      "(x, y): \t (-2, 1)\n",
      "min(x, y): \t -2\n",
      "max(x, y): \t 1\n",
      "abs(x, y): \t (2, 1)\n"
     ]
    }
   ],
   "source": [
    "# using lambda functions and conditional expressions\n",
    "minv = lambda x, y: x if x < y else y\n",
    "maxv = lambda x, y: x if x > y else y\n",
    "absv = lambda x: x if x > 0 else -x\n",
    "\n",
    "# test functions\n",
    "x, y = -2, 1\n",
    "\n",
    "print('Lambda function results:')\n",
    "print(f'(x, y): \\t {x, y}')\n",
    "print(f'min(x, y): \\t {minv(x, y)}')\n",
    "print(f'max(x, y): \\t {maxv(x, y)}')\n",
    "print(f'abs(x, y): \\t {absv(x), absv(y)}')"
   ]
  },
  {
   "cell_type": "code",
   "execution_count": 11,
   "id": "7f34272f",
   "metadata": {},
   "outputs": [],
   "source": [
    "# even more generalized for multiple arguments\n",
    "minv = lambda *args: sorted(args)[0]\n",
    "maxv = lambda *args: sorted(args)[-1]"
   ]
  },
  {
   "cell_type": "code",
   "execution_count": 12,
   "id": "d008484e",
   "metadata": {},
   "outputs": [
    {
     "data": {
      "text/plain": [
       "-3"
      ]
     },
     "execution_count": 12,
     "metadata": {},
     "output_type": "execute_result"
    }
   ],
   "source": [
    "minv(-1, 2, -3)"
   ]
  },
  {
   "cell_type": "code",
   "execution_count": 13,
   "id": "8d9040aa",
   "metadata": {},
   "outputs": [
    {
     "data": {
      "text/plain": [
       "2"
      ]
     },
     "execution_count": 13,
     "metadata": {},
     "output_type": "execute_result"
    }
   ],
   "source": [
    "maxv(-1, 2, -3)"
   ]
  },
  {
   "cell_type": "markdown",
   "id": "4d334f4a",
   "metadata": {},
   "source": [
    "**(Challenge)**\n",
    "\n",
    "Given two integers, check if one is a **factor** of the other (regardless of their order).\n",
    "\n",
    "If one number is a factor of the other, print the **factor** and **cofactor** of the **product**. Otherwise, indicate that neither are factors of each other.\n",
    "\n",
    "For example, the results can be presented like so:\n",
    "```python\n",
    "m, n = 5, 10\n",
    "print(\"5 and 2 are factors of 10.\") # result message\n",
    "\n",
    "m, n = 6, 2\n",
    "print(\"2 and 3 are factors of 6.\") # result message\n",
    "\n",
    "m, n = 2, 7\n",
    "print(\"2 and 7 are not factors of each other\") # result message\n",
    "```\n",
    "Are there special cases to watch out for? For an extra challenge, try to use as few **if statements** as possible.\n",
    "\n",
    "---"
   ]
  },
  {
   "cell_type": "code",
   "execution_count": 14,
   "id": "71033ea9",
   "metadata": {},
   "outputs": [
    {
     "name": "stdout",
     "output_type": "stream",
     "text": [
      "2 and 7 are not factors of each other.\n"
     ]
    }
   ],
   "source": [
    "# with conditional statements (if statements)\n",
    "m, n = 2, 7\n",
    "\n",
    "# check if either numbers are zero\n",
    "if 0 in (m, n):\n",
    "    print(f\"{m} and {n} are not factors of each other.\")\n",
    "    \n",
    "# check if factors\n",
    "elif m % n == 0:\n",
    "\n",
    "    # check which is bigger\n",
    "    if m < n:\n",
    "        print(f\"{m} and {n/m:.0f} are factors of {n}.\")\n",
    "    \n",
    "    else:\n",
    "        print(f\"{n} and {m/n:.0f} are factors of {m}.\")\n",
    "        \n",
    "else:\n",
    "    print(f\"{m} and {n} are not factors of each other.\")"
   ]
  },
  {
   "cell_type": "code",
   "execution_count": 15,
   "id": "2769a8ab",
   "metadata": {},
   "outputs": [
    {
     "name": "stdout",
     "output_type": "stream",
     "text": [
      "0 and 7 are not factors of each other.\n"
     ]
    }
   ],
   "source": [
    "# with minimal conditional statements\n",
    "m, n = 7, 0\n",
    "\n",
    "# rearrange to make m <= n\n",
    "m, n = sorted((m, n))\n",
    "\n",
    "# message if m, n are not factors\n",
    "msg_n = f\"{m} and {n} are not factors of each other.\"\n",
    "    \n",
    "# check if either numbers are zero\n",
    "if 0 in (m, n):\n",
    "    print(msg_n)\n",
    "\n",
    "else:\n",
    "    \n",
    "    # check if m is factor of n\n",
    "    is_factor = m % n == 0\n",
    "    \n",
    "    # message if n, m are factors\n",
    "    msg_y = f\"{m} and {n / m:.0f} are factors of {n}.\"\n",
    "    \n",
    "    # message without if statement\n",
    "    msg = is_factor * msg_y + (not is_factor) * msg_n\n",
    "\n",
    "    print(msg)"
   ]
  }
 ],
 "metadata": {
  "kernelspec": {
   "display_name": "Python 3",
   "language": "python",
   "name": "python3"
  },
  "language_info": {
   "codemirror_mode": {
    "name": "ipython",
    "version": 3
   },
   "file_extension": ".py",
   "mimetype": "text/x-python",
   "name": "python",
   "nbconvert_exporter": "python",
   "pygments_lexer": "ipython3",
   "version": "3.8.5"
  }
 },
 "nbformat": 4,
 "nbformat_minor": 5
}
