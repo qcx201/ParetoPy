{
 "cells": [
  {
   "cell_type": "markdown",
   "id": "7639fc3d",
   "metadata": {},
   "source": [
    "[**Challenge n**](#Challenge-n)"
   ]
  },
  {
   "cell_type": "markdown",
   "id": "fb1dcddd",
   "metadata": {},
   "source": [
    "# Challenge n"
   ]
  },
  {
   "cell_type": "markdown",
   "id": "e31a2c36",
   "metadata": {},
   "source": [
    "Given $x \\in [0, 1]$, calculate the following functions:\n",
    "\n",
    "\\begin{align}\n",
    "    f(x) &= \\sqrt{\\left|x\\right|} + \\sqrt{1-x^{2}} \\\\\n",
    "    h(x) &= \\sqrt{\\left|x\\right|} - \\sqrt{1-x^{2}}\n",
    "\\end{align}\n",
    "\n",
    "What does the function look like? Google (google **numpy** and **matplotlib.pyplot**)."
   ]
  },
  {
   "cell_type": "code",
   "execution_count": 16,
   "id": "5c87b8b1",
   "metadata": {},
   "outputs": [
    {
     "data": {
      "image/png": "[encoded data removed]",
      "text/plain": [
       "<Figure size 360x360 with 1 Axes>"
      ]
     },
     "metadata": {
      "needs_background": "light"
     },
     "output_type": "display_data"
    }
   ],
   "source": [
    "# upper function\n",
    "f = lambda x: abs(x)**(1/2) + (1-x**2)**(1/2)\n",
    "\n",
    "# lower function\n",
    "h = lambda x: abs(x)**(1/2) - (1-x**2)**(1/2)\n",
    "\n",
    "import matplotlib.pyplot as plt\n",
    "import numpy as np\n",
    "\n",
    "# linear vector\n",
    "x = np.linspace(-1, 1, 1000)\n",
    "\n",
    "# calc upper part\n",
    "u = f(x)\n",
    "\n",
    "# calc lower part\n",
    "d = h(x)\n",
    "\n",
    "# plot\n",
    "plt.figure(figsize=(5, 5)) # set figure size\n",
    "\n",
    "plt.plot(u)\n",
    "plt.plot(d)\n",
    "plt.show()"
   ]
  },
  {
   "cell_type": "markdown",
   "id": "57ae7ec9",
   "metadata": {},
   "source": [
    "**(Warm-up)**\n",
    "\n",
    "Approximate Euler's number $e$.\n",
    "\n",
    "A few identities:\n",
    "\\begin{align}\n",
    "    e^x &= \\lim_{m \\to \\infty} \\left(1+\\frac{x}{m} \\right)^m \\\\\n",
    "    &= \\sum_{n=0}^{\\infty}\\frac{x^n}{n!} = 1 + x + {x^2 \\over 2} + {x^3 \\over 2 \\cdot 3} + {x^4 \\over 2 \\cdot 3 \\cdot 4} + ...\n",
    "\\end{align}"
   ]
  },
  {
   "cell_type": "code",
   "execution_count": 17,
   "id": "35bc1694",
   "metadata": {},
   "outputs": [
    {
     "name": "stdout",
     "output_type": "stream",
     "text": [
      "e ~= 2.7182820532347876\n",
      "Wall time: 0 ns\n"
     ]
    }
   ],
   "source": [
    "%%time\n",
    "\n",
    "m = 1e10\n",
    "e = (1 + 1/m)**m\n",
    "print('e ~=', e)"
   ]
  },
  {
   "cell_type": "code",
   "execution_count": 18,
   "id": "aa446cc4",
   "metadata": {},
   "outputs": [
    {
     "name": "stdout",
     "output_type": "stream",
     "text": [
      "e ~= 2.7182818284590455\n",
      "Wall time: 27 ms\n"
     ]
    }
   ],
   "source": [
    "%%time\n",
    "# using Taylor approximation\n",
    "n = 10_000\n",
    "\n",
    "e = 0\n",
    "fac = 1\n",
    "\n",
    "for i in range(n):\n",
    "    \n",
    "    e += 1/fac\n",
    "    \n",
    "    fac *= (i+1)\n",
    "    \n",
    "    \n",
    "print(f'e ~= {e:,}')"
   ]
  },
  {
   "cell_type": "markdown",
   "id": "e0f7c736",
   "metadata": {},
   "source": [
    "**(Challenge)**\n",
    "\n",
    "Create a function called **`ln(x, d=10)`** that takes an numeric argument **`x`** and default integer argument **`d=10`.** The function should return an approximation of $\\ln(x) = \\log_e(x)$ accurate to `d` decimals.\n",
    "\n",
    "Taylor expansion of $\\ln(x)$ around $a$:\n",
    "$$\\begin{align}\n",
    "    \\ln(x) &= \\ln(a) + \\sum_{n=1}^{\\infty} \\frac{(-1)^{n-1} a^{-n}(x-a)^n}{n!} \\\\\n",
    "    &= \\ln(a) + a^{-1}(x-a) - \\frac{a^{-2}(x-a)^2}{2} + \\frac{a^{-3}(x-a)^3}{2 \\cdot 3} + ...\n",
    "\\end{align}$$"
   ]
  },
  {
   "cell_type": "code",
   "execution_count": 19,
   "id": "27e260b4",
   "metadata": {},
   "outputs": [
    {
     "name": "stdout",
     "output_type": "stream",
     "text": [
      "0.8646647167633875\n",
      "Wall time: 15.6 s\n"
     ]
    }
   ],
   "source": [
    "%%time\n",
    "\n",
    "x = 3\n",
    "\n",
    "# approximate around a = 1\n",
    "res = 0\n",
    "factorial = 1\n",
    "\n",
    "for n in range(1, 100_000):\n",
    "    \n",
    "    factorial *= n\n",
    "    \n",
    "    res += (-1)**(n-1) * (x-1)**n / factorial\n",
    "    \n",
    "print(res)"
   ]
  },
  {
   "cell_type": "markdown",
   "id": "97d37c3b",
   "metadata": {},
   "source": [
    "**(Warm-up)**\n",
    "\n",
    "Python has a in-built function called `sum()` which can take a list or tuple and sum all the values. Create a function called **`prod()`** which takes a list or tuple of numbers and returns their product."
   ]
  },
  {
   "cell_type": "code",
   "execution_count": 20,
   "id": "fec41476",
   "metadata": {},
   "outputs": [
    {
     "name": "stdout",
     "output_type": "stream",
     "text": [
      "6\n",
      "362880\n"
     ]
    }
   ],
   "source": [
    "def prod(iterable):\n",
    "    '''\n",
    "    Return product of elements in the iterable.\n",
    "    '''\n",
    "    # seed with multiplicative identity\n",
    "    res = 1\n",
    "    \n",
    "    # iterate through iterable\n",
    "    for x in iterable:\n",
    "        res *= x\n",
    "        \n",
    "    # return product\n",
    "    return res\n",
    "\n",
    "print(prod([1, 2, 3]))\n",
    "\n",
    "ten_factorial = prod([i for i in range(1, 10)])\n",
    "print(ten_factorial)"
   ]
  },
  {
   "cell_type": "markdown",
   "id": "7c045703",
   "metadata": {},
   "source": [
    "# Challenge n"
   ]
  },
  {
   "cell_type": "markdown",
   "id": "12ef4f7b",
   "metadata": {},
   "source": [
    "**(Warm-up)**\n",
    "\n",
    "Consider a triangle where each layer is constructed with numbers from 0 to 9:\n",
    "\n",
    "```\n",
    "0\n",
    "11\n",
    "222\n",
    "3333\n",
    " ⋮\n",
    "9999999999\n",
    "00000000000\n",
    "111111111111\n",
    "```\n",
    "\n",
    "Print such a triangle with 20 layers."
   ]
  },
  {
   "cell_type": "code",
   "execution_count": null,
   "id": "82086399",
   "metadata": {},
   "outputs": [],
   "source": []
  },
  {
   "cell_type": "markdown",
   "id": "5d6a8c6f",
   "metadata": {},
   "source": [
    "**(Challenge)**\n",
    "\n",
    "Wiki: https://en.wikipedia.org/wiki/Pascal%27s_triangle\n",
    "\n",
    "Pascal's Triangle is a pyramid of numbers constructed as follows:\n",
    "```\n",
    "      1\n",
    "     1 1\n",
    "    1 2 1\n",
    "   1 3 3 1\n",
    "  1 4 6 4 1\n",
    "      ⋮\n",
    "```\n",
    "Where the numbers in each level is constructed by the sum of the numbers standing on its shoulders from the level above.\n",
    "\n",
    "For example, the 5th row of the triangle `1 4 6 4 1` is constructed as follows:\n",
    "```\n",
    "              1\n",
    "           1     1\n",
    "        1     2     1\n",
    "     1     3     3     1\n",
    "(0+1) (1+3) (3+3) (3+1) (1+0) => 1 4 6 4 1\n",
    "```\n",
    "Create a list of lists that contain the first **`20 rows`** of Pascal's Triangle.\n",
    "\n",
    "**i.e.:**\n",
    "```python\n",
    "pascal == [[1],\n",
    "           [1, 1],\n",
    "           [1, 2, 1],\n",
    "           [1, 3, 3, 1],\n",
    "           [1, 4, 6, 4, 1],\n",
    "              ⋮\n",
    "          ]\n",
    "```"
   ]
  },
  {
   "cell_type": "code",
   "execution_count": 21,
   "id": "27e54874",
   "metadata": {},
   "outputs": [
    {
     "name": "stdout",
     "output_type": "stream",
     "text": [
      "[[1],\n",
      " [1, 1],\n",
      " [1, 2, 1],\n",
      " [1, 3, 3, 1],\n",
      " [1, 4, 6, 4, 1],\n",
      " [1, 5, 10, 10, 5, 1],\n",
      " [1, 6, 15, 20, 15, 6, 1],\n",
      " [1, 7, 21, 35, 35, 21, 7, 1],\n",
      " [1, 8, 28, 56, 70, 56, 28, 8, 1],\n",
      " [1, 9, 36, 84, 126, 126, 84, 36, 9, 1],\n",
      " [1, 10, 45, 120, 210, 252, 210, 120, 45, 10, 1],\n",
      " [1, 11, 55, 165, 330, 462, 462, 330, 165, 55, 11, 1],\n",
      " [1, 12, 66, 220, 495, 792, 924, 792, 495, 220, 66, 12, 1],\n",
      " [1, 13, 78, 286, 715, 1287, 1716, 1716, 1287, 715, 286, 78, 13, 1],\n",
      " [1, 14, 91, 364, 1001, 2002, 3003, 3432, 3003, 2002, 1001, 364, 91, 14, 1],\n",
      " [1, 15, 105, 455, 1365, 3003, 5005, 6435, 6435, 5005, 3003, 1365, 455, 105, 15, 1],\n",
      " [1, 16, 120, 560, 1820, 4368, 8008, 11440, 12870, 11440, 8008, 4368, 1820, 560, 120, 16, 1],\n",
      " [1, 17, 136, 680, 2380, 6188, 12376, 19448, 24310, 24310, 19448, 12376, 6188, 2380, 680, 136, 17, 1],\n",
      " [1, 18, 153, 816, 3060, 8568, 18564, 31824, 43758, 48620, 43758, 31824, 18564, 8568, 3060, 816, 153, 18, 1],\n",
      " [1, 19, 171, 969, 3876, 11628, 27132, 50388, 75582, 92378, 92378, 75582, 50388, 27132, 11628, 3876, 969, 171, 19, 1]]\n"
     ]
    }
   ],
   "source": [
    "# solution 1: using indexing\n",
    "\n",
    "pascal = [[1]]\n",
    "\n",
    "while len(pascal) < 20:\n",
    "\n",
    "    prev = pascal[-1]\n",
    "    \n",
    "    # add 0 + first\n",
    "    row = [prev[0]]\n",
    "    \n",
    "    # add left and right from interior numbers\n",
    "    for L, R in zip(prev[:-1], prev[1:]):\n",
    "        row.append(L+R)\n",
    "        \n",
    "    # add last + 0\n",
    "    row.append(prev[-1])\n",
    "    \n",
    "    pascal.append(row)\n",
    "\n",
    "# function to print\n",
    "def pprint(list_of_list):\n",
    "    rep = str(list_of_list).replace('],', '],\\n')\n",
    "    print(rep)\n",
    "    \n",
    "pprint(pascal)"
   ]
  },
  {
   "cell_type": "code",
   "execution_count": 22,
   "id": "91ece790",
   "metadata": {},
   "outputs": [
    {
     "name": "stdout",
     "output_type": "stream",
     "text": [
      "[[1],\n",
      " [1, 1],\n",
      " [1, 2, 1],\n",
      " [1, 3, 3, 1],\n",
      " [1, 4, 6, 4, 1],\n",
      " [1, 5, 10, 10, 5, 1],\n",
      " [1, 6, 15, 20, 15, 6, 1],\n",
      " [1, 7, 21, 35, 35, 21, 7, 1],\n",
      " [1, 8, 28, 56, 70, 56, 28, 8, 1],\n",
      " [1, 9, 36, 84, 126, 126, 84, 36, 9, 1],\n",
      " [1, 10, 45, 120, 210, 252, 210, 120, 45, 10, 1],\n",
      " [1, 11, 55, 165, 330, 462, 462, 330, 165, 55, 11, 1],\n",
      " [1, 12, 66, 220, 495, 792, 924, 792, 495, 220, 66, 12, 1],\n",
      " [1, 13, 78, 286, 715, 1287, 1716, 1716, 1287, 715, 286, 78, 13, 1],\n",
      " [1, 14, 91, 364, 1001, 2002, 3003, 3432, 3003, 2002, 1001, 364, 91, 14, 1],\n",
      " [1, 15, 105, 455, 1365, 3003, 5005, 6435, 6435, 5005, 3003, 1365, 455, 105, 15, 1],\n",
      " [1, 16, 120, 560, 1820, 4368, 8008, 11440, 12870, 11440, 8008, 4368, 1820, 560, 120, 16, 1],\n",
      " [1, 17, 136, 680, 2380, 6188, 12376, 19448, 24310, 24310, 19448, 12376, 6188, 2380, 680, 136, 17, 1],\n",
      " [1, 18, 153, 816, 3060, 8568, 18564, 31824, 43758, 48620, 43758, 31824, 18564, 8568, 3060, 816, 153, 18, 1],\n",
      " [1, 19, 171, 969, 3876, 11628, 27132, 50388, 75582, 92378, 92378, 75582, 50388, 27132, 11628, 3876, 969, 171, 19, 1]]\n"
     ]
    }
   ],
   "source": [
    "# solution 2: using binomial theorem - https://en.wikipedia.org/wiki/Binomial_theorem\n",
    "\n",
    "# fast factorial with memoization\n",
    "_fac = [1]\n",
    "def factorial(n):\n",
    "    '''\n",
    "    Compute factorial using memoization\n",
    "    '''\n",
    "    # while factorials not computed\n",
    "    while n >= (m:=len(_fac)):\n",
    "        _fac.append(m * _fac[-1])\n",
    "        \n",
    "    return _fac[n]\n",
    "\n",
    "# binomial coefficient: https://en.wikipedia.org/wiki/Binomial_coefficient\n",
    "def binom_coeff(n, k):\n",
    "    '''\n",
    "    Compute n choose k\n",
    "    '''\n",
    "    return int(factorial(n) / (factorial(n-k) * factorial(k)))\n",
    "\n",
    "# create pascal\n",
    "pascal = []\n",
    "for n in range(20):\n",
    "    \n",
    "    row = []\n",
    "    for k in range(n+1):\n",
    "        # add binomial coefficients\n",
    "        row.append(binom_coeff(n, k))\n",
    "        \n",
    "    pascal.append(row)\n",
    "    \n",
    "print(str(pascal).replace('],', '],\\n'))"
   ]
  },
  {
   "cell_type": "code",
   "execution_count": null,
   "id": "360778e1",
   "metadata": {},
   "outputs": [],
   "source": []
  },
  {
   "cell_type": "markdown",
   "id": "81d31d9f",
   "metadata": {},
   "source": [
    "# Challenge n + 1\n",
    "Rapping, rapping at my chamber door 🦉"
   ]
  },
  {
   "cell_type": "markdown",
   "id": "33087a50",
   "metadata": {},
   "source": [
    "**(Challenge)**\n",
    "\n",
    "An acrostic poem is one where certain letters in each line forms a secret message. \"A Valentine\" by Edgar Allen Poe has a secret message formed by the 1st letter of the 1st line, the 2nd letter of the 2nd line, ..., n-th letter of n-th line.\n",
    "\n",
    "Can you figure out who this poem is about?\n"
   ]
  },
  {
   "cell_type": "code",
   "execution_count": 23,
   "id": "5e77f592",
   "metadata": {},
   "outputs": [],
   "source": [
    "# \"A Valentine\", a hidden acrostic by Edgar Allen Poe\n",
    "# message key is the nth letter of the nth line\n",
    "poem = \"\"\"\n",
    "For her this rhyme is penned, whose luminous eyes,\n",
    "Brightly expressive as the twins of Loeda,\n",
    "Shall find her own sweet name, that, nestling lies\n",
    "Upon the page, enwrapped from every reader.\n",
    "Search narrowly the lines!--they hold a treasure\n",
    "Divine--a talisman--an amulet\n",
    "That must be worn at heart. Search well the measure--\n",
    "The words--the syllables! Do not forget\n",
    "The trivialest point, or you may lose your labor!\n",
    "And yet there is in this no Gordian knot\n",
    "Which one might not undo without a sabre,\n",
    "If one could merely comprehend the plot.\n",
    "Enwritten upon the leaf where now are peering\n",
    "Eyes scintillating soul, there lie perdus\n",
    "Three eloquent words oft uttered in the hearing\n",
    "Of poets, by poets--as the name is a poet’s, too.\n",
    "Its letters, although naturally lying\n",
    "Like the knight Pinto--Mendez Ferdinando--\n",
    "Still form a synonym for Truth--Cease trying!\n",
    "You will not read the riddle, though you do the best you can do.\n",
    "\"\"\""
   ]
  },
  {
   "cell_type": "code",
   "execution_count": 24,
   "id": "8d87e3a8",
   "metadata": {},
   "outputs": [
    {
     "name": "stdout",
     "output_type": "stream",
     "text": [
      "Francessargentosgood\n"
     ]
    }
   ],
   "source": [
    "# challenge\n",
    "\n",
    "# split lines\n",
    "lines = poem.split('\\n')\n",
    "\n",
    "# remove empty beginning and ending lines\n",
    "lines = lines[1:-1]\n",
    "\n",
    "# initiate message\n",
    "msg = ''\n",
    "\n",
    "# for n-th line\n",
    "for n, line in enumerate(lines):\n",
    "    \n",
    "    # filter alphabetical characters\n",
    "    chars = [s for s in line if s.isalpha()]\n",
    "    \n",
    "    # add n-th character to message\n",
    "    msg += chars[n]\n",
    "    \n",
    "print(msg)"
   ]
  },
  {
   "cell_type": "markdown",
   "id": "f1d2f3a7",
   "metadata": {},
   "source": [
    "# Challenge n + 2\n",
    "\n",
    "Autobots, roll out! 🤖"
   ]
  },
  {
   "cell_type": "markdown",
   "id": "a5605820",
   "metadata": {},
   "source": [
    "**(Warm-Up)**\n",
    "\n",
    "<!-- \\subsubsection*{(Warm-Up)} -->\n",
    "\n",
    "Consider the equation:\n",
    "\\begin{align}\n",
    "f(x) = \\sqrt{1 - x^2}.\n",
    "\\end{align}\n",
    "\n",
    "Compute the following summation:\n",
    "\\begin{align}\n",
    "\\sigma = \\sum_{n=1}^{N}  f\\left({n \\over N}\\right) {1 \\over N}\n",
    "\\end{align}\n",
    "\n",
    "for $N = 1000$. What is $4\\sigma?$ What is $4\\sigma$ if $N = 100,000?$\n",
    "\n",
    "What's being computed here? Is there a way to achieve the goal more \"effectively?\"\n"
   ]
  },
  {
   "cell_type": "code",
   "execution_count": 25,
   "id": "e90d295d",
   "metadata": {},
   "outputs": [
    {
     "name": "stdout",
     "output_type": "stream",
     "text": [
      "3.1416126164019564\n"
     ]
    }
   ],
   "source": [
    "# warm-up\n",
    "\n",
    "# define n\n",
    "N = 100_000\n",
    "\n",
    "# define function\n",
    "f = lambda x: (1-x**2)**(1/2)\n",
    "dx = 1/N\n",
    "\n",
    "# approximate integral\n",
    "sigma = sum(f(n * dx) * dx for n in range(N))\n",
    "\n",
    "# approximate pi\n",
    "pi = 4*sigma\n",
    "\n",
    "print(pi)"
   ]
  },
  {
   "cell_type": "markdown",
   "id": "ed0a8872",
   "metadata": {},
   "source": [
    "**(Challenge)**\n",
    "\n",
    "A *`prime number`** is a natural number greater than 1 whose only divisor is 1 and itself. Create a set or list of all primes less than or equal to any positive integer **`n`**.\n",
    "\n",
    "How many primes are there **between 100 and 1,000**? How many **between 100,000 and 1,000,000**?"
   ]
  },
  {
   "cell_type": "code",
   "execution_count": 26,
   "id": "b7a7b553",
   "metadata": {
    "scrolled": true
   },
   "outputs": [
    {
     "name": "stdout",
     "output_type": "stream",
     "text": [
      "Wall time: 1.99 ms\n"
     ]
    }
   ],
   "source": [
    "%%time\n",
    "# challenge: brute-force method\n",
    "\n",
    "primes = {2}\n",
    "\n",
    "N = 1_000\n",
    "for n in range(2, N+1):\n",
    "    \n",
    "    # if it's not divsible by any prime so far\n",
    "    if not any(n % p == 0 for p in primes):\n",
    "        \n",
    "        # it's a prime\n",
    "        primes.add(n)\n",
    "        \n",
    "# print(sorted(primes))"
   ]
  },
  {
   "cell_type": "code",
   "execution_count": 27,
   "id": "5700f6f6",
   "metadata": {},
   "outputs": [
    {
     "name": "stdout",
     "output_type": "stream",
     "text": [
      "Wall time: 562 ms\n"
     ]
    }
   ],
   "source": [
    "%%time\n",
    "# Sieve of Eratosthenes: uses memory to reduce computation\n",
    "\n",
    "primes, nonprimes = set(), set()\n",
    "\n",
    "N = 1_000_000\n",
    "\n",
    "for n in range(2, N+1):\n",
    "    \n",
    "    # if n is not in the set of non-primes\n",
    "    if n not in nonprimes:\n",
    "        \n",
    "        # it's a prime\n",
    "        primes.add(n)\n",
    "        \n",
    "        # add all multiples to non-primes\n",
    "        for m in range(n*2, N+1, n):\n",
    "            nonprimes.add(m)\n",
    "            \n",
    "# print(sorted(primes))"
   ]
  },
  {
   "cell_type": "code",
   "execution_count": 28,
   "id": "7680ac2d",
   "metadata": {},
   "outputs": [
    {
     "name": "stdout",
     "output_type": "stream",
     "text": [
      "[2, 3, 5, 7, 11, 13, 17, 19, 23, 29, 31, 37, 41, 43, 47, 53, 59, 61, 67, 71, 73, 79, 83, 89, 97, 101, 103, 107, 109, 113, 127, 131, 137, 139, 149, 151, 157, 163, 167, 173, 179, 181, 191, 193, 197, 199, 211, 223, 227, 229, 233, 239, 241, 251, 257, 263, 269, 271, 277, 281, 283, 293, 307, 311, 313, 317, 331, 337, 347, 349, 353, 359, 367, 373, 379, 383, 389, 397, 401, 409, 419, 421, 431, 433, 439, 443, 449, 457, 461, 463, 467, 479, 487, 491, 499, 503, 509, 521, 523, 541, 547, 557, 563, 569, 571, 577, 587, 593, 599, 601, 607, 613, 617, 619, 631, 641, 643, 647, 653, 659, 661, 673, 677, 683, 691, 701, 709, 719, 727, 733, 739, 743, 751, 757, 761, 769, 773, 787, 797, 809, 811, 821, 823, 827, 829, 839, 853, 857, 859, 863, 877, 881, 883, 887, 907, 911, 919, 929, 937, 941, 947, 953, 967, 971, 977, 983, 991, 997]\n",
      "Wall time: 45.4 ms\n"
     ]
    }
   ],
   "source": [
    "%%time\n",
    "# \"Lazy\" method for Sieve of Erostophanes\n",
    "# https://www.youtube.com/watch?v=5jwV3zxXc8E\n",
    "\n",
    "def natural(n):\n",
    "    '''\n",
    "    yields natural numbers (recursive)\n",
    "    \n",
    "    parameters\n",
    "    ---\n",
    "    n : int\n",
    "        the first number for the set\n",
    "    '''\n",
    "    yield n\n",
    "    \n",
    "    yield from natural(n+1)\n",
    "    \n",
    "def eros_sieve(s):\n",
    "    '''\n",
    "    yields primes (recursive)\n",
    "    \n",
    "    parameters\n",
    "    ---\n",
    "    s : generator (infinite set) of natural numbers\n",
    "    '''\n",
    "    n = next(s)\n",
    "    yield n\n",
    "    yield from eros_sieve(i for i in s if i%n != 0)\n",
    "    \n",
    "\n",
    "# get result\n",
    "N = 1_000\n",
    "\n",
    "primes = set()\n",
    "s = eros_sieve(natural(2))\n",
    "\n",
    "p = next(s) # generate first prime\n",
    "\n",
    "while p <= N:\n",
    "    primes.add(p)\n",
    "    p = next(s) # generate next prime\n",
    "\n",
    "print(sorted(primes))"
   ]
  },
  {
   "cell_type": "markdown",
   "id": "78f8db7c",
   "metadata": {},
   "source": [
    "# Challenge n + 3"
   ]
  },
  {
   "cell_type": "markdown",
   "id": "122c23b8",
   "metadata": {},
   "source": [
    "**(Warm-up)**\n",
    "\n",
    "Create a list of numbers **`from 1 to 20`** in order where each number `n` is repeated `n` times.\n",
    "\n",
    "**i.e.: `x = [1, 2, 2, 3, 3, 3, 4, 4, 4, 4, 5, ....]`**.\n",
    "\n",
    "Bonus points for using a list comprehension."
   ]
  },
  {
   "cell_type": "code",
   "execution_count": 29,
   "id": "56e21ab3",
   "metadata": {},
   "outputs": [
    {
     "name": "stdout",
     "output_type": "stream",
     "text": [
      "[1, 2, 2, 3, 3, 3, 4, 4, 4, 4, 5, 5, 5, 5, 5, 6, 6, 6, 6, 6, 6, 7, 7, 7, 7, 7, 7, 7, 8, 8, 8, 8, 8, 8, 8, 8, 9, 9, 9, 9, 9, 9, 9, 9, 9, 10, 10, 10, 10, 10, 10, 10, 10, 10, 10, 11, 11, 11, 11, 11, 11, 11, 11, 11, 11, 11, 12, 12, 12, 12, 12, 12, 12, 12, 12, 12, 12, 12, 13, 13, 13, 13, 13, 13, 13, 13, 13, 13, 13, 13, 13, 14, 14, 14, 14, 14, 14, 14, 14, 14, 14, 14, 14, 14, 14, 15, 15, 15, 15, 15, 15, 15, 15, 15, 15, 15, 15, 15, 15, 15, 16, 16, 16, 16, 16, 16, 16, 16, 16, 16, 16, 16, 16, 16, 16, 16, 17, 17, 17, 17, 17, 17, 17, 17, 17, 17, 17, 17, 17, 17, 17, 17, 17, 18, 18, 18, 18, 18, 18, 18, 18, 18, 18, 18, 18, 18, 18, 18, 18, 18, 18, 19, 19, 19, 19, 19, 19, 19, 19, 19, 19, 19, 19, 19, 19, 19, 19, 19, 19, 19, 20, 20, 20, 20, 20, 20, 20, 20, 20, 20, 20, 20, 20, 20, 20, 20, 20, 20, 20, 20]\n"
     ]
    }
   ],
   "source": [
    "# warm-up\n",
    "n = 20\n",
    "\n",
    "x = [i for i in range(n+1) for _ in range(i)]\n",
    "\n",
    "print(x)"
   ]
  },
  {
   "cell_type": "markdown",
   "id": "15871f52",
   "metadata": {},
   "source": [
    "**(Challenge)**\n",
    "    \n",
    "A look-and-say number sequence is generated mnemonically. If we start with the number **`1`** in the sequence:\n",
    "\n",
    "**`1`** reads `One \"one\"` => **`11`**, which are now the next numbers in the sequence.\n",
    "\n",
    "**`11`** reads `Two \"ones\"` => **`21`**, \n",
    "\n",
    "**`21`** reads `One \"two\", one \"one\"` => **`1211`**,\n",
    "\n",
    "**`1211`** reads `One \"one\", one \"two\", two \"ones\"` => **`111221`**,\n",
    "\n",
    "**`111221`** reads `Three \"ones\", two \"twos\", one \"one\"` => **`312211`** ...\n",
    "\n",
    "... and so on.\n",
    "\n",
    "Create a `look-and-say` sequence as a list of **length 30** that begins with **1.**\n",
    "\n",
    "**i.e.:**\n",
    "\n",
    "```python\n",
    "result == [1,\n",
    "           11,\n",
    "           21,\n",
    "           1211,\n",
    "           111221,\n",
    "           312211,\n",
    "             ⋮\n",
    "          ]\n",
    "```\n",
    "\n",
    "John Conway's explanation of Look-and-Say Numbers: https://youtu.be/ea7lJkEhytA"
   ]
  },
  {
   "cell_type": "code",
   "execution_count": null,
   "id": "061fd097",
   "metadata": {},
   "outputs": [],
   "source": []
  },
  {
   "cell_type": "markdown",
   "id": "f2f465e0",
   "metadata": {},
   "source": [
    "# Challenge n + 4"
   ]
  },
  {
   "cell_type": "markdown",
   "id": "5244ef1d",
   "metadata": {},
   "source": [
    "**(Warm-up)**\n",
    "\n",
    "Without any imports, create a function **`vec_mult()`** that takes two lists and returns their vector dot product.\n",
    "\n",
    "```python\n",
    "def vec_mult(vec1, vec2):\n",
    "    # your code here\n",
    "    return res\n",
    "\n",
    "x = [1, 2, 3]\n",
    "y = [4, 5, 6]\n",
    "\n",
    "z = vec_mult(x, y)\n",
    "print(z)\n",
    "```"
   ]
  },
  {
   "cell_type": "code",
   "execution_count": 30,
   "id": "2c17237c",
   "metadata": {},
   "outputs": [
    {
     "name": "stdout",
     "output_type": "stream",
     "text": [
      "32\n"
     ]
    }
   ],
   "source": [
    "# warm-up\n",
    "\n",
    "def vec_mult(vec1, vec2):\n",
    "    \n",
    "    res = sum(a * b for a, b in zip(vec1, vec2))\n",
    "    \n",
    "    return res\n",
    "\n",
    "x = [1, 2, 3]\n",
    "y = [4, 5, 6]\n",
    "\n",
    "z = vec_mult(x, y)\n",
    "print(z)"
   ]
  },
  {
   "cell_type": "markdown",
   "id": "be943a18",
   "metadata": {},
   "source": [
    "**(Challenge)**\n",
    "\n",
    "Let a list of numbers represent a row vector. Let a list of row vectors represent a matrix. I've made a function `mprint` to print the matrix representation.\n",
    "\n",
    "Without using imports:\n",
    "\n",
    "1. Create a function called **`transpose()`** that takes a matrix and returns its transpose.\n",
    "\n",
    "2. Create a function called **`mat_mult()`** that takes two matrices and returns their dot product.\n",
    "\n",
    "Check your results with numpy.\n",
    "\n",
    "```python\n",
    "def transpose(X):\n",
    "    # your code here\n",
    "    return\n",
    "\n",
    "def mat_mult(X, Y):\n",
    "    # your code here  \n",
    "    return\n",
    "\n",
    "def mprint(M, *args, **kwargs):\n",
    "    '''\n",
    "    Quick print list M as matrix\n",
    "    '''\n",
    "    mat_rep = str(M).replace('],', '],\\n')\n",
    "    print(mat_rep, *args, **kwargs)\n",
    "    \n",
    "# test cases\n",
    "X = [[1, 2],\n",
    "     [3, 4],\n",
    "     [5, 6]]\n",
    "\n",
    "Y = transpose(X)\n",
    "Z = mat_mult(X, Y)\n",
    "\n",
    "mprint(X, '\\n')\n",
    "mprint(Y, '\\n')\n",
    "mprint(Z)\n",
    "```"
   ]
  },
  {
   "cell_type": "code",
   "execution_count": 31,
   "id": "04880b03",
   "metadata": {},
   "outputs": [
    {
     "name": "stdout",
     "output_type": "stream",
     "text": [
      "[[1, 2],\n",
      " [3, 4],\n",
      " [5, 6]] \n",
      "\n",
      "[[1, 3, 5],\n",
      " [2, 4, 6]] \n",
      "\n",
      "[[5, 11, 17],\n",
      " [11, 25, 39],\n",
      " [17, 39, 61]]\n"
     ]
    }
   ],
   "source": [
    "# challenge\n",
    "\n",
    "def transpose(X):\n",
    "\n",
    "    Y = [[0 for _ in X] for _ in X[0]]\n",
    "\n",
    "    for i, xrow in enumerate(X):\n",
    "        \n",
    "        for j, v in enumerate(xrow):\n",
    "        \n",
    "            Y[j][i] = v\n",
    "\n",
    "    return Y\n",
    "\n",
    "def mat_mult(X, Y):\n",
    "    \n",
    "    # convert column vector to \"row vector\"\n",
    "    YT = transpose(Y)\n",
    "    \n",
    "    Z = [[0 for _ in Y[0]] for _ in X]\n",
    "    \n",
    "    # for row vector in x\n",
    "    for i, x in enumerate(X):\n",
    "        \n",
    "        # for column vector in Y (row vector in Y.T)\n",
    "        for j, y in enumerate(YT):\n",
    "            \n",
    "            Z[i][j] = vec_mult(x, y)\n",
    "            \n",
    "    return Z\n",
    "\n",
    "def mprint(M, *args, **kwargs):\n",
    "    '''\n",
    "    Quick print list M as matrix\n",
    "    '''\n",
    "    mat_rep = str(M).replace('],', '],\\n')\n",
    "    print(mat_rep, *args, **kwargs)\n",
    "\n",
    "# test case\n",
    "X = [[1, 2],\n",
    "     [3, 4],\n",
    "     [5, 6]]\n",
    "\n",
    "Y = transpose(X)\n",
    "Z = mat_mult(X, Y)\n",
    "\n",
    "mprint(X, '\\n')\n",
    "mprint(Y, '\\n')\n",
    "mprint(Z)"
   ]
  },
  {
   "cell_type": "code",
   "execution_count": null,
   "id": "9ed52884",
   "metadata": {},
   "outputs": [],
   "source": []
  }
 ],
 "metadata": {
  "kernelspec": {
   "display_name": "Python 3",
   "language": "python",
   "name": "python3"
  },
  "language_info": {
   "codemirror_mode": {
    "name": "ipython",
    "version": 3
   },
   "file_extension": ".py",
   "mimetype": "text/x-python",
   "name": "python",
   "nbconvert_exporter": "python",
   "pygments_lexer": "ipython3",
   "version": "3.8.5"
  }
 },
 "nbformat": 4,
 "nbformat_minor": 5
}
