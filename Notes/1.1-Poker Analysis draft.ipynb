{
 "cells": [
  {
   "cell_type": "code",
   "execution_count": 97,
   "id": "c0e2479d",
   "metadata": {},
   "outputs": [],
   "source": [
    "ranks = [str(i) for i in range(2, 11)] + list('JQKA')\n",
    "ranks = ['10'] + list('JQKA')\n",
    "\n",
    "suits = list('♠️♥️♦️♣️')\n",
    "suits = suits[::2]"
   ]
  },
  {
   "cell_type": "code",
   "execution_count": 100,
   "id": "6484c43c",
   "metadata": {},
   "outputs": [],
   "source": [
    "def new_deck():\n",
    "    return [r+s for s in suits for r in ranks]\n",
    "\n",
    "deck = new_deck()"
   ]
  },
  {
   "cell_type": "code",
   "execution_count": 103,
   "id": "3d8c979d",
   "metadata": {},
   "outputs": [],
   "source": [
    "# shuffle\n",
    "from random import shuffle\n",
    "\n",
    "deck = new_deck()\n",
    "shuffle(deck)"
   ]
  },
  {
   "cell_type": "code",
   "execution_count": 217,
   "id": "78e3ad58",
   "metadata": {},
   "outputs": [],
   "source": [
    "from itertools import combinations"
   ]
  },
  {
   "cell_type": "code",
   "execution_count": 218,
   "id": "fe2b3f54",
   "metadata": {},
   "outputs": [],
   "source": [
    "deck = new_deck()\n",
    "combs = [c for c in combinations(deck, 7)]"
   ]
  },
  {
   "cell_type": "code",
   "execution_count": 219,
   "id": "1e4ea134",
   "metadata": {},
   "outputs": [],
   "source": [
    "shuffle(combs)"
   ]
  },
  {
   "cell_type": "code",
   "execution_count": 220,
   "id": "015967a2",
   "metadata": {},
   "outputs": [],
   "source": [
    "hand = combs[0]"
   ]
  },
  {
   "cell_type": "code",
   "execution_count": 221,
   "id": "144ecb1e",
   "metadata": {},
   "outputs": [
    {
     "data": {
      "text/plain": [
       "('10♠', '10♥', 'J♥', 'Q♦', 'K♦', 'J♣', 'A♣')"
      ]
     },
     "execution_count": 221,
     "metadata": {},
     "output_type": "execute_result"
    }
   ],
   "source": [
    "hand"
   ]
  },
  {
   "cell_type": "code",
   "execution_count": 191,
   "id": "7548f216",
   "metadata": {},
   "outputs": [],
   "source": [
    "def get_ranks(hand):\n",
    "    return [card[:-1] for card in hand]\n",
    "\n",
    "def get_suits(hand):\n",
    "    return [card[-1] for card in hand]"
   ]
  },
  {
   "cell_type": "code",
   "execution_count": 234,
   "id": "e2d8f73a",
   "metadata": {},
   "outputs": [],
   "source": [
    "def count(hand, rank=True):\n",
    "    \n",
    "    sample = get_ranks(hand) if rank else get_suits(hand)\n",
    "    \n",
    "    res = [(x, sample.count(x)) for x in set(sample)]\n",
    "    \n",
    "    res = sorted(res, key=lambda x: ranks.index(x[0]), reverse=True)\n",
    "    res = sorted(res, key=lambda x: x[1], reverse=True)\n",
    "    \n",
    "    return res\n",
    "    "
   ]
  },
  {
   "cell_type": "code",
   "execution_count": null,
   "id": "207d4bf1",
   "metadata": {},
   "outputs": [],
   "source": []
  },
  {
   "cell_type": "code",
   "execution_count": 235,
   "id": "659508ae",
   "metadata": {},
   "outputs": [
    {
     "data": {
      "text/plain": [
       "[('J', 2), ('10', 2), ('A', 1), ('K', 1), ('Q', 1)]"
      ]
     },
     "execution_count": 235,
     "metadata": {},
     "output_type": "execute_result"
    }
   ],
   "source": [
    "count(hand)"
   ]
  },
  {
   "cell_type": "code",
   "execution_count": 215,
   "id": "c64f7d6a",
   "metadata": {},
   "outputs": [],
   "source": [
    "def find_straight(hand, n=3):\n",
    "\n",
    "    sample = set(get_ranks(hand))\n",
    "    sample = sorted(sample, key=lambda r:ranks.index(r))\n",
    "\n",
    "\n",
    "    res = ''\n",
    "    for i in range(len(sample)-n+1):\n",
    "        sequence = sample[i:i+n]\n",
    "        if ''.join(sequence) in ''.join(ranks):\n",
    "            res = sequence\n",
    "    \n",
    "    return res"
   ]
  },
  {
   "cell_type": "code",
   "execution_count": 216,
   "id": "efdbf321",
   "metadata": {},
   "outputs": [
    {
     "data": {
      "text/plain": [
       "['Q', 'K', 'A']"
      ]
     },
     "execution_count": 216,
     "metadata": {},
     "output_type": "execute_result"
    }
   ],
   "source": [
    "find_straight(hand)"
   ]
  },
  {
   "cell_type": "code",
   "execution_count": null,
   "id": "b5bd9d6d",
   "metadata": {},
   "outputs": [],
   "source": [
    "def best_hand(hand):\n",
    "    \n",
    "    rank_count = count(hand, True)\n",
    "    suit_count = count(hand, False)\n",
    "    \n",
    "    if rank_count[]"
   ]
  }
 ],
 "metadata": {
  "kernelspec": {
   "display_name": "Python 3",
   "language": "python",
   "name": "python3"
  },
  "language_info": {
   "codemirror_mode": {
    "name": "ipython",
    "version": 3
   },
   "file_extension": ".py",
   "mimetype": "text/x-python",
   "name": "python",
   "nbconvert_exporter": "python",
   "pygments_lexer": "ipython3",
   "version": "3.8.5"
  }
 },
 "nbformat": 4,
 "nbformat_minor": 5
}
