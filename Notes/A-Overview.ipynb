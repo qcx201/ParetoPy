{
 "cells": [
  {
   "cell_type": "markdown",
   "id": "ce6e98d9",
   "metadata": {},
   "source": [
    "Intro to Python by Panos Ipeirotis: https://github.com/ipeirotis/introduction-to-python/tree/master/notes"
   ]
  },
  {
   "cell_type": "code",
   "execution_count": 1,
   "id": "bfdba89a",
   "metadata": {},
   "outputs": [],
   "source": [
    "# write first program\n"
   ]
  },
  {
   "cell_type": "markdown",
   "id": "c18f56d1",
   "metadata": {},
   "source": [
    "### Markdown\n",
    "Markdown is useful for formatting expository text\n",
    "\n",
    "# header 1\n",
    "## header 2\n",
    "### header 3\n",
    "#### header 4\n",
    "##### header 5\n",
    "##### header 6\n",
    "\n",
    "*italics*\n",
    "\n",
    "**bold**\n",
    "\n",
    "***bold italics***\n",
    "\n",
    "\n",
    "* bullet points\n",
    "\n",
    "* bullet points\n",
    "\n",
    "1. enumeration\n",
    "\n",
    "2. enumeration\n",
    "\n",
    "```python\n",
    "# code formatting\n",
    "print(\"Hello world\")\n",
    "```\n",
    "\n",
    "LaTex math equations: $e^{i\\pi} + 1 = 0$\n",
    "\n",
    "Multi-line equations:\n",
    "$$\\begin{align}\n",
    "    f(x) = ax^n, n \\in \\mathbb{Z} \\setminus \\{0\\} &\\implies f'(x) = a n x^{n-1}\n",
    "    \\\\&\\implies\n",
    "    f^{(m)}(x) = a {n! \\over (n-m)!} x^{n-m}\n",
    "\\end{align}$$"
   ]
  },
  {
   "cell_type": "markdown",
   "id": "38bfa74b",
   "metadata": {},
   "source": [
    "## Discussion Questions\n",
    "\n",
    "What is programming?\n",
    "\n",
    "What is object-oriented programming (OOP)?\n",
    "\n",
    "What is an object? According to programmers:\n",
    "* Information - attributes/properties\n",
    "* Actions it can perform - methods/functions"
   ]
  },
  {
   "cell_type": "markdown",
   "id": "094b4b03",
   "metadata": {},
   "source": [
    "## Variables"
   ]
  },
  {
   "cell_type": "code",
   "execution_count": 2,
   "id": "c2ad55d1",
   "metadata": {},
   "outputs": [
    {
     "name": "stdout",
     "output_type": "stream",
     "text": [
      "12 °C = 53.6 °F\n"
     ]
    }
   ],
   "source": [
    "# variables\n",
    "celsius = 12\n",
    "fahrenheit = (celsius * 9/5) + 32\n",
    "\n",
    "print(celsius, '°C =', fahrenheit, '°F')"
   ]
  },
  {
   "cell_type": "markdown",
   "id": "cf1f8267",
   "metadata": {},
   "source": [
    "## Primitive Data Types"
   ]
  },
  {
   "cell_type": "code",
   "execution_count": 3,
   "id": "36f5f0b7",
   "metadata": {},
   "outputs": [
    {
     "data": {
      "text/plain": [
       "int"
      ]
     },
     "execution_count": 3,
     "metadata": {},
     "output_type": "execute_result"
    }
   ],
   "source": [
    "# integer\n",
    "x = 3\n",
    "type(x)"
   ]
  },
  {
   "cell_type": "code",
   "execution_count": 4,
   "id": "fb667753",
   "metadata": {},
   "outputs": [
    {
     "data": {
      "text/plain": [
       "float"
      ]
     },
     "execution_count": 4,
     "metadata": {},
     "output_type": "execute_result"
    }
   ],
   "source": [
    "# float\n",
    "x = 3.14\n",
    "type(x)"
   ]
  },
  {
   "cell_type": "code",
   "execution_count": 5,
   "id": "4d8ec1b2",
   "metadata": {},
   "outputs": [
    {
     "data": {
      "text/plain": [
       "str"
      ]
     },
     "execution_count": 5,
     "metadata": {},
     "output_type": "execute_result"
    }
   ],
   "source": [
    "# string\n",
    "x = '3.14'\n",
    "type(x)"
   ]
  },
  {
   "cell_type": "code",
   "execution_count": 6,
   "id": "d0c03745",
   "metadata": {},
   "outputs": [
    {
     "data": {
      "text/plain": [
       "bool"
      ]
     },
     "execution_count": 6,
     "metadata": {},
     "output_type": "execute_result"
    }
   ],
   "source": [
    "# boolean\n",
    "x = True # False\n",
    "type(x)"
   ]
  },
  {
   "cell_type": "markdown",
   "id": "e6bce5db",
   "metadata": {},
   "source": [
    "## (Built-in) Data Structures"
   ]
  },
  {
   "cell_type": "code",
   "execution_count": 7,
   "id": "fc5a069e",
   "metadata": {},
   "outputs": [
    {
     "data": {
      "text/plain": [
       "set"
      ]
     },
     "execution_count": 7,
     "metadata": {},
     "output_type": "execute_result"
    }
   ],
   "source": [
    "# set: unordered collection of unqiue elements\n",
    "x = {1, 2, 3}\n",
    "type(x)"
   ]
  },
  {
   "cell_type": "code",
   "execution_count": 8,
   "id": "e02859e7",
   "metadata": {},
   "outputs": [
    {
     "data": {
      "text/plain": [
       "tuple"
      ]
     },
     "execution_count": 8,
     "metadata": {},
     "output_type": "execute_result"
    }
   ],
   "source": [
    "# tuple: immutable, ordered collection\n",
    "x = (1, 2, 3)\n",
    "type(x)"
   ]
  },
  {
   "cell_type": "code",
   "execution_count": 9,
   "id": "c4433bb7",
   "metadata": {},
   "outputs": [
    {
     "data": {
      "text/plain": [
       "list"
      ]
     },
     "execution_count": 9,
     "metadata": {},
     "output_type": "execute_result"
    }
   ],
   "source": [
    "# list: mutable, ordered collection\n",
    "x = [1, 2, 3]\n",
    "type(x)"
   ]
  },
  {
   "cell_type": "code",
   "execution_count": 10,
   "id": "aae6fcad",
   "metadata": {},
   "outputs": [
    {
     "data": {
      "text/plain": [
       "dict"
      ]
     },
     "execution_count": 10,
     "metadata": {},
     "output_type": "execute_result"
    }
   ],
   "source": [
    "# dictionary: key-value pairs with unique keys\n",
    "x = {'a' : 1, 'b' : 2, 'c' : 3}\n",
    "type(x)"
   ]
  },
  {
   "cell_type": "markdown",
   "id": "6e96991f",
   "metadata": {},
   "source": [
    "## Conditions (If Statements)"
   ]
  },
  {
   "cell_type": "code",
   "execution_count": 11,
   "id": "ae8049e2",
   "metadata": {},
   "outputs": [
    {
     "name": "stdout",
     "output_type": "stream",
     "text": [
      "x is greater than 5\n"
     ]
    }
   ],
   "source": [
    "# conditions: if statements\n",
    "\n",
    "x = 10\n",
    "\n",
    "if x < 5:\n",
    "    print('x is less than 5')\n",
    "\n",
    "elif x > 5:\n",
    "    print('x is greater than 5')\n",
    "    \n",
    "# isn't something missing?"
   ]
  },
  {
   "cell_type": "code",
   "execution_count": 12,
   "id": "6b8ab027",
   "metadata": {},
   "outputs": [
    {
     "name": "stdout",
     "output_type": "stream",
     "text": [
      "2021-10-12 is Taco Tuesday!🌮\n"
     ]
    }
   ],
   "source": [
    "# another example\n",
    "today = \"2021-10-12\"\n",
    "\n",
    "# import datetime package\n",
    "from datetime import datetime as dt\n",
    "\n",
    "# some processing\n",
    "date = dt.strptime(today, '%Y-%M-%d')\n",
    "dayofweek = date.weekday()\n",
    "weekdict = {0:'Mon', 1:'Tues', 2:'Wedns', 3:'Thurs', 4:'Fri', 5:'Satur', 6:'Sun'}\n",
    "\n",
    "# if statement\n",
    "if dayofweek == 1:\n",
    "    print(today, \"is Taco Tuesday!🌮\")\n",
    "else:\n",
    "    print(today, \"is not Taco Tuesday :( It's\", weekdict[dayofweek]+'day.')"
   ]
  },
  {
   "cell_type": "markdown",
   "id": "36855a61",
   "metadata": {},
   "source": [
    "## Iteration (For Loops)"
   ]
  },
  {
   "cell_type": "code",
   "execution_count": 13,
   "id": "0e6e090d",
   "metadata": {},
   "outputs": [
    {
     "name": "stdout",
     "output_type": "stream",
     "text": [
      "0, 1, 2, 3, 4, 5, 6, 7, 8, 9, 10, "
     ]
    }
   ],
   "source": [
    "# iterative index\n",
    "for i in range(11):\n",
    "    print(i, end=', ')"
   ]
  },
  {
   "cell_type": "code",
   "execution_count": 14,
   "id": "cfc418dd",
   "metadata": {},
   "outputs": [
    {
     "name": "stdout",
     "output_type": "stream",
     "text": [
      "a rose is a rose is a rose is a rose is a rose is a rose is a rose is a rose is a rose is a rose is ...\n"
     ]
    }
   ],
   "source": [
    "# repetition with iteration\n",
    "for _ in range(10):\n",
    "    print('a rose is', end=' ')\n",
    "\n",
    "print('...')"
   ]
  },
  {
   "cell_type": "code",
   "execution_count": 15,
   "id": "1a8b4bb2",
   "metadata": {},
   "outputs": [
    {
     "name": "stdout",
     "output_type": "stream",
     "text": [
      "1, 1, 2, 3, 5, 8, 13, 21, 34, 55, 89, 144, "
     ]
    }
   ],
   "source": [
    "# fibonnaci numbers\n",
    "fib = [1, 1] # seed\n",
    "\n",
    "# iterate to create Fibonacci sequence\n",
    "for _ in range(10):\n",
    "    fib.append(fib[-1] + fib[-2])\n",
    "\n",
    "# print each fib number iteratively\n",
    "for n in fib:\n",
    "    print(n, end=', ')"
   ]
  },
  {
   "cell_type": "markdown",
   "id": "d99f3cef",
   "metadata": {},
   "source": [
    "## Control Flow (Conditions + Iteration = 🔥)"
   ]
  },
  {
   "cell_type": "code",
   "execution_count": 16,
   "id": "9c38aa16",
   "metadata": {},
   "outputs": [
    {
     "name": "stdout",
     "output_type": "stream",
     "text": [
      "1, 2, 3, 4, Fizz, 6, Buzz, 8, 9, Fizz, 11, 12, 13, Buzz, Fizz, 16, 17, 18, 19, Fizz, "
     ]
    }
   ],
   "source": [
    "# fizzbuzz\n",
    "n = 20\n",
    "\n",
    "for i in range(1, n+1):\n",
    "    \n",
    "    msg = ''\n",
    "    \n",
    "    if i % 5 == 0:\n",
    "        msg += 'Fizz'\n",
    "    \n",
    "    if i % 7 == 0:\n",
    "        msg += 'Buzz'\n",
    "    \n",
    "    if msg == '':\n",
    "        msg = str(i)\n",
    "    \n",
    "    print(msg, end=', ')"
   ]
  },
  {
   "cell_type": "markdown",
   "id": "c9494889",
   "metadata": {},
   "source": [
    "## Functions"
   ]
  },
  {
   "cell_type": "code",
   "execution_count": 17,
   "id": "e299313e",
   "metadata": {},
   "outputs": [],
   "source": [
    "# simple example\n",
    "def hello(name):\n",
    "    \n",
    "    msg = f'Hello {name}!'\n",
    "    \n",
    "    print(msg)\n",
    "    \n",
    "    return msg"
   ]
  },
  {
   "cell_type": "code",
   "execution_count": 18,
   "id": "56db2747",
   "metadata": {},
   "outputs": [
    {
     "name": "stdout",
     "output_type": "stream",
     "text": [
      "Hello World!\n"
     ]
    }
   ],
   "source": [
    "x = hello('World')"
   ]
  },
  {
   "cell_type": "code",
   "execution_count": 19,
   "id": "dc3a78fc",
   "metadata": {},
   "outputs": [
    {
     "data": {
      "text/plain": [
       "'Hello World!'"
      ]
     },
     "execution_count": 19,
     "metadata": {},
     "output_type": "execute_result"
    }
   ],
   "source": [
    "x"
   ]
  },
  {
   "cell_type": "markdown",
   "id": "ce17f7f1",
   "metadata": {},
   "source": [
    "## Object Classes"
   ]
  },
  {
   "cell_type": "code",
   "execution_count": 20,
   "id": "3cd3e4d1",
   "metadata": {},
   "outputs": [],
   "source": [
    "class Person:\n",
    "    \n",
    "    def __init__(self, name, age, job):\n",
    "        \n",
    "        self.name = name\n",
    "        self.age = age\n",
    "        self.job = job\n",
    "    \n",
    "    def describe(self):\n",
    "\n",
    "        return f'My name is {self.name}. I am a {self.age}-year-old {self.job}.'\n",
    "        \n",
    "    def intro(self, other):\n",
    "        \n",
    "        return f'Nice to meet you {other}! My name is {self.name}.'"
   ]
  },
  {
   "cell_type": "code",
   "execution_count": 21,
   "id": "e989af6e",
   "metadata": {},
   "outputs": [
    {
     "data": {
      "text/plain": [
       "'My name is Jack. I am a 25-year-old economics student.'"
      ]
     },
     "execution_count": 21,
     "metadata": {},
     "output_type": "execute_result"
    }
   ],
   "source": [
    "me = Person('Jack', 25, 'economics student')\n",
    "me.describe()"
   ]
  },
  {
   "cell_type": "code",
   "execution_count": 22,
   "id": "c8e078f6",
   "metadata": {},
   "outputs": [
    {
     "data": {
      "text/plain": [
       "'Nice to meet you Jill! My name is Jack.'"
      ]
     },
     "execution_count": 22,
     "metadata": {},
     "output_type": "execute_result"
    }
   ],
   "source": [
    "me.intro(\"Jill\")"
   ]
  },
  {
   "cell_type": "markdown",
   "id": "9a24a315",
   "metadata": {},
   "source": [
    "## Working with Files"
   ]
  },
  {
   "cell_type": "code",
   "execution_count": 23,
   "id": "18f4a2bc",
   "metadata": {},
   "outputs": [],
   "source": [
    "# write file\n",
    "with open(\"hello.txt\", 'w') as f:\n",
    "    f.write('Hello world!')\n",
    "    f.close()"
   ]
  },
  {
   "cell_type": "code",
   "execution_count": 24,
   "id": "9c093be1",
   "metadata": {},
   "outputs": [
    {
     "name": "stdout",
     "output_type": "stream",
     "text": [
      "Hello world!\n"
     ]
    }
   ],
   "source": [
    "# read files\n",
    "with open(\"hello.txt\", \"r\") as f:\n",
    "    data = f.read()\n",
    "    f.close()\n",
    "    \n",
    "print(data)"
   ]
  },
  {
   "cell_type": "code",
   "execution_count": 25,
   "id": "e0b648be",
   "metadata": {},
   "outputs": [
    {
     "name": "stdout",
     "output_type": "stream",
     "text": [
      ".ipynb_checkpoints\n",
      "A-Overview.ipynb\n",
      "B-Challenges.ipynb\n",
      "hello.txt\n",
      "__pycache__\n"
     ]
    }
   ],
   "source": [
    "# show files in current directory\n",
    "import os\n",
    "for file in os.listdir():\n",
    "    print(file)"
   ]
  },
  {
   "cell_type": "markdown",
   "id": "50a6243f",
   "metadata": {},
   "source": [
    "Can also use jupyter's built-in [**magic commands**](https://ipython.readthedocs.io/en/stable/interactive/magics.html)\n",
    "\n",
    "Command line cheatsheets:\n",
    "* [Windows](http://www.cs.columbia.edu/~sedwards/classes/2015/1102-fall/Command%20Prompt%20Cheatsheet.pdf)\n",
    "* [MacOS](https://www.makeuseof.com/tag/mac-terminal-commands-cheat-sheet/)"
   ]
  },
  {
   "cell_type": "code",
   "execution_count": 26,
   "id": "e668e4d9",
   "metadata": {},
   "outputs": [
    {
     "name": "stdout",
     "output_type": "stream",
     "text": [
      " Volume in drive C is Windows\n",
      " Volume Serial Number is 3E94-F918\n",
      "\n",
      " Directory of C:\\Users\\qcx20\\Documents\\UUPyEcon\\Notes\n",
      "\n",
      "2021-10-12  07:17 AM    <DIR>          .\n",
      "2021-10-12  07:17 AM    <DIR>          ..\n",
      "2021-10-09  04:30 PM    <DIR>          .ipynb_checkpoints\n",
      "2021-10-12  07:17 AM            61,350 A-Overview.ipynb\n",
      "2021-10-09  05:58 PM            13,041 B-Challenges.ipynb\n",
      "2021-10-12  07:17 AM                12 hello.txt\n",
      "2021-10-12  07:15 AM    <DIR>          __pycache__\n",
      "               3 File(s)         74,403 bytes\n",
      "               4 Dir(s)  603,580,641,280 bytes free\n"
     ]
    }
   ],
   "source": [
    "!dir\n",
    "# !pwd"
   ]
  },
  {
   "cell_type": "markdown",
   "id": "4ed9f2ed",
   "metadata": {},
   "source": [
    "Use magic commands to write files"
   ]
  },
  {
   "cell_type": "code",
   "execution_count": 27,
   "id": "89ec018d",
   "metadata": {},
   "outputs": [
    {
     "name": "stdout",
     "output_type": "stream",
     "text": [
      "Writing goodbye.txt\n"
     ]
    }
   ],
   "source": [
    "%%writefile goodbye.txt\n",
    "\n",
    "Contents of this jupyter cell will be written straight into a text file.\n",
    "\n",
    "Goodbye!"
   ]
  },
  {
   "cell_type": "markdown",
   "id": "4e54d631",
   "metadata": {},
   "source": [
    "We can also write our own **.py** file, which can be imported as a **python package**"
   ]
  },
  {
   "cell_type": "code",
   "execution_count": 28,
   "id": "c360d6c6",
   "metadata": {},
   "outputs": [
    {
     "name": "stdout",
     "output_type": "stream",
     "text": [
      "Writing hello_world.py\n"
     ]
    }
   ],
   "source": [
    "%%writefile hello_world.py\n",
    "\n",
    "class Swedish:\n",
    "    '''\n",
    "    Swedish version of hello world\n",
    "    '''\n",
    "    def hello(self):\n",
    "        print(\"Hej världen!\")\n",
    "\n",
    "    def goodbye(self):\n",
    "        print(\"Vi ses 👋 Hejdå!\")"
   ]
  },
  {
   "cell_type": "code",
   "execution_count": 29,
   "id": "2e89393d",
   "metadata": {},
   "outputs": [
    {
     "name": "stdout",
     "output_type": "stream",
     "text": [
      "Hej världen!\n",
      "Vi ses 👋 Hejdå!\n"
     ]
    }
   ],
   "source": [
    "# import the .py file we just created\n",
    "import hello_world as hw\n",
    "sv = hw.Swedish()\n",
    "\n",
    "sv.hello()\n",
    "sv.goodbye()"
   ]
  },
  {
   "cell_type": "markdown",
   "id": "80a2caea",
   "metadata": {},
   "source": [
    "Delete these files with command line magic"
   ]
  },
  {
   "cell_type": "code",
   "execution_count": 30,
   "id": "64bb1161",
   "metadata": {},
   "outputs": [],
   "source": [
    "!del goodbye.txt hello.txt hello_world.py\n",
    "# !rm goodbye.txt hello.txt hello_world.py"
   ]
  },
  {
   "cell_type": "markdown",
   "id": "d535dac5",
   "metadata": {},
   "source": [
    "## Packages and Imports"
   ]
  },
  {
   "cell_type": "code",
   "execution_count": 31,
   "id": "4e5b3404",
   "metadata": {},
   "outputs": [
    {
     "name": "stdout",
     "output_type": "stream",
     "text": [
      "The Zen of Python, by Tim Peters\n",
      "\n",
      "Beautiful is better than ugly.\n",
      "Explicit is better than implicit.\n",
      "Simple is better than complex.\n",
      "Complex is better than complicated.\n",
      "Flat is better than nested.\n",
      "Sparse is better than dense.\n",
      "Readability counts.\n",
      "Special cases aren't special enough to break the rules.\n",
      "Although practicality beats purity.\n",
      "Errors should never pass silently.\n",
      "Unless explicitly silenced.\n",
      "In the face of ambiguity, refuse the temptation to guess.\n",
      "There should be one-- and preferably only one --obvious way to do it.\n",
      "Although that way may not be obvious at first unless you're Dutch.\n",
      "Now is better than never.\n",
      "Although never is often better than *right* now.\n",
      "If the implementation is hard to explain, it's a bad idea.\n",
      "If the implementation is easy to explain, it may be a good idea.\n",
      "Namespaces are one honking great idea -- let's do more of those!\n"
     ]
    }
   ],
   "source": [
    "# Zen of Python\n",
    "import this"
   ]
  },
  {
   "cell_type": "code",
   "execution_count": 32,
   "id": "449e9142",
   "metadata": {},
   "outputs": [],
   "source": [
    "# xkcd\n",
    "# import antigravity"
   ]
  },
  {
   "cell_type": "code",
   "execution_count": 33,
   "id": "30011073",
   "metadata": {},
   "outputs": [
    {
     "name": "stdout",
     "output_type": "stream",
     "text": [
      "[[1 2]\n",
      " [3 4]] \n",
      "\n",
      "[[1 3]\n",
      " [2 4]] \n",
      "\n",
      "[[ 7 10]\n",
      " [15 22]] \n",
      "\n"
     ]
    }
   ],
   "source": [
    "# math/linear algebra\n",
    "import numpy as np\n",
    "\n",
    "x = np.array([[1, 2],\n",
    "              [3, 4]\n",
    "             ])\n",
    "\n",
    "print(x, '\\n') # matrix\n",
    "print(x.T, '\\n') # transpose\n",
    "print(x@x, '\\n') # matrix mult"
   ]
  },
  {
   "cell_type": "code",
   "execution_count": 34,
   "id": "d4f40556",
   "metadata": {},
   "outputs": [
    {
     "data": {
      "text/latex": [
       "$\\displaystyle \\left[\\begin{matrix}a & b\\\\c & d\\end{matrix}\\right]$"
      ],
      "text/plain": [
       "Matrix([\n",
       "[a, b],\n",
       "[c, d]])"
      ]
     },
     "metadata": {},
     "output_type": "display_data"
    },
    {
     "data": {
      "text/latex": [
       "$\\displaystyle \\left[\\begin{matrix}a^{2} + b c & a b + b d\\\\a c + c d & b c + d^{2}\\end{matrix}\\right]$"
      ],
      "text/plain": [
       "Matrix([\n",
       "[a**2 + b*c,  a*b + b*d],\n",
       "[ a*c + c*d, b*c + d**2]])"
      ]
     },
     "metadata": {},
     "output_type": "display_data"
    }
   ],
   "source": [
    "# symbolic math\n",
    "import sympy as sp\n",
    "\n",
    "a, b, c, d = sp.symbols('a, b, c, d')\n",
    "\n",
    "x = sp.Matrix([[a, b],\n",
    "               [c, d]])\n",
    "display(x)\n",
    "display(x@x)"
   ]
  },
  {
   "cell_type": "code",
   "execution_count": 35,
   "id": "71fa015c",
   "metadata": {},
   "outputs": [],
   "source": [
    "# web requests\n",
    "import requests as r\n",
    "\n",
    "url = 'https://www.nytimes.com/'\n",
    "resp = r.get(url)"
   ]
  },
  {
   "cell_type": "code",
   "execution_count": 36,
   "id": "9f47c753",
   "metadata": {},
   "outputs": [
    {
     "name": "stdout",
     "output_type": "stream",
     "text": [
      "Boosters Complicate Efforts to Persuade the Unvaccinated to Get Shots\n"
     ]
    }
   ],
   "source": [
    "# HTML parsing\n",
    "from lxml import html\n",
    "\n",
    "doc = html.fromstring(resp.text)\n",
    "header = doc.xpath('//h3')[0]\n",
    "print(header.text)"
   ]
  },
  {
   "cell_type": "code",
   "execution_count": 37,
   "id": "7fd5f2b7",
   "metadata": {},
   "outputs": [
    {
     "data": {
      "text/html": [
       "<div>\n",
       "<style scoped>\n",
       "    .dataframe tbody tr th:only-of-type {\n",
       "        vertical-align: middle;\n",
       "    }\n",
       "\n",
       "    .dataframe tbody tr th {\n",
       "        vertical-align: top;\n",
       "    }\n",
       "\n",
       "    .dataframe thead th {\n",
       "        text-align: right;\n",
       "    }\n",
       "</style>\n",
       "<table border=\"1\" class=\"dataframe\">\n",
       "  <thead>\n",
       "    <tr style=\"text-align: right;\">\n",
       "      <th></th>\n",
       "      <th>Open</th>\n",
       "      <th>High</th>\n",
       "      <th>Low</th>\n",
       "      <th>Close</th>\n",
       "      <th>Adj Close</th>\n",
       "      <th>Volume</th>\n",
       "    </tr>\n",
       "    <tr>\n",
       "      <th>Date</th>\n",
       "      <th></th>\n",
       "      <th></th>\n",
       "      <th></th>\n",
       "      <th></th>\n",
       "      <th></th>\n",
       "      <th></th>\n",
       "    </tr>\n",
       "  </thead>\n",
       "  <tbody>\n",
       "    <tr>\n",
       "      <th>1980-12-12</th>\n",
       "      <td>0.128348</td>\n",
       "      <td>0.128906</td>\n",
       "      <td>0.128348</td>\n",
       "      <td>0.128348</td>\n",
       "      <td>0.100600</td>\n",
       "      <td>469033600</td>\n",
       "    </tr>\n",
       "    <tr>\n",
       "      <th>1980-12-15</th>\n",
       "      <td>0.122210</td>\n",
       "      <td>0.122210</td>\n",
       "      <td>0.121652</td>\n",
       "      <td>0.121652</td>\n",
       "      <td>0.095352</td>\n",
       "      <td>175884800</td>\n",
       "    </tr>\n",
       "    <tr>\n",
       "      <th>1980-12-16</th>\n",
       "      <td>0.113281</td>\n",
       "      <td>0.113281</td>\n",
       "      <td>0.112723</td>\n",
       "      <td>0.112723</td>\n",
       "      <td>0.088353</td>\n",
       "      <td>105728000</td>\n",
       "    </tr>\n",
       "    <tr>\n",
       "      <th>1980-12-17</th>\n",
       "      <td>0.115513</td>\n",
       "      <td>0.116071</td>\n",
       "      <td>0.115513</td>\n",
       "      <td>0.115513</td>\n",
       "      <td>0.090540</td>\n",
       "      <td>86441600</td>\n",
       "    </tr>\n",
       "    <tr>\n",
       "      <th>1980-12-18</th>\n",
       "      <td>0.118862</td>\n",
       "      <td>0.119420</td>\n",
       "      <td>0.118862</td>\n",
       "      <td>0.118862</td>\n",
       "      <td>0.093165</td>\n",
       "      <td>73449600</td>\n",
       "    </tr>\n",
       "    <tr>\n",
       "      <th>...</th>\n",
       "      <td>...</td>\n",
       "      <td>...</td>\n",
       "      <td>...</td>\n",
       "      <td>...</td>\n",
       "      <td>...</td>\n",
       "      <td>...</td>\n",
       "    </tr>\n",
       "    <tr>\n",
       "      <th>2021-10-05</th>\n",
       "      <td>139.490005</td>\n",
       "      <td>142.240005</td>\n",
       "      <td>139.360001</td>\n",
       "      <td>141.110001</td>\n",
       "      <td>141.110001</td>\n",
       "      <td>80861100</td>\n",
       "    </tr>\n",
       "    <tr>\n",
       "      <th>2021-10-06</th>\n",
       "      <td>139.470001</td>\n",
       "      <td>142.149994</td>\n",
       "      <td>138.369995</td>\n",
       "      <td>142.000000</td>\n",
       "      <td>142.000000</td>\n",
       "      <td>83221100</td>\n",
       "    </tr>\n",
       "    <tr>\n",
       "      <th>2021-10-07</th>\n",
       "      <td>143.059998</td>\n",
       "      <td>144.220001</td>\n",
       "      <td>142.720001</td>\n",
       "      <td>143.289993</td>\n",
       "      <td>143.289993</td>\n",
       "      <td>61732700</td>\n",
       "    </tr>\n",
       "    <tr>\n",
       "      <th>2021-10-08</th>\n",
       "      <td>144.029999</td>\n",
       "      <td>144.179993</td>\n",
       "      <td>142.559998</td>\n",
       "      <td>142.899994</td>\n",
       "      <td>142.899994</td>\n",
       "      <td>58718700</td>\n",
       "    </tr>\n",
       "    <tr>\n",
       "      <th>2021-10-11</th>\n",
       "      <td>142.270004</td>\n",
       "      <td>144.809998</td>\n",
       "      <td>141.809998</td>\n",
       "      <td>142.809998</td>\n",
       "      <td>142.809998</td>\n",
       "      <td>64377200</td>\n",
       "    </tr>\n",
       "  </tbody>\n",
       "</table>\n",
       "<p>10295 rows × 6 columns</p>\n",
       "</div>"
      ],
      "text/plain": [
       "                  Open        High         Low       Close   Adj Close  \\\n",
       "Date                                                                     \n",
       "1980-12-12    0.128348    0.128906    0.128348    0.128348    0.100600   \n",
       "1980-12-15    0.122210    0.122210    0.121652    0.121652    0.095352   \n",
       "1980-12-16    0.113281    0.113281    0.112723    0.112723    0.088353   \n",
       "1980-12-17    0.115513    0.116071    0.115513    0.115513    0.090540   \n",
       "1980-12-18    0.118862    0.119420    0.118862    0.118862    0.093165   \n",
       "...                ...         ...         ...         ...         ...   \n",
       "2021-10-05  139.490005  142.240005  139.360001  141.110001  141.110001   \n",
       "2021-10-06  139.470001  142.149994  138.369995  142.000000  142.000000   \n",
       "2021-10-07  143.059998  144.220001  142.720001  143.289993  143.289993   \n",
       "2021-10-08  144.029999  144.179993  142.559998  142.899994  142.899994   \n",
       "2021-10-11  142.270004  144.809998  141.809998  142.809998  142.809998   \n",
       "\n",
       "               Volume  \n",
       "Date                   \n",
       "1980-12-12  469033600  \n",
       "1980-12-15  175884800  \n",
       "1980-12-16  105728000  \n",
       "1980-12-17   86441600  \n",
       "1980-12-18   73449600  \n",
       "...               ...  \n",
       "2021-10-05   80861100  \n",
       "2021-10-06   83221100  \n",
       "2021-10-07   61732700  \n",
       "2021-10-08   58718700  \n",
       "2021-10-11   64377200  \n",
       "\n",
       "[10295 rows x 6 columns]"
      ]
     },
     "execution_count": 37,
     "metadata": {},
     "output_type": "execute_result"
    }
   ],
   "source": [
    "# data panels\n",
    "import pandas as pd\n",
    "\n",
    "# read AAPL price data from Yahoo Finance\n",
    "url = 'https://query1.finance.yahoo.com/v7/finance/download/AAPL?period1=345427200&period2=1633996800&interval=1d&events=history&includeAdjustedClose=true'\n",
    "df = pd.read_csv(url)\n",
    "\n",
    "# processing\n",
    "df['Date'] = pd.to_datetime(df['Date'])\n",
    "df = df.set_index('Date')\n",
    "\n",
    "df"
   ]
  },
  {
   "cell_type": "code",
   "execution_count": 38,
   "id": "984d439d",
   "metadata": {},
   "outputs": [
    {
     "data": {
      "image/png": "[encoded data removed]",
      "text/plain": [
       "<Figure size 576x360 with 1 Axes>"
      ]
     },
     "metadata": {
      "needs_background": "light"
     },
     "output_type": "display_data"
    }
   ],
   "source": [
    "# plotting with pandas\n",
    "# which uses matplotlib\n",
    "df['Adj Close'].plot(alpha=0.5, figsize=(8, 5));"
   ]
  },
  {
   "cell_type": "code",
   "execution_count": 39,
   "id": "7a85ea57",
   "metadata": {},
   "outputs": [
    {
     "data": {
      "image/png": "[encoded data removed]",
      "text/plain": [
       "<Figure size 576x360 with 1 Axes>"
      ]
     },
     "metadata": {
      "needs_background": "light"
     },
     "output_type": "display_data"
    }
   ],
   "source": [
    "# plotting with matplotlib\n",
    "import matplotlib.pyplot as plt\n",
    "%matplotlib inline\n",
    "\n",
    "# create data\n",
    "x = np.linspace(-2, 2) # linear space\n",
    "y = np.exp(x) # exponential function\n",
    "\n",
    "# format figure\n",
    "plt.figure(figsize=(8,5))\n",
    "\n",
    "# plot\n",
    "plt.plot(x, y, # data\n",
    "         lw=5, # line width\n",
    "         alpha=0.65, # opacity\n",
    "         label='$f(x) = e^{x}$' # legend label\n",
    "        )\n",
    "\n",
    "plt.legend(fontsize=16) # show legend\n",
    "plt.show() # display output"
   ]
  }
 ],
 "metadata": {
  "kernelspec": {
   "display_name": "Python 3",
   "language": "python",
   "name": "python3"
  },
  "language_info": {
   "codemirror_mode": {
    "name": "ipython",
    "version": 3
   },
   "file_extension": ".py",
   "mimetype": "text/x-python",
   "name": "python",
   "nbconvert_exporter": "python",
   "pygments_lexer": "ipython3",
   "version": "3.9.4"
  }
 },
 "nbformat": 4,
 "nbformat_minor": 5
}
