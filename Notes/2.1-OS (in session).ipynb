{
 "cells": [
  {
   "cell_type": "markdown",
   "id": "35d052b7",
   "metadata": {},
   "source": [
    "# Files in Python"
   ]
  },
  {
   "cell_type": "code",
   "execution_count": 1,
   "id": "83418d90",
   "metadata": {},
   "outputs": [],
   "source": [
    "# open files (non-preferred method)\n",
    "f = open('hello.txt', 'w')\n",
    "f.write('Hello world!')\n",
    "f.close()"
   ]
  },
  {
   "cell_type": "code",
   "execution_count": 2,
   "id": "8d194064",
   "metadata": {},
   "outputs": [],
   "source": [
    "# preferred\n",
    "with open('hello.txt', 'w') as f:\n",
    "    \n",
    "    f.write('Hello Rebecca!')"
   ]
  },
  {
   "cell_type": "code",
   "execution_count": 3,
   "id": "8f28f910",
   "metadata": {},
   "outputs": [
    {
     "name": "stdout",
     "output_type": "stream",
     "text": [
      "Hello Rebecca!\n"
     ]
    }
   ],
   "source": [
    "with open('hello.txt', 'r') as f:\n",
    "    data = f.read()\n",
    "    \n",
    "print(data)"
   ]
  },
  {
   "cell_type": "code",
   "execution_count": 4,
   "id": "aa7d6c22",
   "metadata": {},
   "outputs": [],
   "source": [
    "with open('hello.txt', 'a') as f:\n",
    "    f.write(' Are you going to the gym today?')\n",
    "    \n"
   ]
  },
  {
   "cell_type": "code",
   "execution_count": 5,
   "id": "e9ef3214",
   "metadata": {},
   "outputs": [],
   "source": [
    "with open('hello.txt', 'a') as f:\n",
    "    f.write('\\nRebecca: I already went!')"
   ]
  },
  {
   "cell_type": "code",
   "execution_count": 6,
   "id": "4a98de09",
   "metadata": {},
   "outputs": [
    {
     "name": "stdout",
     "output_type": "stream",
     "text": [
      "Hello Rebecca! Are you going to the gym today?\n",
      "Rebecca: I already went!\n"
     ]
    }
   ],
   "source": [
    "with open('hello.txt', 'r') as f:\n",
    "    data = f.read()\n",
    "    \n",
    "print(data)"
   ]
  },
  {
   "cell_type": "markdown",
   "id": "dfe00c7b",
   "metadata": {},
   "source": [
    "# Files in Jupyter"
   ]
  },
  {
   "cell_type": "code",
   "execution_count": 7,
   "id": "e53b84b0",
   "metadata": {},
   "outputs": [
    {
     "name": "stdout",
     "output_type": "stream",
     "text": [
      "Wall time: 1.08 ms\n"
     ]
    }
   ],
   "source": [
    "%%time\n",
    "\n",
    "primes = []\n",
    "for n in range(5, 100):\n",
    "    \n",
    "    if not any(n % m == 0 for m in range(2, n)):\n",
    "        \n",
    "        primes.append(n)"
   ]
  },
  {
   "cell_type": "code",
   "execution_count": 8,
   "id": "33a2c5dc",
   "metadata": {},
   "outputs": [
    {
     "name": "stdout",
     "output_type": "stream",
     "text": [
      "Writing goodbye.txt\n"
     ]
    }
   ],
   "source": [
    "%%writefile goodbye.txt\n",
    "Goodbye!\n",
    "\n",
    "See you at lunch 😋"
   ]
  },
  {
   "cell_type": "code",
   "execution_count": 9,
   "id": "00b56e10",
   "metadata": {},
   "outputs": [],
   "source": [
    "with open('goodbye.txt', 'r', encoding='utf-8') as f:\n",
    "    data = f.read()"
   ]
  },
  {
   "cell_type": "code",
   "execution_count": 10,
   "id": "551829e1",
   "metadata": {},
   "outputs": [
    {
     "data": {
      "text/plain": [
       "'Goodbye!\\n\\nSee you at lunch 😋\\n'"
      ]
     },
     "execution_count": 10,
     "metadata": {},
     "output_type": "execute_result"
    }
   ],
   "source": [
    "data"
   ]
  },
  {
   "cell_type": "markdown",
   "id": "1eb8b96a",
   "metadata": {},
   "source": [
    "# Python `.py` files"
   ]
  },
  {
   "cell_type": "code",
   "execution_count": 11,
   "id": "688bd5ce",
   "metadata": {},
   "outputs": [
    {
     "name": "stdout",
     "output_type": "stream",
     "text": [
      "Writing hello.py\n"
     ]
    }
   ],
   "source": [
    "%%writefile hello.py\n",
    "\n",
    "def greet(name=None):\n",
    "    if name:\n",
    "        print(f\"Hello {name}\")\n",
    "    else:\n",
    "        print(\"Hello World!\")\n",
    "        \n",
    "def bye():\n",
    "    print('Goodbye!')"
   ]
  },
  {
   "cell_type": "code",
   "execution_count": 12,
   "id": "a9bd5e32",
   "metadata": {},
   "outputs": [],
   "source": [
    "import hello"
   ]
  },
  {
   "cell_type": "code",
   "execution_count": 13,
   "id": "db9c95d5",
   "metadata": {},
   "outputs": [
    {
     "name": "stdout",
     "output_type": "stream",
     "text": [
      "Hello World!\n"
     ]
    }
   ],
   "source": [
    "hello.greet()"
   ]
  },
  {
   "cell_type": "code",
   "execution_count": 14,
   "id": "ad96e6ea",
   "metadata": {},
   "outputs": [],
   "source": [
    "from hello import greet"
   ]
  },
  {
   "cell_type": "code",
   "execution_count": 15,
   "id": "11d3f7f8",
   "metadata": {},
   "outputs": [
    {
     "name": "stdout",
     "output_type": "stream",
     "text": [
      "Hello World!\n"
     ]
    }
   ],
   "source": [
    "greet()"
   ]
  },
  {
   "cell_type": "code",
   "execution_count": 16,
   "id": "538aae79",
   "metadata": {},
   "outputs": [],
   "source": [
    "from hello import *"
   ]
  },
  {
   "cell_type": "code",
   "execution_count": 17,
   "id": "ca5d8ac9",
   "metadata": {},
   "outputs": [
    {
     "name": "stdout",
     "output_type": "stream",
     "text": [
      "Goodbye!\n"
     ]
    }
   ],
   "source": [
    "bye()"
   ]
  },
  {
   "cell_type": "code",
   "execution_count": 18,
   "id": "4c354e9c",
   "metadata": {},
   "outputs": [],
   "source": [
    "import os"
   ]
  },
  {
   "cell_type": "code",
   "execution_count": 19,
   "id": "c350842b",
   "metadata": {},
   "outputs": [],
   "source": [
    "# get current working directory\n",
    "cwd = os.getcwd()"
   ]
  },
  {
   "cell_type": "code",
   "execution_count": 20,
   "id": "c08e485c",
   "metadata": {},
   "outputs": [
    {
     "data": {
      "text/plain": [
       "['.ipynb_checkpoints',\n",
       " '1-Poker Analysis.ipynb',\n",
       " '2-OS and OOP.ipynb',\n",
       " '2.1-OS (in session).ipynb',\n",
       " 'goodbye.txt',\n",
       " 'hello.py',\n",
       " 'hello.txt',\n",
       " 'Numpy.ipynb',\n",
       " '__pycache__']"
      ]
     },
     "execution_count": 20,
     "metadata": {},
     "output_type": "execute_result"
    }
   ],
   "source": [
    "# list directory\n",
    "os.listdir()"
   ]
  },
  {
   "cell_type": "code",
   "execution_count": 21,
   "id": "849d3d4e",
   "metadata": {},
   "outputs": [],
   "source": [
    "# make directory\n",
    "folder = 'texts'\n",
    "\n",
    "# create if not exists\n",
    "if not os.path.exists(folder):\n",
    "    os.mkdir(folder)"
   ]
  },
  {
   "cell_type": "code",
   "execution_count": 22,
   "id": "4fd66b00",
   "metadata": {},
   "outputs": [],
   "source": [
    "folder_path = os.path.join(cwd, folder)"
   ]
  },
  {
   "cell_type": "code",
   "execution_count": 23,
   "id": "97f48a80",
   "metadata": {},
   "outputs": [],
   "source": [
    "file = 'untitled.py'\n",
    "\n",
    "if os.path.exists(file):\n",
    "    os.remove(file)"
   ]
  },
  {
   "cell_type": "code",
   "execution_count": 24,
   "id": "5f00b524",
   "metadata": {},
   "outputs": [],
   "source": [
    "file1 = 'goodbye.txt'\n",
    "file2 = 'adieu.goodbye.txt'\n",
    "\n",
    "with open(file1, 'w') as f:\n",
    "    f.write('goodbye')\n",
    "\n",
    "os.rename(file1, file2)"
   ]
  },
  {
   "cell_type": "code",
   "execution_count": 25,
   "id": "7b05786c",
   "metadata": {},
   "outputs": [
    {
     "name": "stdout",
     "output_type": "stream",
     "text": [
      "['adieu', 'goodbye']\n",
      "txt\n"
     ]
    }
   ],
   "source": [
    "name = file2.split('.')[:-1]\n",
    "ext = file2.split('.')[-1]\n",
    "\n",
    "print(name)\n",
    "print(ext)"
   ]
  },
  {
   "cell_type": "code",
   "execution_count": 26,
   "id": "94a4c710",
   "metadata": {},
   "outputs": [],
   "source": [
    "name, ext = os.path.splitext(file2)\n",
    "\n",
    "# file 3\n",
    "file3 = name + '.py'\n",
    "\n",
    "os.rename(file2, file3)"
   ]
  },
  {
   "cell_type": "code",
   "execution_count": 27,
   "id": "e3cb3be9",
   "metadata": {},
   "outputs": [
    {
     "name": "stdout",
     "output_type": "stream",
     "text": [
      "adieu.goodbye.py\n",
      "texts\\adieu.goodbye.py\n"
     ]
    }
   ],
   "source": [
    "# rename file\n",
    "src = file3\n",
    "dst = os.path.join(folder, src)\n",
    "print(src)\n",
    "print(dst)\n",
    "\n",
    "os.rename(src, dst)"
   ]
  },
  {
   "cell_type": "code",
   "execution_count": 28,
   "id": "c3eeec64",
   "metadata": {},
   "outputs": [
    {
     "name": "stdout",
     "output_type": "stream",
     "text": [
      "hello.py \t-> texts\\hello.py\n",
      "hello.txt \t-> texts\\hello.txt\n"
     ]
    }
   ],
   "source": [
    "# remove\n",
    "ext_list = ['.py', '.txt']\n",
    "\n",
    "for file in os.listdir():\n",
    "    \n",
    "    name, ext = os.path.splitext(file)\n",
    "    \n",
    "    if ext in ext_list:\n",
    "        \n",
    "        dst = os.path.join(folder, file)\n",
    "        \n",
    "        os.rename(file, dst)\n",
    "        print(file, '\\t->', dst)\n",
    "        "
   ]
  },
  {
   "cell_type": "code",
   "execution_count": 29,
   "id": "8fede3cf",
   "metadata": {},
   "outputs": [
    {
     "name": "stdout",
     "output_type": "stream",
     "text": [
      "C:\\Users\\qcx20\\Documents\\ParetoPy\\Notes\\texts\n"
     ]
    }
   ],
   "source": [
    "# change directory to folder\n",
    "os.chdir(folder)\n",
    "print(os.getcwd())\n",
    "\n",
    "# remove files\n",
    "for file in os.listdir():\n",
    "    \n",
    "    os.remove(file)"
   ]
  },
  {
   "cell_type": "code",
   "execution_count": 30,
   "id": "366c905e",
   "metadata": {},
   "outputs": [],
   "source": [
    "# go back in directory\n",
    "os.chdir('..')\n",
    "os.rmdir(folder)"
   ]
  },
  {
   "cell_type": "code",
   "execution_count": 31,
   "id": "3da10563",
   "metadata": {},
   "outputs": [
    {
     "data": {
      "text/plain": [
       "['1-Education',\n",
       " '2-Migration',\n",
       " 'Exam Review',\n",
       " 'example-figure.png',\n",
       " 'Immigration-Economics-by-George-J.-Borjas.pdf',\n",
       " 'Topics_in_Microeconomics_HT2021_Summary.pdf']"
      ]
     },
     "execution_count": 31,
     "metadata": {},
     "output_type": "execute_result"
    }
   ],
   "source": [
    "path = r'C:\\Users\\qcx20\\Documents\\Learning\\School\\UU Classes\\Fall 2021\\3-Topics in Microeconomics'\n",
    "os.listdir(path)"
   ]
  }
 ],
 "metadata": {
  "kernelspec": {
   "display_name": "Python 3",
   "language": "python",
   "name": "python3"
  },
  "language_info": {
   "codemirror_mode": {
    "name": "ipython",
    "version": 3
   },
   "file_extension": ".py",
   "mimetype": "text/x-python",
   "name": "python",
   "nbconvert_exporter": "python",
   "pygments_lexer": "ipython3",
   "version": "3.8.5"
  }
 },
 "nbformat": 4,
 "nbformat_minor": 5
}
