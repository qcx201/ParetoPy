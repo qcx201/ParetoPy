{
 "cells": [
  {
   "cell_type": "markdown",
   "id": "4ee46021",
   "metadata": {},
   "source": [
    "# Working with Files"
   ]
  },
  {
   "cell_type": "code",
   "execution_count": 1,
   "id": "e1da56af",
   "metadata": {},
   "outputs": [],
   "source": [
    "# write\n",
    "with open('hello.txt', 'w') as f:\n",
    "    f.write(\"Hello World!\")\n",
    "    f.write(\"\\nWhat\\'s for lunch today?\")"
   ]
  },
  {
   "cell_type": "code",
   "execution_count": 2,
   "id": "e0091d99",
   "metadata": {},
   "outputs": [
    {
     "name": "stdout",
     "output_type": "stream",
     "text": [
      "Hello World!\n",
      "What's for lunch today?\n"
     ]
    }
   ],
   "source": [
    "# read\n",
    "with open('hello.txt', 'r') as f:\n",
    "    print(f.read())"
   ]
  },
  {
   "cell_type": "code",
   "execution_count": 3,
   "id": "14964a90",
   "metadata": {},
   "outputs": [],
   "source": [
    "# append\n",
    "with open('hello.txt', 'a') as f:\n",
    "    f.write(\"\\nPeasoup and pancakes. Mums!\")"
   ]
  },
  {
   "cell_type": "code",
   "execution_count": 4,
   "id": "d1c50a6e",
   "metadata": {},
   "outputs": [
    {
     "name": "stdout",
     "output_type": "stream",
     "text": [
      "Hello World!\n",
      "What's for lunch today?\n",
      "Peasoup and pancakes. Mums!\n"
     ]
    }
   ],
   "source": [
    "# read again\n",
    "with open('hello.txt', 'r') as f:\n",
    "    data = f.read()\n",
    "    \n",
    "print(data)"
   ]
  },
  {
   "cell_type": "markdown",
   "id": "1befa320",
   "metadata": {},
   "source": [
    "Write with `magic` commands"
   ]
  },
  {
   "cell_type": "code",
   "execution_count": 5,
   "id": "c374e9a4",
   "metadata": {},
   "outputs": [
    {
     "name": "stdout",
     "output_type": "stream",
     "text": [
      "Writing goodbye.txt\n"
     ]
    }
   ],
   "source": [
    "%%writefile goodbye.txt\n",
    "Goodbye!\n",
    "It was fun wile it lasted."
   ]
  },
  {
   "cell_type": "code",
   "execution_count": 6,
   "id": "ea584509",
   "metadata": {},
   "outputs": [
    {
     "name": "stdout",
     "output_type": "stream",
     "text": [
      "Goodbye!\n",
      "It was fun wile it lasted.\n",
      "\n"
     ]
    }
   ],
   "source": [
    "with open('goodbye.txt', 'r') as f:\n",
    "    data = f.read()\n",
    "    \n",
    "print(data)"
   ]
  },
  {
   "cell_type": "markdown",
   "id": "e5f7096b",
   "metadata": {},
   "source": [
    "# Python scripts: `.py` files"
   ]
  },
  {
   "cell_type": "code",
   "execution_count": 7,
   "id": "3d4e716f",
   "metadata": {},
   "outputs": [
    {
     "name": "stdout",
     "output_type": "stream",
     "text": [
      "Writing hello.py\n"
     ]
    }
   ],
   "source": [
    "%%writefile hello.py\n",
    "\n",
    "def greet():\n",
    "    print('Hello world!')"
   ]
  },
  {
   "cell_type": "code",
   "execution_count": 8,
   "id": "42fb59eb",
   "metadata": {},
   "outputs": [],
   "source": [
    "import hello"
   ]
  },
  {
   "cell_type": "code",
   "execution_count": 9,
   "id": "db04d502",
   "metadata": {},
   "outputs": [
    {
     "name": "stdout",
     "output_type": "stream",
     "text": [
      "Hello world!\n"
     ]
    }
   ],
   "source": [
    "hello.greet()"
   ]
  },
  {
   "cell_type": "markdown",
   "id": "98c003d2",
   "metadata": {},
   "source": [
    "# The `os` Module"
   ]
  },
  {
   "cell_type": "code",
   "execution_count": 10,
   "id": "d684f4a0",
   "metadata": {},
   "outputs": [],
   "source": [
    "import os"
   ]
  },
  {
   "cell_type": "code",
   "execution_count": 11,
   "id": "4d8ba0c9",
   "metadata": {},
   "outputs": [],
   "source": [
    "# get current working directory\n",
    "cwd = os.getcwd()"
   ]
  },
  {
   "cell_type": "code",
   "execution_count": 12,
   "id": "228f3b74",
   "metadata": {},
   "outputs": [
    {
     "data": {
      "text/plain": [
       "['.ipynb_checkpoints',\n",
       " '1-Poker Analysis.ipynb',\n",
       " '2-OS and OOP.ipynb',\n",
       " 'goodbye.txt',\n",
       " 'hello.py',\n",
       " 'hello.txt',\n",
       " 'Numpy.ipynb',\n",
       " 'unigram_freq.csv',\n",
       " '__pycache__']"
      ]
     },
     "execution_count": 12,
     "metadata": {},
     "output_type": "execute_result"
    }
   ],
   "source": [
    "# list directory\n",
    "os.listdir()"
   ]
  },
  {
   "cell_type": "code",
   "execution_count": 13,
   "id": "b73b5541",
   "metadata": {},
   "outputs": [
    {
     "name": "stdout",
     "output_type": "stream",
     "text": [
      "'texts' directory made\n"
     ]
    }
   ],
   "source": [
    "# make folder\n",
    "folder = 'texts'\n",
    "\n",
    "# check of exists\n",
    "if os.path.exists(folder):\n",
    "    print(f\"'{folder}' directory already exists\")\n",
    "    \n",
    "# make directory\n",
    "else:\n",
    "    os.mkdir(folder)\n",
    "    print(f\"'{folder}' directory made\")\n"
   ]
  },
  {
   "cell_type": "code",
   "execution_count": 14,
   "id": "de252ca1",
   "metadata": {},
   "outputs": [
    {
     "name": "stdout",
     "output_type": "stream",
     "text": [
      "C:\\Users\\qcx20\\Documents\\ParetoPy\\Notes\\texts\\greet.txt made!\n"
     ]
    }
   ],
   "source": [
    "# text = input(\"Enter text: \")\n",
    "\n",
    "text = 'Hello world!'\n",
    "\n",
    "file = 'greet.txt'\n",
    "\n",
    "dst = os.path.join(cwd, folder, file)\n",
    "\n",
    "with open(dst, 'w') as f:\n",
    "    f.write(text)\n",
    "    print(dst, 'made!')"
   ]
  },
  {
   "cell_type": "code",
   "execution_count": 15,
   "id": "2ec38d2e",
   "metadata": {},
   "outputs": [
    {
     "name": "stdout",
     "output_type": "stream",
     "text": [
      "goodbye.txt renamed to texts\\goodbye.txt\n",
      "hello.py renamed to texts\\hello.py\n",
      "hello.txt renamed to texts\\hello.txt\n"
     ]
    }
   ],
   "source": [
    "# move files iteratively\n",
    "for file in os.listdir():\n",
    "    \n",
    "    name, ext = os.path.splitext(file)\n",
    "    \n",
    "    if any(ext == x for x in ['.txt', '.py']):\n",
    "\n",
    "        if os.path.exists(file):\n",
    "\n",
    "            dst = os.path.join(folder, file)\n",
    "            \n",
    "            os.rename(file, dst)\n",
    "            \n",
    "            print(file, 'renamed to', dst)"
   ]
  },
  {
   "cell_type": "code",
   "execution_count": 16,
   "id": "322fd181",
   "metadata": {},
   "outputs": [],
   "source": [
    "# remove\n",
    "\n",
    "for file in os.listdir(folder):\n",
    "    \n",
    "    path = os.path.join(folder, file)\n",
    "    os.remove(path)\n",
    "    \n",
    "os.rmdir(folder)"
   ]
  },
  {
   "cell_type": "markdown",
   "id": "9b0cdade",
   "metadata": {},
   "source": [
    "# CSVs and requests"
   ]
  },
  {
   "cell_type": "code",
   "execution_count": 17,
   "id": "2679711b",
   "metadata": {},
   "outputs": [],
   "source": [
    "import requests as r\n",
    "\n",
    "# file url\n",
    "url = 'https://raw.githubusercontent.com/qcx201/ParetoPy/master/Challenges/data/unigram_freq.csv'\n",
    "\n",
    "# GET request\n",
    "resp = r.get(url, stream=True)\n",
    "\n",
    "# take of content from response\n",
    "content = resp.content\n",
    "\n",
    "# decode to string\n",
    "data_str = content.decode()"
   ]
  },
  {
   "cell_type": "code",
   "execution_count": 18,
   "id": "986fc04e",
   "metadata": {},
   "outputs": [],
   "source": [
    "# save file\n",
    "with open('unigram_freq.csv', 'w') as f:\n",
    "    f.write(data_str)"
   ]
  },
  {
   "cell_type": "markdown",
   "id": "d3f236ee",
   "metadata": {},
   "source": [
    "### Read from scratch"
   ]
  },
  {
   "cell_type": "code",
   "execution_count": 19,
   "id": "986bd9fb",
   "metadata": {},
   "outputs": [
    {
     "data": {
      "text/plain": [
       "[['word', 'count'],\n",
       " ['the', '23135851162'],\n",
       " ['of', '13151942776'],\n",
       " ['and', '12997637966'],\n",
       " ['to', '12136980858'],\n",
       " ['a', '9081174698'],\n",
       " ['in', '8469404971'],\n",
       " ['for', '5933321709'],\n",
       " ['is', '4705743816'],\n",
       " ['on', '3750423199']]"
      ]
     },
     "execution_count": 19,
     "metadata": {},
     "output_type": "execute_result"
    }
   ],
   "source": [
    "# split on new line\n",
    "rows = data_str.split('\\n')\n",
    "\n",
    "# split on comma\n",
    "words = [row.split(',') for row in rows]\n",
    "\n",
    "words[:10]"
   ]
  },
  {
   "cell_type": "markdown",
   "id": "95f3bf43",
   "metadata": {},
   "source": [
    "### The `csv` module"
   ]
  },
  {
   "cell_type": "code",
   "execution_count": 20,
   "id": "c9147eb6",
   "metadata": {},
   "outputs": [],
   "source": [
    "import csv\n",
    "\n",
    "file = 'unigram_freq.csv'\n",
    "with open(file, 'r') as f:\n",
    "    \n",
    "    # parse\n",
    "    c = csv.reader(f)\n",
    "    \n",
    "    # get as list\n",
    "    words = [row for row in c]\n",
    "    \n",
    "# preview\n",
    "words[:10]\n",
    "\n",
    "# remove CSV file\n",
    "os.remove(file)"
   ]
  },
  {
   "cell_type": "code",
   "execution_count": 21,
   "id": "e93e6e9b",
   "metadata": {},
   "outputs": [
    {
     "data": {
      "text/plain": [
       "['about',\n",
       " 'other',\n",
       " 'which',\n",
       " 'their',\n",
       " 'there',\n",
       " 'first',\n",
       " 'would',\n",
       " 'these',\n",
       " 'click',\n",
       " 'price']"
      ]
     },
     "execution_count": 21,
     "metadata": {},
     "output_type": "execute_result"
    }
   ],
   "source": [
    "# get 5000 most used 5-letter words\n",
    "\n",
    "rank = 5_000\n",
    "\n",
    "five_letter_words = [word[0] for word in words if len(word[0]) == 5]\n",
    "\n",
    "five_letter_words = five_letter_words[:rank]\n",
    "\n",
    "# preview\n",
    "five_letter_words[:10]"
   ]
  },
  {
   "cell_type": "markdown",
   "id": "e8f87662",
   "metadata": {},
   "source": [
    "### The `pandas` module"
   ]
  },
  {
   "cell_type": "code",
   "execution_count": 22,
   "id": "b32b36ca",
   "metadata": {},
   "outputs": [
    {
     "data": {
      "text/html": [
       "<div>\n",
       "<style scoped>\n",
       "    .dataframe tbody tr th:only-of-type {\n",
       "        vertical-align: middle;\n",
       "    }\n",
       "\n",
       "    .dataframe tbody tr th {\n",
       "        vertical-align: top;\n",
       "    }\n",
       "\n",
       "    .dataframe thead th {\n",
       "        text-align: right;\n",
       "    }\n",
       "</style>\n",
       "<table border=\"1\" class=\"dataframe\">\n",
       "  <thead>\n",
       "    <tr style=\"text-align: right;\">\n",
       "      <th></th>\n",
       "      <th>word</th>\n",
       "      <th>count</th>\n",
       "    </tr>\n",
       "  </thead>\n",
       "  <tbody>\n",
       "    <tr>\n",
       "      <th>0</th>\n",
       "      <td>the</td>\n",
       "      <td>23135851162</td>\n",
       "    </tr>\n",
       "    <tr>\n",
       "      <th>1</th>\n",
       "      <td>of</td>\n",
       "      <td>13151942776</td>\n",
       "    </tr>\n",
       "    <tr>\n",
       "      <th>2</th>\n",
       "      <td>and</td>\n",
       "      <td>12997637966</td>\n",
       "    </tr>\n",
       "    <tr>\n",
       "      <th>3</th>\n",
       "      <td>to</td>\n",
       "      <td>12136980858</td>\n",
       "    </tr>\n",
       "    <tr>\n",
       "      <th>4</th>\n",
       "      <td>a</td>\n",
       "      <td>9081174698</td>\n",
       "    </tr>\n",
       "    <tr>\n",
       "      <th>5</th>\n",
       "      <td>in</td>\n",
       "      <td>8469404971</td>\n",
       "    </tr>\n",
       "    <tr>\n",
       "      <th>6</th>\n",
       "      <td>for</td>\n",
       "      <td>5933321709</td>\n",
       "    </tr>\n",
       "    <tr>\n",
       "      <th>7</th>\n",
       "      <td>is</td>\n",
       "      <td>4705743816</td>\n",
       "    </tr>\n",
       "    <tr>\n",
       "      <th>8</th>\n",
       "      <td>on</td>\n",
       "      <td>3750423199</td>\n",
       "    </tr>\n",
       "    <tr>\n",
       "      <th>9</th>\n",
       "      <td>that</td>\n",
       "      <td>3400031103</td>\n",
       "    </tr>\n",
       "  </tbody>\n",
       "</table>\n",
       "</div>"
      ],
      "text/plain": [
       "   word        count\n",
       "0   the  23135851162\n",
       "1    of  13151942776\n",
       "2   and  12997637966\n",
       "3    to  12136980858\n",
       "4     a   9081174698\n",
       "5    in   8469404971\n",
       "6   for   5933321709\n",
       "7    is   4705743816\n",
       "8    on   3750423199\n",
       "9  that   3400031103"
      ]
     },
     "execution_count": 22,
     "metadata": {},
     "output_type": "execute_result"
    }
   ],
   "source": [
    "import pandas as pd\n",
    "\n",
    "# read dataframe from csv file\n",
    "df = pd.read_csv(url)\n",
    "df.head(10)"
   ]
  },
  {
   "cell_type": "code",
   "execution_count": 23,
   "id": "1e0cba1c",
   "metadata": {},
   "outputs": [
    {
     "data": {
      "text/plain": [
       "35     about\n",
       "45     other\n",
       "56     which\n",
       "57     their\n",
       "62     there\n",
       "82     first\n",
       "85     would\n",
       "92     these\n",
       "93     click\n",
       "100    price\n",
       "Name: word, dtype: object"
      ]
     },
     "execution_count": 23,
     "metadata": {},
     "output_type": "execute_result"
    }
   ],
   "source": [
    "five_letter_words = df[df['word'].str.len() == 5][:rank]\n",
    "five_letter_words['word'].head(10)"
   ]
  },
  {
   "cell_type": "code",
   "execution_count": 24,
   "id": "3b4513ca",
   "metadata": {},
   "outputs": [
    {
     "data": {
      "text/plain": [
       "['about',\n",
       " 'other',\n",
       " 'which',\n",
       " 'their',\n",
       " 'there',\n",
       " 'first',\n",
       " 'would',\n",
       " 'these',\n",
       " 'click',\n",
       " 'price']"
      ]
     },
     "execution_count": 24,
     "metadata": {},
     "output_type": "execute_result"
    }
   ],
   "source": [
    "words = five_letter_words['word'].tolist()\n",
    "words[:10]"
   ]
  },
  {
   "cell_type": "code",
   "execution_count": null,
   "id": "721acec7",
   "metadata": {},
   "outputs": [],
   "source": []
  },
  {
   "cell_type": "markdown",
   "id": "af4b052a",
   "metadata": {},
   "source": [
    "# Object classes (extra)"
   ]
  },
  {
   "cell_type": "code",
   "execution_count": 25,
   "id": "70531d45",
   "metadata": {},
   "outputs": [],
   "source": [
    "import time\n",
    "import random\n",
    "\n",
    "class Person:\n",
    "    \n",
    "    def __init__(self, name, sex):\n",
    "        \n",
    "        \n",
    "        self.name = name\n",
    "    \n",
    "        sex = sex.lower().strip()\n",
    "        \n",
    "        if sex in 'female':\n",
    "            self.sex = 'female'\n",
    "        elif sex in 'male':\n",
    "            self.sex = 'male'\n",
    "        else:\n",
    "            self.sex = sex\n",
    "        \n",
    "        self._alive = True\n",
    "        self._age = 0\n",
    "        self._birth = time.time()\n",
    "        \n",
    "    def __repr__(self):\n",
    "        \n",
    "        if not self.isalive:\n",
    "            return '🪦'\n",
    "        \n",
    "        if self.age < 3:\n",
    "            return '👶'\n",
    "        \n",
    "        elif self.age < 16:\n",
    "            \n",
    "            if self.sex == 'female':\n",
    "                return '👧'\n",
    "            \n",
    "            elif self.sex == 'female':\n",
    "                return '👦'\n",
    "            \n",
    "            else:\n",
    "                return '🧒'\n",
    "        \n",
    "        elif self.age < 65:\n",
    "            \n",
    "            if self.sex == 'female':\n",
    "                return '👩'\n",
    "\n",
    "            elif self.sex == 'male':\n",
    "                return '👨'\n",
    "\n",
    "            else:\n",
    "                return '🧑'\n",
    "            \n",
    "        else:\n",
    "            \n",
    "            if self.sex == 'female':\n",
    "                return '👵'\n",
    "\n",
    "            elif self.sex == 'male':\n",
    "                return '👴'\n",
    "\n",
    "            else:\n",
    "                return '🧓'\n",
    "        \n",
    "    def introduce(self):\n",
    "    \n",
    "        print(f'My name is {self.name}.', end=' ')\n",
    "        \n",
    "        if self.isalive:\n",
    "            print(f'I am {self.age:.0f} years old.')\n",
    "        else:\n",
    "            print(f'I died at {self.age:.0f} years old.')\n",
    "        \n",
    "    def greet(self, name=''):\n",
    "        \n",
    "        if self.isalive:\n",
    "            \n",
    "            if name:\n",
    "                print(f'Hello {name}! How are you today?', end=' ')\n",
    "            else:\n",
    "                print(f'Hey!', end=' ')\n",
    "\n",
    "        self.introduce()\n",
    "    \n",
    "    def check_age(self):\n",
    "        \n",
    "        if self._alive:\n",
    "            self._age = time.time() - self._birth\n",
    "        \n",
    "        return self._age\n",
    "\n",
    "    @property\n",
    "    def age(self):\n",
    "        return self.check_age()\n",
    "    \n",
    "    \n",
    "    def check_alive(self):\n",
    "        \n",
    "        if self._alive:\n",
    "            \n",
    "            # chance of death\n",
    "            if random.random() < (self.age/100)**(3/2):\n",
    "                \n",
    "                # update age\n",
    "                self.check_age()\n",
    "                \n",
    "                # dead now\n",
    "                self._alive = False\n",
    "        \n",
    "        return self._alive\n",
    "    \n",
    "    @property\n",
    "    def isalive(self):\n",
    "        return self.check_alive()"
   ]
  },
  {
   "cell_type": "code",
   "execution_count": 26,
   "id": "685db812",
   "metadata": {},
   "outputs": [
    {
     "name": "stdout",
     "output_type": "stream",
     "text": [
      "Hey! My name is Jane. I am 0 years old.\n"
     ]
    },
    {
     "data": {
      "text/plain": [
       "👶"
      ]
     },
     "execution_count": 26,
     "metadata": {},
     "output_type": "execute_result"
    }
   ],
   "source": [
    "jane = Person('Jane', 'female')\n",
    "# jane.introduce()\n",
    "\n",
    "jane.greet()\n",
    "jane"
   ]
  },
  {
   "cell_type": "code",
   "execution_count": 27,
   "id": "1ff6873a",
   "metadata": {},
   "outputs": [
    {
     "name": "stdout",
     "output_type": "stream",
     "text": [
      "Hey! My name is Jane. I am 0 years old.\n",
      "👶\n"
     ]
    }
   ],
   "source": [
    "jane.greet()\n",
    "print(jane)"
   ]
  },
  {
   "cell_type": "code",
   "execution_count": 28,
   "id": "0c38023b",
   "metadata": {},
   "outputs": [],
   "source": [
    "suits = list('♠️♥️♦️♣️')[::2]\n",
    "ranks = [str(n) for n in range(2, 10)] + list('TJQKA')\n",
    "standard_deck = [s + r for s in suits for r in ranks]\n",
    "\n",
    "\n",
    "class Card:\n",
    "    \n",
    "    def __init__(self, name, show=False):\n",
    "        \n",
    "        if (type(name) != str) or (len(name) != 2):\n",
    "            raise Exception(f\"card name must be str with length 2\")\n",
    "        \n",
    "        self.suit, self.rank = name\n",
    "        self.value = name\n",
    "        \n",
    "        if (self.suit not in suits) or (self.rank not in ranks):\n",
    "            raise Exception(f\"card {name} incorrect. Must be one of following cards {standard_deck}\")\n",
    "        \n",
    "        self.show = show\n",
    "        \n",
    "    def __repr__(self):\n",
    "        \n",
    "        if self.show:\n",
    "            return self.suit + self.rank\n",
    "        else:\n",
    "            return '🎴 Card'\n",
    "        \n",
    "    def flip(self):\n",
    "        self.show = not self.show\n",
    "    \n",
    "    \n",
    "    def __add__(self, other):\n",
    "        \n",
    "        return Deck([self, other])\n",
    "\n",
    "\n",
    "class Deck:\n",
    "    \n",
    "    def __init__(self, cards=None):\n",
    "        \n",
    "        if cards:\n",
    "            self.deck = [c if isinstance(c, Card) else Card(c) for c in cards]\n",
    "        else:\n",
    "            self.deck = [Card(c) for c in standard_deck]\n",
    "    \n",
    "    def __repr__(self):\n",
    "        return '🎴 Deck'\n",
    "    \n",
    "    def __add__(self, other):\n",
    "        \n",
    "        new_deck = other.deck + self.deck\n",
    "        \n",
    "        return Deck(new_deck)\n",
    "    \n",
    "    def __len__(self):\n",
    "        \n",
    "        return len(self.deck)"
   ]
  }
 ],
 "metadata": {
  "kernelspec": {
   "display_name": "Python 3",
   "language": "python",
   "name": "python3"
  },
  "language_info": {
   "codemirror_mode": {
    "name": "ipython",
    "version": 3
   },
   "file_extension": ".py",
   "mimetype": "text/x-python",
   "name": "python",
   "nbconvert_exporter": "python",
   "pygments_lexer": "ipython3",
   "version": "3.8.5"
  }
 },
 "nbformat": 4,
 "nbformat_minor": 5
}
