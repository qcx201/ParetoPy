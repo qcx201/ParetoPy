{
 "cells": [
  {
   "cell_type": "markdown",
   "id": "84d53b6b",
   "metadata": {},
   "source": [
    "## Open()"
   ]
  },
  {
   "cell_type": "code",
   "execution_count": 15,
   "id": "3427a00f",
   "metadata": {},
   "outputs": [],
   "source": [
    "# write\n",
    "with open('hello.txt', 'w') as f:\n",
    "    f.write('Hello Uppsala!')"
   ]
  },
  {
   "cell_type": "code",
   "execution_count": 16,
   "id": "fda0b69c",
   "metadata": {},
   "outputs": [
    {
     "name": "stdout",
     "output_type": "stream",
     "text": [
      "Hello Uppsala!\n"
     ]
    }
   ],
   "source": [
    "# read\n",
    "with open('hello.txt', 'r') as f:\n",
    "    print(f.read())"
   ]
  },
  {
   "cell_type": "code",
   "execution_count": 17,
   "id": "8c49998f",
   "metadata": {},
   "outputs": [],
   "source": [
    "# append\n",
    "with open('hello.txt', 'a') as f:\n",
    "    f.write(\"\\nWhat's for lunch today?\")"
   ]
  },
  {
   "cell_type": "code",
   "execution_count": 18,
   "id": "b63c1f7f",
   "metadata": {},
   "outputs": [
    {
     "name": "stdout",
     "output_type": "stream",
     "text": [
      "Hello Uppsala!\n",
      "What's for lunch today?\n"
     ]
    }
   ],
   "source": [
    "# read again\n",
    "with open('hello.txt', 'r') as f:\n",
    "    print(f.read())"
   ]
  },
  {
   "cell_type": "markdown",
   "id": "28f2d42e",
   "metadata": {},
   "source": [
    "Write with `magic` commands"
   ]
  },
  {
   "cell_type": "code",
   "execution_count": 13,
   "id": "9dfd56ea",
   "metadata": {},
   "outputs": [
    {
     "name": "stdout",
     "output_type": "stream",
     "text": [
      "Writing goodbye.txt\n"
     ]
    }
   ],
   "source": [
    "%%writefile goodbye.txt\n",
    "Goodbye!"
   ]
  },
  {
   "cell_type": "code",
   "execution_count": 14,
   "id": "fd60aa6f",
   "metadata": {},
   "outputs": [
    {
     "name": "stdout",
     "output_type": "stream",
     "text": [
      "Goodbye!\n",
      "\n"
     ]
    }
   ],
   "source": [
    "with open('goodbye.txt', 'r') as f:\n",
    "    print(f.read())"
   ]
  },
  {
   "cell_type": "markdown",
   "id": "cb4e5961",
   "metadata": {},
   "source": [
    "## .py files"
   ]
  },
  {
   "cell_type": "code",
   "execution_count": 20,
   "id": "e880b829",
   "metadata": {},
   "outputs": [
    {
     "name": "stdout",
     "output_type": "stream",
     "text": [
      "Writing hello.py\n"
     ]
    }
   ],
   "source": [
    "%%writefile hello.py\n",
    "\n",
    "def greet():\n",
    "    print('Hello world!')"
   ]
  },
  {
   "cell_type": "code",
   "execution_count": 21,
   "id": "ec6a32e9",
   "metadata": {},
   "outputs": [],
   "source": [
    "import hello"
   ]
  },
  {
   "cell_type": "code",
   "execution_count": 22,
   "id": "3107282f",
   "metadata": {},
   "outputs": [
    {
     "name": "stdout",
     "output_type": "stream",
     "text": [
      "Hello world!\n"
     ]
    }
   ],
   "source": [
    "hello.greet()"
   ]
  },
  {
   "cell_type": "markdown",
   "id": "efdf324e",
   "metadata": {},
   "source": [
    "## OS Module"
   ]
  },
  {
   "cell_type": "code",
   "execution_count": 1,
   "id": "8d1dd2ff",
   "metadata": {},
   "outputs": [],
   "source": [
    "import os"
   ]
  },
  {
   "cell_type": "code",
   "execution_count": 8,
   "id": "93a739c6",
   "metadata": {},
   "outputs": [
    {
     "name": "stdout",
     "output_type": "stream",
     "text": [
      "hello.txt removed\n",
      "hello.py removed\n",
      "goodbye.txt removed\n"
     ]
    }
   ],
   "source": [
    "for name in ['hello', 'goodbye']:\n",
    "    \n",
    "    for ext in ['txt', 'py']:\n",
    "        file = name + '.' + ext\n",
    "        \n",
    "        if os.path.exists(file):\n",
    "            print(file, 'removed')\n",
    "            os.remove(file)"
   ]
  },
  {
   "cell_type": "code",
   "execution_count": null,
   "id": "90d0dd75",
   "metadata": {},
   "outputs": [],
   "source": []
  },
  {
   "cell_type": "markdown",
   "id": "e0a01a0f",
   "metadata": {},
   "source": [
    "## Object classes"
   ]
  },
  {
   "cell_type": "code",
   "execution_count": 128,
   "id": "74469b64",
   "metadata": {},
   "outputs": [],
   "source": [
    "suits = list('♠️♥️♦️♣️')[::2]\n",
    "ranks = [str(n) for n in range(2, 10)] + list('TJQKA')\n",
    "standard_deck = [s + r for s in suits for r in ranks]\n",
    "\n",
    "\n",
    "class Card:\n",
    "    \n",
    "    def __init__(self, name, show=False):\n",
    "        \n",
    "        if (type(name) != str) or (len(name) != 2):\n",
    "            raise Exception(f\"card name must be str with length 2\")\n",
    "        \n",
    "        self.suit, self.rank = name\n",
    "        self.value = name\n",
    "        \n",
    "        if (self.suit not in suits) or (self.rank not in ranks):\n",
    "            raise Exception(f\"card {name} incorrect. Must be one of following cards {standard_deck}\")\n",
    "        \n",
    "        self.show = show\n",
    "        \n",
    "    def __repr__(self):\n",
    "        \n",
    "        if self.show:\n",
    "            return self.suit + self.rank\n",
    "        else:\n",
    "            return '🎴 Card'\n",
    "        \n",
    "    def flip(self):\n",
    "        self.show = not self.show\n",
    "    \n",
    "    \n",
    "    def __add__(self, other):\n",
    "        \n",
    "        return Deck([self, other])\n",
    "\n",
    "\n",
    "class Deck:\n",
    "    \n",
    "    def __init__(self, cards=None):\n",
    "        \n",
    "        if cards:\n",
    "            self.deck = [c if type(c) == '__main__.Card' else Card(c) for c in cards]\n",
    "        else:\n",
    "            self.deck = [Card(c) for c in standard_deck]\n",
    "    \n",
    "    def __repr__(self):\n",
    "        return '🎴 Deck'"
   ]
  },
  {
   "cell_type": "code",
   "execution_count": 129,
   "id": "e0c937ab",
   "metadata": {},
   "outputs": [],
   "source": [
    "card1 = Card(suits[0]+'A')"
   ]
  },
  {
   "cell_type": "code",
   "execution_count": 130,
   "id": "c7662e64",
   "metadata": {},
   "outputs": [],
   "source": [
    "card2 = Card(suits[1]+'A')"
   ]
  },
  {
   "cell_type": "code",
   "execution_count": 131,
   "id": "c1b70428",
   "metadata": {},
   "outputs": [],
   "source": [
    "card2.flip()"
   ]
  },
  {
   "cell_type": "code",
   "execution_count": 132,
   "id": "58a90892",
   "metadata": {},
   "outputs": [
    {
     "ename": "Exception",
     "evalue": "card name must be str with length 2",
     "output_type": "error",
     "traceback": [
      "\u001b[1;31m---------------------------------------------------------------------------\u001b[0m",
      "\u001b[1;31mException\u001b[0m                                 Traceback (most recent call last)",
      "\u001b[1;32m<ipython-input-132-f3a5f49205c8>\u001b[0m in \u001b[0;36m<module>\u001b[1;34m\u001b[0m\n\u001b[1;32m----> 1\u001b[1;33m \u001b[0mcard1\u001b[0m \u001b[1;33m+\u001b[0m \u001b[0mcard2\u001b[0m\u001b[1;33m\u001b[0m\u001b[1;33m\u001b[0m\u001b[0m\n\u001b[0m",
      "\u001b[1;32m<ipython-input-128-40488247eb31>\u001b[0m in \u001b[0;36m__add__\u001b[1;34m(self, other)\u001b[0m\n\u001b[0;32m     32\u001b[0m     \u001b[1;32mdef\u001b[0m \u001b[0m__add__\u001b[0m\u001b[1;33m(\u001b[0m\u001b[0mself\u001b[0m\u001b[1;33m,\u001b[0m \u001b[0mother\u001b[0m\u001b[1;33m)\u001b[0m\u001b[1;33m:\u001b[0m\u001b[1;33m\u001b[0m\u001b[1;33m\u001b[0m\u001b[0m\n\u001b[0;32m     33\u001b[0m \u001b[1;33m\u001b[0m\u001b[0m\n\u001b[1;32m---> 34\u001b[1;33m         \u001b[1;32mreturn\u001b[0m \u001b[0mDeck\u001b[0m\u001b[1;33m(\u001b[0m\u001b[1;33m[\u001b[0m\u001b[0mself\u001b[0m\u001b[1;33m,\u001b[0m \u001b[0mother\u001b[0m\u001b[1;33m]\u001b[0m\u001b[1;33m)\u001b[0m\u001b[1;33m\u001b[0m\u001b[1;33m\u001b[0m\u001b[0m\n\u001b[0m\u001b[0;32m     35\u001b[0m \u001b[1;33m\u001b[0m\u001b[0m\n\u001b[0;32m     36\u001b[0m \u001b[1;33m\u001b[0m\u001b[0m\n",
      "\u001b[1;32m<ipython-input-128-40488247eb31>\u001b[0m in \u001b[0;36m__init__\u001b[1;34m(self, cards)\u001b[0m\n\u001b[0;32m     40\u001b[0m \u001b[1;33m\u001b[0m\u001b[0m\n\u001b[0;32m     41\u001b[0m         \u001b[1;32mif\u001b[0m \u001b[0mcards\u001b[0m\u001b[1;33m:\u001b[0m\u001b[1;33m\u001b[0m\u001b[1;33m\u001b[0m\u001b[0m\n\u001b[1;32m---> 42\u001b[1;33m             \u001b[0mself\u001b[0m\u001b[1;33m.\u001b[0m\u001b[0mdeck\u001b[0m \u001b[1;33m=\u001b[0m \u001b[1;33m[\u001b[0m\u001b[0mc\u001b[0m \u001b[1;32mif\u001b[0m \u001b[0mtype\u001b[0m\u001b[1;33m(\u001b[0m\u001b[0mc\u001b[0m\u001b[1;33m)\u001b[0m \u001b[1;33m==\u001b[0m \u001b[1;34m'__main__.Card'\u001b[0m \u001b[1;32melse\u001b[0m \u001b[0mCard\u001b[0m\u001b[1;33m(\u001b[0m\u001b[0mc\u001b[0m\u001b[1;33m)\u001b[0m \u001b[1;32mfor\u001b[0m \u001b[0mc\u001b[0m \u001b[1;32min\u001b[0m \u001b[0mcards\u001b[0m\u001b[1;33m]\u001b[0m\u001b[1;33m\u001b[0m\u001b[1;33m\u001b[0m\u001b[0m\n\u001b[0m\u001b[0;32m     43\u001b[0m         \u001b[1;32melse\u001b[0m\u001b[1;33m:\u001b[0m\u001b[1;33m\u001b[0m\u001b[1;33m\u001b[0m\u001b[0m\n\u001b[0;32m     44\u001b[0m             \u001b[0mself\u001b[0m\u001b[1;33m.\u001b[0m\u001b[0mdeck\u001b[0m \u001b[1;33m=\u001b[0m \u001b[1;33m[\u001b[0m\u001b[0mCard\u001b[0m\u001b[1;33m(\u001b[0m\u001b[0mc\u001b[0m\u001b[1;33m)\u001b[0m \u001b[1;32mfor\u001b[0m \u001b[0mc\u001b[0m \u001b[1;32min\u001b[0m \u001b[0mstandard_deck\u001b[0m\u001b[1;33m]\u001b[0m\u001b[1;33m\u001b[0m\u001b[1;33m\u001b[0m\u001b[0m\n",
      "\u001b[1;32m<ipython-input-128-40488247eb31>\u001b[0m in \u001b[0;36m<listcomp>\u001b[1;34m(.0)\u001b[0m\n\u001b[0;32m     40\u001b[0m \u001b[1;33m\u001b[0m\u001b[0m\n\u001b[0;32m     41\u001b[0m         \u001b[1;32mif\u001b[0m \u001b[0mcards\u001b[0m\u001b[1;33m:\u001b[0m\u001b[1;33m\u001b[0m\u001b[1;33m\u001b[0m\u001b[0m\n\u001b[1;32m---> 42\u001b[1;33m             \u001b[0mself\u001b[0m\u001b[1;33m.\u001b[0m\u001b[0mdeck\u001b[0m \u001b[1;33m=\u001b[0m \u001b[1;33m[\u001b[0m\u001b[0mc\u001b[0m \u001b[1;32mif\u001b[0m \u001b[0mtype\u001b[0m\u001b[1;33m(\u001b[0m\u001b[0mc\u001b[0m\u001b[1;33m)\u001b[0m \u001b[1;33m==\u001b[0m \u001b[1;34m'__main__.Card'\u001b[0m \u001b[1;32melse\u001b[0m \u001b[0mCard\u001b[0m\u001b[1;33m(\u001b[0m\u001b[0mc\u001b[0m\u001b[1;33m)\u001b[0m \u001b[1;32mfor\u001b[0m \u001b[0mc\u001b[0m \u001b[1;32min\u001b[0m \u001b[0mcards\u001b[0m\u001b[1;33m]\u001b[0m\u001b[1;33m\u001b[0m\u001b[1;33m\u001b[0m\u001b[0m\n\u001b[0m\u001b[0;32m     43\u001b[0m         \u001b[1;32melse\u001b[0m\u001b[1;33m:\u001b[0m\u001b[1;33m\u001b[0m\u001b[1;33m\u001b[0m\u001b[0m\n\u001b[0;32m     44\u001b[0m             \u001b[0mself\u001b[0m\u001b[1;33m.\u001b[0m\u001b[0mdeck\u001b[0m \u001b[1;33m=\u001b[0m \u001b[1;33m[\u001b[0m\u001b[0mCard\u001b[0m\u001b[1;33m(\u001b[0m\u001b[0mc\u001b[0m\u001b[1;33m)\u001b[0m \u001b[1;32mfor\u001b[0m \u001b[0mc\u001b[0m \u001b[1;32min\u001b[0m \u001b[0mstandard_deck\u001b[0m\u001b[1;33m]\u001b[0m\u001b[1;33m\u001b[0m\u001b[1;33m\u001b[0m\u001b[0m\n",
      "\u001b[1;32m<ipython-input-128-40488247eb31>\u001b[0m in \u001b[0;36m__init__\u001b[1;34m(self, name, show)\u001b[0m\n\u001b[0;32m      9\u001b[0m \u001b[1;33m\u001b[0m\u001b[0m\n\u001b[0;32m     10\u001b[0m         \u001b[1;32mif\u001b[0m \u001b[1;33m(\u001b[0m\u001b[0mtype\u001b[0m\u001b[1;33m(\u001b[0m\u001b[0mname\u001b[0m\u001b[1;33m)\u001b[0m \u001b[1;33m!=\u001b[0m \u001b[0mstr\u001b[0m\u001b[1;33m)\u001b[0m \u001b[1;32mor\u001b[0m \u001b[1;33m(\u001b[0m\u001b[0mlen\u001b[0m\u001b[1;33m(\u001b[0m\u001b[0mname\u001b[0m\u001b[1;33m)\u001b[0m \u001b[1;33m!=\u001b[0m \u001b[1;36m2\u001b[0m\u001b[1;33m)\u001b[0m\u001b[1;33m:\u001b[0m\u001b[1;33m\u001b[0m\u001b[1;33m\u001b[0m\u001b[0m\n\u001b[1;32m---> 11\u001b[1;33m             \u001b[1;32mraise\u001b[0m \u001b[0mException\u001b[0m\u001b[1;33m(\u001b[0m\u001b[1;34mf\"card name must be str with length 2\"\u001b[0m\u001b[1;33m)\u001b[0m\u001b[1;33m\u001b[0m\u001b[1;33m\u001b[0m\u001b[0m\n\u001b[0m\u001b[0;32m     12\u001b[0m \u001b[1;33m\u001b[0m\u001b[0m\n\u001b[0;32m     13\u001b[0m         \u001b[0mself\u001b[0m\u001b[1;33m.\u001b[0m\u001b[0msuit\u001b[0m\u001b[1;33m,\u001b[0m \u001b[0mself\u001b[0m\u001b[1;33m.\u001b[0m\u001b[0mrank\u001b[0m \u001b[1;33m=\u001b[0m \u001b[0mname\u001b[0m\u001b[1;33m\u001b[0m\u001b[1;33m\u001b[0m\u001b[0m\n",
      "\u001b[1;31mException\u001b[0m: card name must be str with length 2"
     ]
    }
   ],
   "source": [
    "card1 + card2"
   ]
  },
  {
   "cell_type": "code",
   "execution_count": 100,
   "id": "41a3427e",
   "metadata": {},
   "outputs": [],
   "source": [
    "card.flip()"
   ]
  },
  {
   "cell_type": "code",
   "execution_count": 101,
   "id": "9c486991",
   "metadata": {},
   "outputs": [
    {
     "data": {
      "text/plain": [
       "♠A"
      ]
     },
     "execution_count": 101,
     "metadata": {},
     "output_type": "execute_result"
    }
   ],
   "source": [
    "card"
   ]
  },
  {
   "cell_type": "code",
   "execution_count": 9,
   "id": "2b3ae95a",
   "metadata": {},
   "outputs": [],
   "source": [
    "import pandas as pd\n",
    "import csv"
   ]
  },
  {
   "cell_type": "code",
   "execution_count": 10,
   "id": "99dc678f",
   "metadata": {},
   "outputs": [],
   "source": [
    "with open('unigram_freq.csv', 'r') as f:\n",
    "    c = csv.reader(f)\n",
    "    \n",
    "    words = [row for row in c]"
   ]
  },
  {
   "cell_type": "code",
   "execution_count": 11,
   "id": "77282283",
   "metadata": {},
   "outputs": [],
   "source": [
    "five_letter_words = [word for word in words if len(word[0]) == 5]\n",
    "five_letter_words = [word[0] for word in five_letter_words[:5_000]]"
   ]
  }
 ],
 "metadata": {
  "kernelspec": {
   "display_name": "Python 3",
   "language": "python",
   "name": "python3"
  },
  "language_info": {
   "codemirror_mode": {
    "name": "ipython",
    "version": 3
   },
   "file_extension": ".py",
   "mimetype": "text/x-python",
   "name": "python",
   "nbconvert_exporter": "python",
   "pygments_lexer": "ipython3",
   "version": "3.8.5"
  }
 },
 "nbformat": 4,
 "nbformat_minor": 5
}
