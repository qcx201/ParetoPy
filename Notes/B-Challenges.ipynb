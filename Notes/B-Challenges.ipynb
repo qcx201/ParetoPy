{
 "cells": [
  {
   "cell_type": "markdown",
   "id": "42f4cc68",
   "metadata": {},
   "source": [
    "[**Challenge 0**](#Challenge-0)\n",
    "\n",
    "[**Challenge 1**](#Challenge-1)\n",
    "\n",
    "[**Challenge 2**](#Challenge-2)\n",
    "\n",
    "[**Challenge 3**](#Challenge-3)\n",
    "\n",
    "[**Challenge 4**](#Challenge-4)\n",
    "\n",
    "[**Challenge 5**](#Challenge-5)\n",
    "\n",
    "[**Challenge 6**](#Challenge-6)\n",
    "\n",
    "[**Challenge 7**](#Challenge-7)\n",
    "\n",
    "[**Challenge 8**](#Challenge-8)\n",
    "\n",
    "[**Challenge 9**](#Challenge-9)"
   ]
  },
  {
   "cell_type": "markdown",
   "id": "708e0c75",
   "metadata": {},
   "source": [
    "\n",
    "# Challenge 0\n",
    "To infinity and beyond 🚀"
   ]
  },
  {
   "cell_type": "markdown",
   "id": "ea7000b4",
   "metadata": {},
   "source": [
    "**(Warm-Up)**\n",
    "\n",
    "A pizza delivery boy accidentally falls into a cryogenic chamber on New Years Eve, 1999, and is reanimated in the year 3000. \n",
    "\n",
    "At the time of his freezing, he had $0.93 in his bank account. Assuming an average 2.25\\% interest rate compounded annually, how much money will he have in the bank when he wakes up?\n",
    "\n",
    "Double check: https://www.youtube.com/watch?v=6JwkaLt9pf8\n",
    "\n",
    "---"
   ]
  },
  {
   "cell_type": "code",
   "execution_count": 1,
   "id": "0c8f2b78",
   "metadata": {},
   "outputs": [
    {
     "name": "stdout",
     "output_type": "stream",
     "text": [
      "With $0.93 in the bank and 2.25% interest compounded annually over 1000 years...\n",
      "... his balance will be $4,283,508,449.71.\n"
     ]
    }
   ],
   "source": [
    "# warm-up\n",
    "\n",
    "principal = 0.93\n",
    "apr = 2.25 / 100\n",
    "t = 1000\n",
    "\n",
    "balance = principal * (1+apr)**t\n",
    "\n",
    "print(f'With ${principal} in the bank and {apr:.2%} interest compounded annually over {t} years...')\n",
    "print(f'... his balance will be ${balance:,.2f}.')"
   ]
  },
  {
   "cell_type": "markdown",
   "id": "9ea77ec9",
   "metadata": {},
   "source": [
    "**(Challenge)**\n",
    "\n",
    "Suppose a mile is **1.609 km**, and the speed of light is **299,792,458 m/s** in a vacuum. The average distance between the Earth and the Sun is called an astronomical unit, or AU, which is about **92,955,807 miles**. How many **`astronomical units`** are there in a **`light-year`**?\n",
    "\n",
    "<!-- Share your solution below! Remember to use\n",
    "\n",
    "> ```python\n",
    "> # your code here\n",
    "> ```\n",
    "\n",
    "to format your code nicely 👌\n",
    "\n",
    "--- -->"
   ]
  },
  {
   "cell_type": "code",
   "execution_count": 2,
   "id": "ac7bd5b8",
   "metadata": {},
   "outputs": [
    {
     "name": "stdout",
     "output_type": "stream",
     "text": [
      "AU per light-year: 63254.598047256135\n"
     ]
    }
   ],
   "source": [
    "# challenge\n",
    "\n",
    "c_mps = 299_792_458    # m/s\n",
    "mi_per_au = 92_955_807 # miles\n",
    "km_per_mi = 1.609      # km / mile\n",
    "\n",
    "c_kmps = c_mps / 1000             # km/s\n",
    "km_per_au = mi_per_au * km_per_mi # km\n",
    "\n",
    "# seconds in year: 365.25 days/year x 24 hr/day x 60 m/hr x 60 s/m\n",
    "spy = 365.25 * 24 * 60 * 60 # s/year\n",
    "\n",
    "lyr_km = c_kmps * spy # lyr in km\n",
    "\n",
    "lyr_per_au = lyr_km / km_per_au # result\n",
    "\n",
    "print('AU per light-year:', lyr_per_au)"
   ]
  },
  {
   "cell_type": "code",
   "execution_count": null,
   "id": "4d08a9ab",
   "metadata": {},
   "outputs": [],
   "source": []
  },
  {
   "cell_type": "markdown",
   "id": "91ba23b9",
   "metadata": {},
   "source": [
    "# Challenge 1\n",
    "999,999,997... 999,999,998... 999,999,999... ⌛"
   ]
  },
  {
   "cell_type": "markdown",
   "id": "8f6630e7",
   "metadata": {},
   "source": [
    "**(Warm-up)**\n",
    "\n",
    "What is **`1000`** seconds in minutes and seconds? Print it in the format **`mm:ss`**.\n",
    "\n",
    "---"
   ]
  },
  {
   "cell_type": "code",
   "execution_count": 3,
   "id": "c965db00",
   "metadata": {},
   "outputs": [
    {
     "name": "stdout",
     "output_type": "stream",
     "text": [
      "1000 seconds is equal to 16 m 40 s\n"
     ]
    }
   ],
   "source": [
    "# warm-up\n",
    "\n",
    "t = 1000\n",
    "print(t, \"seconds is equal to\", t//60, \"m\", t%60, \"s\")"
   ]
  },
  {
   "cell_type": "markdown",
   "id": "5b446b11",
   "metadata": {},
   "source": [
    "**(Challenge)**\n",
    "\n",
    "One million seconds is equal to __11 days, 13 hours, 46 minutes and 40 seconds__ (according to quora).\n",
    "\n",
    "Print **`one billion seconds`** in years, days, hours, minutes, and seconds.\n",
    "\n",
    "<!-- Share your solution below! Remember to use\n",
    "\n",
    "```python\n",
    "# your code here\n",
    "```\n",
    "\n",
    "\n",
    "to format your code nicely 👌\n",
    "\n",
    "--- -->"
   ]
  },
  {
   "cell_type": "code",
   "execution_count": 4,
   "id": "49361184",
   "metadata": {},
   "outputs": [
    {
     "name": "stdout",
     "output_type": "stream",
     "text": [
      "31 years 259 days 1 hours 46 minutes 40 seconds\n"
     ]
    }
   ],
   "source": [
    "# challenge\n",
    "\n",
    "t = int(1e9)\n",
    "\n",
    "# modulo bases: amount of each unit before overflow\n",
    "m_s = 60   # seconds\n",
    "m_mi = 60  # minutes\n",
    "m_hr = 24  # hours\n",
    "m_dy = 365 # days\n",
    "\n",
    "# bases: seconds in each unit denom\n",
    "b_mi = 60 \n",
    "b_hr = b_mi * m_mi # 60 * 60\n",
    "b_dy = b_hr * m_hr # 60 * 60 * 24\n",
    "b_yr = b_dy * m_dy # 60 * 60 * 24 * 30 * 12\n",
    "\n",
    "s = t % m_s\n",
    "mi = (t // b_mi) % m_mi\n",
    "hr = (t // b_hr) % m_hr\n",
    "dy = (t // b_dy) % m_dy\n",
    "yr = t // b_yr\n",
    "\n",
    "print(yr, \"years\", dy, \"days\", hr, \"hours\", mi, \"minutes\" , s, \"seconds\")"
   ]
  },
  {
   "cell_type": "code",
   "execution_count": 5,
   "id": "cde1cf53",
   "metadata": {},
   "outputs": [
    {
     "name": "stdout",
     "output_type": "stream",
     "text": [
      "31 years 1 month 24 day 1 h 46 m 40 s\n"
     ]
    }
   ],
   "source": [
    "# bad version\n",
    "\n",
    "t = int(1e9)\n",
    "\n",
    "# denoms\n",
    "dmi = 60 # minute\n",
    "dh = 60 * dmi # hour\n",
    "dd = 24 * dh # day\n",
    "dmo = 30 * dd # month\n",
    "dy = 365 * dd # year\n",
    "\n",
    "# integers\n",
    "y = t // dy\n",
    "mo = (t // dmo) % 12\n",
    "d = (t // dd) % 30\n",
    "h = (t // dh) % 24\n",
    "mi = (t // dmi) % 60\n",
    "s = t % 60\n",
    "\n",
    "print(y, \"years\", mo, \"month\", d, \"day\", h, \"h\", mi, \"m\" , s, \"s\")"
   ]
  },
  {
   "cell_type": "code",
   "execution_count": 6,
   "id": "ee8c465f",
   "metadata": {},
   "outputs": [
    {
     "name": "stdout",
     "output_type": "stream",
     "text": [
      "31 years 8 months 7 days 1 hours 46 minutes 40 seconds\n"
     ]
    }
   ],
   "source": [
    "# fixed issue with months\n",
    "\n",
    "t = int(1e9)\n",
    "\n",
    "# modulo bases: amount of each unit before overflow\n",
    "m_s = 60           # seconds\n",
    "m_mi = 60          # minutes\n",
    "m_hr = 24          # hours\n",
    "m_dy = 365.25 / 12 # days in an average year\n",
    "m_mo = 12          # months\n",
    "\n",
    "# bases: seconds in each unit denom\n",
    "b_mi = 60 \n",
    "b_hr = b_mi * m_mi # s/hr : 60 * 60\n",
    "b_dy = b_hr * m_hr # s/dy : 60 * 60 * 24\n",
    "b_mo = b_dy * m_dy # s/mo : 60 * 60 * 24 * 365.25/12\n",
    "b_yr = b_mo * m_mo # s/yr : 60 * 60 * 24 * 365.25/12 * 12\n",
    "\n",
    "s = t % m_s\n",
    "mi = int((t // b_mi) % m_mi)\n",
    "hr = int((t // b_hr) % m_hr)\n",
    "dy = int((t // b_dy) % m_dy)\n",
    "mo = int((t // b_mo) % m_mo)\n",
    "yr = int(t // b_yr)\n",
    "\n",
    "print(yr, \"years\", mo, \"months\", dy, \"days\", hr, \"hours\", mi, \"minutes\" , s, \"seconds\")"
   ]
  },
  {
   "cell_type": "code",
   "execution_count": 7,
   "id": "754a540b",
   "metadata": {},
   "outputs": [
    {
     "name": "stdout",
     "output_type": "stream",
     "text": [
      " 3 centuries 16 years 10 months 16 days 17 hours 46 minutes 40 seconds\n"
     ]
    }
   ],
   "source": [
    "# robust to arbritrary time units and unit plurality\n",
    "t = 1e10\n",
    "\n",
    "# moduli units (singular and plural)\n",
    "mods = [(60, 'second', 'seconds'),\n",
    "        (60, 'minute', 'minutes'),\n",
    "        (24, 'hour', 'hours'),\n",
    "        (365.25/12, 'day', 'days'),\n",
    "        (12, 'month', 'months'),\n",
    "        (100, 'year', 'years'),\n",
    "        (10, 'century', 'centuries'),\n",
    "        (1_000_000, 'millenium', 'millenia'),\n",
    "        (None, 'eon', 'eons') # none for unmodulated\n",
    "       ]\n",
    "\n",
    "# result and first base\n",
    "msg, bases = '', [1]\n",
    "\n",
    "for mod, sunit, punit in mods:\n",
    "    \n",
    "    # get last integer division base\n",
    "    base = bases[-1]\n",
    "    \n",
    "    # if modulus exists (not None or zero)\n",
    "    if mod:\n",
    "        n = int((t // base) % mod) # modulate\n",
    "        bases.append(mod * bases[-1])\n",
    "    # if no modulus\n",
    "    else:\n",
    "        n = int(t // base) # do not modulate\n",
    "    \n",
    "    # plural unit\n",
    "    if n > 1:\n",
    "        msg = f' {n} {punit}' + msg # use plural unit\n",
    "    # singular unit\n",
    "    elif n == 1:\n",
    "        msg = f' {n} {sunit}' + msg # use singular unit\n",
    "    # if n == 0, ignore\n",
    "    \n",
    "print(msg)"
   ]
  },
  {
   "cell_type": "markdown",
   "id": "434da9c5",
   "metadata": {},
   "source": [
    "Let **`a = (x // y) % z`** and **`b = (x \\% z) // y`** for integers `x, y, z`. When does **`a == b`**?"
   ]
  },
  {
   "cell_type": "code",
   "execution_count": 8,
   "id": "7e7785db",
   "metadata": {
    "scrolled": true
   },
   "outputs": [
    {
     "name": "stdout",
     "output_type": "stream",
     "text": [
      "a == b: 661650 of 1000000 (66.17%)\n",
      "a != b: 338350 of 1000000 (33.84%)\n"
     ]
    }
   ],
   "source": [
    "s, n = 3000, 3100 # start, end\n",
    "eq, neq = 0, 0 # count of equals, not equal\n",
    "\n",
    "for x in range(s, n):\n",
    "    for y in range(s, n):\n",
    "        for z in range(s, n):\n",
    "            \n",
    "            a = (x // y) % z\n",
    "            b = (x % z) // y\n",
    "            \n",
    "            if a == b:\n",
    "                eq+=1\n",
    "            else:\n",
    "                neq+=1\n",
    "                \n",
    "#             print('x, y, z =', (x, y, z),\n",
    "#               '\\ta = (x // y) % z =', a,\n",
    "#               '\\tb = (x % z) // y =', b,\n",
    "#               '\\ta == b?', a == b\n",
    "#                  )\n",
    "\n",
    "total = eq + neq\n",
    "print(f'a == b: {eq} of {total} ({100 * eq/total:.2f}%)')\n",
    "print(f'a != b: {neq} of {total} ({100 * neq/total:.2f}%)')"
   ]
  },
  {
   "cell_type": "markdown",
   "id": "4fbe7655",
   "metadata": {},
   "source": [
    "# Challenge 2\n",
    "To 1 or not to 1? 💀"
   ]
  },
  {
   "cell_type": "markdown",
   "id": "5b83af2d",
   "metadata": {},
   "source": [
    "**(Warm-up)**\n",
    "\n",
    "Given a string that tells 24-hr time*, convert it to a string that tells 12-hr time.\n",
    "```python\n",
    "# for example, if\n",
    "t_24h = \"23:45\"\n",
    "\n",
    "# then your result should be\n",
    "t_12h = # \"11:45\"\n",
    "\n",
    "print (t_12h)\n",
    "```\n",
    "*Assume the hour is zero-padded, e.g. \"01:00\" instead of \"1:00\".\n",
    "\n",
    "---"
   ]
  },
  {
   "cell_type": "code",
   "execution_count": 9,
   "id": "5dc071c9",
   "metadata": {},
   "outputs": [
    {
     "name": "stdout",
     "output_type": "stream",
     "text": [
      "11:45\n"
     ]
    }
   ],
   "source": [
    "# warm-up\n",
    "\n",
    "t_24h = \"23:45\"\n",
    "\n",
    "hh_24 = int(t_24h[:2])\n",
    "hh_12 = hh_24 % 12\n",
    "\n",
    "t_12h = str(hh_12) + t_24h[2:]\n",
    "\n",
    "print(t_12h)"
   ]
  },
  {
   "cell_type": "markdown",
   "id": "78e41b2a",
   "metadata": {},
   "source": [
    "**(Challenge)**\n",
    "\n",
    "In base-10 or the decimal system, the number **10** is can be expressed as\n",
    "> **10** = **1** (10) + **0** (1).\n",
    "\n",
    "Similarly, in __binary__ or base-2 system, the decimal number **10** is written as\n",
    "> __**1010**__ = **1** (8) + **0** (4) + **1** (2) + **0** (1).\n",
    "\n",
    "Print the **`binary`** representation of the decimal number **`100`**.\n",
    "\n",
    "<!-- Share your solution below! Remember to use \n",
    "\n",
    "> \\```python\n",
    "> # your code here\n",
    "> \\```\n",
    "\n",
    "to format your code nicely :ok_hand:\n",
    "\n",
    "--- -->"
   ]
  },
  {
   "cell_type": "code",
   "execution_count": 1,
   "id": "c4239122",
   "metadata": {},
   "outputs": [
    {
     "name": "stdout",
     "output_type": "stream",
     "text": [
      "1010\n"
     ]
    }
   ],
   "source": [
    "# challenge\n",
    "\n",
    "# base-10 number\n",
    "n = 10\n",
    "\n",
    "# base\n",
    "base = 2\n",
    "\n",
    "d0 = (n // base**0) % base # 1st digit (in base-b)\n",
    "d1 = (n // base**1) % base # 2nd digit\n",
    "d2 = (n // base**2) % base # 3rd digit\n",
    "d3 = (n // base**3) % base # 4th digit\n",
    "\n",
    "# new base number\n",
    "nb = f'{d3}{d2}{d1}{d0}'\n",
    "\n",
    "print(nb)"
   ]
  },
  {
   "cell_type": "code",
   "execution_count": 3,
   "id": "ff584577",
   "metadata": {},
   "outputs": [
    {
     "name": "stdout",
     "output_type": "stream",
     "text": [
      "1100100\n"
     ]
    }
   ],
   "source": [
    "# robust to arbitrary n and base\n",
    "\n",
    "n = 100\n",
    "base = 2\n",
    "\n",
    "# initiate total and exponent\n",
    "total, power = 0, 0\n",
    "\n",
    "# initiate result string\n",
    "res = ''\n",
    "\n",
    "while total < n:\n",
    "        \n",
    "    # place value of digit\n",
    "    place_value = base**power\n",
    "    \n",
    "    # update exponent for next digit\n",
    "    power += 1\n",
    "    \n",
    "    # digit\n",
    "    digit = (n // place_value) % base\n",
    "    \n",
    "    # add total of digits so far in base-10\n",
    "    total += digit * place_value\n",
    "    \n",
    "    # add string result to left\n",
    "    res = str(digit) + res\n",
    "    \n",
    "print(res)"
   ]
  },
  {
   "cell_type": "code",
   "execution_count": null,
   "id": "4ac50733",
   "metadata": {},
   "outputs": [],
   "source": []
  },
  {
   "cell_type": "markdown",
   "id": "7094fefe",
   "metadata": {},
   "source": [
    "# Challenge 3"
   ]
  },
  {
   "cell_type": "markdown",
   "id": "19323a8d",
   "metadata": {},
   "source": [
    "**(Warm-up)**\n",
    "\n",
    "Approximate Euler's number $e$.\n",
    "\n",
    "A few identities:\n",
    "\\begin{align}\n",
    "    e^x &= \\lim_{m \\to \\infty} \\left(1+\\frac{x}{m} \\right)^m \\\\\n",
    "    &= \\sum_{n=0}^{\\infty}\\frac{x^n}{n!} = 1 + x + {x^2 \\over 2} + {x^3 \\over 2 \\cdot 3} + {x^4 \\over 2 \\cdot 3 \\cdot 4} + ...\n",
    "\\end{align}"
   ]
  },
  {
   "cell_type": "code",
   "execution_count": 32,
   "id": "7307d117",
   "metadata": {},
   "outputs": [
    {
     "name": "stdout",
     "output_type": "stream",
     "text": [
      "e ~= 2.7182820532347876\n",
      "Wall time: 0 ns\n"
     ]
    }
   ],
   "source": [
    "%%time\n",
    "\n",
    "m = 1e10\n",
    "e = (1 + 1/m)**m\n",
    "print('e ~=', e)"
   ]
  },
  {
   "cell_type": "code",
   "execution_count": 35,
   "id": "a663c150",
   "metadata": {},
   "outputs": [
    {
     "name": "stdout",
     "output_type": "stream",
     "text": [
      "e ~= 2.7182818284590455\n",
      "Wall time: 37.3 ms\n"
     ]
    }
   ],
   "source": [
    "%%time\n",
    "# using Taylor approximation\n",
    "n = 10_000\n",
    "\n",
    "e = 0\n",
    "fac = 1\n",
    "\n",
    "for i in range(n):\n",
    "    e += 1/fac\n",
    "    fac *= (i+1)\n",
    "    \n",
    "    \n",
    "print(f'e ~= {e:,}')"
   ]
  },
  {
   "cell_type": "markdown",
   "id": "15b49c71",
   "metadata": {},
   "source": [
    "**(Challenge)**\n",
    "\n",
    "Create a function called **`ln(x, d=10)`** that takes an numeric argument **`x`** and default integer argument **`d=10`.** The function should return an approximation of $\\ln(x) = \\log_e(x)$ accurate to `d` decimals.\n",
    "\n",
    "Taylor expansion of $\\ln(x)$ around $a$:\n",
    "$$\\begin{align}\n",
    "    \\ln(x) &= \\ln(a) + \\sum_{n=1}^{\\infty} \\frac{(-1)^{n-1} a^{-n}(x-a)^n}{n!} \\\\\n",
    "    &= \\ln(a) + a^{-1}(x-a) - \\frac{a^{-2}(x-a)^2}{2} + \\frac{a^{-3}(x-a)^3}{2 \\cdot 3} + ...\n",
    "\\end{align}$$"
   ]
  },
  {
   "cell_type": "code",
   "execution_count": 83,
   "id": "6afa4c21",
   "metadata": {},
   "outputs": [
    {
     "name": "stdout",
     "output_type": "stream",
     "text": [
      "0.8646647167633875\n",
      "Wall time: 16.2 s\n"
     ]
    }
   ],
   "source": [
    "%%time\n",
    "\n",
    "x = 3\n",
    "\n",
    "# approximate around a = 1\n",
    "res = 0\n",
    "factorial = 1\n",
    "\n",
    "for n in range(1, 100_000):\n",
    "    \n",
    "    factorial *= n\n",
    "    \n",
    "    res += (-1)**(n-1) * (x-1)**n / factorial\n",
    "    \n",
    "print(res)"
   ]
  },
  {
   "cell_type": "markdown",
   "id": "1242cf19",
   "metadata": {},
   "source": [
    "# Challenge 5"
   ]
  },
  {
   "cell_type": "markdown",
   "id": "85c7a3de",
   "metadata": {},
   "source": [
    "**(Warm-up)**\n",
    "\n",
    "Consider a triangle where each layer is constructed with numbers from 0 to 9:\n",
    "\n",
    "```\n",
    "0\n",
    "11\n",
    "222\n",
    "3333\n",
    " ⋮\n",
    "9999999999\n",
    "00000000000\n",
    "111111111111\n",
    "```\n",
    "\n",
    "Print such a triangle with 20 layers."
   ]
  },
  {
   "cell_type": "code",
   "execution_count": null,
   "id": "beaa65e5",
   "metadata": {},
   "outputs": [],
   "source": []
  },
  {
   "cell_type": "markdown",
   "id": "d61702b7",
   "metadata": {},
   "source": [
    "**(Challenge)**\n",
    "\n",
    "Wiki: https://en.wikipedia.org/wiki/Pascal%27s_triangle\n",
    "\n",
    "Pascal's Triangle is a pyramid of numbers constructed as follows:\n",
    "```\n",
    "      1\n",
    "     1 1\n",
    "    1 2 1\n",
    "   1 3 3 1\n",
    "  1 4 6 4 1\n",
    "      ⋮\n",
    "```\n",
    "Where the numbers in each level is constructed by the sum of the numbers standing on its shoulders from the level above.\n",
    "\n",
    "For example, the 5th row of the triangle `1 4 6 4 1` is constructed as follows:\n",
    "```\n",
    "              1\n",
    "           1     1\n",
    "        1     2     1\n",
    "     1     3     3     1\n",
    "(0+1) (1+3) (3+3) (3+1) (1+0) => 1 4 6 4 1\n",
    "```\n",
    "Create a list of lists that contain the first **`20 rows`** of Pascal's Triangle.\n",
    "\n",
    "**i.e.:**\n",
    "```python\n",
    "pascal == [[1],\n",
    "           [1, 1],\n",
    "           [1, 2, 1],\n",
    "           [1, 3, 3, 1],\n",
    "           [1, 4, 6, 4, 1],\n",
    "              ⋮\n",
    "          ]\n",
    "```"
   ]
  },
  {
   "cell_type": "code",
   "execution_count": 75,
   "id": "68bff881",
   "metadata": {},
   "outputs": [
    {
     "name": "stdout",
     "output_type": "stream",
     "text": [
      "[[1],\n",
      " [1, 1],\n",
      " [1, 2, 1],\n",
      " [1, 3, 3, 1],\n",
      " [1, 4, 6, 4, 1],\n",
      " [1, 5, 10, 10, 5, 1],\n",
      " [1, 6, 15, 20, 15, 6, 1],\n",
      " [1, 7, 21, 35, 35, 21, 7, 1],\n",
      " [1, 8, 28, 56, 70, 56, 28, 8, 1],\n",
      " [1, 9, 36, 84, 126, 126, 84, 36, 9, 1],\n",
      " [1, 10, 45, 120, 210, 252, 210, 120, 45, 10, 1],\n",
      " [1, 11, 55, 165, 330, 462, 462, 330, 165, 55, 11, 1],\n",
      " [1, 12, 66, 220, 495, 792, 924, 792, 495, 220, 66, 12, 1],\n",
      " [1, 13, 78, 286, 715, 1287, 1716, 1716, 1287, 715, 286, 78, 13, 1],\n",
      " [1, 14, 91, 364, 1001, 2002, 3003, 3432, 3003, 2002, 1001, 364, 91, 14, 1],\n",
      " [1, 15, 105, 455, 1365, 3003, 5005, 6435, 6435, 5005, 3003, 1365, 455, 105, 15, 1],\n",
      " [1, 16, 120, 560, 1820, 4368, 8008, 11440, 12870, 11440, 8008, 4368, 1820, 560, 120, 16, 1],\n",
      " [1, 17, 136, 680, 2380, 6188, 12376, 19448, 24310, 24310, 19448, 12376, 6188, 2380, 680, 136, 17, 1],\n",
      " [1, 18, 153, 816, 3060, 8568, 18564, 31824, 43758, 48620, 43758, 31824, 18564, 8568, 3060, 816, 153, 18, 1],\n",
      " [1, 19, 171, 969, 3876, 11628, 27132, 50388, 75582, 92378, 92378, 75582, 50388, 27132, 11628, 3876, 969, 171, 19, 1]]\n"
     ]
    }
   ],
   "source": [
    "# solution 1: using indexing\n",
    "\n",
    "pascal = [[1]]\n",
    "\n",
    "while len(pascal) < 20:\n",
    "\n",
    "    prev = pascal[-1]\n",
    "    \n",
    "    # add 0 + first\n",
    "    row = [prev[0]]\n",
    "    \n",
    "    # add left and right from interior numbers\n",
    "    for L, R in zip(prev[:-1], prev[1:]):\n",
    "        row.append(L+R)\n",
    "        \n",
    "    # add last + 0\n",
    "    row.append(prev[-1])\n",
    "    \n",
    "    pascal.append(row)\n",
    "\n",
    "# function to print\n",
    "def pprint(list_of_list):\n",
    "    rep = str(list_of_list).replace('],', '],\\n')\n",
    "    print(rep)\n",
    "    \n",
    "pprint(pascal)"
   ]
  },
  {
   "cell_type": "code",
   "execution_count": 74,
   "id": "7c38cf0f",
   "metadata": {},
   "outputs": [
    {
     "name": "stdout",
     "output_type": "stream",
     "text": [
      "[[1],\n",
      " [1, 1],\n",
      " [1, 2, 1],\n",
      " [1, 3, 3, 1],\n",
      " [1, 4, 6, 4, 1],\n",
      " [1, 5, 10, 10, 5, 1],\n",
      " [1, 6, 15, 20, 15, 6, 1],\n",
      " [1, 7, 21, 35, 35, 21, 7, 1],\n",
      " [1, 8, 28, 56, 70, 56, 28, 8, 1],\n",
      " [1, 9, 36, 84, 126, 126, 84, 36, 9, 1],\n",
      " [1, 10, 45, 120, 210, 252, 210, 120, 45, 10, 1],\n",
      " [1, 11, 55, 165, 330, 462, 462, 330, 165, 55, 11, 1],\n",
      " [1, 12, 66, 220, 495, 792, 924, 792, 495, 220, 66, 12, 1],\n",
      " [1, 13, 78, 286, 715, 1287, 1716, 1716, 1287, 715, 286, 78, 13, 1],\n",
      " [1, 14, 91, 364, 1001, 2002, 3003, 3432, 3003, 2002, 1001, 364, 91, 14, 1],\n",
      " [1, 15, 105, 455, 1365, 3003, 5005, 6435, 6435, 5005, 3003, 1365, 455, 105, 15, 1],\n",
      " [1, 16, 120, 560, 1820, 4368, 8008, 11440, 12870, 11440, 8008, 4368, 1820, 560, 120, 16, 1],\n",
      " [1, 17, 136, 680, 2380, 6188, 12376, 19448, 24310, 24310, 19448, 12376, 6188, 2380, 680, 136, 17, 1],\n",
      " [1, 18, 153, 816, 3060, 8568, 18564, 31824, 43758, 48620, 43758, 31824, 18564, 8568, 3060, 816, 153, 18, 1],\n",
      " [1, 19, 171, 969, 3876, 11628, 27132, 50388, 75582, 92378, 92378, 75582, 50388, 27132, 11628, 3876, 969, 171, 19, 1]]\n"
     ]
    }
   ],
   "source": [
    "# solution 2: using binomial theorem - https://en.wikipedia.org/wiki/Binomial_theorem\n",
    "\n",
    "# fast factorial with memoization\n",
    "_fac = [1]\n",
    "def factorial(n):\n",
    "    '''\n",
    "    Compute factorial using memoization\n",
    "    '''\n",
    "    # while factorials not computed\n",
    "    while n >= (m:=len(_fac)):\n",
    "        _fac.append(m * _fac[-1])\n",
    "        \n",
    "    return _fac[n]\n",
    "\n",
    "# binomial coefficient: https://en.wikipedia.org/wiki/Binomial_coefficient\n",
    "def binom_coeff(n, k):\n",
    "    '''\n",
    "    Compute n choose k\n",
    "    '''\n",
    "    return int(factorial(n) / (factorial(n-k) * factorial(k)))\n",
    "\n",
    "# create pascal\n",
    "pascal = []\n",
    "for n in range(20):\n",
    "    \n",
    "    row = []\n",
    "    for k in range(n+1):\n",
    "        # add binomial coefficients\n",
    "        row.append(binom_coeff(n, k))\n",
    "        \n",
    "    pascal.append(row)\n",
    "    \n",
    "print(str(pascal).replace('],', '],\\n'))"
   ]
  },
  {
   "cell_type": "code",
   "execution_count": null,
   "id": "9ccadc69",
   "metadata": {},
   "outputs": [],
   "source": []
  },
  {
   "cell_type": "markdown",
   "id": "da75ad71",
   "metadata": {},
   "source": [
    "# Challenge n + 1\n",
    "Rapping, rapping at my chamber door 🦉"
   ]
  },
  {
   "cell_type": "markdown",
   "id": "8967873f",
   "metadata": {},
   "source": [
    "**(Challenge)**\n",
    "\n",
    "An acrostic poem is one where certain letters in each line forms a secret message. \"A Valentine\" by Edgar Allen Poe has a secret message formed by the 1st letter of the 1st line, the 2nd letter of the 2nd line, ..., n-th letter of n-th line.\n",
    "\n",
    "Can you figure out who this poem is about?\n"
   ]
  },
  {
   "cell_type": "code",
   "execution_count": 14,
   "id": "78ee4828",
   "metadata": {},
   "outputs": [],
   "source": [
    "# \"A Valentine\", a hidden acrostic by Edgar Allen Poe\n",
    "# message key is the nth letter of the nth line\n",
    "poem = \"\"\"\n",
    "For her this rhyme is penned, whose luminous eyes,\n",
    "Brightly expressive as the twins of Loeda,\n",
    "Shall find her own sweet name, that, nestling lies\n",
    "Upon the page, enwrapped from every reader.\n",
    "Search narrowly the lines!--they hold a treasure\n",
    "Divine--a talisman--an amulet\n",
    "That must be worn at heart. Search well the measure--\n",
    "The words--the syllables! Do not forget\n",
    "The trivialest point, or you may lose your labor!\n",
    "And yet there is in this no Gordian knot\n",
    "Which one might not undo without a sabre,\n",
    "If one could merely comprehend the plot.\n",
    "Enwritten upon the leaf where now are peering\n",
    "Eyes scintillating soul, there lie perdus\n",
    "Three eloquent words oft uttered in the hearing\n",
    "Of poets, by poets--as the name is a poet’s, too.\n",
    "Its letters, although naturally lying\n",
    "Like the knight Pinto--Mendez Ferdinando--\n",
    "Still form a synonym for Truth--Cease trying!\n",
    "You will not read the riddle, though you do the best you can do.\n",
    "\"\"\""
   ]
  },
  {
   "cell_type": "code",
   "execution_count": 15,
   "id": "ae4d1c85",
   "metadata": {},
   "outputs": [
    {
     "name": "stdout",
     "output_type": "stream",
     "text": [
      "Francessargentosgood\n"
     ]
    }
   ],
   "source": [
    "# challenge\n",
    "\n",
    "# split lines\n",
    "lines = poem.split('\\n')\n",
    "\n",
    "# remove empty beginning and ending lines\n",
    "lines = lines[1:-1]\n",
    "\n",
    "# initiate message\n",
    "msg = ''\n",
    "\n",
    "# for n-th line\n",
    "for n, line in enumerate(lines):\n",
    "    \n",
    "    # filter alphabetical characters\n",
    "    chars = [s for s in line if s.isalpha()]\n",
    "    \n",
    "    # add n-th character to message\n",
    "    msg += chars[n]\n",
    "    \n",
    "print(msg)"
   ]
  },
  {
   "cell_type": "markdown",
   "id": "e511f58d",
   "metadata": {},
   "source": [
    "# Challenge n + 2\n",
    "\n",
    "Autobots, roll out! 🤖"
   ]
  },
  {
   "cell_type": "markdown",
   "id": "6a46aa03",
   "metadata": {},
   "source": [
    "**(Warm-Up)**\n",
    "\n",
    "<!-- \\subsubsection*{(Warm-Up)} -->\n",
    "\n",
    "Consider the equation:\n",
    "\\begin{align}\n",
    "f(x) = \\sqrt{1 - x^2}.\n",
    "\\end{align}\n",
    "\n",
    "Compute the following summation:\n",
    "\\begin{align}\n",
    "\\sigma = \\sum_{n=1}^{N}  f\\left({n \\over N}\\right) {1 \\over N}\n",
    "\\end{align}\n",
    "\n",
    "for $N = 1000$. What is $4\\sigma?$ What is $4\\sigma$ if $N = 100,000?$\n",
    "\n",
    "What's being computed here? Is there a way to achieve the goal more \"effectively?\"\n"
   ]
  },
  {
   "cell_type": "code",
   "execution_count": 13,
   "id": "3d3af945",
   "metadata": {},
   "outputs": [
    {
     "name": "stdout",
     "output_type": "stream",
     "text": [
      "3.1416126164019564\n"
     ]
    }
   ],
   "source": [
    "# warm-up\n",
    "\n",
    "# define n\n",
    "N = 100_000\n",
    "\n",
    "# define function\n",
    "f = lambda x: (1-x**2)**(1/2)\n",
    "dx = 1/N\n",
    "\n",
    "# approximate integral\n",
    "sigma = sum(f(n * dx) * dx for n in range(N))\n",
    "\n",
    "# approximate pi\n",
    "pi = 4*sigma\n",
    "\n",
    "print(pi)"
   ]
  },
  {
   "cell_type": "markdown",
   "id": "b693a59f",
   "metadata": {},
   "source": [
    "**(Challenge)**\n",
    "\n",
    "A prime number **`p > 1`** is a natural number whose only divisor is 1 and itself. Create a set or list of all primes smaller than or equal to any positive integer **`n`**."
   ]
  },
  {
   "cell_type": "code",
   "execution_count": 1,
   "id": "f2cdd69f",
   "metadata": {
    "scrolled": true
   },
   "outputs": [
    {
     "name": "stdout",
     "output_type": "stream",
     "text": [
      "[2, 3, 5, 7, 11, 13, 17, 19, 23, 29, 31, 37, 41, 43, 47, 53, 59, 61, 67, 71, 73, 79, 83, 89, 97, 101, 103, 107, 109, 113, 127, 131, 137, 139, 149, 151, 157, 163, 167, 173, 179, 181, 191, 193, 197, 199, 211, 223, 227, 229, 233, 239, 241, 251, 257, 263, 269, 271, 277, 281, 283, 293, 307, 311, 313, 317, 331, 337, 347, 349, 353, 359, 367, 373, 379, 383, 389, 397, 401, 409, 419, 421, 431, 433, 439, 443, 449, 457, 461, 463, 467, 479, 487, 491, 499, 503, 509, 521, 523, 541, 547, 557, 563, 569, 571, 577, 587, 593, 599, 601, 607, 613, 617, 619, 631, 641, 643, 647, 653, 659, 661, 673, 677, 683, 691, 701, 709, 719, 727, 733, 739, 743, 751, 757, 761, 769, 773, 787, 797, 809, 811, 821, 823, 827, 829, 839, 853, 857, 859, 863, 877, 881, 883, 887, 907, 911, 919, 929, 937, 941, 947, 953, 967, 971, 977, 983, 991, 997]\n"
     ]
    }
   ],
   "source": [
    "# warm-up\n",
    "\n",
    "primes = {2}\n",
    "\n",
    "N = 1000\n",
    "for n in range(2, N+1):\n",
    "    \n",
    "    # if it's not divsible by any prime so far\n",
    "    if not any(n % p == 0 for p in primes):\n",
    "        \n",
    "        # it's a prime\n",
    "        primes.add(n)\n",
    "        \n",
    "print(sorted(primes))"
   ]
  },
  {
   "cell_type": "code",
   "execution_count": 17,
   "id": "ea299d36",
   "metadata": {},
   "outputs": [
    {
     "name": "stdout",
     "output_type": "stream",
     "text": [
      "[2, 3, 5, 7, 11, 13, 17, 19, 23, 29, 31, 37, 41, 43, 47, 53, 59, 61, 67, 71, 73, 79, 83, 89, 97, 101, 103, 107, 109, 113, 127, 131, 137, 139, 149, 151, 157, 163, 167, 173, 179, 181, 191, 193, 197, 199, 211, 223, 227, 229, 233, 239, 241, 251, 257, 263, 269, 271, 277, 281, 283, 293, 307, 311, 313, 317, 331, 337, 347, 349, 353, 359, 367, 373, 379, 383, 389, 397, 401, 409, 419, 421, 431, 433, 439, 443, 449, 457, 461, 463, 467, 479, 487, 491, 499, 503, 509, 521, 523, 541, 547, 557, 563, 569, 571, 577, 587, 593, 599, 601, 607, 613, 617, 619, 631, 641, 643, 647, 653, 659, 661, 673, 677, 683, 691, 701, 709, 719, 727, 733, 739, 743, 751, 757, 761, 769, 773, 787, 797, 809, 811, 821, 823, 827, 829, 839, 853, 857, 859, 863, 877, 881, 883, 887, 907, 911, 919, 929, 937, 941, 947, 953, 967, 971, 977, 983, 991, 997]\n"
     ]
    }
   ],
   "source": [
    "# Sieve of Eratosthenes\n",
    "\n",
    "primes, nonprimes = set(), set()\n",
    "\n",
    "N = 1000\n",
    "\n",
    "for n in range(2, N+1):\n",
    "    \n",
    "    # if n is not in the set of non-primes\n",
    "    if n not in nonprimes:\n",
    "        \n",
    "        # it's a prime\n",
    "        primes.add(n)\n",
    "        \n",
    "        # add all multiples to non-primes\n",
    "        for m in range(n*2, N+1, n):\n",
    "            nonprimes.add(m)\n",
    "            \n",
    "print(sorted(primes))"
   ]
  },
  {
   "cell_type": "code",
   "execution_count": 18,
   "id": "90c5fc29",
   "metadata": {},
   "outputs": [
    {
     "name": "stdout",
     "output_type": "stream",
     "text": [
      "[2, 3, 5, 7, 11, 13, 17, 19, 23, 29, 31, 37, 41, 43, 47, 53, 59, 61, 67, 71, 73, 79, 83, 89, 97, 101, 103, 107, 109, 113, 127, 131, 137, 139, 149, 151, 157, 163, 167, 173, 179, 181, 191, 193, 197, 199, 211, 223, 227, 229, 233, 239, 241, 251, 257, 263, 269, 271, 277, 281, 283, 293, 307, 311, 313, 317, 331, 337, 347, 349, 353, 359, 367, 373, 379, 383, 389, 397, 401, 409, 419, 421, 431, 433, 439, 443, 449, 457, 461, 463, 467, 479, 487, 491, 499, 503, 509, 521, 523, 541, 547, 557, 563, 569, 571, 577, 587, 593, 599, 601, 607, 613, 617, 619, 631, 641, 643, 647, 653, 659, 661, 673, 677, 683, 691, 701, 709, 719, 727, 733, 739, 743, 751, 757, 761, 769, 773, 787, 797, 809, 811, 821, 823, 827, 829, 839, 853, 857, 859, 863, 877, 881, 883, 887, 907, 911, 919, 929, 937, 941, 947, 953, 967, 971, 977, 983, 991, 997]\n"
     ]
    }
   ],
   "source": [
    "# \"Lazy\" method for Sieve of Erostophanes\n",
    "# https://www.youtube.com/watch?v=5jwV3zxXc8E\n",
    "\n",
    "def natural(n):\n",
    "    '''\n",
    "    yields natural numbers (recursive)\n",
    "    \n",
    "    parameters\n",
    "    ---\n",
    "    n : int\n",
    "        the first number for the set\n",
    "    '''\n",
    "    yield n\n",
    "    \n",
    "    yield from natural(n+1)\n",
    "    \n",
    "def eros_sieve(s):\n",
    "    '''\n",
    "    yields primes (recursive)\n",
    "    \n",
    "    parameters\n",
    "    ---\n",
    "    s : generator (infinite set) of natural numbers\n",
    "    '''\n",
    "    n = next(s)\n",
    "    yield n\n",
    "    yield from eros_sieve(i for i in s if i%n != 0)\n",
    "    \n",
    "\n",
    "# get result\n",
    "N = 1000 # limit\n",
    "\n",
    "primes = set()\n",
    "s = eros_sieve(natural(2))\n",
    "\n",
    "p = next(s) # generate first prime\n",
    "\n",
    "while p < N:\n",
    "    primes.add(p)\n",
    "    p = next(s) # generate next prime\n",
    "\n",
    "print(sorted(primes))\n"
   ]
  },
  {
   "cell_type": "code",
   "execution_count": null,
   "id": "671632f8",
   "metadata": {},
   "outputs": [],
   "source": []
  },
  {
   "cell_type": "markdown",
   "id": "3df924cc",
   "metadata": {},
   "source": [
    "# Challenge n + 3"
   ]
  },
  {
   "cell_type": "markdown",
   "id": "e6ec14a0",
   "metadata": {},
   "source": [
    "**(Warm-up)**\n",
    "\n",
    "Create a list of numbers **`from 1 to 20`** in order where each number `n` is repeated `n` times.\n",
    "\n",
    "**i.e.: `x = [1, 2, 2, 3, 3, 3, 4, 4, 4, 4, 5, ....]`**.\n",
    "\n",
    "Bonus points for using a list comprehension."
   ]
  },
  {
   "cell_type": "code",
   "execution_count": 19,
   "id": "0366190b",
   "metadata": {},
   "outputs": [
    {
     "name": "stdout",
     "output_type": "stream",
     "text": [
      "[1, 2, 2, 3, 3, 3, 4, 4, 4, 4, 5, 5, 5, 5, 5, 6, 6, 6, 6, 6, 6, 7, 7, 7, 7, 7, 7, 7, 8, 8, 8, 8, 8, 8, 8, 8, 9, 9, 9, 9, 9, 9, 9, 9, 9, 10, 10, 10, 10, 10, 10, 10, 10, 10, 10, 11, 11, 11, 11, 11, 11, 11, 11, 11, 11, 11, 12, 12, 12, 12, 12, 12, 12, 12, 12, 12, 12, 12, 13, 13, 13, 13, 13, 13, 13, 13, 13, 13, 13, 13, 13, 14, 14, 14, 14, 14, 14, 14, 14, 14, 14, 14, 14, 14, 14, 15, 15, 15, 15, 15, 15, 15, 15, 15, 15, 15, 15, 15, 15, 15, 16, 16, 16, 16, 16, 16, 16, 16, 16, 16, 16, 16, 16, 16, 16, 16, 17, 17, 17, 17, 17, 17, 17, 17, 17, 17, 17, 17, 17, 17, 17, 17, 17, 18, 18, 18, 18, 18, 18, 18, 18, 18, 18, 18, 18, 18, 18, 18, 18, 18, 18, 19, 19, 19, 19, 19, 19, 19, 19, 19, 19, 19, 19, 19, 19, 19, 19, 19, 19, 19, 20, 20, 20, 20, 20, 20, 20, 20, 20, 20, 20, 20, 20, 20, 20, 20, 20, 20, 20, 20]\n"
     ]
    }
   ],
   "source": [
    "# warm-up\n",
    "n = 20\n",
    "\n",
    "x = [i for i in range(n+1) for _ in range(i)]\n",
    "print(x)"
   ]
  },
  {
   "cell_type": "markdown",
   "id": "a4cf7243",
   "metadata": {},
   "source": [
    "**(Challenge)**\n",
    "    \n",
    "A look-and-say number sequence is generated mnemonically. If we start with the number **`1`** in the sequence:\n",
    "\n",
    "**`1`** reads `One \"one\"` => **`11`**, which are now the next numbers in the sequence.\n",
    "\n",
    "**`11`** reads `Two \"ones\"` => **`21`**, \n",
    "\n",
    "**`21`** reads `One \"two\", one \"one\"` => **`1211`**,\n",
    "\n",
    "**`1211`** reads `One \"one\", one \"two\", two \"ones\"` => **`111221`**,\n",
    "\n",
    "**`111221`** reads `Three \"ones\", two \"twos\", one \"one\"` => **`312211`** ...\n",
    "\n",
    "... and so on.\n",
    "\n",
    "Create a `look-and-say` sequence as a list of **length 30** that begins with **1.**\n",
    "\n",
    "**i.e.:**\n",
    "\n",
    "```python\n",
    "result == [1,\n",
    "           11,\n",
    "           21,\n",
    "           1211,\n",
    "           111221,\n",
    "           312211,\n",
    "             ⋮\n",
    "          ]\n",
    "```\n",
    "\n",
    "John Conway's explanation of Look-and-Say Numbers: https://youtu.be/ea7lJkEhytA"
   ]
  },
  {
   "cell_type": "code",
   "execution_count": null,
   "id": "5046e4a5",
   "metadata": {},
   "outputs": [],
   "source": []
  },
  {
   "cell_type": "markdown",
   "id": "8d7badea",
   "metadata": {},
   "source": [
    "# Challenge n + 4"
   ]
  },
  {
   "cell_type": "markdown",
   "id": "2b76538e",
   "metadata": {},
   "source": [
    "**(Warm-up)**\n",
    "\n",
    "Without any imports, create a function **`vec_mult()`** that takes two lists and returns their vector dot product.\n",
    "\n",
    "```python\n",
    "def vec_mult(vec1, vec2):\n",
    "    # your code here\n",
    "    return res\n",
    "\n",
    "x = [1, 2, 3]\n",
    "y = [4, 5, 6]\n",
    "\n",
    "z = vec_mult(x, y)\n",
    "print(z)\n",
    "```"
   ]
  },
  {
   "cell_type": "code",
   "execution_count": 26,
   "id": "cd85023e",
   "metadata": {},
   "outputs": [
    {
     "name": "stdout",
     "output_type": "stream",
     "text": [
      "32\n"
     ]
    }
   ],
   "source": [
    "# warm-up\n",
    "\n",
    "def vec_mult(vec1, vec2):\n",
    "    \n",
    "    res = sum(a * b for a, b in zip(vec1, vec2))\n",
    "    \n",
    "    return res\n",
    "\n",
    "x = [1, 2, 3]\n",
    "y = [4, 5, 6]\n",
    "\n",
    "z = vec_mult(x, y)\n",
    "print(z)"
   ]
  },
  {
   "cell_type": "markdown",
   "id": "f5bb9804",
   "metadata": {},
   "source": [
    "**(Challenge)**\n",
    "\n",
    "Let a list of numbers represent a row vector. Let a list of row vectors represent a matrix. I've made a function `mprint` to print the matrix representation.\n",
    "\n",
    "Without using imports:\n",
    "\n",
    "**i)** create a function called **`transpose()`** that takes a matrix and returns its transpose.\n",
    "\n",
    "\n",
    "**ii)** create a function called **`mat_mult()`** that takes two matrices and returns their dot product. Check your results with numpy.\n",
    "\n",
    "```python\n",
    "def transpose(X):\n",
    "    # your code here\n",
    "    return\n",
    "\n",
    "def mat_mult(X, Y):\n",
    "    # your code here  \n",
    "    return\n",
    "\n",
    "def mprint(M, *args, **kwargs):\n",
    "    '''\n",
    "    Quick print list M as matrix\n",
    "    '''\n",
    "    mat_rep = str(M).replace('],', '],\\n')\n",
    "    print(mat_rep, *args, **kwargs)\n",
    "    \n",
    "# test cases\n",
    "X = [[1, 2],\n",
    "     [3, 4],\n",
    "     [5, 6]]\n",
    "\n",
    "Y = transpose(X)\n",
    "Z = mat_mult(X, Y)\n",
    "\n",
    "mprint(X, '\\n')\n",
    "mprint(Y, '\\n')\n",
    "mprint(Z)\n",
    "```"
   ]
  },
  {
   "cell_type": "code",
   "execution_count": 29,
   "id": "a576ab65",
   "metadata": {},
   "outputs": [
    {
     "name": "stdout",
     "output_type": "stream",
     "text": [
      "[[1, 2],\n",
      " [3, 4],\n",
      " [5, 6]] \n",
      "\n",
      "[[1, 3, 5],\n",
      " [2, 4, 6]] \n",
      "\n",
      "[[5, 11, 17],\n",
      " [11, 25, 39],\n",
      " [17, 39, 61]]\n"
     ]
    }
   ],
   "source": [
    "# challenge\n",
    "\n",
    "def transpose(X):\n",
    "\n",
    "    Y = [[0 for _ in X] for _ in X[0]]\n",
    "\n",
    "    for i, xrow in enumerate(X):\n",
    "        \n",
    "        for j, v in enumerate(xrow):\n",
    "        \n",
    "            Y[j][i] = v\n",
    "\n",
    "    return Y\n",
    "\n",
    "def mat_mult(X, Y):\n",
    "    \n",
    "    # convert column vector to \"row vector\"\n",
    "    YT = transpose(Y)\n",
    "    \n",
    "    Z = [[0 for _ in Y[0]] for _ in X]\n",
    "    \n",
    "    # for row vector in x\n",
    "    for i, x in enumerate(X):\n",
    "        \n",
    "        # for column vector in Y (row vector in Y.T)\n",
    "        for j, y in enumerate(YT):\n",
    "            \n",
    "            Z[i][j] = vec_mult(x, y)\n",
    "            \n",
    "    return Z\n",
    "\n",
    "def mprint(M, *args, **kwargs):\n",
    "    '''\n",
    "    Quick print list M as matrix\n",
    "    '''\n",
    "    mat_rep = str(M).replace('],', '],\\n')\n",
    "    print(mat_rep, *args, **kwargs)\n",
    "\n",
    "# test case\n",
    "X = [[1, 2],\n",
    "     [3, 4],\n",
    "     [5, 6]]\n",
    "\n",
    "Y = transpose(X)\n",
    "Z = mat_mult(X, Y)\n",
    "\n",
    "mprint(X, '\\n')\n",
    "mprint(Y, '\\n')\n",
    "mprint(Z)"
   ]
  },
  {
   "cell_type": "code",
   "execution_count": null,
   "id": "7a523873",
   "metadata": {},
   "outputs": [],
   "source": []
  }
 ],
 "metadata": {
  "kernelspec": {
   "display_name": "Python 3",
   "language": "python",
   "name": "python3"
  },
  "language_info": {
   "codemirror_mode": {
    "name": "ipython",
    "version": 3
   },
   "file_extension": ".py",
   "mimetype": "text/x-python",
   "name": "python",
   "nbconvert_exporter": "python",
   "pygments_lexer": "ipython3",
   "version": "3.8.5"
  }
 },
 "nbformat": 4,
 "nbformat_minor": 5
}
