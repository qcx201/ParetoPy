{
 "cells": [
  {
   "cell_type": "markdown",
   "metadata": {},
   "source": [
    "### Primitive Data Types: Booleans\n",
    "\n",
    "These are the basic data types that constitute all of the more complex data structures in python. The basic data types are the following:\n",
    "\n",
    "* Strings (for text)\n",
    "* Numeric types (integers and decimals)\n",
    "* Booleans\n"
   ]
  },
  {
   "cell_type": "markdown",
   "metadata": {},
   "source": [
    "### Booleans\n",
    "\n",
    "Booleans represent the truth or success of a statement, and are commonly used for branching and checking status in code.\n",
    "\n",
    "They can take two values: `True` or `False`."
   ]
  },
  {
   "cell_type": "code",
   "execution_count": 1,
   "metadata": {},
   "outputs": [
    {
     "name": "stdout",
     "output_type": "stream",
     "text": [
      "True\n",
      "False\n"
     ]
    }
   ],
   "source": [
    "bool_1 = True\n",
    "bool_2 = False\n",
    "\n",
    "print(bool_1)\n",
    "print(bool_2)"
   ]
  },
  {
   "cell_type": "code",
   "execution_count": 2,
   "metadata": {},
   "outputs": [
    {
     "data": {
      "text/plain": [
       "False"
      ]
     },
     "execution_count": 2,
     "metadata": {},
     "output_type": "execute_result"
    }
   ],
   "source": [
    "p, q = True, False\n",
    "p and q"
   ]
  },
  {
   "cell_type": "code",
   "execution_count": 3,
   "metadata": {},
   "outputs": [
    {
     "data": {
      "text/plain": [
       "False"
      ]
     },
     "execution_count": 3,
     "metadata": {},
     "output_type": "execute_result"
    }
   ],
   "source": [
    "bools = [True, True, True,True, True, True, True, True, True,True, True, True, False]\n",
    "all(bools)"
   ]
  },
  {
   "cell_type": "code",
   "execution_count": 4,
   "metadata": {},
   "outputs": [
    {
     "data": {
      "text/plain": [
       "True"
      ]
     },
     "execution_count": 4,
     "metadata": {},
     "output_type": "execute_result"
    }
   ],
   "source": [
    "p or q"
   ]
  },
  {
   "cell_type": "code",
   "execution_count": 5,
   "metadata": {},
   "outputs": [
    {
     "data": {
      "text/plain": [
       "False"
      ]
     },
     "execution_count": 5,
     "metadata": {},
     "output_type": "execute_result"
    }
   ],
   "source": [
    "bools = [False, False, False,False, False, False, False, False, False,False, False, False, False]\n",
    "any(bools)"
   ]
  },
  {
   "cell_type": "code",
   "execution_count": 6,
   "metadata": {},
   "outputs": [],
   "source": [
    "p = True\n"
   ]
  },
  {
   "cell_type": "code",
   "execution_count": 7,
   "metadata": {},
   "outputs": [
    {
     "data": {
      "text/plain": [
       "True"
      ]
     },
     "execution_count": 7,
     "metadata": {},
     "output_type": "execute_result"
    }
   ],
   "source": [
    "all([True, True, True])"
   ]
  },
  {
   "cell_type": "code",
   "execution_count": 8,
   "metadata": {},
   "outputs": [
    {
     "data": {
      "text/plain": [
       "True"
      ]
     },
     "execution_count": 8,
     "metadata": {},
     "output_type": "execute_result"
    }
   ],
   "source": [
    "not any([False, False, False])"
   ]
  },
  {
   "cell_type": "markdown",
   "metadata": {},
   "source": [
    "If you remember from our strings session, we could execute a command that checks in a string appears within another. For example:\n"
   ]
  },
  {
   "cell_type": "code",
   "execution_count": 9,
   "metadata": {},
   "outputs": [
    {
     "name": "stdout",
     "output_type": "stream",
     "text": [
      "Does Trump appear in the text? True\n"
     ]
    }
   ],
   "source": [
    "lookfor = \"Trump\"\n",
    "text = \"\"\"Three American prisoners freed from North Korea arrived here early\n",
    "Thursday to a personal welcome from President Trump, who traveled to an air\n",
    "base in the middle of the night to meet them.\"\"\"\n",
    "\n",
    "trump_in_text = lookfor in text\n",
    "print(\"Does Trump appear in the text?\", trump_in_text)"
   ]
  },
  {
   "cell_type": "code",
   "execution_count": 10,
   "metadata": {},
   "outputs": [
    {
     "data": {
      "text/plain": [
       "False"
      ]
     },
     "execution_count": 10,
     "metadata": {},
     "output_type": "execute_result"
    }
   ],
   "source": [
    "\"Trumpf\" in text"
   ]
  },
  {
   "cell_type": "code",
   "execution_count": 11,
   "metadata": {},
   "outputs": [
    {
     "data": {
      "text/plain": [
       "True"
      ]
     },
     "execution_count": 11,
     "metadata": {},
     "output_type": "execute_result"
    }
   ],
   "source": [
    "'ab' in 'abc'"
   ]
  },
  {
   "cell_type": "code",
   "execution_count": 12,
   "metadata": {},
   "outputs": [
    {
     "data": {
      "text/plain": [
       "False"
      ]
     },
     "execution_count": 12,
     "metadata": {},
     "output_type": "execute_result"
    }
   ],
   "source": [
    "'ab' in ['a', 'b', 'c']"
   ]
  },
  {
   "cell_type": "markdown",
   "metadata": {},
   "source": [
    "### Boolean Operations:\n",
    "\n",
    "Frequently, one wants to combine or modify boolean values. Python has several operations for just this purpose:\n",
    "\n",
    "+ `not a`: returns the opposite value of `a`.\n",
    "+ `a and b`: returns true if and only if both `a` and `b` are true.\n",
    "+ `a or b`: returns true either `a` or `b` are true, or both.\n",
    "\n",
    "See LPTHW [Exercise 27](http://learnpythonthehardway.org/book/ex27.html) \n",
    "\n",
    "Like mathematical expressions, boolean expressions can be nested using parentheses. "
   ]
  },
  {
   "cell_type": "code",
   "execution_count": 13,
   "metadata": {},
   "outputs": [],
   "source": [
    "var1 = 5\n",
    "var2 = 6\n",
    "var3 = 7"
   ]
  },
  {
   "cell_type": "markdown",
   "metadata": {},
   "source": [
    "Consider the outcomes of the following examples"
   ]
  },
  {
   "cell_type": "code",
   "execution_count": null,
   "metadata": {},
   "outputs": [],
   "source": []
  },
  {
   "cell_type": "code",
   "execution_count": 14,
   "metadata": {},
   "outputs": [
    {
     "name": "stdout",
     "output_type": "stream",
     "text": [
      "True\n"
     ]
    }
   ],
   "source": [
    "print(var1 + var2 == 11)"
   ]
  },
  {
   "cell_type": "code",
   "execution_count": 15,
   "metadata": {},
   "outputs": [
    {
     "name": "stdout",
     "output_type": "stream",
     "text": [
      "True\n"
     ]
    }
   ],
   "source": [
    "print(var2 + var3 == 13)"
   ]
  },
  {
   "cell_type": "code",
   "execution_count": 16,
   "metadata": {},
   "outputs": [
    {
     "name": "stdout",
     "output_type": "stream",
     "text": [
      "True\n"
     ]
    }
   ],
   "source": [
    "print(var1 + var2 == 11 and var2 + var3 == 13)"
   ]
  },
  {
   "cell_type": "code",
   "execution_count": 17,
   "metadata": {},
   "outputs": [
    {
     "name": "stdout",
     "output_type": "stream",
     "text": [
      "True\n"
     ]
    }
   ],
   "source": [
    "print(var1 + var2 != 12 and var2 + var3 == 13)"
   ]
  },
  {
   "cell_type": "code",
   "execution_count": 18,
   "metadata": {},
   "outputs": [
    {
     "name": "stdout",
     "output_type": "stream",
     "text": [
      "True\n"
     ]
    }
   ],
   "source": [
    "print(var1 + var2 == 12 or var2 + var3 == 13)"
   ]
  },
  {
   "cell_type": "code",
   "execution_count": 19,
   "metadata": {},
   "outputs": [
    {
     "name": "stdout",
     "output_type": "stream",
     "text": [
      "True\n"
     ]
    }
   ],
   "source": [
    "print((not var1 + var2 == 12) or (var2 + var3 == 14))"
   ]
  },
  {
   "cell_type": "markdown",
   "metadata": {},
   "source": [
    "### Exercise\n",
    "\n",
    "Complete Exercises 1-12 in [28](http://learnpythonthehardway.org/book/ex28.html) at LPTHW. You can find them also below. Try to find the outcome before executing the cell."
   ]
  },
  {
   "cell_type": "code",
   "execution_count": 20,
   "metadata": {},
   "outputs": [
    {
     "data": {
      "text/plain": [
       "True"
      ]
     },
     "execution_count": 20,
     "metadata": {},
     "output_type": "execute_result"
    }
   ],
   "source": [
    "# 1\n",
    "True and True"
   ]
  },
  {
   "cell_type": "code",
   "execution_count": 21,
   "metadata": {},
   "outputs": [
    {
     "data": {
      "text/plain": [
       "False"
      ]
     },
     "execution_count": 21,
     "metadata": {},
     "output_type": "execute_result"
    }
   ],
   "source": [
    "# 2\n",
    "False and True"
   ]
  },
  {
   "cell_type": "code",
   "execution_count": 22,
   "metadata": {},
   "outputs": [
    {
     "data": {
      "text/plain": [
       "False"
      ]
     },
     "execution_count": 22,
     "metadata": {},
     "output_type": "execute_result"
    }
   ],
   "source": [
    "# 3\n",
    "1 == 1 and 2 == 1"
   ]
  },
  {
   "cell_type": "code",
   "execution_count": 23,
   "metadata": {},
   "outputs": [
    {
     "data": {
      "text/plain": [
       "True"
      ]
     },
     "execution_count": 23,
     "metadata": {},
     "output_type": "execute_result"
    }
   ],
   "source": [
    "# 4\n",
    "\"test\" == \"test\""
   ]
  },
  {
   "cell_type": "code",
   "execution_count": 24,
   "metadata": {},
   "outputs": [
    {
     "data": {
      "text/plain": [
       "True"
      ]
     },
     "execution_count": 24,
     "metadata": {},
     "output_type": "execute_result"
    }
   ],
   "source": [
    "# 5\n",
    "1 == 1 or 2 != 1"
   ]
  },
  {
   "cell_type": "code",
   "execution_count": 25,
   "metadata": {},
   "outputs": [
    {
     "data": {
      "text/plain": [
       "True"
      ]
     },
     "execution_count": 25,
     "metadata": {},
     "output_type": "execute_result"
    }
   ],
   "source": [
    "# 6\n",
    "True and 1 == 1"
   ]
  },
  {
   "cell_type": "code",
   "execution_count": 26,
   "metadata": {},
   "outputs": [
    {
     "data": {
      "text/plain": [
       "False"
      ]
     },
     "execution_count": 26,
     "metadata": {},
     "output_type": "execute_result"
    }
   ],
   "source": [
    "# 7\n",
    "False and 0 != 0"
   ]
  },
  {
   "cell_type": "code",
   "execution_count": 27,
   "metadata": {},
   "outputs": [
    {
     "data": {
      "text/plain": [
       "True"
      ]
     },
     "execution_count": 27,
     "metadata": {},
     "output_type": "execute_result"
    }
   ],
   "source": [
    "# 8\n",
    "True or 1 == 1"
   ]
  },
  {
   "cell_type": "code",
   "execution_count": 28,
   "metadata": {},
   "outputs": [
    {
     "data": {
      "text/plain": [
       "False"
      ]
     },
     "execution_count": 28,
     "metadata": {},
     "output_type": "execute_result"
    }
   ],
   "source": [
    "# 9\n",
    "\"test\" == \"testing\""
   ]
  },
  {
   "cell_type": "code",
   "execution_count": 29,
   "metadata": {},
   "outputs": [
    {
     "data": {
      "text/plain": [
       "False"
      ]
     },
     "execution_count": 29,
     "metadata": {},
     "output_type": "execute_result"
    }
   ],
   "source": [
    "# 10\n",
    "1 != 0 and 2 == 1"
   ]
  },
  {
   "cell_type": "code",
   "execution_count": 30,
   "metadata": {},
   "outputs": [
    {
     "data": {
      "text/plain": [
       "True"
      ]
     },
     "execution_count": 30,
     "metadata": {},
     "output_type": "execute_result"
    }
   ],
   "source": [
    "# 11\n",
    "\"test\" != \"testing\""
   ]
  },
  {
   "cell_type": "code",
   "execution_count": 31,
   "metadata": {},
   "outputs": [
    {
     "data": {
      "text/plain": [
       "False"
      ]
     },
     "execution_count": 31,
     "metadata": {},
     "output_type": "execute_result"
    }
   ],
   "source": [
    "# 12\n",
    "\"test\" == 1"
   ]
  },
  {
   "cell_type": "markdown",
   "metadata": {},
   "source": [
    "Now Complete Exercises 12-20 in [28](http://learnpythonthehardway.org/book/ex28.html). But this time let's examine how to evaluate these expressions on a step by step basis."
   ]
  },
  {
   "cell_type": "code",
   "execution_count": 32,
   "metadata": {},
   "outputs": [
    {
     "data": {
      "text/plain": [
       "True"
      ]
     },
     "execution_count": 32,
     "metadata": {},
     "output_type": "execute_result"
    }
   ],
   "source": [
    "# 13\n",
    "not (True and False)"
   ]
  },
  {
   "cell_type": "code",
   "execution_count": 33,
   "metadata": {},
   "outputs": [
    {
     "data": {
      "text/plain": [
       "False"
      ]
     },
     "execution_count": 33,
     "metadata": {},
     "output_type": "execute_result"
    }
   ],
   "source": [
    "# 14\n",
    "not (1 == 1 and 0 != 1)"
   ]
  },
  {
   "cell_type": "code",
   "execution_count": 34,
   "metadata": {},
   "outputs": [
    {
     "data": {
      "text/plain": [
       "False"
      ]
     },
     "execution_count": 34,
     "metadata": {},
     "output_type": "execute_result"
    }
   ],
   "source": [
    "# 15\n",
    "not (10 == 1 or 1000 == 1000)"
   ]
  },
  {
   "cell_type": "code",
   "execution_count": 35,
   "metadata": {},
   "outputs": [
    {
     "data": {
      "text/plain": [
       "False"
      ]
     },
     "execution_count": 35,
     "metadata": {},
     "output_type": "execute_result"
    }
   ],
   "source": [
    "# 16\n",
    "not (1 != 10 or 3 == 4)"
   ]
  },
  {
   "cell_type": "code",
   "execution_count": 36,
   "metadata": {},
   "outputs": [
    {
     "data": {
      "text/plain": [
       "True"
      ]
     },
     "execution_count": 36,
     "metadata": {},
     "output_type": "execute_result"
    }
   ],
   "source": [
    "# 17\n",
    "not (\"testing\" == \"testing\" and \"Zed\" == \"Cool Guy\")"
   ]
  },
  {
   "cell_type": "code",
   "execution_count": 37,
   "metadata": {},
   "outputs": [
    {
     "data": {
      "text/plain": [
       "True"
      ]
     },
     "execution_count": 37,
     "metadata": {},
     "output_type": "execute_result"
    }
   ],
   "source": [
    "# 18\n",
    "True"
   ]
  },
  {
   "cell_type": "code",
   "execution_count": 38,
   "metadata": {},
   "outputs": [
    {
     "data": {
      "text/plain": [
       "True"
      ]
     },
     "execution_count": 38,
     "metadata": {},
     "output_type": "execute_result"
    }
   ],
   "source": [
    "# 18\n",
    "1 == 1 and (not (\"testing\" == 1 or 1 == 0))"
   ]
  },
  {
   "cell_type": "code",
   "execution_count": 39,
   "metadata": {},
   "outputs": [
    {
     "data": {
      "text/plain": [
       "False"
      ]
     },
     "execution_count": 39,
     "metadata": {},
     "output_type": "execute_result"
    }
   ],
   "source": [
    "# 19\n",
    "\"chunky\" == \"bacon\" and (not (3 == 4 or 3 == 3))"
   ]
  },
  {
   "cell_type": "code",
   "execution_count": 40,
   "metadata": {},
   "outputs": [
    {
     "data": {
      "text/plain": [
       "False"
      ]
     },
     "execution_count": 40,
     "metadata": {},
     "output_type": "execute_result"
    }
   ],
   "source": [
    "# 20\n",
    "3 == 3 and (not (\"testing\" == \"testing\" or \"Python\" == \"Fun\"))"
   ]
  },
  {
   "cell_type": "code",
   "execution_count": 41,
   "metadata": {},
   "outputs": [
    {
     "data": {
      "text/plain": [
       "False"
      ]
     },
     "execution_count": 41,
     "metadata": {},
     "output_type": "execute_result"
    }
   ],
   "source": [
    "# bonus\n",
    "False"
   ]
  },
  {
   "cell_type": "code",
   "execution_count": 42,
   "metadata": {},
   "outputs": [
    {
     "data": {
      "text/plain": [
       "False"
      ]
     },
     "execution_count": 42,
     "metadata": {},
     "output_type": "execute_result"
    }
   ],
   "source": [
    "# bonus\n",
    "3 != 4 and not (\"testing\" != \"test\" or \"Python\" == \"Python\")"
   ]
  },
  {
   "cell_type": "markdown",
   "metadata": {},
   "source": [
    "### Exercise\n",
    "\n",
    "Now let's try to write the boolean expressions that will evaluate different conditions, given a set of other variables."
   ]
  },
  {
   "cell_type": "code",
   "execution_count": 43,
   "metadata": {},
   "outputs": [
    {
     "name": "stdout",
     "output_type": "stream",
     "text": [
      "Age: 18; can drink alcohol? False\n"
     ]
    }
   ],
   "source": [
    "# To drink alcohol, you need to be above 21 yo\n",
    "age = 18\n",
    "\n",
    "\n",
    "# your code here, replace \"False\" with an expression\n",
    "can_drink_alcohol = False\n",
    "\n",
    "print(f\"Age: {age}; can drink alcohol? {can_drink_alcohol}\")"
   ]
  },
  {
   "cell_type": "code",
   "execution_count": 44,
   "metadata": {},
   "outputs": [
    {
     "name": "stdout",
     "output_type": "stream",
     "text": [
      "Age: 18; can get driving license? False\n"
     ]
    }
   ],
   "source": [
    "# To get a driving license you need to be above 16 yo\n",
    "age = 18\n",
    "\n",
    "# your code here, replace \"False\" with an expression\n",
    "can_get_driving_license = False\n",
    "\n",
    "print(f\"Age: {age}; can get driving license? {can_get_driving_license}\")"
   ]
  },
  {
   "cell_type": "code",
   "execution_count": 45,
   "metadata": {},
   "outputs": [
    {
     "name": "stdout",
     "output_type": "stream",
     "text": [
      "US Citizen: True; can get US passport? False\n"
     ]
    }
   ],
   "source": [
    "# You need to be a US Citizen to have a passport\n",
    "us_citizen = True\n",
    "\n",
    "# your code here, replace \"False\" with an expression\n",
    "can_get_us_passport = False\n",
    "\n",
    "print(f\"US Citizen: {us_citizen}; can get US passport? {can_get_us_passport}\")"
   ]
  },
  {
   "cell_type": "code",
   "execution_count": 46,
   "metadata": {},
   "outputs": [
    {
     "name": "stdout",
     "output_type": "stream",
     "text": [
      "US Citizen: True; Age: 18\n",
      "Can Vote? False\n"
     ]
    }
   ],
   "source": [
    "# You need to be above 18 and a US Citizen\n",
    "age = 18\n",
    "us_citizen = True\n",
    "\n",
    "# your code here, replace \"False\" with an expression\n",
    "can_vote = False\n",
    "\n",
    "print(f\"US Citizen: {us_citizen}; Age: {age}\\nCan Vote? {can_vote}\")"
   ]
  },
  {
   "cell_type": "code",
   "execution_count": 47,
   "metadata": {},
   "outputs": [
    {
     "name": "stdout",
     "output_type": "stream",
     "text": [
      "US Citizen: True; Age: 70; Born in US? True\n",
      "Can be president? False\n"
     ]
    }
   ],
   "source": [
    "# You need to be above 35, a US Citizen, and born in the US\n",
    "age = 70\n",
    "born_in_us = True\n",
    "us_citizen = True\n",
    "\n",
    "# your code here, replace \"False\" with an expression\n",
    "can_be_president = False\n",
    "\n",
    "print(f\"US Citizen: {us_citizen}; Age: {age}; Born in US? {born_in_us}\")\n",
    "print(f\"Can be president? {can_be_president}\")"
   ]
  },
  {
   "cell_type": "code",
   "execution_count": 48,
   "metadata": {},
   "outputs": [
    {
     "name": "stdout",
     "output_type": "stream",
     "text": [
      "Citizen parents: False\n",
      "Age: 19\n",
      "Born in US? True\n",
      "Eligible for Citizen? False\n"
     ]
    }
   ],
   "source": [
    "# Can you become citizen?\n",
    "# You qualify for a citizen if any of the following holds\n",
    "# * Your parents are US Citizens and you are under 18\n",
    "# * You have been born in the US\n",
    "age = 19\n",
    "parents_citizens = False\n",
    "born_in_us = True\n",
    "\n",
    "# your code here, replace \"False\" with an expression\n",
    "citizen_eligible = False\n",
    "\n",
    "print(f\"Citizen parents: {parents_citizens}\")\n",
    "print(f\"Age: {age}\")\n",
    "print(f\"Born in US? {born_in_us}\")\n",
    "print(f\"Eligible for Citizen? {citizen_eligible}\")"
   ]
  },
  {
   "cell_type": "markdown",
   "metadata": {},
   "source": [
    "### Control Structures: if statements\n",
    "\n",
    "Traversing over data and making decisions based upon data are a common aspect of every programming language, known as control flow. Python provides a rich control flow, with a lot of conveniences for the power users. Here, we're just going to talk about the basics, to learn more, please [consult the documentation](http://docs.python.org/2/tutorial/controlflow.html). \n",
    "\n",
    "A common theme throughout this discussion of control structures is the notion of a \"block of code.\" Blocks of code are **demarcated by a specific level of indentation**, typically separated from the surrounding code by some control structure elements, immediately preceeded by a colon, `:`. We'll see examples below. \n",
    "\n",
    "Finally, note that control structures can be nested arbitrarily, depending on the tasks you're trying to accomplish. \n",
    "\n"
   ]
  },
  {
   "cell_type": "markdown",
   "metadata": {},
   "source": [
    "### if Statements:\n",
    "\n",
    "**See also LPTHW, Exp 29, 30, and 31.**\n",
    "\n",
    "If statements are perhaps the most widely used of all control structures. An if statement consists of a code block and an argument. The if statement evaluates the boolean value of it's argument, executing the code block if that argument is true. "
   ]
  },
  {
   "cell_type": "code",
   "execution_count": 49,
   "metadata": {},
   "outputs": [],
   "source": [
    "execute = False\n",
    "if execute:\n",
    "    print(\"Of course!\")\n",
    "    print(\"This will execute as well\")"
   ]
  },
  {
   "cell_type": "code",
   "execution_count": 50,
   "metadata": {},
   "outputs": [
    {
     "name": "stdout",
     "output_type": "stream",
     "text": [
      "I am not nested, I will show up!\n"
     ]
    }
   ],
   "source": [
    "execute = False\n",
    "if execute:\n",
    "    print(\"Me? Nobody?\")\n",
    "    print(\"Really? Nobody?\")\n",
    "print(\"I am not nested, I will show up!\")"
   ]
  },
  {
   "cell_type": "markdown",
   "metadata": {},
   "source": [
    "And here is an `if` statement paired with an `else`."
   ]
  },
  {
   "cell_type": "code",
   "execution_count": 51,
   "metadata": {},
   "outputs": [
    {
     "name": "stdout",
     "output_type": "stream",
     "text": [
      "Trump appears in the text\n"
     ]
    }
   ],
   "source": [
    "lookfor = \"Trump\"\n",
    "text = \"\"\"\n",
    "Three American prisoners freed from North Korea arrived here early Thursday\n",
    "to a personal welcome from President Trump, who traveled to an air\n",
    "base in the middle of the night to meet them.\n",
    "\"\"\"\n",
    "if lookfor in text:\n",
    "    print(lookfor, \"appears in the text\")\n",
    "else:\n",
    "    print(lookfor, \"does not appear in the text\")"
   ]
  },
  {
   "cell_type": "code",
   "execution_count": 52,
   "metadata": {},
   "outputs": [
    {
     "name": "stdout",
     "output_type": "stream",
     "text": [
      "This text is not about Obama\n"
     ]
    }
   ],
   "source": [
    "lookfor = \"Obama\"\n",
    "text = \"\"\"\n",
    "Three American prisoners freed from North Korea arrived\n",
    "here early Thursday to a personal welcome from President Trump,\n",
    "who traveled to an air base in the middle of the night to meet them.\n",
    "\"\"\"\n",
    "if lookfor in text:\n",
    "    print(lookfor, \"appears in the text\")\n",
    "    \n",
    "elif lookfor==\"Obama\":\n",
    "    print(\"This text is not about Obama\")\n",
    "    \n",
    "else:\n",
    "    print(lookfor, \"does not appear in the text\")"
   ]
  },
  {
   "cell_type": "markdown",
   "metadata": {},
   "source": [
    "Each argument in the above if statements is a boolean expression. Often you want to have alternatives, blocks of code that get evaluated in the event that the argument to an if statement is false. This is where **`elif`** (else if) and else come in. \n",
    "\n",
    "An **`elif`** is evaluated if all preceding if or elif arguments have evaluated to false. The else statement is the last resort, assigning the code that gets executed if no if or elif above it is true. These statements are optional, and can be added to an if statement in any order, with at most one code block being evaluated. An else will always have it's code be executed, if nothing above it is true."
   ]
  },
  {
   "cell_type": "code",
   "execution_count": 53,
   "metadata": {},
   "outputs": [
    {
     "name": "stdout",
     "output_type": "stream",
     "text": [
      "Are you a graduate student? Or (gasp!) faculty?\n"
     ]
    }
   ],
   "source": [
    "status = \"Masters\"\n",
    "\n",
    "\n",
    "if status == \"Freshman\":\n",
    "    print(\"Hello newbie!\")\n",
    "    print(\"How's college treating you?\")\n",
    "elif status == \"Sophomore\":\n",
    "    print(\"Welcome back!\")\n",
    "elif status == \"Junior\":\n",
    "    print(\"Almost there, almost there\")\n",
    "elif status == \"Senior\":\n",
    "    print(\"You can drink now! You will need it.\")\n",
    "    \n",
    "    \n",
    "    \n",
    "if status == \"Senior\":\n",
    "    print(\"The secret of life is 42. But you will never see this\")\n",
    "else:\n",
    "    print(\"Are you a graduate student? Or (gasp!) faculty?\")"
   ]
  },
  {
   "cell_type": "code",
   "execution_count": 54,
   "metadata": {},
   "outputs": [
    {
     "name": "stdout",
     "output_type": "stream",
     "text": [
      "x is positive\n"
     ]
    }
   ],
   "source": [
    "# check if x is positive/negative (and zero!)\n",
    "x = 1\n",
    "\n",
    "if x > 0:\n",
    "    print(\"x is positive\")\n",
    "elif x < 0:\n",
    "    print(\"x is negative\")\n",
    "else:\n",
    "    print(\"x is zero\")"
   ]
  },
  {
   "cell_type": "code",
   "execution_count": 55,
   "metadata": {},
   "outputs": [
    {
     "name": "stdout",
     "output_type": "stream",
     "text": [
      "1:00 pm\n"
     ]
    }
   ],
   "source": [
    "# challenge 2 warm-up\n",
    "\n",
    "t_24h = \"13:00\"\n",
    "\n",
    "# split on colon\n",
    "h24, m = t_24h.split(\":\")\n",
    "\n",
    "# cast to integer\n",
    "h24 = int(h24)\n",
    "\n",
    "# modulate to get remainder from dividing by 12\n",
    "h12 = h24 % 12\n",
    "\n",
    "# reset to 12 if hour is 0\n",
    "if h12 == 0:\n",
    "    h12 = 12\n",
    "\n",
    "# am / pm\n",
    "if h24 < 12:\n",
    "    ampm = 'am'\n",
    "else:\n",
    "    ampm = 'pm'\n",
    "\n",
    "\n",
    "t_12h = f'{h12}:{m} {ampm}'\n",
    "    \n",
    "print(t_12h)"
   ]
  },
  {
   "cell_type": "code",
   "execution_count": 56,
   "metadata": {},
   "outputs": [
    {
     "name": "stdout",
     "output_type": "stream",
     "text": [
      "12:12 am\n"
     ]
    }
   ],
   "source": [
    "# challenge 2 warm-up: without if statements\n",
    "\n",
    "t_24h = \"00:12\"\n",
    "\n",
    "# split on colon\n",
    "h24, m = t_24h.split(\":\")\n",
    "\n",
    "# cast to integer\n",
    "h24 = int(h24)\n",
    "\n",
    "# modulate to get remainder from dividing by 12\n",
    "h12 = h24 % 12\n",
    "\n",
    "# reset to 12 if hour is 0\n",
    "h12 = h12 + 12 * (h12==0)\n",
    "\n",
    "# am / pm\n",
    "ampm = (h24 < 12) * 'am' + (h24 >= 12) * 'pm'\n",
    "\n",
    "\n",
    "t_12h = f'{h12}:{m} {ampm}'\n",
    "    \n",
    "print(t_12h)"
   ]
  },
  {
   "cell_type": "markdown",
   "metadata": {},
   "source": [
    "#### Exercise\n",
    "\n"
   ]
  },
  {
   "cell_type": "markdown",
   "metadata": {},
   "source": [
    "* You need to be 21 years old and above to drink alcohol. Write a conditional expression that checks the age, and prints out whether the person is allowed to drink alcohol."
   ]
  },
  {
   "cell_type": "code",
   "execution_count": 68,
   "metadata": {},
   "outputs": [
    {
     "name": "stdout",
     "output_type": "stream",
     "text": [
      "You are too young. Wait for 1 years\n"
     ]
    }
   ],
   "source": [
    "age = 20\n",
    "if age >= 21:\n",
    "    print(\"You are above 21, you can drink\")\n",
    "else:\n",
    "    print(\"You are too young. Wait for\", 21 - age, \"years\")"
   ]
  },
  {
   "cell_type": "code",
   "execution_count": 69,
   "metadata": {},
   "outputs": [
    {
     "name": "stdout",
     "output_type": "stream",
     "text": [
      "You are too young. Wait for 3 years\n"
     ]
    }
   ],
   "source": [
    "age = 18\n",
    "\n",
    "if age >= 21:\n",
    "    print(\"You are above 21, you can drink\")\n",
    "else:\n",
    "    print(\"You are too young. Wait for\", 21 - age, \"years\")"
   ]
  },
  {
   "cell_type": "markdown",
   "metadata": {},
   "source": [
    "* You need to be 16 years old and above to drive. If you are above 16, you also need to have a driving license. Write a conditional expression that checks the age and prints out: (a) whether the person is too young to drive, (b) whether the person satisfies the age criteria but needs a driving license, or (c) the person can drive.\n"
   ]
  },
  {
   "cell_type": "code",
   "execution_count": 71,
   "metadata": {},
   "outputs": [
    {
     "name": "stdout",
     "output_type": "stream",
     "text": [
      "You are old enough to drive, but you need a driving license\n"
     ]
    }
   ],
   "source": [
    "age = 18\n",
    "has_driving_license = False\n",
    "if age < 16:\n",
    "    print(\"You are too young to drive\")\n",
    "else:\n",
    "    if has_driving_license:\n",
    "        print(\"You can drive\")\n",
    "    else:\n",
    "        print(\"You are old enough to drive, but you need a driving license\")"
   ]
  },
  {
   "cell_type": "code",
   "execution_count": 72,
   "metadata": {},
   "outputs": [
    {
     "name": "stdout",
     "output_type": "stream",
     "text": [
      "You are too young to drive\n"
     ]
    }
   ],
   "source": [
    "age = 15\n",
    "has_driving_license = True\n",
    "if age >= 16 and has_driving_license:\n",
    "    print(\"You can drive\")\n",
    "elif age >= 16 and not has_driving_license:\n",
    "    print(\"You are old enough to drive, but you need a driving license\")\n",
    "else:\n",
    "    print(\"You are too young to drive\")"
   ]
  },
  {
   "cell_type": "code",
   "execution_count": 73,
   "metadata": {},
   "outputs": [
    {
     "name": "stdout",
     "output_type": "stream",
     "text": [
      "You are old enough to drive, but you need a driving license\n"
     ]
    }
   ],
   "source": [
    "age = 18\n",
    "has_driving_license = False\n",
    "\n",
    "if age < 16:\n",
    "    print(\"You are too young to drive\")\n",
    "else:\n",
    "    if has_driving_license:\n",
    "        print(\"You can drive\")\n",
    "    else:\n",
    "        print(\"You are old enough to drive, but you need a driving license\")"
   ]
  },
  {
   "cell_type": "code",
   "execution_count": 74,
   "metadata": {},
   "outputs": [
    {
     "name": "stdout",
     "output_type": "stream",
     "text": [
      "You are old enough to drive, but you need a driving license\n"
     ]
    }
   ],
   "source": [
    "age = 18\n",
    "has_driving_license = False\n",
    "\n",
    "if age >= 16 and has_driving_license:\n",
    "    print(\"You can drive\")\n",
    "elif age >= 16 and not has_driving_license:\n",
    "    print(\"You are old enough to drive, but you need a driving license\")\n",
    "else:\n",
    "    print(\"You are too young to drive\")"
   ]
  },
  {
   "cell_type": "markdown",
   "metadata": {},
   "source": [
    "* You need to be above 18 and a US Citizen, to be able to vote. You also need to be registered. Write the conditional expression that checks for these conditions and prints out whether the person can vote. If the person cannot vote, the code should print out the reason (below 18, or not a US citizen, or not registered, or a combination thereof).\n"
   ]
  },
  {
   "cell_type": "code",
   "execution_count": 75,
   "metadata": {},
   "outputs": [
    {
     "name": "stdout",
     "output_type": "stream",
     "text": [
      "You cannot vote\n",
      "You are below 18\n",
      "You are not a US citizen\n"
     ]
    }
   ],
   "source": [
    "age = 15\n",
    "us_citizen = False\n",
    "registered = True\n",
    "\n",
    "if age >= 18 and us_citizen and registered:\n",
    "    print(\"You can vote\")\n",
    "else:\n",
    "    print(\"You cannot vote\")\n",
    "    # Now let's explain the reason\n",
    "    if age < 18:\n",
    "        print(\"You are below 18\")\n",
    "    if not us_citizen:\n",
    "        print(\"You are not a US citizen\")\n",
    "    if not registered:\n",
    "        print(\"You are not registered\")"
   ]
  },
  {
   "cell_type": "code",
   "execution_count": 76,
   "metadata": {},
   "outputs": [
    {
     "name": "stdout",
     "output_type": "stream",
     "text": [
      "You cannot vote\n",
      "You are below 18\n",
      "You are not a US citizen\n"
     ]
    }
   ],
   "source": [
    "age = 15\n",
    "us_citizen = False\n",
    "registered = True\n",
    "\n",
    "if age >= 18 and us_citizen and registered:\n",
    "    print(\"You can vote\")\n",
    "else:\n",
    "    print(\"You cannot vote\")\n",
    "    if age < 18:\n",
    "        print(\"You are below 18\")\n",
    "    if not us_citizen:\n",
    "        print(\"You are not a US citizen\")\n",
    "    if not registered:\n",
    "        print(\"You are not registered\")"
   ]
  },
  {
   "cell_type": "markdown",
   "metadata": {},
   "source": [
    "* You qualify for US citizen if any of the following holds: (a) Your parents are US Citizens and you are under 18, (b) You have been born in the US. Write the conditional expression that checks if a person is eligible to become a US citizen. If the person is not eligible, the code should print out the reason."
   ]
  },
  {
   "cell_type": "code",
   "execution_count": 77,
   "metadata": {},
   "outputs": [
    {
     "name": "stdout",
     "output_type": "stream",
     "text": [
      "You cannot become a US citizen\n",
      "You were not born in the US\n",
      "You need to be below 18 and your parents need to be citizens\n"
     ]
    }
   ],
   "source": [
    "age = 15\n",
    "parents_citizens = False\n",
    "born_in_us = False\n",
    "\n",
    "if (age < 18 and parents_citizens) or born_in_us:\n",
    "    print(\"You can become a US citizen\")\n",
    "else:  # none of the two conditions around the or were True\n",
    "    print(\"You cannot become a US citizen\")\n",
    "    if not born_in_us:\n",
    "        print(\"You were not born in the US\")\n",
    "    if not (age < 18 and parents_citizens):\n",
    "        print(\"You need to be below 18 and your parents need to be citizens\")"
   ]
  },
  {
   "cell_type": "code",
   "execution_count": 78,
   "metadata": {},
   "outputs": [
    {
     "name": "stdout",
     "output_type": "stream",
     "text": [
      "You can become a US citizen\n"
     ]
    }
   ],
   "source": [
    "age = 16\n",
    "parents_citizens = True\n",
    "born_in_us = False\n",
    "\n",
    "if (age < 18 and parents_citizens) or born_in_us:\n",
    "    print(\"You can become a US citizen\")\n",
    "else:  # none of the conditions were true\n",
    "    if not born_in_us:\n",
    "        print(\"You were not born in the US\")\n",
    "    if not (age < 18 and parents_citizens):\n",
    "        print(\"You need to be below 18 and your parents need to be citizens\")"
   ]
  }
 ],
 "metadata": {
  "kernelspec": {
   "display_name": "Python 3",
   "language": "python",
   "name": "python3"
  },
  "language_info": {
   "codemirror_mode": {
    "name": "ipython",
    "version": 3
   },
   "file_extension": ".py",
   "mimetype": "text/x-python",
   "name": "python",
   "nbconvert_exporter": "python",
   "pygments_lexer": "ipython3",
   "version": "3.8.5"
  }
 },
 "nbformat": 4,
 "nbformat_minor": 1
}
