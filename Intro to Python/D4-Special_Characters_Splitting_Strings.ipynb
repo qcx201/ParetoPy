{
 "cells": [
  {
   "cell_type": "markdown",
   "metadata": {},
   "source": [
    "### Special characters\n",
    "\n",
    "When we use strings, you will notice that we often want to use some \"_special characters_\". These special characters consist of the backslash character (`\\`) followed by another character.\n",
    "\n",
    "**Tab character** `\\t`: For example, if we want to create an output of multiple columns, with each columns being separated with a tab from each other, we can use the tab character, which is represented as `\\t`. "
   ]
  },
  {
   "cell_type": "code",
   "execution_count": 24,
   "metadata": {},
   "outputs": [
    {
     "name": "stdout",
     "output_type": "stream",
     "text": [
      "First Name\tLast Name\tEmail\n",
      "Panagiotis\tIpeirotis\tpanos@nyu.edu\n",
      "Kristaps\tPorzingis\tkporzee@nba.com\n",
      "Hello\t\tJack\t\tUppsala\n"
     ]
    }
   ],
   "source": [
    "# Example: List the first name, last name, and email of a person, in columns\n",
    "# Separate the columns using a tab character\n",
    "str_4a =\"First Name\\tLast Name\\tEmail\"\n",
    "str_4b =\"Panagiotis\\tIpeirotis\\tpanos@nyu.edu\"\n",
    "str_4c =\"Kristaps\\tPorzingis\\tkporzee@nba.com\"\n",
    "print(str_4a)\n",
    "print(str_4b)\n",
    "print(str_4c)\n",
    "\n",
    "print(\"Hello\\t\\tJack\\t\\tUppsala\")"
   ]
  },
  {
   "cell_type": "code",
   "execution_count": 27,
   "metadata": {},
   "outputs": [
    {
     "name": "stdout",
     "output_type": "stream",
     "text": [
      "\tThor\n",
      "        Thor\n"
     ]
    }
   ],
   "source": [
    "print('\\tThor')\n",
    "print('        Thor')"
   ]
  },
  {
   "cell_type": "code",
   "execution_count": 8,
   "metadata": {},
   "outputs": [
    {
     "name": "stdout",
     "output_type": "stream",
     "text": [
      "Hello\tMona\n"
     ]
    }
   ],
   "source": [
    "print('Hello\\tMona')"
   ]
  },
  {
   "cell_type": "markdown",
   "metadata": {},
   "source": [
    "**New line character** `\\n`: This is a special character that we use to represent a new line."
   ]
  },
  {
   "cell_type": "code",
   "execution_count": 9,
   "metadata": {},
   "outputs": [
    {
     "name": "stdout",
     "output_type": "stream",
     "text": [
      "Hello World!\n",
      "Hello World Twice!\n"
     ]
    }
   ],
   "source": [
    "# Notice that we end the strings below with the \\n character, \n",
    "# which is the \"new line\" special character\n",
    "str_5 = \"Hello World!\\nHello World Twice!\"\n",
    "print(str_5)\n"
   ]
  },
  {
   "cell_type": "markdown",
   "metadata": {},
   "source": [
    "**Backslash character** `\\\\`: In general, backslash (`\\`) is used to introduce special characters. If we want to type the backslash character itself, we do it by typing backslash twice in a row: `\\\\`."
   ]
  },
  {
   "cell_type": "code",
   "execution_count": 11,
   "metadata": {},
   "outputs": [
    {
     "name": "stdout",
     "output_type": "stream",
     "text": [
      "\"Hello\" world\n"
     ]
    }
   ],
   "source": [
    "print(\"\\\"Hello\\\" world\")"
   ]
  },
  {
   "cell_type": "code",
   "execution_count": null,
   "metadata": {},
   "outputs": [],
   "source": [
    "print(\"I want to print backslash: \\\\\")"
   ]
  },
  {
   "cell_type": "markdown",
   "metadata": {},
   "source": [
    "**Quotes**: "
   ]
  },
  {
   "cell_type": "code",
   "execution_count": 33,
   "metadata": {},
   "outputs": [
    {
     "name": "stdout",
     "output_type": "stream",
     "text": [
      "This is a string within single quotes that can contain \"double quotes\" as part of the string\n"
     ]
    }
   ],
   "source": [
    "str_4 = 'This is a string within single quotes that can contain \"double quotes\" as part of the string'\n",
    "print(str_4)"
   ]
  },
  {
   "cell_type": "code",
   "execution_count": 34,
   "metadata": {},
   "outputs": [
    {
     "name": "stdout",
     "output_type": "stream",
     "text": [
      "If we want to have 'single quotes' in single quoted string we should escape them\n"
     ]
    }
   ],
   "source": [
    "str_5 = 'If we want to have \\'single quotes\\' in single quoted string we should escape them'\n",
    "print(str_5)"
   ]
  },
  {
   "cell_type": "code",
   "execution_count": 36,
   "metadata": {},
   "outputs": [
    {
     "name": "stdout",
     "output_type": "stream",
     "text": [
      "Similarly, if we want to have \"double quotes\" in double quoted string we should escape them\n",
      "\n"
     ]
    }
   ],
   "source": [
    "str_6 = \"Similarly, if we want to have \\\"double quotes\\\" in double quoted string we should escape them\\n\"\n",
    "print(str_6)"
   ]
  },
  {
   "cell_type": "code",
   "execution_count": 40,
   "metadata": {},
   "outputs": [
    {
     "name": "stdout",
     "output_type": "stream",
     "text": [
      "\"Hello\" to Mona's world\n"
     ]
    }
   ],
   "source": [
    "print('\"Hello\" to Mona\\'s world')"
   ]
  },
  {
   "cell_type": "markdown",
   "metadata": {},
   "source": [
    "### Splitting Strings: `split` and `join`\n",
    "\n",
    "Since we talked about special characters, let’s talk now about splitting strings, using the `split()` function.\n",
    "\n",
    "\n",
    "+ `longstring.split(separator)`: split the first string (longstring) at every occurrence of the second string (separator) Outputs a list (see below).\n",
    "+ `connector.join(list)`:  join is the \"reverse\" of split, and joins all  the elements of the list, using the `connector` string in front."
   ]
  },
  {
   "cell_type": "code",
   "execution_count": 41,
   "metadata": {},
   "outputs": [
    {
     "name": "stdout",
     "output_type": "stream",
     "text": [
      "['practical', 'data', 'science']\n"
     ]
    }
   ],
   "source": [
    "print(\"practical data science\".split(\" \"))"
   ]
  },
  {
   "cell_type": "code",
   "execution_count": null,
   "metadata": {},
   "outputs": [],
   "source": []
  },
  {
   "cell_type": "code",
   "execution_count": 43,
   "metadata": {},
   "outputs": [
    {
     "data": {
      "text/plain": [
       "['Mona', 'Oona', 'Oskar']"
      ]
     },
     "execution_count": 43,
     "metadata": {},
     "output_type": "execute_result"
    }
   ],
   "source": [
    "\"Mona, Oona, Oskar\".split(\", \")"
   ]
  },
  {
   "cell_type": "markdown",
   "metadata": {},
   "source": [
    "Or let's take the example from above:"
   ]
  },
  {
   "cell_type": "code",
   "execution_count": 54,
   "metadata": {},
   "outputs": [
    {
     "name": "stdout",
     "output_type": "stream",
     "text": [
      "['First Name', 'Last Name', 'Email']\n",
      "['Panagiotis', 'Ipeirotis', 'panos@nyu.edu']\n",
      "['Kristaps', 'Porzingis', 'kporzee@nba.com']\n"
     ]
    }
   ],
   "source": [
    "str_a =\"First Name\\tLast Name\\tEmail\"\n",
    "str_b =\"Panagiotis\\tIpeirotis\\tpanos@nyu.edu\"\n",
    "str_c =\"Kristaps\\tPorzingis\\tkporzee@nba.com\"\n",
    "print(str_a.split('\\t'))\n",
    "print(str_b.split('\\t'))\n",
    "print(str_c.split('\\t'))"
   ]
  },
  {
   "cell_type": "markdown",
   "metadata": {},
   "source": [
    "Notice that when we split a string and the delimeter character\n",
    "does not appear, then we get back the string itself, but converted\n",
    "into a list with a single element. (We will talk about lists in a \n",
    " couple of weeks)"
   ]
  },
  {
   "cell_type": "code",
   "execution_count": 55,
   "metadata": {},
   "outputs": [
    {
     "name": "stdout",
     "output_type": "stream",
     "text": [
      "['hello']\n"
     ]
    }
   ],
   "source": [
    "print(\"hello\".split(\" \"))"
   ]
  },
  {
   "cell_type": "markdown",
   "metadata": {},
   "source": [
    "  Join is the \"reverse\" of split, and joins all\n",
    " the elements of the list, using the \"string\" in front.\n",
    " The command below joins the elements of the `line` variable using the \n",
    " characters `###` as the connecting element."
   ]
  },
  {
   "cell_type": "code",
   "execution_count": 70,
   "metadata": {},
   "outputs": [
    {
     "data": {
      "text/plain": [
       "'Panagiotis\\tIpeirotis\\tpanos@nyu.edu'"
      ]
     },
     "execution_count": 70,
     "metadata": {},
     "output_type": "execute_result"
    }
   ],
   "source": [
    "line = ['Panagiotis', 'Ipeirotis', 'panos@nyu.edu']\n",
    "\"\\t\".join(line)"
   ]
  },
  {
   "cell_type": "markdown",
   "metadata": {},
   "source": [
    "#### Exercise\n",
    "\n",
    "Consider the string `billgates@microsoft.com`. Write code that finds the username of the email address and the domain of the email address, using the `split()` command."
   ]
  },
  {
   "cell_type": "code",
   "execution_count": 71,
   "metadata": {},
   "outputs": [],
   "source": [
    "email = \"billgates@microsoft.com\"\n",
    "res = email.split(\"@\")\n",
    "user = res[0]\n",
    "domain = res[1]"
   ]
  },
  {
   "cell_type": "code",
   "execution_count": 82,
   "metadata": {},
   "outputs": [
    {
     "name": "stdout",
     "output_type": "stream",
     "text": [
      "User:\t billgates\n",
      "Domain:\t microsoft.com\n"
     ]
    }
   ],
   "source": [
    "email = \"billgates@microsoft.com\"\n",
    "user, domain = email.split(\"@\")\n",
    "\n",
    "print(\"User:\\t\", user)\n",
    "print(\"Domain:\\t\", domain)"
   ]
  },
  {
   "cell_type": "code",
   "execution_count": null,
   "metadata": {},
   "outputs": [],
   "source": [
    "email = \"billgates@microsoft.com\"\n",
    "result = email.split(\"@\")\n",
    "print(result)"
   ]
  },
  {
   "cell_type": "code",
   "execution_count": null,
   "metadata": {},
   "outputs": [],
   "source": [
    "# We can also access the individual elements of a list using indexing\n",
    "print(\"Username:\", result[0])\n",
    "print(\"Domain:\", result[1])"
   ]
  },
  {
   "cell_type": "code",
   "execution_count": null,
   "metadata": {},
   "outputs": [],
   "source": [
    "email = \"billgates@microsoft.com\"\n",
    "result = email.split(\"@\")\n",
    "print(result)"
   ]
  },
  {
   "cell_type": "code",
   "execution_count": null,
   "metadata": {},
   "outputs": [],
   "source": [
    "# And if we want to access the individual elements of a list we can use the indexing notation, as in the case of strings:\n",
    "print(\"Username:\", result[0])\n",
    "print(\"Domain:\", result[1])"
   ]
  },
  {
   "cell_type": "markdown",
   "metadata": {},
   "source": [
    "## String Formatting"
   ]
  },
  {
   "cell_type": "code",
   "execution_count": 96,
   "metadata": {},
   "outputs": [],
   "source": [
    "pct = 3 / 11"
   ]
  },
  {
   "cell_type": "code",
   "execution_count": 97,
   "metadata": {},
   "outputs": [
    {
     "name": "stdout",
     "output_type": "stream",
     "text": [
      "Percentage: 0.2727272727272727\n"
     ]
    }
   ],
   "source": [
    "print(\"Percentage:\", pct)"
   ]
  },
  {
   "cell_type": "code",
   "execution_count": 101,
   "metadata": {},
   "outputs": [
    {
     "name": "stdout",
     "output_type": "stream",
     "text": [
      "Percentage:\t 0.273\n",
      "Percentage: \t0.273\n"
     ]
    }
   ],
   "source": [
    "print(\"Percentage:\\t\", round(float(pct), 3))\n",
    "print(\"Percentage:\", '\\t' + str(round(float(pct), 3)))"
   ]
  },
  {
   "cell_type": "code",
   "execution_count": 106,
   "metadata": {},
   "outputs": [
    {
     "name": "stdout",
     "output_type": "stream",
     "text": [
      "Percentage:\t0.273\n"
     ]
    }
   ],
   "source": [
    "print(f\"Percentage:\\t{pct :.3f}\")"
   ]
  },
  {
   "cell_type": "code",
   "execution_count": 118,
   "metadata": {},
   "outputs": [
    {
     "data": {
      "text/plain": [
       "'Percentage:\\t27.273%'"
      ]
     },
     "execution_count": 118,
     "metadata": {},
     "output_type": "execute_result"
    }
   ],
   "source": [
    "x = \"Percentage:\\t\" + str(round(float(pct*100), 3)) + '%'\n",
    "# print(x)\n",
    "x"
   ]
  },
  {
   "cell_type": "code",
   "execution_count": 117,
   "metadata": {},
   "outputs": [
    {
     "data": {
      "text/plain": [
       "'Percentage:\\t27.273%'"
      ]
     },
     "execution_count": 117,
     "metadata": {},
     "output_type": "execute_result"
    }
   ],
   "source": [
    "y= f\"Percentage:\\t{pct :.3%}\"\n",
    "y"
   ]
  },
  {
   "cell_type": "code",
   "execution_count": 111,
   "metadata": {},
   "outputs": [
    {
     "name": "stdout",
     "output_type": "stream",
     "text": [
      "Percentage:\t27.273%\n"
     ]
    }
   ],
   "source": [
    "print()"
   ]
  },
  {
   "cell_type": "code",
   "execution_count": null,
   "metadata": {},
   "outputs": [],
   "source": []
  }
 ],
 "metadata": {
  "kernelspec": {
   "display_name": "Python 3",
   "language": "python",
   "name": "python3"
  },
  "language_info": {
   "codemirror_mode": {
    "name": "ipython",
    "version": 3
   },
   "file_extension": ".py",
   "mimetype": "text/x-python",
   "name": "python",
   "nbconvert_exporter": "python",
   "pygments_lexer": "ipython3",
   "version": "3.8.5"
  }
 },
 "nbformat": 4,
 "nbformat_minor": 1
}
