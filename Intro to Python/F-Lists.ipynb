{
 "cells": [
  {
   "cell_type": "markdown",
   "metadata": {},
   "source": [
    "# Complex Data Structures: Lists (and Tuples)\n",
    "\n",
    "\n",
    "We have covered in detail much of the basics of Python’s primitive data types: numeric types, strings, and booleans. \n",
    "We are now going to examine how these basic types can be composed together, in more complex structures. \n",
    "We will start by examining lists.\n"
   ]
  },
  {
   "cell_type": "markdown",
   "metadata": {
    "heading_collapsed": true
   },
   "source": [
    "## Basics of Lists"
   ]
  },
  {
   "cell_type": "markdown",
   "metadata": {
    "heading_collapsed": true,
    "hidden": true
   },
   "source": [
    "### Creating Lists"
   ]
  },
  {
   "cell_type": "markdown",
   "metadata": {
    "hidden": true
   },
   "source": [
    "A list, sometimes called and array, or a vector, is an ordered collection of values. \n",
    "\n",
    "In Python, lists are specified by square brackets, `[ ]`, containing zero or more values, separated by commas. \n",
    "\n",
    "For example:"
   ]
  },
  {
   "cell_type": "code",
   "execution_count": 2,
   "metadata": {},
   "outputs": [
    {
     "data": {
      "text/plain": [
       "['Mona', 'Rebecca', 'Nichita']"
      ]
     },
     "execution_count": 2,
     "metadata": {},
     "output_type": "execute_result"
    }
   ],
   "source": [
    "\"Mona Rebecca Nichita\".split(\" \")"
   ]
  },
  {
   "cell_type": "code",
   "execution_count": 3,
   "metadata": {
    "hidden": true
   },
   "outputs": [
    {
     "name": "stdout",
     "output_type": "stream",
     "text": [
      "[1, 2, 3, 0, 5, 10, 11]\n"
     ]
    }
   ],
   "source": [
    "number_list = [1, 2, 3, 0, 5, 10, 11]\n",
    "print(number_list)"
   ]
  },
  {
   "cell_type": "code",
   "execution_count": 4,
   "metadata": {
    "hidden": true
   },
   "outputs": [
    {
     "name": "stdout",
     "output_type": "stream",
     "text": [
      "['Panos', 'Maria', 'Anna', 'James']\n"
     ]
    }
   ],
   "source": [
    "name_list = [\"Panos\", \"Maria\", \"Anna\", \"James\"]\n",
    "print(name_list)"
   ]
  },
  {
   "cell_type": "code",
   "execution_count": 5,
   "metadata": {
    "hidden": true
   },
   "outputs": [
    {
     "name": "stdout",
     "output_type": "stream",
     "text": [
      "['Panos', 42, 'Anna', 22]\n"
     ]
    }
   ],
   "source": [
    "mixed_list = [\"Panos\", 42, \"Anna\", 22]\n",
    "print(mixed_list)"
   ]
  },
  {
   "cell_type": "code",
   "execution_count": 7,
   "metadata": {},
   "outputs": [
    {
     "data": {
      "text/plain": [
       "4"
      ]
     },
     "execution_count": 7,
     "metadata": {},
     "output_type": "execute_result"
    }
   ],
   "source": [
    "len(mixed_list)"
   ]
  },
  {
   "cell_type": "code",
   "execution_count": 6,
   "metadata": {
    "hidden": true
   },
   "outputs": [
    {
     "name": "stdout",
     "output_type": "stream",
     "text": [
      "[]\n"
     ]
    }
   ],
   "source": [
    "empty_list = []\n",
    "print(empty_list)"
   ]
  },
  {
   "cell_type": "code",
   "execution_count": 8,
   "metadata": {},
   "outputs": [
    {
     "data": {
      "text/plain": [
       "0"
      ]
     },
     "execution_count": 8,
     "metadata": {},
     "output_type": "execute_result"
    }
   ],
   "source": [
    "len(empty_list)"
   ]
  },
  {
   "cell_type": "code",
   "execution_count": null,
   "metadata": {
    "hidden": true
   },
   "outputs": [],
   "source": [
    "empty_list = list()\n",
    "print(empty_list)"
   ]
  },
  {
   "cell_type": "code",
   "execution_count": 12,
   "metadata": {},
   "outputs": [
    {
     "data": {
      "text/plain": [
       "tuple"
      ]
     },
     "execution_count": 12,
     "metadata": {},
     "output_type": "execute_result"
    }
   ],
   "source": [
    "type()"
   ]
  },
  {
   "cell_type": "code",
   "execution_count": 19,
   "metadata": {},
   "outputs": [
    {
     "data": {
      "text/plain": [
       "'ABC'"
      ]
     },
     "execution_count": 19,
     "metadata": {},
     "output_type": "execute_result"
    }
   ],
   "source": [
    "''.join(list('ABC'))"
   ]
  },
  {
   "cell_type": "markdown",
   "metadata": {
    "hidden": true
   },
   "source": [
    "Lists are a very  common data structure, and are often generated as a result of other functions, for instance, the `split(\" \")` command for a string, will split a string on space, and then return a list of the smaller substrings."
   ]
  },
  {
   "cell_type": "code",
   "execution_count": 26,
   "metadata": {
    "hidden": true
   },
   "outputs": [
    {
     "name": "stdout",
     "output_type": "stream",
     "text": [
      "['Wow', 'these', 'data', 'structures', 'make', 'for', 'exciting', 'dinner', 'conversation']\n"
     ]
    }
   ],
   "source": [
    "my_string = \"Wow these data structures make for exciting dinner conversation\"\n",
    "list_of_words = my_string.split()\n",
    "print(list_of_words)"
   ]
  },
  {
   "cell_type": "markdown",
   "metadata": {
    "heading_collapsed": true,
    "hidden": true
   },
   "source": [
    "### Accessing parts of a list: Indexing and Slicing revisited\n"
   ]
  },
  {
   "cell_type": "markdown",
   "metadata": {
    "hidden": true
   },
   "source": [
    "\n",
    "We can retrieve the value of a particular element of a list by writing in square brackets the location of the element. In python, like most programming languages, list indices start at 0, that is, to get the first element in a list, request the element at index 0."
   ]
  },
  {
   "cell_type": "code",
   "execution_count": 29,
   "metadata": {
    "hidden": true
   },
   "outputs": [
    {
     "name": "stdout",
     "output_type": "stream",
     "text": [
      "b\n"
     ]
    }
   ],
   "source": [
    "another_list = [\"a\", \"b\", \"c\", \"d\", \"e\", \"f\"]\n",
    "print(another_list[1])"
   ]
  },
  {
   "cell_type": "markdown",
   "metadata": {
    "hidden": true
   },
   "source": [
    "Negative indices can be used to traverse the list from the right."
   ]
  },
  {
   "cell_type": "code",
   "execution_count": 30,
   "metadata": {
    "hidden": true
   },
   "outputs": [
    {
     "name": "stdout",
     "output_type": "stream",
     "text": [
      "e\n"
     ]
    }
   ],
   "source": [
    "print(another_list[-2])"
   ]
  },
  {
   "cell_type": "markdown",
   "metadata": {
    "hidden": true
   },
   "source": [
    "If you remember the case with strings and accessing the individual characters, the concept is exactly the same. In fact, strings are treated in Python as lists of characters.\n",
    "\n",
    "This also means that the slicing operator works for accessing parts of the list as well:"
   ]
  },
  {
   "cell_type": "code",
   "execution_count": 31,
   "metadata": {
    "hidden": true
   },
   "outputs": [
    {
     "name": "stdout",
     "output_type": "stream",
     "text": [
      "['c', 'd', 'e']\n"
     ]
    }
   ],
   "source": [
    "# Retrieves the elements at positions 2, 3, and 4.\n",
    "# Remember these are the 3rd, 4th, and 5th elements of the list\n",
    "print(another_list[2:5])"
   ]
  },
  {
   "cell_type": "code",
   "execution_count": 32,
   "metadata": {
    "hidden": true
   },
   "outputs": [
    {
     "name": "stdout",
     "output_type": "stream",
     "text": [
      "['d', 'e', 'f']\n"
     ]
    }
   ],
   "source": [
    "# Retrieved the last 3 elements of the list\n",
    "print(another_list[-3:])"
   ]
  },
  {
   "cell_type": "markdown",
   "metadata": {
    "heading_collapsed": true,
    "hidden": true
   },
   "source": [
    "### Exercise"
   ]
  },
  {
   "cell_type": "markdown",
   "metadata": {
    "hidden": true
   },
   "source": [
    "You are given a list of names as one big, multiline string. Each line contains one name."
   ]
  },
  {
   "cell_type": "code",
   "execution_count": 33,
   "metadata": {
    "hidden": true
   },
   "outputs": [],
   "source": [
    "names_string = \"\"\"Jacob Adams\n",
    "Emily Brown\n",
    "Michael Campbell\n",
    "Madison Davis\n",
    "Andrew Edwards\n",
    "Olivia Flores\n",
    "David Garcia\n",
    "Sophia Ingram\n",
    "Nathan Jones\n",
    "Natalie King\"\"\""
   ]
  },
  {
   "cell_type": "markdown",
   "metadata": {
    "hidden": true
   },
   "source": [
    "* Use the `split` command, appropriately configured, to separate `names` into a list of names. \n",
    "* Extract the 3rd name from the list\n",
    "* Extract the second from the last name, using negative indexing\n",
    "* Retrieve the 6th to 8th names from the list (inclusive, we want a list of 3 names, 6th, 7th, and 8th)\n",
    "* Retrieve the last 3 names."
   ]
  },
  {
   "cell_type": "code",
   "execution_count": 42,
   "metadata": {
    "code_folding": [],
    "hidden": true
   },
   "outputs": [
    {
     "data": {
      "text/plain": [
       "'Michael Campbell'"
      ]
     },
     "execution_count": 42,
     "metadata": {},
     "output_type": "execute_result"
    }
   ],
   "source": [
    "# Your code here\n",
    "name_list = names_string.split('\\n')\n",
    "name_list[2]\n"
   ]
  },
  {
   "cell_type": "markdown",
   "metadata": {
    "hidden": true,
    "solution2": "hidden",
    "solution2_first": true
   },
   "source": [
    "#### Solution"
   ]
  },
  {
   "cell_type": "code",
   "execution_count": null,
   "metadata": {
    "hidden": true,
    "solution2": "hidden"
   },
   "outputs": [],
   "source": [
    "# Use the split command, appropriately configured, to separate names into a list of names.\n",
    "# We use the newline character to split the string into one element per *line*\n",
    "names = names_string.split(\"\\n\")\n",
    "print(names)"
   ]
  },
  {
   "cell_type": "code",
   "execution_count": null,
   "metadata": {
    "hidden": true,
    "solution2": "hidden"
   },
   "outputs": [],
   "source": [
    "# Extract the 3rd name from the list\n",
    "print(names[2])"
   ]
  },
  {
   "cell_type": "code",
   "execution_count": null,
   "metadata": {
    "hidden": true,
    "solution2": "hidden"
   },
   "outputs": [],
   "source": [
    "# Extract the second from the last name, using negative indexing\n",
    "print(names[-2])"
   ]
  },
  {
   "cell_type": "code",
   "execution_count": null,
   "metadata": {
    "hidden": true,
    "solution2": "hidden"
   },
   "outputs": [],
   "source": [
    "# Retrieve the 6th to 8th names from the list (inclusive, we want a list of 3 names, 6th, 7th, and 8th)\n",
    "print(names[5:8])"
   ]
  },
  {
   "cell_type": "code",
   "execution_count": null,
   "metadata": {
    "hidden": true,
    "solution2": "hidden"
   },
   "outputs": [],
   "source": [
    "# Retrieve the last 3 names\n",
    "print(names[-3:])"
   ]
  },
  {
   "cell_type": "markdown",
   "metadata": {
    "heading_collapsed": true
   },
   "source": [
    "## Functions that apply to lists\n"
   ]
  },
  {
   "cell_type": "markdown",
   "metadata": {
    "heading_collapsed": true,
    "hidden": true
   },
   "source": [
    "### Common Functions"
   ]
  },
  {
   "cell_type": "markdown",
   "metadata": {
    "hidden": true
   },
   "source": [
    "* `len`: The function `len(list)` returns the number of elements in a list.\n",
    "* `sorted`: The function `sorted(list)` Returns the list sorted\n",
    "* `max`: Returns the maximum element of a list\n",
    "* `min`: Returns the minimum element of a list\n",
    "* `sum`: The function `sum(list)` sums up all the (numeric) elements of a list\n"
   ]
  },
  {
   "cell_type": "code",
   "execution_count": 47,
   "metadata": {
    "hidden": true
   },
   "outputs": [],
   "source": [
    "names = [\"Panos\", \"John\", \"Chris\", \"Josh\", \"Mary\", \"Anna\", 'anette']"
   ]
  },
  {
   "cell_type": "code",
   "execution_count": 52,
   "metadata": {},
   "outputs": [
    {
     "data": {
      "text/plain": [
       "'PanosJohn'"
      ]
     },
     "execution_count": 52,
     "metadata": {},
     "output_type": "execute_result"
    }
   ],
   "source": [
    "# concatenate\n",
    "\"Panos\" + \"John\""
   ]
  },
  {
   "cell_type": "code",
   "execution_count": 53,
   "metadata": {},
   "outputs": [
    {
     "data": {
      "text/plain": [
       "6"
      ]
     },
     "execution_count": 53,
     "metadata": {},
     "output_type": "execute_result"
    }
   ],
   "source": [
    "sum([0, 1, 2, 3])"
   ]
  },
  {
   "cell_type": "code",
   "execution_count": 48,
   "metadata": {},
   "outputs": [
    {
     "data": {
      "text/plain": [
       "['Anna', 'Chris', 'John', 'Josh', 'Mary', 'Panos', 'anette']"
      ]
     },
     "execution_count": 48,
     "metadata": {},
     "output_type": "execute_result"
    }
   ],
   "source": [
    "sorted(names)"
   ]
  },
  {
   "cell_type": "code",
   "execution_count": 50,
   "metadata": {},
   "outputs": [
    {
     "data": {
      "text/plain": [
       "'Anna'"
      ]
     },
     "execution_count": 50,
     "metadata": {},
     "output_type": "execute_result"
    }
   ],
   "source": [
    "min(names)"
   ]
  },
  {
   "cell_type": "code",
   "execution_count": 49,
   "metadata": {},
   "outputs": [
    {
     "data": {
      "text/plain": [
       "'anette'"
      ]
     },
     "execution_count": 49,
     "metadata": {},
     "output_type": "execute_result"
    }
   ],
   "source": [
    "max(names)"
   ]
  },
  {
   "cell_type": "code",
   "execution_count": 54,
   "metadata": {
    "hidden": true
   },
   "outputs": [
    {
     "name": "stdout",
     "output_type": "stream",
     "text": [
      "Length of names list: 7\n"
     ]
    }
   ],
   "source": [
    "print(\"Length of names list:\", len(names))"
   ]
  },
  {
   "cell_type": "code",
   "execution_count": 55,
   "metadata": {
    "hidden": true
   },
   "outputs": [],
   "source": [
    "numbers = [3, 41, 12, 9, 74, 15]"
   ]
  },
  {
   "cell_type": "code",
   "execution_count": 56,
   "metadata": {
    "hidden": true
   },
   "outputs": [
    {
     "name": "stdout",
     "output_type": "stream",
     "text": [
      "Length of numbers list: 6\n"
     ]
    }
   ],
   "source": [
    "print(\"Length of numbers list:\", len(numbers))"
   ]
  },
  {
   "cell_type": "code",
   "execution_count": 57,
   "metadata": {
    "hidden": true
   },
   "outputs": [
    {
     "name": "stdout",
     "output_type": "stream",
     "text": [
      "Sorted List: ['Anna', 'Chris', 'John', 'Josh', 'Mary', 'Panos']\n",
      "Original List: ['John', 'Panos', 'Chris', 'Josh', 'Mary', 'Anna']\n"
     ]
    }
   ],
   "source": [
    "names = [\"John\", \"Panos\", \"Chris\", \"Josh\", \"Mary\", \"Anna\"]\n",
    "print(\"Sorted List:\", sorted(names))\n",
    "print(\"Original List:\", names)"
   ]
  },
  {
   "cell_type": "code",
   "execution_count": 58,
   "metadata": {
    "hidden": true
   },
   "outputs": [
    {
     "name": "stdout",
     "output_type": "stream",
     "text": [
      "Sorted List: [3, 9, 12, 15, 41, 74]\n",
      "Original List: [3, 41, 12, 9, 74, 15]\n"
     ]
    }
   ],
   "source": [
    "print(\"Sorted List:\", sorted(numbers))\n",
    "print(\"Original List:\", numbers)"
   ]
  },
  {
   "cell_type": "code",
   "execution_count": 59,
   "metadata": {
    "hidden": true
   },
   "outputs": [
    {
     "name": "stdout",
     "output_type": "stream",
     "text": [
      "We have  6 numbers\n",
      "Max number: 74\n",
      "Min number: 3\n",
      "Sum: 154\n"
     ]
    }
   ],
   "source": [
    "print(\"We have \", len(numbers), \"numbers\")\n",
    "print(\"Max number:\", max(numbers))\n",
    "print(\"Min number:\", min(numbers))\n",
    "print(\"Sum:\", sum(numbers))"
   ]
  },
  {
   "cell_type": "code",
   "execution_count": 60,
   "metadata": {
    "hidden": true
   },
   "outputs": [
    {
     "name": "stdout",
     "output_type": "stream",
     "text": [
      "Min name: Anna\n",
      "Max name: Panos\n"
     ]
    }
   ],
   "source": [
    "# Min and max also operate on strings\n",
    "print(\"Min name:\", min(names))\n",
    "print(\"Max name:\", max(names))"
   ]
  },
  {
   "cell_type": "markdown",
   "metadata": {
    "heading_collapsed": true,
    "hidden": true
   },
   "source": [
    "### Exercise"
   ]
  },
  {
   "cell_type": "markdown",
   "metadata": {
    "hidden": true
   },
   "source": [
    "\n",
    "* Write code that computes the average value of a list of numbers\n",
    "* Write code that computes the median value of a list of numbers (for simplicity, assume the list contains an odd number of items)"
   ]
  },
  {
   "cell_type": "code",
   "execution_count": 73,
   "metadata": {
    "hidden": true
   },
   "outputs": [
    {
     "name": "stdout",
     "output_type": "stream",
     "text": [
      "Average: 22.71\n",
      "Median: 12\n"
     ]
    }
   ],
   "source": [
    "numbers = [3, 41, 12, 9, 74, 15, 5]\n",
    "# your code here\n",
    "\n",
    "avg = sum(numbers) / len(numbers)\n",
    "print(f\"Average: {avg:.2f}\")\n",
    "\n",
    "m = round(len(numbers) / 2)\n",
    "median = sorted(numbers)[m-1]\n",
    "print(f\"Median: {median}\")"
   ]
  },
  {
   "cell_type": "markdown",
   "metadata": {
    "heading_collapsed": true,
    "hidden": true,
    "solution2": "shown",
    "solution2_first": true
   },
   "source": [
    "#### Solution"
   ]
  },
  {
   "cell_type": "code",
   "execution_count": 75,
   "metadata": {
    "hidden": true,
    "solution2": "shown"
   },
   "outputs": [
    {
     "name": "stdout",
     "output_type": "stream",
     "text": [
      "The average is 22.71\n"
     ]
    }
   ],
   "source": [
    "average = sum(numbers) / len(numbers)\n",
    "print(f\"The average is {average:.2f}\")"
   ]
  },
  {
   "cell_type": "code",
   "execution_count": 76,
   "metadata": {
    "hidden": true,
    "solution2": "shown"
   },
   "outputs": [
    {
     "name": "stdout",
     "output_type": "stream",
     "text": [
      "Sorted List: [3, 5, 9, 12, 15, 41, 74]\n",
      "The median is at position  3\n",
      "The value of the median is 12\n"
     ]
    }
   ],
   "source": [
    "sorted_list = sorted(numbers)\n",
    "# Notice that we use integer division below\n",
    "# as the index value needs to be an integer\n",
    "middle = len(numbers) // 2\n",
    "median = sorted_list[middle]\n",
    "print(\"Sorted List:\", sorted_list)\n",
    "print(\"The median is at position \", middle)\n",
    "print(\"The value of the median is\", median)"
   ]
  },
  {
   "cell_type": "markdown",
   "metadata": {
    "heading_collapsed": true
   },
   "source": [
    "## Adding / Removing Elements to a List\n",
    "\n"
   ]
  },
  {
   "cell_type": "markdown",
   "metadata": {
    "heading_collapsed": true,
    "hidden": true
   },
   "source": [
    "### Appending items at the end of a list"
   ]
  },
  {
   "cell_type": "markdown",
   "metadata": {
    "hidden": true
   },
   "source": [
    "+ `list.append(x)`: add an element ot the end of a list\n",
    "+ `list_1.extend(list_2)`: add all elements in the second list to the end of the first list. Alternatively, it is possible to use the `+` and concatenate two lists."
   ]
  },
  {
   "cell_type": "code",
   "execution_count": 106,
   "metadata": {},
   "outputs": [
    {
     "data": {
      "text/plain": [
       "['Panos',\n",
       " 'John',\n",
       " 'Chris',\n",
       " 'Josh',\n",
       " 'Mary',\n",
       " 'Anna',\n",
       " 'Rebecca',\n",
       " 'Mona',\n",
       " 'Nichita']"
      ]
     },
     "execution_count": 106,
     "metadata": {},
     "output_type": "execute_result"
    }
   ],
   "source": [
    "name_list = [\"Panos\", \"John\", \"Chris\", \"Josh\", \"Mary\", \"Anna\"]\n",
    "guests_of_honor = [\"Rebecca\", \"Mona\", \"Nichita\"]\n",
    "name_list.extend(guests_of_honor)\n",
    "name_list"
   ]
  },
  {
   "cell_type": "code",
   "execution_count": 107,
   "metadata": {},
   "outputs": [
    {
     "data": {
      "text/plain": [
       "['Panos',\n",
       " 'John',\n",
       " 'Chris',\n",
       " 'Josh',\n",
       " 'Mary',\n",
       " 'Anna',\n",
       " 'Rebecca',\n",
       " 'Mona',\n",
       " 'Nichita']"
      ]
     },
     "execution_count": 107,
     "metadata": {},
     "output_type": "execute_result"
    }
   ],
   "source": [
    "name_list = [\"Panos\", \"John\", \"Chris\", \"Josh\", \"Mary\", \"Anna\"]\n",
    "guests_of_honor = [\"Rebecca\", \"Mona\", \"Nichita\"]\n",
    "\n",
    "name_list + guests_of_honor"
   ]
  },
  {
   "cell_type": "code",
   "execution_count": 108,
   "metadata": {
    "hidden": true
   },
   "outputs": [
    {
     "name": "stdout",
     "output_type": "stream",
     "text": [
      "['Panos', 'John', 'Chris', 'Josh', 'Mary', 'Anna', 'Elena', 'Sofia']\n"
     ]
    }
   ],
   "source": [
    "# Example of append\n",
    "name_list = [\"Panos\", \"John\", \"Chris\", \"Josh\", \"Mary\", \"Anna\"]\n",
    "name_list.append(\"Elena\")\n",
    "name_list.append(\"Sofia\")\n",
    "print(name_list)"
   ]
  },
  {
   "cell_type": "code",
   "execution_count": 109,
   "metadata": {
    "hidden": true
   },
   "outputs": [
    {
     "name": "stdout",
     "output_type": "stream",
     "text": [
      "['Panos', 'John', 'Chris', 'Josh', 'Mary', 'Anna', 'Elena', 'Sofia']\n",
      "Length of list: 8\n"
     ]
    }
   ],
   "source": [
    "# Example of extend\n",
    "name_list = [\"Panos\", \"John\", \"Chris\", \"Josh\", \"Mary\", \"Anna\"]\n",
    "names_to_add = [\"Elena\", \"Sofia\"]\n",
    "name_list.extend(names_to_add)\n",
    "print(name_list)\n",
    "print(\"Length of list:\", len(name_list))"
   ]
  },
  {
   "cell_type": "code",
   "execution_count": 110,
   "metadata": {
    "hidden": true
   },
   "outputs": [
    {
     "name": "stdout",
     "output_type": "stream",
     "text": [
      "['Panos', 'John', 'Chris', 'Josh', 'Mary', 'Anna', 'Elena', 'Sofia']\n"
     ]
    }
   ],
   "source": [
    "# List concatenation. This is similar to \"extend\"\n",
    "name_list = [\"Panos\", \"John\", \"Chris\", \"Josh\", \"Mary\", \"Anna\"]\n",
    "names_to_add = [\"Elena\", \"Sofia\"]\n",
    "new_list = name_list + names_to_add\n",
    "print(new_list)"
   ]
  },
  {
   "cell_type": "code",
   "execution_count": 113,
   "metadata": {
    "code_folding": [],
    "hidden": true
   },
   "outputs": [
    {
     "name": "stdout",
     "output_type": "stream",
     "text": [
      "['Panos', 'John', 'Chris', 'Josh', 'Mary', 'Anna', ['Elena', 'Sofia']]\n",
      "Length of list: 7\n"
     ]
    }
   ],
   "source": [
    "# Notice that append will not work as expected when we pass a list\n",
    "# We now created a \"nested\" list. We will examine nested lists later\n",
    "name_list = [\"Panos\", \"John\", \"Chris\", \"Josh\", \"Mary\", \"Anna\"]\n",
    "names_to_add = [\"Elena\", \"Sofia\"]\n",
    "name_list.append(names_to_add)\n",
    "print(name_list)\n",
    "# Notice that the two lists, created by append and extend, have different lengths\n",
    "print(\"Length of list:\", len(name_list))"
   ]
  },
  {
   "cell_type": "markdown",
   "metadata": {
    "heading_collapsed": true,
    "hidden": true
   },
   "source": [
    "### Exercise"
   ]
  },
  {
   "cell_type": "markdown",
   "metadata": {
    "hidden": true
   },
   "source": [
    "\n",
    "* Find out how many names we have in the list of names `names_list` that is the list that we created earlier, from the `names_string` multiline string.\n",
    "* Add the name `\"Mia Lopez\"` in the list of names\n",
    "* Add the list of names `[\"John Miller\", \"Jane Nelson\"]` in the list of names, using the `extend` command\n"
   ]
  },
  {
   "cell_type": "code",
   "execution_count": null,
   "metadata": {
    "hidden": true
   },
   "outputs": [],
   "source": [
    "names_list = [\n",
    "    \"Jacob Adams\",\n",
    "    \"Emily Brown\",\n",
    "    \"Michael Campbell\",\n",
    "    \"Madison Davis\",\n",
    "    \"Andrew Edwards\",\n",
    "    \"Olivia Flores\",\n",
    "    \"David Garcia\",\n",
    "    \"Sophia Ingram\",\n",
    "    \"Nathan Jones\",\n",
    "    \"Natalie King\",\n",
    "]"
   ]
  },
  {
   "cell_type": "code",
   "execution_count": null,
   "metadata": {
    "hidden": true
   },
   "outputs": [],
   "source": [
    "# your code here"
   ]
  },
  {
   "cell_type": "markdown",
   "metadata": {
    "hidden": true,
    "solution2": "hidden",
    "solution2_first": true
   },
   "source": [
    "#### Solution"
   ]
  },
  {
   "cell_type": "code",
   "execution_count": null,
   "metadata": {
    "hidden": true,
    "solution2": "hidden"
   },
   "outputs": [],
   "source": [
    "print(\"The list contains\", len(names_list), \"names\")"
   ]
  },
  {
   "cell_type": "code",
   "execution_count": null,
   "metadata": {
    "hidden": true,
    "solution2": "hidden"
   },
   "outputs": [],
   "source": [
    "new_name = \"Mia Lopez\"\n",
    "names_list.append(new_name)\n",
    "print(names_list)\n",
    "print(\"The list contains\", len(names_list), \"names\")"
   ]
  },
  {
   "cell_type": "code",
   "execution_count": null,
   "metadata": {
    "hidden": true,
    "solution2": "hidden"
   },
   "outputs": [],
   "source": [
    "names_to_add = [\"John Miller\", \"Jane Nelson\"]\n",
    "names_list.extend(names_to_add)\n",
    "print(names_list)\n",
    "print(\"The list contains\", len(names_list), \"names\")"
   ]
  },
  {
   "cell_type": "markdown",
   "metadata": {
    "heading_collapsed": true,
    "hidden": true
   },
   "source": [
    "### Inserting and removing items in the list (any position)\n"
   ]
  },
  {
   "cell_type": "markdown",
   "metadata": {
    "hidden": true
   },
   "source": [
    "\n",
    "* `list.insert(index, x)`: insert element x into the list at the specified index. Elements to the right of this index are shifted over\n",
    "* `list.pop(index)`: remove the element at the specified position\n"
   ]
  },
  {
   "cell_type": "code",
   "execution_count": 114,
   "metadata": {
    "hidden": true
   },
   "outputs": [],
   "source": [
    "names_list = [\n",
    "    \"Jacob Adams\",\n",
    "    \"Emily Brown\",\n",
    "    \"Michael Campbell\",\n",
    "    \"Madison Davis\",\n",
    "    \"Andrew Edwards\",\n",
    "    \"Olivia Flores\",\n",
    "    \"David Garcia\",\n",
    "    \"Sophia Ingram\",\n",
    "    \"Nathan Jones\",\n",
    "    \"Natalie King\",\n",
    "]"
   ]
  },
  {
   "cell_type": "code",
   "execution_count": 115,
   "metadata": {
    "hidden": true
   },
   "outputs": [
    {
     "name": "stdout",
     "output_type": "stream",
     "text": [
      "['Jacob Adams', 'Emily Brown', 'Michael Campbell', 'Madison Davis', 'Andrew Edwards', 'Olivia Flores', 'David Garcia', 'Jose Hernandez', 'Sophia Ingram', 'Nathan Jones', 'Natalie King']\n"
     ]
    }
   ],
   "source": [
    "# Insert Jose Hernandez in position 7\n",
    "names_list.insert(7, \"Jose Hernandez\")\n",
    "print(names_list)"
   ]
  },
  {
   "cell_type": "code",
   "execution_count": 116,
   "metadata": {
    "hidden": true
   },
   "outputs": [
    {
     "name": "stdout",
     "output_type": "stream",
     "text": [
      "Jose Hernandez\n"
     ]
    }
   ],
   "source": [
    "# It is there\n",
    "print(names_list[7])"
   ]
  },
  {
   "cell_type": "code",
   "execution_count": 117,
   "metadata": {
    "hidden": true
   },
   "outputs": [
    {
     "data": {
      "text/plain": [
       "'Jose Hernandez'"
      ]
     },
     "execution_count": 117,
     "metadata": {},
     "output_type": "execute_result"
    }
   ],
   "source": [
    "# We can retrieve the element with pop, and then delete it from the list\n",
    "names_list.pop(7)"
   ]
  },
  {
   "cell_type": "code",
   "execution_count": 118,
   "metadata": {
    "hidden": true
   },
   "outputs": [
    {
     "name": "stdout",
     "output_type": "stream",
     "text": [
      "Sophia Ingram\n"
     ]
    }
   ],
   "source": [
    "# Name at position 7 changed\n",
    "print(names_list[7])"
   ]
  },
  {
   "cell_type": "code",
   "execution_count": 119,
   "metadata": {
    "hidden": true
   },
   "outputs": [
    {
     "data": {
      "text/plain": [
       "'Sophia Ingram'"
      ]
     },
     "execution_count": 119,
     "metadata": {},
     "output_type": "execute_result"
    }
   ],
   "source": [
    "# If we repeat the operation with pop, we will get back the new name that is now in that location\n",
    "names_list.pop(7)"
   ]
  },
  {
   "cell_type": "code",
   "execution_count": 120,
   "metadata": {
    "hidden": true
   },
   "outputs": [
    {
     "name": "stdout",
     "output_type": "stream",
     "text": [
      "Nathan Jones\n"
     ]
    }
   ],
   "source": [
    "# Name at position 7 changed\n",
    "print(names_list[7])"
   ]
  },
  {
   "cell_type": "markdown",
   "metadata": {},
   "source": [
    "## Finding items in lists"
   ]
  },
  {
   "cell_type": "markdown",
   "metadata": {
    "heading_collapsed": true
   },
   "source": [
    "### Common functions"
   ]
  },
  {
   "cell_type": "markdown",
   "metadata": {
    "hidden": true
   },
   "source": [
    "* `x in list`: checks if `x` appears in the list \n",
    "* `list.index(x)`: looks through the list to find the specified element, returning it's position if it's found, else throws an error\n",
    "* `list.count(x)`: counts the number of occurrences of the input element"
   ]
  },
  {
   "cell_type": "code",
   "execution_count": 121,
   "metadata": {
    "hidden": true
   },
   "outputs": [],
   "source": [
    "names = [\"Panos\", \"John\", \"Chris\", \"Josh\", \"Mary\", \"Anna\", \"John\"]"
   ]
  },
  {
   "cell_type": "code",
   "execution_count": 122,
   "metadata": {
    "hidden": true
   },
   "outputs": [
    {
     "data": {
      "text/plain": [
       "True"
      ]
     },
     "execution_count": 122,
     "metadata": {},
     "output_type": "execute_result"
    }
   ],
   "source": [
    "\"Chris\" in names"
   ]
  },
  {
   "cell_type": "code",
   "execution_count": 123,
   "metadata": {
    "hidden": true
   },
   "outputs": [
    {
     "data": {
      "text/plain": [
       "False"
      ]
     },
     "execution_count": 123,
     "metadata": {},
     "output_type": "execute_result"
    }
   ],
   "source": [
    "\"Peter\" in names"
   ]
  },
  {
   "cell_type": "code",
   "execution_count": 124,
   "metadata": {
    "hidden": true
   },
   "outputs": [
    {
     "name": "stdout",
     "output_type": "stream",
     "text": [
      "Location of Chris in the list: 2\n"
     ]
    }
   ],
   "source": [
    "# Index\n",
    "name = \"Chris\"\n",
    "print(\"Location of\", name, \"in the list:\", names.index(name))"
   ]
  },
  {
   "cell_type": "code",
   "execution_count": 126,
   "metadata": {
    "hidden": true
   },
   "outputs": [
    {
     "name": "stdout",
     "output_type": "stream",
     "text": [
      "# of John  in the list 2\n",
      "# of Panos in the list 1\n",
      "# of Peter  in the list 0\n"
     ]
    }
   ],
   "source": [
    "# Count\n",
    "print(\"# of John  in the list\", names.count(\"John\"))\n",
    "print(\"# of Panos in the list\", names.count(\"Panos\"))\n",
    "print(\"# of Peter  in the list\", names.count(\"Peter\"))"
   ]
  },
  {
   "cell_type": "markdown",
   "metadata": {
    "heading_collapsed": true
   },
   "source": [
    "### Exercise\n"
   ]
  },
  {
   "cell_type": "markdown",
   "metadata": {
    "hidden": true
   },
   "source": [
    "\n",
    "* Find the name \"Josh\" in the list. In what position does the name appear?\n",
    "* Try to find a name that does not exist in the list. What do you get?\n",
    "\n",
    "Now let's practice the `if-else` command:\n",
    "\n",
    "* Define a variable `search` with the name that you want to search for.\n",
    "* Check if the name appears in the list\n",
    "    * If yes, then return the index number for its first apperance, and the number of times that you see the name in the list\n",
    "    * If not, print that the name does not appear in the list"
   ]
  },
  {
   "cell_type": "code",
   "execution_count": null,
   "metadata": {
    "hidden": true
   },
   "outputs": [],
   "source": [
    "names = [\"Panos\", \"John\", \"Chris\", \"Josh\", \"Mary\", \"Anna\", \"John\"]"
   ]
  },
  {
   "cell_type": "code",
   "execution_count": null,
   "metadata": {
    "hidden": true
   },
   "outputs": [],
   "source": [
    "# Your code here"
   ]
  },
  {
   "cell_type": "markdown",
   "metadata": {
    "hidden": true,
    "solution2": "hidden",
    "solution2_first": true
   },
   "source": [
    "#### Solution"
   ]
  },
  {
   "cell_type": "code",
   "execution_count": null,
   "metadata": {
    "code_folding": [],
    "hidden": true,
    "solution2": "hidden"
   },
   "outputs": [],
   "source": [
    "search = \"John\"\n",
    "if search in names:\n",
    "    location = names.index(search)\n",
    "    count = names.count(search)\n",
    "    print(\"The name\", search, \"appears\", count, \"time(s)\")\n",
    "    print(\"First appearance at location\", location)\n",
    "else:\n",
    "    print(\"The name\", search, \" does not appear in the list\")"
   ]
  },
  {
   "cell_type": "markdown",
   "metadata": {},
   "source": [
    "### Exercise\n",
    "\n"
   ]
  },
  {
   "cell_type": "markdown",
   "metadata": {},
   "source": [
    "Let's apply some of the things that we learned so far in the article below."
   ]
  },
  {
   "cell_type": "code",
   "execution_count": 127,
   "metadata": {},
   "outputs": [],
   "source": [
    "washington_post = \"\"\"Russian officials vehemently defended the country s airstrikes in Syria on Thursday as blows to Islamic State militants even as evidence mounted suggesting that US backed rebels and others were facing the brunt of Moscow s attacks\n",
    "And while Russian officials and diplomats rallied behind President Vladimir Putin the Kremlin s stance appeared further clouded by acknowledgments that the missions have already extended beyond solely the Islamic State\n",
    "In Paris the Russian ambassador to France Alexander Orlov said the Russian attacks also targeted an al Qaeda linked group Jabhat al Nusra or al Nusra Front\n",
    "Syrias ambassador to Russia Riad Haddad echoed that the joint hit list for Russia and the Syrian government included Jabhat al Nusra which is believed to have some coordination with the Islamic State but is still seen mostly as a rival\n",
    "We are confronting armed terrorist groups in Syria regardless of how they identify themselves whether it is Jabhat al Nusra the ISIL or others he said using one of the acronyms for the Islamic State\n",
    "They all are pursuing ISIL ends he added according to the Interfax news agency\n",
    "The ambassadors did not specifically mention any US and Western backed rebel groups\n",
    "But the comment was certain to deepen suspicions by Washington and allies that Putin s short term aim is to give more breathing space to Syria s embattled President Bashar al Assad whose government is strongly supported by Moscow\n",
    "Syrian activists meanwhile ramped up their own claims that Moscow was hitting groups seeking to bring down Assad who has managed to hang on during more than four years of civil war\n",
    "Russia s expanding military intervention in Syria added urgency to separate efforts by Russia and US officials to coordinate strategies against the Islamic State and avoid potential airspace missteps between the two powers so called deconfliction talks The Pentagon said the discussions will begin Thursday\n",
    "One monitoring group the Britain based Syrian Observatory for Human Rights said Russian airstrikes again struck strongholds of an American backed rebel group Tajamu Alezzah in central Hama province\n",
    "The actions quickly criticized by Washington add an unpredictable element to a multilayered war\n",
    "The observatory also reported that airstrikes hit the northwestern city Jisr al Shughour which is in the hands of rebel groups including al Nusra after battles last month to drive back Assad s forces\n",
    "Among the locations hit was a site near Kafr Nabl the northern Syrian town whose weekly protests against the government often featuring pithy slogans in English won it renown as a symbol of what began as a peaceful protest movement against the Assad regime The local council receives US assistance and the rebel unit there has received support under a covert CIA program aimed at bolstering moderate rebels\n",
    "Raed Fares one of the leaders of the protest movement in Kafr Nabl said warplanes struck a Free Syrian Army checkpoint guarding Roman ruins on the outskirts of the town He said the explosion was bigger than anything local residents had seen in three years of airstrikes conducted by Syrian warplanes\n",
    "It made a fire six kilometers wide he told The Washington Post\n",
    "Other sites hit on the second day of Russian bombing included locations in the province of Hama The targets suggested the main intention of the strikes was to shore up government control over a corridor of territory linking the capital Damascus to the Assad family s coastal heartland where the Russians are operating out of an expanded air base\n",
    "Syrian rebels some of them US backed had been making slow but steady gains in the area considered one of the government s biggest vulnerabilities There has been no Islamic State presence there since January when moderate rebels rose up against the extremists and forced them to retreat to eastern Syria\n",
    "In Washington Sen John McCain R Ariz told CNN he could absolutely confirm that airstrikes hit Western backed groups such as the Free Syrian Army and other factions armed and trained by the CIA\n",
    "We have communications with people there said McCain chairman of the Senate Armed Services Committee\n",
    "The accounts could not be independently assessed but the main focus of the Russian attacks appeared to be in areas not known to have strong Islamic State footholds\n",
    "In Moscow the reply was blunt\n",
    "Total rubbish Gennady Zyuganov a member of parliament and leader of Russia s Communist Party said of the US accusations\n",
    "In televised remarks Thursday Putin called accusations that Russian airstrikes had killed civilians in Syria information attacks\n",
    "He also addressed concerns about an accidental military clash between Russian and US led coalition forces saying that his intelligence and military agencies were establishing contacts with counterparts in the United States\n",
    "This work is ongoing and I hope that it will conclude with the creation of a regularly acting mechanism he said\n",
    "A spokesman for Russia s Defense Ministry Igor Konashenkov said Thursday that warplanes hit a dozen Islamic State sites in the past hours destroying targets including a command center and two arms depots\n",
    "The United States and Russia agree on the need to fight the Islamic State but not about what to do with the Syrian president The Syrian civil war which grew out of an uprising against Assad has killed more than people since March and sent millions of refugees fleeing to countries in the Middle East and Europe\n",
    "Accusing Russia of pouring gasoline on the fire Defense Secretary Ashton B Carter vowed that US pilots would continue their year long bombing campaign against the Islamic State in Syria despite Moscow s warning that American planes should stay away from its operations\n",
    "I think what they re doing is going to backfire and is counterproductive Carter said on Wednesday\n",
    "Yet Russia s military flexing in Syria brought quick overtures from neighboring Iraq where the Islamic State also holds significant territory but the government is within Washington s fold\n",
    "Iraq s prime minister Haider al Abadi told France that he would welcome Russia joining the US led airstrikes against Islamic State targets but there have been no specific discussions\n",
    "Joining the protests against the Russian airstrikes was Saudi Arabia a leading foe of Assad and one of Washington s top Middle East allies\n",
    "At the United Nations late Wednesday the Saudi ambassador Abdallah al Mouallimi demanded that the Russian air campaign stop immediately and accused Moscow of carrying out attacks in areas outside the control of the Islamic State\n",
    "In Iran Assad s main regional backer Foreign Ministry spokeswoman Marzieh Afkham called Russia s military role a step toward resolving the current crisis in Syria\"\"\""
   ]
  },
  {
   "cell_type": "markdown",
   "metadata": {},
   "source": [
    "* What is the length of the document above in characters? In words? In paragraphs (we have one paragraph per line)?\n",
    "* What is the average length of a paragraph in words?\n",
    "* What is the average length of a word in characters? (Remember that the document contains spaces and newlines, that should not count as parts of a word)"
   ]
  },
  {
   "cell_type": "code",
   "execution_count": 146,
   "metadata": {},
   "outputs": [],
   "source": []
  },
  {
   "cell_type": "code",
   "execution_count": 148,
   "metadata": {},
   "outputs": [
    {
     "data": {
      "text/plain": [
       "6691"
      ]
     },
     "execution_count": 148,
     "metadata": {},
     "output_type": "execute_result"
    }
   ],
   "source": [
    "len(washington_post)"
   ]
  },
  {
   "cell_type": "code",
   "execution_count": 151,
   "metadata": {},
   "outputs": [
    {
     "data": {
      "text/plain": [
       "5592"
      ]
     },
     "execution_count": 151,
     "metadata": {},
     "output_type": "execute_result"
    }
   ],
   "source": [
    "len(washington_post.replace(\" \", \"\").replace(\"\\n\", ''))"
   ]
  },
  {
   "cell_type": "code",
   "execution_count": 147,
   "metadata": {},
   "outputs": [
    {
     "name": "stdout",
     "output_type": "stream",
     "text": [
      "There are 5592 characters and 1100 words.\n",
      "Average words per paragraph: 31.43\n",
      "Average words per paragraph: 1.00\n"
     ]
    }
   ],
   "source": [
    "# Your code here\n",
    "# length\n",
    "n_char = len(washington_post)\n",
    "n_spaces = washington_post.count(\" \")\n",
    "n_newlines = washington_post.count(\"\\n\")\n",
    "n_char = n_char - n_spaces - n_newlines\n",
    "\n",
    "n_words = len(washington_post.split())\n",
    "\n",
    "print(f'There are {n_char} characters and {n_words} words.')\n",
    "\n",
    "avg_words_per_para = n_words / n_para\n",
    "print(f\"Average words per paragraph: {avg_words_per_para:.2f}\")\n",
    "\n",
    "avg_words_per_para = n_words / n_words\n",
    "print(f\"Average words per paragraph: {avg_words_per_para:.2f}\")"
   ]
  },
  {
   "cell_type": "code",
   "execution_count": 141,
   "metadata": {},
   "outputs": [
    {
     "name": "stdout",
     "output_type": "stream",
     "text": [
      "Average words per paragraph: 31.43\n"
     ]
    }
   ],
   "source": []
  },
  {
   "cell_type": "markdown",
   "metadata": {
    "solution2": "hidden",
    "solution2_first": true
   },
   "source": [
    "#### Solution"
   ]
  },
  {
   "cell_type": "code",
   "execution_count": null,
   "metadata": {
    "solution2": "hidden"
   },
   "outputs": [],
   "source": [
    "len_characters = len(washington_post)\n",
    "print(\"There are\", len_characters, \"characters\")"
   ]
  },
  {
   "cell_type": "code",
   "execution_count": null,
   "metadata": {
    "solution2": "hidden"
   },
   "outputs": [],
   "source": [
    "words = washington_post.split()\n",
    "len_words = len(words)\n",
    "print(\"There are\", len_words, \"words\")"
   ]
  },
  {
   "cell_type": "code",
   "execution_count": null,
   "metadata": {
    "solution2": "hidden"
   },
   "outputs": [],
   "source": [
    "paragraphs = washington_post.split(\"\\n\")\n",
    "len_paragraphs = len(paragraphs)\n",
    "print(\"There are\", len_paragraphs, \"paragraphs\")"
   ]
  },
  {
   "cell_type": "code",
   "execution_count": null,
   "metadata": {
    "solution2": "hidden"
   },
   "outputs": [],
   "source": [
    "words_per_paragraph = len_words / len_paragraphs\n",
    "print(f\"There are {words_per_paragraph:.2f} words per paragraph\")"
   ]
  },
  {
   "cell_type": "code",
   "execution_count": null,
   "metadata": {
    "solution2": "hidden"
   },
   "outputs": [],
   "source": [
    "# The document contains spaces and newlines, which should not be counted\n",
    "# If you compute the average word length as len_characters/len_words you will get 6.07, which is incorrect\n",
    "len_letters_only = (len_characters - washington_post.count(\" \") - washington_post.count(\"\\n\"))\n",
    "letters_per_word = len_letters_only / len_words\n",
    "print(f\"There are {letters_per_word:.2f} letters per word\")"
   ]
  },
  {
   "cell_type": "code",
   "execution_count": null,
   "metadata": {
    "solution2": "hidden"
   },
   "outputs": [],
   "source": [
    "# Incorrect solution\n",
    "letters_per_word = len_characters / len_words\n",
    "print(f\"There are {letters_per_word:.2f} letters per word\")"
   ]
  },
  {
   "cell_type": "code",
   "execution_count": 155,
   "metadata": {},
   "outputs": [
    {
     "data": {
      "text/plain": [
       "[1, 'Nichita', 3]"
      ]
     },
     "execution_count": 155,
     "metadata": {},
     "output_type": "execute_result"
    }
   ],
   "source": [
    "x = [1, 2, 3]\n",
    "x[1] = \"Nichita\"\n",
    "x"
   ]
  },
  {
   "cell_type": "markdown",
   "metadata": {
    "heading_collapsed": true
   },
   "source": [
    "## Tuples\n",
    "\n"
   ]
  },
  {
   "cell_type": "markdown",
   "metadata": {
    "hidden": true
   },
   "source": [
    "A tuple is similar to a list and consists of a number of values separated by commas. For instance:"
   ]
  },
  {
   "cell_type": "code",
   "execution_count": 156,
   "metadata": {
    "hidden": true
   },
   "outputs": [
    {
     "name": "stdout",
     "output_type": "stream",
     "text": [
      "(12345, 54321, 54321, 'hello!')\n"
     ]
    }
   ],
   "source": [
    "t = (12345, 54321, 54321, \"hello!\")\n",
    "print(t)"
   ]
  },
  {
   "cell_type": "markdown",
   "metadata": {
    "hidden": true
   },
   "source": [
    "The usual slicing and indexing operators still apply:"
   ]
  },
  {
   "cell_type": "code",
   "execution_count": null,
   "metadata": {
    "hidden": true
   },
   "outputs": [],
   "source": [
    "print(t[3])"
   ]
  },
  {
   "cell_type": "markdown",
   "metadata": {
    "hidden": true
   },
   "source": [
    "And similarly, we can use the `count` and `index` functions. "
   ]
  },
  {
   "cell_type": "code",
   "execution_count": 165,
   "metadata": {
    "hidden": true
   },
   "outputs": [
    {
     "data": {
      "text/plain": [
       "3"
      ]
     },
     "execution_count": 165,
     "metadata": {},
     "output_type": "execute_result"
    }
   ],
   "source": [
    "t.index(\"hello!\")"
   ]
  },
  {
   "cell_type": "markdown",
   "metadata": {
    "hidden": true
   },
   "source": [
    "However, a tuple but is *immutable*. This means that we cannot modify its contents. So the other operators that modify a list do not apply to a tuple."
   ]
  }
 ],
 "metadata": {
  "kernelspec": {
   "display_name": "Python 3",
   "language": "python",
   "name": "python3"
  },
  "language_info": {
   "codemirror_mode": {
    "name": "ipython",
    "version": 3
   },
   "file_extension": ".py",
   "mimetype": "text/x-python",
   "name": "python",
   "nbconvert_exporter": "python",
   "pygments_lexer": "ipython3",
   "version": "3.8.5"
  }
 },
 "nbformat": 4,
 "nbformat_minor": 1
}
