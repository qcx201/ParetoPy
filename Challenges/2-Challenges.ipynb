{
 "cells": [
  {
   "cell_type": "markdown",
   "id": "ddea0846",
   "metadata": {},
   "source": [
    "**[Challenge 0:](#Challenge-0)**\n",
    "    To infinity and beyond 🚀\n",
    "\n",
    "**[Challenge 1:](#Challenge-1)**\n",
    "    999,999,997... 999,999,998... 999,999,999... ⌛\n",
    "\n",
    "**[Challenge 2:](#Challenge-2)**\n",
    "    To 1 or not to 1? 💀\n",
    "\n",
    "**[Challenge 3:](#Challenge-3)**\n",
    "    Piece(wise) by piece(wise) 🧩\n",
    "\n",
    "**[Challenge 4:](#Challenge-4)**\n",
    "    Reading dictionaries 📕\n",
    "    \n",
    "**[Challenge 5:](#Challenge-5)**\n",
    "    Inner peace 🧘‍♀️\n",
    "\n",
    "**[Challenge 6:](#Challenge-6)**\n",
    "    Autobots, roll out! 🤖\n",
    "    \n",
    "---"
   ]
  },
  {
   "cell_type": "code",
   "execution_count": null,
   "id": "e607ccef",
   "metadata": {},
   "outputs": [],
   "source": []
  },
  {
   "cell_type": "markdown",
   "id": "8dfba69c",
   "metadata": {},
   "source": [
    "\n",
    "# Challenge 0\n",
    "\n",
    "To infinity and beyond 🚀\n",
    "\n",
    "\n",
    "**(Warm-Up)**\n",
    "\n",
    "A pizza delivery boy accidentally falls into a cryogenic chamber on New Years Eve, 1999, and is reanimated in the year 3000. \n",
    "\n",
    "At the time of his freezing, he had $0.93 in his bank account. Assuming an average 2.25\\% interest rate compounded annually, how much money will he have in the bank when he wakes up?\n",
    "\n",
    "Double check: https://www.youtube.com/watch?v=6JwkaLt9pf8\n",
    "\n",
    "---\n",
    "\n",
    "**(Challenge)**\n",
    "\n",
    "Suppose a mile is **1.609 km**, and the speed of light is **299,792,458 m/s** in a vacuum. The average distance between the Earth and the Sun is called an astronomical unit, or AU, which is about **92,955,807 miles**. How many **`astronomical units`** are there in a **`light-year`**?\n",
    "\n",
    "---\n",
    "\n",
    "Share your solution below! Remember to use\n",
    "\n",
    "> ```python\n",
    "> # your code here\n",
    "> ```\n",
    "\n",
    "to format your code nicely 👌\n"
   ]
  },
  {
   "cell_type": "code",
   "execution_count": 1,
   "id": "bc9d488d",
   "metadata": {},
   "outputs": [
    {
     "name": "stdout",
     "output_type": "stream",
     "text": [
      "With $0.93 in the bank and 2.25% interest compounded annually over 1000 years...\n",
      "... his balance will be $4,283,508,449.71.\n"
     ]
    }
   ],
   "source": [
    "# warm-up\n",
    "\n",
    "principal = 0.93\n",
    "apr = 2.25 / 100\n",
    "t = 1000\n",
    "\n",
    "balance = principal * (1+apr)**t\n",
    "\n",
    "print(f'With ${principal} in the bank and {apr:.2%} interest compounded annually over {t} years...')\n",
    "print(f'... his balance will be ${balance:,.2f}.')"
   ]
  },
  {
   "cell_type": "code",
   "execution_count": 2,
   "id": "4dee8185",
   "metadata": {},
   "outputs": [
    {
     "name": "stdout",
     "output_type": "stream",
     "text": [
      "AU per light-year: 63254.598047256135\n"
     ]
    }
   ],
   "source": [
    "# challenge\n",
    "\n",
    "c_mps = 299_792_458    # m/s\n",
    "mi_per_au = 92_955_807 # miles\n",
    "km_per_mi = 1.609      # km / mile\n",
    "\n",
    "c_kmps = c_mps / 1000             # km/s\n",
    "km_per_au = mi_per_au * km_per_mi # km\n",
    "\n",
    "# seconds in year: 365.25 days/year x 24 hr/day x 60 m/hr x 60 s/m\n",
    "spy = 365.25 * 24 * 60 * 60 # s/year\n",
    "\n",
    "lyr_km = c_kmps * spy # lyr in km\n",
    "\n",
    "lyr_per_au = lyr_km / km_per_au # result\n",
    "\n",
    "print('AU per light-year:', lyr_per_au)"
   ]
  },
  {
   "cell_type": "markdown",
   "id": "128340c6",
   "metadata": {},
   "source": [
    "# Challenge 1\n",
    "999,999,997... 999,999,998... 999,999,999... ⌛\n",
    "\n",
    "**(Warm-up)**\n",
    "\n",
    "What is **`1000`** seconds in minutes and seconds? Print it in the format **`mm:ss`**.\n",
    "\n",
    "---\n",
    "\n",
    "**(Challenge)**\n",
    "\n",
    "One million seconds is equal to __11 days, 13 hours, 46 minutes and 40 seconds__ (according to quora).\n",
    "\n",
    "Print **`one billion seconds`** in years, days, hours, minutes, and seconds.\n",
    "\n",
    "---\n",
    "\n",
    "Share your solution below! Remember to use\n",
    "\n",
    "> ```python\n",
    "> # your code here\n",
    "> ```\n",
    "\n",
    "to format your code nicely 👌\n"
   ]
  },
  {
   "cell_type": "code",
   "execution_count": 3,
   "id": "0ec8e1ee",
   "metadata": {},
   "outputs": [
    {
     "name": "stdout",
     "output_type": "stream",
     "text": [
      "1000 seconds is equal to 16 m 40 s\n"
     ]
    }
   ],
   "source": [
    "# warm-up\n",
    "\n",
    "t = 1000\n",
    "print(t, \"seconds is equal to\", t//60, \"m\", t%60, \"s\")"
   ]
  },
  {
   "cell_type": "code",
   "execution_count": 4,
   "id": "6f19debf",
   "metadata": {},
   "outputs": [
    {
     "name": "stdout",
     "output_type": "stream",
     "text": [
      "31 years 8 months 7 days 1 hours 46 minutes 40.0 seconds\n"
     ]
    }
   ],
   "source": [
    "# challenge\n",
    "\n",
    "t = 1e9\n",
    "\n",
    "# modulo bases: amount of each unit before overflow\n",
    "m_s = 60           # seconds\n",
    "m_mi = 60          # minutes\n",
    "m_hr = 24          # hours\n",
    "m_dy = 365.25 / 12 # days in an average year\n",
    "m_mo = 12          # months\n",
    "\n",
    "# bases: seconds in each unit denom\n",
    "b_mi = 60 \n",
    "b_hr = b_mi * m_mi # s/hr : 60 * 60\n",
    "b_dy = b_hr * m_hr # s/dy : 60 * 60 * 24\n",
    "b_mo = b_dy * m_dy # s/mo : 60 * 60 * 24 * 365.25/12\n",
    "b_yr = b_mo * m_mo # s/yr : 60 * 60 * 24 * 365.25/12 * 12\n",
    "\n",
    "s = t % m_s\n",
    "mi = int((t // b_mi) % m_mi)\n",
    "hr = int((t // b_hr) % m_hr)\n",
    "dy = int((t // b_dy) % m_dy)\n",
    "mo = int((t // b_mo) % m_mo)\n",
    "yr = int(t // b_yr)\n",
    "\n",
    "print(yr, \"years\", mo, \"months\", dy, \"days\", hr, \"hours\", mi, \"minutes\" , s, \"seconds\")"
   ]
  },
  {
   "cell_type": "code",
   "execution_count": 5,
   "id": "358c4c93",
   "metadata": {},
   "outputs": [
    {
     "name": "stdout",
     "output_type": "stream",
     "text": [
      " 31 years 8 months 7 days 1 hour 46 minutes 40 seconds\n"
     ]
    }
   ],
   "source": [
    "# solution robust to arbritrary time units and unit plurality\n",
    "t = 1e9\n",
    "\n",
    "# units [mod base, unit name singular, unit name plural]\n",
    "mods = [[60, 'second', 'seconds'],\n",
    "        [60, 'minute', 'minutes'],\n",
    "        [24, 'hour', 'hours'],\n",
    "        [365.25/12, 'day', 'days'],\n",
    "        [12, 'month', 'months'],\n",
    "        [100, 'year', 'years'],\n",
    "        [10, 'century', 'centuries'],\n",
    "        [1_000_000, 'millenium', 'millenia'],\n",
    "        [None, 'eon', 'eons'] # none for unmodulated\n",
    "       ]\n",
    "\n",
    "\n",
    "# result and first base\n",
    "msg, base = '', 1\n",
    "\n",
    "# ensure last round (t % base) == t\n",
    "mods[-1][0] = t + 1\n",
    "\n",
    "for mod, sing_unit, plur_unit in mods:\n",
    "    \n",
    "    # calculate unit value (integer seconds per base modulated)\n",
    "    val = int((t // base) % mod)\n",
    "\n",
    "    # update base value\n",
    "    base *= mod\n",
    "\n",
    "    # time unit singular/plural with boolean multiplcation\n",
    "    unit = sing_unit * (val <= 1) + plur_unit * (val > 1)\n",
    "    \n",
    "    # add to result string if unit value >= 1\n",
    "    msg = (val >= 1) * f' {val} {unit}' + msg # use plural unit\n",
    "    \n",
    "print(msg)"
   ]
  },
  {
   "cell_type": "markdown",
   "id": "599ea8ce",
   "metadata": {},
   "source": [
    "# Challenge 2\n",
    "To 1 or not to 1? 💀\n",
    "\n",
    "**(Warm-up)**\n",
    "\n",
    "Given a string that tells 24-hr time*, convert it to a string that tells 12-hr time.\n",
    "```python\n",
    "# for example, if\n",
    "t_24h = \"23:45\"\n",
    "\n",
    "# then your result should be\n",
    "t_12h = # \"11:45\"\n",
    "\n",
    "print (t_12h)\n",
    "```\n",
    "*Assume the hour is zero-padded, e.g. \"01:00\" instead of \"1:00\".\n",
    "\n",
    "---\n",
    "\n",
    "**(Challenge)**\n",
    "\n",
    "In base-10 or the decimal system, the number **10** is can be expressed as\n",
    "> **10** = **1** (10) + **0** (1).\n",
    "\n",
    "Similarly, in __binary__ or base-2 system, the decimal number **10** is written as\n",
    "> __**1010**__ = **1** (8) + **0** (4) + **1** (2) + **0** (1).\n",
    "\n",
    "Print the **`binary`** representation of the decimal number **`20`**.\n",
    "\n",
    "---\n",
    "\n",
    "Share your solution below! Remember to use\n",
    "\n",
    "> ```python\n",
    "> # your code here\n",
    "> ```\n",
    "\n",
    "to format your code nicely 👌\n"
   ]
  },
  {
   "cell_type": "markdown",
   "id": "b1beb04a",
   "metadata": {},
   "source": [
    "## Warm-up"
   ]
  },
  {
   "cell_type": "code",
   "execution_count": 6,
   "id": "9b4b3095",
   "metadata": {},
   "outputs": [
    {
     "name": "stdout",
     "output_type": "stream",
     "text": [
      "12:00am\n"
     ]
    }
   ],
   "source": [
    "t_24h = '12:00'\n",
    "\n",
    "hours_old = int(t_24h[0:2])\n",
    "\n",
    "artisan_bool = (hours_old-1)//12\n",
    "\n",
    "inverse_artisan_bool = 1 + (-1)*artisan_bool\n",
    "\n",
    "hours_new = str(inverse_artisan_bool*hours_old + artisan_bool*(hours_old-12))\n",
    "\n",
    "am_pm = str(\"am\"*inverse_artisan_bool + \"pm\"*artisan_bool)\n",
    "    \n",
    "minutes_new = str(t_24h[3:5])\n",
    "\n",
    "t_12h = hours_new + \":\" + minutes_new + am_pm\n",
    "\n",
    "print(t_12h)"
   ]
  },
  {
   "cell_type": "code",
   "execution_count": 7,
   "id": "7077d950",
   "metadata": {},
   "outputs": [
    {
     "name": "stdout",
     "output_type": "stream",
     "text": [
      "12:45 pm\n"
     ]
    }
   ],
   "source": [
    "# warm-up\n",
    "t_24h = \"12:45\"\n",
    "\n",
    "# get string index of \":\"\n",
    "colon_index = t_24h.find(':')\n",
    "\n",
    "# slice hour and set to integer\n",
    "h_24 = int(t_24h[:colon_index])\n",
    "\n",
    "# modulate over 12\n",
    "h_12 = h_24 % 12\n",
    "\n",
    "# make h_12 equal 12 if 0\n",
    "h_12 = h_12 + 12 * (h_12==0)\n",
    "\n",
    "# add 12hr hour to minutes\n",
    "t_12h = str(h_12) + t_24h[colon_index:]\n",
    "\n",
    "# check if over 12: can also use boolean operator here\n",
    "over_12 = h_24 // 12\n",
    "\n",
    "# add pm / am if over 12\n",
    "t_12h += ' pm' * over_12 + ' am' * (1 - over_12)\n",
    "\n",
    "print(t_12h)"
   ]
  },
  {
   "cell_type": "markdown",
   "id": "f366a27b",
   "metadata": {},
   "source": [
    "## Challenge"
   ]
  },
  {
   "cell_type": "code",
   "execution_count": 8,
   "id": "e4d3c83a",
   "metadata": {},
   "outputs": [
    {
     "name": "stdout",
     "output_type": "stream",
     "text": [
      "20 in base-2 is 10100\n"
     ]
    }
   ],
   "source": [
    "# challenge\n",
    "\n",
    "# base-10 number\n",
    "n = 20\n",
    "\n",
    "# base\n",
    "base = 2\n",
    "\n",
    "p0 = (n // base**0) % base # base**0 place\n",
    "p1 = (n // base**1) % base # base**1 place\n",
    "p2 = (n // base**2) % base # base**2 place\n",
    "p3 = (n // base**3) % base # base**3 place\n",
    "p4 = (n // base**4) % base # base**4 place\n",
    "\n",
    "# new base number\n",
    "nb = f'{p4}{p3}{p2}{p1}{p0}'\n",
    "\n",
    "print(f'{n} in base-{base} is {nb}')"
   ]
  },
  {
   "cell_type": "code",
   "execution_count": 9,
   "id": "ad5703d9",
   "metadata": {},
   "outputs": [
    {
     "name": "stdout",
     "output_type": "stream",
     "text": [
      "100 in base-2 is 1100100\n"
     ]
    }
   ],
   "source": [
    "# robust to arbitrary n and base\n",
    "\n",
    "n = 100\n",
    "base = 2\n",
    "\n",
    "# initiate total and exponent\n",
    "total, power = 0, 0\n",
    "\n",
    "# initiate result string\n",
    "res = ''\n",
    "\n",
    "while total < n:\n",
    "        \n",
    "    # place value of digit\n",
    "    place_value = base**power\n",
    "    \n",
    "    # update exponent for next digit\n",
    "    power += 1\n",
    "    \n",
    "    # digit\n",
    "    digit = (n // place_value) % base\n",
    "    \n",
    "    # add total of digits so far in base-10\n",
    "    total += digit * place_value\n",
    "    \n",
    "    # add string result to left\n",
    "    res = str(digit) + res\n",
    "    \n",
    "print(f'{n} in base-{base} is {res}')"
   ]
  },
  {
   "cell_type": "code",
   "execution_count": null,
   "id": "6b016be4",
   "metadata": {},
   "outputs": [],
   "source": []
  },
  {
   "cell_type": "markdown",
   "id": "60b0d9ce",
   "metadata": {},
   "source": [
    "# Challenge 3\n",
    "Piece(wise) by piece(wise) 🧩\n",
    "\n",
    "**(Warm-up)**\n",
    "\n",
    "For any two numbers, calculate their **minimum, maximum, and absolute values**.\n",
    "\n",
    "For example:\n",
    "```python\n",
    "# example numbers\n",
    "x, y = -2, 1\n",
    "\n",
    "# result values\n",
    "minv == -2\n",
    "maxv == 1\n",
    "absx, absy == 2, 1\n",
    "```\n",
    "Try this both **with** and **without** the built-in python functions.\n",
    "\n",
    "---\n",
    "\n",
    "**(Challenge)**\n",
    "\n",
    "Given two integers, check if one is a **factor** of the other (regardless of their order).\n",
    "\n",
    "If one number is a factor of the other, print the **factor** and **cofactor** of the **product**. Otherwise, indicate that neither are factors of each other.\n",
    "\n",
    "For example, the results can be presented like so:\n",
    "```python\n",
    "m, n = 5, 10\n",
    "result == \"5 and 2 are factors of 10.\"\n",
    "\n",
    "m, n = 6, 2\n",
    "result == \"2 and 3 are factors of 6.\"\n",
    "\n",
    "m, n = 2, 7\n",
    "result == \"2 and 7 are not factors of each other\"\n",
    "```\n",
    "Are there special cases to watch out for? For an extra challenge, try to use as few **if statements** as possible.\n",
    "\n",
    "---\n",
    "\n",
    "Share your solution below! Remember to use\n",
    "\n",
    "> ```python\n",
    "> # your code here\n",
    "> ```\n",
    "\n",
    "to format your code nicely 👌\n"
   ]
  },
  {
   "cell_type": "markdown",
   "id": "d9fe09ba",
   "metadata": {},
   "source": []
  },
  {
   "cell_type": "markdown",
   "id": "2b543219",
   "metadata": {},
   "source": [
    "## Warm-up"
   ]
  },
  {
   "cell_type": "code",
   "execution_count": 10,
   "id": "8fa7579d",
   "metadata": {},
   "outputs": [
    {
     "name": "stdout",
     "output_type": "stream",
     "text": [
      "Built-in results:\n",
      "(x, y): \t (-2, 1)\n",
      "min(x, y): \t -2\n",
      "max(x, y): \t 1\n",
      "abs(x, y): \t (2, 1)\n",
      "-----\n",
      "From scratch results:\n",
      "(x, y): \t (-2, 1)\n",
      "min(x, y): \t -2\n",
      "max(x, y): \t 1\n",
      "abs(x, y): \t (2, 1)\n"
     ]
    }
   ],
   "source": [
    "x, y = -2, 1\n",
    "\n",
    "# with built-in functions\n",
    "\n",
    "minv = min(x, y)\n",
    "maxv = max(x, y)\n",
    "absx, absy = abs(x), abs(y)\n",
    "\n",
    "print('Built-in results:')\n",
    "print(f'(x, y): \\t {x, y}')\n",
    "print(f'min(x, y): \\t {minv}')\n",
    "print(f'max(x, y): \\t {maxv}')\n",
    "print(f'abs(x, y): \\t {absx, absy}')\n",
    "\n",
    "print('-'*5)\n",
    "\n",
    "\n",
    "# without built-in functions\n",
    "\n",
    "# max/min\n",
    "if x < y:\n",
    "    minv = x\n",
    "    maxv = y\n",
    "else:\n",
    "    minv = y\n",
    "    maxv = x\n",
    "    \n",
    "# absolute vals\n",
    "absx = x\n",
    "if x < 0 :\n",
    "    absx = -x\n",
    "    \n",
    "absy = y\n",
    "if y < 0:\n",
    "    absy = -y\n",
    "    \n",
    "print('From scratch results:')\n",
    "print(f'(x, y): \\t {x, y}')\n",
    "print(f'min(x, y): \\t {minv}')\n",
    "print(f'max(x, y): \\t {maxv}')\n",
    "print(f'abs(x, y): \\t {absx, absy}')"
   ]
  },
  {
   "cell_type": "code",
   "execution_count": 11,
   "id": "e65d16f4",
   "metadata": {},
   "outputs": [
    {
     "name": "stdout",
     "output_type": "stream",
     "text": [
      "Lambda function results:\n",
      "(x, y): \t (-2, 1)\n",
      "min(x, y): \t -2\n",
      "max(x, y): \t 1\n",
      "abs(x, y): \t (2, 1)\n"
     ]
    }
   ],
   "source": [
    "# using lambda functions and conditional expressions\n",
    "get_minv = lambda x, y: x if x < y else y\n",
    "get_maxv = lambda x, y: x if x > y else y\n",
    "get_absv = lambda x: x if x > 0 else -x\n",
    "\n",
    "# test functions\n",
    "x, y = -2, 1\n",
    "\n",
    "print('Lambda function results:')\n",
    "print(f'(x, y): \\t {x, y}')\n",
    "print(f'min(x, y): \\t {get_minv(x, y)}')\n",
    "print(f'max(x, y): \\t {get_maxv(x, y)}')\n",
    "print(f'abs(x, y): \\t {get_absv(x), get_absv(y)}')"
   ]
  },
  {
   "cell_type": "code",
   "execution_count": 12,
   "id": "952dd071",
   "metadata": {},
   "outputs": [],
   "source": [
    "# even more generalized for multiple arguments\n",
    "get_minv = lambda *args: sorted(args)[0]\n",
    "get_maxv = lambda *args: sorted(args)[-1]"
   ]
  },
  {
   "cell_type": "code",
   "execution_count": 13,
   "id": "a850633b",
   "metadata": {},
   "outputs": [
    {
     "data": {
      "text/plain": [
       "-3"
      ]
     },
     "execution_count": 13,
     "metadata": {},
     "output_type": "execute_result"
    }
   ],
   "source": [
    "get_minv(-1, 2, -3)"
   ]
  },
  {
   "cell_type": "code",
   "execution_count": 14,
   "id": "cf275fa5",
   "metadata": {},
   "outputs": [
    {
     "data": {
      "text/plain": [
       "2"
      ]
     },
     "execution_count": 14,
     "metadata": {},
     "output_type": "execute_result"
    }
   ],
   "source": [
    "get_maxv(-1, 2, -3)"
   ]
  },
  {
   "cell_type": "markdown",
   "id": "8d331b8a",
   "metadata": {},
   "source": [
    "## Challenge"
   ]
  },
  {
   "cell_type": "code",
   "execution_count": 15,
   "id": "0e176fb2",
   "metadata": {},
   "outputs": [
    {
     "name": "stdout",
     "output_type": "stream",
     "text": [
      "2 and 7 are not factors of each other.\n"
     ]
    }
   ],
   "source": [
    "# with conditional statements (if statements)\n",
    "m, n = 2, 7\n",
    "\n",
    "# check if either numbers are zero\n",
    "if 0 in (m, n):\n",
    "    print(f\"{m} and {n} are not factors of each other.\")\n",
    "    \n",
    "# check if factors\n",
    "elif m % n == 0:\n",
    "\n",
    "    # check which is bigger\n",
    "    if m < n:\n",
    "        print(f\"{m} and {n/m:.0f} are factors of {n}.\")\n",
    "    \n",
    "    else:\n",
    "        print(f\"{n} and {m/n:.0f} are factors of {m}.\")\n",
    "        \n",
    "else:\n",
    "    print(f\"{m} and {n} are not factors of each other.\")"
   ]
  },
  {
   "cell_type": "code",
   "execution_count": 16,
   "id": "c0dc33d4",
   "metadata": {},
   "outputs": [
    {
     "name": "stdout",
     "output_type": "stream",
     "text": [
      "0 and 7 are not factors of each other.\n"
     ]
    }
   ],
   "source": [
    "# with minimal conditional statements\n",
    "m, n = 7, 0\n",
    "\n",
    "# rearrange to make m <= n\n",
    "m, n = sorted((m, n))\n",
    "\n",
    "# message if m, n are not factors\n",
    "msg_n = f\"{m} and {n} are not factors of each other.\"\n",
    "    \n",
    "# check if either numbers are zero\n",
    "if 0 in (m, n):\n",
    "    print(msg_n)\n",
    "\n",
    "else:\n",
    "    \n",
    "    # check if m is factor of n\n",
    "    is_factor = m % n == 0\n",
    "    \n",
    "    # message if n, m are factors\n",
    "    msg_y = f\"{m} and {n / m:.0f} are factors of {n}.\"\n",
    "    \n",
    "    # message without if statement\n",
    "    msg = is_factor * msg_y + (not is_factor) * msg_n\n",
    "\n",
    "    print(msg)"
   ]
  },
  {
   "cell_type": "code",
   "execution_count": null,
   "id": "fc9e0fd2",
   "metadata": {},
   "outputs": [],
   "source": []
  },
  {
   "cell_type": "markdown",
   "id": "f06549d4",
   "metadata": {},
   "source": [
    "# Challenge 4\n",
    "\n",
    "**(Warm-up)**\n",
    "\n",
    "The following is a **truth table** showing the possible **truth-value** combinations of boolean variables `p` and `q` and certain operations:\n",
    "```\n",
    "|  p     |  q     |  p and q | p or q | not ((not p) or (not q)) | not ((not p) and (not q)) |\n",
    "----------------------------------------------------------------------------------------------\n",
    "|  True  |  True  |  True    |  True  |           ???            |            ???            |\n",
    "|  True  |  False |  False   |  False |           ???            |            ???            |\n",
    "|  False |  True  |  False   |  False |           ???            |            ???            |\n",
    "|  False |  False |  False   |  False |           ???            |            ???            |\n",
    "```\n",
    "\n",
    "Recreate the truth table with the missing values filled in.\n",
    "\n",
    "What's interesting about the columns?\n",
    "\n",
    "---\n",
    "\n",
    "**(Challenge)**\n",
    "\n",
    "The following is a `query response` from https://dictionaryapi.dev/, an English dictionary **API**:\n",
    "```python\n",
    "api_resp = [{\"word\" : \"python\",\n",
    "             \"phonetic\" : \"ˈpʌɪθ(ə)n\",\n",
    "             \"phonetics\" : [{\"text\" : \"ˈpʌɪθ(ə)n\",\n",
    "                             \"audio\" : \"//ssl.gstatic.com/dictionary/static/sounds/20200429/python--_gb_1.mp3\"}],\n",
    "             \"origin\" : \"late 16th century (in the Greek sense) :  via Latin from Greek Puthōn, the name of a huge serpent killed by Apollo. The main current sense dates from the mid 19th century.\",\n",
    "             \"meanings\" : [{\"partOfSpeech\" : \"noun\",\n",
    "                            \"definitions\" : [{\"definition\" : \"a large heavy-bodied non-venomous snake occurring throughout the Old World tropics, killing prey by constriction and asphyxiation.\",\n",
    "                                              \"synonyms\" : [],\n",
    "                                              \"antonyms\" : []},\n",
    "                                             {\"definition\" : \"a high-level general-purpose programming language.\",\n",
    "                                              \"synonyms\" : [],\n",
    "                                              \"antonyms\" : []}]\n",
    "                           }]\n",
    "            }]\n",
    "```\n",
    "What are the **parts of speech** and **definitions** of \"python\" according to this English dictionary? Print the results from the above data structure.\n",
    "\n",
    "For an extra challenge, write a program that prints all word definitions of such query results. Check your code against query entries for \"coding\": https://api.dictionaryapi.dev/api/v2/entries/en/coding.\n",
    "\n",
    "---\n",
    "\n",
    "\n",
    "Share your solution below! Remember to use\n",
    "\n",
    "> ```python\n",
    "> # your code here\n",
    "> ```\n",
    "\n",
    "to format your code nicely 👌\n"
   ]
  },
  {
   "cell_type": "markdown",
   "id": "603e60da",
   "metadata": {},
   "source": [
    "## Warm-up"
   ]
  },
  {
   "cell_type": "code",
   "execution_count": 17,
   "id": "e9f78174",
   "metadata": {},
   "outputs": [
    {
     "name": "stdout",
     "output_type": "stream",
     "text": [
      "| p \t| q \t| p and q \t| p or q \t| not (not p or not q) \t| not (not p and not q) |\n",
      "------------------------------------------------------------------------------------------------\n",
      "| True\t| True\t| True\t\t| True\t\t| True\t\t\t| True\t\t\t|\n",
      "| True\t| False\t| False\t\t| True\t\t| False\t\t\t| True\t\t\t|\n",
      "| False\t| True\t| False\t\t| True\t\t| False\t\t\t| True\t\t\t|\n",
      "| False\t| False\t| False\t\t| False\t\t| False\t\t\t| False\t\t\t|\n"
     ]
    }
   ],
   "source": [
    "# warm-up\n",
    "\n",
    "header = '| p \\t| q \\t| p and q \\t| p or q \\t| not (not p or not q) \\t| not (not p and not q) |'\n",
    "\n",
    "print(header)\n",
    "\n",
    "hline = \"-\" * 96\n",
    "\n",
    "print(hline)\n",
    "\n",
    "p, q = True, True\n",
    "row = f'| {p}\\t| {q}\\t| {p and q}\\t\\t| {p or q}\\t\\t| {not (not p or not q)}\\t\\t\\t| {not (not p and not q)}\\t\\t\\t|'\n",
    "print(row)\n",
    "\n",
    "p, q = True, False\n",
    "row = f'| {p}\\t| {q}\\t| {p and q}\\t\\t| {p or q}\\t\\t| {not (not p or not q)}\\t\\t\\t| {not (not p and not q)}\\t\\t\\t|'\n",
    "print(row)\n",
    "\n",
    "p, q = False, True\n",
    "row = f'| {p}\\t| {q}\\t| {p and q}\\t\\t| {p or q}\\t\\t| {not (not p or not q)}\\t\\t\\t| {not (not p and not q)}\\t\\t\\t|'\n",
    "print(row)\n",
    "\n",
    "p, q = False, False\n",
    "row = f'| {p}\\t| {q}\\t| {p and q}\\t\\t| {p or q}\\t\\t| {not (not p or not q)}\\t\\t\\t| {not (not p and not q)}\\t\\t\\t|'\n",
    "print(row)"
   ]
  },
  {
   "cell_type": "code",
   "execution_count": 18,
   "id": "d9269098",
   "metadata": {},
   "outputs": [
    {
     "name": "stdout",
     "output_type": "stream",
     "text": [
      "| p \t| q \t| p and q \t| p or q \t| not (not p or not q) \t| not (not p and not q) |\n",
      "------------------------------------------------------------------------------------------------\n",
      "| True\t| True\t| True\t\t| True\t\t| True\t\t\t| True\t\t\t|\n",
      "| True\t| False\t| False\t\t| True\t\t| False\t\t\t| True\t\t\t|\n",
      "| False\t| True\t| False\t\t| True\t\t| False\t\t\t| True\t\t\t|\n",
      "| False\t| False\t| False\t\t| False\t\t| False\t\t\t| False\t\t\t|\n"
     ]
    }
   ],
   "source": [
    "# with loop\n",
    "\n",
    "header = '| p \\t| q \\t| p and q \\t| p or q \\t| not (not p or not q) \\t| not (not p and not q) |'\n",
    "\n",
    "print(header)\n",
    "\n",
    "hline = \"-\" * 96\n",
    "print(hline)\n",
    "\n",
    "tvals = (True, False)\n",
    "\n",
    "for p in tvals:\n",
    "\n",
    "    for q in tvals:\n",
    "        \n",
    "        # create row\n",
    "        row = f'| {p}\\t| {q}\\t| {p and q}\\t\\t| {p or q}\\t\\t| ' + \\\n",
    "        f'{not (not p or not q)}\\t\\t\\t| {not (not p and not q)}\\t\\t\\t|'\n",
    "        \n",
    "        print(row)"
   ]
  },
  {
   "cell_type": "markdown",
   "id": "6d5470bf",
   "metadata": {},
   "source": [
    "## Challenge"
   ]
  },
  {
   "cell_type": "code",
   "execution_count": 19,
   "id": "6e9147d5",
   "metadata": {},
   "outputs": [],
   "source": [
    "# set-up\n",
    "\n",
    "api_resp = [{\"word\" : \"python\",\n",
    "             \"phonetic\" : \"ˈpʌɪθ(ə)n\",\n",
    "             \"phonetics\" : [{\"text\" : \"ˈpʌɪθ(ə)n\",\n",
    "                             \"audio\" : \"//ssl.gstatic.com/dictionary/static/sounds/20200429/python--_gb_1.mp3\"}],\n",
    "             \"origin\" : \"late 16th century (in the Greek sense) :  via Latin from Greek Puthōn, the name of a huge serpent killed by Apollo. The main current sense dates from the mid 19th century.\",\n",
    "             \"meanings\" : [{\"partOfSpeech\" : \"noun\",\n",
    "                            \"definitions\" : [{\"definition\" : \"a large heavy-bodied non-venomous snake occurring throughout the Old World tropics, killing prey by constriction and asphyxiation.\",\n",
    "                                              \"synonyms\" : [],\n",
    "                                              \"antonyms\" : []},\n",
    "                                             {\"definition\" : \"a high-level general-purpose programming language.\",\n",
    "                                              \"synonyms\" : [],\n",
    "                                              \"antonyms\" : []}]\n",
    "                           }]\n",
    "            }]"
   ]
  },
  {
   "cell_type": "code",
   "execution_count": 20,
   "id": "44432699",
   "metadata": {},
   "outputs": [
    {
     "name": "stdout",
     "output_type": "stream",
     "text": [
      "1. Python (noun): a large heavy-bodied non-venomous snake occurring throughout the Old World tropics, killing prey by constriction and asphyxiation.\n",
      "\n",
      "2. Python (noun): a high-level general-purpose programming language.\n",
      "\n"
     ]
    }
   ],
   "source": [
    "# challenge\n",
    "\n",
    "meaning = api_resp[0][\"meanings\"][0]\n",
    "\n",
    "partofspeech = meaning[\"partOfSpeech\"]\n",
    "definitions = meaning[\"definitions\"]\n",
    "\n",
    "def1 = definitions[0]['definition']\n",
    "def2 = definitions[1]['definition']\n",
    "\n",
    "print(f\"1. Python ({partofspeech}): {def1}\\n\")\n",
    "print(f\"2. Python ({partofspeech}): {def2}\\n\")"
   ]
  },
  {
   "cell_type": "code",
   "execution_count": 21,
   "id": "6ab6ac91",
   "metadata": {},
   "outputs": [],
   "source": [
    "# entries for \"coding\" in dictionary\n",
    "# https://api.dictionaryapi.dev/api/v2/entries/en/coding\n",
    "entries = [{\"word\":\"coding\",\"phonetic\":\"ˈkəʊdɪŋ\",\"phonetics\":[{\"text\":\"ˈkəʊdɪŋ\",\"audio\":\"//ssl.gstatic.com/dictionary/static/sounds/20200429/coding--_gb_1.mp3\"}],\"meanings\":[{\"partOfSpeech\":\"noun\",\"definitions\":[{\"definition\":\"the process of assigning a code to something for classification or identification.\",\"example\":\"the forms are checked and returned to the census officer for coding\",\"synonyms\":[],\"antonyms\":[]},{\"definition\":\"the process or activity of writing computer programs.\",\"synonyms\":[],\"antonyms\":[]},{\"definition\":\"the process or fact of being the genetic code or determiner for an amino acid, protein, or characteristic.\",\"synonyms\":[],\"antonyms\":[]}]},{\"partOfSpeech\":\"adjective\",\"definitions\":[{\"definition\":\"functioning as the genetic code or determiner for an amino acid, protein, or characteristic.\",\"example\":\"a coding region in human DNA\",\"synonyms\":[],\"antonyms\":[]}]}]}, {\"word\":\"code\",\"phonetic\":\"kəʊd\",\"phonetics\":[{\"text\":\"kəʊd\",\"audio\":\"//ssl.gstatic.com/dictionary/static/sounds/20200429/code--_gb_1.mp3\"}],\"origin\":\"Middle English: via Old French from Latin codex, codic- (see codex). The term originally denoted a systematic collection of statutes made by Justinian or another of the later Roman emperors; compare with code (sense 3 of the noun) (mid 18th century), the earliest modern sense.\",\"meanings\":[{\"partOfSpeech\":\"verb\",\"definitions\":[{\"definition\":\"convert (the words of a message) into a code so as to convey a secret meaning.\",\"example\":\"only Mitch knew how to read the message—even the name was coded\",\"synonyms\":[],\"antonyms\":[]},{\"definition\":\"write code for (a computer program).\",\"example\":\"most developers code C + + like C\",\"synonyms\":[],\"antonyms\":[]},{\"definition\":\"be the genetic code for (an amino acid or protein).\",\"example\":\"genes that code for human growth hormone\",\"synonyms\":[],\"antonyms\":[]}]}]}]"
   ]
  },
  {
   "cell_type": "code",
   "execution_count": 22,
   "id": "e5d30429",
   "metadata": {},
   "outputs": [
    {
     "name": "stdout",
     "output_type": "stream",
     "text": [
      "1. Coding (noun): the process of assigning a code to something for classification or identification.\n",
      "\n",
      "2. Coding (noun): the process or activity of writing computer programs.\n",
      "\n",
      "3. Coding (noun): the process or fact of being the genetic code or determiner for an amino acid, protein, or characteristic.\n",
      "\n",
      "4. Coding (adjective): functioning as the genetic code or determiner for an amino acid, protein, or characteristic.\n",
      "\n",
      "5. Code (verb): convert (the words of a message) into a code so as to convey a secret meaning.\n",
      "\n",
      "6. Code (verb): write code for (a computer program).\n",
      "\n",
      "7. Code (verb): be the genetic code for (an amino acid or protein).\n",
      "\n"
     ]
    }
   ],
   "source": [
    "# more general solution\n",
    "\n",
    "n = 1\n",
    "\n",
    "# get every entry\n",
    "for entry in entries:\n",
    "    \n",
    "    word = entry['word']\n",
    "    \n",
    "    # get every meaning in entry\n",
    "    for meaning in entry[\"meanings\"]:\n",
    "        \n",
    "        partofspeech = meaning['partOfSpeech']\n",
    "        definitions = meaning[\"definitions\"]\n",
    "\n",
    "        # get every definition\n",
    "        for d in definitions:\n",
    "            print(f\"{n}. {word.title()} ({partofspeech}): {d['definition']}\\n\")\n",
    "            n+=1"
   ]
  },
  {
   "cell_type": "code",
   "execution_count": null,
   "id": "51ce53b3",
   "metadata": {},
   "outputs": [],
   "source": []
  },
  {
   "cell_type": "markdown",
   "id": "cd2a3c4f",
   "metadata": {},
   "source": [
    "# Challenge 5\n",
    "Inner peace 🧘‍♀️\n",
    "\n",
    "**(Warm-up)**\n",
    "\n",
    "Find the most frequent `character` and `word` in the **Zen of Python:**\n",
    "\n",
    "```python\n",
    "text = \"\"\"The Zen of Python, by Tim Peters\n",
    "\n",
    "Beautiful is better than ugly.\n",
    "Explicit is better than implicit.\n",
    "Simple is better than complex.\n",
    "Complex is better than complicated.\n",
    "Flat is better than nested.\n",
    "Sparse is better than dense.\n",
    "Readability counts.\n",
    "Special cases aren't special enough to break the rules.\n",
    "Although practicality beats purity.\n",
    "Errors should never pass silently.\n",
    "Unless explicitly silenced.\n",
    "In the face of ambiguity, refuse the temptation to guess.\n",
    "There should be one-- and preferably only one --obvious way to do it.\n",
    "Although that way may not be obvious at first unless you're Dutch.\n",
    "Now is better than never.\n",
    "Although never is often better than *right* now.\n",
    "If the implementation is hard to explain, it's a bad idea.\n",
    "If the implementation is easy to explain, it may be a good idea.\n",
    "Namespaces are one honking great idea -- let's do more of those!\"\"\"\n",
    "```\n",
    "\n",
    "---\n",
    "\n",
    "**(Challenge)**\n",
    "\n",
    "The Fibonacci sequence begins with `1, 1` and is then constructed of numbers that are the sum of its two predecessors:\n",
    "\n",
    "`1, 1, 2, 3, 5, 8, 13, ...`\n",
    "\n",
    "Create a function `fib(n)` that takes an integer input **`n`** and returns the `n`-th indexed number in the Fibonacci sequence.\n",
    "\n",
    "What is the **20th** number in the Fibonacci sequence?\n",
    "\n",
    "What is the ratio of the **20th** Fibonacci number divided by the **19th**?\n",
    "\n",
    "\n",
    "---\n",
    "\n",
    "\n",
    "Share your solution below! Remember to use\n",
    "\n",
    "> ```python\n",
    "> # your code here\n",
    "> ```\n",
    "\n",
    "to format your code nicely 👌\n"
   ]
  },
  {
   "cell_type": "code",
   "execution_count": 23,
   "id": "aaf51150",
   "metadata": {},
   "outputs": [
    {
     "name": "stdout",
     "output_type": "stream",
     "text": [
      "Characters: [('e', 92), ('t', 79), ('a', 53), ('i', 53), ('s', 46), ('o', 43), ('n', 42), ('r', 33), ('l', 33), ('h', 31), ('p', 22), ('b', 21), ('u', 21), ('y', 17), ('d', 17), ('c', 17), ('m', 16), ('f', 12), ('g', 11), ('x', 6), ('v', 5), ('w', 4), ('k', 2), ('z', 1)] \n",
      "\n",
      "Words: [('a', 53), ('be', 13), ('it', 10), ('is', 10), ('at', 9), ('than', 8), ('better', 8), ('the', 7), ('to', 5), ('in', 4), ('of', 4), ('although', 3), ('idea', 3), ('never', 3), ('one', 3), ('if', 3), ('should', 2), ('complex', 2), ('unless', 2), ('special', 2), ('explicit', 2), ('now', 2), ('do', 2), ('may', 2), ('implementation', 2), ('explain', 2), ('are', 2), ('obvious', 2), ('way', 2), ('youre', 1), ('arent', 1), ('bad', 1), ('errors', 1), ('silenced', 1), ('good', 1), ('guess', 1), ('cases', 1), ('python', 1), ('more', 1), ('sparse', 1), ('not', 1), ('easy', 1), ('that', 1), ('explicitly', 1), ('face', 1), ('dutch', 1), ('temptation', 1), ('counts', 1), ('peters', 1), ('great', 1), ('first', 1), ('enough', 1), ('its', 1), ('namespaces', 1), ('pass', 1), ('beats', 1), ('often', 1), ('and', 1), ('zen', 1), ('honking', 1), ('by', 1), ('implicit', 1), ('beautiful', 1), ('preferably', 1), ('practicality', 1), ('ugly', 1), ('tim', 1), ('break', 1), ('complicated', 1), ('dense', 1), ('nested', 1), ('readability', 1), ('simple', 1), ('lets', 1), ('refuse', 1), ('those', 1), ('flat', 1), ('rules', 1), ('there', 1), ('only', 1), ('silently', 1), ('hard', 1), ('purity', 1), ('right', 1), ('ambiguity', 1)]\n"
     ]
    }
   ],
   "source": [
    "# warm-up\n",
    "text = \"\"\"The Zen of Python, by Tim Peters\n",
    "\n",
    "Beautiful is better than ugly.\n",
    "Explicit is better than implicit.\n",
    "Simple is better than complex.\n",
    "Complex is better than complicated.\n",
    "Flat is better than nested.\n",
    "Sparse is better than dense.\n",
    "Readability counts.\n",
    "Special cases aren't special enough to break the rules.\n",
    "Although practicality beats purity.\n",
    "Errors should never pass silently.\n",
    "Unless explicitly silenced.\n",
    "In the face of ambiguity, refuse the temptation to guess.\n",
    "There should be one-- and preferably only one --obvious way to do it.\n",
    "Although that way may not be obvious at first unless you're Dutch.\n",
    "Now is better than never.\n",
    "Although never is often better than *right* now.\n",
    "If the implementation is hard to explain, it's a bad idea.\n",
    "If the implementation is easy to explain, it may be a good idea.\n",
    "Namespaces are one honking great idea -- let's do more of those!\"\"\"\n",
    "\n",
    "# most frequent characters\n",
    "char_count = [(c, text.lower().count(c)) for c in set(text.lower()) if c.isalpha()]\n",
    "sorted_char = sorted(char_count, key=lambda x: x[1], reverse=True)\n",
    "print('Characters:', sorted_char, '\\n')\n",
    "\n",
    "# most frequent words\n",
    "text = text.replace('\\n', ' ').lower()\n",
    "\n",
    "# remove punctuation\n",
    "text = ''.join(c for c in text if (c.isalnum() or c == ' '))\n",
    "words = text.split()\n",
    "\n",
    "word_count = [(w, text.count(w)) for w in set(words)]\n",
    "sorted_words = sorted(word_count, key=lambda x: x[1], reverse=True)\n",
    "print('Words:', sorted_words)"
   ]
  },
  {
   "cell_type": "code",
   "execution_count": 24,
   "id": "c7d23c20",
   "metadata": {},
   "outputs": [
    {
     "name": "stdout",
     "output_type": "stream",
     "text": [
      "10946\n",
      "1.6180339985218033\n"
     ]
    }
   ],
   "source": [
    "# challenge with memoization\n",
    "_fib = [1, 1]\n",
    "def fib(n):\n",
    "    while len(_fib) <= n:\n",
    "        _fib.append(_fib[-1] + _fib[-2])\n",
    "    return _fib[n]\n",
    "\n",
    "print(fib(20))\n",
    "\n",
    "print(fib(20)/fib(19))"
   ]
  },
  {
   "cell_type": "code",
   "execution_count": 25,
   "id": "5de4f879",
   "metadata": {},
   "outputs": [
    {
     "name": "stdout",
     "output_type": "stream",
     "text": [
      "10946\n",
      "1.6180339985218033\n"
     ]
    }
   ],
   "source": [
    "# challenge with recursion (slow)\n",
    "def fib_recur(n):\n",
    "    if n < 2:\n",
    "        return 1\n",
    "    else:\n",
    "        return fib_recur(n-1) + fib_recur(n-2)\n",
    "    \n",
    "print(fib_recur(20))\n",
    "print(fib_recur(20) / fib_recur(19))"
   ]
  },
  {
   "cell_type": "code",
   "execution_count": 26,
   "id": "976826b1",
   "metadata": {},
   "outputs": [
    {
     "name": "stdout",
     "output_type": "stream",
     "text": [
      "10946\n",
      "1.6180339985218033\n"
     ]
    }
   ],
   "source": [
    "# challenge with dynamic programming\n",
    "_fib = [0 for i in range(100)]\n",
    "\n",
    "def fib_dynamic(n):\n",
    "    \n",
    "    if n < 2:\n",
    "        return 1\n",
    "    if _fib[n] != 0:\n",
    "        return _fib[n]\n",
    "    \n",
    "    _fib[n] = fib_dynamic(n-1) + fib_dynamic(n-2)\n",
    "    return _fib[n]\n",
    "\n",
    "print(fib_dynamic(20))\n",
    "print(fib_dynamic(20) / fib_dynamic(19))"
   ]
  },
  {
   "cell_type": "code",
   "execution_count": null,
   "id": "c0782912",
   "metadata": {},
   "outputs": [],
   "source": []
  },
  {
   "cell_type": "markdown",
   "id": "e0d2712a",
   "metadata": {},
   "source": [
    "# Project Poker\n",
    "♠️♥️♦️♣️\n",
    "\n",
    "**(Poker Analysis)**\n",
    "\n",
    "Preamble:\n",
    "```python\n",
    "# list of suits and ranks\n",
    "ranks = [str(n) for n in range(2, 10)] + list('TJQKA') # T for 10\n",
    "suits = '♠️♥️♦️♣️'\n",
    "suits = [s for s in suits][::2]\n",
    "\n",
    "# create list of cards\n",
    "cards = [suit + rank for suit in suits for rank in ranks]\n",
    "print(len(cards)) # check length\n",
    "\n",
    "# create all (unordered) combinations of 5 card hands\n",
    "from itertools import combinations # import function from a built-in module\n",
    "hands = list(combinations(cards, 5)) # generate all 5 card combinations\n",
    "print(f'{len(hands):,}') # check length\n",
    "```\n",
    "\n",
    "Create functions that checks if a card combination is a specific poker hand:\n",
    "https://stattrek.com/poker/poker-probability.aspx?tutorial=prob\n",
    "\n",
    "Calculate the probability of each kind of hand.\n",
    "\n",
    "**Hint:** first create functions that can sort the cards in a hand by suit and/or by rank. Check the documentation for the `sorted` function, especially the optional `key` argument (where `lambda` functions may come in handy): https://docs.python.org/3/howto/sorting.html"
   ]
  },
  {
   "cell_type": "code",
   "execution_count": 27,
   "id": "134f5e50",
   "metadata": {},
   "outputs": [
    {
     "name": "stdout",
     "output_type": "stream",
     "text": [
      "52\n",
      "2,598,960\n"
     ]
    }
   ],
   "source": [
    "# preamble\n",
    "\n",
    "# list of suits and ranks\n",
    "ranks = [str(n) for n in range(2, 10)] + list('TJQKA') # T for 10\n",
    "suits = '♠️♥️♦️♣️'\n",
    "suits = [s for s in suits][::2]\n",
    "\n",
    "# create list of cards\n",
    "cards = [suit + rank for suit in suits for rank in ranks]\n",
    "print(len(cards)) # check length\n",
    "\n",
    "# create all (unordered) combinations of 5 card hands\n",
    "from itertools import combinations # import function from a built-in module\n",
    "hands = list(combinations(cards, 5)) # generate all 5 card combinations\n",
    "print(f'{len(hands):,}') # check length"
   ]
  },
  {
   "cell_type": "code",
   "execution_count": 28,
   "id": "9867cacc",
   "metadata": {},
   "outputs": [],
   "source": [
    "hand = hands[0]"
   ]
  },
  {
   "cell_type": "code",
   "execution_count": 29,
   "id": "eaeb5073",
   "metadata": {},
   "outputs": [],
   "source": [
    "# proker\n",
    "\n",
    "def sort_suit(hand):\n",
    "    return sorted(hand, key=lambda x : x[0])\n",
    "\n",
    "def sort_rank(hand):\n",
    "    return sorted(hand, key=lambda x : ranks.index(x[1:]), reverse=True)"
   ]
  },
  {
   "cell_type": "code",
   "execution_count": 30,
   "id": "64faaae1",
   "metadata": {},
   "outputs": [],
   "source": [
    "def get_suits(hand):\n",
    "    return [c[0] for c in hand]\n",
    "\n",
    "def get_ranks(hand):\n",
    "    return [c[1:] for c in hand]\n",
    "\n",
    "def group_ranks(hand):\n",
    "    hand_ranks = get_ranks(hand)\n",
    "    return {r : hand_ranks.count(r) for r in hand_ranks}"
   ]
  },
  {
   "cell_type": "code",
   "execution_count": 31,
   "id": "ccaeb7ac",
   "metadata": {},
   "outputs": [
    {
     "data": {
      "text/plain": [
       "{'2': 1, '3': 1, '4': 1, '5': 1, '6': 1}"
      ]
     },
     "execution_count": 31,
     "metadata": {},
     "output_type": "execute_result"
    }
   ],
   "source": [
    "group_ranks(hand)"
   ]
  },
  {
   "cell_type": "markdown",
   "id": "fbb255f8",
   "metadata": {},
   "source": [
    "# Challenge 6\n",
    "\n",
    "Autobots, roll out! 🤖\n",
    "\n",
    "**(Warm-Up)**\n",
    "\n",
    "<!-- \\subsubsection*{(Warm-Up)} -->\n",
    "\n",
    "Consider the equation:\n",
    "\\begin{align}\n",
    "f(x) = \\sqrt{1 - x^2}.\n",
    "\\end{align}\n",
    "\n",
    "Compute the following summation:\n",
    "\\begin{align}\n",
    "\\sigma = \\sum_{n=1}^{N}  f\\left({n \\over N}\\right) {1 \\over N}\n",
    "\\end{align}\n",
    "\n",
    "for $N = 1000$. What is $4\\sigma?$ What is $4\\sigma$ if $N = 100,000?$\n",
    "\n",
    "What's being computed here? Is there a way to achieve the goal more \"effectively?\"\n",
    "\n",
    "---\n",
    "\n",
    "**(Challenge)**\n",
    "\n",
    "A **prime number** is defined as a natural number greater than 1 whose only divisor is 1 and itself. Create a set or list of all primes less than or equal to any positive integer **`n`**.\n",
    "\n",
    "How many primes are there **between 100 and 1,000**? How many **between 100,000 and 1,000,000**?\n",
    "\n",
    "---\n",
    "\n",
    "\n",
    "Share your solution below! Remember to use\n",
    "\n",
    "> ```python\n",
    "> # your code here\n",
    "> ```\n",
    "\n",
    "to format your code nicely 👌\n"
   ]
  },
  {
   "cell_type": "markdown",
   "id": "a83cb406",
   "metadata": {},
   "source": [
    "## Warm-up"
   ]
  },
  {
   "cell_type": "code",
   "execution_count": 32,
   "id": "6a2f7849",
   "metadata": {},
   "outputs": [
    {
     "name": "stdout",
     "output_type": "stream",
     "text": [
      "3.1416126164019564\n"
     ]
    }
   ],
   "source": [
    "# warm-up\n",
    "\n",
    "# define n\n",
    "N = 100_000\n",
    "\n",
    "# define function\n",
    "f = lambda x: (1-x**2)**(1/2)\n",
    "dx = 1/N\n",
    "\n",
    "# approximate integral\n",
    "sigma = sum(f(n * dx) * dx for n in range(N))\n",
    "\n",
    "# approximate pi\n",
    "pi = 4*sigma\n",
    "\n",
    "print(pi)"
   ]
  },
  {
   "cell_type": "markdown",
   "id": "0695705f",
   "metadata": {},
   "source": [
    "## Challenge"
   ]
  },
  {
   "cell_type": "code",
   "execution_count": 33,
   "id": "f6eb49bf",
   "metadata": {
    "scrolled": true
   },
   "outputs": [
    {
     "name": "stdout",
     "output_type": "stream",
     "text": [
      "[2, 3, 5, 7, 11, 13, 17, 19, 23, 29, 31, 37, 41, 43, 47, 53, 59, 61, 67, 71, 73, 79, 83, 89, 97, 101, 103, 107, 109, 113, 127, 131, 137, 139, 149, 151, 157, 163, 167, 173, 179, 181, 191, 193, 197, 199, 211, 223, 227, 229, 233, 239, 241, 251, 257, 263, 269, 271, 277, 281, 283, 293, 307, 311, 313, 317, 331, 337, 347, 349, 353, 359, 367, 373, 379, 383, 389, 397, 401, 409, 419, 421, 431, 433, 439, 443, 449, 457, 461, 463, 467, 479, 487, 491, 499, 503, 509, 521, 523, 541, 547, 557, 563, 569, 571, 577, 587, 593, 599, 601, 607, 613, 617, 619, 631, 641, 643, 647, 653, 659, 661, 673, 677, 683, 691, 701, 709, 719, 727, 733, 739, 743, 751, 757, 761, 769, 773, 787, 797, 809, 811, 821, 823, 827, 829, 839, 853, 857, 859, 863, 877, 881, 883, 887, 907, 911, 919, 929, 937, 941, 947, 953, 967, 971, 977, 983, 991, 997]\n",
      "\n",
      "Primes between 100 and 1,000: 143\n",
      "Wall time: 10.9 ms\n"
     ]
    }
   ],
   "source": [
    "%%time\n",
    "# challenge: brute-force method\n",
    "\n",
    "primes = {2}\n",
    "\n",
    "N = 1_000\n",
    "for n in range(2, N+1):\n",
    "    \n",
    "    # if it's not divsible by any prime so far\n",
    "    if not any(n % p == 0 for p in primes):\n",
    "        \n",
    "        # it's a prime\n",
    "        primes.add(n)\n",
    "\n",
    "# convert set to list\n",
    "print(sorted(primes))\n",
    "\n",
    "# primes subset\n",
    "left, right = 100, 1_000\n",
    "\n",
    "primes_subset = [p for p in primes if left <= p <= right]\n",
    "print(f'\\nPrimes between {left:,} and {right:,}:', len(primes_subset))"
   ]
  },
  {
   "cell_type": "code",
   "execution_count": 34,
   "id": "cd9db168",
   "metadata": {},
   "outputs": [
    {
     "name": "stdout",
     "output_type": "stream",
     "text": [
      "\n",
      "Primes between 100,000 and 1,000,000: 68906\n",
      "Wall time: 2.4 s\n"
     ]
    }
   ],
   "source": [
    "%%time\n",
    "# Sieve of Eratosthenes: uses memory to reduce computation\n",
    "\n",
    "primes, nonprimes = set(), set()\n",
    "\n",
    "N = 1_000_000\n",
    "\n",
    "for n in range(2, N+1):\n",
    "    \n",
    "    # if n is not in the set of non-primes\n",
    "    if n not in nonprimes:\n",
    "        \n",
    "        # it's a prime\n",
    "        primes.add(n)\n",
    "        \n",
    "        # add all multiples to non-primes\n",
    "        for m in range(n*2, N+1, n):\n",
    "            nonprimes.add(m)\n",
    "\n",
    "# primes subset\n",
    "left, right = 100_000, 1_000_000\n",
    "\n",
    "primes_subset = [p for p in primes if left <= p <= right]\n",
    "print(f'\\nPrimes between {left:,} and {right:,}:', len(primes_subset))"
   ]
  },
  {
   "cell_type": "code",
   "execution_count": 35,
   "id": "d5862f42",
   "metadata": {
    "scrolled": true
   },
   "outputs": [
    {
     "name": "stdout",
     "output_type": "stream",
     "text": [
      "\n",
      "Primes between 100 and 1,000: 143\n",
      "Wall time: 126 ms\n"
     ]
    }
   ],
   "source": [
    "%%time\n",
    "# \"Lazy\" method for Sieve of Erostophanes\n",
    "# https://www.youtube.com/watch?v=5jwV3zxXc8E\n",
    "\n",
    "def natural(n):\n",
    "    '''\n",
    "    yields natural numbers (recursive)\n",
    "    \n",
    "    parameters\n",
    "    ---\n",
    "    n : int\n",
    "        the first number for the set\n",
    "    '''\n",
    "    yield n\n",
    "    \n",
    "    yield from natural(n+1)\n",
    "    \n",
    "def eros_sieve(s):\n",
    "    '''\n",
    "    yields primes (recursive)\n",
    "    \n",
    "    parameters\n",
    "    ---\n",
    "    s : generator (infinite set) of natural numbers\n",
    "    '''\n",
    "    n = next(s)\n",
    "    yield n\n",
    "    yield from eros_sieve(i for i in s if i%n != 0)\n",
    "    \n",
    "\n",
    "# get result\n",
    "N = 1_000\n",
    "\n",
    "primes = set()\n",
    "s = eros_sieve(natural(2))\n",
    "\n",
    "p = next(s) # generate first prime\n",
    "\n",
    "while p <= N:\n",
    "    primes.add(p)\n",
    "    p = next(s) # generate next prime\n",
    "    \n",
    "    \n",
    "# primes subset\n",
    "left, right = 100, 1_000\n",
    "\n",
    "primes_subset = [p for p in primes if left <= p <= right]\n",
    "print(f'\\nPrimes between {left:,} and {right:,}:', len(primes_subset))"
   ]
  }
 ],
 "metadata": {
  "kernelspec": {
   "display_name": "Python 3",
   "language": "python",
   "name": "python3"
  },
  "language_info": {
   "codemirror_mode": {
    "name": "ipython",
    "version": 3
   },
   "file_extension": ".py",
   "mimetype": "text/x-python",
   "name": "python",
   "nbconvert_exporter": "python",
   "pygments_lexer": "ipython3",
   "version": "3.8.5"
  }
 },
 "nbformat": 4,
 "nbformat_minor": 5
}
