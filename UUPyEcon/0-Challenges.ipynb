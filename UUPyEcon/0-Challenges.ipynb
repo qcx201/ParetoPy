{
 "cells": [
  {
   "cell_type": "markdown",
   "id": "attached-efficiency",
   "metadata": {},
   "source": [
    "# Challenge 1\n",
    "To infinity and beyond 🚀"
   ]
  },
  {
   "cell_type": "markdown",
   "id": "28670d48",
   "metadata": {},
   "source": [
    "**(Warm-Up)**\n",
    "\n",
    "A pizza delivery boy accidentally falls into a cryogenic chamber on New Years Eve, 1999, and is reanimated in the year 3000. \n",
    "\n",
    "At the time of his freezing, he had $0.93 in his bank account. Assuming an average 2.25\\% interest rate compounded annually, how much money will he have in the bank when he wakes up?\n",
    "\n",
    "Double check: https://www.youtube.com/watch?v=6JwkaLt9pf8\n",
    "\n",
    "---"
   ]
  },
  {
   "cell_type": "markdown",
   "id": "462ccf48",
   "metadata": {},
   "source": [
    "**(Challenge)**\n",
    "\n",
    "Suppose a mile is **1.609 km**, and the speed of light is **299,792,458 m/s** in a vacuum. The average distance between the Earth and the Sun is called an astronomical unit, or AU, which is about **92,955,807 miles**. How many **`astronomical units`** are there in a **`light-year`**?\n",
    "\n",
    "Share your solution below! Remember to use\n",
    "\n",
    "> \\```python\n",
    "> \n",
    "> \\# your code here\n",
    "> \n",
    "> \\```\n",
    "\n",
    "to format your code nicely 👌\n",
    "\n",
    "---"
   ]
  },
  {
   "cell_type": "code",
   "execution_count": 7,
   "id": "f7e0b54b",
   "metadata": {},
   "outputs": [
    {
     "name": "stdout",
     "output_type": "stream",
     "text": [
      "4283508449.71\n"
     ]
    }
   ],
   "source": [
    "# warm up\n",
    "principal = 0.93\n",
    "apr = 2.25 / 100\n",
    "t = 1000\n",
    "\n",
    "balance = principal * (1+apr)**t\n",
    "\n",
    "print(round(balance, 2))"
   ]
  },
  {
   "cell_type": "code",
   "execution_count": 39,
   "id": "38550ef0",
   "metadata": {},
   "outputs": [
    {
     "name": "stdout",
     "output_type": "stream",
     "text": [
      "AU per light-year: 63254.598047256135\n"
     ]
    }
   ],
   "source": [
    "c_mps = 299_792_458    # m/s\n",
    "mi_per_au = 92_955_807 # miles\n",
    "km_per_mi = 1.609      # km / mile\n",
    "\n",
    "c_kmps = c_mps / 1000             # km/s\n",
    "km_per_au = mi_per_au * km_per_mi # km\n",
    "\n",
    "# seconds in year: 365.25 days/year x 24 hr/day x 60 m/hr x 60 s/m\n",
    "spy = 365.25 * 24 * 60 * 60 # s/year\n",
    "\n",
    "lyr_km = c_kmps * spy # lyr in km\n",
    "\n",
    "lyr_per_au = lyr_km / km_per_au # result\n",
    "\n",
    "print('AU per light-year:', lyr_per_au)"
   ]
  },
  {
   "cell_type": "markdown",
   "id": "b6dc940d",
   "metadata": {},
   "source": [
    "# Challenge 2\n",
    "999,999,997... 999,999,998... 999,999,999... ⌛"
   ]
  },
  {
   "cell_type": "markdown",
   "id": "widespread-investigator",
   "metadata": {},
   "source": [
    "**(Warm-up)**\n",
    "\n",
    "What is **`1000`** seconds in minutes and seconds? Print it in the format **`mm:ss`**.\n",
    "\n",
    "---"
   ]
  },
  {
   "cell_type": "markdown",
   "id": "individual-reserve",
   "metadata": {},
   "source": [
    "**(Challenge)**\n",
    "\n",
    "One million seconds is equal to __11 days, 13 hours, 46 minutes and 40 seconds__ (according to quora).\n",
    "\n",
    "Print **`one billion seconds`** in years, days, hours, minutes, and seconds.\n",
    "\n",
    "Share your solution below! Remember to use\n",
    "\n",
    "\\`\\`\\`python\n",
    "\n",
    "    \\# your code here\n",
    "\n",
    "\\`\\`\\`\n",
    "\n",
    "\n",
    "to format your code nicely 👌\n",
    "\n",
    "---"
   ]
  },
  {
   "cell_type": "code",
   "execution_count": 1,
   "id": "forbidden-exhibit",
   "metadata": {},
   "outputs": [
    {
     "name": "stdout",
     "output_type": "stream",
     "text": [
      "1000 seconds is equal to 16 m 40 s\n"
     ]
    }
   ],
   "source": [
    "# warm-up\n",
    "\n",
    "t = 1000\n",
    "print(t, \"seconds is equal to\", t//60, \"m\", t%60, \"s\")"
   ]
  },
  {
   "cell_type": "code",
   "execution_count": 2,
   "id": "north-pricing",
   "metadata": {},
   "outputs": [
    {
     "name": "stdout",
     "output_type": "stream",
     "text": [
      "31 years 259 days 1 hours 46 minutes 40 seconds\n"
     ]
    }
   ],
   "source": [
    "# challenge\n",
    "\n",
    "t = int(1e9)\n",
    "\n",
    "# modulo bases: amount of each unit before overflow\n",
    "m_s = 60   # seconds\n",
    "m_mi = 60  # minutes\n",
    "m_hr = 24  # hours\n",
    "m_dy = 365 # days\n",
    "\n",
    "# bases: seconds in each unit denom\n",
    "b_mi = 60 \n",
    "b_hr = b_mi * m_mi # 60 * 60\n",
    "b_dy = b_hr * m_hr # 60 * 60 * 24\n",
    "b_yr = b_dy * m_dy # 60 * 60 * 24 * 30 * 12\n",
    "\n",
    "s = t % m_s\n",
    "mi = (t // b_mi) % m_mi\n",
    "hr = (t // b_hr) % m_hr\n",
    "dy = (t // b_dy) % m_dy\n",
    "yr = t // b_yr\n",
    "\n",
    "print(yr, \"years\", dy, \"days\", hr, \"hours\", mi, \"minutes\" , s, \"seconds\")"
   ]
  },
  {
   "cell_type": "code",
   "execution_count": 3,
   "id": "treated-alliance",
   "metadata": {},
   "outputs": [
    {
     "name": "stdout",
     "output_type": "stream",
     "text": [
      "31 years 1 month 24 day 1 h 46 m 40 s\n"
     ]
    }
   ],
   "source": [
    "# bad version\n",
    "\n",
    "t = int(1e9)\n",
    "\n",
    "# denoms\n",
    "dmi = 60 # minute\n",
    "dh = 60 * dmi # hour\n",
    "dd = 24 * dh # day\n",
    "dmo = 30 * dd # month\n",
    "dy = 365 * dd # year\n",
    "\n",
    "# integers\n",
    "y = t // dy\n",
    "mo = (t // dmo) % 12\n",
    "d = (t // dd) % 30\n",
    "h = (t // dh) % 24\n",
    "mi = (t // dmi) % 60\n",
    "s = t % 60\n",
    "\n",
    "print(y, \"years\", mo, \"month\", d, \"day\", h, \"h\", mi, \"m\" , s, \"s\")"
   ]
  },
  {
   "cell_type": "code",
   "execution_count": 11,
   "id": "bearing-smoke",
   "metadata": {},
   "outputs": [
    {
     "name": "stdout",
     "output_type": "stream",
     "text": [
      "31 years 8 months 15 days 1 hours 46 minutes 40 seconds\n"
     ]
    }
   ],
   "source": [
    "# fixed issue with months\n",
    "\n",
    "t = int(1e9)\n",
    "\n",
    "# modulo bases: amount of each unit before overflow\n",
    "m_s = 60        # seconds\n",
    "m_mi = 60       # minutes\n",
    "m_hr = 24       # hours\n",
    "m_dy = 365 / 12 # months\n",
    "m_mo = 12       # months\n",
    "\n",
    "# bases: seconds in each unit denom\n",
    "b_mi = 60 \n",
    "b_hr = b_mi * m_mi # s/hr : 60 * 60\n",
    "b_dy = b_hr * m_hr # s/dy : 60 * 60 * 24\n",
    "b_mo = b_dy * m_dy # s/mo : 60 * 60 * 24 * 365/12\n",
    "b_yr = b_mo * m_mo # s/yr : 60 * 60 * 24 * 365/12 * 12\n",
    "\n",
    "s = t % m_s\n",
    "mi = int((t // b_mi) % m_mi)\n",
    "hr = int((t // b_hr) % m_hr)\n",
    "dy = int((t // b_dy) % m_dy)\n",
    "mo = int((t // b_mo) % m_mo)\n",
    "yr = int(t // b_yr)\n",
    "\n",
    "print(yr, \"years\", mo, \"months\", dy, \"days\", hr, \"hours\", mi, \"minutes\" , s, \"seconds\")"
   ]
  },
  {
   "cell_type": "code",
   "execution_count": 71,
   "id": "developed-balloon",
   "metadata": {
    "scrolled": true
   },
   "outputs": [
    {
     "name": "stdout",
     "output_type": "stream",
     "text": [
      "a == b: 5299633 of 7880599 (67.25%)\n",
      "a != b: 2580966 of 7880599 (32.75%)\n"
     ]
    }
   ],
   "source": [
    "# let a = (x // y) % z \n",
    "# b = (x % z) // y\n",
    "# is a == b for all x, y, z?\n",
    "\n",
    "s, n = 1, 200\n",
    "eq, neq = 0, 0\n",
    "\n",
    "for x in range(s, n):\n",
    "    for y in range(s, n):\n",
    "        for z in range(s, n):\n",
    "            \n",
    "            b = (x % z) // y\n",
    "            a = (x // y) % z\n",
    "            \n",
    "            if a == b:\n",
    "                eq+=1\n",
    "            else:\n",
    "                neq+=1\n",
    "                \n",
    "#             print('x, y, z =', (x, y, z),\n",
    "#               '\\ta = (x // y) % z =', a,\n",
    "#               '\\tb = (x % z) // y =', b,\n",
    "#               '\\ta == b?', a == b\n",
    "#                  )\n",
    "\n",
    "total = eq + neq\n",
    "print(f'a == b: {eq} of {total} ({100 * eq/total:.2f}%)')\n",
    "print(f'a != b: {neq} of {total} ({100 * neq/total:.2f}%)')"
   ]
  },
  {
   "cell_type": "markdown",
   "id": "communist-pharmacy",
   "metadata": {},
   "source": [
    "# Challenge 3\n",
    "To 1 or not to 1? 💀"
   ]
  },
  {
   "cell_type": "markdown",
   "id": "e9bfa712",
   "metadata": {},
   "source": [
    "**(Warm-up)**\n",
    "\n",
    "Given a string that tells 24-hr time*, convert it to a string that tells 12-hr time.\n",
    "```python\n",
    "# for example, if\n",
    "t_24h = \"23:45\"\n",
    "\n",
    "# then your result should be\n",
    "t_12h = # \"11:45\"\n",
    "\n",
    "print (t_12h)\n",
    "```\n",
    "*Assume the hour is zero-padded, e.g. \"01:00\" instead of \"1:00\".\n",
    "\n",
    "---"
   ]
  },
  {
   "cell_type": "markdown",
   "id": "proved-ukraine",
   "metadata": {},
   "source": [
    "From [Wikipedia](https://en.wikipedia.org/wiki/Drake_equation):\n",
    "\n",
    "The Drake equation is:\n",
    "\n",
    "$$ N = R_{*} \\cdot f_p \\cdot n_e \\cdot f_l \\cdot f_i \\cdot f_c \\cdot L$$\n",
    "\n",
    "where:\n",
    "\n",
    "* $N$ = the number of civilizations in our galaxy with which communication might be possible (i.e. which are on our current past light cone);\n",
    "\n",
    "and\n",
    "\n",
    "* $R_*$ = the average rate of star formation in our Galaxy (1.5–3 stars per year)\n",
    "* $f_p$ = the fraction of those stars that have planets (around 1.0)\n",
    "* $n_e$ = the average number of planets that can potentially support life per star that has planets ()\n",
    "* $f_l$ = the fraction of planets that could support life that actually develop life at some point\n",
    "* $f_i$ = the fraction of planets with life that actually go on to develop intelligent life (civilizations)\n",
    "* $f_c$ = the fraction of civilizations that develop a technology that releases detectable signs of their existence into space\n",
    "* $L$ = the length of time for which such civilizations release detectable signals into space"
   ]
  },
  {
   "cell_type": "code",
   "execution_count": null,
   "id": "supreme-musician",
   "metadata": {},
   "outputs": [],
   "source": []
  }
 ],
 "metadata": {
  "kernelspec": {
   "display_name": "Python 3",
   "language": "python",
   "name": "python3"
  },
  "language_info": {
   "codemirror_mode": {
    "name": "ipython",
    "version": 3
   },
   "file_extension": ".py",
   "mimetype": "text/x-python",
   "name": "python",
   "nbconvert_exporter": "python",
   "pygments_lexer": "ipython3",
   "version": "3.9.4"
  }
 },
 "nbformat": 4,
 "nbformat_minor": 5
}
